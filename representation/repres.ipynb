{
 "cells": [
  {
   "cell_type": "code",
   "execution_count": 1,
   "metadata": {},
   "outputs": [
    {
     "data": {
      "text/plain": [
       "<torch._C.Generator at 0x10fd33570>"
      ]
     },
     "execution_count": 1,
     "metadata": {},
     "output_type": "execute_result"
    }
   ],
   "source": [
    "import torch\n",
    "from torch import nn\n",
    "from torch.autograd import Variable\n",
    "import torchvision.datasets as dsets\n",
    "import torchvision.transforms as transforms\n",
    "import matplotlib.pyplot as plt\n",
    "from LSTM import *\n",
    "import pandas as pd\n",
    "import numpy as np\n",
    "import torch.utils.data as utils\n",
    "import time\n",
    "import os\n",
    "import pickle\n",
    "\n",
    "import pdb\n",
    "\n",
    "# For the notebook\n",
    "%matplotlib inline\n",
    "%reload_ext autoreload\n",
    "%autoreload 2\n",
    "\n",
    "torch.manual_seed(1)"
   ]
  },
  {
   "cell_type": "code",
   "execution_count": 2,
   "metadata": {},
   "outputs": [],
   "source": [
    "gt_test_coord_1 = pickle.load( open( \"../import_dataset_2/test/gt_test_coord_1.pkl\", \"rb\" ) )\n",
    "in_test_coord_1 = pickle.load( open( \"../import_dataset_2/test/in_test_coord_1.pkl\", \"rb\" ) )\n",
    "inputs_test_1 = pickle.load( open( \"../import_dataset_2/test/inputs_test_1.pkl\", \"rb\" ) )\n",
    "\n",
    "gt_test_coord_2 = pickle.load( open( \"../import_dataset_2/test/gt_test_coord_2.pkl\", \"rb\" ) )\n",
    "in_test_coord_2 = pickle.load( open( \"../import_dataset_2/test/in_test_coord_2.pkl\", \"rb\" ) )\n",
    "inputs_test_2 = pickle.load( open( \"../import_dataset_2/test/inputs_test_2.pkl\", \"rb\" ) )\n",
    "\n",
    "gt_test_coord_3 = pickle.load( open( \"../import_dataset_2/test/gt_test_coord_3.pkl\", \"rb\" ) )\n",
    "in_test_coord_3 = pickle.load( open( \"../import_dataset_2/test/in_test_coord_3.pkl\", \"rb\" ) )\n",
    "inputs_test_3 = pickle.load( open( \"../import_dataset_2/test/inputs_test_3.pkl\", \"rb\" ) )\n",
    "\n",
    "inputs_linear = np.concatenate((inputs_test_1[:,:,:2],\n",
    "                              inputs_test_2[:,:,:2],inputs_test_3[:,:,:2]),axis=1)\n",
    "inputs_test_1 = inputs_test_1[:,:,2:]\n",
    "inputs_test_2 = inputs_test_2[:,:,2:]\n",
    "inputs_test_3 = inputs_test_3[:,:,2:]\n",
    "\n",
    "inputs_speed = np.concatenate((inputs_test_1,inputs_test_2,inputs_test_3),axis=1)\n",
    "in_coord = np.concatenate((in_test_coord_1,in_test_coord_2,in_test_coord_3),axis=1)\n",
    "gt_coord = np.concatenate((gt_test_coord_1,gt_test_coord_2,gt_test_coord_3),axis=1)\n",
    "inputs_speed = torch.from_numpy(inputs_speed).float()\n"
   ]
  },
  {
   "cell_type": "markdown",
   "metadata": {},
   "source": [
    "## BEST LSTM"
   ]
  },
  {
   "cell_type": "code",
   "execution_count": 4,
   "metadata": {},
   "outputs": [],
   "source": [
    "full_lstm = LSTM(input_size = inputs_test_1.shape[2], output_size = 2,\n",
    "                 num_layers=2, hidden_size=128)\n",
    "full_lstm.load_state_dict(torch.load('../model_rodolphe/model_results/speed_2.pt'))\n",
    "\n",
    "output_tmp = full_lstm.predict(inputs_speed)\n",
    "output_tmp = output_tmp.data.numpy()\n",
    "\n",
    "output_speed=np.zeros([11,inputs_speed.shape[1],2])\n",
    "for j in range(11):\n",
    "    for i in range(inputs_speed.shape[1]):\n",
    "        if j==0:\n",
    "            output_speed[j,i,:] = in_coord[9,i,:]\n",
    "        else:\n",
    "            output_speed[j,i,:] = output_speed[j-1,i,:]+output_tmp[j-1,i,:]*0.4"
   ]
  },
  {
   "cell_type": "markdown",
   "metadata": {},
   "source": [
    "## BEST CNN"
   ]
  },
  {
   "cell_type": "markdown",
   "metadata": {},
   "source": [
    "## LINEAR"
   ]
  },
  {
   "cell_type": "code",
   "execution_count": 5,
   "metadata": {},
   "outputs": [],
   "source": [
    "def linearpred(inputs):\n",
    "    output_coord = np.zeros((inputs.shape[0]+1,\n",
    "                             inputs.shape[1],inputs.shape[2]))\n",
    "    output_coord[0,:,:]=inputs[9,:,:]\n",
    "    for i in range(inputs.shape[1]):\n",
    "        if (inputs[9,i,0]-inputs[8,i,0])==0:\n",
    "            output_coord[1:,i,0] =inputs[9,i,0]*np.ones(10)\n",
    "            diff = inputs[9,i,1]-inputs[8,i,1]\n",
    "            output_coord[1:,i,0] = range(10)*diff+inputs[9,i,1]\n",
    "        else:\n",
    "            slope = (inputs[9,i,1]-inputs[8,i,1])/(inputs[9,i,0]-inputs[8,i,0])\n",
    "            ordor = inputs[9,i,1] - slope*inputs[9,i,0]\n",
    "            diff = inputs[9,i,0] - inputs[8,i,0]\n",
    "            output_coord[1:,i,0] = range(10)*diff+inputs[9,i,0]\n",
    "            output_coord[1:,i,1] = slope*output_coord[1:,i,0]+ordor\n",
    "    return output_coord\n",
    "\n",
    "output_linear = linearpred(inputs_linear)"
   ]
  },
  {
   "cell_type": "code",
   "execution_count": 108,
   "metadata": {},
   "outputs": [
    {
     "data": {
      "text/plain": [
       "(-1.407586294, 0.21957845399999998, -0.3975624428138275, 8.348811299090377)"
      ]
     },
     "execution_count": 108,
     "metadata": {},
     "output_type": "execute_result"
    },
    {
     "data": {
      "image/png": "[encoded data removed]",
      "text/plain": [
       "<matplotlib.figure.Figure at 0x119e0df60>"
      ]
     },
     "metadata": {},
     "output_type": "display_data"
    }
   ],
   "source": [
    "plt.figure(figsize=(12, 7))\n",
    "plt.rc('font', family='serif')\n",
    "plt.rc('font', size=20)\n",
    "\n",
    "ind = 1500\n",
    "\n",
    "plt.plot(in_coord[:,ind,0],in_coord[:,ind,1],c='b',marker='.')\n",
    "plt.plot(gt_coord[:,ind,0],gt_coord[:,ind,1],c='k',marker='.')\n",
    "plt.plot(output_speed[:,ind,0],output_speed[:,ind,1],c='r',marker='.')\n",
    "plt.plot(output_linear[:,ind,0],output_linear[:,ind,1],c='c',marker='.')\n",
    "plt.axis('equal')"
   ]
  },
  {
   "cell_type": "code",
   "execution_count": 8,
   "metadata": {},
   "outputs": [
    {
     "data": {
      "text/plain": [
       "(20, 1718, 136)"
      ]
     },
     "execution_count": 8,
     "metadata": {},
     "output_type": "execute_result"
    }
   ],
   "source": [
    "inputs_dyn = pickle.load( open( \"../import_dataset_3/inputs_dyn_plot.pkl\", \"rb\" ) )\n",
    "inputs_dyn.shape"
   ]
  },
  {
   "cell_type": "code",
   "execution_count": 109,
   "metadata": {},
   "outputs": [],
   "source": [
    "def makeDynamicPlot(index_traj):\n",
    "    \"\"\"\n",
    "    :param i: i is an index from 0 to number_traj and goes into unique_id to find the id\n",
    "    :return: display a dynamic plot with trajectory i and the interacting traj\n",
    "    \"\"\"\n",
    "\n",
    "    # Previous interaction\n",
    "    traj = inputs_dyn[:,index_traj,:]\n",
    "    ## Initialization of the plot#\n",
    "    fig = plt.figure(figsize=(12, 7))\n",
    "\n",
    "    ax1 = plt.axes(xlim=(-5, 5), ylim=(-1, 9))\n",
    "    line, = ax1.plot([], [], marker='+')\n",
    "    \n",
    "    id_tmp = np.int(traj.shape[1]/2-1)\n",
    "    surround={}\n",
    "    index_s=0\n",
    "    for w in range(id_tmp):\n",
    "        if sum(sum((traj[:,(w+1)*2:(w+2)*2])!=0))>4:\n",
    "            surround[index_s] = traj[:,(w+1)*2:(w+2)*2]\n",
    "            index_s+=1\n",
    "\n",
    "    # Creation of a dictionary with all interacting trajectories\n",
    "    x_int, y_int = [], []\n",
    "    x_gt, y_gt = [], []\n",
    "    x_speed, y_speed = [], []\n",
    "    dictio = {}\n",
    "    for j in range(len(surround)):\n",
    "        dictio['x%s' % j] = []\n",
    "        dictio['y%s' % j] = []\n",
    "        dictio['tmp%s' % j] = surround[j]\n",
    "        \n",
    "\n",
    "    ## Plot initialization #2\n",
    "    mar = ['o','o','o']\n",
    "    col = ['b','k','r']\n",
    "    alph = [1, 1, 1]\n",
    "    lines = []\n",
    "    for index in range(3+ len(surround)):\n",
    "        if index < 3:\n",
    "            lobj = ax1.plot([], [], marker=mar[index], color=col[index], alpha=alph[index])[0]\n",
    "        else:\n",
    "            lobj = ax1.plot([], [],linestyle='--',c='k',alpha=0.6,marker='.')[0]\n",
    "        lines.append(lobj)\n",
    "\n",
    "    # Initialization\n",
    "    def init():\n",
    "        for line in lines:\n",
    "            line.set_data([], [])\n",
    "        return lines\n",
    "\n",
    "    # Create the animation\n",
    "    def animate(i):\n",
    "        label = 'timestep {0}'.format(i)\n",
    "        if i < 10:\n",
    "            xbis = traj[i,0]\n",
    "            ybis = traj[i,1]\n",
    "            x_int.append(xbis)\n",
    "            y_int.append(ybis)\n",
    "            if i==9:\n",
    "                xbis = traj[i,0]\n",
    "                ybis = traj[i,1]\n",
    "                x_gt.append(xbis)\n",
    "                y_gt.append(ybis)\n",
    "                xbis2 = output_speed[i-9,index_traj,0]\n",
    "                ybis2 = output_speed[i-9,index_traj,1]\n",
    "                x_speed.append(xbis2)\n",
    "                y_speed.append(ybis2)\n",
    "        else:\n",
    "            xbis = traj[i,0]\n",
    "            ybis = traj[i,1]\n",
    "            x_gt.append(xbis)\n",
    "            y_gt.append(ybis)\n",
    "            xbis2 = output_speed[i-9,index_traj,0]\n",
    "            ybis2 = output_speed[i-9,index_traj,1]\n",
    "            x_speed.append(xbis2)\n",
    "            y_speed.append(ybis2)\n",
    "        for j in range(len(surround)):\n",
    "            if sum(dictio['tmp%s' % j][i,:])!=0:\n",
    "                dictio['x%s' % j].append(dictio['tmp%s' % j][i,0])\n",
    "                dictio['y%s' % j].append(dictio['tmp%s' % j][i,1])\n",
    "\n",
    "        xlist = [x_int,x_gt,x_speed]\n",
    "        ylist = [y_int,y_gt,y_speed]\n",
    "        for j in range(len(surround)):\n",
    "            xlist.append(dictio['x%s' % j])\n",
    "            ylist.append(dictio['y%s' % j])\n",
    "\n",
    "        ax1.set_xlabel(label)\n",
    "\n",
    "        for lnum, line in enumerate(lines):\n",
    "            line.set_data(xlist[lnum], ylist[lnum])  # set data for each line separately.\n",
    "\n",
    "        return lines\n",
    "\n",
    "    # Create animation\n",
    "    anim = animation.FuncAnimation(fig, animate, init_func=init, frames=20, interval=500, blit=True)\n",
    "\n",
    "    # Save animation\n",
    "    Writer = animation.writers['imagemagick']\n",
    "    writer = Writer()\n",
    "    anim.save(r'./dyn_test.gif', writer=writer, dpi=128)"
   ]
  },
  {
   "cell_type": "code",
   "execution_count": 110,
   "metadata": {},
   "outputs": [
    {
     "data": {
      "image/png": "[encoded data removed]",
      "text/plain": [
       "<matplotlib.figure.Figure at 0x119e596a0>"
      ]
     },
     "metadata": {},
     "output_type": "display_data"
    }
   ],
   "source": [
    "from matplotlib.animation import FuncAnimation\n",
    "from matplotlib import animation, rc\n",
    "makeDynamicPlot(1500)\n"
   ]
  },
  {
   "cell_type": "code",
   "execution_count": 101,
   "metadata": {},
   "outputs": [
    {
     "data": {
      "text/plain": [
       "(11, 2)"
      ]
     },
     "execution_count": 101,
     "metadata": {},
     "output_type": "execute_result"
    }
   ],
   "source": [
    "output_speed[:,1500,:].shape"
   ]
  },
  {
   "cell_type": "code",
   "execution_count": null,
   "metadata": {},
   "outputs": [],
   "source": []
  }
 ],
 "metadata": {
  "kernelspec": {
   "display_name": "Python 3",
   "language": "python",
   "name": "python3"
  },
  "language_info": {
   "codemirror_mode": {
    "name": "ipython",
    "version": 3
   },
   "file_extension": ".py",
   "mimetype": "text/x-python",
   "name": "python",
   "nbconvert_exporter": "python",
   "pygments_lexer": "ipython3",
   "version": "3.6.4"
  }
 },
 "nbformat": 4,
 "nbformat_minor": 2
}
