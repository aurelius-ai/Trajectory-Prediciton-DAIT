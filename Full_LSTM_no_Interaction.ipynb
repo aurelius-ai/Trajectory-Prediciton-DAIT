{
 "cells": [
  {
   "cell_type": "code",
   "execution_count": 1,
   "metadata": {},
   "outputs": [
    {
     "data": {
      "text/plain": [
       "<torch._C.Generator at 0x10c53f4d0>"
      ]
     },
     "execution_count": 1,
     "metadata": {},
     "output_type": "execute_result"
    }
   ],
   "source": [
    "import torch\n",
    "from torch import nn\n",
    "from torch.autograd import Variable\n",
    "import torchvision.datasets as dsets\n",
    "import torchvision.transforms as transforms\n",
    "import matplotlib.pyplot as plt\n",
    "from LSTM import *\n",
    "from LSTMbis import *\n",
    "import pandas as pd\n",
    "import numpy as np\n",
    "import torch.utils.data as utils\n",
    "import time\n",
    "import os\n",
    "import pickle\n",
    "\n",
    "import pdb\n",
    "\n",
    "# For the notebook\n",
    "%matplotlib inline\n",
    "%reload_ext autoreload\n",
    "%autoreload 2\n",
    "\n",
    "torch.manual_seed(1)"
   ]
  },
  {
   "cell_type": "markdown",
   "metadata": {},
   "source": [
    "## TRAIN SET"
   ]
  },
  {
   "cell_type": "code",
   "execution_count": 2,
   "metadata": {},
   "outputs": [
    {
     "data": {
      "text/plain": [
       "((11, 5157, 2),\n",
       " torch.Size([5157, 11, 4]),\n",
       " (10, 5157, 2),\n",
       " torch.Size([5157, 10, 4]))"
      ]
     },
     "execution_count": 2,
     "metadata": {},
     "output_type": "execute_result"
    }
   ],
   "source": [
    "gt_train_coord = pickle.load( open( \"./import_dataset/train/gt_train_coord.pkl\", \"rb\" ) )\n",
    "gt_train  = pickle.load( open( \"./import_dataset/train/gt_train.pkl\", \"rb\" ) )\n",
    "in_train_coord  = pickle.load( open( \"./import_dataset/train/in_train_coord.pkl\", \"rb\" ) )\n",
    "inputs_train = pickle.load( open( \"./import_dataset/train/inputs_train.pkl\", \"rb\" ) )\n",
    "\n",
    "### remove interaction\n",
    "inputs_train=inputs_train[:,:,:4]\n",
    "\n",
    "inputs_train = torch.from_numpy(inputs_train).float()\n",
    "gt_train = torch.from_numpy(gt_train).float()\n",
    "gt_train_coord.shape,gt_train.shape,in_train_coord.shape,inputs_train.shape"
   ]
  },
  {
   "cell_type": "markdown",
   "metadata": {},
   "source": [
    "## VALIDATION SET"
   ]
  },
  {
   "cell_type": "code",
   "execution_count": 3,
   "metadata": {},
   "outputs": [],
   "source": [
    "gt_validation_coord = pickle.load( open( \"./import_dataset/validation/gt_validation_coord.pkl\", \"rb\" ) )\n",
    "gt_validation = pickle.load( open( \"./import_dataset/validation/gt_validation.pkl\", \"rb\" ) )\n",
    "in_validation_coord = pickle.load( open( \"./import_dataset/validation/in_validation_coord.pkl\", \"rb\" ) )\n",
    "inputs_validation = pickle.load( open( \"./import_dataset/validation/inputs_validation.pkl\", \"rb\" ) )\n",
    "\n",
    "### remove interaction\n",
    "inputs_validation = inputs_validation[:,:,:4]\n",
    "\n",
    "inputs_validation = torch.from_numpy(inputs_validation).float()\n",
    "gt_validation = torch.from_numpy(gt_validation).float()"
   ]
  },
  {
   "cell_type": "markdown",
   "metadata": {},
   "source": [
    "## TEST SET"
   ]
  },
  {
   "cell_type": "code",
   "execution_count": 4,
   "metadata": {},
   "outputs": [],
   "source": [
    "gt_test_coord_1 = pickle.load( open( \"./import_dataset/test/gt_test_coord_1.pkl\", \"rb\" ) )\n",
    "gt_test_1 = pickle.load( open( \"./import_dataset/test/gt_test_1.pkl\", \"rb\" ) )\n",
    "in_test_coord_1 = pickle.load( open( \"./import_dataset/test/in_test_coord_1.pkl\", \"rb\" ) )\n",
    "inputs_test_1 = pickle.load( open( \"./import_dataset/test/inputs_test_1.pkl\", \"rb\" ) )\n",
    "\n",
    "gt_test_coord_2 = pickle.load( open( \"./import_dataset/test/gt_test_coord_2.pkl\", \"rb\" ) )\n",
    "gt_test_2 = pickle.load( open( \"./import_dataset/test/gt_test_2.pkl\", \"rb\" ) )\n",
    "in_test_coord_2 = pickle.load( open( \"./import_dataset/test/in_test_coord_2.pkl\", \"rb\" ) )\n",
    "inputs_test_2 = pickle.load( open( \"./import_dataset/test/inputs_test_2.pkl\", \"rb\" ) )\n",
    "\n",
    "gt_test_coord_3 = pickle.load( open( \"./import_dataset/test/gt_test_coord_3.pkl\", \"rb\" ) )\n",
    "gt_test_3 = pickle.load( open( \"./import_dataset/test/gt_test_3.pkl\", \"rb\" ) )\n",
    "in_test_coord_3 = pickle.load( open( \"./import_dataset/test/in_test_coord_3.pkl\", \"rb\" ) )\n",
    "inputs_test_3 = pickle.load( open( \"./import_dataset/test/inputs_test_3.pkl\", \"rb\" ) )\n",
    "\n",
    "### remove interaction\n",
    "inputs_test_1 = inputs_test_1[:,:,:4]\n",
    "inputs_test_2 = inputs_test_2[:,:,:4]\n",
    "inputs_test_3 = inputs_test_3[:,:,:4]\n",
    "\n",
    "inputs_test_1 = torch.from_numpy(inputs_test_1).float()\n",
    "gt_test_1 = torch.from_numpy(gt_test_1).float()\n",
    "\n",
    "inputs_test_2 = torch.from_numpy(inputs_test_2).float()\n",
    "gt_test_2 = torch.from_numpy(gt_test_2).float()\n",
    "\n",
    "inputs_test_3 = torch.from_numpy(inputs_test_3).float()\n",
    "gt_test_3 = torch.from_numpy(gt_test_3).float()"
   ]
  },
  {
   "cell_type": "code",
   "execution_count": 5,
   "metadata": {},
   "outputs": [],
   "source": [
    "from torch import optim\n",
    "\n",
    "lr = 0.01\n",
    "lstm = LSTM(4,4,num_layers=2,hidden_size=128)\n",
    "optimizer = optim.SGD(lstm.parameters(), lr=lr)\n",
    "criterion = nn.MSELoss()"
   ]
  },
  {
   "cell_type": "code",
   "execution_count": null,
   "metadata": {
    "scrolled": false
   },
   "outputs": [
    {
     "name": "stderr",
     "output_type": "stream",
     "text": [
      "/Users/rodolphefarrando/anaconda3/lib/python3.6/site-packages/ipykernel_launcher.py:55: UserWarning: invalid index of a 0-dim tensor. This will be an error in PyTorch 0.5. Use tensor.item() to convert a 0-dim tensor to a Python number\n",
      "/Users/rodolphefarrando/anaconda3/lib/python3.6/site-packages/ipykernel_launcher.py:56: UserWarning: invalid index of a 0-dim tensor. This will be an error in PyTorch 0.5. Use tensor.item() to convert a 0-dim tensor to a Python number\n",
      "/Users/rodolphefarrando/anaconda3/lib/python3.6/site-packages/ipykernel_launcher.py:62: UserWarning: volatile was removed and now has no effect. Use `with torch.no_grad():` instead.\n",
      "/Users/rodolphefarrando/anaconda3/lib/python3.6/site-packages/ipykernel_launcher.py:64: UserWarning: invalid index of a 0-dim tensor. This will be an error in PyTorch 0.5. Use tensor.item() to convert a 0-dim tensor to a Python number\n"
     ]
    },
    {
     "name": "stdout",
     "output_type": "stream",
     "text": [
      "Epoch: 1/50.. Validation loss: 1.1808.. Training loss: 8.2047.. 0.0565 s/batch\n",
      "Epoch: 2/50.. Validation loss: 0.9371.. Training loss: 3.8743.. 0.0514 s/batch\n",
      "Epoch: 3/50.. Validation loss: 0.8507.. Training loss: 3.0774.. 0.0484 s/batch\n",
      "Epoch: 4/50.. Validation loss: 0.9192.. Training loss: 2.9039.. 0.0482 s/batch\n",
      "Epoch: 5/50.. Validation loss: 0.9020.. Training loss: 2.8397.. 0.0481 s/batch\n",
      "Epoch: 6/50.. Validation loss: 0.9308.. Training loss: 2.7437.. 0.0468 s/batch\n",
      "Epoch: 7/50.. Validation loss: 1.1461.. Training loss: 2.7098.. 0.0466 s/batch\n",
      "Epoch: 8/50.. Validation loss: 0.9303.. Training loss: 2.6771.. 0.0468 s/batch\n",
      "Epoch: 9/50.. Validation loss: 0.9385.. Training loss: 2.6543.. 0.0514 s/batch\n",
      "Epoch: 10/50.. Validation loss: 0.9132.. Training loss: 2.6152.. 0.0537 s/batch\n",
      "Epoch: 11/50.. Validation loss: 0.9057.. Training loss: 2.6175.. 0.0487 s/batch\n",
      "Epoch: 12/50.. Validation loss: 0.9069.. Training loss: 2.6065.. 0.0470 s/batch\n",
      "Epoch: 13/50.. Validation loss: 0.8945.. Training loss: 2.5950.. 0.0490 s/batch\n",
      "Epoch: 14/50.. Validation loss: 0.8962.. Training loss: 2.5942.. 0.0486 s/batch\n",
      "Epoch: 15/50.. Validation loss: 0.8859.. Training loss: 2.5726.. 0.0459 s/batch\n",
      "Epoch: 16/50.. Validation loss: 0.8925.. Training loss: 2.5713.. 0.0511 s/batch\n",
      "Epoch: 17/50.. Validation loss: 0.8867.. Training loss: 2.5766.. 0.0581 s/batch\n",
      "Epoch: 18/50.. Validation loss: 0.8837.. Training loss: 2.5630.. 0.0576 s/batch\n",
      "Epoch: 19/50.. Validation loss: 0.8733.. Training loss: 2.5460.. 0.0605 s/batch\n",
      "Epoch: 20/50.. Validation loss: 0.8750.. Training loss: 2.5392.. 0.0493 s/batch\n",
      "Epoch: 21/50.. Validation loss: 0.8699.. Training loss: 2.5299.. 0.0523 s/batch\n",
      "Epoch: 22/50.. Validation loss: 0.8701.. Training loss: 2.5384.. 0.0442 s/batch\n",
      "Epoch: 23/50.. Validation loss: 0.8657.. Training loss: 2.5387.. 0.0440 s/batch\n",
      "Epoch: 24/50.. Validation loss: 0.8631.. Training loss: 2.5346.. 0.0436 s/batch\n",
      "Epoch: 25/50.. Validation loss: 0.8673.. Training loss: 2.5268.. 0.0437 s/batch\n",
      "Epoch: 26/50.. Validation loss: 0.8687.. Training loss: 2.5227.. 0.0451 s/batch\n",
      "Epoch: 27/50.. Validation loss: 0.8616.. Training loss: 2.5289.. 0.0441 s/batch\n",
      "Epoch: 28/50.. Validation loss: 0.8609.. Training loss: 2.5181.. 0.0439 s/batch\n",
      "Epoch: 29/50.. Validation loss: 0.8542.. Training loss: 2.5170.. 0.0652 s/batch\n",
      "Epoch: 30/50.. Validation loss: 0.8566.. Training loss: 2.5163.. 0.0478 s/batch\n"
     ]
    }
   ],
   "source": [
    "traindataset = utils.TensorDataset(inputs_train, gt_train[:,1:,:])\n",
    "trainloader = utils.DataLoader(traindataset, batch_size=16, shuffle=True)\n",
    "\n",
    "valdataset = utils.TensorDataset(inputs_validation, gt_validation[:,1:,:])\n",
    "valloader = utils.DataLoader(valdataset, batch_size=16, shuffle=True)\n",
    "\n",
    "epochs = 50\n",
    "steps = 0\n",
    "print_every = 323\n",
    "running_loss = 0 #### DOD\n",
    "\n",
    "loss_train = []\n",
    "loss_val = []\n",
    "for e in range(epochs):\n",
    "    start = time.time()\n",
    "    total_train_loss=0\n",
    "    steps_bis = 0\n",
    "    if (e+1)%10==0:\n",
    "        lr /= 5\n",
    "        optimizer = optim.SGD(lstm.parameters(), lr=lr)\n",
    "\n",
    "    for train_coord, ground_tru in iter(trainloader):\n",
    "        steps += 1\n",
    "        steps_bis+=1\n",
    "        \n",
    "        train_coord = train_coord.permute([1,0,2])\n",
    "        ground_tru = ground_tru.permute([1,0,2])\n",
    "\n",
    "        in_train = Variable(train_coord)\n",
    "        targets = Variable(ground_tru)\n",
    "        optimizer.zero_grad()\n",
    "        #print(in_train.shape)\n",
    "        #print(targets.shape)\n",
    "        out = lstm.forward(in_train)\n",
    "        out_bis = out[:,:,0:2].clone()\n",
    "        #print(out_bis.shape)    \n",
    "        for i in range(10):\n",
    "            if i == 0:\n",
    "                out_bis[i, :, 0:2] = in_train[-1, :, 0:2] + out[i, :, 2:]*0.4\n",
    "            else:\n",
    "                out_bis[i, :, 0:2] = out[i - 1, :, 0:2] + out[i, :, 2:]*0.4\n",
    "        #pdb.set_trace()\n",
    "        loss1 = (criterion(out[:,:,0:2], targets[:,:,0:2]))\n",
    "        loss2 = (criterion(out[:,:,2:], targets[:,:,2:]))\n",
    "        loss3 = criterion(out_bis, targets[:,:,0:2])\n",
    "        #loss4 = 5*criterion(out[0,:,2:], targets[0,:,2:])\n",
    "                                #+ 10*criterion(out_bis[-1,:,:], targets[-1,:,0:2]) \n",
    "                                #+ 10*criterion(out_bis[0,:,:], targets[0,:,0:2]))\n",
    "        loss1.backward(retain_graph=True)\n",
    "        loss2.backward(retain_graph=True)\n",
    "        loss3.backward(retain_graph=True)\n",
    "        #loss4.backward()\n",
    "        optimizer.step()\n",
    "        \n",
    "        running_loss += (loss1+loss2+loss3).data[0]\n",
    "        total_train_loss += (loss1+loss2+loss3).data[0]\n",
    "    \n",
    "        if steps % print_every == 0:\n",
    "                stop = time.time()\n",
    "                val_loss=0\n",
    "                for ii, (valcoord, valgt) in enumerate(valloader):\n",
    "                    inputs = Variable(valcoord, volatile=True)\n",
    "                    predicted = lstm.predict(inputs)\n",
    "                    val_loss+= criterion(predicted,valgt).data[0]\n",
    "                    \n",
    "                print(\"Epoch: {}/{}..\".format(e+1, epochs),\n",
    "                  \"Validation loss: {:.4f}..\".format(val_loss/ii),\n",
    "                  \"Training loss: {:.4f}..\".format(running_loss/print_every),\n",
    "                  \"{:.4f} s/batch\".format((stop - start)/print_every)\n",
    "                 )\n",
    "                loss_val.append(val_loss/ii)\n",
    "                running_loss = 0\n",
    "                start = time.time()\n",
    "    loss_train.append(total_train_loss/steps_bis)"
   ]
  },
  {
   "cell_type": "code",
   "execution_count": null,
   "metadata": {},
   "outputs": [],
   "source": [
    "epoch = np.arange(1,epochs+1)\n",
    "plt.figure(figsize=(12, 7))\n",
    "plt.rc('font', family='serif')\n",
    "plt.rc('font', size=20)\n",
    "\n",
    "plt.plot(epoch,loss_train,label='Training loss')\n",
    "plt.plot(epoch,loss_val,c='k',label='Validation loss')\n",
    "plt.xlabel('epoch')\n",
    "plt.ylabel('MSE error')\n",
    "plt.legend()"
   ]
  },
  {
   "cell_type": "code",
   "execution_count": null,
   "metadata": {},
   "outputs": [],
   "source": [
    "output_test_1 = lstm.predict(inputs_test_1)\n",
    "output_test_1 = output_test.data.numpy()"
   ]
  },
  {
   "cell_type": "code",
   "execution_count": null,
   "metadata": {},
   "outputs": [],
   "source": [
    "output_test_2 = lstm.predict(inputs_test_2)\n",
    "output_test_2 = output_test.data.numpy()"
   ]
  },
  {
   "cell_type": "code",
   "execution_count": null,
   "metadata": {},
   "outputs": [],
   "source": [
    "output_test_3 = lstm.predict(inputs_test_3)\n",
    "output_test_3 = output_test.data.numpy()"
   ]
  },
  {
   "cell_type": "markdown",
   "metadata": {},
   "source": [
    "## Post processing step\n",
    "Go back to coordinate:\n",
    "We have Vx and Vy and we want x and y.\n",
    "$ V = d/t$\n",
    "$ d = V*t$\n",
    "Here t = 0.4s between each point.\n",
    "Start from data at index 9. Then we add d_x and d_y to the last x and y."
   ]
  },
  {
   "cell_type": "markdown",
   "metadata": {},
   "source": [
    "##### Type 1 trajectory"
   ]
  },
  {
   "cell_type": "code",
   "execution_count": null,
   "metadata": {},
   "outputs": [],
   "source": [
    "output_coord_1=np.zeros([11,inputs_test_1.shape[1],2])\n",
    "for j in range(11):\n",
    "    for i in range(inputs_test_1.shape[1]):\n",
    "        if j==0:\n",
    "            output_coord_1[j,i,0:2] = in_test_coord_1[9,i,0:2]\n",
    "        else:\n",
    "            output_coord_1[j,i,0:2] = output_coord_1[j-1,i,0:2]+output_test_1[j-1,i,2:]*0.4\n",
    "        "
   ]
  },
  {
   "cell_type": "code",
   "execution_count": null,
   "metadata": {},
   "outputs": [],
   "source": [
    "dist = np.zeros(inputs_test_1.shape[1])\n",
    "for i in range(len(data_test)):\n",
    "    dist[i] = np.sqrt(sum((gt_test_coord[10,i,:]-output_coord[10,i,:])**2))\n",
    "\n",
    "final_coord_error = np.mean(dist)\n",
    "print('The final distance between the ground trought and the predicted coordinates is :',final_coord_error.round(3))"
   ]
  },
  {
   "cell_type": "code",
   "execution_count": null,
   "metadata": {},
   "outputs": [],
   "source": [
    "avr = np.zeros((inputs_test_1.shape[1],11))\n",
    "for i in range(inputs_test_1.shape[1]):\n",
    "    for j in range(11):\n",
    "        avr[i,j] = np.sqrt(sum((gt_test_coord[j,i,:]-output_coord[j,i,:])**2))\n",
    "\n",
    "average = np.mean(np.mean(avr,1))\n",
    "print('The average error between the ground trought and the predicted coordinates is :',average.round(3))"
   ]
  },
  {
   "cell_type": "markdown",
   "metadata": {},
   "source": [
    "##### Type 2 trajectory"
   ]
  },
  {
   "cell_type": "code",
   "execution_count": null,
   "metadata": {},
   "outputs": [],
   "source": [
    "output_coord_2=np.zeros([11,inputs_test_2.shape[1],2])\n",
    "for j in range(11):\n",
    "    for i in range(inputs_test_2.shape[1]):\n",
    "        if j==0:\n",
    "            output_coord_2[j,i,0:2] = in_test_coord_2[9,i,0:2]\n",
    "        else:\n",
    "            output_coord_2[j,i,0:2] = output_coord_2[j-1,i,0:2]+output_test_2[j-1,i,2:]*0.4\n",
    "        "
   ]
  },
  {
   "cell_type": "code",
   "execution_count": null,
   "metadata": {},
   "outputs": [],
   "source": [
    "dist = np.zeros(inputs_test_2.shape[1])\n",
    "for i in range(len(data_test)):\n",
    "    dist[i] = np.sqrt(sum((gt_test_coord[10,i,:]-output_coord[10,i,:])**2))\n",
    "\n",
    "final_coord_error = np.mean(dist)\n",
    "print('The final distance between the ground trought and the predicted coordinates is :',final_coord_error.round(3))"
   ]
  },
  {
   "cell_type": "code",
   "execution_count": null,
   "metadata": {},
   "outputs": [],
   "source": [
    "avr = np.zeros((inputs_test_2.shape[1],11))\n",
    "for i in range(inputs_test_2.shape[1]):\n",
    "    for j in range(11):\n",
    "        avr[i,j] = np.sqrt(sum((gt_test_coord[j,i,:]-output_coord[j,i,:])**2))\n",
    "\n",
    "average = np.mean(np.mean(avr,1))\n",
    "print('The average error between the ground trought and the predicted coordinates is :',average.round(3))"
   ]
  },
  {
   "cell_type": "markdown",
   "metadata": {},
   "source": [
    "##### Type 3 trajectory"
   ]
  },
  {
   "cell_type": "code",
   "execution_count": null,
   "metadata": {},
   "outputs": [],
   "source": [
    "output_coord_3=np.zeros([11,inputs_test_3.shape[1],2])\n",
    "for j in range(11):\n",
    "    for i in range(inputs_test_3.shape[1]):\n",
    "        if j==0:\n",
    "            output_coord_3[j,i,0:2] = in_test_coord_3[9,i,0:2]\n",
    "        else:\n",
    "            output_coord_3[j,i,0:2] = output_coord_3[j-1,i,0:2]+output_test_3[j-1,i,2:]*0.4\n",
    "        "
   ]
  },
  {
   "cell_type": "code",
   "execution_count": null,
   "metadata": {},
   "outputs": [],
   "source": [
    "dist = np.zeros(inputs_test_3.shape[1])\n",
    "for i in range(len(data_test)):\n",
    "    dist[i] = np.sqrt(sum((gt_test_coord[10,i,:]-output_coord[10,i,:])**2))\n",
    "\n",
    "final_coord_error = np.mean(dist)\n",
    "print('The final distance between the ground trought and the predicted coordinates is :',final_coord_error.round(3))"
   ]
  },
  {
   "cell_type": "code",
   "execution_count": null,
   "metadata": {},
   "outputs": [],
   "source": [
    "avr = np.zeros((inputs_test_3.shape[1],11))\n",
    "for i in range(inputs_test_3.shape[1]):\n",
    "    for j in range(11):\n",
    "        avr[i,j] = np.sqrt(sum((gt_test_coord[j,i,:]-output_coord[j,i,:])**2))\n",
    "\n",
    "average = np.mean(np.mean(avr,1))\n",
    "print('The average error between the ground trought and the predicted coordinates is :',average.round(3))"
   ]
  },
  {
   "cell_type": "code",
   "execution_count": null,
   "metadata": {},
   "outputs": [],
   "source": []
  }
 ],
 "metadata": {
  "kernelspec": {
   "display_name": "Python 3",
   "language": "python",
   "name": "python3"
  },
  "language_info": {
   "codemirror_mode": {
    "name": "ipython",
    "version": 3
   },
   "file_extension": ".py",
   "mimetype": "text/x-python",
   "name": "python",
   "nbconvert_exporter": "python",
   "pygments_lexer": "ipython3",
   "version": "3.6.4"
  }
 },
 "nbformat": 4,
 "nbformat_minor": 2
}
