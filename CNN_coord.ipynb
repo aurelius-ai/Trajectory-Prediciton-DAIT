{
 "cells": [
  {
   "cell_type": "code",
   "execution_count": 94,
   "metadata": {},
   "outputs": [
    {
     "data": {
      "text/plain": [
       "<torch._C.Generator at 0x10ef56750>"
      ]
     },
     "execution_count": 94,
     "metadata": {},
     "output_type": "execute_result"
    }
   ],
   "source": [
    "import torch\n",
    "from torch import nn\n",
    "from torch.autograd import Variable\n",
    "import torchvision.datasets as dsets\n",
    "import torchvision.transforms as transforms\n",
    "import matplotlib.pyplot as plt\n",
    "from CNN2D_velocities import *\n",
    "import pandas as pd\n",
    "import numpy as np\n",
    "import torch.utils.data as utils\n",
    "import time\n",
    "import os\n",
    "import pickle\n",
    "\n",
    "import pdb\n",
    "\n",
    "# For the notebook\n",
    "%matplotlib inline\n",
    "%reload_ext autoreload\n",
    "%autoreload 2\n",
    "\n",
    "torch.manual_seed(1)"
   ]
  },
  {
   "cell_type": "markdown",
   "metadata": {},
   "source": [
    "## TRAIN SET"
   ]
  },
  {
   "cell_type": "code",
   "execution_count": 96,
   "metadata": {
    "scrolled": false
   },
   "outputs": [
    {
     "data": {
      "text/plain": [
       "(torch.Size([5157, 1, 10, 242]), torch.Size([5157, 1, 11, 2]))"
      ]
     },
     "execution_count": 96,
     "metadata": {},
     "output_type": "execute_result"
    }
   ],
   "source": [
    "gt_train_coord = pickle.load( open( \"./import_dataset_3/train/gt_train_coord.pkl\", \"rb\" ) )\n",
    "gt_train  = pickle.load( open( \"./import_dataset_3/train/gt_train.pkl\", \"rb\" ) )\n",
    "in_train_coord  = pickle.load( open( \"./import_dataset_3/train/in_train_coord.pkl\", \"rb\" ) )\n",
    "inputs_train = pickle.load( open( \"./import_dataset_3/train/inputs_train.pkl\", \"rb\" ) )\n",
    "\n",
    "coord_ind = np.append(np.arange(0,2),np.arange(4,244))\n",
    "inputs_train = inputs_train[:,:,coord_ind]\n",
    "gt_train = gt_train[:,:,:2]\n",
    "\n",
    "inputs_train = torch.from_numpy(inputs_train).float()\n",
    "gt_train = torch.from_numpy(gt_train).float()\n",
    "\n",
    "gt_train = gt_train.unsqueeze(1) # add 1 dimension to the training set\n",
    "inputs_train = inputs_train.unsqueeze(1) # add 1 dimension to the training set\n",
    "\n",
    "inputs_train.shape,gt_train.shape"
   ]
  },
  {
   "cell_type": "markdown",
   "metadata": {},
   "source": [
    "## VALIDATION SET"
   ]
  },
  {
   "cell_type": "code",
   "execution_count": 97,
   "metadata": {},
   "outputs": [
    {
     "name": "stdout",
     "output_type": "stream",
     "text": [
      "torch.Size([1719, 1, 10, 242])\n"
     ]
    },
    {
     "data": {
      "text/plain": [
       "((11, 1719, 2),\n",
       " torch.Size([1719, 1, 11, 2]),\n",
       " (10, 1719, 2),\n",
       " torch.Size([1719, 1, 10, 242]))"
      ]
     },
     "execution_count": 97,
     "metadata": {},
     "output_type": "execute_result"
    }
   ],
   "source": [
    "gt_validation_coord = pickle.load( open( \"./import_dataset_3/validation/gt_validation_coord.pkl\", \"rb\" ) )\n",
    "gt_validation = pickle.load( open( \"./import_dataset_3/validation/gt_validation.pkl\", \"rb\" ) )\n",
    "in_validation_coord = pickle.load( open( \"./import_dataset_3/validation/in_validation_coord.pkl\", \"rb\" ) )\n",
    "inputs_validation = pickle.load( open( \"./import_dataset_3/validation/inputs_validation.pkl\", \"rb\" ) )\n",
    "\n",
    "coord_ind = np.append(np.arange(0,2),np.arange(4,244))\n",
    "inputs_validation = inputs_validation[:,:,coord_ind]\n",
    "gt_validation = gt_validation[:,:,:2]\n",
    "\n",
    "inputs_validation = torch.from_numpy(inputs_validation).float()\n",
    "gt_validation = torch.from_numpy(gt_validation).float()\n",
    "\n",
    "gt_validation = gt_validation.unsqueeze(1) # add 1 dimension to the training set\n",
    "inputs_validation = inputs_validation.unsqueeze(1) # add 1 dimension to the training set\n",
    "print (inputs_validation.shape)\n",
    "\n",
    "gt_validation_coord.shape,gt_validation.shape,in_validation_coord.shape,inputs_validation.shape"
   ]
  },
  {
   "cell_type": "markdown",
   "metadata": {},
   "source": [
    "## TEST SET"
   ]
  },
  {
   "cell_type": "code",
   "execution_count": 98,
   "metadata": {
    "collapsed": true
   },
   "outputs": [],
   "source": [
    "gt_test_coord_1 = pickle.load( open( \"./import_dataset_3/test/gt_test_coord_1.pkl\", \"rb\" ) )\n",
    "gt_test_1 = pickle.load( open( \"./import_dataset_3/test/gt_test_1.pkl\", \"rb\" ) )\n",
    "in_test_coord_1 = pickle.load( open( \"./import_dataset_3/test/in_test_coord_1.pkl\", \"rb\" ) )\n",
    "inputs_test_1 = pickle.load( open( \"./import_dataset_3/test/inputs_test_1.pkl\", \"rb\" ) )\n",
    "\n",
    "gt_test_coord_2 = pickle.load( open( \"./import_dataset_3/test/gt_test_coord_2.pkl\", \"rb\" ) )\n",
    "gt_test_2 = pickle.load( open( \"./import_dataset_3/test/gt_test_2.pkl\", \"rb\" ) )\n",
    "in_test_coord_2 = pickle.load( open( \"./import_dataset_3/test/in_test_coord_2.pkl\", \"rb\" ) )\n",
    "inputs_test_2 = pickle.load( open( \"./import_dataset_3/test/inputs_test_2.pkl\", \"rb\" ) )\n",
    "\n",
    "gt_test_coord_3 = pickle.load( open( \"./import_dataset_3/test/gt_test_coord_3.pkl\", \"rb\" ) )\n",
    "gt_test_3 = pickle.load( open( \"./import_dataset_3/test/gt_test_3.pkl\", \"rb\" ) )\n",
    "in_test_coord_3 = pickle.load( open( \"./import_dataset_3/test/in_test_coord_3.pkl\", \"rb\" ) )\n",
    "inputs_test_3 = pickle.load( open( \"./import_dataset_3/test/inputs_test_3.pkl\", \"rb\" ) )\n",
    "\n",
    "coord_ind = np.append(np.arange(0,2),np.arange(4,244))\n",
    "inputs_test_1 = inputs_test_1[:,:,coord_ind]\n",
    "gt_test_1 = gt_test_1[:,:,:2]\n",
    "inputs_test_2 = inputs_test_2[:,:,coord_ind]\n",
    "gt_test_2 = gt_test_2[:,:,:2]\n",
    "inputs_test_3 = inputs_test_3[:,:,coord_ind]\n",
    "gt_test_3 = gt_test_3[:,:,:2]\n",
    "\n",
    "\n",
    "inputs_test_1 = torch.from_numpy(inputs_test_1).float()\n",
    "gt_test_1 = torch.from_numpy(gt_test_1).float()\n",
    "inputs_test_1 = inputs_test_1.unsqueeze(1) \n",
    "\n",
    "inputs_test_2 = torch.from_numpy(inputs_test_2).float()\n",
    "gt_test_2 = torch.from_numpy(gt_test_2).float()\n",
    "inputs_test_2 = inputs_test_2.unsqueeze(1)\n",
    "\n",
    "inputs_test_3 = torch.from_numpy(inputs_test_3).float()\n",
    "gt_test_3 = torch.from_numpy(gt_test_3).float()\n",
    "inputs_test_3 = inputs_test_3.unsqueeze(1)"
   ]
  },
  {
   "cell_type": "markdown",
   "metadata": {},
   "source": [
    "### Model"
   ]
  },
  {
   "cell_type": "code",
   "execution_count": 99,
   "metadata": {
    "collapsed": true
   },
   "outputs": [],
   "source": [
    "net = CNN2D_velocities()\n",
    "criterion = torch.nn.MSELoss()\n",
    "optimizer = torch.optim.Adam(net.parameters(), lr=0.0001, weight_decay=1e-4)\n",
    "\n",
    "traindataset = utils.TensorDataset(inputs_train, gt_train[:,:,1:,:])\n",
    "trainloader = utils.DataLoader(traindataset, batch_size=16, shuffle=True)\n",
    "\n",
    "valdataset = utils.TensorDataset(inputs_validation, gt_validation[:,:,1:,:])\n",
    "valloader = utils.DataLoader(valdataset, batch_size=16, shuffle=True)"
   ]
  },
  {
   "cell_type": "code",
   "execution_count": 100,
   "metadata": {
    "scrolled": true
   },
   "outputs": [
    {
     "name": "stdout",
     "output_type": "stream",
     "text": [
      "Epoch: 1/150.. Validation Loss: 2.8130.. Training Loss: 4.0273.. 0.0235 s/batch \n",
      "Epoch: 2/150.. Validation Loss: 2.2346.. Training Loss: 2.5269.. 0.0213 s/batch \n",
      "Epoch: 3/150.. Validation Loss: 1.8380.. Training Loss: 2.0088.. 0.0199 s/batch \n",
      "Epoch: 4/150.. Validation Loss: 1.5624.. Training Loss: 1.6483.. 0.0210 s/batch \n",
      "Epoch: 5/150.. Validation Loss: 1.3531.. Training Loss: 1.4214.. 0.0205 s/batch \n",
      "Epoch: 6/150.. Validation Loss: 1.2393.. Training Loss: 1.2345.. 0.0256 s/batch \n",
      "Epoch: 7/150.. Validation Loss: 1.1047.. Training Loss: 1.1038.. 0.0239 s/batch \n",
      "Epoch: 8/150.. Validation Loss: 1.0326.. Training Loss: 1.0109.. 0.0261 s/batch \n",
      "Epoch: 9/150.. Validation Loss: 0.9809.. Training Loss: 0.9461.. 0.0234 s/batch \n",
      "Epoch: 10/150.. Validation Loss: 0.9508.. Training Loss: 0.9014.. 0.0223 s/batch \n",
      "Epoch: 11/150.. Validation Loss: 0.9228.. Training Loss: 0.8536.. 0.0241 s/batch \n",
      "Epoch: 12/150.. Validation Loss: 0.8724.. Training Loss: 0.8187.. 0.0249 s/batch \n",
      "Epoch: 13/150.. Validation Loss: 0.8495.. Training Loss: 0.7807.. 0.0224 s/batch \n",
      "Epoch: 14/150.. Validation Loss: 0.8424.. Training Loss: 0.7459.. 0.0231 s/batch \n",
      "Epoch: 15/150.. Validation Loss: 0.7997.. Training Loss: 0.7127.. 0.0241 s/batch \n",
      "Epoch: 16/150.. Validation Loss: 0.7910.. Training Loss: 0.6871.. 0.0255 s/batch \n",
      "Epoch: 17/150.. Validation Loss: 0.7419.. Training Loss: 0.6730.. 0.0285 s/batch \n",
      "Epoch: 18/150.. Validation Loss: 0.7096.. Training Loss: 0.6314.. 0.0250 s/batch \n",
      "Epoch: 19/150.. Validation Loss: 0.6926.. Training Loss: 0.6020.. 0.0259 s/batch \n",
      "Epoch: 20/150.. Validation Loss: 0.6815.. Training Loss: 0.5767.. 0.0243 s/batch \n",
      "Epoch: 21/150.. Validation Loss: 0.6466.. Training Loss: 0.5579.. 0.0229 s/batch \n",
      "Epoch: 22/150.. Validation Loss: 0.6181.. Training Loss: 0.5343.. 0.0261 s/batch \n",
      "Epoch: 23/150.. Validation Loss: 0.6092.. Training Loss: 0.5237.. 0.0240 s/batch \n",
      "Epoch: 24/150.. Validation Loss: 0.5891.. Training Loss: 0.5020.. 0.0248 s/batch \n",
      "Epoch: 25/150.. Validation Loss: 0.5773.. Training Loss: 0.4863.. 0.0222 s/batch \n",
      "Epoch: 26/150.. Validation Loss: 0.5552.. Training Loss: 0.4735.. 0.0228 s/batch \n",
      "Epoch: 27/150.. Validation Loss: 0.5455.. Training Loss: 0.4599.. 0.0246 s/batch \n",
      "Epoch: 28/150.. Validation Loss: 0.5599.. Training Loss: 0.4504.. 0.0241 s/batch \n",
      "Epoch: 29/150.. Validation Loss: 0.5551.. Training Loss: 0.4378.. 0.0240 s/batch \n",
      "Epoch: 30/150.. Validation Loss: 0.5305.. Training Loss: 0.4257.. 0.0235 s/batch \n",
      "Epoch: 31/150.. Validation Loss: 0.5304.. Training Loss: 0.4270.. 0.0237 s/batch \n",
      "Epoch: 32/150.. Validation Loss: 0.5221.. Training Loss: 0.4094.. 0.0249 s/batch \n",
      "Epoch: 33/150.. Validation Loss: 0.5046.. Training Loss: 0.4010.. 0.0237 s/batch \n",
      "Epoch: 34/150.. Validation Loss: 0.4942.. Training Loss: 0.3987.. 0.0223 s/batch \n",
      "Epoch: 35/150.. Validation Loss: 0.4929.. Training Loss: 0.3886.. 0.0250 s/batch \n",
      "Epoch: 36/150.. Validation Loss: 0.4835.. Training Loss: 0.3814.. 0.0243 s/batch \n",
      "Epoch: 37/150.. Validation Loss: 0.4819.. Training Loss: 0.3757.. 0.0242 s/batch \n",
      "Epoch: 38/150.. Validation Loss: 0.4928.. Training Loss: 0.3804.. 0.0227 s/batch \n",
      "Epoch: 39/150.. Validation Loss: 0.5085.. Training Loss: 0.3751.. 0.0275 s/batch \n",
      "Epoch: 40/150.. Validation Loss: 0.4720.. Training Loss: 0.3660.. 0.0284 s/batch \n",
      "Epoch: 41/150.. Validation Loss: 0.4827.. Training Loss: 0.3606.. 0.0257 s/batch \n",
      "Epoch: 42/150.. Validation Loss: 0.4918.. Training Loss: 0.3689.. 0.0239 s/batch \n",
      "Epoch: 43/150.. Validation Loss: 0.4653.. Training Loss: 0.3510.. 0.0256 s/batch \n",
      "Epoch: 44/150.. Validation Loss: 0.4650.. Training Loss: 0.3453.. 0.0250 s/batch \n",
      "Epoch: 45/150.. Validation Loss: 0.4608.. Training Loss: 0.3534.. 0.0230 s/batch \n",
      "Epoch: 46/150.. Validation Loss: 0.4723.. Training Loss: 0.3422.. 0.0241 s/batch \n",
      "Epoch: 47/150.. Validation Loss: 0.4609.. Training Loss: 0.3363.. 0.0238 s/batch \n",
      "Epoch: 48/150.. Validation Loss: 0.4645.. Training Loss: 0.3384.. 0.0251 s/batch \n",
      "Epoch: 49/150.. Validation Loss: 0.4821.. Training Loss: 0.3289.. 0.0224 s/batch \n",
      "Epoch: 50/150.. Validation Loss: 0.4556.. Training Loss: 0.3316.. 0.0224 s/batch \n",
      "Epoch: 51/150.. Validation Loss: 0.4572.. Training Loss: 0.3271.. 0.0234 s/batch \n",
      "Epoch: 52/150.. Validation Loss: 0.4538.. Training Loss: 0.3227.. 0.0257 s/batch \n",
      "Epoch: 53/150.. Validation Loss: 0.4413.. Training Loss: 0.3199.. 0.0241 s/batch \n",
      "Epoch: 54/150.. Validation Loss: 0.4501.. Training Loss: 0.3154.. 0.0229 s/batch \n",
      "Epoch: 55/150.. Validation Loss: 0.4435.. Training Loss: 0.3075.. 0.0229 s/batch \n",
      "Epoch: 56/150.. Validation Loss: 0.4439.. Training Loss: 0.3087.. 0.0245 s/batch \n",
      "Epoch: 57/150.. Validation Loss: 0.4463.. Training Loss: 0.3105.. 0.0257 s/batch \n",
      "Epoch: 58/150.. Validation Loss: 0.4504.. Training Loss: 0.3049.. 0.0232 s/batch \n",
      "Epoch: 59/150.. Validation Loss: 0.4382.. Training Loss: 0.3034.. 0.0229 s/batch \n",
      "Epoch: 60/150.. Validation Loss: 0.4491.. Training Loss: 0.2996.. 0.0258 s/batch \n",
      "Epoch: 61/150.. Validation Loss: 0.4362.. Training Loss: 0.2941.. 0.0252 s/batch \n",
      "Epoch: 62/150.. Validation Loss: 0.4463.. Training Loss: 0.3000.. 0.0228 s/batch \n",
      "Epoch: 63/150.. Validation Loss: 0.4358.. Training Loss: 0.2959.. 0.0232 s/batch \n",
      "Epoch: 64/150.. Validation Loss: 0.4340.. Training Loss: 0.2862.. 0.0242 s/batch \n",
      "Epoch: 65/150.. Validation Loss: 0.4575.. Training Loss: 0.2934.. 0.0267 s/batch \n",
      "Epoch: 66/150.. Validation Loss: 0.4264.. Training Loss: 0.2858.. 0.0237 s/batch \n",
      "Epoch: 67/150.. Validation Loss: 0.4285.. Training Loss: 0.2865.. 0.0228 s/batch \n",
      "Epoch: 68/150.. Validation Loss: 0.4387.. Training Loss: 0.2827.. 0.0258 s/batch \n",
      "Epoch: 69/150.. Validation Loss: 0.4247.. Training Loss: 0.2852.. 0.0261 s/batch \n",
      "Epoch: 70/150.. Validation Loss: 0.4851.. Training Loss: 0.2826.. 0.0256 s/batch \n",
      "Epoch: 71/150.. Validation Loss: 0.4534.. Training Loss: 0.2819.. 0.0229 s/batch \n",
      "Epoch: 72/150.. Validation Loss: 0.4338.. Training Loss: 0.2761.. 0.0252 s/batch \n",
      "Epoch: 73/150.. Validation Loss: 0.4490.. Training Loss: 0.2714.. 0.0250 s/batch \n",
      "Epoch: 74/150.. Validation Loss: 0.4309.. Training Loss: 0.2728.. 0.0242 s/batch \n",
      "Epoch: 75/150.. Validation Loss: 0.4227.. Training Loss: 0.2731.. 0.0227 s/batch \n",
      "Epoch: 76/150.. Validation Loss: 0.4156.. Training Loss: 0.2693.. 0.0237 s/batch \n",
      "Epoch: 77/150.. Validation Loss: 0.4230.. Training Loss: 0.2677.. 0.0252 s/batch \n",
      "Epoch: 78/150.. Validation Loss: 0.4262.. Training Loss: 0.2714.. 0.0261 s/batch \n",
      "Epoch: 79/150.. Validation Loss: 0.4328.. Training Loss: 0.2686.. 0.0233 s/batch \n",
      "Epoch: 80/150.. Validation Loss: 0.4289.. Training Loss: 0.2596.. 0.0254 s/batch \n",
      "Epoch: 81/150.. Validation Loss: 0.4223.. Training Loss: 0.2629.. 0.0267 s/batch \n",
      "Epoch: 82/150.. Validation Loss: 0.4270.. Training Loss: 0.2602.. 0.0245 s/batch \n",
      "Epoch: 83/150.. Validation Loss: 0.4167.. Training Loss: 0.2570.. 0.0239 s/batch \n",
      "Epoch: 84/150.. Validation Loss: 0.4277.. Training Loss: 0.2548.. 0.0254 s/batch \n",
      "Epoch: 85/150.. Validation Loss: 0.4353.. Training Loss: 0.2523.. 0.0268 s/batch \n",
      "Epoch: 86/150.. Validation Loss: 0.4288.. Training Loss: 0.2575.. 0.0230 s/batch \n",
      "Epoch: 87/150.. Validation Loss: 0.4377.. Training Loss: 0.2502.. 0.0259 s/batch \n",
      "Epoch: 88/150.. Validation Loss: 0.4500.. Training Loss: 0.2519.. 0.0249 s/batch \n",
      "Epoch: 89/150.. Validation Loss: 0.4466.. Training Loss: 0.2541.. 0.0243 s/batch \n",
      "Epoch: 90/150.. Validation Loss: 0.4248.. Training Loss: 0.2512.. 0.0233 s/batch \n",
      "Epoch: 91/150.. Validation Loss: 0.4244.. Training Loss: 0.2440.. 0.0249 s/batch \n",
      "Epoch: 92/150.. Validation Loss: 0.4192.. Training Loss: 0.2451.. 0.0260 s/batch \n",
      "Epoch: 93/150.. Validation Loss: 0.4362.. Training Loss: 0.2454.. 0.0230 s/batch \n",
      "Epoch: 94/150.. Validation Loss: 0.4261.. Training Loss: 0.2451.. 0.0232 s/batch \n",
      "Epoch: 95/150.. Validation Loss: 0.4082.. Training Loss: 0.2404.. 0.0236 s/batch \n",
      "Epoch: 96/150.. Validation Loss: 0.4121.. Training Loss: 0.2366.. 0.0247 s/batch \n",
      "Epoch: 97/150.. Validation Loss: 0.4299.. Training Loss: 0.2424.. 0.0248 s/batch \n",
      "Epoch: 98/150.. Validation Loss: 0.4154.. Training Loss: 0.2418.. 0.0258 s/batch \n",
      "Epoch: 99/150.. Validation Loss: 0.4246.. Training Loss: 0.2412.. 0.0229 s/batch \n",
      "Epoch: 100/150.. Validation Loss: 0.4218.. Training Loss: 0.2428.. 0.0253 s/batch \n",
      "Epoch: 101/150.. Validation Loss: 0.4249.. Training Loss: 0.2396.. 0.0254 s/batch \n"
     ]
    },
    {
     "name": "stdout",
     "output_type": "stream",
     "text": [
      "Epoch: 102/150.. Validation Loss: 0.4216.. Training Loss: 0.2345.. 0.0233 s/batch \n",
      "Epoch: 103/150.. Validation Loss: 0.4312.. Training Loss: 0.2357.. 0.0241 s/batch \n",
      "Epoch: 104/150.. Validation Loss: 0.4183.. Training Loss: 0.2300.. 0.0260 s/batch \n",
      "Epoch: 105/150.. Validation Loss: 0.4160.. Training Loss: 0.2352.. 0.0249 s/batch \n",
      "Epoch: 106/150.. Validation Loss: 0.4191.. Training Loss: 0.2295.. 0.0232 s/batch \n",
      "Epoch: 107/150.. Validation Loss: 0.4119.. Training Loss: 0.2307.. 0.0228 s/batch \n",
      "Epoch: 108/150.. Validation Loss: 0.4196.. Training Loss: 0.2256.. 0.0260 s/batch \n",
      "Epoch: 109/150.. Validation Loss: 0.4194.. Training Loss: 0.2306.. 0.0270 s/batch \n",
      "Epoch: 110/150.. Validation Loss: 0.4093.. Training Loss: 0.2270.. 0.0244 s/batch \n",
      "Epoch: 111/150.. Validation Loss: 0.4534.. Training Loss: 0.2349.. 0.0231 s/batch \n",
      "Epoch: 112/150.. Validation Loss: 0.4051.. Training Loss: 0.2275.. 0.0249 s/batch \n",
      "Epoch: 113/150.. Validation Loss: 0.4345.. Training Loss: 0.2224.. 0.0247 s/batch \n",
      "Epoch: 114/150.. Validation Loss: 0.4163.. Training Loss: 0.2246.. 0.0245 s/batch \n",
      "Epoch: 115/150.. Validation Loss: 0.4039.. Training Loss: 0.2203.. 0.0236 s/batch \n",
      "Epoch: 116/150.. Validation Loss: 0.4187.. Training Loss: 0.2183.. 0.0241 s/batch \n",
      "Epoch: 117/150.. Validation Loss: 0.4220.. Training Loss: 0.2202.. 0.0203 s/batch \n",
      "Epoch: 118/150.. Validation Loss: 0.4152.. Training Loss: 0.2218.. 0.0192 s/batch \n",
      "Epoch: 119/150.. Validation Loss: 0.4133.. Training Loss: 0.2205.. 0.0196 s/batch \n",
      "Epoch: 120/150.. Validation Loss: 0.4038.. Training Loss: 0.2203.. 0.0205 s/batch \n",
      "Epoch: 121/150.. Validation Loss: 0.4306.. Training Loss: 0.2165.. 0.0189 s/batch \n",
      "Epoch: 122/150.. Validation Loss: 0.4072.. Training Loss: 0.2163.. 0.0197 s/batch \n",
      "Epoch: 123/150.. Validation Loss: 0.4161.. Training Loss: 0.2172.. 0.0206 s/batch \n",
      "Epoch: 124/150.. Validation Loss: 0.4174.. Training Loss: 0.2121.. 0.0198 s/batch \n",
      "Epoch: 125/150.. Validation Loss: 0.4006.. Training Loss: 0.2158.. 0.0187 s/batch \n",
      "Epoch: 126/150.. Validation Loss: 0.4216.. Training Loss: 0.2155.. 0.0201 s/batch \n",
      "Epoch: 127/150.. Validation Loss: 0.4133.. Training Loss: 0.2157.. 0.0209 s/batch \n",
      "Epoch: 128/150.. Validation Loss: 0.4120.. Training Loss: 0.2128.. 0.0188 s/batch \n",
      "Epoch: 129/150.. Validation Loss: 0.4168.. Training Loss: 0.2145.. 0.0191 s/batch \n",
      "Epoch: 130/150.. Validation Loss: 0.4042.. Training Loss: 0.2106.. 0.0205 s/batch \n",
      "Epoch: 131/150.. Validation Loss: 0.4084.. Training Loss: 0.2084.. 0.0197 s/batch \n",
      "Epoch: 132/150.. Validation Loss: 0.4057.. Training Loss: 0.2078.. 0.0188 s/batch \n",
      "Epoch: 133/150.. Validation Loss: 0.3988.. Training Loss: 0.2097.. 0.0200 s/batch \n",
      "Epoch: 134/150.. Validation Loss: 0.4092.. Training Loss: 0.2076.. 0.0206 s/batch \n",
      "Epoch: 135/150.. Validation Loss: 0.3909.. Training Loss: 0.2058.. 0.0189 s/batch \n",
      "Epoch: 136/150.. Validation Loss: 0.4032.. Training Loss: 0.2063.. 0.0197 s/batch \n",
      "Epoch: 137/150.. Validation Loss: 0.4173.. Training Loss: 0.2069.. 0.0210 s/batch \n",
      "Epoch: 138/150.. Validation Loss: 0.4091.. Training Loss: 0.2032.. 0.0196 s/batch \n",
      "Epoch: 139/150.. Validation Loss: 0.4025.. Training Loss: 0.2085.. 0.0189 s/batch \n",
      "Epoch: 140/150.. Validation Loss: 0.4120.. Training Loss: 0.2047.. 0.0212 s/batch \n",
      "Epoch: 141/150.. Validation Loss: 0.4009.. Training Loss: 0.2054.. 0.0208 s/batch \n",
      "Epoch: 142/150.. Validation Loss: 0.4122.. Training Loss: 0.2020.. 0.0190 s/batch \n",
      "Epoch: 143/150.. Validation Loss: 0.4011.. Training Loss: 0.2070.. 0.0196 s/batch \n",
      "Epoch: 144/150.. Validation Loss: 0.4053.. Training Loss: 0.1975.. 0.0208 s/batch \n",
      "Epoch: 145/150.. Validation Loss: 0.4256.. Training Loss: 0.2004.. 0.0193 s/batch \n",
      "Epoch: 146/150.. Validation Loss: 0.4183.. Training Loss: 0.2059.. 0.0190 s/batch \n",
      "Epoch: 147/150.. Validation Loss: 0.4019.. Training Loss: 0.2038.. 0.0213 s/batch \n",
      "Epoch: 148/150.. Validation Loss: 0.4060.. Training Loss: 0.2008.. 0.0202 s/batch \n",
      "Epoch: 149/150.. Validation Loss: 0.4041.. Training Loss: 0.1982.. 0.0188 s/batch \n",
      "Epoch: 150/150.. Validation Loss: 0.4013.. Training Loss: 0.1996.. 0.0200 s/batch \n"
     ]
    }
   ],
   "source": [
    "epochs = 150\n",
    "steps = 0\n",
    "running_loss = 0\n",
    "print_every = 323\n",
    "loss_train = []\n",
    "loss_val = []\n",
    "\n",
    "for e in range(epochs):\n",
    "    start = time.time()\n",
    "    steps_bis = 0\n",
    "    total_train_loss=0\n",
    "    for train_coord, ground_tru in iter(trainloader):\n",
    "        \n",
    "        steps += 1\n",
    "        steps_bis += 1\n",
    "        \n",
    "        input_train = Variable(train_coord)\n",
    "        in_train = input_train.squeeze(1)\n",
    "        target = Variable(ground_tru)\n",
    "        targets = target.squeeze(1)\n",
    "        optimizer.zero_grad()\n",
    "        out = net.forward(input_train)\n",
    "        out = out.reshape(out.shape[0],10,2)\n",
    "        loss1 = (criterion(out[:,:,0:2], targets[:,:,0:2]))\n",
    "        \n",
    "        loss1.backward(retain_graph=True)\n",
    "        optimizer.step()\n",
    "        \n",
    "        running_loss += (loss1).item()\n",
    "        total_train_loss += (loss1).item()\n",
    "        \n",
    "        if steps % print_every == 0:\n",
    "            stop = time.time()\n",
    "            val_loss=0\n",
    "            \n",
    "            for ii, (images, labels) in enumerate(valloader):\n",
    "                \n",
    "                inp = Variable(images)\n",
    "                input_val = inp.squeeze(1)\n",
    "                lab = Variable(labels)\n",
    "                valgt = lab.squeeze(1)\n",
    "                predicted = net.predict(inp)\n",
    "                predicted = predicted.reshape(predicted.shape[0],10,2)\n",
    "                val_loss+= (criterion(predicted[:,:,0:2],valgt[:,:,0:2]).item())\n",
    "                \n",
    "            print(\"Epoch: {}/{}..\".format(e+1, epochs),\n",
    "                  \"Validation Loss: {:.4f}..\".format(val_loss/ii),\n",
    "                  \"Training Loss: {:.4f}..\".format(running_loss/print_every),\n",
    "                  \"{:.4f} s/batch \".format((stop - start)/print_every),\n",
    "                 )\n",
    "            loss_val.append(val_loss/ii)\n",
    "            running_loss = 0\n",
    "            start = time.time()\n",
    "    loss_train.append(total_train_loss/steps_bis)"
   ]
  },
  {
   "cell_type": "code",
   "execution_count": 101,
   "metadata": {
    "scrolled": false
   },
   "outputs": [
    {
     "data": {
      "text/plain": [
       "<matplotlib.legend.Legend at 0x1185e0e80>"
      ]
     },
     "execution_count": 101,
     "metadata": {},
     "output_type": "execute_result"
    },
    {
     "data": {
      "image/png": "[encoded data removed]",
      "text/plain": [
       "<matplotlib.figure.Figure at 0x11ac35278>"
      ]
     },
     "metadata": {},
     "output_type": "display_data"
    }
   ],
   "source": [
    "epoch = np.arange(1,epochs+1)\n",
    "plt.figure(figsize=(12, 7))\n",
    "plt.rc('font', family='serif')\n",
    "plt.rc('font', size=20)\n",
    "\n",
    "plt.plot(epoch,loss_train,label='Training loss')\n",
    "plt.plot(epoch,loss_val,c='k',label='Validation loss')\n",
    "plt.xlabel('epoch')\n",
    "plt.ylabel('MSE error')\n",
    "plt.legend()\n",
    "#plt.savefig(r'./figures/loss_coord.pdf', bbox_inches='tight')"
   ]
  },
  {
   "cell_type": "code",
   "execution_count": 102,
   "metadata": {},
   "outputs": [],
   "source": [
    "output_test_1 = net.predict(inputs_test_1)\n",
    "output_test_1 = output_test_1.data.numpy()\n",
    "output_test_1 = np.reshape(output_test_1,(250,10,2))\n",
    "\n",
    "output_test_2 = net.predict(inputs_test_2)\n",
    "output_test_2 = output_test_2.data.numpy()\n",
    "output_test_2 = np.reshape(output_test_2,(1006,10,2))\n",
    "\n",
    "output_test_3 = net.predict(inputs_test_3)\n",
    "output_test_3 = output_test_3.data.numpy()\n",
    "output_test_3 = np.reshape(output_test_3,(460,10,2))"
   ]
  },
  {
   "cell_type": "markdown",
   "metadata": {},
   "source": [
    "## Post processing step\n",
    "Go back to coordinate:\n",
    "We have Vx and Vy and we want x and y.\n",
    "$ V = d/t$\n",
    "$ d = V*t$\n",
    "Here t = 0.4s between each point.\n",
    "Start from data at index 9. Then we add d_x and d_y to the last x and y."
   ]
  },
  {
   "cell_type": "markdown",
   "metadata": {},
   "source": [
    "##### Type 1 trajectory"
   ]
  },
  {
   "cell_type": "code",
   "execution_count": 103,
   "metadata": {},
   "outputs": [],
   "source": [
    "output_coord_1=np.zeros([11,inputs_test_1.shape[2],2])\n",
    "for j in range(11):\n",
    "    for i in range(output_test_1.shape[0]):\n",
    "        if j==0:\n",
    "            output_coord_1[j,i,0:2] = in_test_coord_1[9,i,0:2]\n",
    "        else:\n",
    "            output_coord_1[j,i,0:2] = output_coord_1[j-1,i,0:2]+output_test_1[i,j-1,:]*0.4\n",
    "        "
   ]
  },
  {
   "cell_type": "code",
   "execution_count": 104,
   "metadata": {},
   "outputs": [
    {
     "name": "stdout",
     "output_type": "stream",
     "text": [
      "The final distance between the ground trought and the predicted coordinates is : 10.246\n"
     ]
    }
   ],
   "source": [
    "dist = np.zeros(output_coord_1.shape[1])\n",
    "for i in range(gt_test_coord_1.shape[1]):\n",
    "    dist[i] = np.sqrt(sum((gt_test_coord_1[10,i,:]-output_coord_1[10,i,:])**2))\n",
    "\n",
    "final_coord_error = np.mean(dist)\n",
    "print('The final distance between the ground trought and the predicted coordinates is :',final_coord_error.round(3))"
   ]
  },
  {
   "cell_type": "code",
   "execution_count": 105,
   "metadata": {},
   "outputs": [
    {
     "name": "stdout",
     "output_type": "stream",
     "text": [
      "The average error between the ground trought and the predicted coordinates is : 4.696\n"
     ]
    }
   ],
   "source": [
    "avr = np.zeros((gt_test_coord_1.shape[1],11))\n",
    "for i in range(gt_test_coord_1.shape[1]):\n",
    "    for j in range(11):\n",
    "        avr[i,j] = np.sqrt(sum((gt_test_coord_1[j,i,:]-output_coord_1[j,i,:])**2))\n",
    "\n",
    "average = np.mean(np.mean(avr,1))\n",
    "print('The average error between the ground trought and the predicted coordinates is :',average.round(3))"
   ]
  },
  {
   "cell_type": "code",
   "execution_count": 107,
   "metadata": {},
   "outputs": [
    {
     "data": {
      "text/plain": [
       "(-0.40232936139043574,\n",
       " 0.1456561000662112,\n",
       " -9.95373884079781,\n",
       " 0.5630043619427529)"
      ]
     },
     "execution_count": 107,
     "metadata": {},
     "output_type": "execute_result"
    },
    {
     "data": {
      "image/png": "[encoded data removed]",
      "text/plain": [
       "<matplotlib.figure.Figure at 0x118315e48>"
      ]
     },
     "metadata": {},
     "output_type": "display_data"
    }
   ],
   "source": [
    "plt.figure(figsize=(12, 7))\n",
    "plt.rc('font', family='serif')\n",
    "plt.rc('font', size=20)\n",
    "\n",
    "ind = np.random.randint(inputs_test_1.shape[0])\n",
    "\n",
    "plt.plot(in_test_coord_1[:,ind,0],in_test_coord_1[:,ind,1],c='b')\n",
    "plt.plot(gt_test_coord_1[:,ind,0],gt_test_coord_1[:,ind,1],c='k')\n",
    "plt.plot(output_coord_1[:,ind,0],output_coord_1[:,ind,1],c='r')\n",
    "plt.axis('equal')"
   ]
  },
  {
   "cell_type": "markdown",
   "metadata": {},
   "source": [
    "##### Type 2 trajectory"
   ]
  },
  {
   "cell_type": "code",
   "execution_count": 108,
   "metadata": {
    "collapsed": true
   },
   "outputs": [],
   "source": [
    "output_coord_2=np.zeros([11,inputs_test_2.shape[2],2])\n",
    "for j in range(11):\n",
    "    for i in range(output_test_2.shape[1]):\n",
    "        if j==0:\n",
    "            output_coord_2[j,i,0:2] = in_test_coord_2[9,i,0:2]\n",
    "        else:\n",
    "            output_coord_2[j,i,0:2] = output_coord_2[j-1,i,0:2]+output_test_2[i,j-1,:]*0.4\n",
    "        "
   ]
  },
  {
   "cell_type": "code",
   "execution_count": 109,
   "metadata": {},
   "outputs": [
    {
     "name": "stdout",
     "output_type": "stream",
     "text": [
      "The final distance between the ground trought and the predicted coordinates is : 7.009\n"
     ]
    }
   ],
   "source": [
    "dist = np.zeros(output_coord_2.shape[1])\n",
    "for i in range(gt_test_coord_2.shape[1]):\n",
    "    dist[i] = np.sqrt(sum((gt_test_coord_2[10,i,:]-output_coord_2[10,i,:])**2))\n",
    "\n",
    "final_coord_error = np.mean(dist)\n",
    "print('The final distance between the ground trought and the predicted coordinates is :',final_coord_error.round(3))"
   ]
  },
  {
   "cell_type": "code",
   "execution_count": 110,
   "metadata": {},
   "outputs": [
    {
     "name": "stdout",
     "output_type": "stream",
     "text": [
      "The average error between the ground trought and the predicted coordinates is : 5.144\n"
     ]
    }
   ],
   "source": [
    "avr = np.zeros((gt_test_coord_2.shape[1],11))\n",
    "for i in range(gt_test_coord_2.shape[1]):\n",
    "    for j in range(11):\n",
    "        avr[i,j] = np.sqrt(sum((gt_test_coord_2[j,i,:]-output_coord_2[j,i,:])**2))\n",
    "\n",
    "average = np.mean(np.mean(avr,1))\n",
    "print('The average error between the ground trought and the predicted coordinates is :',average.round(3))"
   ]
  },
  {
   "cell_type": "code",
   "execution_count": 117,
   "metadata": {},
   "outputs": [
    {
     "data": {
      "text/plain": [
       "(-5.810152506116001,\n",
       " 0.3476615069579049,\n",
       " -1.0352387173702546,\n",
       " 21.740013064775347)"
      ]
     },
     "execution_count": 117,
     "metadata": {},
     "output_type": "execute_result"
    },
    {
     "data": {
      "image/png": "[encoded data removed]",
      "text/plain": [
       "<matplotlib.figure.Figure at 0x1185052b0>"
      ]
     },
     "metadata": {},
     "output_type": "display_data"
    }
   ],
   "source": [
    "plt.figure(figsize=(12, 7))\n",
    "plt.rc('font', family='serif')\n",
    "plt.rc('font', size=20)\n",
    "\n",
    "ind = np.random.randint(inputs_test_2.shape[0])\n",
    "\n",
    "plt.plot(in_test_coord_2[:,ind,0],in_test_coord_2[:,ind,1],c='b')\n",
    "plt.plot(gt_test_coord_2[:,ind,0],gt_test_coord_2[:,ind,1],c='k')\n",
    "plt.plot(output_coord_2[:,ind,0],output_coord_2[:,ind,1],c='r')\n",
    "plt.axis('equal')"
   ]
  },
  {
   "cell_type": "markdown",
   "metadata": {},
   "source": [
    "##### Type 3 trajectory"
   ]
  },
  {
   "cell_type": "code",
   "execution_count": 118,
   "metadata": {
    "collapsed": true
   },
   "outputs": [],
   "source": [
    "output_coord_3=np.zeros([11,inputs_test_3.shape[2],2])\n",
    "for j in range(11):\n",
    "    for i in range(inputs_test_3.shape[2]):\n",
    "        if j==0:\n",
    "            output_coord_3[j,i,0:2] = in_test_coord_3[9,i,0:2]\n",
    "        else:\n",
    "            output_coord_3[j,i,0:2] = output_coord_3[j-1,i,0:2]+output_test_3[i,j-1,:]*0.4\n",
    "        "
   ]
  },
  {
   "cell_type": "code",
   "execution_count": 119,
   "metadata": {},
   "outputs": [
    {
     "name": "stdout",
     "output_type": "stream",
     "text": [
      "The final distance between the ground trought and the predicted coordinates is : 10.501\n"
     ]
    }
   ],
   "source": [
    "dist = np.zeros(output_coord_3.shape[1])\n",
    "for i in range(gt_test_coord_3.shape[1]):\n",
    "    dist[i] = np.sqrt(sum((gt_test_coord_3[10,i,:]-output_coord_3[10,i,:])**2))\n",
    "\n",
    "final_coord_error = np.mean(dist)\n",
    "print('The final distance between the ground trought and the predicted coordinates is :',final_coord_error.round(3))"
   ]
  },
  {
   "cell_type": "code",
   "execution_count": 120,
   "metadata": {},
   "outputs": [
    {
     "name": "stdout",
     "output_type": "stream",
     "text": [
      "The average error between the ground trought and the predicted coordinates is : 4.674\n"
     ]
    }
   ],
   "source": [
    "avr = np.zeros((gt_test_coord_3.shape[1],11))\n",
    "for i in range(gt_test_coord_3.shape[1]):\n",
    "    for j in range(11):\n",
    "        avr[i,j] = np.sqrt(sum((gt_test_coord_3[j,i,:]-output_coord_3[j,i,:])**2))\n",
    "\n",
    "average = np.mean(np.mean(avr,1))\n",
    "print('The average error between the ground trought and the predicted coordinates is :',average.round(3))"
   ]
  },
  {
   "cell_type": "code",
   "execution_count": 123,
   "metadata": {},
   "outputs": [
    {
     "data": {
      "text/plain": [
       "(-0.8453770650836678,\n",
       " 3.735182513575413,\n",
       " -1.2522837888916627,\n",
       " 26.297959566724916)"
      ]
     },
     "execution_count": 123,
     "metadata": {},
     "output_type": "execute_result"
    },
    {
     "data": {
      "image/png": "[encoded data removed]",
      "text/plain": [
       "<matplotlib.figure.Figure at 0x11859e080>"
      ]
     },
     "metadata": {},
     "output_type": "display_data"
    }
   ],
   "source": [
    "plt.figure(figsize=(12, 7))\n",
    "plt.rc('font', family='serif')\n",
    "plt.rc('font', size=20)\n",
    "\n",
    "ind = np.random.randint(inputs_test_3.shape[0])\n",
    "\n",
    "plt.plot(in_test_coord_3[:,ind,0],in_test_coord_3[:,ind,1],c='b')\n",
    "plt.plot(gt_test_coord_3[:,ind,0],gt_test_coord_3[:,ind,1],c='k')\n",
    "plt.plot(output_coord_3[:,ind,0],output_coord_3[:,ind,1],c='r')\n",
    "plt.axis('equal')"
   ]
  },
  {
   "cell_type": "code",
   "execution_count": 125,
   "metadata": {
    "collapsed": true
   },
   "outputs": [],
   "source": [
    "torch.save(net.state_dict(), 'coord_1CNN.pt')"
   ]
  },
  {
   "cell_type": "code",
   "execution_count": null,
   "metadata": {
    "collapsed": true
   },
   "outputs": [],
   "source": []
  },
  {
   "cell_type": "code",
   "execution_count": null,
   "metadata": {
    "collapsed": true
   },
   "outputs": [],
   "source": []
  }
 ],
 "metadata": {
  "kernelspec": {
   "display_name": "Python 3",
   "language": "python",
   "name": "python3"
  },
  "language_info": {
   "codemirror_mode": {
    "name": "ipython",
    "version": 3
   },
   "file_extension": ".py",
   "mimetype": "text/x-python",
   "name": "python",
   "nbconvert_exporter": "python",
   "pygments_lexer": "ipython3",
   "version": "3.6.3"
  }
 },
 "nbformat": 4,
 "nbformat_minor": 2
}
