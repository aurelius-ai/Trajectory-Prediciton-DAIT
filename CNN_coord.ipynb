{
 "cells": [
  {
   "cell_type": "code",
   "execution_count": 1,
   "metadata": {},
   "outputs": [
    {
     "data": {
      "text/plain": [
       "<torch._C.Generator at 0x10ef56750>"
      ]
     },
     "execution_count": 1,
     "metadata": {},
     "output_type": "execute_result"
    }
   ],
   "source": [
    "import torch\n",
    "from torch import nn\n",
    "from torch.autograd import Variable\n",
    "import torchvision.datasets as dsets\n",
    "import torchvision.transforms as transforms\n",
    "import matplotlib.pyplot as plt\n",
    "from CNN2D_velocities import *\n",
    "import pandas as pd\n",
    "import numpy as np\n",
    "import torch.utils.data as utils\n",
    "import time\n",
    "import os\n",
    "import pickle\n",
    "\n",
    "import pdb\n",
    "\n",
    "# For the notebook\n",
    "%matplotlib inline\n",
    "%reload_ext autoreload\n",
    "%autoreload 2\n",
    "\n",
    "torch.manual_seed(1)"
   ]
  },
  {
   "cell_type": "markdown",
   "metadata": {},
   "source": [
    "## TRAIN SET"
   ]
  },
  {
   "cell_type": "code",
   "execution_count": 2,
   "metadata": {
    "scrolled": false
   },
   "outputs": [
    {
     "data": {
      "text/plain": [
       "(torch.Size([5157, 1, 10, 162]), torch.Size([5157, 1, 11, 2]))"
      ]
     },
     "execution_count": 2,
     "metadata": {},
     "output_type": "execute_result"
    }
   ],
   "source": [
    "gt_train_coord = pickle.load( open( \"./import_dataset_2/train/gt_train_coord.pkl\", \"rb\" ) )\n",
    "gt_train  = pickle.load( open( \"./import_dataset_2/train/gt_train.pkl\", \"rb\" ) )\n",
    "in_train_coord  = pickle.load( open( \"./import_dataset_2/train/in_train_coord.pkl\", \"rb\" ) )\n",
    "inputs_train = pickle.load( open( \"./import_dataset_2/train/inputs_train.pkl\", \"rb\" ) )\n",
    "\n",
    "coord_ind = np.append(np.arange(0,2),np.arange(4,164))\n",
    "inputs_train = inputs_train[:,:,coord_ind]\n",
    "gt_train = gt_train[:,:,:2]\n",
    "\n",
    "inputs_train = torch.from_numpy(inputs_train).float()\n",
    "gt_train = torch.from_numpy(gt_train).float()\n",
    "\n",
    "gt_train = gt_train.unsqueeze(1) # add 1 dimension to the training set\n",
    "inputs_train = inputs_train.unsqueeze(1) # add 1 dimension to the training set\n",
    "\n",
    "inputs_train.shape,gt_train.shape"
   ]
  },
  {
   "cell_type": "markdown",
   "metadata": {},
   "source": [
    "## VALIDATION SET"
   ]
  },
  {
   "cell_type": "code",
   "execution_count": 3,
   "metadata": {},
   "outputs": [
    {
     "name": "stdout",
     "output_type": "stream",
     "text": [
      "torch.Size([1719, 1, 10, 162])\n"
     ]
    },
    {
     "data": {
      "text/plain": [
       "((11, 1719, 2),\n",
       " torch.Size([1719, 1, 11, 2]),\n",
       " (10, 1719, 2),\n",
       " torch.Size([1719, 1, 10, 162]))"
      ]
     },
     "execution_count": 3,
     "metadata": {},
     "output_type": "execute_result"
    }
   ],
   "source": [
    "gt_validation_coord = pickle.load( open( \"./import_dataset_2/validation/gt_validation_coord.pkl\", \"rb\" ) )\n",
    "gt_validation = pickle.load( open( \"./import_dataset_2/validation/gt_validation.pkl\", \"rb\" ) )\n",
    "in_validation_coord = pickle.load( open( \"./import_dataset_2/validation/in_validation_coord.pkl\", \"rb\" ) )\n",
    "inputs_validation = pickle.load( open( \"./import_dataset_2/validation/inputs_validation.pkl\", \"rb\" ) )\n",
    "\n",
    "coord_ind = np.append(np.arange(0,2),np.arange(4,164))\n",
    "inputs_validation = inputs_validation[:,:,coord_ind]\n",
    "gt_validation = gt_validation[:,:,:2]\n",
    "\n",
    "inputs_validation = torch.from_numpy(inputs_validation).float()\n",
    "gt_validation = torch.from_numpy(gt_validation).float()\n",
    "\n",
    "gt_validation = gt_validation.unsqueeze(1) # add 1 dimension to the training set\n",
    "inputs_validation = inputs_validation.unsqueeze(1) # add 1 dimension to the training set\n",
    "print (inputs_validation.shape)\n",
    "\n",
    "gt_validation_coord.shape,gt_validation.shape,in_validation_coord.shape,inputs_validation.shape"
   ]
  },
  {
   "cell_type": "markdown",
   "metadata": {},
   "source": [
    "## TEST SET"
   ]
  },
  {
   "cell_type": "code",
   "execution_count": 4,
   "metadata": {
    "collapsed": true
   },
   "outputs": [],
   "source": [
    "gt_test_coord_1 = pickle.load( open( \"./import_dataset_2/test/gt_test_coord_1.pkl\", \"rb\" ) )\n",
    "gt_test_1 = pickle.load( open( \"./import_dataset_2/test/gt_test_1.pkl\", \"rb\" ) )\n",
    "in_test_coord_1 = pickle.load( open( \"./import_dataset_2/test/in_test_coord_1.pkl\", \"rb\" ) )\n",
    "inputs_test_1 = pickle.load( open( \"./import_dataset_2/test/inputs_test_1.pkl\", \"rb\" ) )\n",
    "\n",
    "gt_test_coord_2 = pickle.load( open( \"./import_dataset_2/test/gt_test_coord_2.pkl\", \"rb\" ) )\n",
    "gt_test_2 = pickle.load( open( \"./import_dataset_2/test/gt_test_2.pkl\", \"rb\" ) )\n",
    "in_test_coord_2 = pickle.load( open( \"./import_dataset_2/test/in_test_coord_2.pkl\", \"rb\" ) )\n",
    "inputs_test_2 = pickle.load( open( \"./import_dataset_2/test/inputs_test_2.pkl\", \"rb\" ) )\n",
    "\n",
    "gt_test_coord_3 = pickle.load( open( \"./import_dataset_2/test/gt_test_coord_3.pkl\", \"rb\" ) )\n",
    "gt_test_3 = pickle.load( open( \"./import_dataset_2/test/gt_test_3.pkl\", \"rb\" ) )\n",
    "in_test_coord_3 = pickle.load( open( \"./import_dataset_2/test/in_test_coord_3.pkl\", \"rb\" ) )\n",
    "inputs_test_3 = pickle.load( open( \"./import_dataset_2/test/inputs_test_3.pkl\", \"rb\" ) )\n",
    "\n",
    "coord_ind = np.append(np.arange(0,2),np.arange(4,164))\n",
    "inputs_test_1 = inputs_test_1[:,:,coord_ind]\n",
    "gt_test_1 = gt_test_1[:,:,:2]\n",
    "inputs_test_2 = inputs_test_2[:,:,coord_ind]\n",
    "gt_test_2 = gt_test_2[:,:,:2]\n",
    "inputs_test_3 = inputs_test_3[:,:,coord_ind]\n",
    "gt_test_3 = gt_test_3[:,:,:2]\n",
    "\n",
    "\n",
    "inputs_test_1 = torch.from_numpy(inputs_test_1).float()\n",
    "gt_test_1 = torch.from_numpy(gt_test_1).float()\n",
    "inputs_test_1 = inputs_test_1.unsqueeze(1) \n",
    "\n",
    "inputs_test_2 = torch.from_numpy(inputs_test_2).float()\n",
    "gt_test_2 = torch.from_numpy(gt_test_2).float()\n",
    "inputs_test_2 = inputs_test_2.unsqueeze(1)\n",
    "\n",
    "inputs_test_3 = torch.from_numpy(inputs_test_3).float()\n",
    "gt_test_3 = torch.from_numpy(gt_test_3).float()\n",
    "inputs_test_3 = inputs_test_3.unsqueeze(1)"
   ]
  },
  {
   "cell_type": "markdown",
   "metadata": {},
   "source": [
    "### Model"
   ]
  },
  {
   "cell_type": "code",
   "execution_count": 5,
   "metadata": {
    "collapsed": true
   },
   "outputs": [],
   "source": [
    "net = CNN2D_velocities()\n",
    "criterion = torch.nn.MSELoss()\n",
    "optimizer = torch.optim.Adam(net.parameters(), lr=0.0001, weight_decay=1e-4)\n",
    "\n",
    "traindataset = utils.TensorDataset(inputs_train, gt_train[:,:,1:,:])\n",
    "trainloader = utils.DataLoader(traindataset, batch_size=16, shuffle=True)\n",
    "\n",
    "valdataset = utils.TensorDataset(inputs_validation, gt_validation[:,:,1:,:])\n",
    "valloader = utils.DataLoader(valdataset, batch_size=16, shuffle=True)"
   ]
  },
  {
   "cell_type": "code",
   "execution_count": 6,
   "metadata": {
    "scrolled": true
   },
   "outputs": [
    {
     "name": "stdout",
     "output_type": "stream",
     "text": [
      "Epoch: 1/150.. Validation Loss: 3.0219.. Training Loss: 4.3437.. 0.0176 s/batch \n",
      "Epoch: 2/150.. Validation Loss: 2.4238.. Training Loss: 2.6651.. 0.0160 s/batch \n",
      "Epoch: 3/150.. Validation Loss: 2.1223.. Training Loss: 2.2564.. 0.0154 s/batch \n",
      "Epoch: 4/150.. Validation Loss: 1.8597.. Training Loss: 1.9620.. 0.0173 s/batch \n",
      "Epoch: 5/150.. Validation Loss: 1.5969.. Training Loss: 1.7162.. 0.0155 s/batch \n",
      "Epoch: 6/150.. Validation Loss: 1.4012.. Training Loss: 1.4649.. 0.0154 s/batch \n",
      "Epoch: 7/150.. Validation Loss: 1.2535.. Training Loss: 1.2954.. 0.0140 s/batch \n",
      "Epoch: 8/150.. Validation Loss: 1.2216.. Training Loss: 1.1602.. 0.0140 s/batch \n",
      "Epoch: 9/150.. Validation Loss: 1.1206.. Training Loss: 1.0865.. 0.0149 s/batch \n",
      "Epoch: 10/150.. Validation Loss: 1.0969.. Training Loss: 1.0505.. 0.0156 s/batch \n",
      "Epoch: 11/150.. Validation Loss: 1.0612.. Training Loss: 1.0076.. 0.0150 s/batch \n",
      "Epoch: 12/150.. Validation Loss: 1.0590.. Training Loss: 0.9726.. 0.0147 s/batch \n",
      "Epoch: 13/150.. Validation Loss: 1.0369.. Training Loss: 0.9422.. 0.0140 s/batch \n",
      "Epoch: 14/150.. Validation Loss: 1.0616.. Training Loss: 0.9224.. 0.0148 s/batch \n",
      "Epoch: 15/150.. Validation Loss: 0.9777.. Training Loss: 0.9150.. 0.0154 s/batch \n",
      "Epoch: 16/150.. Validation Loss: 0.9732.. Training Loss: 0.8982.. 0.0149 s/batch \n",
      "Epoch: 17/150.. Validation Loss: 0.9543.. Training Loss: 0.8759.. 0.0138 s/batch \n",
      "Epoch: 18/150.. Validation Loss: 0.9536.. Training Loss: 0.8628.. 0.0142 s/batch \n",
      "Epoch: 19/150.. Validation Loss: 0.9411.. Training Loss: 0.8513.. 0.0144 s/batch \n",
      "Epoch: 20/150.. Validation Loss: 0.9117.. Training Loss: 0.8282.. 0.0148 s/batch \n",
      "Epoch: 21/150.. Validation Loss: 0.9254.. Training Loss: 0.8116.. 0.0149 s/batch \n",
      "Epoch: 22/150.. Validation Loss: 0.9024.. Training Loss: 0.8012.. 0.0137 s/batch \n",
      "Epoch: 23/150.. Validation Loss: 0.9124.. Training Loss: 0.7826.. 0.0141 s/batch \n",
      "Epoch: 24/150.. Validation Loss: 0.8858.. Training Loss: 0.7746.. 0.0147 s/batch \n",
      "Epoch: 25/150.. Validation Loss: 0.8856.. Training Loss: 0.7587.. 0.0151 s/batch \n",
      "Epoch: 26/150.. Validation Loss: 0.8698.. Training Loss: 0.7477.. 0.0147 s/batch \n",
      "Epoch: 27/150.. Validation Loss: 0.8710.. Training Loss: 0.7316.. 0.0137 s/batch \n",
      "Epoch: 28/150.. Validation Loss: 0.8598.. Training Loss: 0.7154.. 0.0138 s/batch \n",
      "Epoch: 29/150.. Validation Loss: 0.8403.. Training Loss: 0.7049.. 0.0137 s/batch \n",
      "Epoch: 30/150.. Validation Loss: 0.8307.. Training Loss: 0.6978.. 0.0150 s/batch \n",
      "Epoch: 31/150.. Validation Loss: 0.8051.. Training Loss: 0.6868.. 0.0172 s/batch \n",
      "Epoch: 32/150.. Validation Loss: 0.8179.. Training Loss: 0.6690.. 0.0168 s/batch \n",
      "Epoch: 33/150.. Validation Loss: 0.7907.. Training Loss: 0.6660.. 0.0168 s/batch \n",
      "Epoch: 34/150.. Validation Loss: 0.8120.. Training Loss: 0.6456.. 0.0169 s/batch \n",
      "Epoch: 35/150.. Validation Loss: 0.7989.. Training Loss: 0.6370.. 0.0160 s/batch \n",
      "Epoch: 36/150.. Validation Loss: 0.8374.. Training Loss: 0.6222.. 0.0152 s/batch \n",
      "Epoch: 37/150.. Validation Loss: 0.7643.. Training Loss: 0.6230.. 0.0155 s/batch \n",
      "Epoch: 38/150.. Validation Loss: 0.7553.. Training Loss: 0.6060.. 0.0159 s/batch \n",
      "Epoch: 39/150.. Validation Loss: 0.7523.. Training Loss: 0.5943.. 0.0170 s/batch \n",
      "Epoch: 40/150.. Validation Loss: 0.7318.. Training Loss: 0.5829.. 0.0161 s/batch \n",
      "Epoch: 41/150.. Validation Loss: 0.7273.. Training Loss: 0.5696.. 0.0149 s/batch \n",
      "Epoch: 42/150.. Validation Loss: 0.7380.. Training Loss: 0.5667.. 0.0151 s/batch \n",
      "Epoch: 43/150.. Validation Loss: 0.7292.. Training Loss: 0.5526.. 0.0155 s/batch \n",
      "Epoch: 44/150.. Validation Loss: 0.7033.. Training Loss: 0.5460.. 0.0154 s/batch \n",
      "Epoch: 45/150.. Validation Loss: 0.6950.. Training Loss: 0.5338.. 0.0140 s/batch \n",
      "Epoch: 46/150.. Validation Loss: 0.6926.. Training Loss: 0.5294.. 0.0142 s/batch \n",
      "Epoch: 47/150.. Validation Loss: 0.6996.. Training Loss: 0.5145.. 0.0147 s/batch \n",
      "Epoch: 48/150.. Validation Loss: 0.6889.. Training Loss: 0.5043.. 0.0152 s/batch \n",
      "Epoch: 49/150.. Validation Loss: 0.7079.. Training Loss: 0.5028.. 0.0146 s/batch \n",
      "Epoch: 50/150.. Validation Loss: 0.6810.. Training Loss: 0.5051.. 0.0138 s/batch \n",
      "Epoch: 51/150.. Validation Loss: 0.6889.. Training Loss: 0.4927.. 0.0139 s/batch \n",
      "Epoch: 52/150.. Validation Loss: 0.6616.. Training Loss: 0.4888.. 0.0148 s/batch \n",
      "Epoch: 53/150.. Validation Loss: 0.6652.. Training Loss: 0.4807.. 0.0150 s/batch \n",
      "Epoch: 54/150.. Validation Loss: 0.6715.. Training Loss: 0.4697.. 0.0140 s/batch \n",
      "Epoch: 55/150.. Validation Loss: 0.6408.. Training Loss: 0.4716.. 0.0146 s/batch \n",
      "Epoch: 56/150.. Validation Loss: 0.6844.. Training Loss: 0.4580.. 0.0144 s/batch \n",
      "Epoch: 57/150.. Validation Loss: 0.6301.. Training Loss: 0.4601.. 0.0149 s/batch \n",
      "Epoch: 58/150.. Validation Loss: 0.6293.. Training Loss: 0.4474.. 0.0164 s/batch \n",
      "Epoch: 59/150.. Validation Loss: 0.6294.. Training Loss: 0.4488.. 0.0140 s/batch \n",
      "Epoch: 60/150.. Validation Loss: 0.6264.. Training Loss: 0.4446.. 0.0139 s/batch \n",
      "Epoch: 61/150.. Validation Loss: 0.6495.. Training Loss: 0.4416.. 0.0138 s/batch \n",
      "Epoch: 62/150.. Validation Loss: 0.6231.. Training Loss: 0.4388.. 0.0142 s/batch \n",
      "Epoch: 63/150.. Validation Loss: 0.6428.. Training Loss: 0.4280.. 0.0152 s/batch \n",
      "Epoch: 64/150.. Validation Loss: 0.6236.. Training Loss: 0.4262.. 0.0150 s/batch \n",
      "Epoch: 65/150.. Validation Loss: 0.6440.. Training Loss: 0.4288.. 0.0142 s/batch \n",
      "Epoch: 66/150.. Validation Loss: 0.6106.. Training Loss: 0.4224.. 0.0140 s/batch \n",
      "Epoch: 67/150.. Validation Loss: 0.6006.. Training Loss: 0.4139.. 0.0139 s/batch \n",
      "Epoch: 68/150.. Validation Loss: 0.5895.. Training Loss: 0.4125.. 0.0140 s/batch \n",
      "Epoch: 69/150.. Validation Loss: 0.6133.. Training Loss: 0.4070.. 0.0147 s/batch \n",
      "Epoch: 70/150.. Validation Loss: 0.5916.. Training Loss: 0.4099.. 0.0153 s/batch \n",
      "Epoch: 71/150.. Validation Loss: 0.5951.. Training Loss: 0.4012.. 0.0146 s/batch \n",
      "Epoch: 72/150.. Validation Loss: 0.5910.. Training Loss: 0.3977.. 0.0140 s/batch \n",
      "Epoch: 73/150.. Validation Loss: 0.5926.. Training Loss: 0.3949.. 0.0136 s/batch \n",
      "Epoch: 74/150.. Validation Loss: 0.5921.. Training Loss: 0.3966.. 0.0139 s/batch \n",
      "Epoch: 75/150.. Validation Loss: 0.6043.. Training Loss: 0.3821.. 0.0142 s/batch \n",
      "Epoch: 76/150.. Validation Loss: 0.6061.. Training Loss: 0.3882.. 0.0153 s/batch \n",
      "Epoch: 77/150.. Validation Loss: 0.5752.. Training Loss: 0.3842.. 0.0152 s/batch \n",
      "Epoch: 78/150.. Validation Loss: 0.5875.. Training Loss: 0.3842.. 0.0141 s/batch \n",
      "Epoch: 79/150.. Validation Loss: 0.5862.. Training Loss: 0.3796.. 0.0143 s/batch \n",
      "Epoch: 80/150.. Validation Loss: 0.6020.. Training Loss: 0.3692.. 0.0152 s/batch \n",
      "Epoch: 81/150.. Validation Loss: 0.5712.. Training Loss: 0.3727.. 0.0156 s/batch \n",
      "Epoch: 82/150.. Validation Loss: 0.5705.. Training Loss: 0.3709.. 0.0176 s/batch \n",
      "Epoch: 83/150.. Validation Loss: 0.5744.. Training Loss: 0.3729.. 0.0173 s/batch \n",
      "Epoch: 84/150.. Validation Loss: 0.5529.. Training Loss: 0.3619.. 0.0156 s/batch \n",
      "Epoch: 85/150.. Validation Loss: 0.5712.. Training Loss: 0.3592.. 0.0153 s/batch \n",
      "Epoch: 86/150.. Validation Loss: 0.5754.. Training Loss: 0.3592.. 0.0164 s/batch \n",
      "Epoch: 87/150.. Validation Loss: 0.5564.. Training Loss: 0.3563.. 0.0140 s/batch \n",
      "Epoch: 88/150.. Validation Loss: 0.5623.. Training Loss: 0.3568.. 0.0142 s/batch \n",
      "Epoch: 89/150.. Validation Loss: 0.5663.. Training Loss: 0.3530.. 0.0140 s/batch \n",
      "Epoch: 90/150.. Validation Loss: 0.5674.. Training Loss: 0.3524.. 0.0139 s/batch \n",
      "Epoch: 91/150.. Validation Loss: 0.5502.. Training Loss: 0.3506.. 0.0154 s/batch \n",
      "Epoch: 92/150.. Validation Loss: 0.5510.. Training Loss: 0.3453.. 0.0152 s/batch \n",
      "Epoch: 93/150.. Validation Loss: 0.5557.. Training Loss: 0.3394.. 0.0143 s/batch \n",
      "Epoch: 94/150.. Validation Loss: 0.5719.. Training Loss: 0.3405.. 0.0137 s/batch \n",
      "Epoch: 95/150.. Validation Loss: 0.5690.. Training Loss: 0.3403.. 0.0140 s/batch \n",
      "Epoch: 96/150.. Validation Loss: 0.5518.. Training Loss: 0.3419.. 0.0144 s/batch \n",
      "Epoch: 97/150.. Validation Loss: 0.5571.. Training Loss: 0.3354.. 0.0151 s/batch \n",
      "Epoch: 98/150.. Validation Loss: 0.5654.. Training Loss: 0.3361.. 0.0150 s/batch \n",
      "Epoch: 99/150.. Validation Loss: 0.5725.. Training Loss: 0.3346.. 0.0148 s/batch \n",
      "Epoch: 100/150.. Validation Loss: 0.5440.. Training Loss: 0.3343.. 0.0138 s/batch \n",
      "Epoch: 101/150.. Validation Loss: 0.5483.. Training Loss: 0.3278.. 0.0143 s/batch \n"
     ]
    },
    {
     "name": "stdout",
     "output_type": "stream",
     "text": [
      "Epoch: 102/150.. Validation Loss: 0.5533.. Training Loss: 0.3246.. 0.0161 s/batch \n",
      "Epoch: 103/150.. Validation Loss: 0.5450.. Training Loss: 0.3201.. 0.0149 s/batch \n",
      "Epoch: 104/150.. Validation Loss: 0.5547.. Training Loss: 0.3219.. 0.0150 s/batch \n",
      "Epoch: 105/150.. Validation Loss: 0.5519.. Training Loss: 0.3239.. 0.0141 s/batch \n",
      "Epoch: 106/150.. Validation Loss: 0.5442.. Training Loss: 0.3209.. 0.0147 s/batch \n",
      "Epoch: 107/150.. Validation Loss: 0.5503.. Training Loss: 0.3219.. 0.0151 s/batch \n",
      "Epoch: 108/150.. Validation Loss: 0.5515.. Training Loss: 0.3237.. 0.0144 s/batch \n",
      "Epoch: 109/150.. Validation Loss: 0.5378.. Training Loss: 0.3179.. 0.0137 s/batch \n",
      "Epoch: 110/150.. Validation Loss: 0.5374.. Training Loss: 0.3134.. 0.0142 s/batch \n",
      "Epoch: 111/150.. Validation Loss: 0.5408.. Training Loss: 0.3148.. 0.0143 s/batch \n",
      "Epoch: 112/150.. Validation Loss: 0.5397.. Training Loss: 0.3154.. 0.0141 s/batch \n",
      "Epoch: 113/150.. Validation Loss: 0.5370.. Training Loss: 0.3138.. 0.0153 s/batch \n",
      "Epoch: 114/150.. Validation Loss: 0.5869.. Training Loss: 0.3121.. 0.0152 s/batch \n",
      "Epoch: 115/150.. Validation Loss: 0.5374.. Training Loss: 0.3166.. 0.0137 s/batch \n",
      "Epoch: 116/150.. Validation Loss: 0.5356.. Training Loss: 0.3034.. 0.0138 s/batch \n",
      "Epoch: 117/150.. Validation Loss: 0.5622.. Training Loss: 0.3019.. 0.0143 s/batch \n",
      "Epoch: 118/150.. Validation Loss: 0.5292.. Training Loss: 0.3070.. 0.0169 s/batch \n",
      "Epoch: 119/150.. Validation Loss: 0.5575.. Training Loss: 0.3036.. 0.0163 s/batch \n",
      "Epoch: 120/150.. Validation Loss: 0.5302.. Training Loss: 0.2958.. 0.0140 s/batch \n",
      "Epoch: 121/150.. Validation Loss: 0.5329.. Training Loss: 0.3039.. 0.0144 s/batch \n",
      "Epoch: 122/150.. Validation Loss: 0.5370.. Training Loss: 0.3021.. 0.0144 s/batch \n",
      "Epoch: 123/150.. Validation Loss: 0.5358.. Training Loss: 0.3008.. 0.0154 s/batch \n",
      "Epoch: 124/150.. Validation Loss: 0.5221.. Training Loss: 0.2967.. 0.0157 s/batch \n",
      "Epoch: 125/150.. Validation Loss: 0.5307.. Training Loss: 0.2917.. 0.0139 s/batch \n",
      "Epoch: 126/150.. Validation Loss: 0.5334.. Training Loss: 0.2931.. 0.0153 s/batch \n",
      "Epoch: 127/150.. Validation Loss: 0.5392.. Training Loss: 0.2877.. 0.0150 s/batch \n",
      "Epoch: 128/150.. Validation Loss: 0.5241.. Training Loss: 0.2894.. 0.0150 s/batch \n",
      "Epoch: 129/150.. Validation Loss: 0.5286.. Training Loss: 0.2883.. 0.0145 s/batch \n",
      "Epoch: 130/150.. Validation Loss: 0.5364.. Training Loss: 0.2957.. 0.0140 s/batch \n",
      "Epoch: 131/150.. Validation Loss: 0.5171.. Training Loss: 0.2873.. 0.0145 s/batch \n",
      "Epoch: 132/150.. Validation Loss: 0.5205.. Training Loss: 0.2834.. 0.0153 s/batch \n",
      "Epoch: 133/150.. Validation Loss: 0.5359.. Training Loss: 0.2858.. 0.0151 s/batch \n",
      "Epoch: 134/150.. Validation Loss: 0.5296.. Training Loss: 0.2830.. 0.0139 s/batch \n",
      "Epoch: 135/150.. Validation Loss: 0.5398.. Training Loss: 0.2848.. 0.0140 s/batch \n",
      "Epoch: 136/150.. Validation Loss: 0.5268.. Training Loss: 0.2820.. 0.0142 s/batch \n",
      "Epoch: 137/150.. Validation Loss: 0.5297.. Training Loss: 0.2867.. 0.0141 s/batch \n",
      "Epoch: 138/150.. Validation Loss: 0.5215.. Training Loss: 0.2850.. 0.0151 s/batch \n",
      "Epoch: 139/150.. Validation Loss: 0.5278.. Training Loss: 0.2820.. 0.0154 s/batch \n",
      "Epoch: 140/150.. Validation Loss: 0.5388.. Training Loss: 0.2819.. 0.0149 s/batch \n",
      "Epoch: 141/150.. Validation Loss: 0.5421.. Training Loss: 0.2719.. 0.0143 s/batch \n",
      "Epoch: 142/150.. Validation Loss: 0.5346.. Training Loss: 0.2741.. 0.0144 s/batch \n",
      "Epoch: 143/150.. Validation Loss: 0.5114.. Training Loss: 0.2730.. 0.0142 s/batch \n",
      "Epoch: 144/150.. Validation Loss: 0.5359.. Training Loss: 0.2685.. 0.0145 s/batch \n",
      "Epoch: 145/150.. Validation Loss: 0.5250.. Training Loss: 0.2749.. 0.0156 s/batch \n",
      "Epoch: 146/150.. Validation Loss: 0.5366.. Training Loss: 0.2723.. 0.0159 s/batch \n",
      "Epoch: 147/150.. Validation Loss: 0.5215.. Training Loss: 0.2708.. 0.0144 s/batch \n",
      "Epoch: 148/150.. Validation Loss: 0.5379.. Training Loss: 0.2705.. 0.0139 s/batch \n",
      "Epoch: 149/150.. Validation Loss: 0.5111.. Training Loss: 0.2722.. 0.0115 s/batch \n",
      "Epoch: 150/150.. Validation Loss: 0.5236.. Training Loss: 0.2674.. 0.0127 s/batch \n"
     ]
    }
   ],
   "source": [
    "epochs = 150\n",
    "steps = 0\n",
    "running_loss = 0\n",
    "print_every = 323\n",
    "loss_train = []\n",
    "loss_val = []\n",
    "\n",
    "for e in range(epochs):\n",
    "    start = time.time()\n",
    "    steps_bis = 0\n",
    "    total_train_loss=0\n",
    "    for train_coord, ground_tru in iter(trainloader):\n",
    "        \n",
    "        steps += 1\n",
    "        steps_bis += 1\n",
    "        \n",
    "        input_train = Variable(train_coord)\n",
    "        in_train = input_train.squeeze(1)\n",
    "        target = Variable(ground_tru)\n",
    "        targets = target.squeeze(1)\n",
    "        optimizer.zero_grad()\n",
    "        out = net.forward(input_train)\n",
    "        out = out.reshape(out.shape[0],10,2)\n",
    "        loss1 = (criterion(out[:,:,0:2], targets[:,:,0:2]))\n",
    "        \n",
    "        loss1.backward(retain_graph=True)\n",
    "        optimizer.step()\n",
    "        \n",
    "        running_loss += (loss1).item()\n",
    "        total_train_loss += (loss1).item()\n",
    "        \n",
    "        if steps % print_every == 0:\n",
    "            stop = time.time()\n",
    "            val_loss=0\n",
    "            \n",
    "            for ii, (images, labels) in enumerate(valloader):\n",
    "                \n",
    "                inp = Variable(images)\n",
    "                input_val = inp.squeeze(1)\n",
    "                lab = Variable(labels)\n",
    "                valgt = lab.squeeze(1)\n",
    "                predicted = net.predict(inp)\n",
    "                predicted = predicted.reshape(predicted.shape[0],10,2)\n",
    "                val_loss+= (criterion(predicted[:,:,0:2],valgt[:,:,0:2]).item())\n",
    "                \n",
    "            print(\"Epoch: {}/{}..\".format(e+1, epochs),\n",
    "                  \"Validation Loss: {:.4f}..\".format(val_loss/ii),\n",
    "                  \"Training Loss: {:.4f}..\".format(running_loss/print_every),\n",
    "                  \"{:.4f} s/batch \".format((stop - start)/print_every),\n",
    "                 )\n",
    "            loss_val.append(val_loss/ii)\n",
    "            running_loss = 0\n",
    "            start = time.time()\n",
    "    loss_train.append(total_train_loss/steps_bis)"
   ]
  },
  {
   "cell_type": "code",
   "execution_count": 9,
   "metadata": {
    "scrolled": false
   },
   "outputs": [
    {
     "data": {
      "text/plain": [
       "<matplotlib.legend.Legend at 0x11ac75588>"
      ]
     },
     "execution_count": 9,
     "metadata": {},
     "output_type": "execute_result"
    },
    {
     "data": {
      "image/png": "[encoded data removed]",
      "text/plain": [
       "<matplotlib.figure.Figure at 0x1142caef0>"
      ]
     },
     "metadata": {},
     "output_type": "display_data"
    }
   ],
   "source": [
    "epoch = np.arange(1,epochs+1)\n",
    "plt.figure(figsize=(12, 7))\n",
    "plt.rc('font', family='serif')\n",
    "plt.rc('font', size=20)\n",
    "\n",
    "plt.plot(epoch,loss_train,label='Training loss')\n",
    "plt.plot(epoch,loss_val,c='k',label='Validation loss')\n",
    "plt.xlabel('epoch')\n",
    "plt.ylabel('MSE error')\n",
    "plt.legend()\n",
    "#plt.savefig(r'./figures/loss_coord.pdf', bbox_inches='tight')"
   ]
  },
  {
   "cell_type": "code",
   "execution_count": 75,
   "metadata": {},
   "outputs": [],
   "source": [
    "output_test_1 = net.predict(inputs_test_1)\n",
    "output_test_1 = output_test_1.data.numpy()\n",
    "output_test_1 = np.reshape(output_test_1,(250,10,2))\n",
    "\n",
    "output_test_2 = net.predict(inputs_test_2)\n",
    "output_test_2 = output_test_2.data.numpy()\n",
    "output_test_2 = np.reshape(output_test_2,(1006,10,2))\n",
    "\n",
    "output_test_3 = net.predict(inputs_test_3)\n",
    "output_test_3 = output_test_3.data.numpy()\n",
    "output_test_3 = np.reshape(output_test_3,(460,10,2))"
   ]
  },
  {
   "cell_type": "markdown",
   "metadata": {},
   "source": [
    "## Post processing step\n",
    "Go back to coordinate:\n",
    "We have Vx and Vy and we want x and y.\n",
    "$ V = d/t$\n",
    "$ d = V*t$\n",
    "Here t = 0.4s between each point.\n",
    "Start from data at index 9. Then we add d_x and d_y to the last x and y."
   ]
  },
  {
   "cell_type": "markdown",
   "metadata": {},
   "source": [
    "##### Type 1 trajectory"
   ]
  },
  {
   "cell_type": "code",
   "execution_count": 76,
   "metadata": {},
   "outputs": [],
   "source": [
    "output_coord_1=np.zeros([11,inputs_test_1.shape[2],2])\n",
    "for j in range(11):\n",
    "    for i in range(output_test_1.shape[0]):\n",
    "        if j==0:\n",
    "            output_coord_1[j,i,0:2] = in_test_coord_1[9,i,0:2]\n",
    "        else:\n",
    "            output_coord_1[j,i,0:2] = output_coord_1[j-1,i,0:2]+output_test_1[i,j-1,:]*0.4\n",
    "        "
   ]
  },
  {
   "cell_type": "code",
   "execution_count": 77,
   "metadata": {},
   "outputs": [
    {
     "name": "stdout",
     "output_type": "stream",
     "text": [
      "The final distance between the ground trought and the predicted coordinates is : 18.404\n"
     ]
    }
   ],
   "source": [
    "dist = np.zeros(output_coord_1.shape[1])\n",
    "for i in range(gt_test_coord_1.shape[1]):\n",
    "    dist[i] = np.sqrt(sum((gt_test_coord_1[10,i,:]-output_coord_1[10,i,:])**2))\n",
    "\n",
    "final_coord_error = np.mean(dist)\n",
    "print('The final distance between the ground trought and the predicted coordinates is :',final_coord_error.round(3))"
   ]
  },
  {
   "cell_type": "code",
   "execution_count": 78,
   "metadata": {},
   "outputs": [
    {
     "name": "stdout",
     "output_type": "stream",
     "text": [
      "The average error between the ground trought and the predicted coordinates is : 8.526\n"
     ]
    }
   ],
   "source": [
    "avr = np.zeros((gt_test_coord_1.shape[1],11))\n",
    "for i in range(gt_test_coord_1.shape[1]):\n",
    "    for j in range(11):\n",
    "        avr[i,j] = np.sqrt(sum((gt_test_coord_1[j,i,:]-output_coord_1[j,i,:])**2))\n",
    "\n",
    "average = np.mean(np.mean(avr,1))\n",
    "print('The average error between the ground trought and the predicted coordinates is :',average.round(3))"
   ]
  },
  {
   "cell_type": "code",
   "execution_count": 79,
   "metadata": {},
   "outputs": [
    {
     "data": {
      "text/plain": [
       "(-0.5191280543804169,\n",
       " 10.901689141988754,\n",
       " -0.9219025790691376,\n",
       " 19.35995416045189)"
      ]
     },
     "execution_count": 79,
     "metadata": {},
     "output_type": "execute_result"
    },
    {
     "data": {
      "image/png": "[encoded data removed]",
      "text/plain": [
       "<matplotlib.figure.Figure at 0x11adac7b8>"
      ]
     },
     "metadata": {},
     "output_type": "display_data"
    }
   ],
   "source": [
    "plt.figure(figsize=(12, 7))\n",
    "plt.rc('font', family='serif')\n",
    "plt.rc('font', size=20)\n",
    "\n",
    "ind = np.random.randint(inputs_test_1.shape[0])\n",
    "\n",
    "plt.plot(in_test_coord_1[:,ind,0],in_test_coord_1[:,ind,1],c='b')\n",
    "plt.plot(gt_test_coord_1[:,ind,0],gt_test_coord_1[:,ind,1],c='k')\n",
    "plt.plot(output_coord_1[:,ind,0],output_coord_1[:,ind,1],c='r')\n",
    "plt.axis('equal')"
   ]
  },
  {
   "cell_type": "markdown",
   "metadata": {},
   "source": [
    "##### Type 2 trajectory"
   ]
  },
  {
   "cell_type": "code",
   "execution_count": 80,
   "metadata": {
    "collapsed": true
   },
   "outputs": [],
   "source": [
    "output_coord_2=np.zeros([11,inputs_test_2.shape[2],2])\n",
    "for j in range(11):\n",
    "    for i in range(output_test_2.shape[1]):\n",
    "        if j==0:\n",
    "            output_coord_2[j,i,0:2] = in_test_coord_2[9,i,0:2]\n",
    "        else:\n",
    "            output_coord_2[j,i,0:2] = output_coord_2[j-1,i,0:2]+output_test_2[i,j-1,:]*0.4\n",
    "        "
   ]
  },
  {
   "cell_type": "code",
   "execution_count": 81,
   "metadata": {},
   "outputs": [
    {
     "name": "stdout",
     "output_type": "stream",
     "text": [
      "The final distance between the ground trought and the predicted coordinates is : 7.138\n"
     ]
    }
   ],
   "source": [
    "dist = np.zeros(output_coord_2.shape[1])\n",
    "for i in range(gt_test_coord_2.shape[1]):\n",
    "    dist[i] = np.sqrt(sum((gt_test_coord_2[10,i,:]-output_coord_2[10,i,:])**2))\n",
    "\n",
    "final_coord_error = np.mean(dist)\n",
    "print('The final distance between the ground trought and the predicted coordinates is :',final_coord_error.round(3))"
   ]
  },
  {
   "cell_type": "code",
   "execution_count": 82,
   "metadata": {},
   "outputs": [
    {
     "name": "stdout",
     "output_type": "stream",
     "text": [
      "The average error between the ground trought and the predicted coordinates is : 5.204\n"
     ]
    }
   ],
   "source": [
    "avr = np.zeros((gt_test_coord_2.shape[1],11))\n",
    "for i in range(gt_test_coord_2.shape[1]):\n",
    "    for j in range(11):\n",
    "        avr[i,j] = np.sqrt(sum((gt_test_coord_2[j,i,:]-output_coord_2[j,i,:])**2))\n",
    "\n",
    "average = np.mean(np.mean(avr,1))\n",
    "print('The average error between the ground trought and the predicted coordinates is :',average.round(3))"
   ]
  },
  {
   "cell_type": "code",
   "execution_count": 83,
   "metadata": {},
   "outputs": [
    {
     "data": {
      "text/plain": [
       "(-0.28222117972460176,\n",
       " 5.926644774216637,\n",
       " -1.607220581765625,\n",
       " 33.751632217078125)"
      ]
     },
     "execution_count": 83,
     "metadata": {},
     "output_type": "execute_result"
    },
    {
     "data": {
      "image/png": "[encoded data removed]",
      "text/plain": [
       "<matplotlib.figure.Figure at 0x11babb978>"
      ]
     },
     "metadata": {},
     "output_type": "display_data"
    }
   ],
   "source": [
    "plt.figure(figsize=(12, 7))\n",
    "plt.rc('font', family='serif')\n",
    "plt.rc('font', size=20)\n",
    "\n",
    "ind = np.random.randint(inputs_test_2.shape[0])\n",
    "\n",
    "plt.plot(in_test_coord_2[:,ind,0],in_test_coord_2[:,ind,1],c='b')\n",
    "plt.plot(gt_test_coord_2[:,ind,0],gt_test_coord_2[:,ind,1],c='k')\n",
    "plt.plot(output_coord_2[:,ind,0],output_coord_2[:,ind,1],c='r')\n",
    "plt.axis('equal')"
   ]
  },
  {
   "cell_type": "markdown",
   "metadata": {},
   "source": [
    "##### Type 3 trajectory"
   ]
  },
  {
   "cell_type": "code",
   "execution_count": 84,
   "metadata": {
    "collapsed": true
   },
   "outputs": [],
   "source": [
    "output_coord_3=np.zeros([11,inputs_test_3.shape[2],2])\n",
    "for j in range(11):\n",
    "    for i in range(inputs_test_3.shape[2]):\n",
    "        if j==0:\n",
    "            output_coord_3[j,i,0:2] = in_test_coord_3[9,i,0:2]\n",
    "        else:\n",
    "            output_coord_3[j,i,0:2] = output_coord_3[j-1,i,0:2]+output_test_3[i,j-1,:]*0.4\n",
    "        "
   ]
  },
  {
   "cell_type": "code",
   "execution_count": 85,
   "metadata": {},
   "outputs": [
    {
     "name": "stdout",
     "output_type": "stream",
     "text": [
      "The final distance between the ground trought and the predicted coordinates is : 16.739\n"
     ]
    }
   ],
   "source": [
    "dist = np.zeros(output_coord_3.shape[1])\n",
    "for i in range(gt_test_coord_3.shape[1]):\n",
    "    dist[i] = np.sqrt(sum((gt_test_coord_3[10,i,:]-output_coord_3[10,i,:])**2))\n",
    "\n",
    "final_coord_error = np.mean(dist)\n",
    "print('The final distance between the ground trought and the predicted coordinates is :',final_coord_error.round(3))"
   ]
  },
  {
   "cell_type": "code",
   "execution_count": 86,
   "metadata": {},
   "outputs": [
    {
     "name": "stdout",
     "output_type": "stream",
     "text": [
      "The average error between the ground trought and the predicted coordinates is : 7.643\n"
     ]
    }
   ],
   "source": [
    "avr = np.zeros((gt_test_coord_3.shape[1],11))\n",
    "for i in range(gt_test_coord_3.shape[1]):\n",
    "    for j in range(11):\n",
    "        avr[i,j] = np.sqrt(sum((gt_test_coord_3[j,i,:]-output_coord_3[j,i,:])**2))\n",
    "\n",
    "average = np.mean(np.mean(avr,1))\n",
    "print('The average error between the ground trought and the predicted coordinates is :',average.round(3))"
   ]
  },
  {
   "cell_type": "code",
   "execution_count": 87,
   "metadata": {},
   "outputs": [
    {
     "data": {
      "text/plain": [
       "(-5.361298008633861,\n",
       " 0.30991145850637436,\n",
       " -1.3709610603819276,\n",
       " 28.790182268020477)"
      ]
     },
     "execution_count": 87,
     "metadata": {},
     "output_type": "execute_result"
    },
    {
     "data": {
      "image/png": "[encoded data removed]",
      "text/plain": [
       "<matplotlib.figure.Figure at 0x11c0c3940>"
      ]
     },
     "metadata": {},
     "output_type": "display_data"
    }
   ],
   "source": [
    "plt.figure(figsize=(12, 7))\n",
    "plt.rc('font', family='serif')\n",
    "plt.rc('font', size=20)\n",
    "\n",
    "ind = np.random.randint(inputs_test_3.shape[0])\n",
    "\n",
    "plt.plot(in_test_coord_3[:,ind,0],in_test_coord_3[:,ind,1],c='b')\n",
    "plt.plot(gt_test_coord_3[:,ind,0],gt_test_coord_3[:,ind,1],c='k')\n",
    "plt.plot(output_coord_3[:,ind,0],output_coord_3[:,ind,1],c='r')\n",
    "plt.axis('equal')"
   ]
  },
  {
   "cell_type": "code",
   "execution_count": 74,
   "metadata": {
    "collapsed": true
   },
   "outputs": [],
   "source": [
    "torch.save(net.state_dict(), 'coord_1CNN.pt')"
   ]
  },
  {
   "cell_type": "code",
   "execution_count": null,
   "metadata": {
    "collapsed": true
   },
   "outputs": [],
   "source": []
  },
  {
   "cell_type": "code",
   "execution_count": null,
   "metadata": {
    "collapsed": true
   },
   "outputs": [],
   "source": []
  }
 ],
 "metadata": {
  "kernelspec": {
   "display_name": "Python 3",
   "language": "python",
   "name": "python3"
  },
  "language_info": {
   "codemirror_mode": {
    "name": "ipython",
    "version": 3
   },
   "file_extension": ".py",
   "mimetype": "text/x-python",
   "name": "python",
   "nbconvert_exporter": "python",
   "pygments_lexer": "ipython3",
   "version": "3.6.3"
  }
 },
 "nbformat": 4,
 "nbformat_minor": 2
}
