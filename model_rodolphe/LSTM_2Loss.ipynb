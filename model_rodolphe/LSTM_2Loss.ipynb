{
 "cells": [
  {
   "cell_type": "code",
   "execution_count": 1,
   "metadata": {},
   "outputs": [
    {
     "data": {
      "text/plain": [
       "<torch._C.Generator at 0x10c2a2490>"
      ]
     },
     "execution_count": 1,
     "metadata": {},
     "output_type": "execute_result"
    }
   ],
   "source": [
    "import torch\n",
    "from torch import nn\n",
    "from torch.autograd import Variable\n",
    "import torchvision.datasets as dsets\n",
    "import torchvision.transforms as transforms\n",
    "import matplotlib.pyplot as plt\n",
    "from LSTM import *\n",
    "import pandas as pd\n",
    "import numpy as np\n",
    "import torch.utils.data as utils\n",
    "import time\n",
    "import os\n",
    "import pickle\n",
    "\n",
    "import pdb\n",
    "\n",
    "# For the notebook\n",
    "%matplotlib inline\n",
    "%reload_ext autoreload\n",
    "%autoreload 2\n",
    "\n",
    "torch.manual_seed(1)"
   ]
  },
  {
   "cell_type": "markdown",
   "metadata": {},
   "source": [
    "## TRAIN SET"
   ]
  },
  {
   "cell_type": "code",
   "execution_count": 2,
   "metadata": {},
   "outputs": [],
   "source": [
    "gt_train_coord = pickle.load( open( \"./import_dataset_3/train/gt_train_coord.pkl\", \"rb\" ) )\n",
    "gt_train  = pickle.load( open( \"./import_dataset_3/train/gt_train.pkl\", \"rb\" ) )\n",
    "in_train_coord  = pickle.load( open( \"./import_dataset_3/train/in_train_coord.pkl\", \"rb\" ) )\n",
    "inputs_train = pickle.load( open( \"./import_dataset_3/train/inputs_train.pkl\", \"rb\" ) )\n",
    "\n",
    "inputs_train = torch.from_numpy(inputs_train).float()\n",
    "gt_train = torch.from_numpy(gt_train).float()\n"
   ]
  },
  {
   "cell_type": "markdown",
   "metadata": {},
   "source": [
    "## VALIDATION SET"
   ]
  },
  {
   "cell_type": "code",
   "execution_count": 3,
   "metadata": {},
   "outputs": [],
   "source": [
    "gt_validation_coord = pickle.load( open( \"../import_dataset_3/validation/gt_validation_coord.pkl\", \"rb\" ) )\n",
    "gt_validation = pickle.load( open( \"../import_dataset_3/validation/gt_validation.pkl\", \"rb\" ) )\n",
    "in_validation_coord = pickle.load( open( \"../import_dataset_3/validation/in_validation_coord.pkl\", \"rb\" ) )\n",
    "inputs_validation = pickle.load( open( \"../import_dataset_3/validation/inputs_validation.pkl\", \"rb\" ) )\n",
    "\n",
    "inputs_validation = torch.from_numpy(inputs_validation).float()\n",
    "gt_validation = torch.from_numpy(gt_validation).float()"
   ]
  },
  {
   "cell_type": "markdown",
   "metadata": {},
   "source": [
    "### Model"
   ]
  },
  {
   "cell_type": "code",
   "execution_count": 4,
   "metadata": {},
   "outputs": [],
   "source": [
    "from torch import optim\n",
    "\n",
    "lr = 0.01\n",
    "lstm = LSTM(input_size = inputs_train.shape[2], output_size = 4, num_layers=2, hidden_size=128)\n",
    "optimizer = optim.Adam(lstm.parameters(), lr=lr,weight_decay=1e-4)\n",
    "criterion = nn.MSELoss()"
   ]
  },
  {
   "cell_type": "code",
   "execution_count": 5,
   "metadata": {
    "scrolled": false
   },
   "outputs": [
    {
     "name": "stderr",
     "output_type": "stream",
     "text": [
      "/Users/rodolphefarrando/anaconda3/lib/python3.6/site-packages/ipykernel_launcher.py:53: UserWarning: volatile was removed and now has no effect. Use `with torch.no_grad():` instead.\n"
     ]
    },
    {
     "name": "stdout",
     "output_type": "stream",
     "text": [
      "Epoch: 1/150.. Validation loss: 1.1996.. Training loss: 2.0654.. 0.0549 s/batch\n",
      "Epoch: 2/150.. Validation loss: 1.1857.. Training loss: 1.0916.. 0.0469 s/batch\n",
      "Epoch: 3/150.. Validation loss: 0.9610.. Training loss: 0.9755.. 0.0419 s/batch\n",
      "Epoch: 4/150.. Validation loss: 1.0519.. Training loss: 0.8991.. 0.0427 s/batch\n",
      "Epoch: 5/150.. Validation loss: 1.0013.. Training loss: 0.8823.. 0.0448 s/batch\n",
      "Epoch: 6/150.. Validation loss: 0.9907.. Training loss: 0.8330.. 0.0445 s/batch\n",
      "Epoch: 7/150.. Validation loss: 0.9008.. Training loss: 0.8172.. 0.0433 s/batch\n",
      "Epoch: 8/150.. Validation loss: 0.8874.. Training loss: 0.7972.. 0.0429 s/batch\n",
      "Epoch: 9/150.. Validation loss: 0.8927.. Training loss: 0.7711.. 0.0425 s/batch\n",
      "Epoch: 10/150.. Validation loss: 0.8385.. Training loss: 0.6815.. 0.0421 s/batch\n",
      "Epoch: 11/150.. Validation loss: 0.8010.. Training loss: 0.6406.. 0.0409 s/batch\n",
      "Epoch: 12/150.. Validation loss: 0.8189.. Training loss: 0.6264.. 0.0422 s/batch\n",
      "Epoch: 13/150.. Validation loss: 0.8130.. Training loss: 0.6179.. 0.0423 s/batch\n",
      "Epoch: 14/150.. Validation loss: 0.8276.. Training loss: 0.6073.. 0.0450 s/batch\n",
      "Epoch: 15/150.. Validation loss: 0.8478.. Training loss: 0.5972.. 0.0410 s/batch\n",
      "Epoch: 16/150.. Validation loss: 0.7894.. Training loss: 0.5867.. 0.0530 s/batch\n",
      "Epoch: 17/150.. Validation loss: 0.8031.. Training loss: 0.5884.. 0.0433 s/batch\n",
      "Epoch: 18/150.. Validation loss: 0.8154.. Training loss: 0.5762.. 0.0477 s/batch\n",
      "Epoch: 19/150.. Validation loss: 0.7913.. Training loss: 0.5678.. 0.0394 s/batch\n",
      "Epoch: 20/150.. Validation loss: 0.7661.. Training loss: 0.5165.. 0.0396 s/batch\n",
      "Epoch: 21/150.. Validation loss: 0.7540.. Training loss: 0.4966.. 0.0394 s/batch\n",
      "Epoch: 22/150.. Validation loss: 0.7608.. Training loss: 0.4877.. 0.0394 s/batch\n",
      "Epoch: 23/150.. Validation loss: 0.7651.. Training loss: 0.4797.. 0.0461 s/batch\n",
      "Epoch: 24/150.. Validation loss: 0.7529.. Training loss: 0.4786.. 0.0418 s/batch\n",
      "Epoch: 25/150.. Validation loss: 0.7626.. Training loss: 0.4787.. 0.0441 s/batch\n",
      "Epoch: 26/150.. Validation loss: 0.7670.. Training loss: 0.4688.. 0.0427 s/batch\n",
      "Epoch: 27/150.. Validation loss: 0.7664.. Training loss: 0.4612.. 0.0428 s/batch\n",
      "Epoch: 28/150.. Validation loss: 0.7505.. Training loss: 0.4674.. 0.0415 s/batch\n",
      "Epoch: 29/150.. Validation loss: 0.7573.. Training loss: 0.4620.. 0.0410 s/batch\n",
      "Epoch: 30/150.. Validation loss: 0.7342.. Training loss: 0.4246.. 0.0426 s/batch\n",
      "Epoch: 31/150.. Validation loss: 0.7324.. Training loss: 0.4140.. 0.0482 s/batch\n",
      "Epoch: 32/150.. Validation loss: 0.7528.. Training loss: 0.4094.. 0.0537 s/batch\n",
      "Epoch: 33/150.. Validation loss: 0.7249.. Training loss: 0.4081.. 0.0451 s/batch\n",
      "Epoch: 34/150.. Validation loss: 0.7381.. Training loss: 0.4062.. 0.1089 s/batch\n",
      "Epoch: 35/150.. Validation loss: 0.7401.. Training loss: 0.4029.. 0.0565 s/batch\n",
      "Epoch: 36/150.. Validation loss: 0.7382.. Training loss: 0.3978.. 0.0591 s/batch\n",
      "Epoch: 37/150.. Validation loss: 0.7403.. Training loss: 0.4020.. 0.0613 s/batch\n",
      "Epoch: 38/150.. Validation loss: 0.7408.. Training loss: 0.3993.. 0.0534 s/batch\n",
      "Epoch: 39/150.. Validation loss: 0.7411.. Training loss: 0.3949.. 0.0918 s/batch\n",
      "Epoch: 40/150.. Validation loss: 0.7334.. Training loss: 0.3737.. 0.0420 s/batch\n",
      "Epoch: 41/150.. Validation loss: 0.7341.. Training loss: 0.3680.. 0.0402 s/batch\n",
      "Epoch: 42/150.. Validation loss: 0.7385.. Training loss: 0.3682.. 0.0411 s/batch\n",
      "Epoch: 43/150.. Validation loss: 0.7324.. Training loss: 0.3653.. 0.0402 s/batch\n",
      "Epoch: 44/150.. Validation loss: 0.7389.. Training loss: 0.3665.. 0.0399 s/batch\n",
      "Epoch: 45/150.. Validation loss: 0.7371.. Training loss: 0.3603.. 0.0423 s/batch\n",
      "Epoch: 46/150.. Validation loss: 0.7305.. Training loss: 0.3600.. 0.0403 s/batch\n",
      "Epoch: 47/150.. Validation loss: 0.7377.. Training loss: 0.3583.. 0.0402 s/batch\n",
      "Epoch: 48/150.. Validation loss: 0.7371.. Training loss: 0.3580.. 0.0405 s/batch\n",
      "Epoch: 49/150.. Validation loss: 0.7340.. Training loss: 0.3566.. 0.0402 s/batch\n",
      "Epoch: 50/150.. Validation loss: 0.7322.. Training loss: 0.3459.. 0.0404 s/batch\n",
      "Epoch: 51/150.. Validation loss: 0.7358.. Training loss: 0.3432.. 0.0405 s/batch\n",
      "Epoch: 52/150.. Validation loss: 0.7347.. Training loss: 0.3412.. 0.0402 s/batch\n",
      "Epoch: 53/150.. Validation loss: 0.7317.. Training loss: 0.3404.. 0.0396 s/batch\n",
      "Epoch: 54/150.. Validation loss: 0.7341.. Training loss: 0.3379.. 0.0403 s/batch\n",
      "Epoch: 55/150.. Validation loss: 0.7327.. Training loss: 0.3385.. 0.0400 s/batch\n",
      "Epoch: 56/150.. Validation loss: 0.7271.. Training loss: 0.3398.. 0.0401 s/batch\n",
      "Epoch: 57/150.. Validation loss: 0.7386.. Training loss: 0.3369.. 0.0405 s/batch\n",
      "Epoch: 58/150.. Validation loss: 0.7362.. Training loss: 0.3353.. 0.0405 s/batch\n",
      "Epoch: 59/150.. Validation loss: 0.7363.. Training loss: 0.3336.. 0.0410 s/batch\n",
      "Epoch: 60/150.. Validation loss: 0.7368.. Training loss: 0.3290.. 0.0405 s/batch\n",
      "Epoch: 61/150.. Validation loss: 0.7314.. Training loss: 0.3265.. 0.0447 s/batch\n",
      "Epoch: 62/150.. Validation loss: 0.7363.. Training loss: 0.3253.. 0.0519 s/batch\n",
      "Epoch: 63/150.. Validation loss: 0.7316.. Training loss: 0.3242.. 0.0588 s/batch\n",
      "Epoch: 64/150.. Validation loss: 0.7364.. Training loss: 0.3275.. 0.0547 s/batch\n",
      "Epoch: 65/150.. Validation loss: 0.7311.. Training loss: 0.3268.. 0.0584 s/batch\n",
      "Epoch: 66/150.. Validation loss: 0.7343.. Training loss: 0.3263.. 0.0586 s/batch\n",
      "Epoch: 67/150.. Validation loss: 0.7366.. Training loss: 0.3246.. 0.0562 s/batch\n",
      "Epoch: 68/150.. Validation loss: 0.7315.. Training loss: 0.3253.. 0.0562 s/batch\n",
      "Epoch: 69/150.. Validation loss: 0.7342.. Training loss: 0.3224.. 0.0565 s/batch\n",
      "Epoch: 70/150.. Validation loss: 0.7365.. Training loss: 0.3183.. 0.0587 s/batch\n",
      "Epoch: 71/150.. Validation loss: 0.7362.. Training loss: 0.3201.. 0.0600 s/batch\n",
      "Epoch: 72/150.. Validation loss: 0.7343.. Training loss: 0.3184.. 0.0579 s/batch\n",
      "Epoch: 73/150.. Validation loss: 0.7328.. Training loss: 0.3167.. 0.0573 s/batch\n",
      "Epoch: 74/150.. Validation loss: 0.7421.. Training loss: 0.3172.. 0.0588 s/batch\n",
      "Epoch: 75/150.. Validation loss: 0.7356.. Training loss: 0.3177.. 0.0583 s/batch\n",
      "Epoch: 76/150.. Validation loss: 0.7378.. Training loss: 0.3188.. 0.0585 s/batch\n",
      "Epoch: 77/150.. Validation loss: 0.7361.. Training loss: 0.3174.. 0.0506 s/batch\n",
      "Epoch: 78/150.. Validation loss: 0.7341.. Training loss: 0.3160.. 0.0390 s/batch\n",
      "Epoch: 79/150.. Validation loss: 0.7389.. Training loss: 0.3147.. 0.0388 s/batch\n",
      "Epoch: 80/150.. Validation loss: 0.7369.. Training loss: 0.3167.. 0.0396 s/batch\n",
      "Epoch: 81/150.. Validation loss: 0.7314.. Training loss: 0.3147.. 0.0386 s/batch\n",
      "Epoch: 82/150.. Validation loss: 0.7368.. Training loss: 0.3127.. 0.0393 s/batch\n",
      "Epoch: 83/150.. Validation loss: 0.7300.. Training loss: 0.3139.. 0.0394 s/batch\n",
      "Epoch: 84/150.. Validation loss: 0.7418.. Training loss: 0.3126.. 0.0391 s/batch\n",
      "Epoch: 85/150.. Validation loss: 0.7405.. Training loss: 0.3129.. 0.0388 s/batch\n",
      "Epoch: 86/150.. Validation loss: 0.7384.. Training loss: 0.3129.. 0.0391 s/batch\n",
      "Epoch: 87/150.. Validation loss: 0.7365.. Training loss: 0.3141.. 0.0390 s/batch\n",
      "Epoch: 88/150.. Validation loss: 0.7365.. Training loss: 0.3112.. 0.0393 s/batch\n",
      "Epoch: 89/150.. Validation loss: 0.7351.. Training loss: 0.3153.. 0.0401 s/batch\n",
      "Epoch: 90/150.. Validation loss: 0.7316.. Training loss: 0.3130.. 0.0390 s/batch\n",
      "Epoch: 91/150.. Validation loss: 0.7334.. Training loss: 0.3144.. 0.0398 s/batch\n",
      "Epoch: 92/150.. Validation loss: 0.7348.. Training loss: 0.3109.. 0.0393 s/batch\n",
      "Epoch: 93/150.. Validation loss: 0.7408.. Training loss: 0.3115.. 0.0394 s/batch\n",
      "Epoch: 94/150.. Validation loss: 0.7351.. Training loss: 0.3117.. 0.0391 s/batch\n",
      "Epoch: 95/150.. Validation loss: 0.7349.. Training loss: 0.3108.. 0.0394 s/batch\n",
      "Epoch: 96/150.. Validation loss: 0.7353.. Training loss: 0.3113.. 0.0392 s/batch\n",
      "Epoch: 97/150.. Validation loss: 0.7377.. Training loss: 0.3122.. 0.0390 s/batch\n",
      "Epoch: 98/150.. Validation loss: 0.7372.. Training loss: 0.3133.. 0.0389 s/batch\n",
      "Epoch: 99/150.. Validation loss: 0.7344.. Training loss: 0.3099.. 0.0395 s/batch\n",
      "Epoch: 100/150.. Validation loss: 0.7492.. Training loss: 0.3125.. 0.0392 s/batch\n",
      "Epoch: 101/150.. Validation loss: 0.7416.. Training loss: 0.3106.. 0.0387 s/batch\n",
      "Epoch: 102/150.. Validation loss: 0.7327.. Training loss: 0.3110.. 0.0394 s/batch\n"
     ]
    },
    {
     "name": "stdout",
     "output_type": "stream",
     "text": [
      "Epoch: 103/150.. Validation loss: 0.7395.. Training loss: 0.3094.. 0.0391 s/batch\n",
      "Epoch: 104/150.. Validation loss: 0.7409.. Training loss: 0.3105.. 0.0391 s/batch\n",
      "Epoch: 105/150.. Validation loss: 0.7379.. Training loss: 0.3095.. 0.0392 s/batch\n",
      "Epoch: 106/150.. Validation loss: 0.7402.. Training loss: 0.3110.. 0.0393 s/batch\n",
      "Epoch: 107/150.. Validation loss: 0.7381.. Training loss: 0.3101.. 0.0389 s/batch\n",
      "Epoch: 108/150.. Validation loss: 0.7370.. Training loss: 0.3104.. 0.0390 s/batch\n",
      "Epoch: 109/150.. Validation loss: 0.7357.. Training loss: 0.3131.. 0.0393 s/batch\n",
      "Epoch: 110/150.. Validation loss: 0.7407.. Training loss: 0.3114.. 0.0386 s/batch\n",
      "Epoch: 111/150.. Validation loss: 0.7441.. Training loss: 0.3100.. 0.0391 s/batch\n",
      "Epoch: 112/150.. Validation loss: 0.7359.. Training loss: 0.3104.. 0.0389 s/batch\n",
      "Epoch: 113/150.. Validation loss: 0.7349.. Training loss: 0.3097.. 0.0393 s/batch\n",
      "Epoch: 114/150.. Validation loss: 0.7440.. Training loss: 0.3089.. 0.0386 s/batch\n",
      "Epoch: 115/150.. Validation loss: 0.7419.. Training loss: 0.3110.. 0.0392 s/batch\n",
      "Epoch: 116/150.. Validation loss: 0.7348.. Training loss: 0.3102.. 0.0393 s/batch\n",
      "Epoch: 117/150.. Validation loss: 0.7418.. Training loss: 0.3103.. 0.0389 s/batch\n",
      "Epoch: 118/150.. Validation loss: 0.7373.. Training loss: 0.3106.. 0.0396 s/batch\n",
      "Epoch: 119/150.. Validation loss: 0.7360.. Training loss: 0.3097.. 0.0396 s/batch\n",
      "Epoch: 120/150.. Validation loss: 0.7406.. Training loss: 0.3091.. 0.0394 s/batch\n",
      "Epoch: 121/150.. Validation loss: 0.7383.. Training loss: 0.3086.. 0.0389 s/batch\n",
      "Epoch: 122/150.. Validation loss: 0.7443.. Training loss: 0.3091.. 0.0392 s/batch\n",
      "Epoch: 123/150.. Validation loss: 0.7426.. Training loss: 0.3088.. 0.0385 s/batch\n",
      "Epoch: 124/150.. Validation loss: 0.7382.. Training loss: 0.3117.. 0.0393 s/batch\n",
      "Epoch: 125/150.. Validation loss: 0.7438.. Training loss: 0.3095.. 0.0384 s/batch\n",
      "Epoch: 126/150.. Validation loss: 0.7326.. Training loss: 0.3077.. 0.0388 s/batch\n",
      "Epoch: 127/150.. Validation loss: 0.7354.. Training loss: 0.3109.. 0.0395 s/batch\n",
      "Epoch: 128/150.. Validation loss: 0.7487.. Training loss: 0.3093.. 0.0392 s/batch\n",
      "Epoch: 129/150.. Validation loss: 0.7404.. Training loss: 0.3092.. 0.0392 s/batch\n",
      "Epoch: 130/150.. Validation loss: 0.7363.. Training loss: 0.3081.. 0.0393 s/batch\n",
      "Epoch: 131/150.. Validation loss: 0.7403.. Training loss: 0.3094.. 0.0395 s/batch\n",
      "Epoch: 132/150.. Validation loss: 0.7411.. Training loss: 0.3084.. 0.0391 s/batch\n",
      "Epoch: 133/150.. Validation loss: 0.7434.. Training loss: 0.3087.. 0.0392 s/batch\n",
      "Epoch: 134/150.. Validation loss: 0.7359.. Training loss: 0.3076.. 0.0391 s/batch\n",
      "Epoch: 135/150.. Validation loss: 0.7413.. Training loss: 0.3093.. 0.0393 s/batch\n",
      "Epoch: 136/150.. Validation loss: 0.7377.. Training loss: 0.3104.. 0.0391 s/batch\n",
      "Epoch: 137/150.. Validation loss: 0.7366.. Training loss: 0.3114.. 0.0393 s/batch\n",
      "Epoch: 138/150.. Validation loss: 0.7403.. Training loss: 0.3108.. 0.0396 s/batch\n",
      "Epoch: 139/150.. Validation loss: 0.7409.. Training loss: 0.3114.. 0.0384 s/batch\n",
      "Epoch: 140/150.. Validation loss: 0.7412.. Training loss: 0.3085.. 0.0390 s/batch\n",
      "Epoch: 141/150.. Validation loss: 0.7350.. Training loss: 0.3113.. 0.0394 s/batch\n",
      "Epoch: 142/150.. Validation loss: 0.7362.. Training loss: 0.3116.. 0.0393 s/batch\n",
      "Epoch: 143/150.. Validation loss: 0.7400.. Training loss: 0.3092.. 0.0389 s/batch\n",
      "Epoch: 144/150.. Validation loss: 0.7375.. Training loss: 0.3103.. 0.0392 s/batch\n",
      "Epoch: 145/150.. Validation loss: 0.7363.. Training loss: 0.3101.. 0.0394 s/batch\n",
      "Epoch: 146/150.. Validation loss: 0.7381.. Training loss: 0.3108.. 0.0386 s/batch\n",
      "Epoch: 147/150.. Validation loss: 0.7380.. Training loss: 0.3098.. 0.0394 s/batch\n",
      "Epoch: 148/150.. Validation loss: 0.7368.. Training loss: 0.3087.. 0.0394 s/batch\n",
      "Epoch: 149/150.. Validation loss: 0.7426.. Training loss: 0.3090.. 0.0385 s/batch\n",
      "Epoch: 150/150.. Validation loss: 0.7369.. Training loss: 0.3087.. 0.0391 s/batch\n"
     ]
    }
   ],
   "source": [
    "traindataset = utils.TensorDataset(inputs_train, gt_train[:,1:,:])\n",
    "trainloader = utils.DataLoader(traindataset, batch_size=16, shuffle=True)\n",
    "\n",
    "valdataset = utils.TensorDataset(inputs_validation, gt_validation[:,1:,:])\n",
    "valloader = utils.DataLoader(valdataset, batch_size=16, shuffle=True)\n",
    "\n",
    "epochs = 150\n",
    "steps = 0\n",
    "print_every = 323\n",
    "running_loss = 0 \n",
    "\n",
    "loss_train = []\n",
    "loss_val = []\n",
    "for e in range(epochs):\n",
    "    start = time.time()\n",
    "    total_train_loss=0\n",
    "    steps_bis = 0\n",
    "    if (e+1)%10==0:\n",
    "        lr /= 2\n",
    "        optimizer = optim.Adam(lstm.parameters(), lr=lr, weight_decay=1e-4)\n",
    "\n",
    "    for train_coord, ground_tru in iter(trainloader):\n",
    "        steps += 1\n",
    "        steps_bis+=1\n",
    "        \n",
    "        train_coord = train_coord.permute([1,0,2])\n",
    "        ground_tru = ground_tru.permute([1,0,2])\n",
    "\n",
    "        in_train = Variable(train_coord)\n",
    "        targets = Variable(ground_tru)\n",
    "        optimizer.zero_grad()\n",
    "        #print(in_train.shape)\n",
    "        #print(targets.shape)\n",
    "        out = lstm.forward(in_train)\n",
    "    \n",
    "        #pdb.set_trace()\n",
    "        loss1 = (criterion(out[:,:,0:2], targets[:,:,0:2]))\n",
    "        loss2 = (criterion(out[:,:,2:], targets[:,:,2:]))\n",
    "\n",
    "        loss1.backward(retain_graph=True)\n",
    "        loss2.backward()\n",
    "        optimizer.step()\n",
    "        \n",
    "        running_loss += (loss1+loss2).item()\n",
    "        total_train_loss += (loss1+loss2).item()\n",
    "    \n",
    "        if steps % print_every == 0:\n",
    "                stop = time.time()\n",
    "                val_loss=0\n",
    "                for ii, (valcoord, valgt) in enumerate(valloader):\n",
    "                    valcoord = valcoord.permute([1,0,2])\n",
    "                    valgt = valgt.permute([1,0,2])\n",
    "                    inputs = Variable(valcoord, volatile=True)\n",
    "                    predicted = lstm.predict(inputs)\n",
    "                    #\n",
    "                    val_loss+= (criterion(predicted[:,:,0:2],valgt[:,:,0:2]).item()\n",
    "                                + criterion(predicted[:,:,2:],valgt[:,:,2:]).item())\n",
    "                    \n",
    "                print(\"Epoch: {}/{}..\".format(e+1, epochs),\n",
    "                  \"Validation loss: {:.4f}..\".format(val_loss/ii),\n",
    "                  \"Training loss: {:.4f}..\".format(running_loss/print_every),\n",
    "                  \"{:.4f} s/batch\".format((stop - start)/print_every)\n",
    "                 )\n",
    "                loss_val.append(val_loss/ii)\n",
    "                running_loss = 0\n",
    "                start = time.time()\n",
    "    loss_train.append(total_train_loss/steps_bis)"
   ]
  },
  {
   "cell_type": "code",
   "execution_count": 6,
   "metadata": {
    "scrolled": false
   },
   "outputs": [
    {
     "data": {
      "image/png": "[encoded data removed]",
      "text/plain": [
       "<matplotlib.figure.Figure at 0x10f334a58>"
      ]
     },
     "metadata": {},
     "output_type": "display_data"
    }
   ],
   "source": [
    "epoch = np.arange(1,epochs+1)\n",
    "plt.figure(figsize=(12, 7))\n",
    "plt.rc('font', family='serif')\n",
    "plt.rc('font', size=20)\n",
    "\n",
    "plt.plot(epoch,loss_train,label='Training loss')\n",
    "plt.plot(epoch,loss_val,c='k',label='Validation loss')\n",
    "plt.xlabel('epoch')\n",
    "plt.ylabel('MSE error')\n",
    "plt.legend()\n",
    "plt.savefig(r'./figures/loss_2Loss_ND.pdf', bbox_inches='tight')"
   ]
  },
  {
   "cell_type": "code",
   "execution_count": 8,
   "metadata": {},
   "outputs": [],
   "source": [
    "torch.save(lstm.state_dict(), '2Loss_ND_3.pt')"
   ]
  },
  {
   "cell_type": "code",
   "execution_count": null,
   "metadata": {},
   "outputs": [],
   "source": []
  }
 ],
 "metadata": {
  "kernelspec": {
   "display_name": "Python 3",
   "language": "python",
   "name": "python3"
  },
  "language_info": {
   "codemirror_mode": {
    "name": "ipython",
    "version": 3
   },
   "file_extension": ".py",
   "mimetype": "text/x-python",
   "name": "python",
   "nbconvert_exporter": "python",
   "pygments_lexer": "ipython3",
   "version": "3.6.4"
  }
 },
 "nbformat": 4,
 "nbformat_minor": 2
}
