{
 "cells": [
  {
   "cell_type": "code",
   "execution_count": 1,
   "metadata": {},
   "outputs": [
    {
     "data": {
      "text/plain": [
       "<torch._C.Generator at 0x10ec04590>"
      ]
     },
     "execution_count": 1,
     "metadata": {},
     "output_type": "execute_result"
    }
   ],
   "source": [
    "import torch\n",
    "from torch import nn\n",
    "from torch.autograd import Variable\n",
    "import torchvision.datasets as dsets\n",
    "import torchvision.transforms as transforms\n",
    "import matplotlib.pyplot as plt\n",
    "from LSTM import *\n",
    "import pandas as pd\n",
    "import numpy as np\n",
    "import torch.utils.data as utils\n",
    "import time\n",
    "import os\n",
    "import pickle\n",
    "\n",
    "import pdb\n",
    "\n",
    "# For the notebook\n",
    "%matplotlib inline\n",
    "%reload_ext autoreload\n",
    "%autoreload 2\n",
    "\n",
    "torch.manual_seed(1)"
   ]
  },
  {
   "cell_type": "markdown",
   "metadata": {},
   "source": [
    "## TRAIN SET"
   ]
  },
  {
   "cell_type": "code",
   "execution_count": 2,
   "metadata": {},
   "outputs": [
    {
     "data": {
      "text/plain": [
       "((11, 5157, 2),\n",
       " torch.Size([5157, 11, 2]),\n",
       " (10, 5157, 2),\n",
       " torch.Size([5157, 10, 242]))"
      ]
     },
     "execution_count": 2,
     "metadata": {},
     "output_type": "execute_result"
    }
   ],
   "source": [
    "gt_train_coord = pickle.load( open( \"../import_dataset_3/train/gt_train_coord.pkl\", \"rb\" ) )\n",
    "gt_train  = pickle.load( open( \"../import_dataset_3/train/gt_train.pkl\", \"rb\" ) )\n",
    "in_train_coord  = pickle.load( open( \"../import_dataset_3/train/in_train_coord.pkl\", \"rb\" ) )\n",
    "inputs_train = pickle.load( open( \"../import_dataset_3/train/inputs_train.pkl\", \"rb\" ) )\n",
    "\n",
    "\n",
    "inputs_train = inputs_train[:,:,2:]\n",
    "gt_train = gt_train[:,:,2:]\n",
    "\n",
    "inputs_train = torch.from_numpy(inputs_train).float()\n",
    "gt_train = torch.from_numpy(gt_train).float()\n",
    "gt_train_coord.shape,gt_train.shape,in_train_coord.shape,inputs_train.shape"
   ]
  },
  {
   "cell_type": "markdown",
   "metadata": {},
   "source": [
    "## VALIDATION SET"
   ]
  },
  {
   "cell_type": "code",
   "execution_count": 3,
   "metadata": {},
   "outputs": [
    {
     "data": {
      "text/plain": [
       "((11, 1719, 2),\n",
       " torch.Size([1719, 11, 2]),\n",
       " (10, 1719, 2),\n",
       " torch.Size([1719, 10, 242]))"
      ]
     },
     "execution_count": 3,
     "metadata": {},
     "output_type": "execute_result"
    }
   ],
   "source": [
    "gt_validation_coord = pickle.load( open( \"../import_dataset_3/validation/gt_validation_coord.pkl\", \"rb\" ) )\n",
    "gt_validation = pickle.load( open( \"../import_dataset_3/validation/gt_validation.pkl\", \"rb\" ) )\n",
    "in_validation_coord = pickle.load( open( \"../import_dataset_3/validation/in_validation_coord.pkl\", \"rb\" ) )\n",
    "inputs_validation = pickle.load( open( \"../import_dataset_3/validation/inputs_validation.pkl\", \"rb\" ) )\n",
    "\n",
    "inputs_validation = inputs_validation[:,:,2:]\n",
    "gt_validation = gt_validation[:,:,2:]\n",
    "\n",
    "inputs_validation = torch.from_numpy(inputs_validation).float()\n",
    "gt_validation = torch.from_numpy(gt_validation).float()\n",
    "\n",
    "gt_validation_coord.shape,gt_validation.shape,in_validation_coord.shape,inputs_validation.shape"
   ]
  },
  {
   "cell_type": "markdown",
   "metadata": {},
   "source": [
    "### Model"
   ]
  },
  {
   "cell_type": "code",
   "execution_count": 10,
   "metadata": {},
   "outputs": [],
   "source": [
    "from torch import optim\n",
    "\n",
    "inp_size = np.int(inputs_train.shape[2]/4)\n",
    "lr = 0.01\n",
    "lstm = LSTM(input_size = inputs_train.shape[2], output_size = 2, num_layers=2, hidden_size=128)\n",
    "optimizer = optim.Adam(lstm.parameters(), lr=lr, weight_decay=1e-4)\n",
    "criterion = nn.MSELoss()"
   ]
  },
  {
   "cell_type": "code",
   "execution_count": null,
   "metadata": {
    "scrolled": false
   },
   "outputs": [
    {
     "name": "stderr",
     "output_type": "stream",
     "text": [
      "/Users/rodolphefarrando/anaconda3/lib/python3.6/site-packages/ipykernel_launcher.py:51: UserWarning: volatile was removed and now has no effect. Use `with torch.no_grad():` instead.\n"
     ]
    },
    {
     "name": "stdout",
     "output_type": "stream",
     "text": [
      "Epoch: 1/150.. Validation loss: 0.1249.. Training loss: 0.1371.. 0.0384 s/batch\n",
      "Epoch: 2/150.. Validation loss: 0.1231.. Training loss: 0.1208.. 0.0313 s/batch\n",
      "Epoch: 3/150.. Validation loss: 0.1212.. Training loss: 0.1160.. 0.0312 s/batch\n",
      "Epoch: 4/150.. Validation loss: 0.1210.. Training loss: 0.1140.. 0.0320 s/batch\n",
      "Epoch: 5/150.. Validation loss: 0.1171.. Training loss: 0.1116.. 0.0338 s/batch\n",
      "Epoch: 6/150.. Validation loss: 0.1174.. Training loss: 0.1092.. 0.0295 s/batch\n",
      "Epoch: 7/150.. Validation loss: 0.1135.. Training loss: 0.1073.. 0.0317 s/batch\n",
      "Epoch: 8/150.. Validation loss: 0.1125.. Training loss: 0.1073.. 0.0300 s/batch\n",
      "Epoch: 9/150.. Validation loss: 0.1148.. Training loss: 0.1066.. 0.0276 s/batch\n",
      "Epoch: 10/150.. Validation loss: 0.1078.. Training loss: 0.0983.. 0.0434 s/batch\n",
      "Epoch: 11/150.. Validation loss: 0.1054.. Training loss: 0.0946.. 0.0341 s/batch\n",
      "Epoch: 12/150.. Validation loss: 0.1063.. Training loss: 0.0927.. 0.0313 s/batch\n",
      "Epoch: 13/150.. Validation loss: 0.1039.. Training loss: 0.0917.. 0.0296 s/batch\n",
      "Epoch: 14/150.. Validation loss: 0.1060.. Training loss: 0.0916.. 0.0335 s/batch\n",
      "Epoch: 15/150.. Validation loss: 0.1040.. Training loss: 0.0903.. 0.0296 s/batch\n",
      "Epoch: 16/150.. Validation loss: 0.1107.. Training loss: 0.0898.. 0.0318 s/batch\n",
      "Epoch: 17/150.. Validation loss: 0.1061.. Training loss: 0.0890.. 0.0280 s/batch\n",
      "Epoch: 18/150.. Validation loss: 0.1063.. Training loss: 0.0875.. 0.0268 s/batch\n",
      "Epoch: 19/150.. Validation loss: 0.1087.. Training loss: 0.0872.. 0.0279 s/batch\n",
      "Epoch: 20/150.. Validation loss: 0.1016.. Training loss: 0.0812.. 0.0338 s/batch\n",
      "Epoch: 21/150.. Validation loss: 0.1003.. Training loss: 0.0791.. 0.0285 s/batch\n",
      "Epoch: 22/150.. Validation loss: 0.1018.. Training loss: 0.0781.. 0.0378 s/batch\n",
      "Epoch: 23/150.. Validation loss: 0.1034.. Training loss: 0.0777.. 0.0337 s/batch\n",
      "Epoch: 24/150.. Validation loss: 0.1025.. Training loss: 0.0771.. 0.0303 s/batch\n",
      "Epoch: 25/150.. Validation loss: 0.1010.. Training loss: 0.0772.. 0.0355 s/batch\n",
      "Epoch: 26/150.. Validation loss: 0.1019.. Training loss: 0.0763.. 0.0293 s/batch\n",
      "Epoch: 27/150.. Validation loss: 0.1061.. Training loss: 0.0763.. 0.0262 s/batch\n",
      "Epoch: 28/150.. Validation loss: 0.0997.. Training loss: 0.0766.. 0.0265 s/batch\n",
      "Epoch: 29/150.. Validation loss: 0.1014.. Training loss: 0.0756.. 0.0374 s/batch\n",
      "Epoch: 30/150.. Validation loss: 0.1000.. Training loss: 0.0721.. 0.0273 s/batch\n",
      "Epoch: 31/150.. Validation loss: 0.0994.. Training loss: 0.0710.. 0.0314 s/batch\n",
      "Epoch: 32/150.. Validation loss: 0.0992.. Training loss: 0.0707.. 0.0323 s/batch\n",
      "Epoch: 33/150.. Validation loss: 0.0989.. Training loss: 0.0705.. 0.0302 s/batch\n",
      "Epoch: 34/150.. Validation loss: 0.1002.. Training loss: 0.0703.. 0.0329 s/batch\n",
      "Epoch: 35/150.. Validation loss: 0.1001.. Training loss: 0.0699.. 0.0299 s/batch\n",
      "Epoch: 36/150.. Validation loss: 0.0999.. Training loss: 0.0700.. 0.0287 s/batch\n",
      "Epoch: 37/150.. Validation loss: 0.0985.. Training loss: 0.0699.. 0.0289 s/batch\n",
      "Epoch: 38/150.. Validation loss: 0.0986.. Training loss: 0.0696.. 0.0308 s/batch\n",
      "Epoch: 39/150.. Validation loss: 0.0985.. Training loss: 0.0692.. 0.0305 s/batch\n",
      "Epoch: 40/150.. Validation loss: 0.0980.. Training loss: 0.0675.. 0.0349 s/batch\n",
      "Epoch: 41/150.. Validation loss: 0.0986.. Training loss: 0.0668.. 0.0311 s/batch\n",
      "Epoch: 42/150.. Validation loss: 0.0988.. Training loss: 0.0669.. 0.0297 s/batch\n",
      "Epoch: 43/150.. Validation loss: 0.0988.. Training loss: 0.0667.. 0.0418 s/batch\n",
      "Epoch: 44/150.. Validation loss: 0.0986.. Training loss: 0.0666.. 0.0419 s/batch\n",
      "Epoch: 45/150.. Validation loss: 0.0985.. Training loss: 0.0664.. 0.0324 s/batch\n"
     ]
    }
   ],
   "source": [
    "traindataset = utils.TensorDataset(inputs_train, gt_train[:,1:,:])\n",
    "trainloader = utils.DataLoader(traindataset, batch_size=16, shuffle=True)\n",
    "\n",
    "valdataset = utils.TensorDataset(inputs_validation, gt_validation[:,1:,:])\n",
    "valloader = utils.DataLoader(valdataset, batch_size=16, shuffle=True)\n",
    "\n",
    "epochs = 150\n",
    "steps = 0\n",
    "print_every = 323\n",
    "running_loss = 0 #### DOD\n",
    "\n",
    "loss_train = []\n",
    "loss_val = []\n",
    "for e in range(epochs):\n",
    "    start = time.time()\n",
    "    total_train_loss=0\n",
    "    steps_bis = 0\n",
    "    if (e+1)%10==0:\n",
    "        lr /= 2\n",
    "        optimizer = optim.Adam(lstm.parameters(), lr=lr,weight_decay=1e-4)\n",
    "\n",
    "    for train_coord, ground_tru in iter(trainloader):\n",
    "        steps += 1\n",
    "        steps_bis+=1\n",
    "        \n",
    "        train_coord = train_coord.permute([1,0,2])\n",
    "        ground_tru = ground_tru.permute([1,0,2])\n",
    "\n",
    "        in_train = Variable(train_coord)\n",
    "        targets = Variable(ground_tru)\n",
    "        optimizer.zero_grad()\n",
    "        #print(in_train.shape)\n",
    "        #print(targets.shape)\n",
    "        out = lstm.forward(in_train)\n",
    "    \n",
    "        #pdb.set_trace()\n",
    "        loss1 = (criterion(out[:,:,0:2], targets[:,:,0:2]))\n",
    "\n",
    "        loss1.backward()\n",
    "        optimizer.step()\n",
    "        \n",
    "        running_loss += (loss1).item()\n",
    "        total_train_loss += (loss1).item()\n",
    "    \n",
    "        if steps % print_every == 0:\n",
    "                stop = time.time()\n",
    "                val_loss=0\n",
    "                for ii, (valcoord, valgt) in enumerate(valloader):\n",
    "                    valcoord = valcoord.permute([1,0,2])\n",
    "                    valgt = valgt.permute([1,0,2])\n",
    "                    inputs = Variable(valcoord, volatile=True)\n",
    "                    predicted = lstm.predict(inputs)\n",
    "                    \n",
    "                    val_loss+= (criterion(predicted[:,:,0:2],valgt[:,:,0:2]).item())\n",
    "                    \n",
    "                print(\"Epoch: {}/{}..\".format(e+1, epochs),\n",
    "                  \"Validation loss: {:.4f}..\".format(val_loss/ii),\n",
    "                  \"Training loss: {:.4f}..\".format(running_loss/print_every),\n",
    "                  \"{:.4f} s/batch\".format((stop - start)/print_every)\n",
    "                 )\n",
    "                loss_val.append(val_loss/ii)\n",
    "                running_loss = 0\n",
    "                start = time.time()\n",
    "    loss_train.append(total_train_loss/steps_bis)"
   ]
  },
  {
   "cell_type": "code",
   "execution_count": 8,
   "metadata": {
    "scrolled": false
   },
   "outputs": [
    {
     "data": {
      "image/png": "[encoded data removed]",
      "text/plain": [
       "<matplotlib.figure.Figure at 0x120c85550>"
      ]
     },
     "metadata": {},
     "output_type": "display_data"
    }
   ],
   "source": [
    "epoch = np.arange(1,epochs+1)\n",
    "plt.figure(figsize=(12, 7))\n",
    "plt.rc('font', family='serif')\n",
    "plt.rc('font', size=20)\n",
    "\n",
    "plt.plot(epoch,loss_train,label='Training loss')\n",
    "plt.plot(epoch,loss_val,c='k',label='Validation loss')\n",
    "plt.xlabel('epoch')\n",
    "plt.ylabel('MSE error')\n",
    "plt.legend()\n",
    "plt.savefig(r'./figures/loss_speed.pdf', bbox_inches='tight')"
   ]
  },
  {
   "cell_type": "code",
   "execution_count": 9,
   "metadata": {},
   "outputs": [],
   "source": [
    "torch.save(lstm.state_dict(), 'speed_ND_2.pt')"
   ]
  },
  {
   "cell_type": "code",
   "execution_count": null,
   "metadata": {
    "collapsed": true
   },
   "outputs": [],
   "source": []
  }
 ],
 "metadata": {
  "kernelspec": {
   "display_name": "Python 3",
   "language": "python",
   "name": "python3"
  },
  "language_info": {
   "codemirror_mode": {
    "name": "ipython",
    "version": 3
   },
   "file_extension": ".py",
   "mimetype": "text/x-python",
   "name": "python",
   "nbconvert_exporter": "python",
   "pygments_lexer": "ipython3",
   "version": "3.6.4"
  }
 },
 "nbformat": 4,
 "nbformat_minor": 2
}
