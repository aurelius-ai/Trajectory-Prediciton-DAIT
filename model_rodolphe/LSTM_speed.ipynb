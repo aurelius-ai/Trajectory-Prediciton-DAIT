{
 "cells": [
  {
   "cell_type": "code",
   "execution_count": 1,
   "metadata": {},
   "outputs": [
    {
     "data": {
      "text/plain": [
       "<torch._C.Generator at 0x10ec04590>"
      ]
     },
     "execution_count": 1,
     "metadata": {},
     "output_type": "execute_result"
    }
   ],
   "source": [
    "import torch\n",
    "from torch import nn\n",
    "from torch.autograd import Variable\n",
    "import torchvision.datasets as dsets\n",
    "import torchvision.transforms as transforms\n",
    "import matplotlib.pyplot as plt\n",
    "from LSTM import *\n",
    "import pandas as pd\n",
    "import numpy as np\n",
    "import torch.utils.data as utils\n",
    "import time\n",
    "import os\n",
    "import pickle\n",
    "\n",
    "import pdb\n",
    "\n",
    "# For the notebook\n",
    "%matplotlib inline\n",
    "%reload_ext autoreload\n",
    "%autoreload 2\n",
    "\n",
    "torch.manual_seed(1)"
   ]
  },
  {
   "cell_type": "markdown",
   "metadata": {},
   "source": [
    "## TRAIN SET"
   ]
  },
  {
   "cell_type": "code",
   "execution_count": 2,
   "metadata": {},
   "outputs": [
    {
     "data": {
      "text/plain": [
       "((11, 5157, 2),\n",
       " torch.Size([5157, 11, 2]),\n",
       " (10, 5157, 2),\n",
       " torch.Size([5157, 10, 242]))"
      ]
     },
     "execution_count": 2,
     "metadata": {},
     "output_type": "execute_result"
    }
   ],
   "source": [
    "gt_train_coord = pickle.load( open( \"../import_dataset_3/train/gt_train_coord.pkl\", \"rb\" ) )\n",
    "gt_train  = pickle.load( open( \"../import_dataset_3/train/gt_train.pkl\", \"rb\" ) )\n",
    "in_train_coord  = pickle.load( open( \"../import_dataset_3/train/in_train_coord.pkl\", \"rb\" ) )\n",
    "inputs_train = pickle.load( open( \"../import_dataset_3/train/inputs_train.pkl\", \"rb\" ) )\n",
    "\n",
    "\n",
    "inputs_train = inputs_train[:,:,2:]\n",
    "gt_train = gt_train[:,:,2:]\n",
    "\n",
    "inputs_train = torch.from_numpy(inputs_train).float()\n",
    "gt_train = torch.from_numpy(gt_train).float()\n",
    "gt_train_coord.shape,gt_train.shape,in_train_coord.shape,inputs_train.shape"
   ]
  },
  {
   "cell_type": "markdown",
   "metadata": {},
   "source": [
    "## VALIDATION SET"
   ]
  },
  {
   "cell_type": "code",
   "execution_count": 3,
   "metadata": {},
   "outputs": [
    {
     "data": {
      "text/plain": [
       "((11, 1719, 2),\n",
       " torch.Size([1719, 11, 2]),\n",
       " (10, 1719, 2),\n",
       " torch.Size([1719, 10, 242]))"
      ]
     },
     "execution_count": 3,
     "metadata": {},
     "output_type": "execute_result"
    }
   ],
   "source": [
    "gt_validation_coord = pickle.load( open( \"../import_dataset_3/validation/gt_validation_coord.pkl\", \"rb\" ) )\n",
    "gt_validation = pickle.load( open( \"../import_dataset_3/validation/gt_validation.pkl\", \"rb\" ) )\n",
    "in_validation_coord = pickle.load( open( \"../import_dataset_3/validation/in_validation_coord.pkl\", \"rb\" ) )\n",
    "inputs_validation = pickle.load( open( \"../import_dataset_3/validation/inputs_validation.pkl\", \"rb\" ) )\n",
    "\n",
    "inputs_validation = inputs_validation[:,:,2:]\n",
    "gt_validation = gt_validation[:,:,2:]\n",
    "\n",
    "inputs_validation = torch.from_numpy(inputs_validation).float()\n",
    "gt_validation = torch.from_numpy(gt_validation).float()\n",
    "\n",
    "gt_validation_coord.shape,gt_validation.shape,in_validation_coord.shape,inputs_validation.shape"
   ]
  },
  {
   "cell_type": "markdown",
   "metadata": {},
   "source": [
    "### Model"
   ]
  },
  {
   "cell_type": "code",
   "execution_count": 6,
   "metadata": {},
   "outputs": [],
   "source": [
    "from torch import optim\n",
    "\n",
    "inp_size = np.int(inputs_train.shape[2]/4)\n",
    "lr = 0.01\n",
    "lstm = LSTM(input_size = inputs_train.shape[2], output_size = 2, num_layers=2, hidden_size=128)\n",
    "optimizer = optim.Adam(lstm.parameters(), lr=lr, weight_decay=1e-4)\n",
    "criterion = nn.MSELoss()"
   ]
  },
  {
   "cell_type": "code",
   "execution_count": null,
   "metadata": {
    "scrolled": false
   },
   "outputs": [
    {
     "name": "stderr",
     "output_type": "stream",
     "text": [
      "/Users/rodolphefarrando/anaconda3/lib/python3.6/site-packages/ipykernel_launcher.py:51: UserWarning: volatile was removed and now has no effect. Use `with torch.no_grad():` instead.\n"
     ]
    },
    {
     "name": "stdout",
     "output_type": "stream",
     "text": [
      "Epoch: 1/100.. Validation loss: 0.1226.. Training loss: 0.1356.. 0.0305 s/batch\n",
      "Epoch: 2/100.. Validation loss: 0.1275.. Training loss: 0.1196.. 0.0282 s/batch\n",
      "Epoch: 3/100.. Validation loss: 0.1201.. Training loss: 0.1158.. 0.0297 s/batch\n",
      "Epoch: 4/100.. Validation loss: 0.1200.. Training loss: 0.1122.. 0.0363 s/batch\n",
      "Epoch: 5/100.. Validation loss: 0.1216.. Training loss: 0.1106.. 0.0315 s/batch\n",
      "Epoch: 6/100.. Validation loss: 0.1176.. Training loss: 0.1084.. 0.0316 s/batch\n",
      "Epoch: 7/100.. Validation loss: 0.1140.. Training loss: 0.1078.. 0.0332 s/batch\n",
      "Epoch: 8/100.. Validation loss: 0.1120.. Training loss: 0.1082.. 0.0297 s/batch\n",
      "Epoch: 9/100.. Validation loss: 0.1124.. Training loss: 0.1066.. 0.0292 s/batch\n",
      "Epoch: 10/100.. Validation loss: 0.1073.. Training loss: 0.0982.. 0.0303 s/batch\n",
      "Epoch: 11/100.. Validation loss: 0.1082.. Training loss: 0.0946.. 0.0337 s/batch\n",
      "Epoch: 12/100.. Validation loss: 0.1071.. Training loss: 0.0936.. 0.0322 s/batch\n",
      "Epoch: 13/100.. Validation loss: 0.1084.. Training loss: 0.0915.. 0.0312 s/batch\n",
      "Epoch: 14/100.. Validation loss: 0.1050.. Training loss: 0.0908.. 0.0290 s/batch\n",
      "Epoch: 15/100.. Validation loss: 0.1055.. Training loss: 0.0908.. 0.0371 s/batch\n",
      "Epoch: 16/100.. Validation loss: 0.1084.. Training loss: 0.0890.. 0.0447 s/batch\n",
      "Epoch: 17/100.. Validation loss: 0.1072.. Training loss: 0.0899.. 0.0404 s/batch\n",
      "Epoch: 18/100.. Validation loss: 0.1048.. Training loss: 0.0885.. 0.0523 s/batch\n",
      "Epoch: 19/100.. Validation loss: 0.1086.. Training loss: 0.0876.. 0.0292 s/batch\n",
      "Epoch: 20/100.. Validation loss: 0.1028.. Training loss: 0.0822.. 0.0282 s/batch\n",
      "Epoch: 21/100.. Validation loss: 0.1028.. Training loss: 0.0795.. 0.0311 s/batch\n",
      "Epoch: 22/100.. Validation loss: 0.1016.. Training loss: 0.0790.. 0.0376 s/batch\n",
      "Epoch: 23/100.. Validation loss: 0.1014.. Training loss: 0.0785.. 0.0332 s/batch\n",
      "Epoch: 24/100.. Validation loss: 0.1037.. Training loss: 0.0779.. 0.0381 s/batch\n",
      "Epoch: 25/100.. Validation loss: 0.1054.. Training loss: 0.0776.. 0.0409 s/batch\n",
      "Epoch: 26/100.. Validation loss: 0.1028.. Training loss: 0.0772.. 0.0403 s/batch\n",
      "Epoch: 27/100.. Validation loss: 0.1007.. Training loss: 0.0766.. 0.0308 s/batch\n",
      "Epoch: 28/100.. Validation loss: 0.1022.. Training loss: 0.0756.. 0.0291 s/batch\n",
      "Epoch: 29/100.. Validation loss: 0.1024.. Training loss: 0.0759.. 0.0355 s/batch\n",
      "Epoch: 30/100.. Validation loss: 0.0991.. Training loss: 0.0721.. 0.0314 s/batch\n",
      "Epoch: 31/100.. Validation loss: 0.0998.. Training loss: 0.0709.. 0.0311 s/batch\n",
      "Epoch: 32/100.. Validation loss: 0.1006.. Training loss: 0.0707.. 0.0289 s/batch\n",
      "Epoch: 33/100.. Validation loss: 0.1000.. Training loss: 0.0697.. 0.0312 s/batch\n",
      "Epoch: 34/100.. Validation loss: 0.0996.. Training loss: 0.0700.. 0.0300 s/batch\n",
      "Epoch: 35/100.. Validation loss: 0.1010.. Training loss: 0.0694.. 0.0269 s/batch\n",
      "Epoch: 36/100.. Validation loss: 0.1008.. Training loss: 0.0691.. 0.0286 s/batch\n",
      "Epoch: 37/100.. Validation loss: 0.0995.. Training loss: 0.0689.. 0.0272 s/batch\n",
      "Epoch: 38/100.. Validation loss: 0.1005.. Training loss: 0.0683.. 0.0291 s/batch\n",
      "Epoch: 39/100.. Validation loss: 0.1004.. Training loss: 0.0683.. 0.0301 s/batch\n",
      "Epoch: 40/100.. Validation loss: 0.0987.. Training loss: 0.0660.. 0.0279 s/batch\n",
      "Epoch: 41/100.. Validation loss: 0.0988.. Training loss: 0.0655.. 0.0276 s/batch\n",
      "Epoch: 42/100.. Validation loss: 0.0988.. Training loss: 0.0652.. 0.0290 s/batch\n",
      "Epoch: 43/100.. Validation loss: 0.0993.. Training loss: 0.0648.. 0.0288 s/batch\n",
      "Epoch: 44/100.. Validation loss: 0.0983.. Training loss: 0.0648.. 0.0301 s/batch\n"
     ]
    }
   ],
   "source": [
    "traindataset = utils.TensorDataset(inputs_train, gt_train[:,1:,:])\n",
    "trainloader = utils.DataLoader(traindataset, batch_size=16, shuffle=True)\n",
    "\n",
    "valdataset = utils.TensorDataset(inputs_validation, gt_validation[:,1:,:])\n",
    "valloader = utils.DataLoader(valdataset, batch_size=16, shuffle=True)\n",
    "\n",
    "epochs = 100\n",
    "steps = 0\n",
    "print_every = 323\n",
    "running_loss = 0 #### DOD\n",
    "\n",
    "loss_train = []\n",
    "loss_val = []\n",
    "for e in range(epochs):\n",
    "    start = time.time()\n",
    "    total_train_loss=0\n",
    "    steps_bis = 0\n",
    "    if (e+1)%10==0:\n",
    "        lr /= 2\n",
    "        optimizer = optim.Adam(lstm.parameters(), lr=lr,weight_decay=1e-4)\n",
    "\n",
    "    for train_coord, ground_tru in iter(trainloader):\n",
    "        steps += 1\n",
    "        steps_bis+=1\n",
    "        \n",
    "        train_coord = train_coord.permute([1,0,2])\n",
    "        ground_tru = ground_tru.permute([1,0,2])\n",
    "\n",
    "        in_train = Variable(train_coord)\n",
    "        targets = Variable(ground_tru)\n",
    "        optimizer.zero_grad()\n",
    "        #print(in_train.shape)\n",
    "        #print(targets.shape)\n",
    "        out = lstm.forward(in_train)\n",
    "    \n",
    "        #pdb.set_trace()\n",
    "        loss1 = (criterion(out[:,:,0:2], targets[:,:,0:2]))\n",
    "\n",
    "        loss1.backward()\n",
    "        optimizer.step()\n",
    "        \n",
    "        running_loss += (loss1).item()\n",
    "        total_train_loss += (loss1).item()\n",
    "    \n",
    "        if steps % print_every == 0:\n",
    "                stop = time.time()\n",
    "                val_loss=0\n",
    "                for ii, (valcoord, valgt) in enumerate(valloader):\n",
    "                    valcoord = valcoord.permute([1,0,2])\n",
    "                    valgt = valgt.permute([1,0,2])\n",
    "                    inputs = Variable(valcoord, volatile=True)\n",
    "                    predicted = lstm.predict(inputs)\n",
    "                    \n",
    "                    val_loss+= (criterion(predicted[:,:,0:2],valgt[:,:,0:2]).item())\n",
    "                    \n",
    "                print(\"Epoch: {}/{}..\".format(e+1, epochs),\n",
    "                  \"Validation loss: {:.4f}..\".format(val_loss/ii),\n",
    "                  \"Training loss: {:.4f}..\".format(running_loss/print_every),\n",
    "                  \"{:.4f} s/batch\".format((stop - start)/print_every)\n",
    "                 )\n",
    "                loss_val.append(val_loss/ii)\n",
    "                running_loss = 0\n",
    "                start = time.time()\n",
    "    loss_train.append(total_train_loss/steps_bis)"
   ]
  },
  {
   "cell_type": "code",
   "execution_count": null,
   "metadata": {
    "scrolled": false
   },
   "outputs": [],
   "source": [
    "epoch = np.arange(1,epochs+1)\n",
    "plt.figure(figsize=(12, 7))\n",
    "plt.rc('font', family='serif')\n",
    "plt.rc('font', size=20)\n",
    "\n",
    "plt.plot(epoch,loss_train,label='Training loss')\n",
    "plt.plot(epoch,loss_val,c='k',label='Validation loss')\n",
    "plt.xlabel('epoch')\n",
    "plt.ylabel('MSE error')\n",
    "plt.legend()\n",
    "plt.savefig(r'./figures/loss_speed.pdf', bbox_inches='tight')"
   ]
  },
  {
   "cell_type": "code",
   "execution_count": null,
   "metadata": {},
   "outputs": [],
   "source": [
    "torch.save(lstm.state_dict(), 'speed_ND_2.pt')"
   ]
  },
  {
   "cell_type": "code",
   "execution_count": null,
   "metadata": {
    "collapsed": true
   },
   "outputs": [],
   "source": []
  }
 ],
 "metadata": {
  "kernelspec": {
   "display_name": "Python 3",
   "language": "python",
   "name": "python3"
  },
  "language_info": {
   "codemirror_mode": {
    "name": "ipython",
    "version": 3
   },
   "file_extension": ".py",
   "mimetype": "text/x-python",
   "name": "python",
   "nbconvert_exporter": "python",
   "pygments_lexer": "ipython3",
   "version": "3.6.4"
  }
 },
 "nbformat": 4,
 "nbformat_minor": 2
}
