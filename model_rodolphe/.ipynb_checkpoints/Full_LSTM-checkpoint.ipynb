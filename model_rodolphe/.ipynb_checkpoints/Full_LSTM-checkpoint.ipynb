{
 "cells": [
  {
   "cell_type": "code",
   "execution_count": 8,
   "metadata": {},
   "outputs": [
    {
     "data": {
      "text/plain": [
       "<torch._C.Generator at 0x112a74510>"
      ]
     },
     "execution_count": 8,
     "metadata": {},
     "output_type": "execute_result"
    }
   ],
   "source": [
    "import torch\n",
    "from torch import nn\n",
    "from torch.autograd import Variable\n",
    "import torchvision.datasets as dsets\n",
    "import torchvision.transforms as transforms\n",
    "import matplotlib.pyplot as plt\n",
    "from LSTM import *\n",
    "import pandas as pd\n",
    "import numpy as np\n",
    "import torch.utils.data as utils\n",
    "import time\n",
    "import os\n",
    "import pickle\n",
    "\n",
    "import pdb\n",
    "\n",
    "# For the notebook\n",
    "%matplotlib inline\n",
    "%reload_ext autoreload\n",
    "%autoreload 2\n",
    "\n",
    "torch.manual_seed(1)"
   ]
  },
  {
   "cell_type": "markdown",
   "metadata": {},
   "source": [
    "## TRAIN SET"
   ]
  },
  {
   "cell_type": "code",
   "execution_count": 9,
   "metadata": {},
   "outputs": [],
   "source": [
    "gt_train_coord = pickle.load( open( \"../import_dataset_3/train/gt_train_coord.pkl\", \"rb\" ) )\n",
    "gt_train  = pickle.load( open( \"../import_dataset_3/train/gt_train.pkl\", \"rb\" ) )\n",
    "in_train_coord  = pickle.load( open( \"../import_dataset_3/train/in_train_coord.pkl\", \"rb\" ) )\n",
    "inputs_train = pickle.load( open( \"../import_dataset_3/train/inputs_train.pkl\", \"rb\" ) )\n",
    "\n",
    "inputs_train = torch.from_numpy(inputs_train).float()\n",
    "gt_train = torch.from_numpy(gt_train).float()"
   ]
  },
  {
   "cell_type": "markdown",
   "metadata": {},
   "source": [
    "## VALIDATION SET"
   ]
  },
  {
   "cell_type": "code",
   "execution_count": 10,
   "metadata": {},
   "outputs": [],
   "source": [
    "gt_validation_coord = pickle.load( open( \"../import_dataset_3/validation/gt_validation_coord.pkl\", \"rb\" ) )\n",
    "gt_validation = pickle.load( open( \"../import_dataset_3/validation/gt_validation.pkl\", \"rb\" ) )\n",
    "in_validation_coord = pickle.load( open( \"../import_dataset_3/validation/in_validation_coord.pkl\", \"rb\" ) )\n",
    "inputs_validation = pickle.load( open( \"../import_dataset_3/validation/inputs_validation.pkl\", \"rb\" ) )\n",
    "\n",
    "inputs_validation = torch.from_numpy(inputs_validation).float()\n",
    "gt_validation = torch.from_numpy(gt_validation).float()"
   ]
  },
  {
   "cell_type": "markdown",
   "metadata": {},
   "source": [
    "### Model"
   ]
  },
  {
   "cell_type": "code",
   "execution_count": 11,
   "metadata": {},
   "outputs": [],
   "source": [
    "from torch import optim\n",
    "\n",
    "inp_size = np.int(inputs_train.shape[2]/4)\n",
    "lr = 0.01\n",
    "lstm = LSTM(input_size = inputs_train.shape[2], output_size = 4, num_layers=2, hidden_size=128)\n",
    "optimizer = optim.Adam(lstm.parameters(), lr=lr,weight_decay=1e-4)\n",
    "criterion = nn.MSELoss()"
   ]
  },
  {
   "cell_type": "code",
   "execution_count": 12,
   "metadata": {
    "scrolled": false
   },
   "outputs": [
    {
     "name": "stderr",
     "output_type": "stream",
     "text": [
      "/Users/rodolphefarrando/anaconda3/lib/python3.6/site-packages/ipykernel_launcher.py:60: UserWarning: volatile was removed and now has no effect. Use `with torch.no_grad():` instead.\n"
     ]
    },
    {
     "name": "stdout",
     "output_type": "stream",
     "text": [
      "Epoch: 1/150.. Validation loss: 7.3991.. Training loss: 11.8400.. 0.0628 s/batch\n",
      "Epoch: 2/150.. Validation loss: 6.6586.. Training loss: 6.3296.. 0.0572 s/batch\n",
      "Epoch: 3/150.. Validation loss: 5.5367.. Training loss: 5.3968.. 0.0569 s/batch\n",
      "Epoch: 4/150.. Validation loss: 5.9314.. Training loss: 4.9377.. 0.0568 s/batch\n",
      "Epoch: 5/150.. Validation loss: 5.6422.. Training loss: 4.7140.. 0.0567 s/batch\n",
      "Epoch: 6/150.. Validation loss: 5.6860.. Training loss: 4.4238.. 0.0575 s/batch\n",
      "Epoch: 7/150.. Validation loss: 5.3232.. Training loss: 4.2203.. 0.0621 s/batch\n",
      "Epoch: 8/150.. Validation loss: 4.9984.. Training loss: 4.0384.. 0.0673 s/batch\n",
      "Epoch: 9/150.. Validation loss: 4.8419.. Training loss: 3.9141.. 0.0619 s/batch\n",
      "Epoch: 10/150.. Validation loss: 4.4858.. Training loss: 3.4154.. 0.0581 s/batch\n",
      "Epoch: 11/150.. Validation loss: 4.3531.. Training loss: 3.1547.. 0.0603 s/batch\n",
      "Epoch: 12/150.. Validation loss: 4.4550.. Training loss: 3.0361.. 0.0560 s/batch\n",
      "Epoch: 13/150.. Validation loss: 4.3159.. Training loss: 2.9506.. 0.0635 s/batch\n",
      "Epoch: 14/150.. Validation loss: 4.2857.. Training loss: 2.8660.. 0.0617 s/batch\n",
      "Epoch: 15/150.. Validation loss: 4.4292.. Training loss: 2.7741.. 0.0593 s/batch\n",
      "Epoch: 16/150.. Validation loss: 4.3856.. Training loss: 2.7177.. 0.0682 s/batch\n",
      "Epoch: 17/150.. Validation loss: 4.3172.. Training loss: 2.6580.. 0.0670 s/batch\n",
      "Epoch: 18/150.. Validation loss: 4.4373.. Training loss: 2.6012.. 0.0862 s/batch\n",
      "Epoch: 19/150.. Validation loss: 4.2446.. Training loss: 2.5543.. 0.0706 s/batch\n",
      "Epoch: 20/150.. Validation loss: 4.2118.. Training loss: 2.2860.. 0.0843 s/batch\n",
      "Epoch: 21/150.. Validation loss: 4.1684.. Training loss: 2.2047.. 0.0548 s/batch\n",
      "Epoch: 22/150.. Validation loss: 4.1259.. Training loss: 2.1444.. 0.0551 s/batch\n",
      "Epoch: 23/150.. Validation loss: 4.1231.. Training loss: 2.1079.. 0.0550 s/batch\n",
      "Epoch: 24/150.. Validation loss: 4.0667.. Training loss: 2.0713.. 0.0609 s/batch\n",
      "Epoch: 25/150.. Validation loss: 4.1875.. Training loss: 2.0713.. 0.0598 s/batch\n",
      "Epoch: 26/150.. Validation loss: 4.1051.. Training loss: 2.0225.. 0.0595 s/batch\n",
      "Epoch: 27/150.. Validation loss: 4.1569.. Training loss: 1.9720.. 0.0599 s/batch\n",
      "Epoch: 28/150.. Validation loss: 4.0750.. Training loss: 1.9642.. 0.0643 s/batch\n",
      "Epoch: 29/150.. Validation loss: 4.1190.. Training loss: 1.9480.. 0.0559 s/batch\n",
      "Epoch: 30/150.. Validation loss: 4.0164.. Training loss: 1.7895.. 0.0554 s/batch\n",
      "Epoch: 31/150.. Validation loss: 4.0064.. Training loss: 1.7375.. 0.0556 s/batch\n",
      "Epoch: 32/150.. Validation loss: 4.0114.. Training loss: 1.7151.. 0.0559 s/batch\n",
      "Epoch: 33/150.. Validation loss: 4.0396.. Training loss: 1.6938.. 0.0562 s/batch\n",
      "Epoch: 34/150.. Validation loss: 3.9910.. Training loss: 1.6878.. 0.0563 s/batch\n",
      "Epoch: 35/150.. Validation loss: 4.0360.. Training loss: 1.6653.. 0.0555 s/batch\n",
      "Epoch: 36/150.. Validation loss: 3.9887.. Training loss: 1.6496.. 0.0556 s/batch\n",
      "Epoch: 37/150.. Validation loss: 4.0388.. Training loss: 1.6676.. 0.0557 s/batch\n",
      "Epoch: 38/150.. Validation loss: 4.0263.. Training loss: 1.6325.. 0.0557 s/batch\n",
      "Epoch: 39/150.. Validation loss: 4.0219.. Training loss: 1.6296.. 0.0558 s/batch\n",
      "Epoch: 40/150.. Validation loss: 3.9652.. Training loss: 1.5427.. 0.0550 s/batch\n",
      "Epoch: 41/150.. Validation loss: 4.0097.. Training loss: 1.5195.. 0.0550 s/batch\n",
      "Epoch: 42/150.. Validation loss: 4.0065.. Training loss: 1.5233.. 0.0551 s/batch\n",
      "Epoch: 43/150.. Validation loss: 3.9737.. Training loss: 1.5067.. 0.0552 s/batch\n",
      "Epoch: 44/150.. Validation loss: 3.9695.. Training loss: 1.5095.. 0.0567 s/batch\n",
      "Epoch: 45/150.. Validation loss: 3.9934.. Training loss: 1.4771.. 0.0717 s/batch\n",
      "Epoch: 46/150.. Validation loss: 3.9298.. Training loss: 1.4851.. 0.0842 s/batch\n",
      "Epoch: 47/150.. Validation loss: 3.9603.. Training loss: 1.4775.. 0.0810 s/batch\n",
      "Epoch: 48/150.. Validation loss: 3.9877.. Training loss: 1.4729.. 0.0835 s/batch\n",
      "Epoch: 49/150.. Validation loss: 3.9978.. Training loss: 1.4572.. 0.0845 s/batch\n",
      "Epoch: 50/150.. Validation loss: 3.9472.. Training loss: 1.4300.. 0.0837 s/batch\n",
      "Epoch: 51/150.. Validation loss: 4.0033.. Training loss: 1.4219.. 0.0843 s/batch\n",
      "Epoch: 52/150.. Validation loss: 3.9610.. Training loss: 1.4119.. 0.0815 s/batch\n",
      "Epoch: 53/150.. Validation loss: 3.9699.. Training loss: 1.4082.. 0.0815 s/batch\n",
      "Epoch: 54/150.. Validation loss: 3.9545.. Training loss: 1.4015.. 0.0808 s/batch\n",
      "Epoch: 55/150.. Validation loss: 4.0112.. Training loss: 1.3926.. 0.0801 s/batch\n",
      "Epoch: 56/150.. Validation loss: 3.9828.. Training loss: 1.3981.. 0.0623 s/batch\n",
      "Epoch: 57/150.. Validation loss: 3.9933.. Training loss: 1.3927.. 0.0540 s/batch\n",
      "Epoch: 58/150.. Validation loss: 3.9754.. Training loss: 1.3842.. 0.0589 s/batch\n",
      "Epoch: 59/150.. Validation loss: 3.9531.. Training loss: 1.3855.. 0.0557 s/batch\n",
      "Epoch: 60/150.. Validation loss: 3.9535.. Training loss: 1.3583.. 0.0552 s/batch\n",
      "Epoch: 61/150.. Validation loss: 3.9773.. Training loss: 1.3533.. 0.0548 s/batch\n",
      "Epoch: 62/150.. Validation loss: 3.9616.. Training loss: 1.3531.. 0.0553 s/batch\n",
      "Epoch: 63/150.. Validation loss: 3.9662.. Training loss: 1.3484.. 0.0547 s/batch\n",
      "Epoch: 64/150.. Validation loss: 3.9954.. Training loss: 1.3670.. 0.0546 s/batch\n",
      "Epoch: 65/150.. Validation loss: 3.9628.. Training loss: 1.3559.. 0.0552 s/batch\n",
      "Epoch: 66/150.. Validation loss: 3.9783.. Training loss: 1.3451.. 0.0550 s/batch\n",
      "Epoch: 67/150.. Validation loss: 3.9970.. Training loss: 1.3524.. 0.0558 s/batch\n",
      "Epoch: 68/150.. Validation loss: 3.9478.. Training loss: 1.3515.. 0.0555 s/batch\n",
      "Epoch: 69/150.. Validation loss: 3.9688.. Training loss: 1.3371.. 0.0554 s/batch\n",
      "Epoch: 70/150.. Validation loss: 3.9723.. Training loss: 1.3260.. 0.0552 s/batch\n",
      "Epoch: 71/150.. Validation loss: 3.9607.. Training loss: 1.3391.. 0.0552 s/batch\n",
      "Epoch: 72/150.. Validation loss: 3.9684.. Training loss: 1.3327.. 0.0549 s/batch\n",
      "Epoch: 73/150.. Validation loss: 3.9541.. Training loss: 1.3214.. 0.0545 s/batch\n",
      "Epoch: 74/150.. Validation loss: 3.9961.. Training loss: 1.3234.. 0.0553 s/batch\n",
      "Epoch: 75/150.. Validation loss: 3.9779.. Training loss: 1.3219.. 0.0716 s/batch\n",
      "Epoch: 76/150.. Validation loss: 3.9934.. Training loss: 1.3279.. 0.0813 s/batch\n",
      "Epoch: 77/150.. Validation loss: 3.9596.. Training loss: 1.3225.. 0.0832 s/batch\n",
      "Epoch: 78/150.. Validation loss: 3.9733.. Training loss: 1.3219.. 0.0837 s/batch\n",
      "Epoch: 79/150.. Validation loss: 4.0075.. Training loss: 1.3111.. 0.0862 s/batch\n",
      "Epoch: 80/150.. Validation loss: 4.0077.. Training loss: 1.3217.. 0.0852 s/batch\n",
      "Epoch: 81/150.. Validation loss: 3.9359.. Training loss: 1.3130.. 0.0844 s/batch\n",
      "Epoch: 82/150.. Validation loss: 3.9783.. Training loss: 1.3090.. 0.0843 s/batch\n",
      "Epoch: 83/150.. Validation loss: 3.9660.. Training loss: 1.3060.. 0.0831 s/batch\n",
      "Epoch: 84/150.. Validation loss: 4.0100.. Training loss: 1.3056.. 0.0849 s/batch\n",
      "Epoch: 85/150.. Validation loss: 3.9794.. Training loss: 1.3133.. 0.0837 s/batch\n",
      "Epoch: 86/150.. Validation loss: 3.9884.. Training loss: 1.3077.. 0.0827 s/batch\n",
      "Epoch: 87/150.. Validation loss: 3.9687.. Training loss: 1.3106.. 0.0557 s/batch\n",
      "Epoch: 88/150.. Validation loss: 3.9884.. Training loss: 1.2970.. 0.0558 s/batch\n",
      "Epoch: 89/150.. Validation loss: 3.9664.. Training loss: 1.3165.. 0.0560 s/batch\n",
      "Epoch: 90/150.. Validation loss: 3.9517.. Training loss: 1.3034.. 0.0549 s/batch\n",
      "Epoch: 91/150.. Validation loss: 3.9776.. Training loss: 1.3196.. 0.0549 s/batch\n",
      "Epoch: 92/150.. Validation loss: 3.9767.. Training loss: 1.3057.. 0.0553 s/batch\n",
      "Epoch: 93/150.. Validation loss: 3.9998.. Training loss: 1.2940.. 0.0551 s/batch\n",
      "Epoch: 94/150.. Validation loss: 3.9675.. Training loss: 1.3018.. 0.0551 s/batch\n",
      "Epoch: 95/150.. Validation loss: 3.9689.. Training loss: 1.3074.. 0.0552 s/batch\n",
      "Epoch: 96/150.. Validation loss: 3.9666.. Training loss: 1.3036.. 0.0549 s/batch\n",
      "Epoch: 97/150.. Validation loss: 3.9787.. Training loss: 1.3031.. 0.0564 s/batch\n",
      "Epoch: 98/150.. Validation loss: 3.9762.. Training loss: 1.3077.. 0.0545 s/batch\n",
      "Epoch: 99/150.. Validation loss: 3.9959.. Training loss: 1.2991.. 0.0558 s/batch\n",
      "Epoch: 100/150.. Validation loss: 4.0276.. Training loss: 1.3019.. 0.0543 s/batch\n",
      "Epoch: 101/150.. Validation loss: 4.0032.. Training loss: 1.2998.. 0.0552 s/batch\n",
      "Epoch: 102/150.. Validation loss: 3.9692.. Training loss: 1.2962.. 0.0557 s/batch\n"
     ]
    },
    {
     "name": "stdout",
     "output_type": "stream",
     "text": [
      "Epoch: 103/150.. Validation loss: 3.9972.. Training loss: 1.2963.. 0.0715 s/batch\n",
      "Epoch: 104/150.. Validation loss: 3.9717.. Training loss: 1.3049.. 0.0845 s/batch\n",
      "Epoch: 105/150.. Validation loss: 3.9978.. Training loss: 1.2941.. 0.0808 s/batch\n",
      "Epoch: 106/150.. Validation loss: 4.0017.. Training loss: 1.3024.. 0.0842 s/batch\n",
      "Epoch: 107/150.. Validation loss: 3.9884.. Training loss: 1.2962.. 0.0865 s/batch\n",
      "Epoch: 108/150.. Validation loss: 3.9763.. Training loss: 1.2991.. 0.0870 s/batch\n",
      "Epoch: 109/150.. Validation loss: 3.9982.. Training loss: 1.3051.. 0.0852 s/batch\n",
      "Epoch: 110/150.. Validation loss: 3.9700.. Training loss: 1.3017.. 0.0865 s/batch\n",
      "Epoch: 111/150.. Validation loss: 4.0069.. Training loss: 1.3017.. 0.0850 s/batch\n",
      "Epoch: 112/150.. Validation loss: 3.9586.. Training loss: 1.2942.. 0.0828 s/batch\n",
      "Epoch: 113/150.. Validation loss: 3.9882.. Training loss: 1.2953.. 0.0853 s/batch\n",
      "Epoch: 114/150.. Validation loss: 3.9873.. Training loss: 1.2936.. 0.0576 s/batch\n",
      "Epoch: 115/150.. Validation loss: 3.9752.. Training loss: 1.2995.. 0.0540 s/batch\n",
      "Epoch: 116/150.. Validation loss: 3.9804.. Training loss: 1.3002.. 0.0540 s/batch\n",
      "Epoch: 117/150.. Validation loss: 4.0005.. Training loss: 1.3026.. 0.0542 s/batch\n",
      "Epoch: 118/150.. Validation loss: 3.9844.. Training loss: 1.3029.. 0.0539 s/batch\n",
      "Epoch: 119/150.. Validation loss: 3.9645.. Training loss: 1.3036.. 0.0543 s/batch\n",
      "Epoch: 120/150.. Validation loss: 3.9808.. Training loss: 1.2898.. 0.0538 s/batch\n",
      "Epoch: 121/150.. Validation loss: 3.9876.. Training loss: 1.2945.. 0.0648 s/batch\n",
      "Epoch: 122/150.. Validation loss: 4.0245.. Training loss: 1.3009.. 0.0599 s/batch\n",
      "Epoch: 123/150.. Validation loss: 4.0159.. Training loss: 1.2899.. 0.0572 s/batch\n",
      "Epoch: 124/150.. Validation loss: 3.9941.. Training loss: 1.3017.. 0.0581 s/batch\n",
      "Epoch: 125/150.. Validation loss: 4.0354.. Training loss: 1.2932.. 0.0681 s/batch\n",
      "Epoch: 126/150.. Validation loss: 3.9717.. Training loss: 1.2941.. 0.0574 s/batch\n",
      "Epoch: 127/150.. Validation loss: 3.9751.. Training loss: 1.2981.. 0.0564 s/batch\n",
      "Epoch: 128/150.. Validation loss: 4.0078.. Training loss: 1.2984.. 0.0559 s/batch\n",
      "Epoch: 129/150.. Validation loss: 3.9924.. Training loss: 1.2982.. 0.0610 s/batch\n",
      "Epoch: 130/150.. Validation loss: 4.0149.. Training loss: 1.2894.. 0.0697 s/batch\n",
      "Epoch: 131/150.. Validation loss: 3.9960.. Training loss: 1.2944.. 0.1266 s/batch\n",
      "Epoch: 132/150.. Validation loss: 4.0060.. Training loss: 1.2955.. 0.0715 s/batch\n",
      "Epoch: 133/150.. Validation loss: 3.9811.. Training loss: 1.2966.. 0.0772 s/batch\n",
      "Epoch: 134/150.. Validation loss: 3.9861.. Training loss: 1.2899.. 0.0680 s/batch\n",
      "Epoch: 135/150.. Validation loss: 3.9705.. Training loss: 1.2962.. 0.0636 s/batch\n",
      "Epoch: 136/150.. Validation loss: 3.9605.. Training loss: 1.2986.. 0.0611 s/batch\n",
      "Epoch: 137/150.. Validation loss: 3.9640.. Training loss: 1.3059.. 0.0615 s/batch\n",
      "Epoch: 138/150.. Validation loss: 3.9876.. Training loss: 1.2917.. 0.0663 s/batch\n",
      "Epoch: 139/150.. Validation loss: 3.9623.. Training loss: 1.3014.. 0.0676 s/batch\n",
      "Epoch: 140/150.. Validation loss: 3.9990.. Training loss: 1.2923.. 0.0686 s/batch\n",
      "Epoch: 141/150.. Validation loss: 3.9769.. Training loss: 1.3028.. 0.0930 s/batch\n",
      "Epoch: 142/150.. Validation loss: 3.9800.. Training loss: 1.3027.. 0.0668 s/batch\n",
      "Epoch: 143/150.. Validation loss: 3.9609.. Training loss: 1.2946.. 0.0606 s/batch\n",
      "Epoch: 144/150.. Validation loss: 3.9769.. Training loss: 1.2998.. 0.0730 s/batch\n",
      "Epoch: 145/150.. Validation loss: 3.9870.. Training loss: 1.2952.. 0.0652 s/batch\n",
      "Epoch: 146/150.. Validation loss: 3.9577.. Training loss: 1.3006.. 0.0681 s/batch\n",
      "Epoch: 147/150.. Validation loss: 3.9848.. Training loss: 1.3012.. 0.0650 s/batch\n",
      "Epoch: 148/150.. Validation loss: 3.9584.. Training loss: 1.2965.. 0.0733 s/batch\n",
      "Epoch: 149/150.. Validation loss: 3.9955.. Training loss: 1.2897.. 0.0666 s/batch\n",
      "Epoch: 150/150.. Validation loss: 3.9688.. Training loss: 1.2926.. 0.0622 s/batch\n"
     ]
    }
   ],
   "source": [
    "traindataset = utils.TensorDataset(inputs_train, gt_train[:,1:,:])\n",
    "trainloader = utils.DataLoader(traindataset, batch_size=16, shuffle=True)\n",
    "\n",
    "valdataset = utils.TensorDataset(inputs_validation, gt_validation[:,1:,:])\n",
    "valloader = utils.DataLoader(valdataset, batch_size=16, shuffle=True)\n",
    "\n",
    "epochs = 150\n",
    "steps = 0\n",
    "print_every = 323\n",
    "running_loss = 0\n",
    "\n",
    "loss_train = []\n",
    "loss_val = []\n",
    "for e in range(epochs):\n",
    "    start = time.time()\n",
    "    total_train_loss=0\n",
    "    steps_bis = 0\n",
    "    if (e+1)%10==0:\n",
    "        lr /= 2\n",
    "        optimizer = optim.Adam(lstm.parameters(), lr=lr,weight_decay=1e-4)\n",
    "\n",
    "    for train_coord, ground_tru in iter(trainloader):\n",
    "        steps += 1\n",
    "        steps_bis+=1\n",
    "        \n",
    "        train_coord = train_coord.permute([1,0,2])\n",
    "        ground_tru = ground_tru.permute([1,0,2])\n",
    "\n",
    "        in_train = Variable(train_coord)\n",
    "        targets = Variable(ground_tru)\n",
    "        optimizer.zero_grad()\n",
    "        \n",
    "        out = lstm.forward(in_train)\n",
    "        out_bis = out[:,:,0:2].clone()\n",
    "\n",
    "        for i in range(10):\n",
    "            if i == 0:\n",
    "                out_bis[i, :, 0:2] = in_train[-1, :, 0:2] + out[i, :, 2:]*0.4\n",
    "            else:\n",
    "                out_bis[i, :, 0:2] = out[i - 1, :, 0:2] + out[i, :, 2:]*0.4\n",
    "\n",
    "        loss1 = (criterion(out[:,:,0:2], targets[:,:,0:2]))\n",
    "        loss2 = (criterion(out[:,:,2:], targets[:,:,2:]))\n",
    "        loss3 = 5*criterion(out_bis, targets[:,:,0:2])\n",
    "        \n",
    "        loss1.backward(retain_graph=True)\n",
    "        loss2.backward(retain_graph=True)\n",
    "        loss3.backward()\n",
    "        optimizer.step()\n",
    "        \n",
    "        running_loss += (loss1+loss2+loss3).item()\n",
    "        total_train_loss += (loss1+loss2+loss3).item()\n",
    "    \n",
    "        if steps % print_every == 0:\n",
    "                stop = time.time()\n",
    "                val_loss=0\n",
    "                for ii, (valcoord, valgt) in enumerate(valloader):\n",
    "                    valcoord = valcoord.permute([1,0,2])\n",
    "                    valgt = valgt.permute([1,0,2])\n",
    "                    inputs = Variable(valcoord, volatile=True)\n",
    "                    predicted = lstm.predict(inputs)\n",
    "                    predicted_bis = predicted[:,:,0:2].clone()\n",
    "                    \n",
    "                    for i in range(10):\n",
    "                        if i == 0:\n",
    "                            predicted_bis[i, :, 0:2] = inputs[-1, :, 0:2] + predicted[i, :, 2:]*0.4\n",
    "                        else:\n",
    "                            predicted_bis[i, :, 0:2] = predicted[i - 1, :, 0:2] + predicted[i, :, 2:]*0.4\n",
    "                    val_loss+= (criterion(predicted[:,:,0:2],valgt[:,:,0:2]).item()\n",
    "                                + criterion(predicted[:,:,2:],valgt[:,:,2:]).item()\n",
    "                                + 5*criterion(predicted_bis, valgt[:,:,0:2]).item())\n",
    "                    \n",
    "                print(\"Epoch: {}/{}..\".format(e+1, epochs),\n",
    "                  \"Validation loss: {:.4f}..\".format(val_loss/ii),\n",
    "                  \"Training loss: {:.4f}..\".format(running_loss/print_every),\n",
    "                  \"{:.4f} s/batch\".format((stop - start)/print_every)\n",
    "                 )\n",
    "                \n",
    "                loss_val.append(val_loss/ii)\n",
    "                running_loss = 0\n",
    "                start = time.time()\n",
    "    loss_train.append(total_train_loss/steps_bis)"
   ]
  },
  {
   "cell_type": "code",
   "execution_count": 13,
   "metadata": {
    "scrolled": false
   },
   "outputs": [
    {
     "data": {
      "image/png": "[encoded data removed]",
      "text/plain": [
       "<matplotlib.figure.Figure at 0x122ad66a0>"
      ]
     },
     "metadata": {},
     "output_type": "display_data"
    }
   ],
   "source": [
    "epoch = np.arange(1,epochs+1)\n",
    "plt.figure(figsize=(12, 7))\n",
    "plt.rc('font', family='serif')\n",
    "plt.rc('font', size=20)\n",
    "\n",
    "plt.plot(epoch,loss_train,label='Training loss')\n",
    "plt.plot(epoch,loss_val,c='k',label='Validation loss')\n",
    "plt.xlabel('epoch')\n",
    "plt.ylabel('MSE error')\n",
    "plt.legend()\n",
    "plt.savefig(r'./figures/loss_full_last_data.pdf', bbox_inches='tight')"
   ]
  },
  {
   "cell_type": "code",
   "execution_count": 14,
   "metadata": {},
   "outputs": [],
   "source": [
    "torch.save(lstm.state_dict(), 'fullLSTM_LD_4.pt')"
   ]
  },
  {
   "cell_type": "code",
   "execution_count": null,
   "metadata": {},
   "outputs": [],
   "source": []
  }
 ],
 "metadata": {
  "kernelspec": {
   "display_name": "Python 3",
   "language": "python",
   "name": "python3"
  },
  "language_info": {
   "codemirror_mode": {
    "name": "ipython",
    "version": 3
   },
   "file_extension": ".py",
   "mimetype": "text/x-python",
   "name": "python",
   "nbconvert_exporter": "python",
   "pygments_lexer": "ipython3",
   "version": "3.6.4"
  }
 },
 "nbformat": 4,
 "nbformat_minor": 2
}
