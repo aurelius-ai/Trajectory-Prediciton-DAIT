{
 "cells": [
  {
   "cell_type": "code",
   "execution_count": 1,
   "metadata": {},
   "outputs": [
    {
     "data": {
      "text/plain": [
       "<torch._C.Generator at 0x108e7e570>"
      ]
     },
     "execution_count": 1,
     "metadata": {},
     "output_type": "execute_result"
    }
   ],
   "source": [
    "import torch\n",
    "from torch import nn\n",
    "from torch.autograd import Variable\n",
    "import torchvision.datasets as dsets\n",
    "import torchvision.transforms as transforms\n",
    "import matplotlib.pyplot as plt\n",
    "from LSTM import *\n",
    "import pandas as pd\n",
    "import numpy as np\n",
    "import torch.utils.data as utils\n",
    "import time\n",
    "import os\n",
    "import pickle\n",
    "\n",
    "import pdb\n",
    "\n",
    "# For the notebook\n",
    "%matplotlib inline\n",
    "%reload_ext autoreload\n",
    "%autoreload 2\n",
    "\n",
    "torch.manual_seed(1)"
   ]
  },
  {
   "cell_type": "markdown",
   "metadata": {},
   "source": [
    "## TRAIN SET"
   ]
  },
  {
   "cell_type": "code",
   "execution_count": 2,
   "metadata": {},
   "outputs": [],
   "source": [
    "gt_train_coord = pickle.load( open( \"../import_dataset_2/train/gt_train_coord.pkl\", \"rb\" ) )\n",
    "gt_train  = pickle.load( open( \"../import_dataset_2/train/gt_train.pkl\", \"rb\" ) )\n",
    "in_train_coord  = pickle.load( open( \"../import_dataset_2/train/in_train_coord.pkl\", \"rb\" ) )\n",
    "inputs_train = pickle.load( open( \"../import_dataset_2/train/inputs_train.pkl\", \"rb\" ) )\n",
    "\n",
    "inputs_train = torch.from_numpy(inputs_train).float()\n",
    "gt_train = torch.from_numpy(gt_train).float()"
   ]
  },
  {
   "cell_type": "markdown",
   "metadata": {},
   "source": [
    "## VALIDATION SET"
   ]
  },
  {
   "cell_type": "code",
   "execution_count": 3,
   "metadata": {},
   "outputs": [],
   "source": [
    "gt_validation_coord = pickle.load( open( \"../import_dataset_2/validation/gt_validation_coord.pkl\", \"rb\" ) )\n",
    "gt_validation = pickle.load( open( \"../import_dataset_2/validation/gt_validation.pkl\", \"rb\" ) )\n",
    "in_validation_coord = pickle.load( open( \"../import_dataset_2/validation/in_validation_coord.pkl\", \"rb\" ) )\n",
    "inputs_validation = pickle.load( open( \"../import_dataset_2/validation/inputs_validation.pkl\", \"rb\" ) )\n",
    "\n",
    "inputs_validation = torch.from_numpy(inputs_validation).float()\n",
    "gt_validation = torch.from_numpy(gt_validation).float()"
   ]
  },
  {
   "cell_type": "markdown",
   "metadata": {},
   "source": [
    "### Model"
   ]
  },
  {
   "cell_type": "code",
   "execution_count": 4,
   "metadata": {},
   "outputs": [],
   "source": [
    "from torch import optim\n",
    "\n",
    "inp_size = np.int(inputs_train.shape[2]/4)\n",
    "lr = 0.01\n",
    "lstm = LSTM(input_size = inputs_train.shape[2], output_size = 4, num_layers=2, hidden_size=128)\n",
    "optimizer = optim.Adam(lstm.parameters(), lr=lr,weight_decay=1e-4)\n",
    "criterion = nn.MSELoss()"
   ]
  },
  {
   "cell_type": "code",
   "execution_count": 5,
   "metadata": {
    "scrolled": false
   },
   "outputs": [
    {
     "name": "stderr",
     "output_type": "stream",
     "text": [
      "/Users/rodolphefarrando/anaconda3/lib/python3.6/site-packages/ipykernel_launcher.py:60: UserWarning: volatile was removed and now has no effect. Use `with torch.no_grad():` instead.\n"
     ]
    },
    {
     "name": "stdout",
     "output_type": "stream",
     "text": [
      "Epoch: 1/100.. Validation loss: 7.2409.. Training loss: 10.1560.. 0.0535 s/batch\n",
      "Epoch: 2/100.. Validation loss: 6.4247.. Training loss: 6.1260.. 0.0684 s/batch\n",
      "Epoch: 3/100.. Validation loss: 5.2635.. Training loss: 5.2277.. 0.1053 s/batch\n",
      "Epoch: 4/100.. Validation loss: 5.2893.. Training loss: 4.9646.. 0.0555 s/batch\n",
      "Epoch: 5/100.. Validation loss: 5.0758.. Training loss: 4.7042.. 0.0552 s/batch\n",
      "Epoch: 6/100.. Validation loss: 5.3467.. Training loss: 4.5531.. 0.0832 s/batch\n",
      "Epoch: 7/100.. Validation loss: 4.8081.. Training loss: 4.3192.. 0.0765 s/batch\n",
      "Epoch: 8/100.. Validation loss: 4.7752.. Training loss: 4.1669.. 0.0720 s/batch\n",
      "Epoch: 9/100.. Validation loss: 4.6642.. Training loss: 3.9786.. 0.0706 s/batch\n",
      "Epoch: 10/100.. Validation loss: 4.4301.. Training loss: 3.5826.. 0.0616 s/batch\n",
      "Epoch: 11/100.. Validation loss: 4.2811.. Training loss: 3.3456.. 0.0620 s/batch\n",
      "Epoch: 12/100.. Validation loss: 4.2958.. Training loss: 3.1811.. 0.0576 s/batch\n",
      "Epoch: 13/100.. Validation loss: 4.2268.. Training loss: 3.0791.. 0.0539 s/batch\n",
      "Epoch: 14/100.. Validation loss: 4.3368.. Training loss: 2.9720.. 0.0574 s/batch\n",
      "Epoch: 15/100.. Validation loss: 4.1837.. Training loss: 2.8909.. 0.0613 s/batch\n",
      "Epoch: 16/100.. Validation loss: 4.1717.. Training loss: 2.8413.. 0.0628 s/batch\n",
      "Epoch: 17/100.. Validation loss: 4.2399.. Training loss: 2.7518.. 0.0600 s/batch\n",
      "Epoch: 18/100.. Validation loss: 4.0991.. Training loss: 2.7210.. 0.0587 s/batch\n",
      "Epoch: 19/100.. Validation loss: 4.1159.. Training loss: 2.6302.. 0.0654 s/batch\n",
      "Epoch: 20/100.. Validation loss: 3.9400.. Training loss: 2.3840.. 0.0690 s/batch\n",
      "Epoch: 21/100.. Validation loss: 3.9751.. Training loss: 2.2952.. 0.0697 s/batch\n",
      "Epoch: 22/100.. Validation loss: 3.9589.. Training loss: 2.2517.. 0.0671 s/batch\n",
      "Epoch: 23/100.. Validation loss: 3.9514.. Training loss: 2.2041.. 0.0597 s/batch\n",
      "Epoch: 24/100.. Validation loss: 3.8611.. Training loss: 2.1667.. 0.0584 s/batch\n",
      "Epoch: 25/100.. Validation loss: 3.8694.. Training loss: 2.1918.. 0.0616 s/batch\n",
      "Epoch: 26/100.. Validation loss: 3.8790.. Training loss: 2.1175.. 0.0595 s/batch\n",
      "Epoch: 27/100.. Validation loss: 3.8505.. Training loss: 2.0792.. 0.0600 s/batch\n",
      "Epoch: 28/100.. Validation loss: 3.8327.. Training loss: 2.0434.. 0.0637 s/batch\n",
      "Epoch: 29/100.. Validation loss: 3.8543.. Training loss: 2.0341.. 0.0881 s/batch\n",
      "Epoch: 30/100.. Validation loss: 3.7751.. Training loss: 1.9231.. 0.0661 s/batch\n",
      "Epoch: 31/100.. Validation loss: 3.7880.. Training loss: 1.8785.. 0.0591 s/batch\n",
      "Epoch: 32/100.. Validation loss: 3.8774.. Training loss: 1.8607.. 0.0582 s/batch\n",
      "Epoch: 33/100.. Validation loss: 3.8744.. Training loss: 1.8526.. 0.0567 s/batch\n",
      "Epoch: 34/100.. Validation loss: 3.7997.. Training loss: 1.8436.. 0.0596 s/batch\n",
      "Epoch: 35/100.. Validation loss: 3.7774.. Training loss: 1.8145.. 0.0583 s/batch\n",
      "Epoch: 36/100.. Validation loss: 3.7656.. Training loss: 1.8030.. 0.0603 s/batch\n",
      "Epoch: 37/100.. Validation loss: 3.7546.. Training loss: 1.7818.. 0.0526 s/batch\n",
      "Epoch: 38/100.. Validation loss: 3.8044.. Training loss: 1.7616.. 0.0602 s/batch\n",
      "Epoch: 39/100.. Validation loss: 3.7927.. Training loss: 1.7624.. 0.0607 s/batch\n",
      "Epoch: 40/100.. Validation loss: 3.7700.. Training loss: 1.7037.. 0.0614 s/batch\n",
      "Epoch: 41/100.. Validation loss: 3.7675.. Training loss: 1.6970.. 0.0603 s/batch\n",
      "Epoch: 42/100.. Validation loss: 3.7673.. Training loss: 1.6678.. 0.0659 s/batch\n",
      "Epoch: 43/100.. Validation loss: 3.7283.. Training loss: 1.6680.. 0.0633 s/batch\n",
      "Epoch: 44/100.. Validation loss: 3.7530.. Training loss: 1.6492.. 0.0627 s/batch\n",
      "Epoch: 45/100.. Validation loss: 3.7305.. Training loss: 1.6469.. 0.0543 s/batch\n",
      "Epoch: 46/100.. Validation loss: 3.7774.. Training loss: 1.6460.. 0.0554 s/batch\n",
      "Epoch: 47/100.. Validation loss: 3.7326.. Training loss: 1.6395.. 0.0553 s/batch\n",
      "Epoch: 48/100.. Validation loss: 3.7287.. Training loss: 1.6428.. 0.0553 s/batch\n",
      "Epoch: 49/100.. Validation loss: 3.7567.. Training loss: 1.6300.. 0.0550 s/batch\n",
      "Epoch: 50/100.. Validation loss: 3.7166.. Training loss: 1.5996.. 0.0548 s/batch\n",
      "Epoch: 51/100.. Validation loss: 3.7807.. Training loss: 1.5924.. 0.0557 s/batch\n",
      "Epoch: 52/100.. Validation loss: 3.7423.. Training loss: 1.5795.. 0.0528 s/batch\n",
      "Epoch: 53/100.. Validation loss: 3.7405.. Training loss: 1.5829.. 0.0524 s/batch\n",
      "Epoch: 54/100.. Validation loss: 3.7402.. Training loss: 1.5773.. 0.0544 s/batch\n",
      "Epoch: 55/100.. Validation loss: 3.7683.. Training loss: 1.5825.. 0.0517 s/batch\n",
      "Epoch: 56/100.. Validation loss: 3.7225.. Training loss: 1.5659.. 0.0539 s/batch\n",
      "Epoch: 57/100.. Validation loss: 3.7472.. Training loss: 1.5638.. 0.0544 s/batch\n",
      "Epoch: 58/100.. Validation loss: 3.7754.. Training loss: 1.5686.. 0.0536 s/batch\n",
      "Epoch: 59/100.. Validation loss: 3.7649.. Training loss: 1.5583.. 0.0548 s/batch\n",
      "Epoch: 60/100.. Validation loss: 3.7426.. Training loss: 1.5449.. 0.0552 s/batch\n",
      "Epoch: 61/100.. Validation loss: 3.7545.. Training loss: 1.5449.. 0.0566 s/batch\n",
      "Epoch: 62/100.. Validation loss: 3.7606.. Training loss: 1.5434.. 0.0570 s/batch\n",
      "Epoch: 63/100.. Validation loss: 3.7340.. Training loss: 1.5372.. 0.0542 s/batch\n",
      "Epoch: 64/100.. Validation loss: 3.8215.. Training loss: 1.5352.. 0.0626 s/batch\n",
      "Epoch: 65/100.. Validation loss: 3.7471.. Training loss: 1.5410.. 0.0673 s/batch\n",
      "Epoch: 66/100.. Validation loss: 3.7617.. Training loss: 1.5257.. 0.1311 s/batch\n",
      "Epoch: 67/100.. Validation loss: 3.7258.. Training loss: 1.5304.. 0.0586 s/batch\n",
      "Epoch: 68/100.. Validation loss: 3.7312.. Training loss: 1.5146.. 0.0677 s/batch\n",
      "Epoch: 69/100.. Validation loss: 3.7328.. Training loss: 1.5304.. 0.0624 s/batch\n",
      "Epoch: 70/100.. Validation loss: 3.7413.. Training loss: 1.5112.. 0.0549 s/batch\n",
      "Epoch: 71/100.. Validation loss: 3.7539.. Training loss: 1.5261.. 0.0686 s/batch\n",
      "Epoch: 72/100.. Validation loss: 3.7314.. Training loss: 1.5151.. 0.0544 s/batch\n",
      "Epoch: 73/100.. Validation loss: 3.7811.. Training loss: 1.5116.. 0.0613 s/batch\n",
      "Epoch: 74/100.. Validation loss: 3.7410.. Training loss: 1.5138.. 0.0623 s/batch\n",
      "Epoch: 75/100.. Validation loss: 3.7571.. Training loss: 1.5106.. 0.0601 s/batch\n",
      "Epoch: 76/100.. Validation loss: 3.7358.. Training loss: 1.5146.. 0.0580 s/batch\n",
      "Epoch: 77/100.. Validation loss: 3.7389.. Training loss: 1.5145.. 0.0566 s/batch\n",
      "Epoch: 78/100.. Validation loss: 3.7476.. Training loss: 1.5331.. 0.0525 s/batch\n",
      "Epoch: 79/100.. Validation loss: 3.7468.. Training loss: 1.5114.. 0.0520 s/batch\n",
      "Epoch: 80/100.. Validation loss: 3.7122.. Training loss: 1.5195.. 0.0532 s/batch\n",
      "Epoch: 81/100.. Validation loss: 3.7352.. Training loss: 1.5135.. 0.0528 s/batch\n",
      "Epoch: 82/100.. Validation loss: 3.7561.. Training loss: 1.4901.. 0.0526 s/batch\n",
      "Epoch: 83/100.. Validation loss: 3.7365.. Training loss: 1.5027.. 0.0522 s/batch\n",
      "Epoch: 84/100.. Validation loss: 3.7337.. Training loss: 1.4915.. 0.0527 s/batch\n",
      "Epoch: 85/100.. Validation loss: 3.8062.. Training loss: 1.5020.. 0.0521 s/batch\n",
      "Epoch: 86/100.. Validation loss: 3.7428.. Training loss: 1.4988.. 0.0530 s/batch\n",
      "Epoch: 87/100.. Validation loss: 3.7670.. Training loss: 1.4986.. 0.0520 s/batch\n",
      "Epoch: 88/100.. Validation loss: 3.7301.. Training loss: 1.4985.. 0.0520 s/batch\n",
      "Epoch: 89/100.. Validation loss: 3.7658.. Training loss: 1.4931.. 0.0527 s/batch\n",
      "Epoch: 90/100.. Validation loss: 3.7290.. Training loss: 1.4946.. 0.0525 s/batch\n",
      "Epoch: 91/100.. Validation loss: 3.7476.. Training loss: 1.5025.. 0.0521 s/batch\n",
      "Epoch: 92/100.. Validation loss: 3.7197.. Training loss: 1.4939.. 0.0521 s/batch\n",
      "Epoch: 93/100.. Validation loss: 3.7298.. Training loss: 1.5048.. 0.0535 s/batch\n",
      "Epoch: 94/100.. Validation loss: 3.7553.. Training loss: 1.4932.. 0.0582 s/batch\n",
      "Epoch: 95/100.. Validation loss: 3.7252.. Training loss: 1.4942.. 0.0646 s/batch\n",
      "Epoch: 96/100.. Validation loss: 3.7929.. Training loss: 1.5000.. 0.0780 s/batch\n",
      "Epoch: 97/100.. Validation loss: 3.7288.. Training loss: 1.4983.. 0.0760 s/batch\n",
      "Epoch: 98/100.. Validation loss: 3.7466.. Training loss: 1.5065.. 0.0760 s/batch\n",
      "Epoch: 99/100.. Validation loss: 3.7390.. Training loss: 1.4939.. 0.0768 s/batch\n",
      "Epoch: 100/100.. Validation loss: 3.7333.. Training loss: 1.4955.. 0.0786 s/batch\n"
     ]
    }
   ],
   "source": [
    "traindataset = utils.TensorDataset(inputs_train, gt_train[:,1:,:])\n",
    "trainloader = utils.DataLoader(traindataset, batch_size=16, shuffle=True)\n",
    "\n",
    "valdataset = utils.TensorDataset(inputs_validation, gt_validation[:,1:,:])\n",
    "valloader = utils.DataLoader(valdataset, batch_size=16, shuffle=True)\n",
    "\n",
    "epochs = 100\n",
    "steps = 0\n",
    "print_every = 323\n",
    "running_loss = 0\n",
    "\n",
    "loss_train = []\n",
    "loss_val = []\n",
    "for e in range(epochs):\n",
    "    start = time.time()\n",
    "    total_train_loss=0\n",
    "    steps_bis = 0\n",
    "    if (e+1)%10==0:\n",
    "        lr /= 2\n",
    "        optimizer = optim.Adam(lstm.parameters(), lr=lr)\n",
    "\n",
    "    for train_coord, ground_tru in iter(trainloader):\n",
    "        steps += 1\n",
    "        steps_bis+=1\n",
    "        \n",
    "        train_coord = train_coord.permute([1,0,2])\n",
    "        ground_tru = ground_tru.permute([1,0,2])\n",
    "\n",
    "        in_train = Variable(train_coord)\n",
    "        targets = Variable(ground_tru)\n",
    "        optimizer.zero_grad()\n",
    "        \n",
    "        out = lstm.forward(in_train)\n",
    "        out_bis = out[:,:,0:2].clone()\n",
    "\n",
    "        for i in range(10):\n",
    "            if i == 0:\n",
    "                out_bis[i, :, 0:2] = in_train[-1, :, 0:2] + out[i, :, 2:]*0.4\n",
    "            else:\n",
    "                out_bis[i, :, 0:2] = out[i - 1, :, 0:2] + out[i, :, 2:]*0.4\n",
    "\n",
    "        loss1 = (criterion(out[:,:,0:2], targets[:,:,0:2]))\n",
    "        loss2 = (criterion(out[:,:,2:], targets[:,:,2:]))\n",
    "        loss3 = 5*criterion(out_bis, targets[:,:,0:2])\n",
    "        \n",
    "        loss1.backward(retain_graph=True)\n",
    "        loss2.backward(retain_graph=True)\n",
    "        loss3.backward()\n",
    "        optimizer.step()\n",
    "        \n",
    "        running_loss += (loss1+loss2+loss3).item()\n",
    "        total_train_loss += (loss1+loss2+loss3).item()\n",
    "    \n",
    "        if steps % print_every == 0:\n",
    "                stop = time.time()\n",
    "                val_loss=0\n",
    "                for ii, (valcoord, valgt) in enumerate(valloader):\n",
    "                    valcoord = valcoord.permute([1,0,2])\n",
    "                    valgt = valgt.permute([1,0,2])\n",
    "                    inputs = Variable(valcoord, volatile=True)\n",
    "                    predicted = lstm.predict(inputs)\n",
    "                    predicted_bis = predicted[:,:,0:2].clone()\n",
    "                    \n",
    "                    for i in range(10):\n",
    "                        if i == 0:\n",
    "                            predicted_bis[i, :, 0:2] = inputs[-1, :, 0:2] + predicted[i, :, 2:]*0.4\n",
    "                        else:\n",
    "                            predicted_bis[i, :, 0:2] = predicted[i - 1, :, 0:2] + predicted[i, :, 2:]*0.4\n",
    "                    val_loss+= (criterion(predicted[:,:,0:2],valgt[:,:,0:2]).item()\n",
    "                                + criterion(predicted[:,:,2:],valgt[:,:,2:]).item()\n",
    "                                + 5*criterion(predicted_bis, valgt[:,:,0:2]).item())\n",
    "                    \n",
    "                print(\"Epoch: {}/{}..\".format(e+1, epochs),\n",
    "                  \"Validation loss: {:.4f}..\".format(val_loss/ii),\n",
    "                  \"Training loss: {:.4f}..\".format(running_loss/print_every),\n",
    "                  \"{:.4f} s/batch\".format((stop - start)/print_every)\n",
    "                 )\n",
    "                \n",
    "                loss_val.append(val_loss/ii)\n",
    "                running_loss = 0\n",
    "                start = time.time()\n",
    "    loss_train.append(total_train_loss/steps_bis)"
   ]
  },
  {
   "cell_type": "code",
   "execution_count": 6,
   "metadata": {
    "scrolled": false
   },
   "outputs": [
    {
     "data": {
      "image/png": "[encoded data removed]",
      "text/plain": [
       "<matplotlib.figure.Figure at 0x1161b7a58>"
      ]
     },
     "metadata": {},
     "output_type": "display_data"
    }
   ],
   "source": [
    "epoch = np.arange(1,epochs+1)\n",
    "plt.figure(figsize=(12, 7))\n",
    "plt.rc('font', family='serif')\n",
    "plt.rc('font', size=20)\n",
    "\n",
    "plt.plot(epoch,loss_train,label='Training loss')\n",
    "plt.plot(epoch,loss_val,c='k',label='Validation loss')\n",
    "plt.xlabel('epoch')\n",
    "plt.ylabel('MSE error')\n",
    "plt.legend()\n",
    "plt.savefig(r'./figures/loss_full_reg.pdf', bbox_inches='tight')"
   ]
  },
  {
   "cell_type": "code",
   "execution_count": 7,
   "metadata": {},
   "outputs": [],
   "source": [
    "torch.save(lstm.state_dict(), 'fullLSTM_regul_4.pt')"
   ]
  },
  {
   "cell_type": "code",
   "execution_count": null,
   "metadata": {},
   "outputs": [],
   "source": []
  }
 ],
 "metadata": {
  "kernelspec": {
   "display_name": "Python 3",
   "language": "python",
   "name": "python3"
  },
  "language_info": {
   "codemirror_mode": {
    "name": "ipython",
    "version": 3
   },
   "file_extension": ".py",
   "mimetype": "text/x-python",
   "name": "python",
   "nbconvert_exporter": "python",
   "pygments_lexer": "ipython3",
   "version": "3.6.4"
  }
 },
 "nbformat": 4,
 "nbformat_minor": 2
}
