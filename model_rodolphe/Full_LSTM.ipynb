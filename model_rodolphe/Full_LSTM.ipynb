{
 "cells": [
  {
   "cell_type": "code",
   "execution_count": 1,
   "metadata": {},
   "outputs": [
    {
     "data": {
      "text/plain": [
       "<torch._C.Generator at 0x112a74510>"
      ]
     },
     "execution_count": 1,
     "metadata": {},
     "output_type": "execute_result"
    }
   ],
   "source": [
    "import torch\n",
    "from torch import nn\n",
    "from torch.autograd import Variable\n",
    "import torchvision.datasets as dsets\n",
    "import torchvision.transforms as transforms\n",
    "import matplotlib.pyplot as plt\n",
    "from LSTM import *\n",
    "import pandas as pd\n",
    "import numpy as np\n",
    "import torch.utils.data as utils\n",
    "import time\n",
    "import os\n",
    "import pickle\n",
    "\n",
    "import pdb\n",
    "\n",
    "# For the notebook\n",
    "%matplotlib inline\n",
    "%reload_ext autoreload\n",
    "%autoreload 2\n",
    "\n",
    "torch.manual_seed(1)"
   ]
  },
  {
   "cell_type": "markdown",
   "metadata": {},
   "source": [
    "## TRAIN SET"
   ]
  },
  {
   "cell_type": "code",
   "execution_count": 2,
   "metadata": {},
   "outputs": [],
   "source": [
    "gt_train_coord = pickle.load( open( \"../import_dataset_3/train/gt_train_coord.pkl\", \"rb\" ) )\n",
    "gt_train  = pickle.load( open( \"../import_dataset_3/train/gt_train.pkl\", \"rb\" ) )\n",
    "in_train_coord  = pickle.load( open( \"../import_dataset_3/train/in_train_coord.pkl\", \"rb\" ) )\n",
    "inputs_train = pickle.load( open( \"../import_dataset_3/train/inputs_train.pkl\", \"rb\" ) )\n",
    "\n",
    "inputs_train = torch.from_numpy(inputs_train).float()\n",
    "gt_train = torch.from_numpy(gt_train).float()"
   ]
  },
  {
   "cell_type": "markdown",
   "metadata": {},
   "source": [
    "## VALIDATION SET"
   ]
  },
  {
   "cell_type": "code",
   "execution_count": 3,
   "metadata": {},
   "outputs": [],
   "source": [
    "gt_validation_coord = pickle.load( open( \"../import_dataset_3/validation/gt_validation_coord.pkl\", \"rb\" ) )\n",
    "gt_validation = pickle.load( open( \"../import_dataset_3/validation/gt_validation.pkl\", \"rb\" ) )\n",
    "in_validation_coord = pickle.load( open( \"../import_dataset_3/validation/in_validation_coord.pkl\", \"rb\" ) )\n",
    "inputs_validation = pickle.load( open( \"../import_dataset_3/validation/inputs_validation.pkl\", \"rb\" ) )\n",
    "\n",
    "inputs_validation = torch.from_numpy(inputs_validation).float()\n",
    "gt_validation = torch.from_numpy(gt_validation).float()"
   ]
  },
  {
   "cell_type": "markdown",
   "metadata": {},
   "source": [
    "### Model"
   ]
  },
  {
   "cell_type": "code",
   "execution_count": 4,
   "metadata": {},
   "outputs": [],
   "source": [
    "from torch import optim\n",
    "\n",
    "inp_size = np.int(inputs_train.shape[2]/4)\n",
    "lr = 0.01\n",
    "lstm = LSTM(input_size = inputs_train.shape[2], output_size = 4, num_layers=2, hidden_size=128)\n",
    "optimizer = optim.Adam(lstm.parameters(), lr=lr,weight_decay=1e-4)\n",
    "criterion = nn.MSELoss()"
   ]
  },
  {
   "cell_type": "code",
   "execution_count": 5,
   "metadata": {
    "scrolled": false
   },
   "outputs": [
    {
     "name": "stderr",
     "output_type": "stream",
     "text": [
      "/Users/rodolphefarrando/anaconda3/lib/python3.6/site-packages/ipykernel_launcher.py:60: UserWarning: volatile was removed and now has no effect. Use `with torch.no_grad():` instead.\n"
     ]
    },
    {
     "name": "stdout",
     "output_type": "stream",
     "text": [
      "Epoch: 1/100.. Validation loss: 7.3991.. Training loss: 11.8400.. 0.0645 s/batch\n",
      "Epoch: 2/100.. Validation loss: 6.6586.. Training loss: 6.3296.. 0.0630 s/batch\n",
      "Epoch: 3/100.. Validation loss: 5.5367.. Training loss: 5.3968.. 0.0974 s/batch\n",
      "Epoch: 4/100.. Validation loss: 5.9314.. Training loss: 4.9377.. 0.0617 s/batch\n",
      "Epoch: 5/100.. Validation loss: 5.6422.. Training loss: 4.7140.. 0.0672 s/batch\n",
      "Epoch: 6/100.. Validation loss: 5.6860.. Training loss: 4.4238.. 0.1035 s/batch\n",
      "Epoch: 7/100.. Validation loss: 5.3232.. Training loss: 4.2203.. 0.0764 s/batch\n",
      "Epoch: 8/100.. Validation loss: 4.9984.. Training loss: 4.0384.. 0.0649 s/batch\n",
      "Epoch: 9/100.. Validation loss: 4.8419.. Training loss: 3.9141.. 0.0700 s/batch\n",
      "Epoch: 10/100.. Validation loss: 4.4762.. Training loss: 3.4080.. 0.0566 s/batch\n",
      "Epoch: 11/100.. Validation loss: 4.3454.. Training loss: 3.1239.. 0.0573 s/batch\n",
      "Epoch: 12/100.. Validation loss: 4.4251.. Training loss: 2.9954.. 0.0545 s/batch\n",
      "Epoch: 13/100.. Validation loss: 4.2843.. Training loss: 2.8996.. 0.0602 s/batch\n",
      "Epoch: 14/100.. Validation loss: 4.2587.. Training loss: 2.8122.. 0.0622 s/batch\n",
      "Epoch: 15/100.. Validation loss: 4.3670.. Training loss: 2.6941.. 0.0544 s/batch\n",
      "Epoch: 16/100.. Validation loss: 4.2833.. Training loss: 2.6166.. 0.0547 s/batch\n",
      "Epoch: 17/100.. Validation loss: 4.2812.. Training loss: 2.5627.. 0.0571 s/batch\n",
      "Epoch: 18/100.. Validation loss: 4.3628.. Training loss: 2.4995.. 0.0564 s/batch\n",
      "Epoch: 19/100.. Validation loss: 4.1981.. Training loss: 2.4457.. 0.0551 s/batch\n",
      "Epoch: 20/100.. Validation loss: 4.1866.. Training loss: 2.2062.. 0.0552 s/batch\n",
      "Epoch: 21/100.. Validation loss: 4.1837.. Training loss: 2.1515.. 0.0538 s/batch\n",
      "Epoch: 22/100.. Validation loss: 4.0855.. Training loss: 2.0977.. 0.0550 s/batch\n",
      "Epoch: 23/100.. Validation loss: 4.0588.. Training loss: 2.0570.. 0.0550 s/batch\n",
      "Epoch: 24/100.. Validation loss: 4.0423.. Training loss: 2.0229.. 0.0536 s/batch\n",
      "Epoch: 25/100.. Validation loss: 4.1052.. Training loss: 2.0113.. 0.0544 s/batch\n",
      "Epoch: 26/100.. Validation loss: 4.0430.. Training loss: 1.9590.. 0.0557 s/batch\n",
      "Epoch: 27/100.. Validation loss: 4.1289.. Training loss: 1.9137.. 0.0548 s/batch\n",
      "Epoch: 28/100.. Validation loss: 4.0628.. Training loss: 1.9026.. 0.0544 s/batch\n",
      "Epoch: 29/100.. Validation loss: 4.0640.. Training loss: 1.8939.. 0.0549 s/batch\n",
      "Epoch: 30/100.. Validation loss: 4.0175.. Training loss: 1.7637.. 0.0567 s/batch\n",
      "Epoch: 31/100.. Validation loss: 3.9951.. Training loss: 1.7228.. 0.0735 s/batch\n",
      "Epoch: 32/100.. Validation loss: 3.9864.. Training loss: 1.7050.. 0.0846 s/batch\n",
      "Epoch: 33/100.. Validation loss: 4.0313.. Training loss: 1.6862.. 0.0837 s/batch\n",
      "Epoch: 34/100.. Validation loss: 3.9806.. Training loss: 1.6766.. 0.0814 s/batch\n",
      "Epoch: 35/100.. Validation loss: 3.9789.. Training loss: 1.6510.. 0.0830 s/batch\n",
      "Epoch: 36/100.. Validation loss: 3.9829.. Training loss: 1.6401.. 0.0784 s/batch\n",
      "Epoch: 37/100.. Validation loss: 4.0044.. Training loss: 1.6573.. 0.0808 s/batch\n",
      "Epoch: 38/100.. Validation loss: 4.0429.. Training loss: 1.6222.. 0.0816 s/batch\n",
      "Epoch: 39/100.. Validation loss: 3.9771.. Training loss: 1.6260.. 0.0822 s/batch\n",
      "Epoch: 40/100.. Validation loss: 3.9262.. Training loss: 1.5606.. 0.0818 s/batch\n",
      "Epoch: 41/100.. Validation loss: 3.9760.. Training loss: 1.5426.. 0.0820 s/batch\n",
      "Epoch: 42/100.. Validation loss: 3.9859.. Training loss: 1.5402.. 0.0649 s/batch\n",
      "Epoch: 43/100.. Validation loss: 3.9606.. Training loss: 1.5210.. 0.0539 s/batch\n",
      "Epoch: 44/100.. Validation loss: 3.9630.. Training loss: 1.5297.. 0.0543 s/batch\n",
      "Epoch: 45/100.. Validation loss: 3.9675.. Training loss: 1.5057.. 0.0543 s/batch\n",
      "Epoch: 46/100.. Validation loss: 3.9408.. Training loss: 1.5063.. 0.0544 s/batch\n",
      "Epoch: 47/100.. Validation loss: 3.9467.. Training loss: 1.4943.. 0.0546 s/batch\n",
      "Epoch: 48/100.. Validation loss: 3.9599.. Training loss: 1.4987.. 0.0530 s/batch\n",
      "Epoch: 49/100.. Validation loss: 3.9723.. Training loss: 1.4824.. 0.0536 s/batch\n",
      "Epoch: 50/100.. Validation loss: 3.9379.. Training loss: 1.4578.. 0.0544 s/batch\n",
      "Epoch: 51/100.. Validation loss: 3.9818.. Training loss: 1.4582.. 0.0545 s/batch\n",
      "Epoch: 52/100.. Validation loss: 3.9311.. Training loss: 1.4491.. 0.0551 s/batch\n",
      "Epoch: 53/100.. Validation loss: 3.9654.. Training loss: 1.4442.. 0.0544 s/batch\n",
      "Epoch: 54/100.. Validation loss: 3.9624.. Training loss: 1.4383.. 0.0541 s/batch\n",
      "Epoch: 55/100.. Validation loss: 4.0028.. Training loss: 1.4294.. 0.0545 s/batch\n",
      "Epoch: 56/100.. Validation loss: 3.9813.. Training loss: 1.4350.. 0.0541 s/batch\n",
      "Epoch: 57/100.. Validation loss: 4.0173.. Training loss: 1.4272.. 0.0542 s/batch\n",
      "Epoch: 58/100.. Validation loss: 3.9752.. Training loss: 1.4268.. 0.0547 s/batch\n",
      "Epoch: 59/100.. Validation loss: 3.9432.. Training loss: 1.4229.. 0.0534 s/batch\n",
      "Epoch: 60/100.. Validation loss: 3.9655.. Training loss: 1.4032.. 0.0710 s/batch\n",
      "Epoch: 61/100.. Validation loss: 3.9455.. Training loss: 1.3917.. 0.0777 s/batch\n",
      "Epoch: 62/100.. Validation loss: 3.9413.. Training loss: 1.4022.. 0.0703 s/batch\n",
      "Epoch: 63/100.. Validation loss: 3.9359.. Training loss: 1.3918.. 0.0690 s/batch\n",
      "Epoch: 64/100.. Validation loss: 3.9549.. Training loss: 1.4150.. 0.0669 s/batch\n",
      "Epoch: 65/100.. Validation loss: 3.9566.. Training loss: 1.4025.. 0.0651 s/batch\n",
      "Epoch: 66/100.. Validation loss: 3.9702.. Training loss: 1.3906.. 0.0623 s/batch\n",
      "Epoch: 67/100.. Validation loss: 3.9564.. Training loss: 1.3993.. 0.0740 s/batch\n",
      "Epoch: 68/100.. Validation loss: 3.9542.. Training loss: 1.3893.. 0.0724 s/batch\n",
      "Epoch: 69/100.. Validation loss: 3.9699.. Training loss: 1.3834.. 0.0860 s/batch\n",
      "Epoch: 70/100.. Validation loss: 3.9532.. Training loss: 1.3786.. 0.0704 s/batch\n",
      "Epoch: 71/100.. Validation loss: 3.9673.. Training loss: 1.3879.. 0.0695 s/batch\n",
      "Epoch: 72/100.. Validation loss: 3.9638.. Training loss: 1.3783.. 0.0665 s/batch\n",
      "Epoch: 73/100.. Validation loss: 3.9679.. Training loss: 1.3688.. 0.0623 s/batch\n",
      "Epoch: 74/100.. Validation loss: 3.9741.. Training loss: 1.3710.. 0.0710 s/batch\n",
      "Epoch: 75/100.. Validation loss: 3.9537.. Training loss: 1.3747.. 0.0769 s/batch\n",
      "Epoch: 76/100.. Validation loss: 3.9616.. Training loss: 1.3814.. 0.0758 s/batch\n",
      "Epoch: 77/100.. Validation loss: 3.9431.. Training loss: 1.3762.. 0.0570 s/batch\n",
      "Epoch: 78/100.. Validation loss: 3.9507.. Training loss: 1.3704.. 0.0670 s/batch\n",
      "Epoch: 79/100.. Validation loss: 3.9769.. Training loss: 1.3681.. 0.0725 s/batch\n",
      "Epoch: 80/100.. Validation loss: 3.9731.. Training loss: 1.3769.. 0.0733 s/batch\n",
      "Epoch: 81/100.. Validation loss: 3.9053.. Training loss: 1.3683.. 0.0575 s/batch\n",
      "Epoch: 82/100.. Validation loss: 3.9860.. Training loss: 1.3630.. 0.0660 s/batch\n",
      "Epoch: 83/100.. Validation loss: 3.9334.. Training loss: 1.3584.. 0.0713 s/batch\n",
      "Epoch: 84/100.. Validation loss: 4.0095.. Training loss: 1.3554.. 0.0579 s/batch\n",
      "Epoch: 85/100.. Validation loss: 3.9608.. Training loss: 1.3672.. 0.0615 s/batch\n",
      "Epoch: 86/100.. Validation loss: 3.9512.. Training loss: 1.3573.. 0.0636 s/batch\n",
      "Epoch: 87/100.. Validation loss: 3.9611.. Training loss: 1.3629.. 0.0582 s/batch\n",
      "Epoch: 88/100.. Validation loss: 3.9949.. Training loss: 1.3532.. 0.0584 s/batch\n",
      "Epoch: 89/100.. Validation loss: 3.9353.. Training loss: 1.3672.. 0.0639 s/batch\n",
      "Epoch: 90/100.. Validation loss: 3.9682.. Training loss: 1.3595.. 0.0635 s/batch\n",
      "Epoch: 91/100.. Validation loss: 3.9531.. Training loss: 1.3704.. 0.0593 s/batch\n",
      "Epoch: 92/100.. Validation loss: 3.9538.. Training loss: 1.3630.. 0.0576 s/batch\n",
      "Epoch: 93/100.. Validation loss: 3.9814.. Training loss: 1.3496.. 0.0585 s/batch\n",
      "Epoch: 94/100.. Validation loss: 3.9206.. Training loss: 1.3568.. 0.0580 s/batch\n",
      "Epoch: 95/100.. Validation loss: 3.9390.. Training loss: 1.3598.. 0.0595 s/batch\n",
      "Epoch: 96/100.. Validation loss: 3.9631.. Training loss: 1.3606.. 0.0576 s/batch\n",
      "Epoch: 97/100.. Validation loss: 3.9438.. Training loss: 1.3610.. 0.0577 s/batch\n",
      "Epoch: 98/100.. Validation loss: 3.9686.. Training loss: 1.3651.. 0.0573 s/batch\n",
      "Epoch: 99/100.. Validation loss: 3.9424.. Training loss: 1.3540.. 0.0580 s/batch\n",
      "Epoch: 100/100.. Validation loss: 4.0259.. Training loss: 1.3571.. 0.0593 s/batch\n"
     ]
    }
   ],
   "source": [
    "traindataset = utils.TensorDataset(inputs_train, gt_train[:,1:,:])\n",
    "trainloader = utils.DataLoader(traindataset, batch_size=16, shuffle=True)\n",
    "\n",
    "valdataset = utils.TensorDataset(inputs_validation, gt_validation[:,1:,:])\n",
    "valloader = utils.DataLoader(valdataset, batch_size=16, shuffle=True)\n",
    "\n",
    "epochs = 100\n",
    "steps = 0\n",
    "print_every = 323\n",
    "running_loss = 0\n",
    "\n",
    "loss_train = []\n",
    "loss_val = []\n",
    "for e in range(epochs):\n",
    "    start = time.time()\n",
    "    total_train_loss=0\n",
    "    steps_bis = 0\n",
    "    if (e+1)%10==0:\n",
    "        lr /= 2\n",
    "        optimizer = optim.Adam(lstm.parameters(), lr=lr,weight_decay=1e-4)\n",
    "\n",
    "    for train_coord, ground_tru in iter(trainloader):\n",
    "        steps += 1\n",
    "        steps_bis+=1\n",
    "        \n",
    "        train_coord = train_coord.permute([1,0,2])\n",
    "        ground_tru = ground_tru.permute([1,0,2])\n",
    "\n",
    "        in_train = Variable(train_coord)\n",
    "        targets = Variable(ground_tru)\n",
    "        optimizer.zero_grad()\n",
    "        \n",
    "        out = lstm.forward(in_train)\n",
    "        out_bis = out[:,:,0:2].clone()\n",
    "\n",
    "        for i in range(10):\n",
    "            if i == 0:\n",
    "                out_bis[i, :, 0:2] = in_train[-1, :, 0:2] + out[i, :, 2:]*0.4\n",
    "            else:\n",
    "                out_bis[i, :, 0:2] = out[i - 1, :, 0:2] + out[i, :, 2:]*0.4\n",
    "\n",
    "        loss1 = (criterion(out[:,:,0:2], targets[:,:,0:2]))\n",
    "        loss2 = (criterion(out[:,:,2:], targets[:,:,2:]))\n",
    "        loss3 = 5*criterion(out_bis, targets[:,:,0:2])\n",
    "        \n",
    "        loss1.backward(retain_graph=True)\n",
    "        loss2.backward(retain_graph=True)\n",
    "        loss3.backward()\n",
    "        optimizer.step()\n",
    "        \n",
    "        running_loss += (loss1+loss2+loss3).item()\n",
    "        total_train_loss += (loss1+loss2+loss3).item()\n",
    "    \n",
    "        if steps % print_every == 0:\n",
    "                stop = time.time()\n",
    "                val_loss=0\n",
    "                for ii, (valcoord, valgt) in enumerate(valloader):\n",
    "                    valcoord = valcoord.permute([1,0,2])\n",
    "                    valgt = valgt.permute([1,0,2])\n",
    "                    inputs = Variable(valcoord, volatile=True)\n",
    "                    predicted = lstm.predict(inputs)\n",
    "                    predicted_bis = predicted[:,:,0:2].clone()\n",
    "                    \n",
    "                    for i in range(10):\n",
    "                        if i == 0:\n",
    "                            predicted_bis[i, :, 0:2] = inputs[-1, :, 0:2] + predicted[i, :, 2:]*0.4\n",
    "                        else:\n",
    "                            predicted_bis[i, :, 0:2] = predicted[i - 1, :, 0:2] + predicted[i, :, 2:]*0.4\n",
    "                    val_loss+= (criterion(predicted[:,:,0:2],valgt[:,:,0:2]).item()\n",
    "                                + criterion(predicted[:,:,2:],valgt[:,:,2:]).item()\n",
    "                                + 5*criterion(predicted_bis, valgt[:,:,0:2]).item())\n",
    "                    \n",
    "                print(\"Epoch: {}/{}..\".format(e+1, epochs),\n",
    "                  \"Validation loss: {:.4f}..\".format(val_loss/ii),\n",
    "                  \"Training loss: {:.4f}..\".format(running_loss/print_every),\n",
    "                  \"{:.4f} s/batch\".format((stop - start)/print_every)\n",
    "                 )\n",
    "                \n",
    "                loss_val.append(val_loss/ii)\n",
    "                running_loss = 0\n",
    "                start = time.time()\n",
    "    loss_train.append(total_train_loss/steps_bis)"
   ]
  },
  {
   "cell_type": "code",
   "execution_count": 6,
   "metadata": {
    "scrolled": false
   },
   "outputs": [
    {
     "data": {
      "image/png": "[encoded data removed]",
      "text/plain": [
       "<matplotlib.figure.Figure at 0x11df0ea90>"
      ]
     },
     "metadata": {},
     "output_type": "display_data"
    }
   ],
   "source": [
    "epoch = np.arange(1,epochs+1)\n",
    "plt.figure(figsize=(12, 7))\n",
    "plt.rc('font', family='serif')\n",
    "plt.rc('font', size=20)\n",
    "\n",
    "plt.plot(epoch,loss_train,label='Training loss')\n",
    "plt.plot(epoch,loss_val,c='k',label='Validation loss')\n",
    "plt.xlabel('epoch')\n",
    "plt.ylabel('MSE error')\n",
    "plt.legend()\n",
    "plt.savefig(r'./figures/loss_full_last_data.pdf', bbox_inches='tight')"
   ]
  },
  {
   "cell_type": "code",
   "execution_count": 7,
   "metadata": {},
   "outputs": [],
   "source": [
    "torch.save(lstm.state_dict(), 'fullLSTM_LD_4.pt')"
   ]
  },
  {
   "cell_type": "code",
   "execution_count": null,
   "metadata": {},
   "outputs": [],
   "source": []
  }
 ],
 "metadata": {
  "kernelspec": {
   "display_name": "Python 3",
   "language": "python",
   "name": "python3"
  },
  "language_info": {
   "codemirror_mode": {
    "name": "ipython",
    "version": 3
   },
   "file_extension": ".py",
   "mimetype": "text/x-python",
   "name": "python",
   "nbconvert_exporter": "python",
   "pygments_lexer": "ipython3",
   "version": "3.6.4"
  }
 },
 "nbformat": 4,
 "nbformat_minor": 2
}
