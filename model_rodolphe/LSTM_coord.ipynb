{
 "cells": [
  {
   "cell_type": "code",
   "execution_count": 1,
   "metadata": {},
   "outputs": [
    {
     "data": {
      "text/plain": [
       "<torch._C.Generator at 0x10b4104b0>"
      ]
     },
     "execution_count": 1,
     "metadata": {},
     "output_type": "execute_result"
    }
   ],
   "source": [
    "import torch\n",
    "from torch import nn\n",
    "from torch.autograd import Variable\n",
    "import torchvision.datasets as dsets\n",
    "import torchvision.transforms as transforms\n",
    "import matplotlib.pyplot as plt\n",
    "from LSTM import *\n",
    "import pandas as pd\n",
    "import numpy as np\n",
    "import torch.utils.data as utils\n",
    "import time\n",
    "import os\n",
    "import pickle\n",
    "\n",
    "import pdb\n",
    "\n",
    "# For the notebook\n",
    "%matplotlib inline\n",
    "%reload_ext autoreload\n",
    "%autoreload 2\n",
    "\n",
    "torch.manual_seed(1)"
   ]
  },
  {
   "cell_type": "markdown",
   "metadata": {},
   "source": [
    "## TRAIN SET"
   ]
  },
  {
   "cell_type": "code",
   "execution_count": 2,
   "metadata": {},
   "outputs": [],
   "source": [
    "gt_train_coord = pickle.load( open( \"../import_dataset_3/train/gt_train_coord.pkl\", \"rb\" ) )\n",
    "gt_train  = pickle.load( open( \"../import_dataset_3/train/gt_train.pkl\", \"rb\" ) )\n",
    "in_train_coord  = pickle.load( open( \"../import_dataset_3/train/in_train_coord.pkl\", \"rb\" ) )\n",
    "inputs_train = pickle.load( open( \"../import_dataset_3/train/inputs_train.pkl\", \"rb\" ) )\n",
    "\n",
    "coord_ind = np.append(np.arange(0,2),np.arange(4,164))\n",
    "inputs_train = inputs_train[:,:,coord_ind]\n",
    "gt_train = gt_train[:,:,:2]\n",
    "\n",
    "inputs_train = torch.from_numpy(inputs_train).float()\n",
    "gt_train = torch.from_numpy(gt_train).float()\n"
   ]
  },
  {
   "cell_type": "markdown",
   "metadata": {},
   "source": [
    "## VALIDATION SET"
   ]
  },
  {
   "cell_type": "code",
   "execution_count": 3,
   "metadata": {},
   "outputs": [],
   "source": [
    "gt_validation_coord = pickle.load( open( \"../import_dataset_3/validation/gt_validation_coord.pkl\", \"rb\" ) )\n",
    "gt_validation = pickle.load( open( \"../import_dataset_3/validation/gt_validation.pkl\", \"rb\" ) )\n",
    "in_validation_coord = pickle.load( open( \"../import_dataset_3/validation/in_validation_coord.pkl\", \"rb\" ) )\n",
    "inputs_validation = pickle.load( open( \"../import_dataset_3/validation/inputs_validation.pkl\", \"rb\" ) )\n",
    "\n",
    "coord_ind = np.append(np.arange(0,2),np.arange(4,164))\n",
    "inputs_validation = inputs_validation[:,:,coord_ind]\n",
    "gt_validation = gt_validation[:,:,:2]\n",
    "\n",
    "inputs_validation = torch.from_numpy(inputs_validation).float()\n",
    "gt_validation = torch.from_numpy(gt_validation).float()"
   ]
  },
  {
   "cell_type": "markdown",
   "metadata": {},
   "source": [
    "### Model"
   ]
  },
  {
   "cell_type": "code",
   "execution_count": 4,
   "metadata": {},
   "outputs": [],
   "source": [
    "from torch import optim\n",
    "\n",
    "inp_size = np.int(inputs_train.shape[2]/4)\n",
    "lr = 0.01\n",
    "lstm = LSTM(input_size = inputs_train.shape[2], output_size = 2, num_layers=2, hidden_size=128)\n",
    "optimizer = optim.Adam(lstm.parameters(), lr=lr,weight_decay=1e-4)\n",
    "criterion = nn.MSELoss()"
   ]
  },
  {
   "cell_type": "code",
   "execution_count": 5,
   "metadata": {
    "scrolled": false
   },
   "outputs": [
    {
     "name": "stderr",
     "output_type": "stream",
     "text": [
      "/Users/rodolphefarrando/anaconda3/lib/python3.6/site-packages/ipykernel_launcher.py:51: UserWarning: volatile was removed and now has no effect. Use `with torch.no_grad():` instead.\n"
     ]
    },
    {
     "name": "stdout",
     "output_type": "stream",
     "text": [
      "Epoch: 1/150.. Validation loss: 1.5490.. Training loss: 2.1081.. 0.0266 s/batch\n",
      "Epoch: 2/150.. Validation loss: 1.2373.. Training loss: 1.2639.. 0.0251 s/batch\n",
      "Epoch: 3/150.. Validation loss: 1.1421.. Training loss: 1.1036.. 0.0262 s/batch\n",
      "Epoch: 4/150.. Validation loss: 1.0995.. Training loss: 1.0066.. 0.0262 s/batch\n",
      "Epoch: 5/150.. Validation loss: 1.0636.. Training loss: 0.9707.. 0.0260 s/batch\n",
      "Epoch: 6/150.. Validation loss: 1.1344.. Training loss: 0.9206.. 0.0260 s/batch\n",
      "Epoch: 7/150.. Validation loss: 1.0063.. Training loss: 0.8865.. 0.0263 s/batch\n",
      "Epoch: 8/150.. Validation loss: 1.0559.. Training loss: 0.8617.. 0.0259 s/batch\n",
      "Epoch: 9/150.. Validation loss: 1.0476.. Training loss: 0.8391.. 0.0266 s/batch\n",
      "Epoch: 10/150.. Validation loss: 0.8955.. Training loss: 0.7318.. 0.0258 s/batch\n",
      "Epoch: 11/150.. Validation loss: 0.8900.. Training loss: 0.6807.. 0.0261 s/batch\n",
      "Epoch: 12/150.. Validation loss: 0.9267.. Training loss: 0.6505.. 0.0258 s/batch\n",
      "Epoch: 13/150.. Validation loss: 0.9015.. Training loss: 0.6473.. 0.0260 s/batch\n",
      "Epoch: 14/150.. Validation loss: 0.8699.. Training loss: 0.6300.. 0.0259 s/batch\n",
      "Epoch: 15/150.. Validation loss: 0.8794.. Training loss: 0.6188.. 0.0255 s/batch\n",
      "Epoch: 16/150.. Validation loss: 0.8589.. Training loss: 0.5931.. 0.0258 s/batch\n",
      "Epoch: 17/150.. Validation loss: 0.8566.. Training loss: 0.5938.. 0.0260 s/batch\n",
      "Epoch: 18/150.. Validation loss: 0.8808.. Training loss: 0.5769.. 0.0259 s/batch\n",
      "Epoch: 19/150.. Validation loss: 0.8478.. Training loss: 0.5654.. 0.0259 s/batch\n",
      "Epoch: 20/150.. Validation loss: 0.8082.. Training loss: 0.5004.. 0.0253 s/batch\n",
      "Epoch: 21/150.. Validation loss: 0.7972.. Training loss: 0.4733.. 0.0257 s/batch\n",
      "Epoch: 22/150.. Validation loss: 0.7963.. Training loss: 0.4650.. 0.0263 s/batch\n",
      "Epoch: 23/150.. Validation loss: 0.8052.. Training loss: 0.4542.. 0.0251 s/batch\n",
      "Epoch: 24/150.. Validation loss: 0.7971.. Training loss: 0.4470.. 0.0251 s/batch\n",
      "Epoch: 25/150.. Validation loss: 0.7725.. Training loss: 0.4463.. 0.0256 s/batch\n",
      "Epoch: 26/150.. Validation loss: 0.7640.. Training loss: 0.4488.. 0.0256 s/batch\n",
      "Epoch: 27/150.. Validation loss: 0.7936.. Training loss: 0.4327.. 0.0254 s/batch\n",
      "Epoch: 28/150.. Validation loss: 0.7923.. Training loss: 0.4268.. 0.0248 s/batch\n",
      "Epoch: 29/150.. Validation loss: 0.7949.. Training loss: 0.4231.. 0.0255 s/batch\n",
      "Epoch: 30/150.. Validation loss: 0.7577.. Training loss: 0.3911.. 0.0247 s/batch\n",
      "Epoch: 31/150.. Validation loss: 0.7647.. Training loss: 0.3749.. 0.0253 s/batch\n",
      "Epoch: 32/150.. Validation loss: 0.7693.. Training loss: 0.3733.. 0.0256 s/batch\n",
      "Epoch: 33/150.. Validation loss: 0.7534.. Training loss: 0.3707.. 0.0249 s/batch\n",
      "Epoch: 34/150.. Validation loss: 0.7476.. Training loss: 0.3724.. 0.0302 s/batch\n",
      "Epoch: 35/150.. Validation loss: 0.7468.. Training loss: 0.3585.. 0.0393 s/batch\n",
      "Epoch: 36/150.. Validation loss: 0.7654.. Training loss: 0.3556.. 0.0362 s/batch\n",
      "Epoch: 37/150.. Validation loss: 0.7433.. Training loss: 0.3556.. 0.0380 s/batch\n",
      "Epoch: 38/150.. Validation loss: 0.7357.. Training loss: 0.3560.. 0.0370 s/batch\n",
      "Epoch: 39/150.. Validation loss: 0.7643.. Training loss: 0.3536.. 0.0369 s/batch\n",
      "Epoch: 40/150.. Validation loss: 0.7360.. Training loss: 0.3348.. 0.0367 s/batch\n",
      "Epoch: 41/150.. Validation loss: 0.7345.. Training loss: 0.3257.. 0.0367 s/batch\n",
      "Epoch: 42/150.. Validation loss: 0.7417.. Training loss: 0.3257.. 0.0360 s/batch\n",
      "Epoch: 43/150.. Validation loss: 0.7506.. Training loss: 0.3224.. 0.0346 s/batch\n",
      "Epoch: 44/150.. Validation loss: 0.7448.. Training loss: 0.3202.. 0.0344 s/batch\n",
      "Epoch: 45/150.. Validation loss: 0.7279.. Training loss: 0.3251.. 0.0350 s/batch\n",
      "Epoch: 46/150.. Validation loss: 0.7417.. Training loss: 0.3175.. 0.0344 s/batch\n",
      "Epoch: 47/150.. Validation loss: 0.7370.. Training loss: 0.3144.. 0.0338 s/batch\n",
      "Epoch: 48/150.. Validation loss: 0.7366.. Training loss: 0.3201.. 0.0337 s/batch\n",
      "Epoch: 49/150.. Validation loss: 0.7521.. Training loss: 0.3148.. 0.0347 s/batch\n",
      "Epoch: 50/150.. Validation loss: 0.7292.. Training loss: 0.3029.. 0.0348 s/batch\n",
      "Epoch: 51/150.. Validation loss: 0.7349.. Training loss: 0.3008.. 0.0359 s/batch\n",
      "Epoch: 52/150.. Validation loss: 0.7328.. Training loss: 0.3037.. 0.0365 s/batch\n",
      "Epoch: 53/150.. Validation loss: 0.7315.. Training loss: 0.2962.. 0.0361 s/batch\n",
      "Epoch: 54/150.. Validation loss: 0.7365.. Training loss: 0.3003.. 0.0358 s/batch\n",
      "Epoch: 55/150.. Validation loss: 0.7514.. Training loss: 0.2968.. 0.0343 s/batch\n",
      "Epoch: 56/150.. Validation loss: 0.7343.. Training loss: 0.2967.. 0.0311 s/batch\n",
      "Epoch: 57/150.. Validation loss: 0.7340.. Training loss: 0.2958.. 0.0372 s/batch\n",
      "Epoch: 58/150.. Validation loss: 0.7388.. Training loss: 0.2945.. 0.0377 s/batch\n",
      "Epoch: 59/150.. Validation loss: 0.7389.. Training loss: 0.2933.. 0.0296 s/batch\n",
      "Epoch: 60/150.. Validation loss: 0.7312.. Training loss: 0.2896.. 0.0246 s/batch\n",
      "Epoch: 61/150.. Validation loss: 0.7286.. Training loss: 0.2844.. 0.0241 s/batch\n",
      "Epoch: 62/150.. Validation loss: 0.7330.. Training loss: 0.2885.. 0.0250 s/batch\n",
      "Epoch: 63/150.. Validation loss: 0.7297.. Training loss: 0.2863.. 0.0244 s/batch\n",
      "Epoch: 64/150.. Validation loss: 0.7201.. Training loss: 0.2827.. 0.0243 s/batch\n",
      "Epoch: 65/150.. Validation loss: 0.7241.. Training loss: 0.2878.. 0.0242 s/batch\n",
      "Epoch: 66/150.. Validation loss: 0.7380.. Training loss: 0.2858.. 0.0248 s/batch\n",
      "Epoch: 67/150.. Validation loss: 0.7361.. Training loss: 0.2845.. 0.0244 s/batch\n",
      "Epoch: 68/150.. Validation loss: 0.7450.. Training loss: 0.2846.. 0.0243 s/batch\n",
      "Epoch: 69/150.. Validation loss: 0.7405.. Training loss: 0.2821.. 0.0247 s/batch\n",
      "Epoch: 70/150.. Validation loss: 0.7339.. Training loss: 0.2834.. 0.0245 s/batch\n",
      "Epoch: 71/150.. Validation loss: 0.7368.. Training loss: 0.2833.. 0.0244 s/batch\n",
      "Epoch: 72/150.. Validation loss: 0.7393.. Training loss: 0.2813.. 0.0244 s/batch\n",
      "Epoch: 73/150.. Validation loss: 0.7286.. Training loss: 0.2763.. 0.0245 s/batch\n",
      "Epoch: 74/150.. Validation loss: 0.7323.. Training loss: 0.2778.. 0.0245 s/batch\n",
      "Epoch: 75/150.. Validation loss: 0.7391.. Training loss: 0.2783.. 0.0243 s/batch\n",
      "Epoch: 76/150.. Validation loss: 0.7253.. Training loss: 0.2790.. 0.0243 s/batch\n",
      "Epoch: 77/150.. Validation loss: 0.7440.. Training loss: 0.2800.. 0.0243 s/batch\n",
      "Epoch: 78/150.. Validation loss: 0.7333.. Training loss: 0.2800.. 0.0244 s/batch\n",
      "Epoch: 79/150.. Validation loss: 0.7395.. Training loss: 0.2780.. 0.0248 s/batch\n",
      "Epoch: 80/150.. Validation loss: 0.7398.. Training loss: 0.2773.. 0.0246 s/batch\n",
      "Epoch: 81/150.. Validation loss: 0.7316.. Training loss: 0.2770.. 0.0242 s/batch\n",
      "Epoch: 82/150.. Validation loss: 0.7294.. Training loss: 0.2772.. 0.0239 s/batch\n",
      "Epoch: 83/150.. Validation loss: 0.7351.. Training loss: 0.2775.. 0.0244 s/batch\n",
      "Epoch: 84/150.. Validation loss: 0.7332.. Training loss: 0.2752.. 0.0248 s/batch\n",
      "Epoch: 85/150.. Validation loss: 0.7292.. Training loss: 0.2744.. 0.0241 s/batch\n",
      "Epoch: 86/150.. Validation loss: 0.7349.. Training loss: 0.2749.. 0.0246 s/batch\n",
      "Epoch: 87/150.. Validation loss: 0.7311.. Training loss: 0.2775.. 0.0242 s/batch\n",
      "Epoch: 88/150.. Validation loss: 0.7286.. Training loss: 0.2757.. 0.0244 s/batch\n",
      "Epoch: 89/150.. Validation loss: 0.7357.. Training loss: 0.2747.. 0.0248 s/batch\n",
      "Epoch: 90/150.. Validation loss: 0.7218.. Training loss: 0.2759.. 0.0246 s/batch\n",
      "Epoch: 91/150.. Validation loss: 0.7298.. Training loss: 0.2721.. 0.0246 s/batch\n",
      "Epoch: 92/150.. Validation loss: 0.7437.. Training loss: 0.2709.. 0.0243 s/batch\n",
      "Epoch: 93/150.. Validation loss: 0.7333.. Training loss: 0.2722.. 0.0242 s/batch\n",
      "Epoch: 94/150.. Validation loss: 0.7336.. Training loss: 0.2751.. 0.0247 s/batch\n",
      "Epoch: 95/150.. Validation loss: 0.7235.. Training loss: 0.2758.. 0.0244 s/batch\n",
      "Epoch: 96/150.. Validation loss: 0.7335.. Training loss: 0.2757.. 0.0243 s/batch\n",
      "Epoch: 97/150.. Validation loss: 0.7371.. Training loss: 0.2751.. 0.0246 s/batch\n",
      "Epoch: 98/150.. Validation loss: 0.7340.. Training loss: 0.2703.. 0.0240 s/batch\n",
      "Epoch: 99/150.. Validation loss: 0.7312.. Training loss: 0.2742.. 0.0241 s/batch\n",
      "Epoch: 100/150.. Validation loss: 0.7298.. Training loss: 0.2723.. 0.0247 s/batch\n",
      "Epoch: 101/150.. Validation loss: 0.7309.. Training loss: 0.2750.. 0.0248 s/batch\n",
      "Epoch: 102/150.. Validation loss: 0.7306.. Training loss: 0.2739.. 0.0247 s/batch\n"
     ]
    },
    {
     "name": "stdout",
     "output_type": "stream",
     "text": [
      "Epoch: 103/150.. Validation loss: 0.7288.. Training loss: 0.2730.. 0.0240 s/batch\n",
      "Epoch: 104/150.. Validation loss: 0.7378.. Training loss: 0.2740.. 0.0248 s/batch\n",
      "Epoch: 105/150.. Validation loss: 0.7371.. Training loss: 0.2736.. 0.0241 s/batch\n",
      "Epoch: 106/150.. Validation loss: 0.7319.. Training loss: 0.2702.. 0.0241 s/batch\n",
      "Epoch: 107/150.. Validation loss: 0.7374.. Training loss: 0.2757.. 0.0247 s/batch\n",
      "Epoch: 108/150.. Validation loss: 0.7391.. Training loss: 0.2726.. 0.0247 s/batch\n",
      "Epoch: 109/150.. Validation loss: 0.7319.. Training loss: 0.2722.. 0.0243 s/batch\n",
      "Epoch: 110/150.. Validation loss: 0.7259.. Training loss: 0.2717.. 0.0240 s/batch\n",
      "Epoch: 111/150.. Validation loss: 0.7315.. Training loss: 0.2679.. 0.0245 s/batch\n",
      "Epoch: 112/150.. Validation loss: 0.7266.. Training loss: 0.2734.. 0.0244 s/batch\n",
      "Epoch: 113/150.. Validation loss: 0.7387.. Training loss: 0.2733.. 0.0250 s/batch\n",
      "Epoch: 114/150.. Validation loss: 0.7306.. Training loss: 0.2730.. 0.0243 s/batch\n",
      "Epoch: 115/150.. Validation loss: 0.7354.. Training loss: 0.2741.. 0.0244 s/batch\n",
      "Epoch: 116/150.. Validation loss: 0.7340.. Training loss: 0.2730.. 0.0248 s/batch\n",
      "Epoch: 117/150.. Validation loss: 0.7400.. Training loss: 0.2716.. 0.0246 s/batch\n",
      "Epoch: 118/150.. Validation loss: 0.7312.. Training loss: 0.2688.. 0.0241 s/batch\n",
      "Epoch: 119/150.. Validation loss: 0.7289.. Training loss: 0.2747.. 0.0244 s/batch\n",
      "Epoch: 120/150.. Validation loss: 0.7383.. Training loss: 0.2728.. 0.0242 s/batch\n",
      "Epoch: 121/150.. Validation loss: 0.7304.. Training loss: 0.2722.. 0.0244 s/batch\n",
      "Epoch: 122/150.. Validation loss: 0.7318.. Training loss: 0.2717.. 0.0244 s/batch\n",
      "Epoch: 123/150.. Validation loss: 0.7271.. Training loss: 0.2738.. 0.0245 s/batch\n",
      "Epoch: 124/150.. Validation loss: 0.7370.. Training loss: 0.2761.. 0.0241 s/batch\n",
      "Epoch: 125/150.. Validation loss: 0.7432.. Training loss: 0.2771.. 0.0244 s/batch\n",
      "Epoch: 126/150.. Validation loss: 0.7314.. Training loss: 0.2709.. 0.0248 s/batch\n",
      "Epoch: 127/150.. Validation loss: 0.7244.. Training loss: 0.2746.. 0.0244 s/batch\n",
      "Epoch: 128/150.. Validation loss: 0.7343.. Training loss: 0.2734.. 0.0243 s/batch\n",
      "Epoch: 129/150.. Validation loss: 0.7249.. Training loss: 0.2721.. 0.0246 s/batch\n",
      "Epoch: 130/150.. Validation loss: 0.7322.. Training loss: 0.2731.. 0.0246 s/batch\n",
      "Epoch: 131/150.. Validation loss: 0.7336.. Training loss: 0.2716.. 0.0248 s/batch\n",
      "Epoch: 132/150.. Validation loss: 0.7350.. Training loss: 0.2714.. 0.0245 s/batch\n",
      "Epoch: 133/150.. Validation loss: 0.7320.. Training loss: 0.2698.. 0.0245 s/batch\n",
      "Epoch: 134/150.. Validation loss: 0.7343.. Training loss: 0.2734.. 0.0242 s/batch\n",
      "Epoch: 135/150.. Validation loss: 0.7288.. Training loss: 0.2755.. 0.0245 s/batch\n",
      "Epoch: 136/150.. Validation loss: 0.7326.. Training loss: 0.2751.. 0.0246 s/batch\n",
      "Epoch: 137/150.. Validation loss: 0.7337.. Training loss: 0.2721.. 0.0244 s/batch\n",
      "Epoch: 138/150.. Validation loss: 0.7380.. Training loss: 0.2734.. 0.0246 s/batch\n",
      "Epoch: 139/150.. Validation loss: 0.7343.. Training loss: 0.2716.. 0.0246 s/batch\n",
      "Epoch: 140/150.. Validation loss: 0.7327.. Training loss: 0.2692.. 0.0247 s/batch\n",
      "Epoch: 141/150.. Validation loss: 0.7343.. Training loss: 0.2737.. 0.0245 s/batch\n",
      "Epoch: 142/150.. Validation loss: 0.7356.. Training loss: 0.2766.. 0.0245 s/batch\n",
      "Epoch: 143/150.. Validation loss: 0.7158.. Training loss: 0.2708.. 0.0242 s/batch\n",
      "Epoch: 144/150.. Validation loss: 0.7471.. Training loss: 0.2686.. 0.0240 s/batch\n",
      "Epoch: 145/150.. Validation loss: 0.7325.. Training loss: 0.2706.. 0.0243 s/batch\n",
      "Epoch: 146/150.. Validation loss: 0.7258.. Training loss: 0.2692.. 0.0248 s/batch\n",
      "Epoch: 147/150.. Validation loss: 0.7311.. Training loss: 0.2711.. 0.0245 s/batch\n",
      "Epoch: 148/150.. Validation loss: 0.7288.. Training loss: 0.2687.. 0.0241 s/batch\n",
      "Epoch: 149/150.. Validation loss: 0.7337.. Training loss: 0.2695.. 0.0245 s/batch\n",
      "Epoch: 150/150.. Validation loss: 0.7276.. Training loss: 0.2727.. 0.0244 s/batch\n"
     ]
    }
   ],
   "source": [
    "traindataset = utils.TensorDataset(inputs_train, gt_train[:,1:,:])\n",
    "trainloader = utils.DataLoader(traindataset, batch_size=16, shuffle=True)\n",
    "\n",
    "valdataset = utils.TensorDataset(inputs_validation, gt_validation[:,1:,:])\n",
    "valloader = utils.DataLoader(valdataset, batch_size=16, shuffle=True)\n",
    "\n",
    "epochs = 150\n",
    "steps = 0\n",
    "print_every = 323\n",
    "running_loss = 0 #### DOD\n",
    "\n",
    "loss_train = []\n",
    "loss_val = []\n",
    "for e in range(epochs):\n",
    "    start = time.time()\n",
    "    total_train_loss=0\n",
    "    steps_bis = 0\n",
    "    if (e+1)%10==0:\n",
    "        lr /= 2\n",
    "        optimizer = optim.Adam(lstm.parameters(), lr=lr, weight_decay=1e-4)\n",
    "\n",
    "    for train_coord, ground_tru in iter(trainloader):\n",
    "        steps += 1\n",
    "        steps_bis+=1\n",
    "        \n",
    "        train_coord = train_coord.permute([1,0,2])\n",
    "        ground_tru = ground_tru.permute([1,0,2])\n",
    "\n",
    "        in_train = Variable(train_coord)\n",
    "        targets = Variable(ground_tru)\n",
    "        optimizer.zero_grad()\n",
    "        #print(in_train.shape)\n",
    "        #print(targets.shape)\n",
    "        out = lstm.forward(in_train)\n",
    "    \n",
    "        #pdb.set_trace()\n",
    "        loss1 = (criterion(out[:,:,0:2], targets[:,:,0:2]))\n",
    "\n",
    "        loss1.backward()\n",
    "        optimizer.step()\n",
    "        \n",
    "        running_loss += (loss1).item()\n",
    "        total_train_loss += (loss1).item()\n",
    "    \n",
    "        if steps % print_every == 0:\n",
    "                stop = time.time()\n",
    "                val_loss=0\n",
    "                for ii, (valcoord, valgt) in enumerate(valloader):\n",
    "                    valcoord = valcoord.permute([1,0,2])\n",
    "                    valgt = valgt.permute([1,0,2])\n",
    "                    inputs = Variable(valcoord, volatile=True)\n",
    "                    predicted = lstm.predict(inputs)\n",
    "                    \n",
    "                    val_loss+= (criterion(predicted[:,:,0:2],valgt[:,:,0:2]).item())\n",
    "                    \n",
    "                print(\"Epoch: {}/{}..\".format(e+1, epochs),\n",
    "                  \"Validation loss: {:.4f}..\".format(val_loss/ii),\n",
    "                  \"Training loss: {:.4f}..\".format(running_loss/print_every),\n",
    "                  \"{:.4f} s/batch\".format((stop - start)/print_every)\n",
    "                 )\n",
    "                loss_val.append(val_loss/ii)\n",
    "                running_loss = 0\n",
    "                start = time.time()\n",
    "    loss_train.append(total_train_loss/steps_bis)"
   ]
  },
  {
   "cell_type": "code",
   "execution_count": 6,
   "metadata": {
    "scrolled": false
   },
   "outputs": [
    {
     "data": {
      "image/png": "[encoded data removed]",
      "text/plain": [
       "<matplotlib.figure.Figure at 0x1145fcb38>"
      ]
     },
     "metadata": {},
     "output_type": "display_data"
    }
   ],
   "source": [
    "epoch = np.arange(1,epochs+1)\n",
    "plt.figure(figsize=(12, 7))\n",
    "plt.rc('font', family='serif')\n",
    "plt.rc('font', size=20)\n",
    "\n",
    "plt.plot(epoch,loss_train,label='Training loss')\n",
    "plt.plot(epoch,loss_val,c='k',label='Validation loss')\n",
    "plt.xlabel('epoch')\n",
    "plt.ylabel('MSE error')\n",
    "plt.legend()\n",
    "plt.savefig(r'./figures/loss_coord.pdf', bbox_inches='tight')"
   ]
  },
  {
   "cell_type": "code",
   "execution_count": 8,
   "metadata": {},
   "outputs": [],
   "source": [
    "torch.save(lstm.state_dict(), 'coord_ND_1.pt')"
   ]
  },
  {
   "cell_type": "code",
   "execution_count": null,
   "metadata": {
    "collapsed": true
   },
   "outputs": [],
   "source": []
  }
 ],
 "metadata": {
  "kernelspec": {
   "display_name": "Python 3",
   "language": "python",
   "name": "python3"
  },
  "language_info": {
   "codemirror_mode": {
    "name": "ipython",
    "version": 3
   },
   "file_extension": ".py",
   "mimetype": "text/x-python",
   "name": "python",
   "nbconvert_exporter": "python",
   "pygments_lexer": "ipython3",
   "version": "3.6.4"
  }
 },
 "nbformat": 4,
 "nbformat_minor": 2
}
