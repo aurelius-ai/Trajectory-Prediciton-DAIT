{
 "cells": [
  {
   "cell_type": "code",
   "execution_count": 1,
   "metadata": {},
   "outputs": [
    {
     "data": {
      "text/plain": [
       "<torch._C.Generator at 0x111f934d0>"
      ]
     },
     "execution_count": 1,
     "metadata": {},
     "output_type": "execute_result"
    }
   ],
   "source": [
    "import torch\n",
    "from torch import nn\n",
    "from torch.autograd import Variable\n",
    "import torchvision.datasets as dsets\n",
    "import torchvision.transforms as transforms\n",
    "import matplotlib.pyplot as plt\n",
    "from LSTM import *\n",
    "from LSTMbis import *\n",
    "import pandas as pd\n",
    "import numpy as np\n",
    "import torch.utils.data as utils\n",
    "import time\n",
    "\n",
    "import pdb\n",
    "\n",
    "# For the notebook\n",
    "%matplotlib inline\n",
    "%reload_ext autoreload\n",
    "%autoreload 2\n",
    "\n",
    "torch.manual_seed(1)"
   ]
  },
  {
   "cell_type": "markdown",
   "metadata": {},
   "source": [
    "## TRAIN SET"
   ]
  },
  {
   "cell_type": "code",
   "execution_count": 2,
   "metadata": {},
   "outputs": [],
   "source": [
    "import os\n",
    "data = {}\n",
    "a=0\n",
    "max_len = 0\n",
    "for j in range(1,4):\n",
    "    for i in os.listdir('./final_dataset/train/%s'%j):\n",
    "        if i.endswith('.txt'):\n",
    "            a = a+1\n",
    "            data['%s'%a] = pd.read_csv('./final_dataset/train/{}/{}'.format(j,i), header = None, \n",
    "                                        names = ['frameNb','id', 'x','y','Vx','Vy'],\n",
    "                                           delimiter=' ')\n",
    "            if len(data['%s'%a])/20>max_len:\n",
    "                max_len=int(len(data['%s'%a])/20)"
   ]
  },
  {
   "cell_type": "code",
   "execution_count": 3,
   "metadata": {},
   "outputs": [
    {
     "name": "stderr",
     "output_type": "stream",
     "text": [
      "ERROR:root:Internal Python error in the inspect module.\n",
      "Below is the traceback from this internal error.\n",
      "\n"
     ]
    },
    {
     "name": "stdout",
     "output_type": "stream",
     "text": [
      "Traceback (most recent call last):\n",
      "  File \"/Users/rodolphefarrando/anaconda3/lib/python3.6/site-packages/IPython/core/interactiveshell.py\", line 2910, in run_code\n",
      "    exec(code_obj, self.user_global_ns, self.user_ns)\n",
      "  File \"<ipython-input-3-17c46f7a4be5>\", line 14, in <module>\n",
      "    if data['%s'%i].loc[j*20+k,'frameNb']==frame:\n",
      "  File \"/Users/rodolphefarrando/anaconda3/lib/python3.6/site-packages/pandas/core/indexing.py\", line 1363, in __getitem__\n",
      "    if self._is_scalar_access(key):\n",
      "  File \"/Users/rodolphefarrando/anaconda3/lib/python3.6/site-packages/pandas/core/indexing.py\", line 1537, in _is_scalar_access\n",
      "    if not ax.is_unique:\n",
      "  File \"/Users/rodolphefarrando/anaconda3/lib/python3.6/site-packages/pandas/core/indexes/range.py\", line 228, in is_unique\n",
      "    @property\n",
      "KeyboardInterrupt\n",
      "\n",
      "During handling of the above exception, another exception occurred:\n",
      "\n",
      "Traceback (most recent call last):\n",
      "  File \"/Users/rodolphefarrando/anaconda3/lib/python3.6/site-packages/IPython/core/interactiveshell.py\", line 1828, in showtraceback\n",
      "    stb = value._render_traceback_()\n",
      "AttributeError: 'KeyboardInterrupt' object has no attribute '_render_traceback_'\n",
      "\n",
      "During handling of the above exception, another exception occurred:\n",
      "\n",
      "Traceback (most recent call last):\n",
      "  File \"/Users/rodolphefarrando/anaconda3/lib/python3.6/site-packages/IPython/core/ultratb.py\", line 1090, in get_records\n",
      "    return _fixed_getinnerframes(etb, number_of_lines_of_context, tb_offset)\n",
      "  File \"/Users/rodolphefarrando/anaconda3/lib/python3.6/site-packages/IPython/core/ultratb.py\", line 311, in wrapped\n",
      "    return f(*args, **kwargs)\n",
      "  File \"/Users/rodolphefarrando/anaconda3/lib/python3.6/site-packages/IPython/core/ultratb.py\", line 345, in _fixed_getinnerframes\n",
      "    records = fix_frame_records_filenames(inspect.getinnerframes(etb, context))\n",
      "  File \"/Users/rodolphefarrando/anaconda3/lib/python3.6/inspect.py\", line 1483, in getinnerframes\n",
      "    frameinfo = (tb.tb_frame,) + getframeinfo(tb, context)\n",
      "  File \"/Users/rodolphefarrando/anaconda3/lib/python3.6/inspect.py\", line 1441, in getframeinfo\n",
      "    filename = getsourcefile(frame) or getfile(frame)\n",
      "  File \"/Users/rodolphefarrando/anaconda3/lib/python3.6/inspect.py\", line 696, in getsourcefile\n",
      "    if getattr(getmodule(object, filename), '__loader__', None) is not None:\n",
      "  File \"/Users/rodolphefarrando/anaconda3/lib/python3.6/inspect.py\", line 739, in getmodule\n",
      "    f = getabsfile(module)\n",
      "  File \"/Users/rodolphefarrando/anaconda3/lib/python3.6/inspect.py\", line 708, in getabsfile\n",
      "    _filename = getsourcefile(object) or getfile(object)\n",
      "  File \"/Users/rodolphefarrando/anaconda3/lib/python3.6/inspect.py\", line 693, in getsourcefile\n",
      "    if os.path.exists(filename):\n",
      "  File \"/Users/rodolphefarrando/anaconda3/lib/python3.6/genericpath.py\", line 19, in exists\n",
      "    os.stat(path)\n",
      "KeyboardInterrupt\n"
     ]
    },
    {
     "ename": "KeyboardInterrupt",
     "evalue": "",
     "output_type": "error",
     "traceback": [
      "\u001b[0;31m---------------------------------------------------------------------------\u001b[0m"
     ]
    }
   ],
   "source": [
    "a = 0\n",
    "inputs_train = np.zeros([10,len(data),4*max_len])\n",
    "gt_train = np.zeros([11,len(data),4])\n",
    "in_train_coord = np.zeros([10,len(data),2])\n",
    "gt_train_coord = np.zeros([11,len(data),2])\n",
    "\n",
    "for i in data:\n",
    "    len_d = np.int(len(data['%s'%i])/20)\n",
    "    inputs_train[:,a,:4] = data['%s'%i].loc[0:9,'x':'Vy']\n",
    "    for m in range(10):\n",
    "        frame = np.array(data['%s'%i].loc[m,'frameNb'])  \n",
    "        for j in range(1,len_d):\n",
    "            for k in range(20):\n",
    "                if data['%s'%i].loc[j*20+k,'frameNb']==frame:\n",
    "                    inputs_train[m,a,j*4:(j+1)*4]=data['%s'%i].loc[j*20+k,'x':'Vy']\n",
    "    \n",
    "    gt_train[:,a,:] = np.array(data['%s'%i].loc[9:19,['x','y','Vx','Vy']])\n",
    "    in_train_coord[:,a,:] = np.array(data['%s'%i].loc[0:9,['x','y']])\n",
    "    gt_train_coord[:,a,:] = np.array(data['%s'%i].loc[9:19,['x','y']])\n",
    "    a +=1\n",
    "\n",
    "\n",
    "inputs_train = torch.from_numpy(inputs_train).float()\n",
    "gt_train = torch.from_numpy(gt_train).float()\n",
    "inputs_train = inputs_train.permute([1,0,2])\n",
    "gt_train = gt_train.permute([1,0,2])\n"
   ]
  },
  {
   "cell_type": "code",
   "execution_count": null,
   "metadata": {},
   "outputs": [],
   "source": [
    "inputs_train.shape, gt_train.shape"
   ]
  },
  {
   "cell_type": "code",
   "execution_count": null,
   "metadata": {},
   "outputs": [],
   "source": [
    "from torch import optim\n",
    "\n",
    "lr = 0.01\n",
    "lstm = LSTM(4*max_len,4)\n",
    "optimizer = optim.SGD(lstm.parameters(), lr=lr)\n",
    "criterion = nn.MSELoss()"
   ]
  },
  {
   "cell_type": "code",
   "execution_count": null,
   "metadata": {},
   "outputs": [],
   "source": [
    "traindataset = utils.TensorDataset(inputs_train, gt_train[:,1:,:])\n",
    "trainloader = utils.DataLoader(traindataset, batch_size=2, shuffle=True)\n",
    "\n",
    "epochs = 10\n",
    "steps = 0\n",
    "print_every = 200\n",
    "running_loss = 0 #### DOD\n",
    "\n",
    "for e in range(epochs):\n",
    "    start = time.time()\n",
    "    if (e+1)%5==0:\n",
    "        lr /= 5\n",
    "        optimizer = optim.SGD(lstm.parameters(), lr=0.005)\n",
    "\n",
    "    for train_coord, ground_tru in iter(trainloader):\n",
    "        steps += 1\n",
    "        \n",
    "        train_coord = train_coord.permute([1,0,2])\n",
    "        ground_tru = ground_tru.permute([1,0,2])\n",
    "\n",
    "        in_train = Variable(train_coord)\n",
    "        targets = Variable(ground_tru)\n",
    "        optimizer.zero_grad()\n",
    "        #print(in_train.shape)\n",
    "        #print(targets.shape)\n",
    "        out = lstm.forward(in_train)\n",
    "        out_bis = out[:,:,0:2].clone()\n",
    "        #print(out_bis.shape)    \n",
    "        for i in range(10):\n",
    "            if i == 0:\n",
    "                out_bis[i, :, 0:2] = in_train[-1, :, 0:2] + out[i, :, 2:]*0.4\n",
    "            else:\n",
    "                out_bis[i, :, 0:2] = out[i - 1, :, 0:2] + out[i, :, 2:]*0.4\n",
    "        #pdb.set_trace()\n",
    "        loss = (criterion(out, targets) + criterion(out_bis[1:-1,:,:], targets[1:-1,:,0:2])\n",
    "                                + 2*criterion(out_bis[-1,:,:], targets[-1,:,0:2]) \n",
    "                                + 2*criterion(out_bis[0,:,:], targets[0,:,0:2]))\n",
    "        loss.backward()\n",
    "        optimizer.step()\n",
    "        \n",
    "        running_loss += loss.data[0]\n",
    "\n",
    "    \n",
    "        if steps % print_every == 0:\n",
    "                stop = time.time()\n",
    "                print(\"Epoch: {}/{}..\".format(e+1, epochs),\n",
    "                  \"Loss: {:.4f}..\".format(running_loss/print_every),\n",
    "                  \"{:.4f} s/batch\".format((stop - start)/print_every),\n",
    "                  \"{:.8f} lr\".format(lr)\n",
    "                 )\n",
    "                running_loss = 0\n",
    "                start = time.time()"
   ]
  },
  {
   "cell_type": "code",
   "execution_count": null,
   "metadata": {},
   "outputs": [],
   "source": [
    "inputs_pred = inputs_train.permute([1,0,2])\n",
    "output_final = lstm.predict(inputs_pred)\n",
    "output_final = output_final.data.numpy()"
   ]
  },
  {
   "cell_type": "markdown",
   "metadata": {},
   "source": [
    "## Post processing step\n",
    "Go back to coordinate:\n",
    "We have Vx and Vy and we want x and y.\n",
    "$ V = d/t$\n",
    "$ d = V*t$\n",
    "Here t = 0.4s between each point.\n",
    "Start from data at index 9. Then we add d_x and d_y to the last x and y."
   ]
  },
  {
   "cell_type": "code",
   "execution_count": null,
   "metadata": {},
   "outputs": [],
   "source": [
    "output_final.shape"
   ]
  },
  {
   "cell_type": "code",
   "execution_count": null,
   "metadata": {},
   "outputs": [],
   "source": [
    "output_coord=np.zeros([11,len(data),2])\n",
    "for j in range(11):\n",
    "    for i in range(len(data)):\n",
    "        if j==0:\n",
    "            output_coord[j,i,0:2] = in_train_coord[9,i,0:2]\n",
    "        else:\n",
    "            output_coord[j,i,0:2] = output_final[j-1,i,0:2]+output_final[j-1,i,2:]*0.4\n",
    "        "
   ]
  },
  {
   "cell_type": "code",
   "execution_count": null,
   "metadata": {
    "scrolled": false
   },
   "outputs": [],
   "source": [
    "for i in range(20):\n",
    "    plt.figure(figsize=(12, 7))\n",
    "\n",
    "    plt.plot(in_train_coord[:,(i*20)+3000,0],in_train_coord[:,i*20+3000,1],c='b')\n",
    "    plt.plot(gt_train_coord[:,i*20+3000,0],gt_train_coord[:,i*20+3000,1],c='k')\n",
    "    plt.plot(output_coord[:,i*20+3000,0],output_coord[:,i*20+3000,1],c='r')\n",
    "    plt.axis('equal')"
   ]
  },
  {
   "cell_type": "code",
   "execution_count": null,
   "metadata": {},
   "outputs": [],
   "source": []
  }
 ],
 "metadata": {
  "kernelspec": {
   "display_name": "Python 3",
   "language": "python",
   "name": "python3"
  },
  "language_info": {
   "codemirror_mode": {
    "name": "ipython",
    "version": 3
   },
   "file_extension": ".py",
   "mimetype": "text/x-python",
   "name": "python",
   "nbconvert_exporter": "python",
   "pygments_lexer": "ipython3",
   "version": "3.6.4"
  }
 },
 "nbformat": 4,
 "nbformat_minor": 2
}
