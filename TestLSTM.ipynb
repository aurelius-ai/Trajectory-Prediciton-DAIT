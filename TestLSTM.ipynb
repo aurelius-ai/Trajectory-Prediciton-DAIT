{
 "cells": [
  {
   "cell_type": "code",
   "execution_count": 8,
   "metadata": {},
   "outputs": [
    {
     "data": {
      "text/plain": [
       "<torch._C.Generator at 0x1129a3530>"
      ]
     },
     "execution_count": 8,
     "metadata": {},
     "output_type": "execute_result"
    }
   ],
   "source": [
    "import torch\n",
    "from torch import nn\n",
    "from torch.autograd import Variable\n",
    "import torchvision.datasets as dsets\n",
    "import torchvision.transforms as transforms\n",
    "import matplotlib.pyplot as plt\n",
    "from LSTM import *\n",
    "import pandas as pd\n",
    "import numpy as np\n",
    "import torch.utils.data as utils\n",
    "import time\n",
    "\n",
    "\n",
    "torch.manual_seed(1)"
   ]
  },
  {
   "cell_type": "code",
   "execution_count": 57,
   "metadata": {},
   "outputs": [
    {
     "ename": "FileNotFoundError",
     "evalue": "[Errno 2] No such file or directory: 'biwi_106.txt'",
     "output_type": "error",
     "traceback": [
      "\u001b[0;31m---------------------------------------------------------------------------\u001b[0m",
      "\u001b[0;31mFileNotFoundError\u001b[0m                         Traceback (most recent call last)",
      "\u001b[0;32m<ipython-input-57-eb7fb8d6c67f>\u001b[0m in \u001b[0;36m<module>\u001b[0;34m()\u001b[0m\n\u001b[1;32m      3\u001b[0m \u001b[0;32mfor\u001b[0m \u001b[0mi\u001b[0m \u001b[0;32min\u001b[0m \u001b[0mos\u001b[0m\u001b[0;34m.\u001b[0m\u001b[0mlistdir\u001b[0m\u001b[0;34m(\u001b[0m\u001b[0;34m'./new_data/4'\u001b[0m\u001b[0;34m)\u001b[0m\u001b[0;34m:\u001b[0m\u001b[0;34m\u001b[0m\u001b[0m\n\u001b[1;32m      4\u001b[0m     \u001b[0;32mif\u001b[0m \u001b[0mi\u001b[0m\u001b[0;34m.\u001b[0m\u001b[0mendswith\u001b[0m\u001b[0;34m(\u001b[0m\u001b[0;34m'.txt'\u001b[0m\u001b[0;34m)\u001b[0m\u001b[0;34m:\u001b[0m\u001b[0;34m\u001b[0m\u001b[0m\n\u001b[0;32m----> 5\u001b[0;31m         \u001b[0mfiles\u001b[0m\u001b[0;34m.\u001b[0m\u001b[0mappend\u001b[0m\u001b[0;34m(\u001b[0m\u001b[0mopen\u001b[0m\u001b[0;34m(\u001b[0m\u001b[0mi\u001b[0m\u001b[0;34m)\u001b[0m\u001b[0;34m)\u001b[0m\u001b[0;34m\u001b[0m\u001b[0m\n\u001b[0m",
      "\u001b[0;31mFileNotFoundError\u001b[0m: [Errno 2] No such file or directory: 'biwi_106.txt'"
     ]
    }
   ],
   "source": [
    "import os\n",
    "files = []\n",
    "for i in os.listdir('./new_data/4'):\n",
    "    if i.endswith('.txt'):\n",
    "        files.append(open(i))"
   ]
  },
  {
   "cell_type": "code",
   "execution_count": 3,
   "metadata": {},
   "outputs": [],
   "source": [
    "index = [15,28,29,40,41,81,82,84,85,86,98,106,107,108,109,132,137,141]\n",
    "data = {}\n",
    "for i in index:\n",
    "    data['%s'%i] = pd.read_csv('data_new/4/biwi_%s.txt'%i, \n",
    "                               header = None, names = ['frameNb','id', 'x','y'],delimiter=' ')\n"
   ]
  },
  {
   "cell_type": "code",
   "execution_count": 45,
   "metadata": {},
   "outputs": [],
   "source": [
    "a = 0\n",
    "inputs = np.zeros([10,len(index),2])\n",
    "gt = np.zeros([11,len(index),2])\n",
    "\n",
    "for i in index:\n",
    "    inputs[:,a,:] = np.array(data['%s'%i].loc[0:9,['x','y']])\n",
    "    gt[:,a,:] = np.array(data['%s'%i].loc[9:,['x','y']])\n",
    "    a +=1\n",
    "    \n",
    "inputs = torch.from_numpy(inputs).float()\n",
    "gt = torch.from_numpy(gt).float()\n",
    "\n",
    "h0 = torch.randn(1, 18, 2)\n",
    "c0 = torch.randn(1, 18, 2)"
   ]
  },
  {
   "cell_type": "code",
   "execution_count": 15,
   "metadata": {},
   "outputs": [],
   "source": [
    "output = lstm(inputs)"
   ]
  },
  {
   "cell_type": "code",
   "execution_count": 46,
   "metadata": {},
   "outputs": [],
   "source": [
    "from torch import optim\n",
    "\n",
    "lstm = LSTM(2)\n",
    "optimizer = optim.SGD(lstm.parameters(), lr=0.1)\n",
    "criterion = nn.MSELoss()"
   ]
  },
  {
   "cell_type": "code",
   "execution_count": 47,
   "metadata": {},
   "outputs": [
    {
     "name": "stderr",
     "output_type": "stream",
     "text": [
      "/Users/rodolphefarrando/anaconda3/lib/python3.6/site-packages/ipykernel_launcher.py:26: UserWarning: invalid index of a 0-dim tensor. This will be an error in PyTorch 0.5. Use tensor.item() to convert a 0-dim tensor to a Python number\n"
     ]
    },
    {
     "name": "stdout",
     "output_type": "stream",
     "text": [
      "Accuracy=0.00\n",
      "Accuracy=0.00\n",
      "Accuracy=0.00\n",
      "Accuracy=0.00\n",
      "Accuracy=0.00\n",
      "Accuracy=0.00\n",
      "Accuracy=0.00\n",
      "Accuracy=0.00\n",
      "Accuracy=0.00\n",
      "Accuracy=0.00\n",
      "Accuracy=0.00\n",
      "Accuracy=0.00\n",
      "Accuracy=0.00\n",
      "Accuracy=0.00\n",
      "Accuracy=0.00\n",
      "Accuracy=0.00\n",
      "Accuracy=0.00\n",
      "Accuracy=0.00\n",
      "Accuracy=0.00\n",
      "Accuracy=0.00\n",
      "Accuracy=0.00\n",
      "Accuracy=0.00\n",
      "Accuracy=0.00\n",
      "Accuracy=0.00\n",
      "Accuracy=0.00\n",
      "Accuracy=0.00\n",
      "Accuracy=0.00\n",
      "Accuracy=0.00\n",
      "Accuracy=0.00\n",
      "Accuracy=0.00\n",
      "Accuracy=0.00\n",
      "Accuracy=0.00\n",
      "Accuracy=0.00\n",
      "Accuracy=0.00\n",
      "Accuracy=0.00\n",
      "Accuracy=0.00\n",
      "Accuracy=0.00\n",
      "Accuracy=0.00\n",
      "Accuracy=0.00\n",
      "Accuracy=0.00\n",
      "Accuracy=0.00\n",
      "Accuracy=0.00\n",
      "Accuracy=0.00\n",
      "Accuracy=0.00\n",
      "Accuracy=0.00\n",
      "Accuracy=0.00\n",
      "Accuracy=0.00\n",
      "Accuracy=0.00\n",
      "Accuracy=0.00\n",
      "Accuracy=0.00\n"
     ]
    }
   ],
   "source": [
    "traindataset = utils.TensorDataset(inputs, gt[1:,:,:])\n",
    "trainloader = utils.DataLoader(traindataset, batch_size=12, shuffle=True)\n",
    "\n",
    "epochs = 100\n",
    "steps = 0\n",
    "print_every = 2\n",
    "running_loss = 0 #### DOD\n",
    "\n",
    "for e in range(epochs):\n",
    "    start = time.time()\n",
    "    for train_coord, ground_tru in iter(trainloader):\n",
    "        steps += 1\n",
    "\n",
    "\n",
    "        inputs = Variable(train_coord)\n",
    "        targets = Variable(ground_tru)\n",
    "        optimizer.zero_grad()\n",
    "        #print(inputs.shape)\n",
    "        #print(targets.shape)\n",
    "        \n",
    "        out = lstm.forward(inputs)\n",
    "        loss = criterion(out, targets)\n",
    "        loss.backward()\n",
    "        optimizer.step()\n",
    "        \n",
    "        running_loss += loss.data[0]\n",
    "\n",
    "    \n",
    "        if steps % print_every == 0:\n",
    "                stop = time.time()\n",
    "                # Test accuracy\n",
    "                outp = out.data.numpy()\n",
    "                gt_acc = ground_tru.numpy()\n",
    "                accuracy = sum(sum(sum(outp == gt_acc)))/(18*10*2)\n",
    "                print('Accuracy=%.2f' % accuracy)\n",
    "\n",
    "                start = time.time()"
   ]
  },
  {
   "cell_type": "code",
   "execution_count": 48,
   "metadata": {},
   "outputs": [],
   "source": [
    "inputs = inputs.numpy()\n",
    "#output = output.data.numpy()"
   ]
  },
  {
   "cell_type": "code",
   "execution_count": 54,
   "metadata": {},
   "outputs": [
    {
     "data": {
      "text/plain": [
       "(-1.562017123401165,\n",
       " 0.23875309079885482,\n",
       " -0.2705901622772217,\n",
       " 5.682393407821655)"
      ]
     },
     "execution_count": 54,
     "metadata": {},
     "output_type": "execute_result"
    },
    {
     "data": {
      "image/png": "[encoded data removed]",
      "text/plain": [
       "<matplotlib.figure.Figure at 0x10f855b00>"
      ]
     },
     "metadata": {},
     "output_type": "display_data"
    }
   ],
   "source": [
    "plt.plot(inputs[:,1,0],inputs[:,1,1])\n",
    "plt.plot(outp[:,0,0],outp[:,0,1])\n",
    "#plt.plot(gt[:,0,0],gt[:,0,1])\n",
    "plt.axis('equal')"
   ]
  },
  {
   "cell_type": "code",
   "execution_count": 52,
   "metadata": {},
   "outputs": [
    {
     "data": {
      "text/plain": [
       "(10, 18, 2)"
      ]
     },
     "execution_count": 52,
     "metadata": {},
     "output_type": "execute_result"
    }
   ],
   "source": [
    "inputs.shape"
   ]
  },
  {
   "cell_type": "code",
   "execution_count": 55,
   "metadata": {},
   "outputs": [
    {
     "data": {
      "text/plain": [
       "tensor([[[ 0.1832,  2.3965],\n",
       "         [-0.4400,  2.4000],\n",
       "         [-0.1100,  2.3622],\n",
       "         [-0.0180,  2.1512],\n",
       "         [-0.0456,  0.7753],\n",
       "         [ 0.2318,  2.2962],\n",
       "         [ 0.0119,  2.1311],\n",
       "         [-0.0562,  2.2037],\n",
       "         [-0.2371,  2.5540],\n",
       "         [ 0.0349,  2.5126],\n",
       "         [ 0.3642,  1.8591],\n",
       "         [-0.1141,  1.0918],\n",
       "         [-0.1008,  2.2937],\n",
       "         [ 0.1154,  1.6170],\n",
       "         [ 0.1626,  2.6409],\n",
       "         [ 0.2160,  0.5620],\n",
       "         [ 0.1014,  0.7039],\n",
       "         [ 0.3889,  1.3920]],\n",
       "\n",
       "        [[ 0.4530,  4.1463],\n",
       "         [-1.0097,  4.1764],\n",
       "         [-0.3576,  4.2767],\n",
       "         [ 0.4367,  3.5647],\n",
       "         [-0.1745,  1.0551],\n",
       "         [ 0.3847,  4.1037],\n",
       "         [ 0.1234,  3.7280],\n",
       "         [-0.3052,  3.8682],\n",
       "         [-0.5730,  4.4448],\n",
       "         [-0.0168,  4.3319],\n",
       "         [ 0.8068,  3.2002],\n",
       "         [-0.3867,  1.7067],\n",
       "         [-0.1474,  4.1021],\n",
       "         [ 0.1379,  2.8417],\n",
       "         [ 0.3022,  4.7201],\n",
       "         [ 0.4560,  1.2920],\n",
       "         [ 0.3703,  1.1422],\n",
       "         [ 0.7849,  2.1353]],\n",
       "\n",
       "        [[ 0.0000,  0.0000],\n",
       "         [ 0.0000,  0.0000],\n",
       "         [ 0.0000,  0.0000],\n",
       "         [ 0.0000,  0.0000],\n",
       "         [ 0.0000,  0.0000],\n",
       "         [ 0.0000,  0.0000],\n",
       "         [ 0.0000,  0.0000],\n",
       "         [ 0.0000,  0.0000],\n",
       "         [ 0.0000,  0.0000],\n",
       "         [ 0.0000,  0.0000],\n",
       "         [ 0.0000,  0.0000],\n",
       "         [ 0.0000,  0.0000],\n",
       "         [ 0.0000,  0.0000],\n",
       "         [ 0.0000,  0.0000],\n",
       "         [ 0.0000,  0.0000],\n",
       "         [ 0.0000,  0.0000],\n",
       "         [ 0.0000,  0.0000],\n",
       "         [ 0.0000,  0.0000]],\n",
       "\n",
       "        [[ 0.6884,  5.3257],\n",
       "         [-1.4802,  5.4118],\n",
       "         [-0.2351,  5.6048],\n",
       "         [ 0.9342,  4.4720],\n",
       "         [-0.0474,  1.4454],\n",
       "         [ 0.3174,  5.3551],\n",
       "         [ 0.1191,  4.9191],\n",
       "         [-0.5044,  4.9749],\n",
       "         [-0.8163,  5.7428],\n",
       "         [-0.3393,  5.5817],\n",
       "         [ 1.0471,  4.0572],\n",
       "         [-0.4896,  2.0156],\n",
       "         [ 0.0772,  5.2386],\n",
       "         [ 0.3601,  3.6827],\n",
       "         [ 0.4353,  6.1082],\n",
       "         [ 0.8220,  1.3540],\n",
       "         [ 0.3664,  1.4437],\n",
       "         [ 0.8641,  2.7567]],\n",
       "\n",
       "        [[ 0.5905,  4.7334],\n",
       "         [-1.1957,  4.8031],\n",
       "         [-0.2059,  4.9642],\n",
       "         [ 0.6710,  4.0248],\n",
       "         [-0.1649,  1.1893],\n",
       "         [ 0.3061,  4.7352],\n",
       "         [ 0.1937,  4.2557],\n",
       "         [-0.3650,  4.4251],\n",
       "         [-0.6749,  5.0969],\n",
       "         [-0.2290,  4.9851],\n",
       "         [ 0.9183,  3.6156],\n",
       "         [-0.4271,  1.8124],\n",
       "         [-0.0953,  4.6698],\n",
       "         [ 0.2870,  3.2882],\n",
       "         [ 0.3883,  5.4251],\n",
       "         [ 0.6460,  1.2720],\n",
       "         [ 0.3760,  1.3224],\n",
       "         [ 0.7706,  2.4480]],\n",
       "\n",
       "        [[ 0.1733,  1.7826],\n",
       "         [-0.3067,  1.7839],\n",
       "         [ 0.0390,  1.7096],\n",
       "         [-0.0470,  1.6316],\n",
       "         [-0.1114,  0.5341],\n",
       "         [ 0.1113,  1.7183],\n",
       "         [-0.0085,  1.6015],\n",
       "         [-0.0697,  1.6805],\n",
       "         [-0.1071,  1.9164],\n",
       "         [ 0.0559,  1.8930],\n",
       "         [ 0.2688,  1.3878],\n",
       "         [-0.0855,  0.7394],\n",
       "         [-0.0063,  1.6750],\n",
       "         [ 0.0832,  1.2282],\n",
       "         [ 0.1160,  1.9479],\n",
       "         [ 0.0640,  0.3980],\n",
       "         [ 0.0078,  0.5514],\n",
       "         [ 0.3645,  1.0417]],\n",
       "\n",
       "        [[ 0.2823,  2.9987],\n",
       "         [-0.6484,  2.9820],\n",
       "         [-0.2284,  3.0443],\n",
       "         [ 0.0218,  2.6798],\n",
       "         [-0.1000,  0.9104],\n",
       "         [ 0.2925,  2.8852],\n",
       "         [ 0.0822,  2.6588],\n",
       "         [-0.0662,  2.7651],\n",
       "         [-0.3396,  3.1453],\n",
       "         [ 0.0139,  3.1323],\n",
       "         [ 0.4841,  2.3446],\n",
       "         [-0.1295,  1.4492],\n",
       "         [-0.0964,  2.8950],\n",
       "         [ 0.1342,  2.0676],\n",
       "         [ 0.2301,  3.3150],\n",
       "         [ 0.3460,  0.6720],\n",
       "         [ 0.2556,  0.8611],\n",
       "         [ 0.5107,  1.6662]],\n",
       "\n",
       "        [[ 0.0741,  1.1804],\n",
       "         [-0.1672,  1.1893],\n",
       "         [ 0.0193,  1.1398],\n",
       "         [-0.0379,  1.0884],\n",
       "         [-0.0860,  0.3385],\n",
       "         [ 0.1403,  1.1176],\n",
       "         [ 0.0200,  1.0400],\n",
       "         [-0.0299,  1.1218],\n",
       "         [-0.0577,  1.2764],\n",
       "         [ 0.0190,  1.2113],\n",
       "         [ 0.1154,  0.9319],\n",
       "         [ 0.0072,  0.4569],\n",
       "         [-0.0299,  1.0852],\n",
       "         [ 0.0454,  0.8803],\n",
       "         [ 0.0585,  1.2743],\n",
       "         [-0.0000,  0.3000],\n",
       "         [-0.0017,  0.4418],\n",
       "         [ 0.2173,  0.7351]],\n",
       "\n",
       "        [[-0.0000,  0.6152],\n",
       "         [-0.0000,  0.6100],\n",
       "         [ 0.0000,  0.5901],\n",
       "         [ 0.0000,  0.5324],\n",
       "         [ 0.0000,  0.1140],\n",
       "         [-0.0000,  0.5501],\n",
       "         [ 0.0000,  0.5204],\n",
       "         [-0.0000,  0.5622],\n",
       "         [ 0.0000,  0.6478],\n",
       "         [ 0.0000,  0.5903],\n",
       "         [-0.0000,  0.4245],\n",
       "         [ 0.0000,  0.4163],\n",
       "         [ 0.0000,  0.5415],\n",
       "         [-0.0000,  0.4627],\n",
       "         [ 0.0000,  0.6207],\n",
       "         [ 0.0000,  0.0000],\n",
       "         [-0.0000,  0.2309],\n",
       "         [ 0.0000,  0.3940]],\n",
       "\n",
       "        [[ 0.3974,  3.5686],\n",
       "         [-0.7270,  3.5775],\n",
       "         [-0.2493,  3.5847],\n",
       "         [ 0.2271,  3.1526],\n",
       "         [-0.1017,  1.0104],\n",
       "         [ 0.2734,  3.4856],\n",
       "         [ 0.0838,  3.2192],\n",
       "         [-0.2173,  3.3339],\n",
       "         [-0.4202,  3.7906],\n",
       "         [-0.0075,  3.7619],\n",
       "         [ 0.6735,  2.7804],\n",
       "         [-0.2145,  1.5530],\n",
       "         [-0.0388,  3.4022],\n",
       "         [ 0.1997,  2.3924],\n",
       "         [ 0.2766,  4.0081],\n",
       "         [ 0.4440,  1.0580],\n",
       "         [ 0.3439,  0.9538],\n",
       "         [ 0.6833,  1.9068]]])"
      ]
     },
     "execution_count": 55,
     "metadata": {},
     "output_type": "execute_result"
    }
   ],
   "source": [
    "train_coord"
   ]
  },
  {
   "cell_type": "code",
   "execution_count": null,
   "metadata": {},
   "outputs": [],
   "source": []
  }
 ],
 "metadata": {
  "kernelspec": {
   "display_name": "Python 3",
   "language": "python",
   "name": "python3"
  },
  "language_info": {
   "codemirror_mode": {
    "name": "ipython",
    "version": 3
   },
   "file_extension": ".py",
   "mimetype": "text/x-python",
   "name": "python",
   "nbconvert_exporter": "python",
   "pygments_lexer": "ipython3",
   "version": "3.6.4"
  }
 },
 "nbformat": 4,
 "nbformat_minor": 2
}
