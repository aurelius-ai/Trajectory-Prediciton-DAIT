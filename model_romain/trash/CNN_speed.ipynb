{
 "cells": [
  {
   "cell_type": "code",
   "execution_count": 40,
   "metadata": {},
   "outputs": [
    {
     "data": {
      "text/plain": [
       "<torch._C.Generator at 0x10f145790>"
      ]
     },
     "execution_count": 40,
     "metadata": {},
     "output_type": "execute_result"
    }
   ],
   "source": [
    "import torch\n",
    "from torch import nn\n",
    "from torch.autograd import Variable\n",
    "import torchvision.datasets as dsets\n",
    "import torchvision.transforms as transforms\n",
    "import matplotlib.pyplot as plt\n",
    "from CNN2D_velocities import *\n",
    "import pandas as pd\n",
    "import numpy as np\n",
    "import torch.utils.data as utils\n",
    "import time\n",
    "import os\n",
    "import pickle\n",
    "\n",
    "import pdb\n",
    "\n",
    "# For the notebook\n",
    "%matplotlib inline\n",
    "%reload_ext autoreload\n",
    "%autoreload 2\n",
    "\n",
    "torch.manual_seed(1)"
   ]
  },
  {
   "cell_type": "markdown",
   "metadata": {},
   "source": [
    "## TRAIN SET"
   ]
  },
  {
   "cell_type": "code",
   "execution_count": 41,
   "metadata": {
    "scrolled": false
   },
   "outputs": [
    {
     "data": {
      "text/plain": [
       "(torch.Size([5157, 1, 10, 162]), torch.Size([5157, 1, 11, 2]))"
      ]
     },
     "execution_count": 41,
     "metadata": {},
     "output_type": "execute_result"
    }
   ],
   "source": [
    "gt_train_coord = pickle.load( open( \"./import_dataset_2/train/gt_train_coord.pkl\", \"rb\" ) )\n",
    "gt_train  = pickle.load( open( \"./import_dataset_2/train/gt_train.pkl\", \"rb\" ) )\n",
    "in_train_coord  = pickle.load( open( \"./import_dataset_2/train/in_train_coord.pkl\", \"rb\" ) )\n",
    "inputs_train = pickle.load( open( \"./import_dataset_2/train/inputs_train.pkl\", \"rb\" ) )\n",
    "\n",
    "inputs_train = inputs_train[:,:,2:]\n",
    "gt_train = gt_train[:,:,2:]\n",
    "\n",
    "\n",
    "inputs_train = torch.from_numpy(inputs_train).float()\n",
    "gt_train = torch.from_numpy(gt_train).float()\n",
    "\n",
    "gt_train = gt_train.unsqueeze(1) # add 1 dimension to the training set\n",
    "inputs_train = inputs_train.unsqueeze(1) # add 1 dimension to the training set\n",
    "\n",
    "inputs_train.shape,gt_train.shape"
   ]
  },
  {
   "cell_type": "markdown",
   "metadata": {},
   "source": [
    "## VALIDATION SET"
   ]
  },
  {
   "cell_type": "code",
   "execution_count": 42,
   "metadata": {},
   "outputs": [
    {
     "name": "stdout",
     "output_type": "stream",
     "text": [
      "torch.Size([1719, 1, 10, 162])\n"
     ]
    },
    {
     "data": {
      "text/plain": [
       "((11, 1719, 2),\n",
       " torch.Size([1719, 1, 11, 2]),\n",
       " (10, 1719, 2),\n",
       " torch.Size([1719, 1, 10, 162]))"
      ]
     },
     "execution_count": 42,
     "metadata": {},
     "output_type": "execute_result"
    }
   ],
   "source": [
    "gt_validation_coord = pickle.load( open( \"./import_dataset_2/validation/gt_validation_coord.pkl\", \"rb\" ) )\n",
    "gt_validation = pickle.load( open( \"./import_dataset_2/validation/gt_validation.pkl\", \"rb\" ) )\n",
    "in_validation_coord = pickle.load( open( \"./import_dataset_2/validation/in_validation_coord.pkl\", \"rb\" ) )\n",
    "inputs_validation = pickle.load( open( \"./import_dataset_2/validation/inputs_validation.pkl\", \"rb\" ) )\n",
    "\n",
    "inputs_validation = inputs_validation[:,:,2:]\n",
    "gt_validation = gt_validation[:,:,2:]\n",
    "\n",
    "inputs_validation = torch.from_numpy(inputs_validation).float()\n",
    "gt_validation = torch.from_numpy(gt_validation).float()\n",
    "\n",
    "gt_validation = gt_validation.unsqueeze(1) # add 1 dimension to the training set\n",
    "inputs_validation = inputs_validation.unsqueeze(1) # add 1 dimension to the training set\n",
    "print (inputs_validation.shape)\n",
    "\n",
    "gt_validation_coord.shape,gt_validation.shape,in_validation_coord.shape,inputs_validation.shape"
   ]
  },
  {
   "cell_type": "markdown",
   "metadata": {},
   "source": [
    "## TEST SET"
   ]
  },
  {
   "cell_type": "code",
   "execution_count": 43,
   "metadata": {},
   "outputs": [
    {
     "name": "stdout",
     "output_type": "stream",
     "text": [
      "torch.Size([10, 1, 460, 164])\n"
     ]
    }
   ],
   "source": [
    "gt_test_coord_1 = pickle.load( open( \"./import_dataset_2/test/gt_test_coord_1.pkl\", \"rb\" ) )\n",
    "gt_test_1 = pickle.load( open( \"./import_dataset_2/test/gt_test_1.pkl\", \"rb\" ) )\n",
    "in_test_coord_1 = pickle.load( open( \"./import_dataset_2/test/in_test_coord_1.pkl\", \"rb\" ) )\n",
    "inputs_test_1 = pickle.load( open( \"./import_dataset_2/test/inputs_test_1.pkl\", \"rb\" ) )\n",
    "\n",
    "gt_test_coord_2 = pickle.load( open( \"./import_dataset_2/test/gt_test_coord_2.pkl\", \"rb\" ) )\n",
    "gt_test_2 = pickle.load( open( \"./import_dataset_2/test/gt_test_2.pkl\", \"rb\" ) )\n",
    "in_test_coord_2 = pickle.load( open( \"./import_dataset_2/test/in_test_coord_2.pkl\", \"rb\" ) )\n",
    "inputs_test_2 = pickle.load( open( \"./import_dataset_2/test/inputs_test_2.pkl\", \"rb\" ) )\n",
    "\n",
    "gt_test_coord_3 = pickle.load( open( \"./import_dataset_2/test/gt_test_coord_3.pkl\", \"rb\" ) )\n",
    "gt_test_3 = pickle.load( open( \"./import_dataset_2/test/gt_test_3.pkl\", \"rb\" ) )\n",
    "in_test_coord_3 = pickle.load( open( \"./import_dataset_2/test/in_test_coord_3.pkl\", \"rb\" ) )\n",
    "inputs_test_3 = pickle.load( open( \"./import_dataset_2/test/inputs_test_3.pkl\", \"rb\" ) )\n",
    "\n",
    "inputs_test_1 = torch.from_numpy(inputs_test_1).float()\n",
    "gt_test_1 = torch.from_numpy(gt_test_1).float()\n",
    "inputs_test_1 = inputs_test_1.unsqueeze(1) \n",
    "\n",
    "inputs_test_2 = torch.from_numpy(inputs_test_2).float()\n",
    "gt_test_2 = torch.from_numpy(gt_test_2).float()\n",
    "inputs_test_2 = inputs_test_2.unsqueeze(1)\n",
    "\n",
    "inputs_test_3 = torch.from_numpy(inputs_test_3).float()\n",
    "gt_test_3 = torch.from_numpy(gt_test_3).float()\n",
    "inputs_test_3 = inputs_test_3.unsqueeze(1)\n",
    "print (inputs_test_3.shape)"
   ]
  },
  {
   "cell_type": "markdown",
   "metadata": {},
   "source": [
    "### Model"
   ]
  },
  {
   "cell_type": "code",
   "execution_count": 44,
   "metadata": {
    "collapsed": true
   },
   "outputs": [],
   "source": [
    "net = CNN2D_velocities()\n",
    "criterion = torch.nn.MSELoss()\n",
    "optimizer = torch.optim.Adam(net.parameters(), lr=0.0001, weight_decay=1e-4)\n",
    "\n",
    "traindataset = utils.TensorDataset(inputs_train, gt_train[:,:,1:,:])\n",
    "trainloader = utils.DataLoader(traindataset, batch_size=16, shuffle=True)\n",
    "\n",
    "valdataset = utils.TensorDataset(inputs_validation, gt_validation[:,:,1:,:])\n",
    "valloader = utils.DataLoader(valdataset, batch_size=16, shuffle=True)"
   ]
  },
  {
   "cell_type": "code",
   "execution_count": 45,
   "metadata": {
    "scrolled": true
   },
   "outputs": [
    {
     "name": "stdout",
     "output_type": "stream",
     "text": [
      "Epoch: 1/50.. Validation Loss: 0.1421.. Training Loss: 0.1706.. 0.0069 s/batch \n",
      "Epoch: 2/50.. Validation Loss: 0.1326.. Training Loss: 0.1306.. 0.0059 s/batch \n",
      "Epoch: 3/50.. Validation Loss: 0.1280.. Training Loss: 0.1210.. 0.0056 s/batch \n",
      "Epoch: 4/50.. Validation Loss: 0.1241.. Training Loss: 0.1150.. 0.0059 s/batch \n",
      "Epoch: 5/50.. Validation Loss: 0.1198.. Training Loss: 0.1094.. 0.0057 s/batch \n",
      "Epoch: 6/50.. Validation Loss: 0.1187.. Training Loss: 0.1046.. 0.0059 s/batch \n",
      "Epoch: 7/50.. Validation Loss: 0.1127.. Training Loss: 0.1002.. 0.0060 s/batch \n",
      "Epoch: 8/50.. Validation Loss: 0.1115.. Training Loss: 0.0964.. 0.0055 s/batch \n",
      "Epoch: 9/50.. Validation Loss: 0.1083.. Training Loss: 0.0927.. 0.0055 s/batch \n",
      "Epoch: 10/50.. Validation Loss: 0.1087.. Training Loss: 0.0895.. 0.0057 s/batch \n",
      "Epoch: 11/50.. Validation Loss: 0.1036.. Training Loss: 0.0869.. 0.0056 s/batch \n",
      "Epoch: 12/50.. Validation Loss: 0.1021.. Training Loss: 0.0833.. 0.0054 s/batch \n",
      "Epoch: 13/50.. Validation Loss: 0.1022.. Training Loss: 0.0813.. 0.0058 s/batch \n",
      "Epoch: 14/50.. Validation Loss: 0.1011.. Training Loss: 0.0792.. 0.0058 s/batch \n",
      "Epoch: 15/50.. Validation Loss: 0.1032.. Training Loss: 0.0771.. 0.0059 s/batch \n",
      "Epoch: 16/50.. Validation Loss: 0.0982.. Training Loss: 0.0759.. 0.0056 s/batch \n",
      "Epoch: 17/50.. Validation Loss: 0.0961.. Training Loss: 0.0739.. 0.0056 s/batch \n",
      "Epoch: 18/50.. Validation Loss: 0.0963.. Training Loss: 0.0727.. 0.0058 s/batch \n",
      "Epoch: 19/50.. Validation Loss: 0.0953.. Training Loss: 0.0710.. 0.0052 s/batch \n",
      "Epoch: 20/50.. Validation Loss: 0.0974.. Training Loss: 0.0695.. 0.0050 s/batch \n",
      "Epoch: 21/50.. Validation Loss: 0.0945.. Training Loss: 0.0689.. 0.0051 s/batch \n",
      "Epoch: 22/50.. Validation Loss: 0.0956.. Training Loss: 0.0676.. 0.0051 s/batch \n",
      "Epoch: 23/50.. Validation Loss: 0.0921.. Training Loss: 0.0667.. 0.0056 s/batch \n",
      "Epoch: 24/50.. Validation Loss: 0.0929.. Training Loss: 0.0662.. 0.0053 s/batch \n",
      "Epoch: 25/50.. Validation Loss: 0.0923.. Training Loss: 0.0648.. 0.0051 s/batch \n",
      "Epoch: 26/50.. Validation Loss: 0.0925.. Training Loss: 0.0649.. 0.0055 s/batch \n",
      "Epoch: 27/50.. Validation Loss: 0.0952.. Training Loss: 0.0642.. 0.0054 s/batch \n",
      "Epoch: 28/50.. Validation Loss: 0.0937.. Training Loss: 0.0629.. 0.0055 s/batch \n",
      "Epoch: 29/50.. Validation Loss: 0.0935.. Training Loss: 0.0618.. 0.0059 s/batch \n",
      "Epoch: 30/50.. Validation Loss: 0.0910.. Training Loss: 0.0611.. 0.0061 s/batch \n",
      "Epoch: 31/50.. Validation Loss: 0.0941.. Training Loss: 0.0607.. 0.0062 s/batch \n",
      "Epoch: 32/50.. Validation Loss: 0.0920.. Training Loss: 0.0600.. 0.0056 s/batch \n",
      "Epoch: 33/50.. Validation Loss: 0.0924.. Training Loss: 0.0594.. 0.0057 s/batch \n",
      "Epoch: 34/50.. Validation Loss: 0.0909.. Training Loss: 0.0583.. 0.0058 s/batch \n",
      "Epoch: 35/50.. Validation Loss: 0.0899.. Training Loss: 0.0584.. 0.0049 s/batch \n",
      "Epoch: 36/50.. Validation Loss: 0.0898.. Training Loss: 0.0569.. 0.0050 s/batch \n",
      "Epoch: 37/50.. Validation Loss: 0.0890.. Training Loss: 0.0565.. 0.0051 s/batch \n",
      "Epoch: 38/50.. Validation Loss: 0.0929.. Training Loss: 0.0563.. 0.0051 s/batch \n",
      "Epoch: 39/50.. Validation Loss: 0.0894.. Training Loss: 0.0562.. 0.0059 s/batch \n",
      "Epoch: 40/50.. Validation Loss: 0.0894.. Training Loss: 0.0559.. 0.0057 s/batch \n",
      "Epoch: 41/50.. Validation Loss: 0.0903.. Training Loss: 0.0556.. 0.0055 s/batch \n",
      "Epoch: 42/50.. Validation Loss: 0.0887.. Training Loss: 0.0548.. 0.0052 s/batch \n",
      "Epoch: 43/50.. Validation Loss: 0.0887.. Training Loss: 0.0541.. 0.0053 s/batch \n",
      "Epoch: 44/50.. Validation Loss: 0.0896.. Training Loss: 0.0533.. 0.0052 s/batch \n",
      "Epoch: 45/50.. Validation Loss: 0.0881.. Training Loss: 0.0527.. 0.0051 s/batch \n",
      "Epoch: 46/50.. Validation Loss: 0.0879.. Training Loss: 0.0522.. 0.0052 s/batch \n",
      "Epoch: 47/50.. Validation Loss: 0.0907.. Training Loss: 0.0520.. 0.0060 s/batch \n",
      "Epoch: 48/50.. Validation Loss: 0.0888.. Training Loss: 0.0522.. 0.0064 s/batch \n",
      "Epoch: 49/50.. Validation Loss: 0.0876.. Training Loss: 0.0516.. 0.0060 s/batch \n",
      "Epoch: 50/50.. Validation Loss: 0.0916.. Training Loss: 0.0512.. 0.0058 s/batch \n"
     ]
    }
   ],
   "source": [
    "epochs = 50\n",
    "steps = 0\n",
    "running_loss = 0\n",
    "print_every = 323\n",
    "loss_train = []\n",
    "loss_val = []\n",
    "\n",
    "for e in range(epochs):\n",
    "    start = time.time()\n",
    "    steps_bis = 0\n",
    "    total_train_loss=0\n",
    "    for train_coord, ground_tru in iter(trainloader):\n",
    "        \n",
    "        steps += 1\n",
    "        steps_bis += 1\n",
    "        \n",
    "        input_train = Variable(train_coord)\n",
    "        in_train = input_train.squeeze(1)\n",
    "        target = Variable(ground_tru)\n",
    "        targets = target.squeeze(1)\n",
    "        optimizer.zero_grad()\n",
    "        out = net.forward(input_train)\n",
    "        out = out.reshape(out.shape[0],10,2)\n",
    "        loss1 = (criterion(out[:,:,0:2], targets[:,:,0:2]))\n",
    "        \n",
    "        loss1.backward(retain_graph=True)\n",
    "        optimizer.step()\n",
    "        \n",
    "        running_loss += (loss1).item()\n",
    "        total_train_loss += (loss1).item()\n",
    "        \n",
    "        if steps % print_every == 0:\n",
    "            stop = time.time()\n",
    "            val_loss=0\n",
    "            \n",
    "            for ii, (images, labels) in enumerate(valloader):\n",
    "                \n",
    "                inp = Variable(images)\n",
    "                input_val = inp.squeeze(1)\n",
    "                lab = Variable(labels)\n",
    "                valgt = lab.squeeze(1)\n",
    "                predicted = net.predict(inp)\n",
    "                predicted = predicted.reshape(predicted.shape[0],10,2)\n",
    "                val_loss+= (criterion(predicted[:,:,0:2],valgt[:,:,0:2]).item())\n",
    "                \n",
    "            print(\"Epoch: {}/{}..\".format(e+1, epochs),\n",
    "                  \"Validation Loss: {:.4f}..\".format(val_loss/ii),\n",
    "                  \"Training Loss: {:.4f}..\".format(running_loss/print_every),\n",
    "                  \"{:.4f} s/batch \".format((stop - start)/print_every),\n",
    "                 )\n",
    "            loss_val.append(val_loss/ii)\n",
    "            running_loss = 0\n",
    "            start = time.time()\n",
    "    loss_train.append(total_train_loss/steps_bis)"
   ]
  },
  {
   "cell_type": "code",
   "execution_count": null,
   "metadata": {
    "collapsed": true
   },
   "outputs": [],
   "source": []
  }
 ],
 "metadata": {
  "kernelspec": {
   "display_name": "Python 3",
   "language": "python",
   "name": "python3"
  },
  "language_info": {
   "codemirror_mode": {
    "name": "ipython",
    "version": 3
   },
   "file_extension": ".py",
   "mimetype": "text/x-python",
   "name": "python",
   "nbconvert_exporter": "python",
   "pygments_lexer": "ipython3",
   "version": "3.6.3"
  }
 },
 "nbformat": 4,
 "nbformat_minor": 2
}
