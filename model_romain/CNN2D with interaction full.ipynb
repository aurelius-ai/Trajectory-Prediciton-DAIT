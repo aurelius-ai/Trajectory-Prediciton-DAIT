{
 "cells": [
  {
   "cell_type": "code",
   "execution_count": 1,
   "metadata": {},
   "outputs": [
    {
     "ename": "ModuleNotFoundError",
     "evalue": "No module named 'CNN2D'",
     "output_type": "error",
     "traceback": [
      "\u001b[0;31m---------------------------------------------------------------------------\u001b[0m",
      "\u001b[0;31mModuleNotFoundError\u001b[0m                       Traceback (most recent call last)",
      "\u001b[0;32m<ipython-input-1-5d9118bb2c8a>\u001b[0m in \u001b[0;36m<module>\u001b[0;34m()\u001b[0m\n\u001b[1;32m      5\u001b[0m \u001b[0;32mimport\u001b[0m \u001b[0mtorchvision\u001b[0m\u001b[0;34m.\u001b[0m\u001b[0mtransforms\u001b[0m \u001b[0;32mas\u001b[0m \u001b[0mtransforms\u001b[0m\u001b[0;34m\u001b[0m\u001b[0m\n\u001b[1;32m      6\u001b[0m \u001b[0;32mimport\u001b[0m \u001b[0mmatplotlib\u001b[0m\u001b[0;34m.\u001b[0m\u001b[0mpyplot\u001b[0m \u001b[0;32mas\u001b[0m \u001b[0mplt\u001b[0m\u001b[0;34m\u001b[0m\u001b[0m\n\u001b[0;32m----> 7\u001b[0;31m \u001b[0;32mfrom\u001b[0m \u001b[0mCNN2D\u001b[0m \u001b[0;32mimport\u001b[0m \u001b[0;34m*\u001b[0m\u001b[0;34m\u001b[0m\u001b[0m\n\u001b[0m\u001b[1;32m      8\u001b[0m \u001b[0;32mimport\u001b[0m \u001b[0mpandas\u001b[0m \u001b[0;32mas\u001b[0m \u001b[0mpd\u001b[0m\u001b[0;34m\u001b[0m\u001b[0m\n\u001b[1;32m      9\u001b[0m \u001b[0;32mimport\u001b[0m \u001b[0mnumpy\u001b[0m \u001b[0;32mas\u001b[0m \u001b[0mnp\u001b[0m\u001b[0;34m\u001b[0m\u001b[0m\n",
      "\u001b[0;31mModuleNotFoundError\u001b[0m: No module named 'CNN2D'"
     ]
    }
   ],
   "source": [
    "import torch\n",
    "from torch import nn\n",
    "from torch.autograd import Variable\n",
    "import torchvision.datasets as dsets\n",
    "import torchvision.transforms as transforms\n",
    "import matplotlib.pyplot as plt\n",
    "from CNN2D import *\n",
    "import pandas as pd\n",
    "import numpy as np\n",
    "import torch.utils.data as utils\n",
    "import time\n",
    "import os\n",
    "import pickle\n",
    "\n",
    "import pdb\n",
    "\n",
    "# For the notebook\n",
    "%matplotlib inline\n",
    "%reload_ext autoreload\n",
    "%autoreload 2\n",
    "\n",
    "torch.manual_seed(1)"
   ]
  },
  {
   "cell_type": "markdown",
   "metadata": {},
   "source": [
    "## TRAIN SET"
   ]
  },
  {
   "cell_type": "code",
   "execution_count": 2,
   "metadata": {
    "scrolled": false
   },
   "outputs": [
    {
     "ename": "NameError",
     "evalue": "name 'pickle' is not defined",
     "output_type": "error",
     "traceback": [
      "\u001b[0;31m---------------------------------------------------------------------------\u001b[0m",
      "\u001b[0;31mNameError\u001b[0m                                 Traceback (most recent call last)",
      "\u001b[0;32m<ipython-input-2-bcdd1fe9e156>\u001b[0m in \u001b[0;36m<module>\u001b[0;34m()\u001b[0m\n\u001b[0;32m----> 1\u001b[0;31m \u001b[0mgt_train_coord\u001b[0m \u001b[0;34m=\u001b[0m \u001b[0mpickle\u001b[0m\u001b[0;34m.\u001b[0m\u001b[0mload\u001b[0m\u001b[0;34m(\u001b[0m \u001b[0mopen\u001b[0m\u001b[0;34m(\u001b[0m \u001b[0;34m\"./import_dataset_2/train/gt_train_coord.pkl\"\u001b[0m\u001b[0;34m,\u001b[0m \u001b[0;34m\"rb\"\u001b[0m \u001b[0;34m)\u001b[0m \u001b[0;34m)\u001b[0m\u001b[0;34m\u001b[0m\u001b[0m\n\u001b[0m\u001b[1;32m      2\u001b[0m \u001b[0mgt_train\u001b[0m  \u001b[0;34m=\u001b[0m \u001b[0mpickle\u001b[0m\u001b[0;34m.\u001b[0m\u001b[0mload\u001b[0m\u001b[0;34m(\u001b[0m \u001b[0mopen\u001b[0m\u001b[0;34m(\u001b[0m \u001b[0;34m\"./import_dataset_2/train/gt_train.pkl\"\u001b[0m\u001b[0;34m,\u001b[0m \u001b[0;34m\"rb\"\u001b[0m \u001b[0;34m)\u001b[0m \u001b[0;34m)\u001b[0m\u001b[0;34m\u001b[0m\u001b[0m\n\u001b[1;32m      3\u001b[0m \u001b[0min_train_coord\u001b[0m  \u001b[0;34m=\u001b[0m \u001b[0mpickle\u001b[0m\u001b[0;34m.\u001b[0m\u001b[0mload\u001b[0m\u001b[0;34m(\u001b[0m \u001b[0mopen\u001b[0m\u001b[0;34m(\u001b[0m \u001b[0;34m\"./import_dataset_2/train/in_train_coord.pkl\"\u001b[0m\u001b[0;34m,\u001b[0m \u001b[0;34m\"rb\"\u001b[0m \u001b[0;34m)\u001b[0m \u001b[0;34m)\u001b[0m\u001b[0;34m\u001b[0m\u001b[0m\n\u001b[1;32m      4\u001b[0m \u001b[0minputs_train\u001b[0m \u001b[0;34m=\u001b[0m \u001b[0mpickle\u001b[0m\u001b[0;34m.\u001b[0m\u001b[0mload\u001b[0m\u001b[0;34m(\u001b[0m \u001b[0mopen\u001b[0m\u001b[0;34m(\u001b[0m \u001b[0;34m\"./import_dataset_2/train/inputs_train.pkl\"\u001b[0m\u001b[0;34m,\u001b[0m \u001b[0;34m\"rb\"\u001b[0m \u001b[0;34m)\u001b[0m \u001b[0;34m)\u001b[0m\u001b[0;34m\u001b[0m\u001b[0m\n\u001b[1;32m      5\u001b[0m \u001b[0;34m\u001b[0m\u001b[0m\n",
      "\u001b[0;31mNameError\u001b[0m: name 'pickle' is not defined"
     ]
    }
   ],
   "source": [
    "gt_train_coord = pickle.load( open( \"./import_dataset_2/train/gt_train_coord.pkl\", \"rb\" ) )\n",
    "gt_train  = pickle.load( open( \"./import_dataset_2/train/gt_train.pkl\", \"rb\" ) )\n",
    "in_train_coord  = pickle.load( open( \"./import_dataset_2/train/in_train_coord.pkl\", \"rb\" ) )\n",
    "inputs_train = pickle.load( open( \"./import_dataset_2/train/inputs_train.pkl\", \"rb\" ) )\n",
    "\n",
    "inputs_train = torch.from_numpy(inputs_train).float()\n",
    "gt_train = torch.from_numpy(gt_train).float()\n",
    "\n",
    "gt_train = gt_train.unsqueeze(1) # add 1 dimension to the training set\n",
    "inputs_train = inputs_train.unsqueeze(1) # add 1 dimension to the training set\n",
    "\n",
    "inputs_train.shape,gt_train.shape"
   ]
  },
  {
   "cell_type": "markdown",
   "metadata": {},
   "source": [
    "## VALIDATION SET"
   ]
  },
  {
   "cell_type": "code",
   "execution_count": 3,
   "metadata": {},
   "outputs": [
    {
     "ename": "NameError",
     "evalue": "name 'pickle' is not defined",
     "output_type": "error",
     "traceback": [
      "\u001b[0;31m---------------------------------------------------------------------------\u001b[0m",
      "\u001b[0;31mNameError\u001b[0m                                 Traceback (most recent call last)",
      "\u001b[0;32m<ipython-input-3-1dea554fe026>\u001b[0m in \u001b[0;36m<module>\u001b[0;34m()\u001b[0m\n\u001b[0;32m----> 1\u001b[0;31m \u001b[0mgt_validation_coord\u001b[0m \u001b[0;34m=\u001b[0m \u001b[0mpickle\u001b[0m\u001b[0;34m.\u001b[0m\u001b[0mload\u001b[0m\u001b[0;34m(\u001b[0m \u001b[0mopen\u001b[0m\u001b[0;34m(\u001b[0m \u001b[0;34m\"./import_dataset_2/validation/gt_validation_coord.pkl\"\u001b[0m\u001b[0;34m,\u001b[0m \u001b[0;34m\"rb\"\u001b[0m \u001b[0;34m)\u001b[0m \u001b[0;34m)\u001b[0m\u001b[0;34m\u001b[0m\u001b[0m\n\u001b[0m\u001b[1;32m      2\u001b[0m \u001b[0mgt_validation\u001b[0m \u001b[0;34m=\u001b[0m \u001b[0mpickle\u001b[0m\u001b[0;34m.\u001b[0m\u001b[0mload\u001b[0m\u001b[0;34m(\u001b[0m \u001b[0mopen\u001b[0m\u001b[0;34m(\u001b[0m \u001b[0;34m\"./import_dataset_2/validation/gt_validation.pkl\"\u001b[0m\u001b[0;34m,\u001b[0m \u001b[0;34m\"rb\"\u001b[0m \u001b[0;34m)\u001b[0m \u001b[0;34m)\u001b[0m\u001b[0;34m\u001b[0m\u001b[0m\n\u001b[1;32m      3\u001b[0m \u001b[0min_validation_coord\u001b[0m \u001b[0;34m=\u001b[0m \u001b[0mpickle\u001b[0m\u001b[0;34m.\u001b[0m\u001b[0mload\u001b[0m\u001b[0;34m(\u001b[0m \u001b[0mopen\u001b[0m\u001b[0;34m(\u001b[0m \u001b[0;34m\"./import_dataset_2/validation/in_validation_coord.pkl\"\u001b[0m\u001b[0;34m,\u001b[0m \u001b[0;34m\"rb\"\u001b[0m \u001b[0;34m)\u001b[0m \u001b[0;34m)\u001b[0m\u001b[0;34m\u001b[0m\u001b[0m\n\u001b[1;32m      4\u001b[0m \u001b[0minputs_validation\u001b[0m \u001b[0;34m=\u001b[0m \u001b[0mpickle\u001b[0m\u001b[0;34m.\u001b[0m\u001b[0mload\u001b[0m\u001b[0;34m(\u001b[0m \u001b[0mopen\u001b[0m\u001b[0;34m(\u001b[0m \u001b[0;34m\"./import_dataset_2/validation/inputs_validation.pkl\"\u001b[0m\u001b[0;34m,\u001b[0m \u001b[0;34m\"rb\"\u001b[0m \u001b[0;34m)\u001b[0m \u001b[0;34m)\u001b[0m\u001b[0;34m\u001b[0m\u001b[0m\n\u001b[1;32m      5\u001b[0m \u001b[0;34m\u001b[0m\u001b[0m\n",
      "\u001b[0;31mNameError\u001b[0m: name 'pickle' is not defined"
     ]
    }
   ],
   "source": [
    "gt_validation_coord = pickle.load( open( \"./import_dataset_2/validation/gt_validation_coord.pkl\", \"rb\" ) )\n",
    "gt_validation = pickle.load( open( \"./import_dataset_2/validation/gt_validation.pkl\", \"rb\" ) )\n",
    "in_validation_coord = pickle.load( open( \"./import_dataset_2/validation/in_validation_coord.pkl\", \"rb\" ) )\n",
    "inputs_validation = pickle.load( open( \"./import_dataset_2/validation/inputs_validation.pkl\", \"rb\" ) )\n",
    "\n",
    "inputs_validation = torch.from_numpy(inputs_validation).float()\n",
    "gt_validation = torch.from_numpy(gt_validation).float()\n",
    "\n",
    "gt_validation = gt_validation.unsqueeze(1) # add 1 dimension to the training set\n",
    "inputs_validation = inputs_validation.unsqueeze(1) # add 1 dimension to the training set\n",
    "print (inputs_validation.shape)\n",
    "\n",
    "gt_validation_coord.shape,gt_validation.shape,in_validation_coord.shape,inputs_validation.shape"
   ]
  },
  {
   "cell_type": "markdown",
   "metadata": {},
   "source": [
    "## TEST SET"
   ]
  },
  {
   "cell_type": "code",
   "execution_count": 4,
   "metadata": {},
   "outputs": [
    {
     "name": "stdout",
     "output_type": "stream",
     "text": [
      "torch.Size([10, 1, 460, 164])\n"
     ]
    }
   ],
   "source": [
    "gt_test_coord_1 = pickle.load( open( \"./import_dataset_2/test/gt_test_coord_1.pkl\", \"rb\" ) )\n",
    "gt_test_1 = pickle.load( open( \"./import_dataset_2/test/gt_test_1.pkl\", \"rb\" ) )\n",
    "in_test_coord_1 = pickle.load( open( \"./import_dataset_2/test/in_test_coord_1.pkl\", \"rb\" ) )\n",
    "inputs_test_1 = pickle.load( open( \"./import_dataset_2/test/inputs_test_1.pkl\", \"rb\" ) )\n",
    "\n",
    "gt_test_coord_2 = pickle.load( open( \"./import_dataset_2/test/gt_test_coord_2.pkl\", \"rb\" ) )\n",
    "gt_test_2 = pickle.load( open( \"./import_dataset_2/test/gt_test_2.pkl\", \"rb\" ) )\n",
    "in_test_coord_2 = pickle.load( open( \"./import_dataset_2/test/in_test_coord_2.pkl\", \"rb\" ) )\n",
    "inputs_test_2 = pickle.load( open( \"./import_dataset_2/test/inputs_test_2.pkl\", \"rb\" ) )\n",
    "\n",
    "gt_test_coord_3 = pickle.load( open( \"./import_dataset_2/test/gt_test_coord_3.pkl\", \"rb\" ) )\n",
    "gt_test_3 = pickle.load( open( \"./import_dataset_2/test/gt_test_3.pkl\", \"rb\" ) )\n",
    "in_test_coord_3 = pickle.load( open( \"./import_dataset_2/test/in_test_coord_3.pkl\", \"rb\" ) )\n",
    "inputs_test_3 = pickle.load( open( \"./import_dataset_2/test/inputs_test_3.pkl\", \"rb\" ) )\n",
    "\n",
    "inputs_test_1 = torch.from_numpy(inputs_test_1).float()\n",
    "gt_test_1 = torch.from_numpy(gt_test_1).float()\n",
    "inputs_test_1 = inputs_test_1.unsqueeze(1) \n",
    "\n",
    "inputs_test_2 = torch.from_numpy(inputs_test_2).float()\n",
    "gt_test_2 = torch.from_numpy(gt_test_2).float()\n",
    "inputs_test_2 = inputs_test_2.unsqueeze(1)\n",
    "\n",
    "inputs_test_3 = torch.from_numpy(inputs_test_3).float()\n",
    "gt_test_3 = torch.from_numpy(gt_test_3).float()\n",
    "inputs_test_3 = inputs_test_3.unsqueeze(1)\n",
    "print (inputs_test_3.shape)"
   ]
  },
  {
   "cell_type": "markdown",
   "metadata": {},
   "source": [
    "### Model"
   ]
  },
  {
   "cell_type": "code",
   "execution_count": 5,
   "metadata": {
    "collapsed": true
   },
   "outputs": [],
   "source": [
    "net = CNN2D()\n",
    "criterion = torch.nn.MSELoss()\n",
    "optimizer = torch.optim.Adam(net.parameters(), lr=0.0001, weight_decay=1e-4)\n",
    "\n",
    "traindataset = utils.TensorDataset(inputs_train, gt_train[:,:,1:,:])\n",
    "trainloader = utils.DataLoader(traindataset, batch_size=16, shuffle=True)\n",
    "\n",
    "valdataset = utils.TensorDataset(inputs_validation, gt_validation[:,:,1:,:])\n",
    "valloader = utils.DataLoader(valdataset, batch_size=16, shuffle=True)"
   ]
  },
  {
   "cell_type": "code",
   "execution_count": 6,
   "metadata": {
    "scrolled": true
   },
   "outputs": [
    {
     "name": "stdout",
     "output_type": "stream",
     "text": [
      "Epoch: 1/50.. Validation Loss: 5.4016.. Training Loss: 9.8787.. 0.0133 s/batch \n",
      "Epoch: 2/50.. Validation Loss: 4.0012.. Training Loss: 4.5562.. 0.0127 s/batch \n",
      "Epoch: 3/50.. Validation Loss: 3.2259.. Training Loss: 3.5469.. 0.0132 s/batch \n",
      "Epoch: 4/50.. Validation Loss: 2.6600.. Training Loss: 2.8733.. 0.0121 s/batch \n",
      "Epoch: 5/50.. Validation Loss: 2.3207.. Training Loss: 2.4181.. 0.0118 s/batch \n",
      "Epoch: 6/50.. Validation Loss: 2.0507.. Training Loss: 2.0674.. 0.0122 s/batch \n",
      "Epoch: 7/50.. Validation Loss: 1.8434.. Training Loss: 1.8329.. 0.0124 s/batch \n",
      "Epoch: 8/50.. Validation Loss: 1.6846.. Training Loss: 1.6129.. 0.0118 s/batch \n",
      "Epoch: 9/50.. Validation Loss: 1.6496.. Training Loss: 1.5113.. 0.0118 s/batch \n",
      "Epoch: 10/50.. Validation Loss: 1.4773.. Training Loss: 1.4036.. 0.0118 s/batch \n",
      "Epoch: 11/50.. Validation Loss: 1.5370.. Training Loss: 1.3196.. 0.0118 s/batch \n",
      "Epoch: 12/50.. Validation Loss: 1.4445.. Training Loss: 1.2924.. 0.0119 s/batch \n",
      "Epoch: 13/50.. Validation Loss: 1.3441.. Training Loss: 1.2234.. 0.0124 s/batch \n",
      "Epoch: 14/50.. Validation Loss: 1.3609.. Training Loss: 1.1808.. 0.0124 s/batch \n",
      "Epoch: 15/50.. Validation Loss: 1.2902.. Training Loss: 1.1636.. 0.0118 s/batch \n",
      "Epoch: 16/50.. Validation Loss: 1.2597.. Training Loss: 1.1174.. 0.0118 s/batch \n",
      "Epoch: 17/50.. Validation Loss: 1.2626.. Training Loss: 1.0746.. 0.0118 s/batch \n",
      "Epoch: 18/50.. Validation Loss: 1.1764.. Training Loss: 1.0607.. 0.0118 s/batch \n",
      "Epoch: 19/50.. Validation Loss: 1.2257.. Training Loss: 1.0364.. 0.0120 s/batch \n",
      "Epoch: 20/50.. Validation Loss: 1.1989.. Training Loss: 1.0099.. 0.0123 s/batch \n",
      "Epoch: 21/50.. Validation Loss: 1.1965.. Training Loss: 1.0248.. 0.0122 s/batch \n",
      "Epoch: 22/50.. Validation Loss: 1.1229.. Training Loss: 0.9711.. 0.0118 s/batch \n",
      "Epoch: 23/50.. Validation Loss: 1.2160.. Training Loss: 0.9598.. 0.0118 s/batch \n",
      "Epoch: 24/50.. Validation Loss: 1.1073.. Training Loss: 0.9396.. 0.0134 s/batch \n",
      "Epoch: 25/50.. Validation Loss: 1.1010.. Training Loss: 0.9441.. 0.0132 s/batch \n",
      "Epoch: 26/50.. Validation Loss: 1.0704.. Training Loss: 0.9270.. 0.0121 s/batch \n",
      "Epoch: 27/50.. Validation Loss: 1.1101.. Training Loss: 0.9065.. 0.0118 s/batch \n",
      "Epoch: 28/50.. Validation Loss: 1.0920.. Training Loss: 0.9070.. 0.0119 s/batch \n",
      "Epoch: 29/50.. Validation Loss: 1.0698.. Training Loss: 0.9068.. 0.0122 s/batch \n",
      "Epoch: 30/50.. Validation Loss: 1.0928.. Training Loss: 0.8779.. 0.0123 s/batch \n",
      "Epoch: 31/50.. Validation Loss: 1.1073.. Training Loss: 0.8599.. 0.0118 s/batch \n",
      "Epoch: 32/50.. Validation Loss: 1.0510.. Training Loss: 0.8641.. 0.0118 s/batch \n",
      "Epoch: 33/50.. Validation Loss: 1.0602.. Training Loss: 0.8693.. 0.0118 s/batch \n",
      "Epoch: 34/50.. Validation Loss: 0.9968.. Training Loss: 0.8243.. 0.0118 s/batch \n",
      "Epoch: 35/50.. Validation Loss: 1.0061.. Training Loss: 0.8130.. 0.0118 s/batch \n",
      "Epoch: 36/50.. Validation Loss: 1.0151.. Training Loss: 0.8194.. 0.0123 s/batch \n",
      "Epoch: 37/50.. Validation Loss: 0.9931.. Training Loss: 0.7897.. 0.0122 s/batch \n",
      "Epoch: 38/50.. Validation Loss: 1.3179.. Training Loss: 0.7995.. 0.0118 s/batch \n",
      "Epoch: 39/50.. Validation Loss: 0.9381.. Training Loss: 0.7896.. 0.0118 s/batch \n",
      "Epoch: 40/50.. Validation Loss: 1.0090.. Training Loss: 0.7771.. 0.0118 s/batch \n",
      "Epoch: 41/50.. Validation Loss: 0.9715.. Training Loss: 0.7922.. 0.0118 s/batch \n",
      "Epoch: 42/50.. Validation Loss: 0.9939.. Training Loss: 0.7652.. 0.0120 s/batch \n",
      "Epoch: 43/50.. Validation Loss: 0.9991.. Training Loss: 0.7756.. 0.0124 s/batch \n",
      "Epoch: 44/50.. Validation Loss: 0.9915.. Training Loss: 0.7425.. 0.0122 s/batch \n",
      "Epoch: 45/50.. Validation Loss: 0.9728.. Training Loss: 0.7389.. 0.0118 s/batch \n",
      "Epoch: 46/50.. Validation Loss: 0.9489.. Training Loss: 0.7359.. 0.0118 s/batch \n",
      "Epoch: 47/50.. Validation Loss: 0.9504.. Training Loss: 0.7294.. 0.0118 s/batch \n",
      "Epoch: 48/50.. Validation Loss: 0.9535.. Training Loss: 0.7243.. 0.0119 s/batch \n",
      "Epoch: 49/50.. Validation Loss: 0.9856.. Training Loss: 0.7171.. 0.0126 s/batch \n",
      "Epoch: 50/50.. Validation Loss: 0.9916.. Training Loss: 0.7300.. 0.0124 s/batch \n"
     ]
    }
   ],
   "source": [
    "epochs = 50\n",
    "steps = 0\n",
    "running_loss = 0\n",
    "print_every = 323\n",
    "loss_train = []\n",
    "loss_val = []\n",
    "\n",
    "for e in range(epochs):\n",
    "    start = time.time()\n",
    "    steps_bis = 0\n",
    "    total_train_loss=0\n",
    "    for train_coord, ground_tru in iter(trainloader):\n",
    "        \n",
    "        steps += 1\n",
    "        steps_bis += 1\n",
    "        \n",
    "        #inp = Variable(images)\n",
    "        #targets = Variable(labels)\n",
    "        #optimizer.zero_grad()\n",
    "        #output = net.forward(inp)\n",
    "        #loss = criterion(output, targets.view(-1,40))\n",
    "        #grad = loss.backward()\n",
    "        #optimizer.step()\n",
    "        #running_loss += loss.item()\n",
    "\n",
    "        input_train = Variable(train_coord)\n",
    "        in_train = input_train.squeeze(1)\n",
    "        target = Variable(ground_tru)\n",
    "        targets = target.squeeze(1)\n",
    "        optimizer.zero_grad()\n",
    "        #print(in_train.shape)\n",
    "        #print(targets.shape)\n",
    "        out = net.forward(input_train)\n",
    "        out = out.reshape(out.shape[0],10,4)\n",
    "        out_bis = out[:,:,0:2].clone()\n",
    "        #print(out_bis.shape)   \n",
    "        for i in range(10):\n",
    "            if i == 0:\n",
    "                out_bis[:, i, 0:2] = in_train[:, -1, 0:2] + out[:, i, 2:]*0.4\n",
    "            else:\n",
    "                out_bis[:, i, 0:2] = out[:, i - 1, 0:2] + out[:, i, 2:]*0.4\n",
    "        #pdb.set_trace()\n",
    "        loss1 = (criterion(out[:,:,0:2], targets[:,:,0:2]))\n",
    "        loss2 = (criterion(out[:,:,2:], targets[:,:,2:]))\n",
    "        loss3 = criterion(out_bis, targets[:,:,0:2])\n",
    "        \n",
    "        loss1.backward(retain_graph=True)\n",
    "        loss2.backward(retain_graph=True)\n",
    "        loss3.backward(retain_graph=True)\n",
    "        optimizer.step()\n",
    "        \n",
    "        running_loss += (loss1+loss2+loss3).item()\n",
    "        total_train_loss += (loss1+loss2+loss3).item()\n",
    "        \n",
    "        if steps % print_every == 0:\n",
    "            stop = time.time()\n",
    "            val_loss=0\n",
    "            \n",
    "            for ii, (images, labels) in enumerate(valloader):\n",
    "                \n",
    "                inp = Variable(images)\n",
    "                input_val = inp.squeeze(1)\n",
    "                lab = Variable(labels)\n",
    "                valgt = lab.squeeze(1)\n",
    "                predicted = net.predict(inp)\n",
    "                predicted = predicted.reshape(predicted.shape[0],10,4)\n",
    "                predicted_bis = predicted[:,:,0:2].clone()\n",
    "                #print(out_bis.shape)   \n",
    "                for i in range(10):\n",
    "                    if i == 0:\n",
    "                        predicted_bis[:, i, 0:2] = input_val[:, -1, 0:2] + predicted[:, i, 2:]*0.4\n",
    "                    else:\n",
    "                        predicted_bis[:, i, 0:2] = predicted[:, i - 1, 0:2] + predicted[:, i, 2:]*0.4\n",
    "                val_loss+= (criterion(predicted[:,:,0:2],valgt[:,:,0:2]).item()\n",
    "                                + criterion(predicted[:,:,2:],valgt[:,:,2:]).item()\n",
    "                                + criterion(predicted_bis, valgt[:,:,0:2]).item())\n",
    "                \n",
    "            print(\"Epoch: {}/{}..\".format(e+1, epochs),\n",
    "                  \"Validation Loss: {:.4f}..\".format(val_loss/ii),\n",
    "                  \"Training Loss: {:.4f}..\".format(running_loss/print_every),\n",
    "                  \"{:.4f} s/batch \".format((stop - start)/print_every),\n",
    "                 )\n",
    "            loss_val.append(val_loss/ii)\n",
    "            running_loss = 0\n",
    "            start = time.time()\n",
    "    loss_train.append(total_train_loss/steps_bis)"
   ]
  },
  {
   "cell_type": "code",
   "execution_count": 7,
   "metadata": {},
   "outputs": [
    {
     "data": {
      "text/plain": [
       "<matplotlib.legend.Legend at 0x112023cc0>"
      ]
     },
     "execution_count": 7,
     "metadata": {},
     "output_type": "execute_result"
    },
    {
     "data": {
      "image/png": "[encoded data removed]",
      "text/plain": [
       "<matplotlib.figure.Figure at 0x10da2acc0>"
      ]
     },
     "metadata": {},
     "output_type": "display_data"
    }
   ],
   "source": [
    "epoch = np.arange(1,epochs+1)\n",
    "plt.figure(figsize=(12, 7))\n",
    "plt.rc('font', family='serif')\n",
    "plt.rc('font', size=20)\n",
    "\n",
    "plt.plot(epoch,loss_train,label='Training loss')\n",
    "plt.plot(epoch,loss_val,c='k',label='Validation loss')\n",
    "plt.xlabel('epoch')\n",
    "plt.ylabel('MSE error')\n",
    "plt.legend()"
   ]
  },
  {
   "cell_type": "code",
   "execution_count": 8,
   "metadata": {
    "collapsed": true
   },
   "outputs": [],
   "source": [
    "output_test_1 = net.predict(inputs_test_1)\n",
    "output_test_1 = output_test_1.data.numpy()\n",
    "output_test_1 = np.reshape(output_test_1,(251,10,4))\n",
    "\n",
    "output_test_2 = net.predict(inputs_test_2)\n",
    "output_test_2 = output_test_2.data.numpy()\n",
    "output_test_2 = np.reshape(output_test_2,(1007,10,4))\n",
    "\n",
    "output_test_3 = net.predict(inputs_test_3)\n",
    "output_test_3 = output_test_3.data.numpy()\n",
    "output_test_3 = np.reshape(output_test_3,(460,10,4))"
   ]
  },
  {
   "cell_type": "markdown",
   "metadata": {},
   "source": [
    "## Post processing step\n",
    "Go back to coordinate:\n",
    "We have Vx and Vy and we want x and y.\n",
    "$ V = d/t$\n",
    "$ d = V*t$\n",
    "Here t = 0.4s between each point.\n",
    "Start from data at index 9. Then we add d_x and d_y to the last x and y."
   ]
  },
  {
   "cell_type": "markdown",
   "metadata": {},
   "source": [
    "##### Type 1 trajectory"
   ]
  },
  {
   "cell_type": "code",
   "execution_count": 9,
   "metadata": {},
   "outputs": [
    {
     "name": "stdout",
     "output_type": "stream",
     "text": [
      "(251, 10, 4)\n"
     ]
    }
   ],
   "source": [
    "output_coord_1=np.zeros([11,inputs_test_1.shape[2],2])\n",
    "print(output_test_1.shape)\n",
    "for j in range(11):\n",
    "    for i in range(inputs_test_1.shape[2]):\n",
    "        if j==0:\n",
    "            output_coord_1[j,i,0:2] = in_test_coord_1[9,i,0:2]\n",
    "        else:\n",
    "            output_coord_1[j,i,0:2] = output_coord_1[j-1,i,0:2]+output_test_1[i,j-1,2:]*0.4\n",
    "        "
   ]
  },
  {
   "cell_type": "code",
   "execution_count": 10,
   "metadata": {},
   "outputs": [
    {
     "name": "stdout",
     "output_type": "stream",
     "text": [
      "The final distance between the ground trought and the predicted coordinates is : 2.444\n"
     ]
    }
   ],
   "source": [
    "dist = np.zeros(inputs_test_1.shape[2])\n",
    "for i in range(inputs_test_1.shape[2]):\n",
    "    dist[i] = np.sqrt(sum((gt_test_coord_1[10,i,:]-output_coord_1[10,i,:])**2))\n",
    "\n",
    "final_coord_error = np.mean(dist)\n",
    "print('The final distance between the ground trought and the predicted coordinates is :',final_coord_error.round(3))"
   ]
  },
  {
   "cell_type": "code",
   "execution_count": 11,
   "metadata": {},
   "outputs": [
    {
     "name": "stdout",
     "output_type": "stream",
     "text": [
      "The average error between the ground trought and the predicted coordinates is : 1.145\n"
     ]
    }
   ],
   "source": [
    "avr = np.zeros((inputs_test_1.shape[2],11))\n",
    "for i in range(inputs_test_1.shape[2]):\n",
    "    for j in range(11):\n",
    "        avr[i,j] = np.sqrt(sum((gt_test_coord_1[j,i,:]-output_coord_1[j,i,:])**2))\n",
    "\n",
    "average = np.mean(np.mean(avr,1))\n",
    "print('The average error between the ground trought and the predicted coordinates is :',average.round(3))"
   ]
  },
  {
   "cell_type": "code",
   "execution_count": 12,
   "metadata": {},
   "outputs": [
    {
     "data": {
      "text/plain": [
       "(-0.11901023110910319,\n",
       " 0.13138143957662396,\n",
       " -0.014243948004674168,\n",
       " 0.2991229080981575)"
      ]
     },
     "execution_count": 12,
     "metadata": {},
     "output_type": "execute_result"
    },
    {
     "data": {
      "image/png": "[encoded data removed]",
      "text/plain": [
       "<matplotlib.figure.Figure at 0x111decda0>"
      ]
     },
     "metadata": {},
     "output_type": "display_data"
    }
   ],
   "source": [
    "plt.figure(figsize=(12, 7))\n",
    "plt.rc('font', family='serif')\n",
    "plt.rc('font', size=20)\n",
    "\n",
    "ind = np.random.randint(inputs_test_1.shape[1])\n",
    "\n",
    "plt.plot(in_test_coord_1[:,ind,0],in_test_coord_1[:,ind,1],c='b')\n",
    "plt.plot(gt_test_coord_1[:,ind,0],gt_test_coord_1[:,ind,1],c='k')\n",
    "plt.plot(output_coord_1[:,ind,0],output_coord_1[:,ind,1],c='r')\n",
    "plt.axis('equal')"
   ]
  },
  {
   "cell_type": "code",
   "execution_count": 13,
   "metadata": {
    "collapsed": true
   },
   "outputs": [],
   "source": [
    "output_coord_2=np.zeros([11,inputs_test_2.shape[2],2])\n",
    "for j in range(11):\n",
    "    for i in range(inputs_test_2.shape[2]):\n",
    "        if j==0:\n",
    "            output_coord_2[j,i,0:2] = in_test_coord_2[9,i,0:2]\n",
    "        else:\n",
    "            output_coord_2[j,i,0:2] = output_coord_2[j-1,i,0:2]+output_test_2[i,j-1,2:]*0.4\n",
    "        "
   ]
  },
  {
   "cell_type": "code",
   "execution_count": 14,
   "metadata": {},
   "outputs": [
    {
     "name": "stdout",
     "output_type": "stream",
     "text": [
      "The final distance between the ground trought and the predicted coordinates is : 8.38\n"
     ]
    }
   ],
   "source": [
    "dist = np.zeros(inputs_test_2.shape[2])\n",
    "for i in range(inputs_test_2.shape[2]):\n",
    "    dist[i] = np.sqrt(sum((gt_test_coord_2[10,i,:]-output_coord_2[10,i,:])**2))\n",
    "\n",
    "final_coord_error = np.mean(dist)\n",
    "print('The final distance between the ground trought and the predicted coordinates is :',final_coord_error.round(3))"
   ]
  },
  {
   "cell_type": "code",
   "execution_count": 15,
   "metadata": {},
   "outputs": [
    {
     "name": "stdout",
     "output_type": "stream",
     "text": [
      "The average error between the ground trought and the predicted coordinates is : 2.4\n"
     ]
    }
   ],
   "source": [
    "avr = np.zeros((inputs_test_2.shape[1],11))\n",
    "for i in range(inputs_test_2.shape[1]):\n",
    "    for j in range(11):\n",
    "        avr[i,j] = np.sqrt(sum((gt_test_coord_2[j,i,:]-output_coord_2[j,i,:])**2))\n",
    "\n",
    "average = np.mean(np.mean(avr,1))\n",
    "print('The average error between the ground trought and the predicted coordinates is :',average.round(3))"
   ]
  },
  {
   "cell_type": "code",
   "execution_count": 16,
   "metadata": {},
   "outputs": [
    {
     "data": {
      "text/plain": [
       "(-0.10698990650000001, 2.2467880365, -0.5169107140000001, 10.855124994)"
      ]
     },
     "execution_count": 16,
     "metadata": {},
     "output_type": "execute_result"
    },
    {
     "data": {
      "image/png": "[encoded data removed]",
      "text/plain": [
       "<matplotlib.figure.Figure at 0x1120646a0>"
      ]
     },
     "metadata": {},
     "output_type": "display_data"
    }
   ],
   "source": [
    "plt.figure(figsize=(12, 7))\n",
    "plt.rc('font', family='serif')\n",
    "plt.rc('font', size=20)\n",
    "\n",
    "ind = np.random.randint(inputs_test_2.shape[1])\n",
    "\n",
    "plt.plot(in_test_coord_2[:,ind,0],in_test_coord_2[:,ind,1],c='b')\n",
    "plt.plot(gt_test_coord_2[:,ind,0],gt_test_coord_2[:,ind,1],c='k')\n",
    "plt.plot(output_coord_2[:,ind,0],output_coord_2[:,ind,1],c='r')\n",
    "plt.axis('equal')"
   ]
  },
  {
   "cell_type": "code",
   "execution_count": 17,
   "metadata": {
    "collapsed": true
   },
   "outputs": [],
   "source": [
    "output_coord_3=np.zeros([11,inputs_test_3.shape[2],2])\n",
    "for j in range(11):\n",
    "    for i in range(inputs_test_3.shape[2]):\n",
    "        if j==0:\n",
    "            output_coord_3[j,i,0:2] = in_test_coord_3[9,i,0:2]\n",
    "        else:\n",
    "            output_coord_3[j,i,0:2] = output_coord_3[j-1,i,0:2]+output_test_3[i,j-1,2:]*0.4\n",
    "        "
   ]
  },
  {
   "cell_type": "code",
   "execution_count": 18,
   "metadata": {},
   "outputs": [
    {
     "name": "stdout",
     "output_type": "stream",
     "text": [
      "The final distance between the ground trought and the predicted coordinates is : 6.055\n"
     ]
    }
   ],
   "source": [
    "dist = np.zeros(inputs_test_3.shape[2])\n",
    "for i in range(inputs_test_3.shape[2]):\n",
    "    dist[i] = np.sqrt(sum((gt_test_coord_3[10,i,:]-output_coord_3[10,i,:])**2))\n",
    "\n",
    "final_coord_error = np.mean(dist)\n",
    "print('The final distance between the ground trought and the predicted coordinates is :',final_coord_error.round(3))"
   ]
  },
  {
   "cell_type": "code",
   "execution_count": 19,
   "metadata": {},
   "outputs": [
    {
     "name": "stdout",
     "output_type": "stream",
     "text": [
      "The average error between the ground trought and the predicted coordinates is : 0.975\n"
     ]
    }
   ],
   "source": [
    "avr = np.zeros((inputs_test_3.shape[1],11))\n",
    "for i in range(inputs_test_3.shape[1]):\n",
    "    for j in range(11):\n",
    "        avr[i,j] = np.sqrt(sum((gt_test_coord_3[j,i,:]-output_coord_3[j,i,:])**2))\n",
    "\n",
    "average = np.mean(np.mean(avr,1))\n",
    "print('The average error between the ground trought and the predicted coordinates is :',average.round(3))"
   ]
  },
  {
   "cell_type": "code",
   "execution_count": 20,
   "metadata": {},
   "outputs": [
    {
     "data": {
      "text/plain": [
       "(-0.1848343275, 3.7037280975, -0.42497857550000007, 8.924550085500002)"
      ]
     },
     "execution_count": 20,
     "metadata": {},
     "output_type": "execute_result"
    },
    {
     "data": {
      "image/png": "[encoded data removed]",
      "text/plain": [
       "<matplotlib.figure.Figure at 0x112bd2eb8>"
      ]
     },
     "metadata": {},
     "output_type": "display_data"
    }
   ],
   "source": [
    "plt.figure(figsize=(12, 7))\n",
    "plt.rc('font', family='serif')\n",
    "plt.rc('font', size=20)\n",
    "\n",
    "ind = np.random.randint(inputs_test_3.shape[0])\n",
    "\n",
    "plt.plot(in_test_coord_3[:,ind,0],in_test_coord_3[:,ind,1],c='b')\n",
    "plt.plot(gt_test_coord_3[:,ind,0],gt_test_coord_3[:,ind,1],c='k')\n",
    "plt.plot(output_coord_3[:,ind,0],output_coord_3[:,ind,1],c='r')\n",
    "plt.axis('equal')"
   ]
  },
  {
   "cell_type": "code",
   "execution_count": 21,
   "metadata": {},
   "outputs": [
    {
     "name": "stdout",
     "output_type": "stream",
     "text": [
      "9\n"
     ]
    }
   ],
   "source": [
    "print(ind)"
   ]
  },
  {
   "cell_type": "code",
   "execution_count": null,
   "metadata": {
    "collapsed": true
   },
   "outputs": [],
   "source": []
  }
 ],
 "metadata": {
  "kernelspec": {
   "display_name": "Python 3",
   "language": "python",
   "name": "python3"
  },
  "language_info": {
   "codemirror_mode": {
    "name": "ipython",
    "version": 3
   },
   "file_extension": ".py",
   "mimetype": "text/x-python",
   "name": "python",
   "nbconvert_exporter": "python",
   "pygments_lexer": "ipython3",
   "version": "3.6.3"
  }
 },
 "nbformat": 4,
 "nbformat_minor": 2
}
