{
 "cells": [
  {
   "cell_type": "code",
   "execution_count": 1,
   "metadata": {},
   "outputs": [],
   "source": [
    "import pandas as pd\n",
    "import numpy as np\n",
    "import matplotlib\n",
    "import matplotlib.pyplot as plt\n",
    "from myclass.Representation import *\n",
    "from myclass.Training import *\n",
    "\n",
    "matplotlib.rcParams['text.usetex'] = True\n",
    "matplotlib.rcParams['text.latex.unicode'] = True\n",
    "\n",
    "# For the notebook\n",
    "%matplotlib inline\n",
    "%reload_ext autoreload\n",
    "%autoreload 2"
   ]
  },
  {
   "cell_type": "code",
   "execution_count": 10,
   "metadata": {},
   "outputs": [],
   "source": [
    "import os\n",
    "data = {}\n",
    "a=0\n",
    "j=2\n",
    "for i in os.listdir('./data_linear_augm/%s'%j):\n",
    "    if i.endswith('.txt'):\n",
    "        a = a+1\n",
    "        data[a] = Training('./data_linear_augm/{}/{}'.format(j,i))\n",
    "len_data = (a+1)\n"
   ]
  },
  {
   "cell_type": "code",
   "execution_count": 40,
   "metadata": {},
   "outputs": [
    {
     "data": {
      "text/plain": [
       "(755, 251, 252)"
      ]
     },
     "execution_count": 40,
     "metadata": {},
     "output_type": "execute_result"
    }
   ],
   "source": [
    "a = np.array(range(1,len_data))\n",
    "train_number = np.int(np.around(a[-1]*0.6))\n",
    "test_number = np.int(np.around(a[-1]*0.2))\n",
    "val_number = a[-1]-(train_number+test_number)\n",
    "train_number,val_number,test_number"
   ]
  },
  {
   "cell_type": "code",
   "execution_count": 29,
   "metadata": {},
   "outputs": [],
   "source": [
    "train = np.sort(np.random.choice(a,train_number,replace=False))\n",
    "b = a[~np.in1d(a, train)]\n",
    "test = np.sort(np.random.choice(b,val_number,replace=False))\n",
    "validation = b[~np.in1d(b, test)]"
   ]
  },
  {
   "cell_type": "code",
   "execution_count": 42,
   "metadata": {},
   "outputs": [],
   "source": [
    "for i in train:\n",
    "    np.savetxt(r'./final_dataset/train/{}/{}'.format(j,data[i].name),data[i].data.values,\n",
    "               fmt=['%d', '%d', '%.8f', '%.8f', '%.8f', '%.8f'])\n",
    "    "
   ]
  },
  {
   "cell_type": "code",
   "execution_count": 34,
   "metadata": {},
   "outputs": [
    {
     "data": {
      "text/plain": [
       "'biwi_0.txt'"
      ]
     },
     "execution_count": 34,
     "metadata": {},
     "output_type": "execute_result"
    }
   ],
   "source": [
    "for i in validation:\n",
    "    np.savetxt(r'./final_dataset/validation/{}/{}'.format(j,data[i].name),data[i].data.values,\n",
    "               fmt=['%d', '%d', '%.8f', '%.8f', '%.8f', '%.8f'])"
   ]
  },
  {
   "cell_type": "code",
   "execution_count": null,
   "metadata": {},
   "outputs": [],
   "source": [
    "for i in test:\n",
    "    np.savetxt(r'./final_dataset/test/{}/{}'.format(j,data[i].name),data[i].data.values,\n",
    "               fmt=['%d', '%d', '%.8f', '%.8f', '%.8f', '%.8f'])"
   ]
  },
  {
   "cell_type": "code",
   "execution_count": 33,
   "metadata": {},
   "outputs": [],
   "source": [
    "i = train[0]\n",
    "np.savetxt(r'./final_dataset/train/{}/{}'.format(j,data[i].name),data[i].data.values,\n",
    "               fmt=['%d', '%d', '%.8f', '%.8f', '%.8f', '%.8f'])"
   ]
  },
  {
   "cell_type": "code",
   "execution_count": 39,
   "metadata": {},
   "outputs": [
    {
     "data": {
      "text/plain": [
       "251"
      ]
     },
     "execution_count": 39,
     "metadata": {},
     "output_type": "execute_result"
    }
   ],
   "source": [
    "len(test)"
   ]
  },
  {
   "cell_type": "code",
   "execution_count": 41,
   "metadata": {},
   "outputs": [
    {
     "data": {
      "text/plain": [
       "1258"
      ]
     },
     "execution_count": 41,
     "metadata": {},
     "output_type": "execute_result"
    }
   ],
   "source": [
    "len(data)"
   ]
  },
  {
   "cell_type": "code",
   "execution_count": null,
   "metadata": {},
   "outputs": [],
   "source": []
  }
 ],
 "metadata": {
  "kernelspec": {
   "display_name": "Python 3",
   "language": "python",
   "name": "python3"
  },
  "language_info": {
   "codemirror_mode": {
    "name": "ipython",
    "version": 3
   },
   "file_extension": ".py",
   "mimetype": "text/x-python",
   "name": "python",
   "nbconvert_exporter": "python",
   "pygments_lexer": "ipython3",
   "version": "3.6.4"
  }
 },
 "nbformat": 4,
 "nbformat_minor": 2
}
