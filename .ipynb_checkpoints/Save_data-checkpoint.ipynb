{
 "cells": [
  {
   "cell_type": "code",
   "execution_count": 1,
   "metadata": {},
   "outputs": [
    {
     "data": {
      "text/plain": [
       "<torch._C.Generator at 0x10a4174d0>"
      ]
     },
     "execution_count": 1,
     "metadata": {},
     "output_type": "execute_result"
    }
   ],
   "source": [
    "import torch\n",
    "from torch import nn\n",
    "from torch.autograd import Variable\n",
    "import torchvision.datasets as dsets\n",
    "import torchvision.transforms as transforms\n",
    "import matplotlib.pyplot as plt\n",
    "from LSTM import *\n",
    "import pandas as pd\n",
    "import numpy as np\n",
    "import torch.utils.data as utils\n",
    "import time\n",
    "import os\n",
    "\n",
    "import pdb\n",
    "import pickle\n",
    "\n",
    "\n",
    "# For the notebook\n",
    "%matplotlib inline\n",
    "%reload_ext autoreload\n",
    "%autoreload 2\n",
    "\n",
    "torch.manual_seed(1)"
   ]
  },
  {
   "cell_type": "code",
   "execution_count": 2,
   "metadata": {},
   "outputs": [],
   "source": [
    "data_train = {}\n",
    "data_val = {}\n",
    "data_test={}\n",
    "a = 0\n",
    "b = 0\n",
    "c = 0\n",
    "max_len = 0\n",
    "for j in range(1,4):\n",
    "    for i in os.listdir('./final_dataset/train/%s'%j):\n",
    "        if i.endswith('.txt'):\n",
    "            a = a+1\n",
    "            data_train['%s'%a] = pd.read_csv('./final_dataset/train/{}/{}'.format(j,i), header = None, \n",
    "                                        names = ['frameNb','id', 'x','y','Vx','Vy'],\n",
    "                                           delimiter=' ')\n",
    "            if len(data_train['%s'%a])/20>max_len:\n",
    "                max_len=int(len(data_train['%s'%a])/20)\n",
    "        \n",
    "    for k in os.listdir('./final_dataset/validation/%s'%j):\n",
    "        if k.endswith('.txt'):\n",
    "            b = b+1\n",
    "            data_val['%s'%b] = pd.read_csv('./final_dataset/validation/{}/{}'.format(j,k), header = None, \n",
    "                                        names = ['frameNb','id', 'x','y','Vx','Vy'],\n",
    "                                           delimiter=' ') \n",
    "    \n",
    "    for k in os.listdir('./final_dataset/test/%s' % j):\n",
    "        if k.endswith('.txt'):\n",
    "            c = c + 1\n",
    "            data_test['%s' % c] = pd.read_csv('./final_dataset/test/{}/{}'.format(j, k), header=None,\n",
    "                                              names=['frameNb', 'id', 'x', 'y', 'Vx', 'Vy'],\n",
    "                                              delimiter=' ')"
   ]
  },
  {
   "cell_type": "code",
   "execution_count": 3,
   "metadata": {},
   "outputs": [],
   "source": [
    "data_test_1 = {}\n",
    "c = 0\n",
    "j = 1\n",
    "for i in os.listdir('./final_dataset/test/%s'%j):\n",
    "    if i.endswith('.txt'):\n",
    "        c = c+1\n",
    "        data_test_1['%s'%c] = pd.read_csv('./final_dataset/test/{}/{}'.format(j,i), header = None, \n",
    "                                    names = ['frameNb','id', 'x','y','Vx','Vy'],\n",
    "                                       delimiter=' ')\n",
    "\n",
    "data_test_2 = {}\n",
    "c = 0\n",
    "j = 2\n",
    "for i in os.listdir('./final_dataset/test/%s'%j):\n",
    "    if i.endswith('.txt'):\n",
    "        c = c+1\n",
    "        data_test_2['%s'%c] = pd.read_csv('./final_dataset/test/{}/{}'.format(j,i), header = None, \n",
    "                                    names = ['frameNb','id', 'x','y','Vx','Vy'],\n",
    "                                       delimiter=' ')\n",
    "\n",
    "data_test_3 = {}\n",
    "c = 0\n",
    "j = 3\n",
    "for i in os.listdir('./final_dataset/test/%s'%j):\n",
    "    if i.endswith('.txt'):\n",
    "        c = c+1\n",
    "        data_test_3['%s'%c] = pd.read_csv('./final_dataset/test/{}/{}'.format(j,i), header = None, \n",
    "                                    names = ['frameNb','id', 'x','y','Vx','Vy'],\n",
    "                                       delimiter=' ')"
   ]
  },
  {
   "cell_type": "markdown",
   "metadata": {},
   "source": [
    "## TRAIN SET"
   ]
  },
  {
   "cell_type": "code",
   "execution_count": 5,
   "metadata": {},
   "outputs": [
    {
     "data": {
      "text/plain": [
       "torch.Size([5157, 10, 244])"
      ]
     },
     "execution_count": 5,
     "metadata": {},
     "output_type": "execute_result"
    }
   ],
   "source": [
    "a = 0\n",
    "inputs_train = np.zeros([10,len(data_train),4*max_len])\n",
    "gt_train = np.zeros([11,len(data_train),4])\n",
    "in_train_coord = np.zeros([10,len(data_train),2])\n",
    "gt_train_coord = np.zeros([11,len(data_train),2])\n",
    "\n",
    "for i in data_train:\n",
    "    len_d = np.int(len(data_train['%s'%i])/20)\n",
    "    inputs_train[:,a,:4] = data_train['%s'%i].loc[0:9,'x':'Vy']\n",
    "    for j in range(1,len_d):\n",
    "        for m in range(10):\n",
    "            frame = np.array(data_train['%s'%i].loc[m,'frameNb'])\n",
    "            no_int = 0\n",
    "            check = 0\n",
    "            for k in range(20):\n",
    "                if data_train['%s'%i].loc[j*20+k,'frameNb']==frame:\n",
    "                    inputs_train[m,(a),(j-no_int)*4:(j+1-no_int)*4]=data_train['%s'%i].loc[j*20+k,'x':'Vy']\n",
    "                    check+=1\n",
    "            if check == 0:\n",
    "                no_int+=1           \n",
    "\n",
    "        \n",
    "    gt_train[:,a,:] = np.array(data_train['%s'%i].loc[9:19,['x','y','Vx','Vy']])\n",
    "    in_train_coord[:,a,:] = np.array(data_train['%s'%i].loc[0:9,['x','y']])\n",
    "    gt_train_coord[:,a,:] = np.array(data_train['%s'%i].loc[9:19,['x','y']])\n",
    "    a +=1\n",
    "\n",
    "while sum(sum(sum(inputs_train[:,:,-4:]!=0)))==0:\n",
    "    inputs_train = inputs_train[:,:,:-4]\n",
    "\n",
    "inputs_train = torch.from_numpy(inputs_train).float()\n",
    "gt_train = torch.from_numpy(gt_train).float()\n",
    "inputs_train = inputs_train.permute([1,0,2])\n",
    "gt_train = gt_train.permute([1,0,2])\n",
    "inputs_train.shape\n"
   ]
  },
  {
   "cell_type": "code",
   "execution_count": 17,
   "metadata": {},
   "outputs": [],
   "source": [
    "pickle.dump( inputs_train.numpy(), open( \"./import_dataset_3/train/inputs_train.pkl\", \"wb\" ) )\n",
    "pickle.dump( gt_train.numpy(), open( \"./import_dataset_3/train/gt_train.pkl\", \"wb\" ) )\n",
    "pickle.dump( in_train_coord, open( \"./import_dataset_3/train/in_train_coord.pkl\", \"wb\" ) )\n",
    "pickle.dump( gt_train_coord, open( \"./import_dataset_3/train/gt_train_coord.pkl\", \"wb\" ) )\n"
   ]
  },
  {
   "cell_type": "markdown",
   "metadata": {},
   "source": [
    "## VALIDATION SET"
   ]
  },
  {
   "cell_type": "code",
   "execution_count": 18,
   "metadata": {},
   "outputs": [],
   "source": [
    "a = 0\n",
    "inputs_validation = np.zeros([10,len(data_val),inputs_train.shape[2]])\n",
    "gt_validation = np.zeros([11,len(data_val),4])\n",
    "in_validation_coord = np.zeros([10,len(data_val),2])\n",
    "gt_validation_coord = np.zeros([11,len(data_val),2])\n",
    "\n",
    "for i in data_val:\n",
    "    len_d = np.int(len(data_val['%s'%i])/20)\n",
    "    inputs_validation[:,a,:4] = data_val['%s'%i].loc[0:9,'x':'Vy']\n",
    "    for j in range(1,len_d):    \n",
    "        for m in range(10):\n",
    "            frame = np.array(data_val['%s'%i].loc[m,'frameNb'])  \n",
    "            no_int = 0\n",
    "            check = 0            \n",
    "            for k in range(20):\n",
    "                if data_val['%s'%i].loc[j*20+k,'frameNb']==frame:\n",
    "                    inputs_validation[m,a,(j-no_int)*4:(j+1-no_int)*4]=data_val['%s'%i].loc[j*20+k,'x':'Vy']\n",
    "                    check+=1\n",
    "            if check == 0:\n",
    "                no_int+=1  \n",
    "    gt_validation[:,a,:] = np.array(data_val['%s'%i].loc[9:19,['x','y','Vx','Vy']])\n",
    "    in_validation_coord[:,a,:] = np.array(data_val['%s'%i].loc[0:9,['x','y']])\n",
    "    gt_validation_coord[:,a,:] = np.array(data_val['%s'%i].loc[9:19,['x','y']])\n",
    "    a +=1\n",
    "\n",
    "\n",
    "inputs_validation = torch.from_numpy(inputs_validation).float()\n",
    "gt_validation = torch.from_numpy(gt_validation).float()\n",
    "inputs_validation = inputs_validation.permute([1,0,2])\n",
    "gt_validation = gt_validation.permute([1,0,2])\n"
   ]
  },
  {
   "cell_type": "code",
   "execution_count": 19,
   "metadata": {},
   "outputs": [],
   "source": [
    "pickle.dump( inputs_validation.numpy(), open( \"./import_dataset_3/validation/inputs_validation.pkl\", \"wb\" ) )\n",
    "pickle.dump( gt_validation.numpy(), open( \"./import_dataset_3/validation/gt_validation.pkl\", \"wb\" ) )\n",
    "pickle.dump( in_validation_coord, open( \"./import_dataset_3/validation/in_validation_coord.pkl\", \"wb\" ) )\n",
    "pickle.dump( gt_validation_coord, open( \"./import_dataset_3/validation/gt_validation_coord.pkl\", \"wb\" ) )\n"
   ]
  },
  {
   "cell_type": "markdown",
   "metadata": {},
   "source": [
    "## TEST SET"
   ]
  },
  {
   "cell_type": "code",
   "execution_count": 20,
   "metadata": {},
   "outputs": [],
   "source": [
    "a = 0\n",
    "inputs_test_1 = np.zeros([10,len(data_test_1),inputs_train.shape[2]])\n",
    "gt_test_1 = np.zeros([11,len(data_test_1),4])\n",
    "in_test_coord_1 = np.zeros([10,len(data_test_1),2])\n",
    "gt_test_coord_1 = np.zeros([11,len(data_test_1),2])\n",
    "\n",
    "for i in data_test_1:\n",
    "    len_d = np.int(len(data_test_1['%s'%i])/20)\n",
    "    inputs_test_1[:,a,:4] = data_test_1['%s'%i].loc[0:9,'x':'Vy']\n",
    "    for j in range(1,len_d):\n",
    "        for m in range(10):\n",
    "            frame = np.array(data_test_1['%s'%i].loc[m,'frameNb'])\n",
    "            no_int=0\n",
    "            check = 0\n",
    "            for k in range(20):\n",
    "                if data_test_1['%s'%i].loc[j*20+k,'frameNb']==frame:\n",
    "                    inputs_test_1[m,a,(j-no_int)*4:(j+1-no_int)*4]=data_test_1['%s'%i].loc[j*20+k,'x':'Vy']\n",
    "                    check+=1\n",
    "            if check == 0:\n",
    "                no_int+=1 \n",
    "                \n",
    "    gt_test_1[:,a,:] = np.array(data_test_1['%s'%i].loc[9:19,['x','y','Vx','Vy']])\n",
    "    in_test_coord_1[:,a,:] = np.array(data_test_1['%s'%i].loc[0:9,['x','y']])\n",
    "    gt_test_coord_1[:,a,:] = np.array(data_test_1['%s'%i].loc[9:19,['x','y']])\n",
    "    a +=1\n",
    "\n",
    "\n",
    "inputs_test_1 = torch.from_numpy(inputs_test_1).float()\n",
    "gt_test_1 = torch.from_numpy(gt_test_1).float()"
   ]
  },
  {
   "cell_type": "code",
   "execution_count": 21,
   "metadata": {},
   "outputs": [],
   "source": [
    "pickle.dump( inputs_test_1.numpy(), open( \"./import_dataset_3/test/inputs_test_1.pkl\", \"wb\" ) )\n",
    "pickle.dump( gt_test_1.numpy(), open( \"./import_dataset_3/test/gt_test_1.pkl\", \"wb\" ) )\n",
    "pickle.dump( in_test_coord_1, open( \"./import_dataset_3/test/in_test_coord_1.pkl\", \"wb\" ) )\n",
    "pickle.dump( gt_test_coord_1, open( \"./import_dataset_3/test/gt_test_coord_1.pkl\", \"wb\" ) )\n"
   ]
  },
  {
   "cell_type": "code",
   "execution_count": 22,
   "metadata": {},
   "outputs": [],
   "source": [
    "a = 0\n",
    "inputs_test_2 = np.zeros([10,len(data_test_2),inputs_train.shape[2]])\n",
    "gt_test_2 = np.zeros([11,len(data_test_2),4])\n",
    "in_test_coord_2 = np.zeros([10,len(data_test_2),2])\n",
    "gt_test_coord_2 = np.zeros([11,len(data_test_2),2])\n",
    "\n",
    "for i in data_test_2:\n",
    "    len_d = np.int(len(data_test_2['%s'%i])/20)\n",
    "    inputs_test_2[:,a,:4] = data_test_2['%s'%i].loc[0:9,'x':'Vy']\n",
    "    for j in range(1,len_d):    \n",
    "        for m in range(10):\n",
    "            frame = np.array(data_test_2['%s'%i].loc[m,'frameNb'])  \n",
    "            no_int=0\n",
    "            check = 0\n",
    "            for k in range(20):\n",
    "                if data_test_2['%s'%i].loc[j*20+k,'frameNb']==frame:\n",
    "                    inputs_test_2[m,a,(j-no_int)*4:(j+1-no_int)*4]=data_test_2['%s'%i].loc[j*20+k,'x':'Vy']\n",
    "                    check+=1\n",
    "            if check ==0:\n",
    "                no_int+=1\n",
    "                    \n",
    "    gt_test_2[:,a,:] = np.array(data_test_2['%s'%i].loc[9:19,['x','y','Vx','Vy']])\n",
    "    in_test_coord_2[:,a,:] = np.array(data_test_2['%s'%i].loc[0:9,['x','y']])\n",
    "    gt_test_coord_2[:,a,:] = np.array(data_test_2['%s'%i].loc[9:19,['x','y']])\n",
    "    a +=1\n",
    "\n",
    "\n",
    "inputs_test_2 = torch.from_numpy(inputs_test_2).float()\n",
    "gt_test_2 = torch.from_numpy(gt_test_2).float()"
   ]
  },
  {
   "cell_type": "code",
   "execution_count": 23,
   "metadata": {},
   "outputs": [],
   "source": [
    "pickle.dump( inputs_test_2.numpy(), open( \"./import_dataset_3/test/inputs_test_2.pkl\", \"wb\" ) )\n",
    "pickle.dump( gt_test_2.numpy(), open( \"./import_dataset_3/test/gt_test_2.pkl\", \"wb\" ) )\n",
    "pickle.dump( in_test_coord_2, open( \"./import_dataset_3/test/in_test_coord_2.pkl\", \"wb\" ) )\n",
    "pickle.dump( gt_test_coord_2, open( \"./import_dataset_3/test/gt_test_coord_2.pkl\", \"wb\" ) )\n"
   ]
  },
  {
   "cell_type": "code",
   "execution_count": 24,
   "metadata": {},
   "outputs": [
    {
     "data": {
      "text/plain": [
       "1"
      ]
     },
     "execution_count": 24,
     "metadata": {},
     "output_type": "execute_result"
    }
   ],
   "source": [
    "a = 0\n",
    "inputs_test_3 = np.zeros([10,len(data_test_3),inputs_train.shape[2]])\n",
    "gt_test_3 = np.zeros([11,len(data_test_3),4])\n",
    "in_test_coord_3 = np.zeros([10,len(data_test_3),2])\n",
    "gt_test_coord_3 = np.zeros([11,len(data_test_3),2])\n",
    "\n",
    "\n",
    "for i in data_test_3:\n",
    "    len_d = np.int(len(data_test_3['%s'%i])/20)\n",
    "    inputs_test_3[:,a,:4] = data_test_3['%s'%i].loc[0:9,'x':'Vy']\n",
    "    for j in range(1,len_d):    \n",
    "        for m in range(10):\n",
    "            frame = np.array(data_test_3['%s'%i].loc[m,'frameNb'])  \n",
    "            no_int = 0\n",
    "            check = 0\n",
    "            for k in range(20):\n",
    "                if data_test_3['%s'%i].loc[j*20+k,'frameNb']==frame:\n",
    "                    inputs_test_3[m,a,(j-no_int)*4:(j+1-no_int)*4]=data_test_3['%s'%i].loc[j*20+k,'x':'Vy']\n",
    "                    check+=1\n",
    "            if check == 0:\n",
    "                no_int+=1\n",
    "                \n",
    "    \n",
    "    gt_test_3[:,a,:] = np.array(data_test_3['%s'%i].loc[9:19,['x','y','Vx','Vy']])\n",
    "    in_test_coord_3[:,a,:] = np.array(data_test_3['%s'%i].loc[0:9,['x','y']])\n",
    "    gt_test_coord_3[:,a,:] = np.array(data_test_3['%s'%i].loc[9:19,['x','y']])\n",
    "    a +=1\n",
    "\n",
    "\n",
    "inputs_test_3 = torch.from_numpy(inputs_test_3).float()\n",
    "gt_test_3 = torch.from_numpy(gt_test_3).float()\n",
    "no_int"
   ]
  },
  {
   "cell_type": "code",
   "execution_count": 25,
   "metadata": {},
   "outputs": [],
   "source": [
    "pickle.dump( inputs_test_3.numpy(), open( \"./import_dataset_3/test/inputs_test_3.pkl\", \"wb\" ) )\n",
    "pickle.dump( gt_test_3.numpy(), open( \"./import_dataset_3/test/gt_test_3.pkl\", \"wb\" ) )\n",
    "pickle.dump( in_test_coord_3, open( \"./import_dataset_3/test/in_test_coord_3.pkl\", \"wb\" ) )\n",
    "pickle.dump( gt_test_coord_3, open( \"./import_dataset_3/test/gt_test_coord_3.pkl\", \"wb\" ) )\n"
   ]
  },
  {
   "cell_type": "markdown",
   "metadata": {},
   "source": [
    "# TEST SET 2 for gif"
   ]
  },
  {
   "cell_type": "code",
   "execution_count": null,
   "metadata": {},
   "outputs": [],
   "source": [
    "a = 0\n",
    "inputs_test = np.zeros([20, len(data_test), 160])\n",
    "\n",
    "for i in data_test:\n",
    "    len_d = np.int(len(data_test['%s' % i]) / 20)\n",
    "    inputs_test[:, a, :2] = data_test['%s' % i].loc[0:19, 'x':'y']\n",
    "    for j in range(1, len_d):\n",
    "        for m in range(20):\n",
    "            frame = np.array(data_test['%s' % i].loc[m, 'frameNb'])\n",
    "            no_int = 0\n",
    "            check = 0\n",
    "            for k in range(20):\n",
    "                if data_test['%s' % i].loc[j*20+k, 'frameNb'] == frame:\n",
    "                    #print(k)\n",
    "                    inputs_test[m,a,(j-no_int)*2:(j+1-no_int)*2] = data_test['%s' % i].loc[j*20+k,'x':'y']\n",
    "                    check += 1\n",
    "            if check == 0:\n",
    "                no_int += 1\n",
    "    a += 1\n",
    "    \n",
    "    \n",
    "while sum(sum(sum(inputs_test[:,:,-2:]!=0)))==0:\n",
    "    inputs_test = inputs_test[:,:,:-2]\n",
    "    \n"
   ]
  },
  {
   "cell_type": "code",
   "execution_count": null,
   "metadata": {},
   "outputs": [],
   "source": [
    "pickle.dump( inputs_test, open( \"./import_dataset_3/inputs_dyn_plot.pkl\", \"wb\" ) )"
   ]
  },
  {
   "cell_type": "code",
   "execution_count": 28,
   "metadata": {},
   "outputs": [
    {
     "data": {
      "text/plain": [
       "(-5.309107065200806, 4.433758020401001, -6.928119444847107, 5.399133944511414)"
      ]
     },
     "execution_count": 28,
     "metadata": {},
     "output_type": "execute_result"
    },
    {
     "data": {
      "image/png": "[encoded data removed]",
      "text/plain": [
       "<matplotlib.figure.Figure at 0x11e4dd550>"
      ]
     },
     "metadata": {},
     "output_type": "display_data"
    }
   ],
   "source": [
    "inputs_train=inputs_train.numpy()\n",
    "for i in range(41):\n",
    "    inp = inputs_train[700,:,4*i:4*i+2]\n",
    "    if sum(sum(inp))==0:\n",
    "        continue\n",
    "    if i>0:\n",
    "        while sum(inp[0,:])==0:\n",
    "            inp = inp[1:,:]\n",
    "            if len(inp)>0:\n",
    "                continue\n",
    "        while sum(inp[-1,:])==0:\n",
    "            inp = inp[:-1,:]\n",
    "            if len(inp)>0:\n",
    "                continue\n",
    "    if len(inp)>0:\n",
    "        plt.plot(inp[:,0],inp[:,1])\n",
    "#plt.plot(inputs_train[:,300,0],inputs_train[:,299,0],c='k')\n",
    "plt.axis('equal')"
   ]
  },
  {
   "cell_type": "code",
   "execution_count": null,
   "metadata": {},
   "outputs": [],
   "source": [
    "for i in range(0,6):\n",
    "    plt.plot(data_test['701'].loc[20*i:((i+1)*20-1),'x'],data_test['701'].loc[20*i:((i+1)*20-1),'y'])\n",
    "plt.axis('equal')"
   ]
  },
  {
   "cell_type": "markdown",
   "metadata": {},
   "source": [
    "# END OF SAVING"
   ]
  },
  {
   "cell_type": "code",
   "execution_count": null,
   "metadata": {},
   "outputs": [],
   "source": [
    "len(data_test),inputs_test.shape"
   ]
  },
  {
   "cell_type": "code",
   "execution_count": 16,
   "metadata": {},
   "outputs": [
    {
     "data": {
      "text/plain": [
       "(array([[ 3.00514886e+00,  1.84381814e+00],\n",
       "        [ 2.65188971e+00,  1.97762761e+00],\n",
       "        [ 2.29863056e+00,  2.11143708e+00],\n",
       "        [ 1.94596278e+00,  2.24605295e+00],\n",
       "        [ 1.59469276e+00,  2.38088387e+00],\n",
       "        [ 1.24342274e+00,  2.51571479e+00],\n",
       "        [ 8.55972020e-01,  2.64855657e+00],\n",
       "        [ 4.29545060e-01,  2.77897914e+00],\n",
       "        [ 3.70946000e-03,  2.91020811e+00],\n",
       "        [-3.67828200e-01,  3.10702469e+00],\n",
       "        [-6.57220070e-01,  3.40233020e+00],\n",
       "        [-9.46611940e-01,  3.69763571e+00],\n",
       "        [-1.23229435e+00,  3.98278051e+00],\n",
       "        [-1.50614949e+00,  4.22825019e+00],\n",
       "        [-1.78140240e+00,  4.47350483e+00],\n",
       "        [-2.02563559e+00,  4.71709290e+00],\n",
       "        [-2.24024684e+00,  4.95879936e+00],\n",
       "        [-2.45405168e+00,  5.19991445e+00],\n",
       "        [-2.68065149e+00,  5.44049195e+00],\n",
       "        [-2.91203596e+00,  5.67961791e+00]]), tensor([[-2.4541,  5.1999],\n",
       "         [-2.6807,  5.4405],\n",
       "         [-2.9120,  5.6796],\n",
       "         [ 0.0000,  0.0000],\n",
       "         [ 0.0000,  0.0000],\n",
       "         [ 0.0000,  0.0000],\n",
       "         [ 0.0000,  0.0000],\n",
       "         [ 0.0000,  0.0000],\n",
       "         [ 0.0000,  0.0000],\n",
       "         [ 0.0000,  0.0000]]))"
      ]
     },
     "execution_count": 16,
     "metadata": {},
     "output_type": "execute_result"
    }
   ],
   "source": [
    "np.array(data_train['300'].loc[20:39,'x':'y']),inputs_train[299,:,4:6]"
   ]
  },
  {
   "cell_type": "code",
   "execution_count": 15,
   "metadata": {},
   "outputs": [
    {
     "data": {
      "text/plain": [
       "(array([3400, 3410, 3420, 3430, 3440, 3450, 3460, 3470, 3480, 3490, 3500,\n",
       "        3510, 3520, 3530, 3540, 3550, 3560, 3570, 3580, 3590]),\n",
       " array([3230, 3240, 3250, 3260, 3270, 3280, 3290, 3300, 3310, 3320, 3330,\n",
       "        3340, 3350, 3360, 3370, 3380, 3390, 3400, 3410, 3420]))"
      ]
     },
     "execution_count": 15,
     "metadata": {},
     "output_type": "execute_result"
    }
   ],
   "source": [
    "np.array(data_train['300'].loc[0:19,'frameNb']),np.array(data_train['300'].loc[20:39,'frameNb'])\n",
    "\n"
   ]
  },
  {
   "cell_type": "code",
   "execution_count": null,
   "metadata": {},
   "outputs": [],
   "source": [
    "for j in range(1, len_d):\n",
    "    for m in range(20):\n",
    "        frame = np.array(data_test['300'].loc[m, 'frameNb'])\n",
    "        no_int = 0\n",
    "        check = 0\n",
    "        for k in range(20):\n",
    "            if data_test['300'].loc[j*20+k, 'frameNb'] == frame:\n",
    "                print(k)\n",
    "                print(m)\n",
    "                print(frame)\n",
    "                #inputs_test[m,a,(j-no_int)*2:(j+1-no_int)*2] = data_test['300'].loc[j*20+k,'x':'y']\n",
    "                #check += 1\n",
    "        if check == 0:\n",
    "            no_int += 1"
   ]
  },
  {
   "cell_type": "code",
   "execution_count": null,
   "metadata": {},
   "outputs": [],
   "source": [
    "from torch import optim\n",
    "\n",
    "lr = 0.01\n",
    "lstm = LSTM(4*max_len,4,num_layers=2,hidden_size=128)\n",
    "optimizer = optim.SGD(lstm.parameters(), lr=lr)\n",
    "criterion = nn.MSELoss()"
   ]
  },
  {
   "cell_type": "code",
   "execution_count": null,
   "metadata": {
    "scrolled": false
   },
   "outputs": [],
   "source": [
    "traindataset = utils.TensorDataset(inputs_train, gt_train[:,1:,:])\n",
    "trainloader = utils.DataLoader(traindataset, batch_size=16, shuffle=True)\n",
    "\n",
    "valdataset = utils.TensorDataset(inputs_validation, gt_validation[:,1:,:])\n",
    "valloader = utils.DataLoader(valdataset, batch_size=16, shuffle=True)\n",
    "\n",
    "epochs = 50\n",
    "steps = 0\n",
    "print_every = 323\n",
    "running_loss = 0 #### DOD\n",
    "\n",
    "loss_train = []\n",
    "loss_val = []\n",
    "for e in range(epochs):\n",
    "    start = time.time()\n",
    "    total_train_loss=0\n",
    "    steps_bis = 0\n",
    "    if (e+1)%10==0:\n",
    "        lr /= 5\n",
    "        optimizer = optim.SGD(lstm.parameters(), lr=lr)\n",
    "\n",
    "    for train_coord, ground_tru in iter(trainloader):\n",
    "        steps += 1\n",
    "        steps_bis+=1\n",
    "        \n",
    "        train_coord = train_coord.permute([1,0,2])\n",
    "        ground_tru = ground_tru.permute([1,0,2])\n",
    "\n",
    "        in_train = Variable(train_coord)\n",
    "        targets = Variable(ground_tru)\n",
    "        optimizer.zero_grad()\n",
    "        #print(in_train.shape)\n",
    "        #print(targets.shape)\n",
    "        out = lstm.forward(in_train)\n",
    "        out_bis = out[:,:,0:2].clone()\n",
    "        #print(out_bis.shape)    \n",
    "        for i in range(10):\n",
    "            if i == 0:\n",
    "                out_bis[i, :, 0:2] = in_train[-1, :, 0:2] + out[i, :, 2:]*0.4\n",
    "            else:\n",
    "                out_bis[i, :, 0:2] = out[i - 1, :, 0:2] + out[i, :, 2:]*0.4\n",
    "        #pdb.set_trace()\n",
    "        loss1 = (criterion(out[:,:,0:2], targets[:,:,0:2]))\n",
    "        loss2 = (criterion(out[:,:,2:], targets[:,:,2:]))\n",
    "        loss3 = criterion(out_bis, targets[:,:,0:2])\n",
    "        loss4 = 5*criterion(out[0,:,2:], targets[0,:,2:])\n",
    "                                #+ 10*criterion(out_bis[-1,:,:], targets[-1,:,0:2]) \n",
    "                                #+ 10*criterion(out_bis[0,:,:], targets[0,:,0:2]))\n",
    "        loss1.backward(retain_graph=True)\n",
    "        loss2.backward(retain_graph=True)\n",
    "        loss3.backward(retain_graph=True)\n",
    "        loss4.backward()\n",
    "        optimizer.step()\n",
    "        \n",
    "        running_loss += (loss1+loss2+loss3+loss4).data[0]\n",
    "        total_train_loss += (loss1+loss2+loss3+loss4).data[0]\n",
    "    \n",
    "        if steps % print_every == 0:\n",
    "                stop = time.time()\n",
    "                val_loss=0\n",
    "                for ii, (valcoord, valgt) in enumerate(valloader):\n",
    "                    inputs = Variable(valcoord, volatile=True)\n",
    "                    predicted = lstm.predict(inputs)\n",
    "                    val_loss+= criterion(predicted,valgt).data[0]\n",
    "                    \n",
    "                print(\"Epoch: {}/{}..\".format(e+1, epochs),\n",
    "                  \"Validation loss: {:.4f}..\".format(val_loss/ii),\n",
    "                  \"Training loss: {:.4f}..\".format(running_loss/print_every),\n",
    "                  \"{:.4f} s/batch\".format((stop - start)/print_every)\n",
    "                 )\n",
    "                loss_val.append(val_loss/ii)\n",
    "                running_loss = 0\n",
    "                start = time.time()\n",
    "    loss_train.append(total_train_loss/steps_bis)"
   ]
  },
  {
   "cell_type": "code",
   "execution_count": null,
   "metadata": {},
   "outputs": [],
   "source": [
    "output_test = lstm.predict(inputs_test)\n",
    "output_test = output_test.data.numpy()"
   ]
  },
  {
   "cell_type": "markdown",
   "metadata": {},
   "source": [
    "## Post processing step\n",
    "Go back to coordinate:\n",
    "We have Vx and Vy and we want x and y.\n",
    "$ V = d/t$\n",
    "$ d = V*t$\n",
    "Here t = 0.4s between each point.\n",
    "Start from data at index 9. Then we add d_x and d_y to the last x and y."
   ]
  },
  {
   "cell_type": "code",
   "execution_count": null,
   "metadata": {},
   "outputs": [],
   "source": [
    "output_coord=np.zeros([11,len(data_test),2])\n",
    "for j in range(11):\n",
    "    for i in range(len(data_test)):\n",
    "        if j==0:\n",
    "            output_coord[j,i,0:2] = in_test_coord[9,i,0:2]\n",
    "        else:\n",
    "            output_coord[j,i,0:2] = output_coord[j-1,i,0:2]+output_test[j-1,i,2:]*0.4\n",
    "        "
   ]
  },
  {
   "cell_type": "code",
   "execution_count": null,
   "metadata": {},
   "outputs": [],
   "source": [
    "dist = np.zeros(len(data_test))\n",
    "for i in range(len(data_test)):\n",
    "    dist[i] = np.sqrt(sum((gt_test_coord[10,i,:]-output_coord[10,i,:])**2))\n",
    "\n",
    "final_coord_error = np.mean(dist)\n",
    "print('The final distance between the ground trought and the predicted coordinates is :',final_coord_error.round(3))"
   ]
  },
  {
   "cell_type": "code",
   "execution_count": null,
   "metadata": {},
   "outputs": [],
   "source": [
    "avr = np.zeros((len(data_test),11))\n",
    "for i in range(len(data_test)):\n",
    "    for j in range(11):\n",
    "        avr[i,j] = np.sqrt(sum((gt_test_coord[j,i,:]-output_coord[j,i,:])**2))\n",
    "\n",
    "average = np.mean(np.mean(avr,1))\n",
    "print('The average error between the ground trought and the predicted coordinates is :',average.round(3))"
   ]
  },
  {
   "cell_type": "code",
   "execution_count": null,
   "metadata": {},
   "outputs": [],
   "source": [
    "for i in range(20):\n",
    "    plt.figure(figsize=(12, 7))\n",
    "\n",
    "    plt.plot(in_test_coord[:,(i*20)+800,0],in_test_coord[:,i*20+800,1],c='b')\n",
    "    plt.plot(gt_test_coord[:,i*20+800,0],gt_test_coord[:,i*20+800,1],c='k')\n",
    "    plt.plot(output_coord[:,i*20+800,0],output_coord[:,i*20+800,1],c='r')\n",
    "    plt.axis('equal')"
   ]
  },
  {
   "cell_type": "code",
   "execution_count": null,
   "metadata": {},
   "outputs": [],
   "source": [
    "epoch = np.arange(1,epochs+1)\n",
    "plt.figure(figsize=(12, 7))\n",
    "plt.rc('font', family='serif')\n",
    "plt.rc('font', size=20)\n",
    "\n",
    "plt.plot(epoch,loss_train,label='Training loss')\n",
    "plt.plot(epoch,loss_val,c='k',label='Validation loss')\n",
    "plt.xlabel('epoch')\n",
    "plt.ylabel('MSE error')\n",
    "plt.legend()"
   ]
  },
  {
   "cell_type": "code",
   "execution_count": null,
   "metadata": {},
   "outputs": [],
   "source": [
    "epoch = np.arange(1,epochs+1,0.5)\n",
    "epoch"
   ]
  },
  {
   "cell_type": "code",
   "execution_count": null,
   "metadata": {},
   "outputs": [],
   "source": [
    "epoch"
   ]
  },
  {
   "cell_type": "code",
   "execution_count": null,
   "metadata": {},
   "outputs": [],
   "source": [
    "inputs_train.shape[2]"
   ]
  },
  {
   "cell_type": "code",
   "execution_count": null,
   "metadata": {},
   "outputs": [],
   "source": [
    "inputs_test[input_test]"
   ]
  }
 ],
 "metadata": {
  "kernelspec": {
   "display_name": "Python 3",
   "language": "python",
   "name": "python3"
  },
  "language_info": {
   "codemirror_mode": {
    "name": "ipython",
    "version": 3
   },
   "file_extension": ".py",
   "mimetype": "text/x-python",
   "name": "python",
   "nbconvert_exporter": "python",
   "pygments_lexer": "ipython3",
   "version": "3.6.4"
  }
 },
 "nbformat": 4,
 "nbformat_minor": 2
}
