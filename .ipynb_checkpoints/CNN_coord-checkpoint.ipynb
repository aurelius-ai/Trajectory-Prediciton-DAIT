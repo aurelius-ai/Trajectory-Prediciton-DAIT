{
 "cells": [
  {
   "cell_type": "code",
   "execution_count": 27,
   "metadata": {},
   "outputs": [
    {
     "data": {
      "text/plain": [
       "<torch._C.Generator at 0x110cbf710>"
      ]
     },
     "execution_count": 27,
     "metadata": {},
     "output_type": "execute_result"
    }
   ],
   "source": [
    "import torch\n",
    "from torch import nn\n",
    "from torch.autograd import Variable\n",
    "import torchvision.datasets as dsets\n",
    "import torchvision.transforms as transforms\n",
    "import matplotlib.pyplot as plt\n",
    "from CNN2D_velocities import *\n",
    "import pandas as pd\n",
    "import numpy as np\n",
    "import torch.utils.data as utils\n",
    "import time\n",
    "import os\n",
    "import pickle\n",
    "\n",
    "import pdb\n",
    "\n",
    "# For the notebook\n",
    "%matplotlib inline\n",
    "%reload_ext autoreload\n",
    "%autoreload 2\n",
    "\n",
    "torch.manual_seed(1)"
   ]
  },
  {
   "cell_type": "markdown",
   "metadata": {},
   "source": [
    "## TRAIN SET"
   ]
  },
  {
   "cell_type": "code",
   "execution_count": 14,
   "metadata": {
    "scrolled": false
   },
   "outputs": [
    {
     "data": {
      "text/plain": [
       "(torch.Size([5157, 1, 10, 162]), torch.Size([5157, 1, 11, 2]))"
      ]
     },
     "execution_count": 14,
     "metadata": {},
     "output_type": "execute_result"
    }
   ],
   "source": [
    "gt_train_coord = pickle.load( open( \"./import_dataset_2/train/gt_train_coord.pkl\", \"rb\" ) )\n",
    "gt_train  = pickle.load( open( \"./import_dataset_2/train/gt_train.pkl\", \"rb\" ) )\n",
    "in_train_coord  = pickle.load( open( \"./import_dataset_2/train/in_train_coord.pkl\", \"rb\" ) )\n",
    "inputs_train = pickle.load( open( \"./import_dataset_2/train/inputs_train.pkl\", \"rb\" ) )\n",
    "\n",
    "coord_ind = np.append(np.arange(0,2),np.arange(4,164))\n",
    "inputs_train = inputs_train[:,:,coord_ind]\n",
    "gt_train = gt_train[:,:,:2]\n",
    "\n",
    "inputs_train = torch.from_numpy(inputs_train).float()\n",
    "gt_train = torch.from_numpy(gt_train).float()\n",
    "\n",
    "gt_train = gt_train.unsqueeze(1) # add 1 dimension to the training set\n",
    "inputs_train = inputs_train.unsqueeze(1) # add 1 dimension to the training set\n",
    "\n",
    "inputs_train.shape,gt_train.shape"
   ]
  },
  {
   "cell_type": "markdown",
   "metadata": {},
   "source": [
    "## VALIDATION SET"
   ]
  },
  {
   "cell_type": "code",
   "execution_count": 15,
   "metadata": {},
   "outputs": [
    {
     "name": "stdout",
     "output_type": "stream",
     "text": [
      "torch.Size([1719, 1, 10, 162])\n"
     ]
    },
    {
     "data": {
      "text/plain": [
       "((11, 1719, 2),\n",
       " torch.Size([1719, 1, 11, 2]),\n",
       " (10, 1719, 2),\n",
       " torch.Size([1719, 1, 10, 162]))"
      ]
     },
     "execution_count": 15,
     "metadata": {},
     "output_type": "execute_result"
    }
   ],
   "source": [
    "gt_validation_coord = pickle.load( open( \"./import_dataset_2/validation/gt_validation_coord.pkl\", \"rb\" ) )\n",
    "gt_validation = pickle.load( open( \"./import_dataset_2/validation/gt_validation.pkl\", \"rb\" ) )\n",
    "in_validation_coord = pickle.load( open( \"./import_dataset_2/validation/in_validation_coord.pkl\", \"rb\" ) )\n",
    "inputs_validation = pickle.load( open( \"./import_dataset_2/validation/inputs_validation.pkl\", \"rb\" ) )\n",
    "\n",
    "coord_ind = np.append(np.arange(0,2),np.arange(4,164))\n",
    "inputs_validation = inputs_validation[:,:,coord_ind]\n",
    "gt_validation = gt_validation[:,:,:2]\n",
    "\n",
    "inputs_validation = torch.from_numpy(inputs_validation).float()\n",
    "gt_validation = torch.from_numpy(gt_validation).float()\n",
    "\n",
    "gt_validation = gt_validation.unsqueeze(1) # add 1 dimension to the training set\n",
    "inputs_validation = inputs_validation.unsqueeze(1) # add 1 dimension to the training set\n",
    "print (inputs_validation.shape)\n",
    "\n",
    "gt_validation_coord.shape,gt_validation.shape,in_validation_coord.shape,inputs_validation.shape"
   ]
  },
  {
   "cell_type": "markdown",
   "metadata": {},
   "source": [
    "## TEST SET"
   ]
  },
  {
   "cell_type": "code",
   "execution_count": 16,
   "metadata": {},
   "outputs": [],
   "source": [
    "gt_test_coord_1 = pickle.load( open( \"./import_dataset_2/test/gt_test_coord_1.pkl\", \"rb\" ) )\n",
    "gt_test_1 = pickle.load( open( \"./import_dataset_2/test/gt_test_1.pkl\", \"rb\" ) )\n",
    "in_test_coord_1 = pickle.load( open( \"./import_dataset_2/test/in_test_coord_1.pkl\", \"rb\" ) )\n",
    "inputs_test_1 = pickle.load( open( \"./import_dataset_2/test/inputs_test_1.pkl\", \"rb\" ) )\n",
    "\n",
    "gt_test_coord_2 = pickle.load( open( \"./import_dataset_2/test/gt_test_coord_2.pkl\", \"rb\" ) )\n",
    "gt_test_2 = pickle.load( open( \"./import_dataset_2/test/gt_test_2.pkl\", \"rb\" ) )\n",
    "in_test_coord_2 = pickle.load( open( \"./import_dataset_2/test/in_test_coord_2.pkl\", \"rb\" ) )\n",
    "inputs_test_2 = pickle.load( open( \"./import_dataset_2/test/inputs_test_2.pkl\", \"rb\" ) )\n",
    "\n",
    "gt_test_coord_3 = pickle.load( open( \"./import_dataset_2/test/gt_test_coord_3.pkl\", \"rb\" ) )\n",
    "gt_test_3 = pickle.load( open( \"./import_dataset_2/test/gt_test_3.pkl\", \"rb\" ) )\n",
    "in_test_coord_3 = pickle.load( open( \"./import_dataset_2/test/in_test_coord_3.pkl\", \"rb\" ) )\n",
    "inputs_test_3 = pickle.load( open( \"./import_dataset_2/test/inputs_test_3.pkl\", \"rb\" ) )\n",
    "\n",
    "inputs_test_1 = torch.from_numpy(inputs_test_1).float()\n",
    "gt_test_1 = torch.from_numpy(gt_test_1).float()\n",
    "inputs_test_1 = inputs_test_1.unsqueeze(1) \n",
    "\n",
    "inputs_test_2 = torch.from_numpy(inputs_test_2).float()\n",
    "gt_test_2 = torch.from_numpy(gt_test_2).float()\n",
    "inputs_test_2 = inputs_test_2.unsqueeze(1)\n",
    "\n",
    "inputs_test_3 = torch.from_numpy(inputs_test_3).float()\n",
    "gt_test_3 = torch.from_numpy(gt_test_3).float()\n",
    "inputs_test_3 = inputs_test_3.unsqueeze(1)"
   ]
  },
  {
   "cell_type": "markdown",
   "metadata": {},
   "source": [
    "### Model"
   ]
  },
  {
   "cell_type": "code",
   "execution_count": 33,
   "metadata": {
    "collapsed": true
   },
   "outputs": [],
   "source": [
    "net = CNN2D_velocities()\n",
    "criterion = torch.nn.MSELoss()\n",
    "optimizer = torch.optim.Adam(net.parameters(), lr=0.0001, weight_decay=1e-4)\n",
    "\n",
    "traindataset = utils.TensorDataset(inputs_train, gt_train[:,:,1:,:])\n",
    "trainloader = utils.DataLoader(traindataset, batch_size=16, shuffle=True)\n",
    "\n",
    "valdataset = utils.TensorDataset(inputs_validation, gt_validation[:,:,1:,:])\n",
    "valloader = utils.DataLoader(valdataset, batch_size=16, shuffle=True)"
   ]
  },
  {
   "cell_type": "code",
   "execution_count": 34,
   "metadata": {
    "scrolled": true
   },
   "outputs": [
    {
     "name": "stdout",
     "output_type": "stream",
     "text": [
      "Epoch: 1/50.. Validation Loss: 3.4431.. Training Loss: 5.2239.. 0.0058 s/batch \n",
      "Epoch: 2/50.. Validation Loss: 2.2652.. Training Loss: 2.7328.. 0.0059 s/batch \n",
      "Epoch: 3/50.. Validation Loss: 1.8724.. Training Loss: 2.0544.. 0.0054 s/batch \n",
      "Epoch: 4/50.. Validation Loss: 1.6320.. Training Loss: 1.7072.. 0.0056 s/batch \n",
      "Epoch: 5/50.. Validation Loss: 1.4285.. Training Loss: 1.4450.. 0.0054 s/batch \n",
      "Epoch: 6/50.. Validation Loss: 1.2705.. Training Loss: 1.2549.. 0.0053 s/batch \n",
      "Epoch: 7/50.. Validation Loss: 1.1298.. Training Loss: 1.1223.. 0.0053 s/batch \n",
      "Epoch: 8/50.. Validation Loss: 1.0496.. Training Loss: 1.0095.. 0.0053 s/batch \n",
      "Epoch: 9/50.. Validation Loss: 0.9832.. Training Loss: 0.9193.. 0.0053 s/batch \n",
      "Epoch: 10/50.. Validation Loss: 0.9511.. Training Loss: 0.8512.. 0.0052 s/batch \n",
      "Epoch: 11/50.. Validation Loss: 0.8931.. Training Loss: 0.8138.. 0.0053 s/batch \n",
      "Epoch: 12/50.. Validation Loss: 0.8809.. Training Loss: 0.7741.. 0.0054 s/batch \n",
      "Epoch: 13/50.. Validation Loss: 0.8239.. Training Loss: 0.7406.. 0.0056 s/batch \n",
      "Epoch: 14/50.. Validation Loss: 0.8352.. Training Loss: 0.7208.. 0.0054 s/batch \n",
      "Epoch: 15/50.. Validation Loss: 0.7741.. Training Loss: 0.6720.. 0.0055 s/batch \n",
      "Epoch: 16/50.. Validation Loss: 0.7339.. Training Loss: 0.6766.. 0.0057 s/batch \n",
      "Epoch: 17/50.. Validation Loss: 0.7896.. Training Loss: 0.6317.. 0.0057 s/batch \n",
      "Epoch: 18/50.. Validation Loss: 0.7211.. Training Loss: 0.6275.. 0.0053 s/batch \n",
      "Epoch: 19/50.. Validation Loss: 0.7219.. Training Loss: 0.6071.. 0.0053 s/batch \n",
      "Epoch: 20/50.. Validation Loss: 0.7470.. Training Loss: 0.5891.. 0.0053 s/batch \n",
      "Epoch: 21/50.. Validation Loss: 0.6952.. Training Loss: 0.6054.. 0.0053 s/batch \n",
      "Epoch: 22/50.. Validation Loss: 0.7230.. Training Loss: 0.5683.. 0.0055 s/batch \n",
      "Epoch: 23/50.. Validation Loss: 0.6868.. Training Loss: 0.5643.. 0.0059 s/batch \n",
      "Epoch: 24/50.. Validation Loss: 0.7174.. Training Loss: 0.5480.. 0.0057 s/batch \n",
      "Epoch: 25/50.. Validation Loss: 0.6943.. Training Loss: 0.5336.. 0.0065 s/batch \n",
      "Epoch: 26/50.. Validation Loss: 0.6737.. Training Loss: 0.5361.. 0.0056 s/batch \n",
      "Epoch: 27/50.. Validation Loss: 0.6708.. Training Loss: 0.5168.. 0.0056 s/batch \n",
      "Epoch: 28/50.. Validation Loss: 0.6640.. Training Loss: 0.5203.. 0.0056 s/batch \n",
      "Epoch: 29/50.. Validation Loss: 0.6711.. Training Loss: 0.5023.. 0.0058 s/batch \n",
      "Epoch: 30/50.. Validation Loss: 0.6359.. Training Loss: 0.5144.. 0.0056 s/batch \n",
      "Epoch: 31/50.. Validation Loss: 0.6429.. Training Loss: 0.4910.. 0.0067 s/batch \n",
      "Epoch: 32/50.. Validation Loss: 0.6463.. Training Loss: 0.4987.. 0.0055 s/batch \n",
      "Epoch: 33/50.. Validation Loss: 0.6167.. Training Loss: 0.4805.. 0.0059 s/batch \n",
      "Epoch: 34/50.. Validation Loss: 0.6262.. Training Loss: 0.4798.. 0.0060 s/batch \n",
      "Epoch: 35/50.. Validation Loss: 0.6305.. Training Loss: 0.4799.. 0.0062 s/batch \n",
      "Epoch: 36/50.. Validation Loss: 0.6033.. Training Loss: 0.4711.. 0.0056 s/batch \n",
      "Epoch: 37/50.. Validation Loss: 0.6132.. Training Loss: 0.4829.. 0.0054 s/batch \n",
      "Epoch: 38/50.. Validation Loss: 0.6133.. Training Loss: 0.4724.. 0.0055 s/batch \n",
      "Epoch: 39/50.. Validation Loss: 0.6221.. Training Loss: 0.4630.. 0.0052 s/batch \n",
      "Epoch: 40/50.. Validation Loss: 0.6038.. Training Loss: 0.4512.. 0.0057 s/batch \n",
      "Epoch: 41/50.. Validation Loss: 0.6153.. Training Loss: 0.4539.. 0.0053 s/batch \n",
      "Epoch: 42/50.. Validation Loss: 0.6079.. Training Loss: 0.4401.. 0.0055 s/batch \n",
      "Epoch: 43/50.. Validation Loss: 0.5843.. Training Loss: 0.4481.. 0.0065 s/batch \n",
      "Epoch: 44/50.. Validation Loss: 0.5883.. Training Loss: 0.4392.. 0.0058 s/batch \n",
      "Epoch: 45/50.. Validation Loss: 0.6034.. Training Loss: 0.4455.. 0.0055 s/batch \n",
      "Epoch: 46/50.. Validation Loss: 0.5810.. Training Loss: 0.4256.. 0.0054 s/batch \n",
      "Epoch: 47/50.. Validation Loss: 0.5869.. Training Loss: 0.4344.. 0.0054 s/batch \n",
      "Epoch: 48/50.. Validation Loss: 0.5989.. Training Loss: 0.4337.. 0.0057 s/batch \n",
      "Epoch: 49/50.. Validation Loss: 0.6040.. Training Loss: 0.4367.. 0.0055 s/batch \n",
      "Epoch: 50/50.. Validation Loss: 0.5833.. Training Loss: 0.4324.. 0.0060 s/batch \n"
     ]
    }
   ],
   "source": [
    "epochs = 50\n",
    "steps = 0\n",
    "running_loss = 0\n",
    "print_every = 323\n",
    "loss_train = []\n",
    "loss_val = []\n",
    "\n",
    "for e in range(epochs):\n",
    "    start = time.time()\n",
    "    steps_bis = 0\n",
    "    total_train_loss=0\n",
    "    for train_coord, ground_tru in iter(trainloader):\n",
    "        \n",
    "        steps += 1\n",
    "        steps_bis += 1\n",
    "        \n",
    "        input_train = Variable(train_coord)\n",
    "        in_train = input_train.squeeze(1)\n",
    "        target = Variable(ground_tru)\n",
    "        targets = target.squeeze(1)\n",
    "        optimizer.zero_grad()\n",
    "        out = net.forward(input_train)\n",
    "        out = out.reshape(out.shape[0],10,2)\n",
    "        loss1 = (criterion(out[:,:,0:2], targets[:,:,0:2]))\n",
    "        \n",
    "        loss1.backward(retain_graph=True)\n",
    "        optimizer.step()\n",
    "        \n",
    "        running_loss += (loss1).item()\n",
    "        total_train_loss += (loss1).item()\n",
    "        \n",
    "        if steps % print_every == 0:\n",
    "            stop = time.time()\n",
    "            val_loss=0\n",
    "            \n",
    "            for ii, (images, labels) in enumerate(valloader):\n",
    "                \n",
    "                inp = Variable(images)\n",
    "                input_val = inp.squeeze(1)\n",
    "                lab = Variable(labels)\n",
    "                valgt = lab.squeeze(1)\n",
    "                predicted = net.predict(inp)\n",
    "                predicted = predicted.reshape(predicted.shape[0],10,2)\n",
    "                val_loss+= (criterion(predicted[:,:,0:2],valgt[:,:,0:2]).item())\n",
    "                \n",
    "            print(\"Epoch: {}/{}..\".format(e+1, epochs),\n",
    "                  \"Validation Loss: {:.4f}..\".format(val_loss/ii),\n",
    "                  \"Training Loss: {:.4f}..\".format(running_loss/print_every),\n",
    "                  \"{:.4f} s/batch \".format((stop - start)/print_every),\n",
    "                 )\n",
    "            loss_val.append(val_loss/ii)\n",
    "            running_loss = 0\n",
    "            start = time.time()\n",
    "    loss_train.append(total_train_loss/steps_bis)"
   ]
  },
  {
   "cell_type": "code",
   "execution_count": 36,
   "metadata": {
    "scrolled": false
   },
   "outputs": [
    {
     "data": {
      "text/plain": [
       "<matplotlib.legend.Legend at 0x1208e82e8>"
      ]
     },
     "execution_count": 36,
     "metadata": {},
     "output_type": "execute_result"
    },
    {
     "data": {
      "image/png": "[encoded data removed]",
      "text/plain": [
       "<matplotlib.figure.Figure at 0x11a352f60>"
      ]
     },
     "metadata": {},
     "output_type": "display_data"
    }
   ],
   "source": [
    "epoch = np.arange(1,epochs+1)\n",
    "plt.figure(figsize=(12, 7))\n",
    "plt.rc('font', family='serif')\n",
    "plt.rc('font', size=20)\n",
    "\n",
    "plt.plot(epoch,loss_train,label='Training loss')\n",
    "plt.plot(epoch,loss_val,c='k',label='Validation loss')\n",
    "plt.xlabel('epoch')\n",
    "plt.ylabel('MSE error')\n",
    "plt.legend()\n",
    "#plt.savefig(r'./figures/loss_coord.pdf', bbox_inches='tight')"
   ]
  },
  {
   "cell_type": "code",
   "execution_count": null,
   "metadata": {
    "collapsed": true
   },
   "outputs": [],
   "source": []
  }
 ],
 "metadata": {
  "kernelspec": {
   "display_name": "Python 3",
   "language": "python",
   "name": "python3"
  },
  "language_info": {
   "codemirror_mode": {
    "name": "ipython",
    "version": 3
   },
   "file_extension": ".py",
   "mimetype": "text/x-python",
   "name": "python",
   "nbconvert_exporter": "python",
   "pygments_lexer": "ipython3",
   "version": "3.6.3"
  }
 },
 "nbformat": 4,
 "nbformat_minor": 2
}
