{
 "cells": [
  {
   "cell_type": "code",
   "execution_count": 1,
   "metadata": {},
   "outputs": [
    {
     "data": {
      "text/plain": [
       "<torch._C.Generator at 0x107d064d0>"
      ]
     },
     "execution_count": 1,
     "metadata": {},
     "output_type": "execute_result"
    }
   ],
   "source": [
    "import torch\n",
    "from torch import nn\n",
    "from torch.autograd import Variable\n",
    "import torchvision.datasets as dsets\n",
    "import torchvision.transforms as transforms\n",
    "import matplotlib.pyplot as plt\n",
    "from LSTM import *\n",
    "import pandas as pd\n",
    "import numpy as np\n",
    "\n",
    "torch.manual_seed(1)"
   ]
  },
  {
   "cell_type": "code",
   "execution_count": 2,
   "metadata": {},
   "outputs": [],
   "source": [
    "lstm = LSTM(2)\n",
    "index = [15,28,29,40,41,81,82,84,85,86,98,106,107,108,109,132,137,141]\n",
    "data = {}\n",
    "for i in index:\n",
    "    data['%s'%i] = pd.read_csv('data_new/4/biwi_%s.txt'%i, \n",
    "                               header = None, names = ['frameNb','id', 'x','y'],delimiter=' ')\n"
   ]
  },
  {
   "cell_type": "code",
   "execution_count": 14,
   "metadata": {},
   "outputs": [],
   "source": [
    "a = 0\n",
    "inputs = np.zeros([10,len(index),2])\n",
    "gt = np.zeros([11,len(index),2])\n",
    "\n",
    "for i in index:\n",
    "    inputs[:,a,:] = np.array(data['%s'%i].loc[0:9,['x','y']])\n",
    "    gt[:,a,:] = np.array(data['%s'%i].loc[9:,['x','y']])\n",
    "    a +=1\n",
    "    \n",
    "inputs = torch.from_numpy(inputs).float()\n",
    "gt = torch.from_numpy(gt).float()\n",
    "\n",
    "h0 = torch.randn(1, 18, 2)\n",
    "c0 = torch.randn(1, 18, 2)"
   ]
  },
  {
   "cell_type": "code",
   "execution_count": 15,
   "metadata": {},
   "outputs": [],
   "source": [
    "output = lstm(inputs)"
   ]
  },
  {
   "cell_type": "code",
   "execution_count": 20,
   "metadata": {},
   "outputs": [],
   "source": [
    "from torch import optim\n",
    "\n",
    "optimizer = optim.SGD(lstm.parameters(), lr=0.1)\n",
    "criterion = nn.MSELoss()\n",
    "loss = criterion(output,gt[1:,:,:])"
   ]
  },
  {
   "cell_type": "code",
   "execution_count": 6,
   "metadata": {},
   "outputs": [
    {
     "data": {
      "text/plain": [
       "torch.Size([10, 18, 2])"
      ]
     },
     "execution_count": 6,
     "metadata": {},
     "output_type": "execute_result"
    }
   ],
   "source": [
    "output.shape"
   ]
  },
  {
   "cell_type": "code",
   "execution_count": 7,
   "metadata": {},
   "outputs": [],
   "source": [
    "inputs = inputs.numpy()\n",
    "output = output.data.numpy()"
   ]
  },
  {
   "cell_type": "code",
   "execution_count": 10,
   "metadata": {},
   "outputs": [
    {
     "data": {
      "text/plain": [
       "(-0.1347477705, 2.8297031805, -0.6090313142346239, 11.566503605439744)"
      ]
     },
     "execution_count": 10,
     "metadata": {},
     "output_type": "execute_result"
    },
    {
     "data": {
      "image/png": "[encoded data removed]",
      "text/plain": [
       "<matplotlib.figure.Figure at 0x1147de8d0>"
      ]
     },
     "metadata": {},
     "output_type": "display_data"
    }
   ],
   "source": [
    "plt.plot(inputs[:,0,0],inputs[:,0,1])\n",
    "plt.plot(output[:,0,0],output[:,0,1])\n",
    "plt.plot(gt[:,0,0],gt[:,0,1])\n",
    "plt.axis('equal')"
   ]
  },
  {
   "cell_type": "code",
   "execution_count": 9,
   "metadata": {},
   "outputs": [
    {
     "data": {
      "text/plain": [
       "array([[[ 0.04165836, -0.04808732],\n",
       "        [ 0.06386506, -0.05996026],\n",
       "        [ 0.07621833, -0.06188985],\n",
       "        [ 0.08312603, -0.06130339],\n",
       "        [ 0.08698089, -0.06037258],\n",
       "        [ 0.08912613, -0.05963678],\n",
       "        [ 0.09031782, -0.05915128],\n",
       "        [ 0.09097942, -0.05885604],\n",
       "        [ 0.09134686, -0.05868424],\n",
       "        [ 0.09155114, -0.05858683],\n",
       "        [ 0.0916649 , -0.05853245],\n",
       "        [ 0.09172833, -0.05850237],\n",
       "        [ 0.09176378, -0.05848582],\n",
       "        [ 0.09178361, -0.05847673],\n",
       "        [ 0.09179473, -0.05847173],\n",
       "        [ 0.09180097, -0.058469  ],\n",
       "        [ 0.09180447, -0.05846749],\n",
       "        [ 0.09180645, -0.05846665]],\n",
       "\n",
       "       [[ 0.04213501, -0.05080967],\n",
       "        [ 0.06450779, -0.06363042],\n",
       "        [ 0.07678461, -0.06565227],\n",
       "        [ 0.08350394, -0.06474093],\n",
       "        [ 0.08677998, -0.06235941],\n",
       "        [ 0.0894027 , -0.06210304],\n",
       "        [ 0.09049815, -0.06168802],\n",
       "        [ 0.0911293 , -0.06152647],\n",
       "        [ 0.09150799, -0.06162075],\n",
       "        [ 0.09156279, -0.06149154],\n",
       "        [ 0.09143631, -0.06099681],\n",
       "        [ 0.09150294, -0.06075931],\n",
       "        [ 0.09171294, -0.06097394],\n",
       "        [ 0.09164874, -0.06085368],\n",
       "        [ 0.09183948, -0.06121137],\n",
       "        [ 0.09110118, -0.05964563],\n",
       "        [ 0.09152162, -0.05966923],\n",
       "        [ 0.09180599, -0.06009312]],\n",
       "\n",
       "       [[ 0.04237837, -0.05243379],\n",
       "        [ 0.06511248, -0.06694247],\n",
       "        [ 0.07727768, -0.06912924],\n",
       "        [ 0.08391833, -0.06824194],\n",
       "        [ 0.08680952, -0.06518454],\n",
       "        [ 0.08948879, -0.06450693],\n",
       "        [ 0.09051215, -0.06393669],\n",
       "        [ 0.09109354, -0.06392086],\n",
       "        [ 0.0914574 , -0.06432577],\n",
       "        [ 0.09137705, -0.06417062],\n",
       "        [ 0.09097397, -0.06309108],\n",
       "        [ 0.09057299, -0.06166368],\n",
       "        [ 0.091457  , -0.06271001],\n",
       "        [ 0.0912856 , -0.06249576],\n",
       "        [ 0.09167591, -0.0632029 ],\n",
       "        [ 0.09061734, -0.06127947],\n",
       "        [ 0.09095366, -0.06092468],\n",
       "        [ 0.09128037, -0.06077064]],\n",
       "\n",
       "       [[ 0.04252429, -0.053672  ],\n",
       "        [ 0.06550262, -0.06948728],\n",
       "        [ 0.07763389, -0.07211999],\n",
       "        [ 0.08412622, -0.07127618],\n",
       "        [ 0.0866257 , -0.06756193],\n",
       "        [ 0.08952686, -0.06711579],\n",
       "        [ 0.09045777, -0.06652337],\n",
       "        [ 0.09091111, -0.06644149],\n",
       "        [ 0.09120002, -0.06689703],\n",
       "        [ 0.09099014, -0.0666846 ],\n",
       "        [ 0.09016322, -0.06479289],\n",
       "        [ 0.08974531, -0.06331497],\n",
       "        [ 0.09082717, -0.0645442 ],\n",
       "        [ 0.09052746, -0.06396551],\n",
       "        [ 0.0911422 , -0.06487803],\n",
       "        [ 0.08957145, -0.06190179],\n",
       "        [ 0.0900673 , -0.06131039],\n",
       "        [ 0.0906573 , -0.0611242 ]],\n",
       "\n",
       "       [[ 0.04268022, -0.05492252],\n",
       "        [ 0.06580187, -0.0716592 ],\n",
       "        [ 0.07809369, -0.07536191],\n",
       "        [ 0.08433443, -0.07453306],\n",
       "        [ 0.08644103, -0.07008681],\n",
       "        [ 0.08926447, -0.06912785],\n",
       "        [ 0.09006525, -0.06828044],\n",
       "        [ 0.09031657, -0.0680097 ],\n",
       "        [ 0.09054238, -0.06871054],\n",
       "        [ 0.09019991, -0.06865416],\n",
       "        [ 0.08914898, -0.06652496],\n",
       "        [ 0.08868372, -0.06495012],\n",
       "        [ 0.08991969, -0.06644098],\n",
       "        [ 0.08955036, -0.06563379],\n",
       "        [ 0.09024826, -0.06648298],\n",
       "        [ 0.08825242, -0.06234303],\n",
       "        [ 0.08884485, -0.06127571],\n",
       "        [ 0.08986641, -0.06158834]],\n",
       "\n",
       "       [[ 0.04265373, -0.05539707],\n",
       "        [ 0.065836  , -0.0728131 ],\n",
       "        [ 0.07823241, -0.07737522],\n",
       "        [ 0.08433118, -0.0769358 ],\n",
       "        [ 0.08617303, -0.07246272],\n",
       "        [ 0.08891422, -0.07124835],\n",
       "        [ 0.08955202, -0.07000154],\n",
       "        [ 0.08960311, -0.06951729],\n",
       "        [ 0.08956743, -0.07005035],\n",
       "        [ 0.08908667, -0.07011452],\n",
       "        [ 0.08786082, -0.06796338],\n",
       "        [ 0.08731864, -0.06631934],\n",
       "        [ 0.08848807, -0.0675964 ],\n",
       "        [ 0.08821151, -0.06688828],\n",
       "        [ 0.08878204, -0.06749412],\n",
       "        [ 0.08651516, -0.06234763],\n",
       "        [ 0.08724318, -0.06073827],\n",
       "        [ 0.08862738, -0.06117708]],\n",
       "\n",
       "       [[ 0.04255219, -0.05552313],\n",
       "        [ 0.06560062, -0.07298004],\n",
       "        [ 0.0778797 , -0.07780335],\n",
       "        [ 0.08374871, -0.07746168],\n",
       "        [ 0.08537819, -0.07304778],\n",
       "        [ 0.08810502, -0.07204068],\n",
       "        [ 0.08867245, -0.07091521],\n",
       "        [ 0.08856447, -0.07059592],\n",
       "        [ 0.08824514, -0.07096113],\n",
       "        [ 0.08762351, -0.07116605],\n",
       "        [ 0.08623751, -0.06904311],\n",
       "        [ 0.0855943 , -0.0671858 ],\n",
       "        [ 0.08678742, -0.06817371],\n",
       "        [ 0.08666021, -0.06741788],\n",
       "        [ 0.08719238, -0.06788835],\n",
       "        [ 0.08513647, -0.06296863],\n",
       "        [ 0.08549033, -0.06047168],\n",
       "        [ 0.08712504, -0.06066464]],\n",
       "\n",
       "       [[ 0.04245206, -0.05559791],\n",
       "        [ 0.06540305, -0.07309842],\n",
       "        [ 0.07764488, -0.07815804],\n",
       "        [ 0.08337913, -0.07814278],\n",
       "        [ 0.08486657, -0.07406066],\n",
       "        [ 0.08738437, -0.07282053],\n",
       "        [ 0.08779591, -0.07151482],\n",
       "        [ 0.08740559, -0.07100396],\n",
       "        [ 0.08675323, -0.07105877],\n",
       "        [ 0.0860145 , -0.07148273],\n",
       "        [ 0.08465453, -0.06995758],\n",
       "        [ 0.08402808, -0.06843214],\n",
       "        [ 0.08507526, -0.06919295],\n",
       "        [ 0.08520088, -0.06894701],\n",
       "        [ 0.08542962, -0.06901652],\n",
       "        [ 0.08365151, -0.06427424],\n",
       "        [ 0.08385817, -0.06117999],\n",
       "        [ 0.08559861, -0.06088525]],\n",
       "\n",
       "       [[ 0.04225734, -0.05531363],\n",
       "        [ 0.06496377, -0.07243817],\n",
       "        [ 0.07695178, -0.07723107],\n",
       "        [ 0.08241031, -0.07737137],\n",
       "        [ 0.08375997, -0.07364161],\n",
       "        [ 0.08602349, -0.07248667],\n",
       "        [ 0.08636952, -0.07132587],\n",
       "        [ 0.08576231, -0.07067166],\n",
       "        [ 0.08483409, -0.07034653],\n",
       "        [ 0.08405857, -0.07093816],\n",
       "        [ 0.08300374, -0.07069926],\n",
       "        [ 0.08229005, -0.06930321],\n",
       "        [ 0.08306902, -0.06946365],\n",
       "        [ 0.08336617, -0.06928169],\n",
       "        [ 0.08338355, -0.06897874],\n",
       "        [ 0.08153375, -0.06306863],\n",
       "        [ 0.08214224, -0.06021422],\n",
       "        [ 0.08418044, -0.06055061]],\n",
       "\n",
       "       [[ 0.04207078, -0.05499532],\n",
       "        [ 0.06457546, -0.07175907],\n",
       "        [ 0.07641953, -0.07635798],\n",
       "        [ 0.08178574, -0.07680885],\n",
       "        [ 0.08297673, -0.07324843],\n",
       "        [ 0.08477873, -0.07181839],\n",
       "        [ 0.08499791, -0.07074192],\n",
       "        [ 0.08416507, -0.07000053],\n",
       "        [ 0.08302038, -0.06938113],\n",
       "        [ 0.08229548, -0.07011786],\n",
       "        [ 0.08164958, -0.07128496],\n",
       "        [ 0.08085687, -0.07029241],\n",
       "        [ 0.08115171, -0.06977777],\n",
       "        [ 0.08158614, -0.06976447],\n",
       "        [ 0.08144671, -0.06911886],\n",
       "        [ 0.07972357, -0.06245321],\n",
       "        [ 0.08044039, -0.05940269],\n",
       "        [ 0.08263015, -0.05992499]]], dtype=float32)"
      ]
     },
     "execution_count": 9,
     "metadata": {},
     "output_type": "execute_result"
    }
   ],
   "source": [
    "output"
   ]
  },
  {
   "cell_type": "code",
   "execution_count": null,
   "metadata": {},
   "outputs": [],
   "source": [
    "print(lstm)"
   ]
  },
  {
   "cell_type": "code",
   "execution_count": 18,
   "metadata": {},
   "outputs": [
    {
     "data": {
      "text/plain": [
       "tensor(28.3105)"
      ]
     },
     "execution_count": 18,
     "metadata": {},
     "output_type": "execute_result"
    }
   ],
   "source": [
    "loss"
   ]
  },
  {
   "cell_type": "code",
   "execution_count": null,
   "metadata": {},
   "outputs": [],
   "source": []
  }
 ],
 "metadata": {
  "kernelspec": {
   "display_name": "Python 3",
   "language": "python",
   "name": "python3"
  },
  "language_info": {
   "codemirror_mode": {
    "name": "ipython",
    "version": 3
   },
   "file_extension": ".py",
   "mimetype": "text/x-python",
   "name": "python",
   "nbconvert_exporter": "python",
   "pygments_lexer": "ipython3",
   "version": "3.6.4"
  }
 },
 "nbformat": 4,
 "nbformat_minor": 2
}
