{
 "cells": [
  {
   "cell_type": "code",
   "execution_count": 48,
   "metadata": {},
   "outputs": [
    {
     "data": {
      "text/plain": [
       "<torch._C.Generator at 0x1072db8b0>"
      ]
     },
     "execution_count": 48,
     "metadata": {},
     "output_type": "execute_result"
    }
   ],
   "source": [
    "import torch\n",
    "from torch import nn\n",
    "from torch.autograd import Variable\n",
    "import torchvision.datasets as dsets\n",
    "import torchvision.transforms as transforms\n",
    "import matplotlib.pyplot as plt\n",
    "from CNN2D import *\n",
    "import pandas as pd\n",
    "import numpy as np\n",
    "import torch.utils.data as utils\n",
    "import time\n",
    "import os\n",
    "import pickle\n",
    "\n",
    "import pdb\n",
    "\n",
    "# For the notebook\n",
    "%matplotlib inline\n",
    "%reload_ext autoreload\n",
    "%autoreload 2\n",
    "\n",
    "torch.manual_seed(1)"
   ]
  },
  {
   "cell_type": "markdown",
   "metadata": {},
   "source": [
    "## TRAIN SET"
   ]
  },
  {
   "cell_type": "code",
   "execution_count": 49,
   "metadata": {
    "scrolled": false
   },
   "outputs": [
    {
     "data": {
      "text/plain": [
       "(torch.Size([5157, 1, 10, 164]), torch.Size([5157, 1, 11, 4]))"
      ]
     },
     "execution_count": 49,
     "metadata": {},
     "output_type": "execute_result"
    }
   ],
   "source": [
    "gt_train_coord = pickle.load( open( \"./import_dataset_2/train/gt_train_coord.pkl\", \"rb\" ) )\n",
    "gt_train  = pickle.load( open( \"./import_dataset_2/train/gt_train.pkl\", \"rb\" ) )\n",
    "in_train_coord  = pickle.load( open( \"./import_dataset_2/train/in_train_coord.pkl\", \"rb\" ) )\n",
    "inputs_train = pickle.load( open( \"./import_dataset_2/train/inputs_train.pkl\", \"rb\" ) )\n",
    "\n",
    "inputs_train = torch.from_numpy(inputs_train).float()\n",
    "gt_train = torch.from_numpy(gt_train).float()\n",
    "\n",
    "gt_train = gt_train.unsqueeze(1) # add 1 dimension to the training set\n",
    "inputs_train = inputs_train.unsqueeze(1) # add 1 dimension to the training set\n",
    "\n",
    "inputs_train.shape,gt_train.shape"
   ]
  },
  {
   "cell_type": "markdown",
   "metadata": {},
   "source": [
    "## VALIDATION SET"
   ]
  },
  {
   "cell_type": "code",
   "execution_count": 50,
   "metadata": {},
   "outputs": [
    {
     "name": "stdout",
     "output_type": "stream",
     "text": [
      "torch.Size([1719, 1, 10, 164])\n"
     ]
    },
    {
     "data": {
      "text/plain": [
       "((11, 1719, 2),\n",
       " torch.Size([1719, 1, 11, 4]),\n",
       " (10, 1719, 2),\n",
       " torch.Size([1719, 1, 10, 164]))"
      ]
     },
     "execution_count": 50,
     "metadata": {},
     "output_type": "execute_result"
    }
   ],
   "source": [
    "gt_validation_coord = pickle.load( open( \"./import_dataset_2/validation/gt_validation_coord.pkl\", \"rb\" ) )\n",
    "gt_validation = pickle.load( open( \"./import_dataset_2/validation/gt_validation.pkl\", \"rb\" ) )\n",
    "in_validation_coord = pickle.load( open( \"./import_dataset_2/validation/in_validation_coord.pkl\", \"rb\" ) )\n",
    "inputs_validation = pickle.load( open( \"./import_dataset_2/validation/inputs_validation.pkl\", \"rb\" ) )\n",
    "\n",
    "inputs_validation = torch.from_numpy(inputs_validation).float()\n",
    "gt_validation = torch.from_numpy(gt_validation).float()\n",
    "\n",
    "gt_validation = gt_validation.unsqueeze(1) # add 1 dimension to the training set\n",
    "inputs_validation = inputs_validation.unsqueeze(1) # add 1 dimension to the training set\n",
    "print (inputs_validation.shape)\n",
    "\n",
    "gt_validation_coord.shape,gt_validation.shape,in_validation_coord.shape,inputs_validation.shape"
   ]
  },
  {
   "cell_type": "markdown",
   "metadata": {},
   "source": [
    "## TEST SET"
   ]
  },
  {
   "cell_type": "code",
   "execution_count": 51,
   "metadata": {},
   "outputs": [
    {
     "name": "stdout",
     "output_type": "stream",
     "text": [
      "torch.Size([10, 1, 460, 164])\n"
     ]
    }
   ],
   "source": [
    "gt_test_coord_1 = pickle.load( open( \"./import_dataset_2/test/gt_test_coord_1.pkl\", \"rb\" ) )\n",
    "gt_test_1 = pickle.load( open( \"./import_dataset_2/test/gt_test_1.pkl\", \"rb\" ) )\n",
    "in_test_coord_1 = pickle.load( open( \"./import_dataset_2/test/in_test_coord_1.pkl\", \"rb\" ) )\n",
    "inputs_test_1 = pickle.load( open( \"./import_dataset_2/test/inputs_test_1.pkl\", \"rb\" ) )\n",
    "\n",
    "gt_test_coord_2 = pickle.load( open( \"./import_dataset_2/test/gt_test_coord_2.pkl\", \"rb\" ) )\n",
    "gt_test_2 = pickle.load( open( \"./import_dataset_2/test/gt_test_2.pkl\", \"rb\" ) )\n",
    "in_test_coord_2 = pickle.load( open( \"./import_dataset_2/test/in_test_coord_2.pkl\", \"rb\" ) )\n",
    "inputs_test_2 = pickle.load( open( \"./import_dataset_2/test/inputs_test_2.pkl\", \"rb\" ) )\n",
    "\n",
    "gt_test_coord_3 = pickle.load( open( \"./import_dataset_2/test/gt_test_coord_3.pkl\", \"rb\" ) )\n",
    "gt_test_3 = pickle.load( open( \"./import_dataset_2/test/gt_test_3.pkl\", \"rb\" ) )\n",
    "in_test_coord_3 = pickle.load( open( \"./import_dataset_2/test/in_test_coord_3.pkl\", \"rb\" ) )\n",
    "inputs_test_3 = pickle.load( open( \"./import_dataset_2/test/inputs_test_3.pkl\", \"rb\" ) )\n",
    "\n",
    "inputs_test_1 = torch.from_numpy(inputs_test_1).float()\n",
    "gt_test_1 = torch.from_numpy(gt_test_1).float()\n",
    "inputs_test_1 = inputs_test_1.unsqueeze(1) \n",
    "\n",
    "inputs_test_2 = torch.from_numpy(inputs_test_2).float()\n",
    "gt_test_2 = torch.from_numpy(gt_test_2).float()\n",
    "inputs_test_2 = inputs_test_2.unsqueeze(1)\n",
    "\n",
    "inputs_test_3 = torch.from_numpy(inputs_test_3).float()\n",
    "gt_test_3 = torch.from_numpy(gt_test_3).float()\n",
    "inputs_test_3 = inputs_test_3.unsqueeze(1)\n",
    "print (inputs_test_3.shape)"
   ]
  },
  {
   "cell_type": "markdown",
   "metadata": {},
   "source": [
    "### Model"
   ]
  },
  {
   "cell_type": "code",
   "execution_count": 52,
   "metadata": {
    "collapsed": true
   },
   "outputs": [],
   "source": [
    "net = CNN2D()\n",
    "criterion = torch.nn.MSELoss()\n",
    "optimizer = torch.optim.Adam(net.parameters(), lr=0.0001, weight_decay=1e-4)\n",
    "\n",
    "traindataset = utils.TensorDataset(inputs_train, gt_train[:,:,1:,:])\n",
    "trainloader = utils.DataLoader(traindataset, batch_size=16, shuffle=True)\n",
    "\n",
    "valdataset = utils.TensorDataset(inputs_validation, gt_validation[:,:,1:,:])\n",
    "valloader = utils.DataLoader(valdataset, batch_size=16, shuffle=True)"
   ]
  },
  {
   "cell_type": "code",
   "execution_count": 53,
   "metadata": {
    "scrolled": true
   },
   "outputs": [
    {
     "name": "stdout",
     "output_type": "stream",
     "text": [
      "Epoch: 1/150.. Validation Loss: 5.5494.. Training Loss: 8.1477.. 0.0263 s/batch \n",
      "Epoch: 2/150.. Validation Loss: 4.2113.. Training Loss: 4.7882.. 0.0312 s/batch \n",
      "Epoch: 3/150.. Validation Loss: 3.3828.. Training Loss: 3.7519.. 0.0312 s/batch \n",
      "Epoch: 4/150.. Validation Loss: 2.8370.. Training Loss: 2.9979.. 0.0243 s/batch \n",
      "Epoch: 5/150.. Validation Loss: 2.4256.. Training Loss: 2.4862.. 0.0356 s/batch \n",
      "Epoch: 6/150.. Validation Loss: 2.2243.. Training Loss: 2.1881.. 0.0450 s/batch \n",
      "Epoch: 7/150.. Validation Loss: 2.0350.. Training Loss: 2.0139.. 0.0524 s/batch \n",
      "Epoch: 8/150.. Validation Loss: 1.9816.. Training Loss: 1.8750.. 0.0592 s/batch \n",
      "Epoch: 9/150.. Validation Loss: 1.8737.. Training Loss: 1.8077.. 0.0631 s/batch \n",
      "Epoch: 10/150.. Validation Loss: 1.8444.. Training Loss: 1.7440.. 0.0626 s/batch \n",
      "Epoch: 11/150.. Validation Loss: 1.9449.. Training Loss: 1.6814.. 0.0522 s/batch \n",
      "Epoch: 12/150.. Validation Loss: 1.7064.. Training Loss: 1.5925.. 0.0570 s/batch \n",
      "Epoch: 13/150.. Validation Loss: 1.6621.. Training Loss: 1.5514.. 0.0723 s/batch \n",
      "Epoch: 14/150.. Validation Loss: 1.6625.. Training Loss: 1.4699.. 0.0615 s/batch \n",
      "Epoch: 15/150.. Validation Loss: 1.5286.. Training Loss: 1.4170.. 0.0579 s/batch \n",
      "Epoch: 16/150.. Validation Loss: 1.4845.. Training Loss: 1.3583.. 0.0613 s/batch \n",
      "Epoch: 17/150.. Validation Loss: 1.5137.. Training Loss: 1.2746.. 0.0623 s/batch \n",
      "Epoch: 18/150.. Validation Loss: 1.4910.. Training Loss: 1.2331.. 0.0599 s/batch \n",
      "Epoch: 19/150.. Validation Loss: 1.3184.. Training Loss: 1.1596.. 0.0652 s/batch \n",
      "Epoch: 20/150.. Validation Loss: 1.2864.. Training Loss: 1.1353.. 0.0552 s/batch \n",
      "Epoch: 21/150.. Validation Loss: 1.2362.. Training Loss: 1.0741.. 0.0593 s/batch \n",
      "Epoch: 22/150.. Validation Loss: 1.2273.. Training Loss: 1.0431.. 0.0614 s/batch \n",
      "Epoch: 23/150.. Validation Loss: 1.1709.. Training Loss: 1.0194.. 0.0537 s/batch \n",
      "Epoch: 24/150.. Validation Loss: 1.1625.. Training Loss: 0.9983.. 0.0642 s/batch \n",
      "Epoch: 25/150.. Validation Loss: 1.1374.. Training Loss: 0.9531.. 0.0544 s/batch \n",
      "Epoch: 26/150.. Validation Loss: 1.1299.. Training Loss: 0.9212.. 0.0586 s/batch \n",
      "Epoch: 27/150.. Validation Loss: 1.0794.. Training Loss: 0.8984.. 0.0628 s/batch \n",
      "Epoch: 28/150.. Validation Loss: 1.1802.. Training Loss: 0.8922.. 0.0647 s/batch \n",
      "Epoch: 29/150.. Validation Loss: 1.0677.. Training Loss: 0.8819.. 0.0651 s/batch \n",
      "Epoch: 30/150.. Validation Loss: 1.0526.. Training Loss: 0.8549.. 0.0536 s/batch \n",
      "Epoch: 31/150.. Validation Loss: 1.0493.. Training Loss: 0.8313.. 0.0497 s/batch \n",
      "Epoch: 32/150.. Validation Loss: 1.0666.. Training Loss: 0.8195.. 0.0507 s/batch \n",
      "Epoch: 33/150.. Validation Loss: 1.0687.. Training Loss: 0.8111.. 0.0503 s/batch \n",
      "Epoch: 34/150.. Validation Loss: 1.0129.. Training Loss: 0.8048.. 0.0546 s/batch \n",
      "Epoch: 35/150.. Validation Loss: 1.0065.. Training Loss: 0.7843.. 0.0484 s/batch \n",
      "Epoch: 36/150.. Validation Loss: 0.9702.. Training Loss: 0.7783.. 0.0504 s/batch \n",
      "Epoch: 37/150.. Validation Loss: 1.0092.. Training Loss: 0.7717.. 0.0521 s/batch \n",
      "Epoch: 38/150.. Validation Loss: 0.9682.. Training Loss: 0.7497.. 0.0486 s/batch \n",
      "Epoch: 39/150.. Validation Loss: 0.9627.. Training Loss: 0.7416.. 0.0511 s/batch \n",
      "Epoch: 40/150.. Validation Loss: 0.9710.. Training Loss: 0.7206.. 0.0486 s/batch \n",
      "Epoch: 41/150.. Validation Loss: 0.9609.. Training Loss: 0.7335.. 0.0512 s/batch \n",
      "Epoch: 42/150.. Validation Loss: 1.0125.. Training Loss: 0.7110.. 0.0514 s/batch \n",
      "Epoch: 43/150.. Validation Loss: 0.9467.. Training Loss: 0.6984.. 0.0447 s/batch \n",
      "Epoch: 44/150.. Validation Loss: 0.9321.. Training Loss: 0.6958.. 0.0488 s/batch \n",
      "Epoch: 45/150.. Validation Loss: 0.9312.. Training Loss: 0.6756.. 0.0512 s/batch \n",
      "Epoch: 46/150.. Validation Loss: 0.9428.. Training Loss: 0.6839.. 0.0479 s/batch \n",
      "Epoch: 47/150.. Validation Loss: 0.9184.. Training Loss: 0.6741.. 0.0487 s/batch \n",
      "Epoch: 48/150.. Validation Loss: 0.9676.. Training Loss: 0.6613.. 0.0491 s/batch \n",
      "Epoch: 49/150.. Validation Loss: 0.9616.. Training Loss: 0.6645.. 0.0512 s/batch \n",
      "Epoch: 50/150.. Validation Loss: 0.9589.. Training Loss: 0.6508.. 0.0483 s/batch \n",
      "Epoch: 51/150.. Validation Loss: 0.9104.. Training Loss: 0.6519.. 0.0539 s/batch \n",
      "Epoch: 52/150.. Validation Loss: 0.9208.. Training Loss: 0.6350.. 0.0644 s/batch \n",
      "Epoch: 53/150.. Validation Loss: 0.9243.. Training Loss: 0.6296.. 0.0550 s/batch \n",
      "Epoch: 54/150.. Validation Loss: 0.9327.. Training Loss: 0.6341.. 0.0588 s/batch \n",
      "Epoch: 55/150.. Validation Loss: 0.8950.. Training Loss: 0.6197.. 0.0677 s/batch \n",
      "Epoch: 56/150.. Validation Loss: 0.8770.. Training Loss: 0.6193.. 0.0589 s/batch \n",
      "Epoch: 57/150.. Validation Loss: 0.8984.. Training Loss: 0.6077.. 0.0619 s/batch \n",
      "Epoch: 58/150.. Validation Loss: 0.8942.. Training Loss: 0.5960.. 0.0623 s/batch \n",
      "Epoch: 59/150.. Validation Loss: 0.9159.. Training Loss: 0.6157.. 0.0587 s/batch \n",
      "Epoch: 60/150.. Validation Loss: 0.8881.. Training Loss: 0.5960.. 0.0707 s/batch \n",
      "Epoch: 61/150.. Validation Loss: 0.8558.. Training Loss: 0.5949.. 0.0473 s/batch \n",
      "Epoch: 62/150.. Validation Loss: 0.8788.. Training Loss: 0.5883.. 0.0469 s/batch \n",
      "Epoch: 63/150.. Validation Loss: 0.9055.. Training Loss: 0.5995.. 0.0495 s/batch \n",
      "Epoch: 64/150.. Validation Loss: 0.8828.. Training Loss: 0.5654.. 0.0525 s/batch \n",
      "Epoch: 65/150.. Validation Loss: 0.8877.. Training Loss: 0.5706.. 0.0719 s/batch \n",
      "Epoch: 66/150.. Validation Loss: 0.8674.. Training Loss: 0.5661.. 0.0726 s/batch \n",
      "Epoch: 67/150.. Validation Loss: 0.8738.. Training Loss: 0.5536.. 0.0646 s/batch \n",
      "Epoch: 68/150.. Validation Loss: 0.8644.. Training Loss: 0.5644.. 0.0622 s/batch \n",
      "Epoch: 69/150.. Validation Loss: 0.8664.. Training Loss: 0.5576.. 0.0650 s/batch \n",
      "Epoch: 70/150.. Validation Loss: 0.8553.. Training Loss: 0.5629.. 0.0426 s/batch \n",
      "Epoch: 71/150.. Validation Loss: 0.8486.. Training Loss: 0.5486.. 0.0319 s/batch \n",
      "Epoch: 72/150.. Validation Loss: 0.8456.. Training Loss: 0.5519.. 0.0314 s/batch \n",
      "Epoch: 73/150.. Validation Loss: 0.8365.. Training Loss: 0.5478.. 0.0370 s/batch \n",
      "Epoch: 74/150.. Validation Loss: 0.8739.. Training Loss: 0.5342.. 0.0350 s/batch \n",
      "Epoch: 75/150.. Validation Loss: 0.8513.. Training Loss: 0.5444.. 0.0345 s/batch \n",
      "Epoch: 76/150.. Validation Loss: 0.8254.. Training Loss: 0.5348.. 0.0350 s/batch \n",
      "Epoch: 77/150.. Validation Loss: 0.8274.. Training Loss: 0.5282.. 0.0382 s/batch \n",
      "Epoch: 78/150.. Validation Loss: 0.8826.. Training Loss: 0.5235.. 0.0346 s/batch \n",
      "Epoch: 79/150.. Validation Loss: 0.8485.. Training Loss: 0.5357.. 0.0357 s/batch \n",
      "Epoch: 80/150.. Validation Loss: 0.8293.. Training Loss: 0.5225.. 0.0324 s/batch \n",
      "Epoch: 81/150.. Validation Loss: 0.8335.. Training Loss: 0.5243.. 0.0361 s/batch \n",
      "Epoch: 82/150.. Validation Loss: 0.8250.. Training Loss: 0.5080.. 0.0388 s/batch \n",
      "Epoch: 83/150.. Validation Loss: 0.8227.. Training Loss: 0.5093.. 0.0353 s/batch \n",
      "Epoch: 84/150.. Validation Loss: 0.8368.. Training Loss: 0.5081.. 0.0371 s/batch \n",
      "Epoch: 85/150.. Validation Loss: 0.8140.. Training Loss: 0.4927.. 0.0328 s/batch \n",
      "Epoch: 86/150.. Validation Loss: 0.8326.. Training Loss: 0.5046.. 0.0302 s/batch \n",
      "Epoch: 87/150.. Validation Loss: 0.8292.. Training Loss: 0.5015.. 0.0336 s/batch \n",
      "Epoch: 88/150.. Validation Loss: 0.8516.. Training Loss: 0.5037.. 0.0282 s/batch \n",
      "Epoch: 89/150.. Validation Loss: 0.8478.. Training Loss: 0.4995.. 0.0273 s/batch \n",
      "Epoch: 90/150.. Validation Loss: 0.8413.. Training Loss: 0.5023.. 0.0318 s/batch \n",
      "Epoch: 91/150.. Validation Loss: 0.8232.. Training Loss: 0.4857.. 0.0329 s/batch \n",
      "Epoch: 92/150.. Validation Loss: 0.8281.. Training Loss: 0.4889.. 0.0281 s/batch \n",
      "Epoch: 93/150.. Validation Loss: 0.8166.. Training Loss: 0.4869.. 0.0338 s/batch \n",
      "Epoch: 94/150.. Validation Loss: 0.8611.. Training Loss: 0.4897.. 0.0396 s/batch \n",
      "Epoch: 95/150.. Validation Loss: 0.8241.. Training Loss: 0.4747.. 0.0299 s/batch \n",
      "Epoch: 96/150.. Validation Loss: 0.8220.. Training Loss: 0.4834.. 0.0395 s/batch \n",
      "Epoch: 97/150.. Validation Loss: 0.8234.. Training Loss: 0.4716.. 0.0348 s/batch \n",
      "Epoch: 98/150.. Validation Loss: 0.8261.. Training Loss: 0.4775.. 0.0383 s/batch \n",
      "Epoch: 99/150.. Validation Loss: 0.8124.. Training Loss: 0.4714.. 0.0397 s/batch \n",
      "Epoch: 100/150.. Validation Loss: 0.8063.. Training Loss: 0.4724.. 0.0362 s/batch \n",
      "Epoch: 101/150.. Validation Loss: 0.7993.. Training Loss: 0.4662.. 0.0407 s/batch \n"
     ]
    },
    {
     "name": "stdout",
     "output_type": "stream",
     "text": [
      "Epoch: 102/150.. Validation Loss: 0.8021.. Training Loss: 0.4627.. 0.0342 s/batch \n",
      "Epoch: 103/150.. Validation Loss: 0.8068.. Training Loss: 0.4696.. 0.0359 s/batch \n",
      "Epoch: 104/150.. Validation Loss: 0.8046.. Training Loss: 0.4708.. 0.0370 s/batch \n",
      "Epoch: 105/150.. Validation Loss: 0.8070.. Training Loss: 0.4604.. 0.0384 s/batch \n",
      "Epoch: 106/150.. Validation Loss: 0.8256.. Training Loss: 0.4611.. 0.0353 s/batch \n",
      "Epoch: 107/150.. Validation Loss: 0.8086.. Training Loss: 0.4536.. 0.0329 s/batch \n",
      "Epoch: 108/150.. Validation Loss: 0.8034.. Training Loss: 0.4549.. 0.0299 s/batch \n",
      "Epoch: 109/150.. Validation Loss: 0.8033.. Training Loss: 0.4560.. 0.0331 s/batch \n",
      "Epoch: 110/150.. Validation Loss: 0.8003.. Training Loss: 0.4584.. 0.0211 s/batch \n",
      "Epoch: 111/150.. Validation Loss: 0.8066.. Training Loss: 0.4554.. 0.0209 s/batch \n",
      "Epoch: 112/150.. Validation Loss: 0.7964.. Training Loss: 0.4416.. 0.0219 s/batch \n",
      "Epoch: 113/150.. Validation Loss: 0.8107.. Training Loss: 0.4436.. 0.0248 s/batch \n",
      "Epoch: 114/150.. Validation Loss: 0.8114.. Training Loss: 0.4424.. 0.0214 s/batch \n",
      "Epoch: 115/150.. Validation Loss: 0.7832.. Training Loss: 0.4549.. 0.0226 s/batch \n",
      "Epoch: 116/150.. Validation Loss: 0.8024.. Training Loss: 0.4563.. 0.0216 s/batch \n",
      "Epoch: 117/150.. Validation Loss: 0.7925.. Training Loss: 0.4365.. 0.0205 s/batch \n",
      "Epoch: 118/150.. Validation Loss: 0.8211.. Training Loss: 0.4347.. 0.0212 s/batch \n",
      "Epoch: 119/150.. Validation Loss: 0.8734.. Training Loss: 0.4372.. 0.0216 s/batch \n",
      "Epoch: 120/150.. Validation Loss: 0.8066.. Training Loss: 0.4371.. 0.0200 s/batch \n",
      "Epoch: 121/150.. Validation Loss: 0.8232.. Training Loss: 0.4368.. 0.0222 s/batch \n",
      "Epoch: 122/150.. Validation Loss: 0.8108.. Training Loss: 0.4345.. 0.0214 s/batch \n",
      "Epoch: 123/150.. Validation Loss: 0.8162.. Training Loss: 0.4391.. 0.0202 s/batch \n",
      "Epoch: 124/150.. Validation Loss: 0.8526.. Training Loss: 0.4285.. 0.0212 s/batch \n",
      "Epoch: 125/150.. Validation Loss: 0.8026.. Training Loss: 0.4240.. 0.0215 s/batch \n",
      "Epoch: 126/150.. Validation Loss: 0.8406.. Training Loss: 0.4272.. 0.0200 s/batch \n",
      "Epoch: 127/150.. Validation Loss: 0.8297.. Training Loss: 0.4205.. 0.0212 s/batch \n",
      "Epoch: 128/150.. Validation Loss: 0.7970.. Training Loss: 0.4272.. 0.0213 s/batch \n",
      "Epoch: 129/150.. Validation Loss: 0.7967.. Training Loss: 0.4219.. 0.0207 s/batch \n",
      "Epoch: 130/150.. Validation Loss: 0.8249.. Training Loss: 0.4354.. 0.0224 s/batch \n",
      "Epoch: 131/150.. Validation Loss: 0.8009.. Training Loss: 0.4178.. 0.0224 s/batch \n",
      "Epoch: 132/150.. Validation Loss: 0.8029.. Training Loss: 0.4162.. 0.0204 s/batch \n",
      "Epoch: 133/150.. Validation Loss: 0.8246.. Training Loss: 0.4151.. 0.0209 s/batch \n",
      "Epoch: 134/150.. Validation Loss: 0.8052.. Training Loss: 0.4144.. 0.0215 s/batch \n",
      "Epoch: 135/150.. Validation Loss: 0.8087.. Training Loss: 0.4239.. 0.0202 s/batch \n",
      "Epoch: 136/150.. Validation Loss: 0.8047.. Training Loss: 0.4138.. 0.0214 s/batch \n",
      "Epoch: 137/150.. Validation Loss: 0.8083.. Training Loss: 0.4135.. 0.0224 s/batch \n",
      "Epoch: 138/150.. Validation Loss: 0.8476.. Training Loss: 0.4088.. 0.0203 s/batch \n",
      "Epoch: 139/150.. Validation Loss: 0.8175.. Training Loss: 0.4186.. 0.0212 s/batch \n",
      "Epoch: 140/150.. Validation Loss: 0.7978.. Training Loss: 0.4094.. 0.0212 s/batch \n",
      "Epoch: 141/150.. Validation Loss: 0.8052.. Training Loss: 0.3973.. 0.0213 s/batch \n",
      "Epoch: 142/150.. Validation Loss: 0.8065.. Training Loss: 0.4089.. 0.0203 s/batch \n",
      "Epoch: 143/150.. Validation Loss: 0.8002.. Training Loss: 0.4055.. 0.0215 s/batch \n",
      "Epoch: 144/150.. Validation Loss: 0.8009.. Training Loss: 0.4065.. 0.0242 s/batch \n",
      "Epoch: 145/150.. Validation Loss: 0.8078.. Training Loss: 0.4058.. 0.0219 s/batch \n",
      "Epoch: 146/150.. Validation Loss: 0.7848.. Training Loss: 0.3964.. 0.0215 s/batch \n",
      "Epoch: 147/150.. Validation Loss: 0.8301.. Training Loss: 0.4027.. 0.0224 s/batch \n",
      "Epoch: 148/150.. Validation Loss: 0.8213.. Training Loss: 0.4092.. 0.0210 s/batch \n",
      "Epoch: 149/150.. Validation Loss: 0.8155.. Training Loss: 0.4073.. 0.0208 s/batch \n",
      "Epoch: 150/150.. Validation Loss: 0.8024.. Training Loss: 0.3971.. 0.0244 s/batch \n"
     ]
    }
   ],
   "source": [
    "epochs = 150\n",
    "steps = 0\n",
    "running_loss = 0\n",
    "print_every = 323\n",
    "loss_train = []\n",
    "loss_val = []\n",
    "\n",
    "for e in range(epochs):\n",
    "    start = time.time()\n",
    "    steps_bis = 0\n",
    "    total_train_loss=0\n",
    "    for train_coord, ground_tru in iter(trainloader):\n",
    "        \n",
    "        steps += 1\n",
    "        steps_bis += 1\n",
    "        \n",
    "        #inp = Variable(images)\n",
    "        #targets = Variable(labels)\n",
    "        #optimizer.zero_grad()\n",
    "        #output = net.forward(inp)\n",
    "        #loss = criterion(output, targets.view(-1,40))\n",
    "        #grad = loss.backward()\n",
    "        #optimizer.step()\n",
    "        #running_loss += loss.item()\n",
    "\n",
    "        input_train = Variable(train_coord)\n",
    "        in_train = input_train.squeeze(1)\n",
    "        target = Variable(ground_tru)\n",
    "        targets = target.squeeze(1)\n",
    "        optimizer.zero_grad()\n",
    "        #print(in_train.shape)\n",
    "        #print(targets.shape)\n",
    "        out = net.forward(input_train)\n",
    "        out = out.reshape(out.shape[0],10,4)\n",
    "        out_bis = out[:,:,0:2].clone()\n",
    "        #print(out_bis.shape)   \n",
    "        for i in range(10):\n",
    "            if i == 0:\n",
    "                out_bis[:, i, 0:2] = in_train[:, -1, 0:2] + out[:, i, 2:]*0.4\n",
    "            else:\n",
    "                out_bis[:, i, 0:2] = out[:, i - 1, 0:2] + out[:, i, 2:]*0.4\n",
    "        #pdb.set_trace()\n",
    "        loss1 = (criterion(out[:,:,0:2], targets[:,:,0:2]))\n",
    "        loss2 = (criterion(out[:,:,2:], targets[:,:,2:]))\n",
    "        loss3 = criterion(out_bis, targets[:,:,0:2])\n",
    "        \n",
    "        loss1.backward(retain_graph=True)\n",
    "        loss2.backward(retain_graph=True)\n",
    "        loss3.backward(retain_graph=True)\n",
    "        optimizer.step()\n",
    "        \n",
    "        running_loss += (loss1+loss2+loss3).item()\n",
    "        total_train_loss += (loss1+loss2+loss3).item()\n",
    "        \n",
    "        if steps % print_every == 0:\n",
    "            stop = time.time()\n",
    "            val_loss=0\n",
    "            \n",
    "            for ii, (images, labels) in enumerate(valloader):\n",
    "                \n",
    "                inp = Variable(images)\n",
    "                input_val = inp.squeeze(1)\n",
    "                lab = Variable(labels)\n",
    "                valgt = lab.squeeze(1)\n",
    "                predicted = net.predict(inp)\n",
    "                predicted = predicted.reshape(predicted.shape[0],10,4)\n",
    "                predicted_bis = predicted[:,:,0:2].clone()\n",
    "                #print(out_bis.shape)   \n",
    "                for i in range(10):\n",
    "                    if i == 0:\n",
    "                        predicted_bis[:, i, 0:2] = input_val[:, -1, 0:2] + predicted[:, i, 2:]*0.4\n",
    "                    else:\n",
    "                        predicted_bis[:, i, 0:2] = predicted[:, i - 1, 0:2] + predicted[:, i, 2:]*0.4\n",
    "                val_loss+= (criterion(predicted[:,:,0:2],valgt[:,:,0:2]).item()\n",
    "                                + criterion(predicted[:,:,2:],valgt[:,:,2:]).item()\n",
    "                                + criterion(predicted_bis, valgt[:,:,0:2]).item())\n",
    "                \n",
    "            print(\"Epoch: {}/{}..\".format(e+1, epochs),\n",
    "                  \"Validation Loss: {:.4f}..\".format(val_loss/ii),\n",
    "                  \"Training Loss: {:.4f}..\".format(running_loss/print_every),\n",
    "                  \"{:.4f} s/batch \".format((stop - start)/print_every),\n",
    "                 )\n",
    "            loss_val.append(val_loss/ii)\n",
    "            running_loss = 0\n",
    "            start = time.time()\n",
    "    loss_train.append(total_train_loss/steps_bis)"
   ]
  },
  {
   "cell_type": "code",
   "execution_count": 54,
   "metadata": {},
   "outputs": [
    {
     "data": {
      "text/plain": [
       "<matplotlib.legend.Legend at 0x11312b9e8>"
      ]
     },
     "execution_count": 54,
     "metadata": {},
     "output_type": "execute_result"
    },
    {
     "data": {
      "image/png": "[encoded data removed]",
      "text/plain": [
       "<matplotlib.figure.Figure at 0x10c72f470>"
      ]
     },
     "metadata": {},
     "output_type": "display_data"
    }
   ],
   "source": [
    "epoch = np.arange(1,epochs+1)\n",
    "plt.figure(figsize=(12, 7))\n",
    "plt.rc('font', family='serif')\n",
    "plt.rc('font', size=20)\n",
    "\n",
    "plt.plot(epoch,loss_train,label='Training loss')\n",
    "plt.plot(epoch,loss_val,c='k',label='Validation loss')\n",
    "plt.xlabel('epoch')\n",
    "plt.ylabel('MSE error')\n",
    "plt.legend()"
   ]
  },
  {
   "cell_type": "code",
   "execution_count": 55,
   "metadata": {
    "collapsed": true
   },
   "outputs": [],
   "source": [
    "output_test_1 = net.predict(inputs_test_1)\n",
    "output_test_1 = output_test_1.data.numpy()\n",
    "output_test_1 = np.reshape(output_test_1,(250,10,4))\n",
    "\n",
    "output_test_2 = net.predict(inputs_test_2)\n",
    "output_test_2 = output_test_2.data.numpy()\n",
    "output_test_2 = np.reshape(output_test_2,(1006,10,4))\n",
    "\n",
    "output_test_3 = net.predict(inputs_test_3)\n",
    "output_test_3 = output_test_3.data.numpy()\n",
    "output_test_3 = np.reshape(output_test_3,(460,10,4))"
   ]
  },
  {
   "cell_type": "markdown",
   "metadata": {},
   "source": [
    "## Post processing step\n",
    "Go back to coordinate:\n",
    "We have Vx and Vy and we want x and y.\n",
    "$ V = d/t$\n",
    "$ d = V*t$\n",
    "Here t = 0.4s between each point.\n",
    "Start from data at index 9. Then we add d_x and d_y to the last x and y."
   ]
  },
  {
   "cell_type": "markdown",
   "metadata": {},
   "source": [
    "##### Type 1 trajectory"
   ]
  },
  {
   "cell_type": "code",
   "execution_count": 97,
   "metadata": {},
   "outputs": [
    {
     "name": "stdout",
     "output_type": "stream",
     "text": [
      "(11, 251, 2)\n",
      "(250, 10, 4)\n"
     ]
    }
   ],
   "source": [
    "output_coord_1=np.zeros([11,inputs_test_1.shape[2],2])\n",
    "print(output_coord_1.shape)\n",
    "for j in range(11):\n",
    "    for i in range(output_test_1.shape[2]):\n",
    "        if j==0:\n",
    "            output_coord_1[j,i,0:2] = in_test_coord_1[9,i,0:2]\n",
    "        else:\n",
    "            output_coord_1[j,i,0:2] = output_coord_1[j-1,i,0:2]+output_test_1[i,j-1,2:]*0.4\n",
    "print(output_test_1.shape)        "
   ]
  },
  {
   "cell_type": "code",
   "execution_count": 57,
   "metadata": {},
   "outputs": [
    {
     "name": "stdout",
     "output_type": "stream",
     "text": [
      "The final distance between the ground trought and the predicted coordinates is : 0.657\n"
     ]
    }
   ],
   "source": [
    "dist = np.zeros(inputs_test_1.shape[2])\n",
    "for i in range(inputs_test_1.shape[2]):\n",
    "    dist[i] = np.sqrt(sum((gt_test_coord_1[10,i,:]-output_coord_1[10,i,:])**2))\n",
    "\n",
    "final_coord_error = np.mean(dist)\n",
    "print('The final distance between the ground trought and the predicted coordinates is :',final_coord_error.round(3))"
   ]
  },
  {
   "cell_type": "code",
   "execution_count": 58,
   "metadata": {},
   "outputs": [
    {
     "name": "stdout",
     "output_type": "stream",
     "text": [
      "The average error between the ground trought and the predicted coordinates is : 0.512\n"
     ]
    }
   ],
   "source": [
    "avr = np.zeros((inputs_test_1.shape[2],11))\n",
    "for i in range(inputs_test_1.shape[2]):\n",
    "    for j in range(11):\n",
    "        avr[i,j] = np.sqrt(sum((gt_test_coord_1[j,i,:]-output_coord_1[j,i,:])**2))\n",
    "\n",
    "average = np.mean(np.mean(avr,1))\n",
    "print('The average error between the ground trought and the predicted coordinates is :',average.round(3))"
   ]
  },
  {
   "cell_type": "code",
   "execution_count": 59,
   "metadata": {},
   "outputs": [
    {
     "data": {
      "text/plain": [
       "(-0.13970358335482888,\n",
       " 0.7337752504514066,\n",
       " -0.27637536472082136,\n",
       " 5.8038826591372485)"
      ]
     },
     "execution_count": 59,
     "metadata": {},
     "output_type": "execute_result"
    },
    {
     "data": {
      "image/png": "[encoded data removed]",
      "text/plain": [
       "<matplotlib.figure.Figure at 0x113161cc0>"
      ]
     },
     "metadata": {},
     "output_type": "display_data"
    }
   ],
   "source": [
    "plt.figure(figsize=(12, 7))\n",
    "plt.rc('font', family='serif')\n",
    "plt.rc('font', size=20)\n",
    "\n",
    "ind = np.random.randint(inputs_test_1.shape[1])\n",
    "\n",
    "plt.plot(in_test_coord_1[:,ind,0],in_test_coord_1[:,ind,1],c='b')\n",
    "plt.plot(gt_test_coord_1[:,ind,0],gt_test_coord_1[:,ind,1],c='k')\n",
    "plt.plot(output_coord_1[:,ind,0],output_coord_1[:,ind,1],c='r')\n",
    "plt.axis('equal')"
   ]
  },
  {
   "cell_type": "code",
   "execution_count": 60,
   "metadata": {
    "collapsed": true
   },
   "outputs": [],
   "source": [
    "output_coord_2=np.zeros([11,inputs_test_2.shape[2],2])\n",
    "for j in range(11):\n",
    "    for i in range(output_test_2.shape[2]):\n",
    "        if j==0:\n",
    "            output_coord_2[j,i,0:2] = in_test_coord_2[9,i,0:2]\n",
    "        else:\n",
    "            output_coord_2[j,i,0:2] = output_coord_2[j-1,i,0:2]+output_test_2[i,j-1,2:]*0.4\n",
    "        "
   ]
  },
  {
   "cell_type": "code",
   "execution_count": 61,
   "metadata": {},
   "outputs": [
    {
     "name": "stdout",
     "output_type": "stream",
     "text": [
      "The final distance between the ground trought and the predicted coordinates is : 7.016\n"
     ]
    }
   ],
   "source": [
    "dist = np.zeros(inputs_test_2.shape[2])\n",
    "for i in range(inputs_test_2.shape[2]):\n",
    "    dist[i] = np.sqrt(sum((gt_test_coord_2[10,i,:]-output_coord_2[10,i,:])**2))\n",
    "\n",
    "final_coord_error = np.mean(dist)\n",
    "print('The final distance between the ground trought and the predicted coordinates is :',final_coord_error.round(3))"
   ]
  },
  {
   "cell_type": "code",
   "execution_count": 62,
   "metadata": {},
   "outputs": [
    {
     "name": "stdout",
     "output_type": "stream",
     "text": [
      "The average error between the ground trought and the predicted coordinates is : 2.196\n"
     ]
    }
   ],
   "source": [
    "avr = np.zeros((inputs_test_2.shape[1],11))\n",
    "for i in range(inputs_test_2.shape[1]):\n",
    "    for j in range(11):\n",
    "        avr[i,j] = np.sqrt(sum((gt_test_coord_2[j,i,:]-output_coord_2[j,i,:])**2))\n",
    "\n",
    "average = np.mean(np.mean(avr,1))\n",
    "print('The average error between the ground trought and the predicted coordinates is :',average.round(3))"
   ]
  },
  {
   "cell_type": "code",
   "execution_count": 63,
   "metadata": {},
   "outputs": [
    {
     "data": {
      "text/plain": [
       "(-0.10866605070319557, 2.281987064767107, -0.5169107140000001, 10.855124994)"
      ]
     },
     "execution_count": 63,
     "metadata": {},
     "output_type": "execute_result"
    },
    {
     "data": {
      "image/png": "[encoded data removed]",
      "text/plain": [
       "<matplotlib.figure.Figure at 0x1102a1940>"
      ]
     },
     "metadata": {},
     "output_type": "display_data"
    }
   ],
   "source": [
    "plt.figure(figsize=(12, 7))\n",
    "plt.rc('font', family='serif')\n",
    "plt.rc('font', size=20)\n",
    "\n",
    "ind = np.random.randint(inputs_test_2.shape[1])\n",
    "\n",
    "plt.plot(in_test_coord_2[:,ind,0],in_test_coord_2[:,ind,1],c='b')\n",
    "plt.plot(gt_test_coord_2[:,ind,0],gt_test_coord_2[:,ind,1],c='k')\n",
    "plt.plot(output_coord_2[:,ind,0],output_coord_2[:,ind,1],c='r')\n",
    "plt.axis('equal')"
   ]
  },
  {
   "cell_type": "code",
   "execution_count": 73,
   "metadata": {
    "collapsed": true
   },
   "outputs": [],
   "source": [
    "output_coord_3=np.zeros([11,inputs_test_3.shape[2],2])\n",
    "for j in range(11):\n",
    "    for i in range(output_test_3.shape[2]):\n",
    "        if j==0:\n",
    "            output_coord_3[j,i,0:2] = in_test_coord_3[9,i,0:2]\n",
    "        else:\n",
    "            output_coord_3[j,i,0:2] = output_coord_3[j-1,i,0:2]+output_test_3[i,j-1,2:]*0.4\n",
    "        "
   ]
  },
  {
   "cell_type": "code",
   "execution_count": 74,
   "metadata": {},
   "outputs": [
    {
     "name": "stdout",
     "output_type": "stream",
     "text": [
      "The final distance between the ground trought and the predicted coordinates is : 4.973\n"
     ]
    }
   ],
   "source": [
    "dist = np.zeros(inputs_test_3.shape[2])\n",
    "for i in range(inputs_test_3.shape[2]):\n",
    "    dist[i] = np.sqrt(sum((gt_test_coord_3[10,i,:]-output_coord_3[10,i,:])**2))\n",
    "\n",
    "final_coord_error = np.mean(dist)\n",
    "print('The final distance between the ground trought and the predicted coordinates is :',final_coord_error.round(3))"
   ]
  },
  {
   "cell_type": "code",
   "execution_count": 75,
   "metadata": {},
   "outputs": [
    {
     "name": "stdout",
     "output_type": "stream",
     "text": [
      "The average error between the ground trought and the predicted coordinates is : 0.757\n"
     ]
    }
   ],
   "source": [
    "avr = np.zeros((inputs_test_3.shape[1],11))\n",
    "for i in range(inputs_test_3.shape[1]):\n",
    "    for j in range(11):\n",
    "        avr[i,j] = np.sqrt(sum((gt_test_coord_3[j,i,:]-output_coord_3[j,i,:])**2))\n",
    "\n",
    "average = np.mean(np.mean(avr,1))\n",
    "print('The average error between the ground trought and the predicted coordinates is :',average.round(3))"
   ]
  },
  {
   "cell_type": "code",
   "execution_count": 87,
   "metadata": {},
   "outputs": [
    {
     "name": "stdout",
     "output_type": "stream",
     "text": [
      "[[[-0.44878094  2.02912955]\n",
      "  [-0.04801265  3.9600362 ]\n",
      "  [-0.49563999  5.01835162]\n",
      "  ...\n",
      "  [ 0.          0.        ]\n",
      "  [ 0.          0.        ]\n",
      "  [ 0.          0.        ]]\n",
      "\n",
      " [[-0.32800333  2.13485279]\n",
      "  [-0.04232301  4.11956711]\n",
      "  [-0.61762824  5.49063498]\n",
      "  ...\n",
      "  [ 0.          0.        ]\n",
      "  [ 0.          0.        ]\n",
      "  [ 0.          0.        ]]\n",
      "\n",
      " [[-0.24218544  2.26975311]\n",
      "  [-0.0528269   4.56373535]\n",
      "  [-0.81112827  5.97971485]\n",
      "  ...\n",
      "  [ 0.          0.        ]\n",
      "  [ 0.          0.        ]\n",
      "  [ 0.          0.        ]]\n",
      "\n",
      " ...\n",
      "\n",
      " [[ 0.33591969  3.3014394 ]\n",
      "  [-0.35474862  6.95468671]\n",
      "  [-1.16672139  9.49012539]\n",
      "  ...\n",
      "  [ 0.          0.        ]\n",
      "  [ 0.          0.        ]\n",
      "  [ 0.          0.        ]]\n",
      "\n",
      " [[ 0.33167921  3.52524965]\n",
      "  [-0.14585417  7.36364691]\n",
      "  [-0.96257985 10.07725803]\n",
      "  ...\n",
      "  [ 0.          0.        ]\n",
      "  [ 0.          0.        ]\n",
      "  [ 0.          0.        ]]\n",
      "\n",
      " [[ 0.26817882  3.75899561]\n",
      "  [ 0.15690709  7.73558773]\n",
      "  [-0.73402007 10.66332099]\n",
      "  ...\n",
      "  [ 0.          0.        ]\n",
      "  [ 0.          0.        ]\n",
      "  [ 0.          0.        ]]]\n"
     ]
    },
    {
     "data": {
      "text/plain": [
       "(-0.03802198800000001, 0.798461748, -0.6177760509649277, 12.973297070263481)"
      ]
     },
     "execution_count": 87,
     "metadata": {},
     "output_type": "execute_result"
    },
    {
     "data": {
      "image/png": "[encoded data removed]",
      "text/plain": [
       "<matplotlib.figure.Figure at 0x10c983160>"
      ]
     },
     "metadata": {},
     "output_type": "display_data"
    }
   ],
   "source": [
    "plt.figure(figsize=(12, 7))\n",
    "plt.rc('font', family='serif')\n",
    "plt.rc('font', size=20)\n",
    "\n",
    "ind = np.random.randint(inputs_test_3.shape[0])\n",
    "\n",
    "plt.plot(in_test_coord_3[:,ind,0],in_test_coord_3[:,ind,1],c='b')\n",
    "plt.plot(gt_test_coord_3[:,ind,0],gt_test_coord_3[:,ind,1],c='k')\n",
    "plt.plot(output_coord_3[:,ind,0],output_coord_3[:,ind,1],c='r')\n",
    "plt.axis('equal')"
   ]
  },
  {
   "cell_type": "code",
   "execution_count": 47,
   "metadata": {
    "collapsed": true
   },
   "outputs": [],
   "source": [
    "torch.save(net.state_dict(), 'fullCNN_4.pt')"
   ]
  },
  {
   "cell_type": "code",
   "execution_count": null,
   "metadata": {
    "collapsed": true
   },
   "outputs": [],
   "source": []
  }
 ],
 "metadata": {
  "kernelspec": {
   "display_name": "Python 3",
   "language": "python",
   "name": "python3"
  },
  "language_info": {
   "codemirror_mode": {
    "name": "ipython",
    "version": 3
   },
   "file_extension": ".py",
   "mimetype": "text/x-python",
   "name": "python",
   "nbconvert_exporter": "python",
   "pygments_lexer": "ipython3",
   "version": "3.6.3"
  }
 },
 "nbformat": 4,
 "nbformat_minor": 2
}
