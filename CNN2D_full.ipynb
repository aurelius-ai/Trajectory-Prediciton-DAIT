{
 "cells": [
  {
   "cell_type": "code",
   "execution_count": 6,
   "metadata": {},
   "outputs": [
    {
     "data": {
      "text/plain": [
       "<torch._C.Generator at 0x10fd597d0>"
      ]
     },
     "execution_count": 6,
     "metadata": {},
     "output_type": "execute_result"
    }
   ],
   "source": [
    "import torch\n",
    "from torch import nn\n",
    "from torch.autograd import Variable\n",
    "import torchvision.datasets as dsets\n",
    "import torchvision.transforms as transforms\n",
    "import matplotlib.pyplot as plt\n",
    "from CNN2D import *\n",
    "import pandas as pd\n",
    "import numpy as np\n",
    "import torch.utils.data as utils\n",
    "import time\n",
    "import os\n",
    "import pickle\n",
    "\n",
    "import pdb\n",
    "\n",
    "# For the notebook\n",
    "%matplotlib inline\n",
    "%reload_ext autoreload\n",
    "%autoreload 2\n",
    "\n",
    "torch.manual_seed(1)"
   ]
  },
  {
   "cell_type": "markdown",
   "metadata": {},
   "source": [
    "## TRAIN SET"
   ]
  },
  {
   "cell_type": "code",
   "execution_count": 61,
   "metadata": {
    "scrolled": false
   },
   "outputs": [
    {
     "data": {
      "text/plain": [
       "(torch.Size([5157, 1, 10, 244]), torch.Size([5157, 1, 11, 4]))"
      ]
     },
     "execution_count": 61,
     "metadata": {},
     "output_type": "execute_result"
    }
   ],
   "source": [
    "gt_train_coord = pickle.load( open( \"./import_dataset_3/train/gt_train_coord.pkl\", \"rb\" ) )\n",
    "gt_train  = pickle.load( open( \"./import_dataset_3/train/gt_train.pkl\", \"rb\" ) )\n",
    "in_train_coord  = pickle.load( open( \"./import_dataset_3/train/in_train_coord.pkl\", \"rb\" ) )\n",
    "inputs_train = pickle.load( open( \"./import_dataset_3/train/inputs_train.pkl\", \"rb\" ) )\n",
    "\n",
    "inputs_train = torch.from_numpy(inputs_train).float()\n",
    "gt_train = torch.from_numpy(gt_train).float()\n",
    "\n",
    "gt_train = gt_train.unsqueeze(1) # add 1 dimension to the training set\n",
    "inputs_train = inputs_train.unsqueeze(1) # add 1 dimension to the training set\n",
    "\n",
    "inputs_train.shape,gt_train.shape"
   ]
  },
  {
   "cell_type": "markdown",
   "metadata": {},
   "source": [
    "## VALIDATION SET"
   ]
  },
  {
   "cell_type": "code",
   "execution_count": 62,
   "metadata": {},
   "outputs": [
    {
     "name": "stdout",
     "output_type": "stream",
     "text": [
      "torch.Size([1719, 1, 10, 244])\n"
     ]
    },
    {
     "data": {
      "text/plain": [
       "((11, 1719, 2),\n",
       " torch.Size([1719, 1, 11, 4]),\n",
       " (10, 1719, 2),\n",
       " torch.Size([1719, 1, 10, 244]))"
      ]
     },
     "execution_count": 62,
     "metadata": {},
     "output_type": "execute_result"
    }
   ],
   "source": [
    "gt_validation_coord = pickle.load( open( \"./import_dataset_3/validation/gt_validation_coord.pkl\", \"rb\" ) )\n",
    "gt_validation = pickle.load( open( \"./import_dataset_3/validation/gt_validation.pkl\", \"rb\" ) )\n",
    "in_validation_coord = pickle.load( open( \"./import_dataset_3/validation/in_validation_coord.pkl\", \"rb\" ) )\n",
    "inputs_validation = pickle.load( open( \"./import_dataset_3/validation/inputs_validation.pkl\", \"rb\" ) )\n",
    "\n",
    "inputs_validation = torch.from_numpy(inputs_validation).float()\n",
    "gt_validation = torch.from_numpy(gt_validation).float()\n",
    "\n",
    "gt_validation = gt_validation.unsqueeze(1) # add 1 dimension to the training set\n",
    "inputs_validation = inputs_validation.unsqueeze(1) # add 1 dimension to the training set\n",
    "print (inputs_validation.shape)\n",
    "\n",
    "gt_validation_coord.shape,gt_validation.shape,in_validation_coord.shape,inputs_validation.shape"
   ]
  },
  {
   "cell_type": "markdown",
   "metadata": {},
   "source": [
    "## TEST SET"
   ]
  },
  {
   "cell_type": "code",
   "execution_count": 63,
   "metadata": {},
   "outputs": [
    {
     "name": "stdout",
     "output_type": "stream",
     "text": [
      "torch.Size([10, 1, 460, 244])\n"
     ]
    }
   ],
   "source": [
    "gt_test_coord_1 = pickle.load( open( \"./import_dataset_3/test/gt_test_coord_1.pkl\", \"rb\" ) )\n",
    "gt_test_1 = pickle.load( open( \"./import_dataset_3/test/gt_test_1.pkl\", \"rb\" ) )\n",
    "in_test_coord_1 = pickle.load( open( \"./import_dataset_3/test/in_test_coord_1.pkl\", \"rb\" ) )\n",
    "inputs_test_1 = pickle.load( open( \"./import_dataset_3/test/inputs_test_1.pkl\", \"rb\" ) )\n",
    "\n",
    "gt_test_coord_2 = pickle.load( open( \"./import_dataset_3/test/gt_test_coord_2.pkl\", \"rb\" ) )\n",
    "gt_test_2 = pickle.load( open( \"./import_dataset_3/test/gt_test_2.pkl\", \"rb\" ) )\n",
    "in_test_coord_2 = pickle.load( open( \"./import_dataset_3/test/in_test_coord_2.pkl\", \"rb\" ) )\n",
    "inputs_test_2 = pickle.load( open( \"./import_dataset_3/test/inputs_test_2.pkl\", \"rb\" ) )\n",
    "\n",
    "gt_test_coord_3 = pickle.load( open( \"./import_dataset_3/test/gt_test_coord_3.pkl\", \"rb\" ) )\n",
    "gt_test_3 = pickle.load( open( \"./import_dataset_3/test/gt_test_3.pkl\", \"rb\" ) )\n",
    "in_test_coord_3 = pickle.load( open( \"./import_dataset_3/test/in_test_coord_3.pkl\", \"rb\" ) )\n",
    "inputs_test_3 = pickle.load( open( \"./import_dataset_3/test/inputs_test_3.pkl\", \"rb\" ) )\n",
    "\n",
    "inputs_test_1 = torch.from_numpy(inputs_test_1).float()\n",
    "gt_test_1 = torch.from_numpy(gt_test_1).float()\n",
    "inputs_test_1 = inputs_test_1.unsqueeze(1) \n",
    "\n",
    "inputs_test_2 = torch.from_numpy(inputs_test_2).float()\n",
    "gt_test_2 = torch.from_numpy(gt_test_2).float()\n",
    "inputs_test_2 = inputs_test_2.unsqueeze(1)\n",
    "\n",
    "inputs_test_3 = torch.from_numpy(inputs_test_3).float()\n",
    "gt_test_3 = torch.from_numpy(gt_test_3).float()\n",
    "inputs_test_3 = inputs_test_3.unsqueeze(1)\n",
    "print (inputs_test_3.shape)"
   ]
  },
  {
   "cell_type": "markdown",
   "metadata": {},
   "source": [
    "### Model"
   ]
  },
  {
   "cell_type": "code",
   "execution_count": 64,
   "metadata": {
    "collapsed": true
   },
   "outputs": [],
   "source": [
    "net = CNN2D()\n",
    "criterion = torch.nn.MSELoss()\n",
    "optimizer = torch.optim.Adam(net.parameters(), lr=0.0001, weight_decay=1e-4)\n",
    "\n",
    "traindataset = utils.TensorDataset(inputs_train, gt_train[:,:,1:,:])\n",
    "trainloader = utils.DataLoader(traindataset, batch_size=16, shuffle=True)\n",
    "\n",
    "valdataset = utils.TensorDataset(inputs_validation, gt_validation[:,:,1:,:])\n",
    "valloader = utils.DataLoader(valdataset, batch_size=16, shuffle=True)"
   ]
  },
  {
   "cell_type": "code",
   "execution_count": 65,
   "metadata": {
    "scrolled": true
   },
   "outputs": [
    {
     "name": "stdout",
     "output_type": "stream",
     "text": [
      "Epoch: 1/150.. Validation Loss: 5.3286.. Training Loss: 7.7854.. 0.0275 s/batch \n",
      "Epoch: 2/150.. Validation Loss: 3.8859.. Training Loss: 4.5558.. 0.0307 s/batch \n",
      "Epoch: 3/150.. Validation Loss: 2.8122.. Training Loss: 3.2166.. 0.0278 s/batch \n",
      "Epoch: 4/150.. Validation Loss: 2.3157.. Training Loss: 2.5116.. 0.0282 s/batch \n",
      "Epoch: 5/150.. Validation Loss: 2.1535.. Training Loss: 2.1510.. 0.0271 s/batch \n",
      "Epoch: 6/150.. Validation Loss: 1.9802.. Training Loss: 1.9519.. 0.0295 s/batch \n",
      "Epoch: 7/150.. Validation Loss: 1.8451.. Training Loss: 1.8232.. 0.0266 s/batch \n",
      "Epoch: 8/150.. Validation Loss: 1.7614.. Training Loss: 1.7099.. 0.0291 s/batch \n",
      "Epoch: 9/150.. Validation Loss: 1.6803.. Training Loss: 1.6105.. 0.0351 s/batch \n",
      "Epoch: 10/150.. Validation Loss: 1.5687.. Training Loss: 1.5157.. 0.0385 s/batch \n",
      "Epoch: 11/150.. Validation Loss: 1.4827.. Training Loss: 1.4171.. 0.0348 s/batch \n",
      "Epoch: 12/150.. Validation Loss: 1.3945.. Training Loss: 1.3043.. 0.0393 s/batch \n",
      "Epoch: 13/150.. Validation Loss: 1.3273.. Training Loss: 1.2285.. 0.0355 s/batch \n",
      "Epoch: 14/150.. Validation Loss: 1.2896.. Training Loss: 1.1305.. 0.0394 s/batch \n",
      "Epoch: 15/150.. Validation Loss: 1.2373.. Training Loss: 1.0727.. 0.0419 s/batch \n",
      "Epoch: 16/150.. Validation Loss: 1.1693.. Training Loss: 1.0448.. 0.0379 s/batch \n",
      "Epoch: 17/150.. Validation Loss: 1.1259.. Training Loss: 0.9855.. 0.0353 s/batch \n",
      "Epoch: 18/150.. Validation Loss: 1.0819.. Training Loss: 0.9373.. 0.0381 s/batch \n",
      "Epoch: 19/150.. Validation Loss: 1.0848.. Training Loss: 0.9224.. 0.0374 s/batch \n",
      "Epoch: 20/150.. Validation Loss: 1.0164.. Training Loss: 0.8677.. 0.0368 s/batch \n",
      "Epoch: 21/150.. Validation Loss: 0.9993.. Training Loss: 0.8382.. 0.0363 s/batch \n",
      "Epoch: 22/150.. Validation Loss: 0.9869.. Training Loss: 0.8184.. 0.0367 s/batch \n",
      "Epoch: 23/150.. Validation Loss: 0.9730.. Training Loss: 0.7903.. 0.0400 s/batch \n",
      "Epoch: 24/150.. Validation Loss: 0.9538.. Training Loss: 0.7943.. 0.0519 s/batch \n",
      "Epoch: 25/150.. Validation Loss: 0.9206.. Training Loss: 0.7553.. 0.0505 s/batch \n",
      "Epoch: 26/150.. Validation Loss: 0.9314.. Training Loss: 0.7363.. 0.0581 s/batch \n",
      "Epoch: 27/150.. Validation Loss: 0.9276.. Training Loss: 0.7443.. 0.0571 s/batch \n",
      "Epoch: 28/150.. Validation Loss: 0.9178.. Training Loss: 0.7268.. 0.0541 s/batch \n",
      "Epoch: 29/150.. Validation Loss: 0.8755.. Training Loss: 0.7081.. 0.0547 s/batch \n",
      "Epoch: 30/150.. Validation Loss: 0.8744.. Training Loss: 0.6863.. 0.0587 s/batch \n",
      "Epoch: 31/150.. Validation Loss: 0.8661.. Training Loss: 0.6701.. 0.0706 s/batch \n",
      "Epoch: 32/150.. Validation Loss: 0.8748.. Training Loss: 0.6722.. 0.0574 s/batch \n",
      "Epoch: 33/150.. Validation Loss: 0.8563.. Training Loss: 0.6702.. 0.0583 s/batch \n",
      "Epoch: 34/150.. Validation Loss: 0.8824.. Training Loss: 0.6484.. 0.0577 s/batch \n",
      "Epoch: 35/150.. Validation Loss: 0.8862.. Training Loss: 0.6605.. 0.0537 s/batch \n",
      "Epoch: 36/150.. Validation Loss: 0.8202.. Training Loss: 0.6260.. 0.0588 s/batch \n",
      "Epoch: 37/150.. Validation Loss: 0.8937.. Training Loss: 0.6238.. 0.0553 s/batch \n",
      "Epoch: 38/150.. Validation Loss: 0.8588.. Training Loss: 0.6151.. 0.0571 s/batch \n",
      "Epoch: 39/150.. Validation Loss: 0.8178.. Training Loss: 0.6076.. 0.0570 s/batch \n",
      "Epoch: 40/150.. Validation Loss: 0.8109.. Training Loss: 0.5979.. 0.0577 s/batch \n",
      "Epoch: 41/150.. Validation Loss: 0.8289.. Training Loss: 0.5879.. 0.0651 s/batch \n",
      "Epoch: 42/150.. Validation Loss: 0.8006.. Training Loss: 0.5889.. 0.0606 s/batch \n",
      "Epoch: 43/150.. Validation Loss: 0.8160.. Training Loss: 0.5737.. 0.0590 s/batch \n",
      "Epoch: 44/150.. Validation Loss: 0.7689.. Training Loss: 0.5760.. 0.0556 s/batch \n",
      "Epoch: 45/150.. Validation Loss: 0.8915.. Training Loss: 0.5678.. 0.0577 s/batch \n",
      "Epoch: 46/150.. Validation Loss: 0.7945.. Training Loss: 0.5768.. 0.0526 s/batch \n",
      "Epoch: 47/150.. Validation Loss: 0.7913.. Training Loss: 0.5667.. 0.0584 s/batch \n",
      "Epoch: 48/150.. Validation Loss: 0.7651.. Training Loss: 0.5507.. 0.0536 s/batch \n",
      "Epoch: 49/150.. Validation Loss: 0.8055.. Training Loss: 0.5474.. 0.0572 s/batch \n",
      "Epoch: 50/150.. Validation Loss: 0.7751.. Training Loss: 0.5470.. 0.0561 s/batch \n",
      "Epoch: 51/150.. Validation Loss: 0.7614.. Training Loss: 0.5434.. 0.0592 s/batch \n",
      "Epoch: 52/150.. Validation Loss: 0.7918.. Training Loss: 0.5213.. 0.0541 s/batch \n",
      "Epoch: 53/150.. Validation Loss: 0.7906.. Training Loss: 0.5238.. 0.0603 s/batch \n",
      "Epoch: 54/150.. Validation Loss: 0.7831.. Training Loss: 0.5237.. 0.0562 s/batch \n",
      "Epoch: 55/150.. Validation Loss: 0.8011.. Training Loss: 0.5128.. 0.0598 s/batch \n",
      "Epoch: 56/150.. Validation Loss: 0.7730.. Training Loss: 0.5222.. 0.0576 s/batch \n",
      "Epoch: 57/150.. Validation Loss: 0.7622.. Training Loss: 0.5120.. 0.0563 s/batch \n",
      "Epoch: 58/150.. Validation Loss: 0.7399.. Training Loss: 0.5150.. 0.0565 s/batch \n",
      "Epoch: 59/150.. Validation Loss: 0.7715.. Training Loss: 0.5053.. 0.0568 s/batch \n",
      "Epoch: 60/150.. Validation Loss: 0.7847.. Training Loss: 0.4929.. 0.0589 s/batch \n",
      "Epoch: 61/150.. Validation Loss: 0.7664.. Training Loss: 0.5059.. 0.0565 s/batch \n",
      "Epoch: 62/150.. Validation Loss: 0.7992.. Training Loss: 0.4912.. 0.0588 s/batch \n",
      "Epoch: 63/150.. Validation Loss: 0.7408.. Training Loss: 0.4944.. 0.0573 s/batch \n",
      "Epoch: 64/150.. Validation Loss: 0.7383.. Training Loss: 0.5032.. 0.0564 s/batch \n",
      "Epoch: 65/150.. Validation Loss: 0.7552.. Training Loss: 0.4797.. 0.0598 s/batch \n",
      "Epoch: 66/150.. Validation Loss: 0.7528.. Training Loss: 0.4794.. 0.0541 s/batch \n",
      "Epoch: 67/150.. Validation Loss: 0.7642.. Training Loss: 0.4782.. 0.0566 s/batch \n",
      "Epoch: 68/150.. Validation Loss: 0.7495.. Training Loss: 0.4734.. 0.0575 s/batch \n",
      "Epoch: 69/150.. Validation Loss: 0.7785.. Training Loss: 0.4667.. 0.0590 s/batch \n",
      "Epoch: 70/150.. Validation Loss: 0.7318.. Training Loss: 0.4614.. 0.0561 s/batch \n",
      "Epoch: 71/150.. Validation Loss: 0.7454.. Training Loss: 0.4612.. 0.0609 s/batch \n",
      "Epoch: 72/150.. Validation Loss: 0.7318.. Training Loss: 0.4563.. 0.0544 s/batch \n",
      "Epoch: 73/150.. Validation Loss: 0.7397.. Training Loss: 0.4582.. 0.0643 s/batch \n",
      "Epoch: 74/150.. Validation Loss: 0.7767.. Training Loss: 0.4450.. 0.0554 s/batch \n",
      "Epoch: 75/150.. Validation Loss: 0.7396.. Training Loss: 0.4510.. 0.0606 s/batch \n",
      "Epoch: 76/150.. Validation Loss: 0.7319.. Training Loss: 0.4569.. 0.0562 s/batch \n",
      "Epoch: 77/150.. Validation Loss: 0.7696.. Training Loss: 0.4449.. 0.0466 s/batch \n",
      "Epoch: 78/150.. Validation Loss: 0.7434.. Training Loss: 0.4412.. 0.0490 s/batch \n",
      "Epoch: 79/150.. Validation Loss: 0.7239.. Training Loss: 0.4355.. 0.0473 s/batch \n",
      "Epoch: 80/150.. Validation Loss: 0.7176.. Training Loss: 0.4257.. 0.0466 s/batch \n",
      "Epoch: 81/150.. Validation Loss: 0.7453.. Training Loss: 0.4318.. 0.0495 s/batch \n",
      "Epoch: 82/150.. Validation Loss: 0.7553.. Training Loss: 0.4330.. 0.0457 s/batch \n",
      "Epoch: 83/150.. Validation Loss: 0.7286.. Training Loss: 0.4279.. 0.0467 s/batch \n",
      "Epoch: 84/150.. Validation Loss: 0.7279.. Training Loss: 0.4218.. 0.0496 s/batch \n",
      "Epoch: 85/150.. Validation Loss: 0.7494.. Training Loss: 0.4246.. 0.0452 s/batch \n",
      "Epoch: 86/150.. Validation Loss: 0.7233.. Training Loss: 0.4223.. 0.0479 s/batch \n",
      "Epoch: 87/150.. Validation Loss: 0.7347.. Training Loss: 0.4136.. 0.0496 s/batch \n",
      "Epoch: 88/150.. Validation Loss: 0.7235.. Training Loss: 0.4150.. 0.0453 s/batch \n",
      "Epoch: 89/150.. Validation Loss: 0.7284.. Training Loss: 0.4139.. 0.0481 s/batch \n",
      "Epoch: 90/150.. Validation Loss: 0.7318.. Training Loss: 0.4213.. 0.0493 s/batch \n",
      "Epoch: 91/150.. Validation Loss: 0.7280.. Training Loss: 0.4143.. 0.0458 s/batch \n",
      "Epoch: 92/150.. Validation Loss: 0.7378.. Training Loss: 0.4004.. 0.0400 s/batch \n",
      "Epoch: 93/150.. Validation Loss: 0.7167.. Training Loss: 0.4103.. 0.0373 s/batch \n",
      "Epoch: 94/150.. Validation Loss: 0.8110.. Training Loss: 0.4201.. 0.0413 s/batch \n",
      "Epoch: 95/150.. Validation Loss: 0.7356.. Training Loss: 0.4051.. 0.0330 s/batch \n",
      "Epoch: 96/150.. Validation Loss: 0.7748.. Training Loss: 0.4014.. 0.0368 s/batch \n",
      "Epoch: 97/150.. Validation Loss: 0.7260.. Training Loss: 0.4146.. 0.0341 s/batch \n",
      "Epoch: 98/150.. Validation Loss: 0.7533.. Training Loss: 0.4100.. 0.0373 s/batch \n",
      "Epoch: 99/150.. Validation Loss: 0.7576.. Training Loss: 0.3948.. 0.0352 s/batch \n",
      "Epoch: 100/150.. Validation Loss: 0.7707.. Training Loss: 0.4032.. 0.0379 s/batch \n",
      "Epoch: 101/150.. Validation Loss: 0.7717.. Training Loss: 0.4053.. 0.0330 s/batch \n"
     ]
    },
    {
     "name": "stdout",
     "output_type": "stream",
     "text": [
      "Epoch: 102/150.. Validation Loss: 0.7286.. Training Loss: 0.3874.. 0.0423 s/batch \n",
      "Epoch: 103/150.. Validation Loss: 0.7332.. Training Loss: 0.3878.. 0.0420 s/batch \n",
      "Epoch: 104/150.. Validation Loss: 0.7466.. Training Loss: 0.3910.. 0.0461 s/batch \n",
      "Epoch: 105/150.. Validation Loss: 0.7424.. Training Loss: 0.3858.. 0.0379 s/batch \n",
      "Epoch: 106/150.. Validation Loss: 0.7252.. Training Loss: 0.3851.. 0.0420 s/batch \n",
      "Epoch: 107/150.. Validation Loss: 0.8326.. Training Loss: 0.3854.. 0.0381 s/batch \n",
      "Epoch: 108/150.. Validation Loss: 0.7447.. Training Loss: 0.3816.. 0.0438 s/batch \n",
      "Epoch: 109/150.. Validation Loss: 0.7559.. Training Loss: 0.3801.. 0.0393 s/batch \n",
      "Epoch: 110/150.. Validation Loss: 0.7351.. Training Loss: 0.3731.. 0.0428 s/batch \n",
      "Epoch: 111/150.. Validation Loss: 0.7178.. Training Loss: 0.3707.. 0.0399 s/batch \n",
      "Epoch: 112/150.. Validation Loss: 0.7736.. Training Loss: 0.3823.. 0.0440 s/batch \n",
      "Epoch: 113/150.. Validation Loss: 0.7552.. Training Loss: 0.3727.. 0.0379 s/batch \n",
      "Epoch: 114/150.. Validation Loss: 0.7293.. Training Loss: 0.3713.. 0.0443 s/batch \n",
      "Epoch: 115/150.. Validation Loss: 0.7460.. Training Loss: 0.3700.. 0.0384 s/batch \n",
      "Epoch: 116/150.. Validation Loss: 0.7399.. Training Loss: 0.3763.. 0.0393 s/batch \n",
      "Epoch: 117/150.. Validation Loss: 0.7736.. Training Loss: 0.3713.. 0.0369 s/batch \n",
      "Epoch: 118/150.. Validation Loss: 0.7274.. Training Loss: 0.3657.. 0.0445 s/batch \n",
      "Epoch: 119/150.. Validation Loss: 0.7321.. Training Loss: 0.3603.. 0.0344 s/batch \n",
      "Epoch: 120/150.. Validation Loss: 0.7512.. Training Loss: 0.3708.. 0.0378 s/batch \n",
      "Epoch: 121/150.. Validation Loss: 0.7523.. Training Loss: 0.3656.. 0.0369 s/batch \n",
      "Epoch: 122/150.. Validation Loss: 0.7396.. Training Loss: 0.3721.. 0.0417 s/batch \n",
      "Epoch: 123/150.. Validation Loss: 0.7318.. Training Loss: 0.3640.. 0.0356 s/batch \n",
      "Epoch: 124/150.. Validation Loss: 0.7666.. Training Loss: 0.3690.. 0.0396 s/batch \n",
      "Epoch: 125/150.. Validation Loss: 0.7479.. Training Loss: 0.3597.. 0.0405 s/batch \n",
      "Epoch: 126/150.. Validation Loss: 0.7495.. Training Loss: 0.3553.. 0.0440 s/batch \n",
      "Epoch: 127/150.. Validation Loss: 0.7338.. Training Loss: 0.3631.. 0.0404 s/batch \n",
      "Epoch: 128/150.. Validation Loss: 0.7410.. Training Loss: 0.3543.. 0.0441 s/batch \n",
      "Epoch: 129/150.. Validation Loss: 0.7577.. Training Loss: 0.3499.. 0.0391 s/batch \n",
      "Epoch: 130/150.. Validation Loss: 0.7335.. Training Loss: 0.3526.. 0.0447 s/batch \n",
      "Epoch: 131/150.. Validation Loss: 0.7498.. Training Loss: 0.3626.. 0.0403 s/batch \n",
      "Epoch: 132/150.. Validation Loss: 0.7411.. Training Loss: 0.3429.. 0.0439 s/batch \n",
      "Epoch: 133/150.. Validation Loss: 0.7450.. Training Loss: 0.3456.. 0.0383 s/batch \n",
      "Epoch: 134/150.. Validation Loss: 0.7584.. Training Loss: 0.3499.. 0.0403 s/batch \n",
      "Epoch: 135/150.. Validation Loss: 0.7395.. Training Loss: 0.3427.. 0.0417 s/batch \n",
      "Epoch: 136/150.. Validation Loss: 0.7383.. Training Loss: 0.3505.. 0.0382 s/batch \n",
      "Epoch: 137/150.. Validation Loss: 0.7479.. Training Loss: 0.3492.. 0.0279 s/batch \n",
      "Epoch: 138/150.. Validation Loss: 0.7406.. Training Loss: 0.3415.. 0.0276 s/batch \n",
      "Epoch: 139/150.. Validation Loss: 0.7533.. Training Loss: 0.3331.. 0.0322 s/batch \n",
      "Epoch: 140/150.. Validation Loss: 0.7509.. Training Loss: 0.3480.. 0.0291 s/batch \n",
      "Epoch: 141/150.. Validation Loss: 0.7402.. Training Loss: 0.3400.. 0.0325 s/batch \n",
      "Epoch: 142/150.. Validation Loss: 0.7366.. Training Loss: 0.3349.. 0.0293 s/batch \n",
      "Epoch: 143/150.. Validation Loss: 0.7360.. Training Loss: 0.3333.. 0.0299 s/batch \n",
      "Epoch: 144/150.. Validation Loss: 0.7426.. Training Loss: 0.3328.. 0.0329 s/batch \n",
      "Epoch: 145/150.. Validation Loss: 0.7370.. Training Loss: 0.3364.. 0.0284 s/batch \n",
      "Epoch: 146/150.. Validation Loss: 0.7573.. Training Loss: 0.3426.. 0.0323 s/batch \n",
      "Epoch: 147/150.. Validation Loss: 0.7276.. Training Loss: 0.3350.. 0.0279 s/batch \n",
      "Epoch: 148/150.. Validation Loss: 0.7712.. Training Loss: 0.3291.. 0.0296 s/batch \n",
      "Epoch: 149/150.. Validation Loss: 0.7514.. Training Loss: 0.3386.. 0.0303 s/batch \n",
      "Epoch: 150/150.. Validation Loss: 0.7721.. Training Loss: 0.3348.. 0.0305 s/batch \n"
     ]
    }
   ],
   "source": [
    "epochs = 150\n",
    "steps = 0\n",
    "running_loss = 0\n",
    "print_every = 323\n",
    "loss_train = []\n",
    "loss_val = []\n",
    "\n",
    "for e in range(epochs):\n",
    "    start = time.time()\n",
    "    steps_bis = 0\n",
    "    total_train_loss=0\n",
    "    for train_coord, ground_tru in iter(trainloader):\n",
    "        \n",
    "        steps += 1\n",
    "        steps_bis += 1\n",
    "        \n",
    "        input_train = Variable(train_coord)\n",
    "        in_train = input_train.squeeze(1)\n",
    "        target = Variable(ground_tru)\n",
    "        targets = target.squeeze(1)\n",
    "        optimizer.zero_grad()\n",
    "        out = net.forward(input_train)\n",
    "        out = out.reshape(out.shape[0],10,4)\n",
    "        out_bis = out[:,:,0:2].clone()  \n",
    "        for i in range(10):\n",
    "            if i == 0:\n",
    "                out_bis[:, i, 0:2] = in_train[:, -1, 0:2] + out[:, i, 2:]*0.4\n",
    "            else:\n",
    "                out_bis[:, i, 0:2] = out[:, i - 1, 0:2] + out[:, i, 2:]*0.4\n",
    "        \n",
    "        loss1 = (criterion(out[:,:,0:2], targets[:,:,0:2]))\n",
    "        loss2 = (criterion(out[:,:,2:], targets[:,:,2:]))\n",
    "        loss3 = criterion(out_bis, targets[:,:,0:2])\n",
    "        \n",
    "        loss1.backward(retain_graph=True)\n",
    "        loss2.backward(retain_graph=True)\n",
    "        loss3.backward(retain_graph=True)\n",
    "        optimizer.step()\n",
    "        \n",
    "        running_loss += (loss1+loss2+loss3).item()\n",
    "        total_train_loss += (loss1+loss2+loss3).item()\n",
    "        \n",
    "        if steps % print_every == 0:\n",
    "            stop = time.time()\n",
    "            val_loss=0\n",
    "            \n",
    "            for ii, (images, labels) in enumerate(valloader):\n",
    "                \n",
    "                inp = Variable(images)\n",
    "                input_val = inp.squeeze(1)\n",
    "                lab = Variable(labels)\n",
    "                valgt = lab.squeeze(1)\n",
    "                predicted = net.predict(inp)\n",
    "                predicted = predicted.reshape(predicted.shape[0],10,4)\n",
    "                predicted_bis = predicted[:,:,0:2].clone()\n",
    "                #print(out_bis.shape)   \n",
    "                for i in range(10):\n",
    "                    if i == 0:\n",
    "                        predicted_bis[:, i, 0:2] = input_val[:, -1, 0:2] + predicted[:, i, 2:]*0.4\n",
    "                    else:\n",
    "                        predicted_bis[:, i, 0:2] = predicted[:, i - 1, 0:2] + predicted[:, i, 2:]*0.4\n",
    "                val_loss+= (criterion(predicted[:,:,0:2],valgt[:,:,0:2]).item()\n",
    "                                + criterion(predicted[:,:,2:],valgt[:,:,2:]).item()\n",
    "                                + criterion(predicted_bis, valgt[:,:,0:2]).item())\n",
    "                \n",
    "            print(\"Epoch: {}/{}..\".format(e+1, epochs),\n",
    "                  \"Validation Loss: {:.4f}..\".format(val_loss/ii),\n",
    "                  \"Training Loss: {:.4f}..\".format(running_loss/print_every),\n",
    "                  \"{:.4f} s/batch \".format((stop - start)/print_every),\n",
    "                 )\n",
    "            loss_val.append(val_loss/ii)\n",
    "            running_loss = 0\n",
    "            start = time.time()\n",
    "    loss_train.append(total_train_loss/steps_bis)"
   ]
  },
  {
   "cell_type": "code",
   "execution_count": 66,
   "metadata": {},
   "outputs": [
    {
     "data": {
      "text/plain": [
       "<matplotlib.legend.Legend at 0x1168828d0>"
      ]
     },
     "execution_count": 66,
     "metadata": {},
     "output_type": "execute_result"
    },
    {
     "data": {
      "image/png": "[encoded data removed]",
      "text/plain": [
       "<matplotlib.figure.Figure at 0x11601cc50>"
      ]
     },
     "metadata": {},
     "output_type": "display_data"
    }
   ],
   "source": [
    "epoch = np.arange(1,epochs+1)\n",
    "plt.figure(figsize=(12, 7))\n",
    "plt.rc('font', family='serif')\n",
    "plt.rc('font', size=20)\n",
    "\n",
    "plt.plot(epoch,loss_train,label='Training loss')\n",
    "plt.plot(epoch,loss_val,c='k',label='Validation loss')\n",
    "plt.xlabel('epoch')\n",
    "plt.ylabel('MSE error')\n",
    "plt.legend()"
   ]
  },
  {
   "cell_type": "code",
   "execution_count": 67,
   "metadata": {
    "collapsed": true
   },
   "outputs": [],
   "source": [
    "output_test_1 = net.predict(inputs_test_1)\n",
    "output_test_1 = output_test_1.data.numpy()\n",
    "output_test_1 = np.reshape(output_test_1,(250,10,4))\n",
    "\n",
    "output_test_2 = net.predict(inputs_test_2)\n",
    "output_test_2 = output_test_2.data.numpy()\n",
    "output_test_2 = np.reshape(output_test_2,(1006,10,4))\n",
    "\n",
    "output_test_3 = net.predict(inputs_test_3)\n",
    "output_test_3 = output_test_3.data.numpy()\n",
    "output_test_3 = np.reshape(output_test_3,(460,10,4))"
   ]
  },
  {
   "cell_type": "markdown",
   "metadata": {},
   "source": [
    "## Post processing step\n",
    "Go back to coordinate:\n",
    "We have Vx and Vy and we want x and y.\n",
    "$ V = d/t$\n",
    "$ d = V*t$\n",
    "Here t = 0.4s between each point.\n",
    "Start from data at index 9. Then we add d_x and d_y to the last x and y."
   ]
  },
  {
   "cell_type": "markdown",
   "metadata": {},
   "source": [
    "##### Type 1 trajectory"
   ]
  },
  {
   "cell_type": "code",
   "execution_count": 68,
   "metadata": {},
   "outputs": [],
   "source": [
    "output_coord_1=np.zeros([11,inputs_test_1.shape[2],2])\n",
    "for j in range(11):\n",
    "    for i in range(output_test_1.shape[1]):\n",
    "        if j==0:\n",
    "            output_coord_1[j,i,0:2] = in_test_coord_1[9,i,0:2]\n",
    "        else:\n",
    "            #pdb.set_trace()\n",
    "            output_coord_1[j,i,0:2] = output_coord_1[j-1,i,0:2]+output_test_1[i,j-1,2:]*0.4\n"
   ]
  },
  {
   "cell_type": "code",
   "execution_count": 69,
   "metadata": {},
   "outputs": [
    {
     "name": "stdout",
     "output_type": "stream",
     "text": [
      "The final distance between the ground trought and the predicted coordinates is : 0.758\n"
     ]
    }
   ],
   "source": [
    "dist = np.zeros(output_coord_1.shape[1])\n",
    "for i in range(gt_test_coord_1.shape[1]):\n",
    "    dist[i] = np.sqrt(sum((gt_test_coord_1[10,i,:]-output_coord_1[10,i,:])**2))\n",
    "\n",
    "final_coord_error = np.mean(dist)\n",
    "print('The final distance between the ground trought and the predicted coordinates is :',final_coord_error.round(3))"
   ]
  },
  {
   "cell_type": "code",
   "execution_count": 70,
   "metadata": {},
   "outputs": [
    {
     "name": "stdout",
     "output_type": "stream",
     "text": [
      "The average error between the ground trought and the predicted coordinates is : 0.549\n"
     ]
    }
   ],
   "source": [
    "avr = np.zeros((gt_test_coord_1.shape[1],11))\n",
    "for i in range(gt_test_coord_1.shape[1]):\n",
    "    for j in range(11):\n",
    "        avr[i,j] = np.sqrt(sum((gt_test_coord_1[j,i,:]-output_coord_1[j,i,:])**2))\n",
    "\n",
    "average = np.mean(np.mean(avr,1))\n",
    "print('The average error between the ground trought and the predicted coordinates is :',average.round(3))"
   ]
  },
  {
   "cell_type": "code",
   "execution_count": 71,
   "metadata": {},
   "outputs": [
    {
     "data": {
      "text/plain": [
       "(-2.0277690235823393,\n",
       " 0.22227471540868282,\n",
       " -2.220917281404138,\n",
       " 0.27337701340019704)"
      ]
     },
     "execution_count": 71,
     "metadata": {},
     "output_type": "execute_result"
    },
    {
     "data": {
      "image/png": "[encoded data removed]",
      "text/plain": [
       "<matplotlib.figure.Figure at 0x1153f5978>"
      ]
     },
     "metadata": {},
     "output_type": "display_data"
    }
   ],
   "source": [
    "plt.figure(figsize=(12, 7))\n",
    "plt.rc('font', family='serif')\n",
    "plt.rc('font', size=20)\n",
    "\n",
    "ind = np.random.randint(inputs_test_1.shape[0])\n",
    "\n",
    "plt.plot(in_test_coord_1[:,ind,0],in_test_coord_1[:,ind,1],c='b')\n",
    "plt.plot(gt_test_coord_1[:,ind,0],gt_test_coord_1[:,ind,1],c='k')\n",
    "plt.plot(output_coord_1[:,ind,0],output_coord_1[:,ind,1],c='r')\n",
    "plt.axis('equal')"
   ]
  },
  {
   "cell_type": "code",
   "execution_count": 72,
   "metadata": {
    "collapsed": true
   },
   "outputs": [],
   "source": [
    "output_coord_2=np.zeros([11,inputs_test_2.shape[2],2])\n",
    "for j in range(11):\n",
    "    for i in range(output_test_2.shape[1]):\n",
    "        if j==0:\n",
    "            output_coord_2[j,i,0:2] = in_test_coord_2[9,i,0:2]\n",
    "        else:\n",
    "            output_coord_2[j,i,0:2] = output_coord_2[j-1,i,0:2]+output_test_2[i,j-1,2:]*0.4\n",
    "        "
   ]
  },
  {
   "cell_type": "code",
   "execution_count": 73,
   "metadata": {},
   "outputs": [
    {
     "name": "stdout",
     "output_type": "stream",
     "text": [
      "The final distance between the ground trought and the predicted coordinates is : 6.983\n"
     ]
    }
   ],
   "source": [
    "dist = np.zeros(inputs_test_2.shape[2])\n",
    "for i in range(inputs_test_2.shape[2]):\n",
    "    dist[i] = np.sqrt(sum((gt_test_coord_2[10,i,:]-output_coord_2[10,i,:])**2))\n",
    "\n",
    "final_coord_error = np.mean(dist)\n",
    "print('The final distance between the ground trought and the predicted coordinates is :',final_coord_error.round(3))"
   ]
  },
  {
   "cell_type": "code",
   "execution_count": 74,
   "metadata": {},
   "outputs": [
    {
     "name": "stdout",
     "output_type": "stream",
     "text": [
      "The average error between the ground trought and the predicted coordinates is : 5.135\n"
     ]
    }
   ],
   "source": [
    "avr = np.zeros((gt_test_coord_2.shape[1],11))\n",
    "for i in range(gt_test_coord_2.shape[1]):\n",
    "    for j in range(11):\n",
    "        avr[i,j] = np.sqrt(sum((gt_test_coord_2[j,i,:]-output_coord_2[j,i,:])**2))\n",
    "\n",
    "average = np.mean(np.mean(avr,1))\n",
    "print('The average error between the ground trought and the predicted coordinates is :',average.round(3))"
   ]
  },
  {
   "cell_type": "code",
   "execution_count": 75,
   "metadata": {},
   "outputs": [
    {
     "data": {
      "text/plain": [
       "(-3.887532379587836, 0.22094548378989695, -0.6280428840000001, 13.188900564)"
      ]
     },
     "execution_count": 75,
     "metadata": {},
     "output_type": "execute_result"
    },
    {
     "data": {
      "image/png": "[encoded data removed]",
      "text/plain": [
       "<matplotlib.figure.Figure at 0x115ff49b0>"
      ]
     },
     "metadata": {},
     "output_type": "display_data"
    }
   ],
   "source": [
    "plt.figure(figsize=(12, 7))\n",
    "plt.rc('font', family='serif')\n",
    "plt.rc('font', size=20)\n",
    "\n",
    "ind = np.random.randint(inputs_test_2.shape[0])\n",
    "\n",
    "plt.plot(in_test_coord_2[:,ind,0],in_test_coord_2[:,ind,1],c='b')\n",
    "plt.plot(gt_test_coord_2[:,ind,0],gt_test_coord_2[:,ind,1],c='k')\n",
    "plt.plot(output_coord_2[:,ind,0],output_coord_2[:,ind,1],c='r')\n",
    "plt.axis('equal')"
   ]
  },
  {
   "cell_type": "code",
   "execution_count": 76,
   "metadata": {
    "collapsed": true
   },
   "outputs": [],
   "source": [
    "output_coord_3=np.zeros([11,inputs_test_3.shape[2],2])\n",
    "for j in range(11):\n",
    "    for i in range(output_test_3.shape[1]):\n",
    "        if j==0:\n",
    "            output_coord_3[j,i,0:2] = in_test_coord_3[9,i,0:2]\n",
    "        else:\n",
    "            output_coord_3[j,i,0:2] = output_coord_3[j-1,i,0:2]+output_test_3[i,j-1,2:]*0.4\n",
    "        "
   ]
  },
  {
   "cell_type": "code",
   "execution_count": 77,
   "metadata": {},
   "outputs": [
    {
     "name": "stdout",
     "output_type": "stream",
     "text": [
      "The final distance between the ground trought and the predicted coordinates is : 4.962\n"
     ]
    }
   ],
   "source": [
    "dist = np.zeros(output_coord_3.shape[1])\n",
    "for i in range(gt_test_coord_3.shape[1]):\n",
    "    dist[i] = np.sqrt(sum((gt_test_coord_3[10,i,:]-output_coord_3[10,i,:])**2))\n",
    "\n",
    "final_coord_error = np.mean(dist)\n",
    "print('The final distance between the ground trought and the predicted coordinates is :',final_coord_error.round(3))"
   ]
  },
  {
   "cell_type": "code",
   "execution_count": 78,
   "metadata": {},
   "outputs": [
    {
     "name": "stdout",
     "output_type": "stream",
     "text": [
      "The average error between the ground trought and the predicted coordinates is : 3.829\n"
     ]
    }
   ],
   "source": [
    "avr = np.zeros((gt_test_coord_3.shape[1],11))\n",
    "for i in range(gt_test_coord_3.shape[1]):\n",
    "    for j in range(11):\n",
    "        avr[i,j] = np.sqrt(sum((gt_test_coord_3[j,i,:]-output_coord_3[j,i,:])**2))\n",
    "\n",
    "average = np.mean(np.mean(avr,1))\n",
    "print('The average error between the ground trought and the predicted coordinates is :',average.round(3))"
   ]
  },
  {
   "cell_type": "code",
   "execution_count": 79,
   "metadata": {},
   "outputs": [
    {
     "data": {
      "text/plain": [
       "(-0.8424555131793385,\n",
       " 2.0481753767661077,\n",
       " -1.6949670941709367,\n",
       " 3.3392856501986157)"
      ]
     },
     "execution_count": 79,
     "metadata": {},
     "output_type": "execute_result"
    },
    {
     "data": {
      "image/png": "[encoded data removed]",
      "text/plain": [
       "<matplotlib.figure.Figure at 0x115ffb630>"
      ]
     },
     "metadata": {},
     "output_type": "display_data"
    }
   ],
   "source": [
    "plt.figure(figsize=(12, 7))\n",
    "plt.rc('font', family='serif')\n",
    "plt.rc('font', size=20)\n",
    "\n",
    "ind = np.random.randint(inputs_test_3.shape[0])\n",
    "\n",
    "plt.plot(in_test_coord_3[:,ind,0],in_test_coord_3[:,ind,1],c='b')\n",
    "plt.plot(gt_test_coord_3[:,ind,0],gt_test_coord_3[:,ind,1],c='k')\n",
    "plt.plot(output_coord_3[:,ind,0],output_coord_3[:,ind,1],c='r')\n",
    "plt.axis('equal')"
   ]
  },
  {
   "cell_type": "code",
   "execution_count": 80,
   "metadata": {
    "collapsed": true
   },
   "outputs": [],
   "source": [
    "torch.save(net.state_dict(), 'fullCNN_4.pt')"
   ]
  },
  {
   "cell_type": "code",
   "execution_count": 5,
   "metadata": {},
   "outputs": [
    {
     "data": {
      "text/plain": [
       "array([[[0., 0.],\n",
       "        [0., 0.],\n",
       "        [0., 0.],\n",
       "        ...,\n",
       "        [0., 0.],\n",
       "        [0., 0.],\n",
       "        [0., 0.]],\n",
       "\n",
       "       [[0., 0.],\n",
       "        [0., 0.],\n",
       "        [0., 0.],\n",
       "        ...,\n",
       "        [0., 0.],\n",
       "        [0., 0.],\n",
       "        [0., 0.]],\n",
       "\n",
       "       [[0., 0.],\n",
       "        [0., 0.],\n",
       "        [0., 0.],\n",
       "        ...,\n",
       "        [0., 0.],\n",
       "        [0., 0.],\n",
       "        [0., 0.]]])"
      ]
     },
     "execution_count": 5,
     "metadata": {},
     "output_type": "execute_result"
    }
   ],
   "source": [
    "a=np.zeros([3,251,2])\n",
    "a"
   ]
  },
  {
   "cell_type": "code",
   "execution_count": null,
   "metadata": {
    "collapsed": true
   },
   "outputs": [],
   "source": []
  }
 ],
 "metadata": {
  "kernelspec": {
   "display_name": "Python 3",
   "language": "python",
   "name": "python3"
  },
  "language_info": {
   "codemirror_mode": {
    "name": "ipython",
    "version": 3
   },
   "file_extension": ".py",
   "mimetype": "text/x-python",
   "name": "python",
   "nbconvert_exporter": "python",
   "pygments_lexer": "ipython3",
   "version": "3.6.3"
  }
 },
 "nbformat": 4,
 "nbformat_minor": 2
}
