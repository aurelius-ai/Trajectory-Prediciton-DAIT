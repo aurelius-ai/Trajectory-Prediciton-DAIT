{
 "cells": [
  {
   "cell_type": "code",
   "execution_count": 6,
   "metadata": {},
   "outputs": [
    {
     "data": {
      "text/plain": [
       "<torch._C.Generator at 0x10fd597d0>"
      ]
     },
     "execution_count": 6,
     "metadata": {},
     "output_type": "execute_result"
    }
   ],
   "source": [
    "import torch\n",
    "from torch import nn\n",
    "from torch.autograd import Variable\n",
    "import torchvision.datasets as dsets\n",
    "import torchvision.transforms as transforms\n",
    "import matplotlib.pyplot as plt\n",
    "from CNN2D import *\n",
    "import pandas as pd\n",
    "import numpy as np\n",
    "import torch.utils.data as utils\n",
    "import time\n",
    "import os\n",
    "import pickle\n",
    "\n",
    "import pdb\n",
    "\n",
    "# For the notebook\n",
    "%matplotlib inline\n",
    "%reload_ext autoreload\n",
    "%autoreload 2\n",
    "\n",
    "torch.manual_seed(1)"
   ]
  },
  {
   "cell_type": "markdown",
   "metadata": {},
   "source": [
    "## TRAIN SET"
   ]
  },
  {
   "cell_type": "code",
   "execution_count": 7,
   "metadata": {
    "scrolled": false
   },
   "outputs": [
    {
     "data": {
      "text/plain": [
       "(torch.Size([5157, 1, 10, 164]), torch.Size([5157, 1, 11, 4]))"
      ]
     },
     "execution_count": 7,
     "metadata": {},
     "output_type": "execute_result"
    }
   ],
   "source": [
    "gt_train_coord = pickle.load( open( \"./import_dataset_2/train/gt_train_coord.pkl\", \"rb\" ) )\n",
    "gt_train  = pickle.load( open( \"./import_dataset_2/train/gt_train.pkl\", \"rb\" ) )\n",
    "in_train_coord  = pickle.load( open( \"./import_dataset_2/train/in_train_coord.pkl\", \"rb\" ) )\n",
    "inputs_train = pickle.load( open( \"./import_dataset_2/train/inputs_train.pkl\", \"rb\" ) )\n",
    "\n",
    "inputs_train = torch.from_numpy(inputs_train).float()\n",
    "gt_train = torch.from_numpy(gt_train).float()\n",
    "\n",
    "gt_train = gt_train.unsqueeze(1) # add 1 dimension to the training set\n",
    "inputs_train = inputs_train.unsqueeze(1) # add 1 dimension to the training set\n",
    "\n",
    "inputs_train.shape,gt_train.shape"
   ]
  },
  {
   "cell_type": "markdown",
   "metadata": {},
   "source": [
    "## VALIDATION SET"
   ]
  },
  {
   "cell_type": "code",
   "execution_count": 8,
   "metadata": {},
   "outputs": [
    {
     "name": "stdout",
     "output_type": "stream",
     "text": [
      "torch.Size([1719, 1, 10, 164])\n"
     ]
    },
    {
     "data": {
      "text/plain": [
       "((11, 1719, 2),\n",
       " torch.Size([1719, 1, 11, 4]),\n",
       " (10, 1719, 2),\n",
       " torch.Size([1719, 1, 10, 164]))"
      ]
     },
     "execution_count": 8,
     "metadata": {},
     "output_type": "execute_result"
    }
   ],
   "source": [
    "gt_validation_coord = pickle.load( open( \"./import_dataset_2/validation/gt_validation_coord.pkl\", \"rb\" ) )\n",
    "gt_validation = pickle.load( open( \"./import_dataset_2/validation/gt_validation.pkl\", \"rb\" ) )\n",
    "in_validation_coord = pickle.load( open( \"./import_dataset_2/validation/in_validation_coord.pkl\", \"rb\" ) )\n",
    "inputs_validation = pickle.load( open( \"./import_dataset_2/validation/inputs_validation.pkl\", \"rb\" ) )\n",
    "\n",
    "inputs_validation = torch.from_numpy(inputs_validation).float()\n",
    "gt_validation = torch.from_numpy(gt_validation).float()\n",
    "\n",
    "gt_validation = gt_validation.unsqueeze(1) # add 1 dimension to the training set\n",
    "inputs_validation = inputs_validation.unsqueeze(1) # add 1 dimension to the training set\n",
    "print (inputs_validation.shape)\n",
    "\n",
    "gt_validation_coord.shape,gt_validation.shape,in_validation_coord.shape,inputs_validation.shape"
   ]
  },
  {
   "cell_type": "markdown",
   "metadata": {},
   "source": [
    "## TEST SET"
   ]
  },
  {
   "cell_type": "code",
   "execution_count": 13,
   "metadata": {},
   "outputs": [
    {
     "name": "stdout",
     "output_type": "stream",
     "text": [
      "torch.Size([10, 1, 460, 164])\n"
     ]
    }
   ],
   "source": [
    "gt_test_coord_1 = pickle.load( open( \"./import_dataset_2/test/gt_test_coord_1.pkl\", \"rb\" ) )\n",
    "gt_test_1 = pickle.load( open( \"./import_dataset_2/test/gt_test_1.pkl\", \"rb\" ) )\n",
    "in_test_coord_1 = pickle.load( open( \"./import_dataset_2/test/in_test_coord_1.pkl\", \"rb\" ) )\n",
    "inputs_test_1 = pickle.load( open( \"./import_dataset_2/test/inputs_test_1.pkl\", \"rb\" ) )\n",
    "\n",
    "gt_test_coord_2 = pickle.load( open( \"./import_dataset_2/test/gt_test_coord_2.pkl\", \"rb\" ) )\n",
    "gt_test_2 = pickle.load( open( \"./import_dataset_2/test/gt_test_2.pkl\", \"rb\" ) )\n",
    "in_test_coord_2 = pickle.load( open( \"./import_dataset_2/test/in_test_coord_2.pkl\", \"rb\" ) )\n",
    "inputs_test_2 = pickle.load( open( \"./import_dataset_2/test/inputs_test_2.pkl\", \"rb\" ) )\n",
    "\n",
    "gt_test_coord_3 = pickle.load( open( \"./import_dataset_2/test/gt_test_coord_3.pkl\", \"rb\" ) )\n",
    "gt_test_3 = pickle.load( open( \"./import_dataset_2/test/gt_test_3.pkl\", \"rb\" ) )\n",
    "in_test_coord_3 = pickle.load( open( \"./import_dataset_2/test/in_test_coord_3.pkl\", \"rb\" ) )\n",
    "inputs_test_3 = pickle.load( open( \"./import_dataset_2/test/inputs_test_3.pkl\", \"rb\" ) )\n",
    "\n",
    "inputs_test_1 = torch.from_numpy(inputs_test_1).float()\n",
    "gt_test_1 = torch.from_numpy(gt_test_1).float()\n",
    "inputs_test_1 = inputs_test_1.unsqueeze(1) \n",
    "\n",
    "inputs_test_2 = torch.from_numpy(inputs_test_2).float()\n",
    "gt_test_2 = torch.from_numpy(gt_test_2).float()\n",
    "inputs_test_2 = inputs_test_2.unsqueeze(1)\n",
    "\n",
    "inputs_test_3 = torch.from_numpy(inputs_test_3).float()\n",
    "gt_test_3 = torch.from_numpy(gt_test_3).float()\n",
    "inputs_test_3 = inputs_test_3.unsqueeze(1)\n",
    "print (inputs_test_3.shape)"
   ]
  },
  {
   "cell_type": "markdown",
   "metadata": {},
   "source": [
    "### Model"
   ]
  },
  {
   "cell_type": "code",
   "execution_count": 22,
   "metadata": {
    "collapsed": true
   },
   "outputs": [],
   "source": [
    "net = CNN2D()\n",
    "criterion = torch.nn.MSELoss()\n",
    "optimizer = torch.optim.Adam(net.parameters(), lr=0.0001, weight_decay=1e-4)\n",
    "\n",
    "traindataset = utils.TensorDataset(inputs_train, gt_train[:,:,1:,:])\n",
    "trainloader = utils.DataLoader(traindataset, batch_size=16, shuffle=True)\n",
    "\n",
    "valdataset = utils.TensorDataset(inputs_validation, gt_validation[:,:,1:,:])\n",
    "valloader = utils.DataLoader(valdataset, batch_size=16, shuffle=True)"
   ]
  },
  {
   "cell_type": "code",
   "execution_count": 23,
   "metadata": {
    "scrolled": true
   },
   "outputs": [
    {
     "name": "stdout",
     "output_type": "stream",
     "text": [
      "Epoch: 1/150.. Validation Loss: 5.3887.. Training Loss: 7.7658.. 0.0221 s/batch \n",
      "Epoch: 2/150.. Validation Loss: 3.9014.. Training Loss: 4.5708.. 0.0294 s/batch \n",
      "Epoch: 3/150.. Validation Loss: 3.0371.. Training Loss: 3.3891.. 0.0379 s/batch \n",
      "Epoch: 4/150.. Validation Loss: 2.5261.. Training Loss: 2.7192.. 0.0383 s/batch \n",
      "Epoch: 5/150.. Validation Loss: 2.1773.. Training Loss: 2.2926.. 0.0364 s/batch \n",
      "Epoch: 6/150.. Validation Loss: 1.9978.. Training Loss: 2.0424.. 0.0328 s/batch \n",
      "Epoch: 7/150.. Validation Loss: 1.9827.. Training Loss: 1.8714.. 0.0375 s/batch \n",
      "Epoch: 8/150.. Validation Loss: 1.7523.. Training Loss: 1.7367.. 0.0343 s/batch \n",
      "Epoch: 9/150.. Validation Loss: 1.7581.. Training Loss: 1.6648.. 0.0357 s/batch \n",
      "Epoch: 10/150.. Validation Loss: 1.6167.. Training Loss: 1.5739.. 0.0335 s/batch \n",
      "Epoch: 11/150.. Validation Loss: 1.6400.. Training Loss: 1.4864.. 0.0344 s/batch \n",
      "Epoch: 12/150.. Validation Loss: 1.4745.. Training Loss: 1.3992.. 0.0345 s/batch \n",
      "Epoch: 13/150.. Validation Loss: 1.4130.. Training Loss: 1.3269.. 0.0331 s/batch \n",
      "Epoch: 14/150.. Validation Loss: 1.4138.. Training Loss: 1.2849.. 0.0350 s/batch \n",
      "Epoch: 15/150.. Validation Loss: 1.3222.. Training Loss: 1.2377.. 0.0320 s/batch \n",
      "Epoch: 16/150.. Validation Loss: 1.2680.. Training Loss: 1.1635.. 0.0355 s/batch \n",
      "Epoch: 17/150.. Validation Loss: 1.2467.. Training Loss: 1.1370.. 0.0412 s/batch \n",
      "Epoch: 18/150.. Validation Loss: 1.2021.. Training Loss: 1.0919.. 0.0416 s/batch \n",
      "Epoch: 19/150.. Validation Loss: 1.3607.. Training Loss: 1.0652.. 0.0371 s/batch \n",
      "Epoch: 20/150.. Validation Loss: 1.1806.. Training Loss: 1.0325.. 0.0402 s/batch \n",
      "Epoch: 21/150.. Validation Loss: 1.1772.. Training Loss: 0.9962.. 0.0378 s/batch \n",
      "Epoch: 22/150.. Validation Loss: 1.1167.. Training Loss: 0.9817.. 0.0374 s/batch \n",
      "Epoch: 23/150.. Validation Loss: 1.1867.. Training Loss: 0.9646.. 0.0325 s/batch \n",
      "Epoch: 24/150.. Validation Loss: 1.0715.. Training Loss: 0.9429.. 0.0359 s/batch \n",
      "Epoch: 25/150.. Validation Loss: 1.0737.. Training Loss: 0.9255.. 0.0326 s/batch \n",
      "Epoch: 26/150.. Validation Loss: 1.0764.. Training Loss: 0.8995.. 0.0350 s/batch \n",
      "Epoch: 27/150.. Validation Loss: 1.1060.. Training Loss: 0.8895.. 0.0339 s/batch \n",
      "Epoch: 28/150.. Validation Loss: 1.0360.. Training Loss: 0.8713.. 0.0347 s/batch \n",
      "Epoch: 29/150.. Validation Loss: 1.0692.. Training Loss: 0.8552.. 0.0353 s/batch \n",
      "Epoch: 30/150.. Validation Loss: 1.0835.. Training Loss: 0.8504.. 0.0317 s/batch \n",
      "Epoch: 31/150.. Validation Loss: 1.0556.. Training Loss: 0.8381.. 0.0350 s/batch \n",
      "Epoch: 32/150.. Validation Loss: 1.0158.. Training Loss: 0.8257.. 0.0329 s/batch \n",
      "Epoch: 33/150.. Validation Loss: 1.0050.. Training Loss: 0.8198.. 0.0324 s/batch \n",
      "Epoch: 34/150.. Validation Loss: 1.0570.. Training Loss: 0.8017.. 0.0353 s/batch \n",
      "Epoch: 35/150.. Validation Loss: 0.9781.. Training Loss: 0.7853.. 0.0325 s/batch \n",
      "Epoch: 36/150.. Validation Loss: 0.9825.. Training Loss: 0.7859.. 0.0323 s/batch \n",
      "Epoch: 37/150.. Validation Loss: 0.9775.. Training Loss: 0.7771.. 0.0355 s/batch \n",
      "Epoch: 38/150.. Validation Loss: 0.9752.. Training Loss: 0.7627.. 0.0322 s/batch \n",
      "Epoch: 39/150.. Validation Loss: 0.9530.. Training Loss: 0.7578.. 0.0362 s/batch \n",
      "Epoch: 40/150.. Validation Loss: 0.9715.. Training Loss: 0.7577.. 0.0433 s/batch \n",
      "Epoch: 41/150.. Validation Loss: 0.9565.. Training Loss: 0.7325.. 0.0368 s/batch \n",
      "Epoch: 42/150.. Validation Loss: 0.9603.. Training Loss: 0.7376.. 0.0333 s/batch \n",
      "Epoch: 43/150.. Validation Loss: 0.9343.. Training Loss: 0.7182.. 0.0323 s/batch \n",
      "Epoch: 44/150.. Validation Loss: 0.9399.. Training Loss: 0.7275.. 0.0361 s/batch \n",
      "Epoch: 45/150.. Validation Loss: 0.9468.. Training Loss: 0.6957.. 0.0324 s/batch \n",
      "Epoch: 46/150.. Validation Loss: 0.9431.. Training Loss: 0.6986.. 0.0337 s/batch \n",
      "Epoch: 47/150.. Validation Loss: 0.9318.. Training Loss: 0.6981.. 0.0356 s/batch \n",
      "Epoch: 48/150.. Validation Loss: 0.9920.. Training Loss: 0.7001.. 0.0325 s/batch \n",
      "Epoch: 49/150.. Validation Loss: 0.9567.. Training Loss: 0.6754.. 0.0363 s/batch \n",
      "Epoch: 50/150.. Validation Loss: 0.9295.. Training Loss: 0.6709.. 0.0335 s/batch \n",
      "Epoch: 51/150.. Validation Loss: 0.9259.. Training Loss: 0.6635.. 0.0355 s/batch \n",
      "Epoch: 52/150.. Validation Loss: 0.9189.. Training Loss: 0.6593.. 0.0317 s/batch \n",
      "Epoch: 53/150.. Validation Loss: 0.9314.. Training Loss: 0.6560.. 0.0329 s/batch \n",
      "Epoch: 54/150.. Validation Loss: 0.9203.. Training Loss: 0.6430.. 0.0357 s/batch \n",
      "Epoch: 55/150.. Validation Loss: 0.9276.. Training Loss: 0.6418.. 0.0317 s/batch \n",
      "Epoch: 56/150.. Validation Loss: 0.8885.. Training Loss: 0.6297.. 0.0377 s/batch \n",
      "Epoch: 57/150.. Validation Loss: 0.8904.. Training Loss: 0.6363.. 0.0345 s/batch \n",
      "Epoch: 58/150.. Validation Loss: 0.9520.. Training Loss: 0.6292.. 0.0348 s/batch \n",
      "Epoch: 59/150.. Validation Loss: 0.8752.. Training Loss: 0.6286.. 0.0351 s/batch \n",
      "Epoch: 60/150.. Validation Loss: 0.8755.. Training Loss: 0.6164.. 0.0356 s/batch \n",
      "Epoch: 61/150.. Validation Loss: 0.9326.. Training Loss: 0.6054.. 0.0348 s/batch \n",
      "Epoch: 62/150.. Validation Loss: 0.8799.. Training Loss: 0.6034.. 0.0335 s/batch \n",
      "Epoch: 63/150.. Validation Loss: 0.8848.. Training Loss: 0.6017.. 0.0348 s/batch \n",
      "Epoch: 64/150.. Validation Loss: 0.8753.. Training Loss: 0.6028.. 0.0326 s/batch \n",
      "Epoch: 65/150.. Validation Loss: 0.8716.. Training Loss: 0.5922.. 0.0338 s/batch \n",
      "Epoch: 66/150.. Validation Loss: 0.8675.. Training Loss: 0.5965.. 0.0352 s/batch \n",
      "Epoch: 67/150.. Validation Loss: 0.8661.. Training Loss: 0.5774.. 0.0330 s/batch \n",
      "Epoch: 68/150.. Validation Loss: 0.8692.. Training Loss: 0.6028.. 0.0343 s/batch \n",
      "Epoch: 69/150.. Validation Loss: 0.8646.. Training Loss: 0.5885.. 0.0364 s/batch \n",
      "Epoch: 70/150.. Validation Loss: 0.8600.. Training Loss: 0.5739.. 0.0303 s/batch \n",
      "Epoch: 71/150.. Validation Loss: 0.8804.. Training Loss: 0.5707.. 0.0257 s/batch \n",
      "Epoch: 72/150.. Validation Loss: 0.8591.. Training Loss: 0.5709.. 0.0196 s/batch \n",
      "Epoch: 73/150.. Validation Loss: 0.8675.. Training Loss: 0.5686.. 0.0194 s/batch \n",
      "Epoch: 74/150.. Validation Loss: 0.8482.. Training Loss: 0.5575.. 0.0193 s/batch \n",
      "Epoch: 75/150.. Validation Loss: 0.8624.. Training Loss: 0.5649.. 0.0201 s/batch \n",
      "Epoch: 76/150.. Validation Loss: 0.8567.. Training Loss: 0.5493.. 0.0203 s/batch \n",
      "Epoch: 77/150.. Validation Loss: 0.9298.. Training Loss: 0.5641.. 0.0195 s/batch \n",
      "Epoch: 78/150.. Validation Loss: 0.8805.. Training Loss: 0.5429.. 0.0201 s/batch \n",
      "Epoch: 79/150.. Validation Loss: 0.8671.. Training Loss: 0.5391.. 0.0197 s/batch \n",
      "Epoch: 80/150.. Validation Loss: 0.8443.. Training Loss: 0.5335.. 0.0196 s/batch \n",
      "Epoch: 81/150.. Validation Loss: 0.8462.. Training Loss: 0.5308.. 0.0204 s/batch \n",
      "Epoch: 82/150.. Validation Loss: 0.8329.. Training Loss: 0.5403.. 0.0195 s/batch \n",
      "Epoch: 83/150.. Validation Loss: 0.8750.. Training Loss: 0.5290.. 0.0194 s/batch \n",
      "Epoch: 84/150.. Validation Loss: 0.8593.. Training Loss: 0.5246.. 0.0195 s/batch \n",
      "Epoch: 85/150.. Validation Loss: 0.8483.. Training Loss: 0.5361.. 0.0199 s/batch \n",
      "Epoch: 86/150.. Validation Loss: 0.8281.. Training Loss: 0.5282.. 0.0200 s/batch \n",
      "Epoch: 87/150.. Validation Loss: 0.9019.. Training Loss: 0.5230.. 0.0201 s/batch \n",
      "Epoch: 88/150.. Validation Loss: 0.8570.. Training Loss: 0.5217.. 0.0201 s/batch \n",
      "Epoch: 89/150.. Validation Loss: 0.8320.. Training Loss: 0.5169.. 0.0198 s/batch \n",
      "Epoch: 90/150.. Validation Loss: 0.8568.. Training Loss: 0.5092.. 0.0194 s/batch \n",
      "Epoch: 91/150.. Validation Loss: 0.8189.. Training Loss: 0.5070.. 0.0194 s/batch \n",
      "Epoch: 92/150.. Validation Loss: 0.8484.. Training Loss: 0.4999.. 0.0199 s/batch \n",
      "Epoch: 93/150.. Validation Loss: 0.8262.. Training Loss: 0.5028.. 0.0208 s/batch \n",
      "Epoch: 94/150.. Validation Loss: 0.9297.. Training Loss: 0.5060.. 0.0194 s/batch \n",
      "Epoch: 95/150.. Validation Loss: 0.8130.. Training Loss: 0.4997.. 0.0194 s/batch \n",
      "Epoch: 96/150.. Validation Loss: 0.8437.. Training Loss: 0.4956.. 0.0201 s/batch \n",
      "Epoch: 97/150.. Validation Loss: 0.8163.. Training Loss: 0.4924.. 0.0199 s/batch \n",
      "Epoch: 98/150.. Validation Loss: 0.8464.. Training Loss: 0.4923.. 0.0194 s/batch \n",
      "Epoch: 99/150.. Validation Loss: 0.8221.. Training Loss: 0.5009.. 0.0194 s/batch \n",
      "Epoch: 100/150.. Validation Loss: 0.8389.. Training Loss: 0.4850.. 0.0194 s/batch \n",
      "Epoch: 101/150.. Validation Loss: 0.8441.. Training Loss: 0.4960.. 0.0195 s/batch \n"
     ]
    },
    {
     "name": "stdout",
     "output_type": "stream",
     "text": [
      "Epoch: 102/150.. Validation Loss: 0.8375.. Training Loss: 0.4880.. 0.0202 s/batch \n",
      "Epoch: 103/150.. Validation Loss: 0.8471.. Training Loss: 0.4888.. 0.0200 s/batch \n",
      "Epoch: 104/150.. Validation Loss: 0.8517.. Training Loss: 0.4921.. 0.0200 s/batch \n",
      "Epoch: 105/150.. Validation Loss: 0.8305.. Training Loss: 0.4916.. 0.0205 s/batch \n",
      "Epoch: 106/150.. Validation Loss: 0.8378.. Training Loss: 0.4819.. 0.0198 s/batch \n",
      "Epoch: 107/150.. Validation Loss: 0.8624.. Training Loss: 0.4766.. 0.0195 s/batch \n",
      "Epoch: 108/150.. Validation Loss: 0.8375.. Training Loss: 0.4765.. 0.0195 s/batch \n",
      "Epoch: 109/150.. Validation Loss: 0.8328.. Training Loss: 0.4784.. 0.0196 s/batch \n",
      "Epoch: 110/150.. Validation Loss: 0.8026.. Training Loss: 0.4769.. 0.0196 s/batch \n",
      "Epoch: 111/150.. Validation Loss: 0.8390.. Training Loss: 0.4739.. 0.0207 s/batch \n",
      "Epoch: 112/150.. Validation Loss: 0.8249.. Training Loss: 0.4708.. 0.0197 s/batch \n",
      "Epoch: 113/150.. Validation Loss: 0.8370.. Training Loss: 0.4707.. 0.0196 s/batch \n",
      "Epoch: 114/150.. Validation Loss: 0.8197.. Training Loss: 0.4584.. 0.0195 s/batch \n",
      "Epoch: 115/150.. Validation Loss: 0.8283.. Training Loss: 0.4685.. 0.0202 s/batch \n",
      "Epoch: 116/150.. Validation Loss: 0.8307.. Training Loss: 0.4634.. 0.0201 s/batch \n",
      "Epoch: 117/150.. Validation Loss: 0.8583.. Training Loss: 0.4691.. 0.0195 s/batch \n",
      "Epoch: 118/150.. Validation Loss: 0.8256.. Training Loss: 0.4581.. 0.0195 s/batch \n",
      "Epoch: 119/150.. Validation Loss: 0.8436.. Training Loss: 0.4557.. 0.0195 s/batch \n",
      "Epoch: 120/150.. Validation Loss: 0.8215.. Training Loss: 0.4532.. 0.0196 s/batch \n",
      "Epoch: 121/150.. Validation Loss: 0.8209.. Training Loss: 0.4507.. 0.0203 s/batch \n",
      "Epoch: 122/150.. Validation Loss: 0.8190.. Training Loss: 0.4538.. 0.0206 s/batch \n",
      "Epoch: 123/150.. Validation Loss: 0.8328.. Training Loss: 0.4591.. 0.0196 s/batch \n",
      "Epoch: 124/150.. Validation Loss: 0.7999.. Training Loss: 0.4452.. 0.0205 s/batch \n",
      "Epoch: 125/150.. Validation Loss: 0.8163.. Training Loss: 0.4461.. 0.0199 s/batch \n",
      "Epoch: 126/150.. Validation Loss: 0.8113.. Training Loss: 0.4535.. 0.0203 s/batch \n",
      "Epoch: 127/150.. Validation Loss: 0.8164.. Training Loss: 0.4425.. 0.0206 s/batch \n",
      "Epoch: 128/150.. Validation Loss: 0.8163.. Training Loss: 0.4354.. 0.0195 s/batch \n",
      "Epoch: 129/150.. Validation Loss: 0.8490.. Training Loss: 0.4483.. 0.0195 s/batch \n",
      "Epoch: 130/150.. Validation Loss: 0.8403.. Training Loss: 0.4322.. 0.0196 s/batch \n",
      "Epoch: 131/150.. Validation Loss: 0.8160.. Training Loss: 0.4617.. 0.0201 s/batch \n",
      "Epoch: 132/150.. Validation Loss: 0.8059.. Training Loss: 0.4407.. 0.0205 s/batch \n",
      "Epoch: 133/150.. Validation Loss: 0.7998.. Training Loss: 0.4481.. 0.0196 s/batch \n",
      "Epoch: 134/150.. Validation Loss: 0.8084.. Training Loss: 0.4290.. 0.0195 s/batch \n",
      "Epoch: 135/150.. Validation Loss: 0.8058.. Training Loss: 0.4339.. 0.0195 s/batch \n",
      "Epoch: 136/150.. Validation Loss: 0.8220.. Training Loss: 0.4325.. 0.0207 s/batch \n",
      "Epoch: 137/150.. Validation Loss: 0.8026.. Training Loss: 0.4324.. 0.0200 s/batch \n",
      "Epoch: 138/150.. Validation Loss: 0.7923.. Training Loss: 0.4337.. 0.0196 s/batch \n",
      "Epoch: 139/150.. Validation Loss: 0.8100.. Training Loss: 0.4289.. 0.0203 s/batch \n",
      "Epoch: 140/150.. Validation Loss: 0.8075.. Training Loss: 0.4304.. 0.0207 s/batch \n",
      "Epoch: 141/150.. Validation Loss: 0.7941.. Training Loss: 0.4240.. 0.0195 s/batch \n",
      "Epoch: 142/150.. Validation Loss: 0.7868.. Training Loss: 0.4212.. 0.0204 s/batch \n",
      "Epoch: 143/150.. Validation Loss: 0.8161.. Training Loss: 0.4272.. 0.0198 s/batch \n",
      "Epoch: 144/150.. Validation Loss: 0.8303.. Training Loss: 0.4285.. 0.0196 s/batch \n",
      "Epoch: 145/150.. Validation Loss: 0.8266.. Training Loss: 0.4300.. 0.0204 s/batch \n",
      "Epoch: 146/150.. Validation Loss: 0.8149.. Training Loss: 0.4246.. 0.0196 s/batch \n",
      "Epoch: 147/150.. Validation Loss: 0.8172.. Training Loss: 0.4185.. 0.0196 s/batch \n",
      "Epoch: 148/150.. Validation Loss: 0.8055.. Training Loss: 0.4195.. 0.0228 s/batch \n",
      "Epoch: 149/150.. Validation Loss: 0.8137.. Training Loss: 0.4198.. 0.0210 s/batch \n",
      "Epoch: 150/150.. Validation Loss: 0.8087.. Training Loss: 0.4196.. 0.0208 s/batch \n"
     ]
    }
   ],
   "source": [
    "epochs = 150\n",
    "steps = 0\n",
    "running_loss = 0\n",
    "print_every = 323\n",
    "loss_train = []\n",
    "loss_val = []\n",
    "\n",
    "for e in range(epochs):\n",
    "    start = time.time()\n",
    "    steps_bis = 0\n",
    "    total_train_loss=0\n",
    "    for train_coord, ground_tru in iter(trainloader):\n",
    "        \n",
    "        steps += 1\n",
    "        steps_bis += 1\n",
    "        \n",
    "        input_train = Variable(train_coord)\n",
    "        in_train = input_train.squeeze(1)\n",
    "        target = Variable(ground_tru)\n",
    "        targets = target.squeeze(1)\n",
    "        optimizer.zero_grad()\n",
    "        out = net.forward(input_train)\n",
    "        out = out.reshape(out.shape[0],10,4)\n",
    "        out_bis = out[:,:,0:2].clone()  \n",
    "        for i in range(10):\n",
    "            if i == 0:\n",
    "                out_bis[:, i, 0:2] = in_train[:, -1, 0:2] + out[:, i, 2:]*0.4\n",
    "            else:\n",
    "                out_bis[:, i, 0:2] = out[:, i - 1, 0:2] + out[:, i, 2:]*0.4\n",
    "        \n",
    "        loss1 = (criterion(out[:,:,0:2], targets[:,:,0:2]))\n",
    "        loss2 = (criterion(out[:,:,2:], targets[:,:,2:]))\n",
    "        loss3 = criterion(out_bis, targets[:,:,0:2])\n",
    "        \n",
    "        loss1.backward(retain_graph=True)\n",
    "        loss2.backward(retain_graph=True)\n",
    "        loss3.backward(retain_graph=True)\n",
    "        optimizer.step()\n",
    "        \n",
    "        running_loss += (loss1+loss2+loss3).item()\n",
    "        total_train_loss += (loss1+loss2+loss3).item()\n",
    "        \n",
    "        if steps % print_every == 0:\n",
    "            stop = time.time()\n",
    "            val_loss=0\n",
    "            \n",
    "            for ii, (images, labels) in enumerate(valloader):\n",
    "                \n",
    "                inp = Variable(images)\n",
    "                input_val = inp.squeeze(1)\n",
    "                lab = Variable(labels)\n",
    "                valgt = lab.squeeze(1)\n",
    "                predicted = net.predict(inp)\n",
    "                predicted = predicted.reshape(predicted.shape[0],10,4)\n",
    "                predicted_bis = predicted[:,:,0:2].clone()\n",
    "                #print(out_bis.shape)   \n",
    "                for i in range(10):\n",
    "                    if i == 0:\n",
    "                        predicted_bis[:, i, 0:2] = input_val[:, -1, 0:2] + predicted[:, i, 2:]*0.4\n",
    "                    else:\n",
    "                        predicted_bis[:, i, 0:2] = predicted[:, i - 1, 0:2] + predicted[:, i, 2:]*0.4\n",
    "                val_loss+= (criterion(predicted[:,:,0:2],valgt[:,:,0:2]).item()\n",
    "                                + criterion(predicted[:,:,2:],valgt[:,:,2:]).item()\n",
    "                                + criterion(predicted_bis, valgt[:,:,0:2]).item())\n",
    "                \n",
    "            print(\"Epoch: {}/{}..\".format(e+1, epochs),\n",
    "                  \"Validation Loss: {:.4f}..\".format(val_loss/ii),\n",
    "                  \"Training Loss: {:.4f}..\".format(running_loss/print_every),\n",
    "                  \"{:.4f} s/batch \".format((stop - start)/print_every),\n",
    "                 )\n",
    "            loss_val.append(val_loss/ii)\n",
    "            running_loss = 0\n",
    "            start = time.time()\n",
    "    loss_train.append(total_train_loss/steps_bis)"
   ]
  },
  {
   "cell_type": "code",
   "execution_count": 24,
   "metadata": {},
   "outputs": [
    {
     "data": {
      "text/plain": [
       "<matplotlib.legend.Legend at 0x115659dd8>"
      ]
     },
     "execution_count": 24,
     "metadata": {},
     "output_type": "execute_result"
    },
    {
     "data": {
      "image/png": "[encoded data removed]",
      "text/plain": [
       "<matplotlib.figure.Figure at 0x1161457b8>"
      ]
     },
     "metadata": {},
     "output_type": "display_data"
    }
   ],
   "source": [
    "epoch = np.arange(1,epochs+1)\n",
    "plt.figure(figsize=(12, 7))\n",
    "plt.rc('font', family='serif')\n",
    "plt.rc('font', size=20)\n",
    "\n",
    "plt.plot(epoch,loss_train,label='Training loss')\n",
    "plt.plot(epoch,loss_val,c='k',label='Validation loss')\n",
    "plt.xlabel('epoch')\n",
    "plt.ylabel('MSE error')\n",
    "plt.legend()"
   ]
  },
  {
   "cell_type": "code",
   "execution_count": 19,
   "metadata": {
    "collapsed": true
   },
   "outputs": [],
   "source": [
    "output_test_1 = net.predict(inputs_test_1)\n",
    "output_test_1 = output_test_1.data.numpy()\n",
    "output_test_1 = np.reshape(output_test_1,(250,10,4))\n",
    "\n",
    "output_test_2 = net.predict(inputs_test_2)\n",
    "output_test_2 = output_test_2.data.numpy()\n",
    "output_test_2 = np.reshape(output_test_2,(1006,10,4))\n",
    "\n",
    "output_test_3 = net.predict(inputs_test_3)\n",
    "output_test_3 = output_test_3.data.numpy()\n",
    "output_test_3 = np.reshape(output_test_3,(460,10,4))"
   ]
  },
  {
   "cell_type": "markdown",
   "metadata": {},
   "source": [
    "## Post processing step\n",
    "Go back to coordinate:\n",
    "We have Vx and Vy and we want x and y.\n",
    "$ V = d/t$\n",
    "$ d = V*t$\n",
    "Here t = 0.4s between each point.\n",
    "Start from data at index 9. Then we add d_x and d_y to the last x and y."
   ]
  },
  {
   "cell_type": "markdown",
   "metadata": {},
   "source": [
    "##### Type 1 trajectory"
   ]
  },
  {
   "cell_type": "code",
   "execution_count": 20,
   "metadata": {},
   "outputs": [
    {
     "name": "stdout",
     "output_type": "stream",
     "text": [
      "[[[ 0.06        0.02      ]\n",
      "  [ 0.00894427  0.0491935 ]\n",
      "  [ 0.          0.        ]\n",
      "  ...\n",
      "  [ 0.          0.        ]\n",
      "  [ 0.          0.        ]\n",
      "  [ 0.          0.        ]]\n",
      "\n",
      " [[ 0.04597479  0.07554098]\n",
      "  [ 0.02285544  0.18330188]\n",
      "  [-0.01394021  0.18845606]\n",
      "  ...\n",
      "  [ 0.          0.        ]\n",
      "  [ 0.          0.        ]\n",
      "  [ 0.          0.        ]]\n",
      "\n",
      " [[ 0.01296235  0.26127845]\n",
      "  [ 0.03933112  0.43012678]\n",
      "  [-0.03282522  0.4080845 ]\n",
      "  ...\n",
      "  [ 0.          0.        ]\n",
      "  [ 0.          0.        ]\n",
      "  [ 0.          0.        ]]\n",
      "\n",
      " ...\n",
      "\n",
      " [[ 0.13870919  1.09810914]\n",
      "  [-0.62712589  1.53473233]\n",
      "  [ 0.00499434  0.54440208]\n",
      "  ...\n",
      "  [ 0.          0.        ]\n",
      "  [ 0.          0.        ]\n",
      "  [ 0.          0.        ]]\n",
      "\n",
      " [[ 0.12502852  1.17163045]\n",
      "  [-0.75364807  1.69790631]\n",
      "  [-0.10754205  0.391691  ]\n",
      "  ...\n",
      "  [ 0.          0.        ]\n",
      "  [ 0.          0.        ]\n",
      "  [ 0.          0.        ]]\n",
      "\n",
      " [[ 0.14979232  1.17120671]\n",
      "  [-0.88062574  1.7512803 ]\n",
      "  [-0.23111668  0.20943203]\n",
      "  ...\n",
      "  [ 0.          0.        ]\n",
      "  [ 0.          0.        ]\n",
      "  [ 0.          0.        ]]]\n"
     ]
    }
   ],
   "source": [
    "output_coord_1=np.zeros([11,inputs_test_1.shape[2],2])\n",
    "for j in range(11):\n",
    "    for i in range(output_test_1.shape[2]):\n",
    "        if j==0:\n",
    "            output_coord_1[j,i,0:2] = in_test_coord_1[9,i,0:2]\n",
    "        else:\n",
    "            #pdb.set_trace()\n",
    "            output_coord_1[j,i,0:2] = output_coord_1[j-1,i,0:2]+output_test_1[i,j-1,2:]*0.4\n",
    "print(output_coord_1)        "
   ]
  },
  {
   "cell_type": "code",
   "execution_count": 21,
   "metadata": {},
   "outputs": [
    {
     "name": "stdout",
     "output_type": "stream",
     "text": [
      "The final distance between the ground trought and the predicted coordinates is : 0.599\n"
     ]
    }
   ],
   "source": [
    "dist = np.zeros(inputs_test_1.shape[2])\n",
    "for i in range(inputs_test_1.shape[2]):\n",
    "    dist[i] = np.sqrt(sum((gt_test_coord_1[10,i,:]-output_coord_1[10,i,:])**2))\n",
    "\n",
    "final_coord_error = np.mean(dist)\n",
    "print('The final distance between the ground trought and the predicted coordinates is :',final_coord_error.round(3))"
   ]
  },
  {
   "cell_type": "code",
   "execution_count": 58,
   "metadata": {},
   "outputs": [
    {
     "name": "stdout",
     "output_type": "stream",
     "text": [
      "The average error between the ground trought and the predicted coordinates is : 0.512\n"
     ]
    }
   ],
   "source": [
    "avr = np.zeros((inputs_test_1.shape[2],11))\n",
    "for i in range(inputs_test_1.shape[2]):\n",
    "    for j in range(11):\n",
    "        avr[i,j] = np.sqrt(sum((gt_test_coord_1[j,i,:]-output_coord_1[j,i,:])**2))\n",
    "\n",
    "average = np.mean(np.mean(avr,1))\n",
    "print('The average error between the ground trought and the predicted coordinates is :',average.round(3))"
   ]
  },
  {
   "cell_type": "code",
   "execution_count": 59,
   "metadata": {},
   "outputs": [
    {
     "data": {
      "text/plain": [
       "(-0.13970358335482888,\n",
       " 0.7337752504514066,\n",
       " -0.27637536472082136,\n",
       " 5.8038826591372485)"
      ]
     },
     "execution_count": 59,
     "metadata": {},
     "output_type": "execute_result"
    },
    {
     "data": {
      "image/png": "[encoded data removed]",
      "text/plain": [
       "<matplotlib.figure.Figure at 0x113161cc0>"
      ]
     },
     "metadata": {},
     "output_type": "display_data"
    }
   ],
   "source": [
    "plt.figure(figsize=(12, 7))\n",
    "plt.rc('font', family='serif')\n",
    "plt.rc('font', size=20)\n",
    "\n",
    "ind = np.random.randint(inputs_test_1.shape[1])\n",
    "\n",
    "plt.plot(in_test_coord_1[:,ind,0],in_test_coord_1[:,ind,1],c='b')\n",
    "plt.plot(gt_test_coord_1[:,ind,0],gt_test_coord_1[:,ind,1],c='k')\n",
    "plt.plot(output_coord_1[:,ind,0],output_coord_1[:,ind,1],c='r')\n",
    "plt.axis('equal')"
   ]
  },
  {
   "cell_type": "code",
   "execution_count": 60,
   "metadata": {
    "collapsed": true
   },
   "outputs": [],
   "source": [
    "output_coord_2=np.zeros([11,inputs_test_2.shape[2],2])\n",
    "for j in range(11):\n",
    "    for i in range(output_test_2.shape[2]):\n",
    "        if j==0:\n",
    "            output_coord_2[j,i,0:2] = in_test_coord_2[9,i,0:2]\n",
    "        else:\n",
    "            output_coord_2[j,i,0:2] = output_coord_2[j-1,i,0:2]+output_test_2[i,j-1,2:]*0.4\n",
    "        "
   ]
  },
  {
   "cell_type": "code",
   "execution_count": 61,
   "metadata": {},
   "outputs": [
    {
     "name": "stdout",
     "output_type": "stream",
     "text": [
      "The final distance between the ground trought and the predicted coordinates is : 7.016\n"
     ]
    }
   ],
   "source": [
    "dist = np.zeros(inputs_test_2.shape[2])\n",
    "for i in range(inputs_test_2.shape[2]):\n",
    "    dist[i] = np.sqrt(sum((gt_test_coord_2[10,i,:]-output_coord_2[10,i,:])**2))\n",
    "\n",
    "final_coord_error = np.mean(dist)\n",
    "print('The final distance between the ground trought and the predicted coordinates is :',final_coord_error.round(3))"
   ]
  },
  {
   "cell_type": "code",
   "execution_count": 62,
   "metadata": {},
   "outputs": [
    {
     "name": "stdout",
     "output_type": "stream",
     "text": [
      "The average error between the ground trought and the predicted coordinates is : 2.196\n"
     ]
    }
   ],
   "source": [
    "avr = np.zeros((inputs_test_2.shape[1],11))\n",
    "for i in range(inputs_test_2.shape[1]):\n",
    "    for j in range(11):\n",
    "        avr[i,j] = np.sqrt(sum((gt_test_coord_2[j,i,:]-output_coord_2[j,i,:])**2))\n",
    "\n",
    "average = np.mean(np.mean(avr,1))\n",
    "print('The average error between the ground trought and the predicted coordinates is :',average.round(3))"
   ]
  },
  {
   "cell_type": "code",
   "execution_count": 63,
   "metadata": {},
   "outputs": [
    {
     "data": {
      "text/plain": [
       "(-0.10866605070319557, 2.281987064767107, -0.5169107140000001, 10.855124994)"
      ]
     },
     "execution_count": 63,
     "metadata": {},
     "output_type": "execute_result"
    },
    {
     "data": {
      "image/png": "[encoded data removed]",
      "text/plain": [
       "<matplotlib.figure.Figure at 0x1102a1940>"
      ]
     },
     "metadata": {},
     "output_type": "display_data"
    }
   ],
   "source": [
    "plt.figure(figsize=(12, 7))\n",
    "plt.rc('font', family='serif')\n",
    "plt.rc('font', size=20)\n",
    "\n",
    "ind = np.random.randint(inputs_test_2.shape[1])\n",
    "\n",
    "plt.plot(in_test_coord_2[:,ind,0],in_test_coord_2[:,ind,1],c='b')\n",
    "plt.plot(gt_test_coord_2[:,ind,0],gt_test_coord_2[:,ind,1],c='k')\n",
    "plt.plot(output_coord_2[:,ind,0],output_coord_2[:,ind,1],c='r')\n",
    "plt.axis('equal')"
   ]
  },
  {
   "cell_type": "code",
   "execution_count": 73,
   "metadata": {
    "collapsed": true
   },
   "outputs": [],
   "source": [
    "output_coord_3=np.zeros([11,inputs_test_3.shape[2],2])\n",
    "for j in range(11):\n",
    "    for i in range(output_test_3.shape[2]):\n",
    "        if j==0:\n",
    "            output_coord_3[j,i,0:2] = in_test_coord_3[9,i,0:2]\n",
    "        else:\n",
    "            output_coord_3[j,i,0:2] = output_coord_3[j-1,i,0:2]+output_test_3[i,j-1,2:]*0.4\n",
    "        "
   ]
  },
  {
   "cell_type": "code",
   "execution_count": 74,
   "metadata": {},
   "outputs": [
    {
     "name": "stdout",
     "output_type": "stream",
     "text": [
      "The final distance between the ground trought and the predicted coordinates is : 4.973\n"
     ]
    }
   ],
   "source": [
    "dist = np.zeros(inputs_test_3.shape[2])\n",
    "for i in range(inputs_test_3.shape[2]):\n",
    "    dist[i] = np.sqrt(sum((gt_test_coord_3[10,i,:]-output_coord_3[10,i,:])**2))\n",
    "\n",
    "final_coord_error = np.mean(dist)\n",
    "print('The final distance between the ground trought and the predicted coordinates is :',final_coord_error.round(3))"
   ]
  },
  {
   "cell_type": "code",
   "execution_count": 75,
   "metadata": {},
   "outputs": [
    {
     "name": "stdout",
     "output_type": "stream",
     "text": [
      "The average error between the ground trought and the predicted coordinates is : 0.757\n"
     ]
    }
   ],
   "source": [
    "avr = np.zeros((inputs_test_3.shape[1],11))\n",
    "for i in range(inputs_test_3.shape[1]):\n",
    "    for j in range(11):\n",
    "        avr[i,j] = np.sqrt(sum((gt_test_coord_3[j,i,:]-output_coord_3[j,i,:])**2))\n",
    "\n",
    "average = np.mean(np.mean(avr,1))\n",
    "print('The average error between the ground trought and the predicted coordinates is :',average.round(3))"
   ]
  },
  {
   "cell_type": "code",
   "execution_count": 87,
   "metadata": {},
   "outputs": [
    {
     "name": "stdout",
     "output_type": "stream",
     "text": [
      "[[[-0.44878094  2.02912955]\n",
      "  [-0.04801265  3.9600362 ]\n",
      "  [-0.49563999  5.01835162]\n",
      "  ...\n",
      "  [ 0.          0.        ]\n",
      "  [ 0.          0.        ]\n",
      "  [ 0.          0.        ]]\n",
      "\n",
      " [[-0.32800333  2.13485279]\n",
      "  [-0.04232301  4.11956711]\n",
      "  [-0.61762824  5.49063498]\n",
      "  ...\n",
      "  [ 0.          0.        ]\n",
      "  [ 0.          0.        ]\n",
      "  [ 0.          0.        ]]\n",
      "\n",
      " [[-0.24218544  2.26975311]\n",
      "  [-0.0528269   4.56373535]\n",
      "  [-0.81112827  5.97971485]\n",
      "  ...\n",
      "  [ 0.          0.        ]\n",
      "  [ 0.          0.        ]\n",
      "  [ 0.          0.        ]]\n",
      "\n",
      " ...\n",
      "\n",
      " [[ 0.33591969  3.3014394 ]\n",
      "  [-0.35474862  6.95468671]\n",
      "  [-1.16672139  9.49012539]\n",
      "  ...\n",
      "  [ 0.          0.        ]\n",
      "  [ 0.          0.        ]\n",
      "  [ 0.          0.        ]]\n",
      "\n",
      " [[ 0.33167921  3.52524965]\n",
      "  [-0.14585417  7.36364691]\n",
      "  [-0.96257985 10.07725803]\n",
      "  ...\n",
      "  [ 0.          0.        ]\n",
      "  [ 0.          0.        ]\n",
      "  [ 0.          0.        ]]\n",
      "\n",
      " [[ 0.26817882  3.75899561]\n",
      "  [ 0.15690709  7.73558773]\n",
      "  [-0.73402007 10.66332099]\n",
      "  ...\n",
      "  [ 0.          0.        ]\n",
      "  [ 0.          0.        ]\n",
      "  [ 0.          0.        ]]]\n"
     ]
    },
    {
     "data": {
      "text/plain": [
       "(-0.03802198800000001, 0.798461748, -0.6177760509649277, 12.973297070263481)"
      ]
     },
     "execution_count": 87,
     "metadata": {},
     "output_type": "execute_result"
    },
    {
     "data": {
      "image/png": "[encoded data removed]",
      "text/plain": [
       "<matplotlib.figure.Figure at 0x10c983160>"
      ]
     },
     "metadata": {},
     "output_type": "display_data"
    }
   ],
   "source": [
    "plt.figure(figsize=(12, 7))\n",
    "plt.rc('font', family='serif')\n",
    "plt.rc('font', size=20)\n",
    "\n",
    "ind = np.random.randint(inputs_test_3.shape[0])\n",
    "\n",
    "plt.plot(in_test_coord_3[:,ind,0],in_test_coord_3[:,ind,1],c='b')\n",
    "plt.plot(gt_test_coord_3[:,ind,0],gt_test_coord_3[:,ind,1],c='k')\n",
    "plt.plot(output_coord_3[:,ind,0],output_coord_3[:,ind,1],c='r')\n",
    "plt.axis('equal')"
   ]
  },
  {
   "cell_type": "code",
   "execution_count": 25,
   "metadata": {
    "collapsed": true
   },
   "outputs": [],
   "source": [
    "torch.save(net.state_dict(), 'fullCNN_4.pt')"
   ]
  },
  {
   "cell_type": "code",
   "execution_count": 5,
   "metadata": {},
   "outputs": [
    {
     "data": {
      "text/plain": [
       "array([[[0., 0.],\n",
       "        [0., 0.],\n",
       "        [0., 0.],\n",
       "        ...,\n",
       "        [0., 0.],\n",
       "        [0., 0.],\n",
       "        [0., 0.]],\n",
       "\n",
       "       [[0., 0.],\n",
       "        [0., 0.],\n",
       "        [0., 0.],\n",
       "        ...,\n",
       "        [0., 0.],\n",
       "        [0., 0.],\n",
       "        [0., 0.]],\n",
       "\n",
       "       [[0., 0.],\n",
       "        [0., 0.],\n",
       "        [0., 0.],\n",
       "        ...,\n",
       "        [0., 0.],\n",
       "        [0., 0.],\n",
       "        [0., 0.]]])"
      ]
     },
     "execution_count": 5,
     "metadata": {},
     "output_type": "execute_result"
    }
   ],
   "source": [
    "a=np.zeros([3,251,2])\n",
    "a"
   ]
  },
  {
   "cell_type": "code",
   "execution_count": null,
   "metadata": {
    "collapsed": true
   },
   "outputs": [],
   "source": []
  }
 ],
 "metadata": {
  "kernelspec": {
   "display_name": "Python 3",
   "language": "python",
   "name": "python3"
  },
  "language_info": {
   "codemirror_mode": {
    "name": "ipython",
    "version": 3
   },
   "file_extension": ".py",
   "mimetype": "text/x-python",
   "name": "python",
   "nbconvert_exporter": "python",
   "pygments_lexer": "ipython3",
   "version": "3.6.3"
  }
 },
 "nbformat": 4,
 "nbformat_minor": 2
}
