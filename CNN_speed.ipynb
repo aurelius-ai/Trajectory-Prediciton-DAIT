{
 "cells": [
  {
   "cell_type": "code",
   "execution_count": 1,
   "metadata": {},
   "outputs": [
    {
     "data": {
      "text/plain": [
       "<torch._C.Generator at 0x10e631770>"
      ]
     },
     "execution_count": 1,
     "metadata": {},
     "output_type": "execute_result"
    }
   ],
   "source": [
    "import torch\n",
    "from torch import nn\n",
    "from torch.autograd import Variable\n",
    "import torchvision.datasets as dsets\n",
    "import torchvision.transforms as transforms\n",
    "import matplotlib.pyplot as plt\n",
    "from CNN2D_velocities import *\n",
    "import pandas as pd\n",
    "import numpy as np\n",
    "import torch.utils.data as utils\n",
    "import time\n",
    "import os\n",
    "import pickle\n",
    "\n",
    "import pdb\n",
    "\n",
    "# For the notebook\n",
    "%matplotlib inline\n",
    "%reload_ext autoreload\n",
    "%autoreload 2\n",
    "\n",
    "torch.manual_seed(1)"
   ]
  },
  {
   "cell_type": "markdown",
   "metadata": {},
   "source": [
    "## TRAIN SET"
   ]
  },
  {
   "cell_type": "code",
   "execution_count": 2,
   "metadata": {
    "scrolled": false
   },
   "outputs": [
    {
     "data": {
      "text/plain": [
       "(torch.Size([5157, 1, 10, 162]), torch.Size([5157, 1, 11, 2]))"
      ]
     },
     "execution_count": 2,
     "metadata": {},
     "output_type": "execute_result"
    }
   ],
   "source": [
    "gt_train_coord = pickle.load( open( \"./import_dataset_2/train/gt_train_coord.pkl\", \"rb\" ) )\n",
    "gt_train  = pickle.load( open( \"./import_dataset_2/train/gt_train.pkl\", \"rb\" ) )\n",
    "in_train_coord  = pickle.load( open( \"./import_dataset_2/train/in_train_coord.pkl\", \"rb\" ) )\n",
    "inputs_train = pickle.load( open( \"./import_dataset_2/train/inputs_train.pkl\", \"rb\" ) )\n",
    "\n",
    "inputs_train = inputs_train[:,:,2:]\n",
    "gt_train = gt_train[:,:,2:]\n",
    "\n",
    "\n",
    "inputs_train = torch.from_numpy(inputs_train).float()\n",
    "gt_train = torch.from_numpy(gt_train).float()\n",
    "\n",
    "gt_train = gt_train.unsqueeze(1) # add 1 dimension to the training set\n",
    "inputs_train = inputs_train.unsqueeze(1) # add 1 dimension to the training set\n",
    "\n",
    "inputs_train.shape,gt_train.shape"
   ]
  },
  {
   "cell_type": "markdown",
   "metadata": {},
   "source": [
    "## VALIDATION SET"
   ]
  },
  {
   "cell_type": "code",
   "execution_count": 3,
   "metadata": {},
   "outputs": [
    {
     "name": "stdout",
     "output_type": "stream",
     "text": [
      "torch.Size([1719, 1, 10, 162])\n"
     ]
    },
    {
     "data": {
      "text/plain": [
       "((11, 1719, 2),\n",
       " torch.Size([1719, 1, 11, 2]),\n",
       " (10, 1719, 2),\n",
       " torch.Size([1719, 1, 10, 162]))"
      ]
     },
     "execution_count": 3,
     "metadata": {},
     "output_type": "execute_result"
    }
   ],
   "source": [
    "gt_validation_coord = pickle.load( open( \"./import_dataset_2/validation/gt_validation_coord.pkl\", \"rb\" ) )\n",
    "gt_validation = pickle.load( open( \"./import_dataset_2/validation/gt_validation.pkl\", \"rb\" ) )\n",
    "in_validation_coord = pickle.load( open( \"./import_dataset_2/validation/in_validation_coord.pkl\", \"rb\" ) )\n",
    "inputs_validation = pickle.load( open( \"./import_dataset_2/validation/inputs_validation.pkl\", \"rb\" ) )\n",
    "\n",
    "inputs_validation = inputs_validation[:,:,2:]\n",
    "gt_validation = gt_validation[:,:,2:]\n",
    "\n",
    "inputs_validation = torch.from_numpy(inputs_validation).float()\n",
    "gt_validation = torch.from_numpy(gt_validation).float()\n",
    "\n",
    "gt_validation = gt_validation.unsqueeze(1) # add 1 dimension to the training set\n",
    "inputs_validation = inputs_validation.unsqueeze(1) # add 1 dimension to the training set\n",
    "print (inputs_validation.shape)\n",
    "\n",
    "gt_validation_coord.shape,gt_validation.shape,in_validation_coord.shape,inputs_validation.shape"
   ]
  },
  {
   "cell_type": "markdown",
   "metadata": {},
   "source": [
    "## TEST SET"
   ]
  },
  {
   "cell_type": "code",
   "execution_count": 4,
   "metadata": {
    "collapsed": true
   },
   "outputs": [],
   "source": [
    "gt_test_coord_1 = pickle.load( open( \"./import_dataset_2/test/gt_test_coord_1.pkl\", \"rb\" ) )\n",
    "gt_test_1 = pickle.load( open( \"./import_dataset_2/test/gt_test_1.pkl\", \"rb\" ) )\n",
    "in_test_coord_1 = pickle.load( open( \"./import_dataset_2/test/in_test_coord_1.pkl\", \"rb\" ) )\n",
    "inputs_test_1 = pickle.load( open( \"./import_dataset_2/test/inputs_test_1.pkl\", \"rb\" ) )\n",
    "\n",
    "gt_test_coord_2 = pickle.load( open( \"./import_dataset_2/test/gt_test_coord_2.pkl\", \"rb\" ) )\n",
    "gt_test_2 = pickle.load( open( \"./import_dataset_2/test/gt_test_2.pkl\", \"rb\" ) )\n",
    "in_test_coord_2 = pickle.load( open( \"./import_dataset_2/test/in_test_coord_2.pkl\", \"rb\" ) )\n",
    "inputs_test_2 = pickle.load( open( \"./import_dataset_2/test/inputs_test_2.pkl\", \"rb\" ) )\n",
    "\n",
    "gt_test_coord_3 = pickle.load( open( \"./import_dataset_2/test/gt_test_coord_3.pkl\", \"rb\" ) )\n",
    "gt_test_3 = pickle.load( open( \"./import_dataset_2/test/gt_test_3.pkl\", \"rb\" ) )\n",
    "in_test_coord_3 = pickle.load( open( \"./import_dataset_2/test/in_test_coord_3.pkl\", \"rb\" ) )\n",
    "inputs_test_3 = pickle.load( open( \"./import_dataset_2/test/inputs_test_3.pkl\", \"rb\" ) )\n",
    "\n",
    "inputs_test_1 = inputs_test_1[:,:,2:]\n",
    "gt_test_1 = gt_test_1[:,:,2:]\n",
    "inputs_test_2 = inputs_test_2[:,:,2:]\n",
    "gt_test_2 = gt_test_2[:,:,2:]\n",
    "inputs_test_3 = inputs_test_3[:,:,2:]\n",
    "gt_test_3 = gt_test_3[:,:,2:]\n",
    "\n",
    "inputs_test_1 = torch.from_numpy(inputs_test_1).float()\n",
    "gt_test_1 = torch.from_numpy(gt_test_1).float()\n",
    "inputs_test_1 = inputs_test_1.unsqueeze(1) \n",
    "\n",
    "inputs_test_2 = torch.from_numpy(inputs_test_2).float()\n",
    "gt_test_2 = torch.from_numpy(gt_test_2).float()\n",
    "inputs_test_2 = inputs_test_2.unsqueeze(1)\n",
    "\n",
    "inputs_test_3 = torch.from_numpy(inputs_test_3).float()\n",
    "gt_test_3 = torch.from_numpy(gt_test_3).float()\n",
    "inputs_test_3 = inputs_test_3.unsqueeze(1)"
   ]
  },
  {
   "cell_type": "markdown",
   "metadata": {},
   "source": [
    "### Model"
   ]
  },
  {
   "cell_type": "code",
   "execution_count": 5,
   "metadata": {
    "collapsed": true
   },
   "outputs": [],
   "source": [
    "net = CNN2D_velocities()\n",
    "criterion = torch.nn.MSELoss()\n",
    "optimizer = torch.optim.Adam(net.parameters(), lr=0.0001, weight_decay=1e-4)\n",
    "\n",
    "traindataset = utils.TensorDataset(inputs_train, gt_train[:,:,1:,:])\n",
    "trainloader = utils.DataLoader(traindataset, batch_size=16, shuffle=True)\n",
    "\n",
    "valdataset = utils.TensorDataset(inputs_validation, gt_validation[:,:,1:,:])\n",
    "valloader = utils.DataLoader(valdataset, batch_size=16, shuffle=True)"
   ]
  },
  {
   "cell_type": "code",
   "execution_count": 6,
   "metadata": {
    "scrolled": true
   },
   "outputs": [
    {
     "name": "stdout",
     "output_type": "stream",
     "text": [
      "Epoch: 1/150.. Validation Loss: 0.1397.. Training Loss: 0.1597.. 0.0172 s/batch \n",
      "Epoch: 2/150.. Validation Loss: 0.1333.. Training Loss: 0.1330.. 0.0153 s/batch \n",
      "Epoch: 3/150.. Validation Loss: 0.1314.. Training Loss: 0.1264.. 0.0158 s/batch \n",
      "Epoch: 4/150.. Validation Loss: 0.1349.. Training Loss: 0.1211.. 0.0155 s/batch \n",
      "Epoch: 5/150.. Validation Loss: 0.1235.. Training Loss: 0.1173.. 0.0167 s/batch \n",
      "Epoch: 6/150.. Validation Loss: 0.1236.. Training Loss: 0.1133.. 0.0159 s/batch \n",
      "Epoch: 7/150.. Validation Loss: 0.1200.. Training Loss: 0.1105.. 0.0152 s/batch \n",
      "Epoch: 8/150.. Validation Loss: 0.1214.. Training Loss: 0.1058.. 0.0147 s/batch \n",
      "Epoch: 9/150.. Validation Loss: 0.1168.. Training Loss: 0.1037.. 0.0138 s/batch \n",
      "Epoch: 10/150.. Validation Loss: 0.1159.. Training Loss: 0.1007.. 0.0142 s/batch \n",
      "Epoch: 11/150.. Validation Loss: 0.1172.. Training Loss: 0.0980.. 0.0152 s/batch \n",
      "Epoch: 12/150.. Validation Loss: 0.1142.. Training Loss: 0.0951.. 0.0155 s/batch \n",
      "Epoch: 13/150.. Validation Loss: 0.1096.. Training Loss: 0.0922.. 0.0147 s/batch \n",
      "Epoch: 14/150.. Validation Loss: 0.1101.. Training Loss: 0.0902.. 0.0147 s/batch \n",
      "Epoch: 15/150.. Validation Loss: 0.1075.. Training Loss: 0.0874.. 0.0141 s/batch \n",
      "Epoch: 16/150.. Validation Loss: 0.1066.. Training Loss: 0.0854.. 0.0153 s/batch \n",
      "Epoch: 17/150.. Validation Loss: 0.1060.. Training Loss: 0.0833.. 0.0151 s/batch \n",
      "Epoch: 18/150.. Validation Loss: 0.1061.. Training Loss: 0.0813.. 0.0139 s/batch \n",
      "Epoch: 19/150.. Validation Loss: 0.1035.. Training Loss: 0.0797.. 0.0138 s/batch \n",
      "Epoch: 20/150.. Validation Loss: 0.1021.. Training Loss: 0.0783.. 0.0139 s/batch \n",
      "Epoch: 21/150.. Validation Loss: 0.1026.. Training Loss: 0.0770.. 0.0147 s/batch \n",
      "Epoch: 22/150.. Validation Loss: 0.1057.. Training Loss: 0.0750.. 0.0149 s/batch \n",
      "Epoch: 23/150.. Validation Loss: 0.1003.. Training Loss: 0.0740.. 0.0141 s/batch \n",
      "Epoch: 24/150.. Validation Loss: 0.1009.. Training Loss: 0.0727.. 0.0136 s/batch \n",
      "Epoch: 25/150.. Validation Loss: 0.1004.. Training Loss: 0.0716.. 0.0140 s/batch \n",
      "Epoch: 26/150.. Validation Loss: 0.1011.. Training Loss: 0.0704.. 0.0148 s/batch \n",
      "Epoch: 27/150.. Validation Loss: 0.1001.. Training Loss: 0.0694.. 0.0152 s/batch \n",
      "Epoch: 28/150.. Validation Loss: 0.1012.. Training Loss: 0.0683.. 0.0139 s/batch \n",
      "Epoch: 29/150.. Validation Loss: 0.1006.. Training Loss: 0.0675.. 0.0137 s/batch \n",
      "Epoch: 30/150.. Validation Loss: 0.0987.. Training Loss: 0.0672.. 0.0135 s/batch \n",
      "Epoch: 31/150.. Validation Loss: 0.0987.. Training Loss: 0.0661.. 0.0137 s/batch \n",
      "Epoch: 32/150.. Validation Loss: 0.0988.. Training Loss: 0.0652.. 0.0158 s/batch \n",
      "Epoch: 33/150.. Validation Loss: 0.0977.. Training Loss: 0.0646.. 0.0165 s/batch \n",
      "Epoch: 34/150.. Validation Loss: 0.0987.. Training Loss: 0.0637.. 0.0169 s/batch \n",
      "Epoch: 35/150.. Validation Loss: 0.0988.. Training Loss: 0.0633.. 0.0169 s/batch \n",
      "Epoch: 36/150.. Validation Loss: 0.1005.. Training Loss: 0.0626.. 0.0169 s/batch \n",
      "Epoch: 37/150.. Validation Loss: 0.0996.. Training Loss: 0.0624.. 0.0152 s/batch \n",
      "Epoch: 38/150.. Validation Loss: 0.0994.. Training Loss: 0.0612.. 0.0156 s/batch \n",
      "Epoch: 39/150.. Validation Loss: 0.0988.. Training Loss: 0.0610.. 0.0154 s/batch \n",
      "Epoch: 40/150.. Validation Loss: 0.0975.. Training Loss: 0.0609.. 0.0165 s/batch \n",
      "Epoch: 41/150.. Validation Loss: 0.0977.. Training Loss: 0.0598.. 0.0173 s/batch \n",
      "Epoch: 42/150.. Validation Loss: 0.0993.. Training Loss: 0.0596.. 0.0156 s/batch \n",
      "Epoch: 43/150.. Validation Loss: 0.0999.. Training Loss: 0.0584.. 0.0154 s/batch \n",
      "Epoch: 44/150.. Validation Loss: 0.0975.. Training Loss: 0.0582.. 0.0149 s/batch \n",
      "Epoch: 45/150.. Validation Loss: 0.0994.. Training Loss: 0.0580.. 0.0153 s/batch \n",
      "Epoch: 46/150.. Validation Loss: 0.0970.. Training Loss: 0.0572.. 0.0153 s/batch \n",
      "Epoch: 47/150.. Validation Loss: 0.0980.. Training Loss: 0.0568.. 0.0136 s/batch \n",
      "Epoch: 48/150.. Validation Loss: 0.0967.. Training Loss: 0.0565.. 0.0139 s/batch \n",
      "Epoch: 49/150.. Validation Loss: 0.0978.. Training Loss: 0.0560.. 0.0147 s/batch \n",
      "Epoch: 50/150.. Validation Loss: 0.0990.. Training Loss: 0.0565.. 0.0154 s/batch \n",
      "Epoch: 51/150.. Validation Loss: 0.0981.. Training Loss: 0.0558.. 0.0148 s/batch \n",
      "Epoch: 52/150.. Validation Loss: 0.0984.. Training Loss: 0.0553.. 0.0138 s/batch \n",
      "Epoch: 53/150.. Validation Loss: 0.0993.. Training Loss: 0.0544.. 0.0139 s/batch \n",
      "Epoch: 54/150.. Validation Loss: 0.0974.. Training Loss: 0.0540.. 0.0151 s/batch \n",
      "Epoch: 55/150.. Validation Loss: 0.0987.. Training Loss: 0.0539.. 0.0149 s/batch \n",
      "Epoch: 56/150.. Validation Loss: 0.0988.. Training Loss: 0.0532.. 0.0140 s/batch \n",
      "Epoch: 57/150.. Validation Loss: 0.0982.. Training Loss: 0.0534.. 0.0147 s/batch \n",
      "Epoch: 58/150.. Validation Loss: 0.0993.. Training Loss: 0.0527.. 0.0142 s/batch \n",
      "Epoch: 59/150.. Validation Loss: 0.0965.. Training Loss: 0.0526.. 0.0150 s/batch \n",
      "Epoch: 60/150.. Validation Loss: 0.0978.. Training Loss: 0.0520.. 0.0163 s/batch \n",
      "Epoch: 61/150.. Validation Loss: 0.1002.. Training Loss: 0.0519.. 0.0139 s/batch \n",
      "Epoch: 62/150.. Validation Loss: 0.0988.. Training Loss: 0.0518.. 0.0137 s/batch \n",
      "Epoch: 63/150.. Validation Loss: 0.0993.. Training Loss: 0.0515.. 0.0138 s/batch \n",
      "Epoch: 64/150.. Validation Loss: 0.0987.. Training Loss: 0.0509.. 0.0142 s/batch \n",
      "Epoch: 65/150.. Validation Loss: 0.0966.. Training Loss: 0.0510.. 0.0151 s/batch \n",
      "Epoch: 66/150.. Validation Loss: 0.0979.. Training Loss: 0.0507.. 0.0149 s/batch \n",
      "Epoch: 67/150.. Validation Loss: 0.0990.. Training Loss: 0.0502.. 0.0142 s/batch \n",
      "Epoch: 68/150.. Validation Loss: 0.1016.. Training Loss: 0.0502.. 0.0139 s/batch \n",
      "Epoch: 69/150.. Validation Loss: 0.0979.. Training Loss: 0.0500.. 0.0137 s/batch \n",
      "Epoch: 70/150.. Validation Loss: 0.0987.. Training Loss: 0.0498.. 0.0142 s/batch \n",
      "Epoch: 71/150.. Validation Loss: 0.0979.. Training Loss: 0.0488.. 0.0146 s/batch \n",
      "Epoch: 72/150.. Validation Loss: 0.0999.. Training Loss: 0.0489.. 0.0150 s/batch \n",
      "Epoch: 73/150.. Validation Loss: 0.0982.. Training Loss: 0.0489.. 0.0146 s/batch \n",
      "Epoch: 74/150.. Validation Loss: 0.0990.. Training Loss: 0.0486.. 0.0139 s/batch \n",
      "Epoch: 75/150.. Validation Loss: 0.0990.. Training Loss: 0.0481.. 0.0136 s/batch \n",
      "Epoch: 76/150.. Validation Loss: 0.1058.. Training Loss: 0.0482.. 0.0140 s/batch \n",
      "Epoch: 77/150.. Validation Loss: 0.0995.. Training Loss: 0.0477.. 0.0142 s/batch \n",
      "Epoch: 78/150.. Validation Loss: 0.0991.. Training Loss: 0.0478.. 0.0152 s/batch \n",
      "Epoch: 79/150.. Validation Loss: 0.0989.. Training Loss: 0.0473.. 0.0153 s/batch \n",
      "Epoch: 80/150.. Validation Loss: 0.1012.. Training Loss: 0.0471.. 0.0142 s/batch \n",
      "Epoch: 81/150.. Validation Loss: 0.1027.. Training Loss: 0.0472.. 0.0139 s/batch \n",
      "Epoch: 82/150.. Validation Loss: 0.1001.. Training Loss: 0.0468.. 0.0151 s/batch \n",
      "Epoch: 83/150.. Validation Loss: 0.0998.. Training Loss: 0.0464.. 0.0155 s/batch \n",
      "Epoch: 84/150.. Validation Loss: 0.1002.. Training Loss: 0.0457.. 0.0172 s/batch \n",
      "Epoch: 85/150.. Validation Loss: 0.0988.. Training Loss: 0.0463.. 0.0166 s/batch \n",
      "Epoch: 86/150.. Validation Loss: 0.1011.. Training Loss: 0.0458.. 0.0156 s/batch \n",
      "Epoch: 87/150.. Validation Loss: 0.1034.. Training Loss: 0.0456.. 0.0151 s/batch \n",
      "Epoch: 88/150.. Validation Loss: 0.0999.. Training Loss: 0.0458.. 0.0163 s/batch \n",
      "Epoch: 89/150.. Validation Loss: 0.1023.. Training Loss: 0.0457.. 0.0142 s/batch \n",
      "Epoch: 90/150.. Validation Loss: 0.1013.. Training Loss: 0.0455.. 0.0141 s/batch \n",
      "Epoch: 91/150.. Validation Loss: 0.1006.. Training Loss: 0.0452.. 0.0140 s/batch \n",
      "Epoch: 92/150.. Validation Loss: 0.1009.. Training Loss: 0.0448.. 0.0137 s/batch \n",
      "Epoch: 93/150.. Validation Loss: 0.1012.. Training Loss: 0.0445.. 0.0147 s/batch \n",
      "Epoch: 94/150.. Validation Loss: 0.1028.. Training Loss: 0.0445.. 0.0151 s/batch \n",
      "Epoch: 95/150.. Validation Loss: 0.1026.. Training Loss: 0.0444.. 0.0149 s/batch \n",
      "Epoch: 96/150.. Validation Loss: 0.1015.. Training Loss: 0.0439.. 0.0136 s/batch \n",
      "Epoch: 97/150.. Validation Loss: 0.1013.. Training Loss: 0.0438.. 0.0140 s/batch \n",
      "Epoch: 98/150.. Validation Loss: 0.1030.. Training Loss: 0.0439.. 0.0139 s/batch \n",
      "Epoch: 99/150.. Validation Loss: 0.1034.. Training Loss: 0.0441.. 0.0151 s/batch \n",
      "Epoch: 100/150.. Validation Loss: 0.1041.. Training Loss: 0.0440.. 0.0150 s/batch \n",
      "Epoch: 101/150.. Validation Loss: 0.1036.. Training Loss: 0.0432.. 0.0148 s/batch \n"
     ]
    },
    {
     "name": "stdout",
     "output_type": "stream",
     "text": [
      "Epoch: 102/150.. Validation Loss: 0.1022.. Training Loss: 0.0437.. 0.0139 s/batch \n",
      "Epoch: 103/150.. Validation Loss: 0.1023.. Training Loss: 0.0431.. 0.0141 s/batch \n",
      "Epoch: 104/150.. Validation Loss: 0.1042.. Training Loss: 0.0432.. 0.0157 s/batch \n",
      "Epoch: 105/150.. Validation Loss: 0.1028.. Training Loss: 0.0431.. 0.0157 s/batch \n",
      "Epoch: 106/150.. Validation Loss: 0.1038.. Training Loss: 0.0430.. 0.0149 s/batch \n",
      "Epoch: 107/150.. Validation Loss: 0.1041.. Training Loss: 0.0429.. 0.0137 s/batch \n",
      "Epoch: 108/150.. Validation Loss: 0.1068.. Training Loss: 0.0426.. 0.0150 s/batch \n",
      "Epoch: 109/150.. Validation Loss: 0.1027.. Training Loss: 0.0431.. 0.0151 s/batch \n",
      "Epoch: 110/150.. Validation Loss: 0.1031.. Training Loss: 0.0422.. 0.0146 s/batch \n",
      "Epoch: 111/150.. Validation Loss: 0.1059.. Training Loss: 0.0422.. 0.0137 s/batch \n",
      "Epoch: 112/150.. Validation Loss: 0.1038.. Training Loss: 0.0425.. 0.0140 s/batch \n",
      "Epoch: 113/150.. Validation Loss: 0.1049.. Training Loss: 0.0423.. 0.0144 s/batch \n",
      "Epoch: 114/150.. Validation Loss: 0.1039.. Training Loss: 0.0422.. 0.0144 s/batch \n",
      "Epoch: 115/150.. Validation Loss: 0.1028.. Training Loss: 0.0420.. 0.0152 s/batch \n",
      "Epoch: 116/150.. Validation Loss: 0.1033.. Training Loss: 0.0413.. 0.0151 s/batch \n",
      "Epoch: 117/150.. Validation Loss: 0.1041.. Training Loss: 0.0414.. 0.0141 s/batch \n",
      "Epoch: 118/150.. Validation Loss: 0.1045.. Training Loss: 0.0415.. 0.0143 s/batch \n",
      "Epoch: 119/150.. Validation Loss: 0.1073.. Training Loss: 0.0410.. 0.0140 s/batch \n",
      "Epoch: 120/150.. Validation Loss: 0.1061.. Training Loss: 0.0409.. 0.0160 s/batch \n",
      "Epoch: 121/150.. Validation Loss: 0.1055.. Training Loss: 0.0412.. 0.0162 s/batch \n",
      "Epoch: 122/150.. Validation Loss: 0.1089.. Training Loss: 0.0415.. 0.0145 s/batch \n",
      "Epoch: 123/150.. Validation Loss: 0.1052.. Training Loss: 0.0412.. 0.0142 s/batch \n",
      "Epoch: 124/150.. Validation Loss: 0.1071.. Training Loss: 0.0409.. 0.0142 s/batch \n",
      "Epoch: 125/150.. Validation Loss: 0.1046.. Training Loss: 0.0413.. 0.0153 s/batch \n",
      "Epoch: 126/150.. Validation Loss: 0.1062.. Training Loss: 0.0406.. 0.0157 s/batch \n",
      "Epoch: 127/150.. Validation Loss: 0.1084.. Training Loss: 0.0403.. 0.0145 s/batch \n",
      "Epoch: 128/150.. Validation Loss: 0.1066.. Training Loss: 0.0404.. 0.0147 s/batch \n",
      "Epoch: 129/150.. Validation Loss: 0.1085.. Training Loss: 0.0407.. 0.0149 s/batch \n",
      "Epoch: 130/150.. Validation Loss: 0.1082.. Training Loss: 0.0409.. 0.0152 s/batch \n",
      "Epoch: 131/150.. Validation Loss: 0.1055.. Training Loss: 0.0399.. 0.0148 s/batch \n",
      "Epoch: 132/150.. Validation Loss: 0.1060.. Training Loss: 0.0396.. 0.0142 s/batch \n",
      "Epoch: 133/150.. Validation Loss: 0.1083.. Training Loss: 0.0399.. 0.0143 s/batch \n",
      "Epoch: 134/150.. Validation Loss: 0.1072.. Training Loss: 0.0397.. 0.0152 s/batch \n",
      "Epoch: 135/150.. Validation Loss: 0.1064.. Training Loss: 0.0397.. 0.0153 s/batch \n",
      "Epoch: 136/150.. Validation Loss: 0.1092.. Training Loss: 0.0395.. 0.0139 s/batch \n",
      "Epoch: 137/150.. Validation Loss: 0.1072.. Training Loss: 0.0398.. 0.0139 s/batch \n",
      "Epoch: 138/150.. Validation Loss: 0.1068.. Training Loss: 0.0396.. 0.0142 s/batch \n",
      "Epoch: 139/150.. Validation Loss: 0.1092.. Training Loss: 0.0395.. 0.0142 s/batch \n",
      "Epoch: 140/150.. Validation Loss: 0.1084.. Training Loss: 0.0399.. 0.0145 s/batch \n",
      "Epoch: 141/150.. Validation Loss: 0.1071.. Training Loss: 0.0392.. 0.0153 s/batch \n",
      "Epoch: 142/150.. Validation Loss: 0.1076.. Training Loss: 0.0392.. 0.0152 s/batch \n",
      "Epoch: 143/150.. Validation Loss: 0.1083.. Training Loss: 0.0391.. 0.0145 s/batch \n",
      "Epoch: 144/150.. Validation Loss: 0.1096.. Training Loss: 0.0388.. 0.0143 s/batch \n",
      "Epoch: 145/150.. Validation Loss: 0.1085.. Training Loss: 0.0390.. 0.0140 s/batch \n",
      "Epoch: 146/150.. Validation Loss: 0.1086.. Training Loss: 0.0389.. 0.0145 s/batch \n",
      "Epoch: 147/150.. Validation Loss: 0.1094.. Training Loss: 0.0390.. 0.0152 s/batch \n",
      "Epoch: 148/150.. Validation Loss: 0.1131.. Training Loss: 0.0389.. 0.0158 s/batch \n",
      "Epoch: 149/150.. Validation Loss: 0.1099.. Training Loss: 0.0388.. 0.0151 s/batch \n",
      "Epoch: 150/150.. Validation Loss: 0.1092.. Training Loss: 0.0388.. 0.0150 s/batch \n"
     ]
    }
   ],
   "source": [
    "epochs = 150\n",
    "steps = 0\n",
    "running_loss = 0\n",
    "print_every = 323\n",
    "loss_train = []\n",
    "loss_val = []\n",
    "\n",
    "for e in range(epochs):\n",
    "    start = time.time()\n",
    "    steps_bis = 0\n",
    "    total_train_loss=0\n",
    "    for train_coord, ground_tru in iter(trainloader):\n",
    "        \n",
    "        steps += 1\n",
    "        steps_bis += 1\n",
    "        \n",
    "        input_train = Variable(train_coord)\n",
    "        in_train = input_train.squeeze(1)\n",
    "        target = Variable(ground_tru)\n",
    "        targets = target.squeeze(1)\n",
    "        optimizer.zero_grad()\n",
    "        out = net.forward(input_train)\n",
    "        out = out.reshape(out.shape[0],10,2)\n",
    "        loss1 = (criterion(out[:,:,0:2], targets[:,:,0:2]))\n",
    "        \n",
    "        loss1.backward(retain_graph=True)\n",
    "        optimizer.step()\n",
    "        \n",
    "        running_loss += (loss1).item()\n",
    "        total_train_loss += (loss1).item()\n",
    "        \n",
    "        if steps % print_every == 0:\n",
    "            stop = time.time()\n",
    "            val_loss=0\n",
    "            \n",
    "            for ii, (images, labels) in enumerate(valloader):\n",
    "                \n",
    "                inp = Variable(images)\n",
    "                input_val = inp.squeeze(1)\n",
    "                lab = Variable(labels)\n",
    "                valgt = lab.squeeze(1)\n",
    "                predicted = net.predict(inp)\n",
    "                predicted = predicted.reshape(predicted.shape[0],10,2)\n",
    "                val_loss+= (criterion(predicted[:,:,0:2],valgt[:,:,0:2]).item())\n",
    "                \n",
    "            print(\"Epoch: {}/{}..\".format(e+1, epochs),\n",
    "                  \"Validation Loss: {:.4f}..\".format(val_loss/ii),\n",
    "                  \"Training Loss: {:.4f}..\".format(running_loss/print_every),\n",
    "                  \"{:.4f} s/batch \".format((stop - start)/print_every),\n",
    "                 )\n",
    "            loss_val.append(val_loss/ii)\n",
    "            running_loss = 0\n",
    "            start = time.time()\n",
    "    loss_train.append(total_train_loss/steps_bis)"
   ]
  },
  {
   "cell_type": "code",
   "execution_count": 7,
   "metadata": {
    "scrolled": false
   },
   "outputs": [
    {
     "data": {
      "text/plain": [
       "<matplotlib.legend.Legend at 0x11ae16b00>"
      ]
     },
     "execution_count": 7,
     "metadata": {},
     "output_type": "execute_result"
    },
    {
     "data": {
      "image/png": "[encoded data removed]",
      "text/plain": [
       "<matplotlib.figure.Figure at 0x113a378d0>"
      ]
     },
     "metadata": {},
     "output_type": "display_data"
    }
   ],
   "source": [
    "epoch = np.arange(1,epochs+1)\n",
    "plt.figure(figsize=(12, 7))\n",
    "plt.rc('font', family='serif')\n",
    "plt.rc('font', size=20)\n",
    "\n",
    "plt.plot(epoch,loss_train,label='Training loss')\n",
    "plt.plot(epoch,loss_val,c='k',label='Validation loss')\n",
    "plt.xlabel('epoch')\n",
    "plt.ylabel('MSE error')\n",
    "plt.legend()\n",
    "#plt.savefig(r'./figures/loss_coord.pdf', bbox_inches='tight')"
   ]
  },
  {
   "cell_type": "code",
   "execution_count": 102,
   "metadata": {
    "collapsed": true
   },
   "outputs": [],
   "source": [
    "output_test_1 = net.predict(inputs_test_1)\n",
    "output_test_1 = output_test_1.data.numpy()\n",
    "output_test_1 = np.reshape(output_test_1,(250,10,2))\n",
    "\n",
    "output_test_2 = net.predict(inputs_test_2)\n",
    "output_test_2 = output_test_2.data.numpy()\n",
    "output_test_2 = np.reshape(output_test_2,(1006,10,2))\n",
    "\n",
    "output_test_3 = net.predict(inputs_test_3)\n",
    "output_test_3 = output_test_3.data.numpy()\n",
    "output_test_3 = np.reshape(output_test_3,(460,10,2))"
   ]
  },
  {
   "cell_type": "markdown",
   "metadata": {},
   "source": [
    "## Post processing step\n",
    "Go back to coordinate:\n",
    "We have Vx and Vy and we want x and y.\n",
    "$ V = d/t$\n",
    "$ d = V*t$\n",
    "Here t = 0.4s between each point.\n",
    "Start from data at index 9. Then we add d_x and d_y to the last x and y."
   ]
  },
  {
   "cell_type": "markdown",
   "metadata": {},
   "source": [
    "##### Type 1 trajectory"
   ]
  },
  {
   "cell_type": "code",
   "execution_count": 120,
   "metadata": {
    "collapsed": true
   },
   "outputs": [],
   "source": [
    "output_coord_1=np.zeros([11,inputs_test_1.shape[2],2])\n",
    "for j in range(11):\n",
    "    for i in range(output_test_1.shape[2]):\n",
    "        if j==0:\n",
    "            output_coord_1[j,i,0:2] = in_test_coord_1[9,i,0:2]\n",
    "        else:\n",
    "            output_coord_1[j,i,0:2] = output_coord_1[j-1,i,0:2]+output_test_1[i,j-1,:]*0.4\n",
    "       "
   ]
  },
  {
   "cell_type": "code",
   "execution_count": 125,
   "metadata": {},
   "outputs": [
    {
     "name": "stdout",
     "output_type": "stream",
     "text": [
      "(11, 251, 2) [[[ 0.06        0.02      ]\n",
      "  [ 0.00894427  0.0491935 ]\n",
      "  [ 0.          0.        ]\n",
      "  ...\n",
      "  [ 0.          0.        ]\n",
      "  [ 0.          0.        ]\n",
      "  [ 0.          0.        ]]\n",
      "\n",
      " [[-0.21576509  0.63352313]\n",
      "  [-0.19148134 -0.26261452]\n",
      "  [ 0.          0.        ]\n",
      "  ...\n",
      "  [ 0.          0.        ]\n",
      "  [ 0.          0.        ]\n",
      "  [ 0.          0.        ]]\n",
      "\n",
      " [[-0.38672509  1.31687697]\n",
      "  [-0.60487993 -0.43413013]\n",
      "  [ 0.          0.        ]\n",
      "  ...\n",
      "  [ 0.          0.        ]\n",
      "  [ 0.          0.        ]\n",
      "  [ 0.          0.        ]]\n",
      "\n",
      " ...\n",
      "\n",
      " [[-0.34629518  3.8128684 ]\n",
      "  [-3.67928155 -0.81152066]\n",
      "  [ 0.          0.        ]\n",
      "  ...\n",
      "  [ 0.          0.        ]\n",
      "  [ 0.          0.        ]\n",
      "  [ 0.          0.        ]]\n",
      "\n",
      " [[-0.41077771  3.87784416]\n",
      "  [-4.19983734 -0.80117345]\n",
      "  [ 0.          0.        ]\n",
      "  ...\n",
      "  [ 0.          0.        ]\n",
      "  [ 0.          0.        ]\n",
      "  [ 0.          0.        ]]\n",
      "\n",
      " [[-0.4552377   4.1589332 ]\n",
      "  [-4.74567564 -0.85879716]\n",
      "  [ 0.          0.        ]\n",
      "  ...\n",
      "  [ 0.          0.        ]\n",
      "  [ 0.          0.        ]\n",
      "  [ 0.          0.        ]]]\n",
      "The final distance between the ground trought and the predicted coordinates is : 0.607\n"
     ]
    }
   ],
   "source": [
    "dist = np.zeros(inputs_test_1.shape[2])\n",
    "print(gt_test_coord_1.shape,output_coord_1)\n",
    "for i in range(inputs_test_1.shape[2]):\n",
    "    dist[i] = np.sqrt(sum((gt_test_coord_1[10,i,:]-output_coord_1[10,i,:])**2))\n",
    "\n",
    "final_coord_error = np.mean(dist)\n",
    "print('The final distance between the ground trought and the predicted coordinates is :',final_coord_error.round(3))"
   ]
  },
  {
   "cell_type": "code",
   "execution_count": 105,
   "metadata": {},
   "outputs": [
    {
     "name": "stdout",
     "output_type": "stream",
     "text": [
      "The average error between the ground trought and the predicted coordinates is : 0.487\n"
     ]
    }
   ],
   "source": [
    "avr = np.zeros((inputs_test_1.shape[2],11))\n",
    "for i in range(inputs_test_1.shape[2]):\n",
    "    for j in range(11):\n",
    "        avr[i,j] = np.sqrt(sum((gt_test_coord_1[j,i,:]-output_coord_1[j,i,:])**2))\n",
    "\n",
    "average = np.mean(np.mean(avr,1))\n",
    "print('The average error between the ground trought and the predicted coordinates is :',average.round(3))"
   ]
  },
  {
   "cell_type": "code",
   "execution_count": 106,
   "metadata": {},
   "outputs": [
    {
     "data": {
      "text/plain": [
       "(-0.4839995812922716,\n",
       " 0.1487618848234415,\n",
       " -0.20794665975752286,\n",
       " 4.36687985490798)"
      ]
     },
     "execution_count": 106,
     "metadata": {},
     "output_type": "execute_result"
    },
    {
     "data": {
      "image/png": "[encoded data removed]",
      "text/plain": [
       "<matplotlib.figure.Figure at 0x114a154a8>"
      ]
     },
     "metadata": {},
     "output_type": "display_data"
    }
   ],
   "source": [
    "plt.figure(figsize=(12, 7))\n",
    "plt.rc('font', family='serif')\n",
    "plt.rc('font', size=20)\n",
    "\n",
    "ind = np.random.randint(inputs_test_1.shape[1])\n",
    "\n",
    "plt.plot(in_test_coord_1[:,ind,0],in_test_coord_1[:,ind,1],c='b')\n",
    "plt.plot(gt_test_coord_1[:,ind,0],gt_test_coord_1[:,ind,1],c='k')\n",
    "plt.plot(output_coord_1[:,ind,0],output_coord_1[:,ind,1],c='r')\n",
    "plt.axis('equal')"
   ]
  },
  {
   "cell_type": "markdown",
   "metadata": {},
   "source": [
    "##### Type 2 trajectory"
   ]
  },
  {
   "cell_type": "code",
   "execution_count": 107,
   "metadata": {
    "collapsed": true
   },
   "outputs": [],
   "source": [
    "output_coord_2=np.zeros([11,inputs_test_2.shape[2],2])\n",
    "for j in range(11):\n",
    "    for i in range(output_test_2.shape[2]):\n",
    "        if j==0:\n",
    "            output_coord_2[j,i,0:2] = in_test_coord_2[9,i,0:2]\n",
    "        else:\n",
    "            output_coord_2[j,i,0:2] = output_coord_2[j-1,i,0:2]+output_test_2[i,j-1,:]*0.4\n",
    "        "
   ]
  },
  {
   "cell_type": "code",
   "execution_count": 108,
   "metadata": {},
   "outputs": [
    {
     "name": "stdout",
     "output_type": "stream",
     "text": [
      "The final distance between the ground trought and the predicted coordinates is : 7.027\n"
     ]
    }
   ],
   "source": [
    "dist = np.zeros(inputs_test_2.shape[2])\n",
    "for i in range(inputs_test_2.shape[2]):\n",
    "    dist[i] = np.sqrt(sum((gt_test_coord_2[10,i,:]-output_coord_2[10,i,:])**2))\n",
    "\n",
    "final_coord_error = np.mean(dist)\n",
    "print('The final distance between the ground trought and the predicted coordinates is :',final_coord_error.round(3))"
   ]
  },
  {
   "cell_type": "code",
   "execution_count": 109,
   "metadata": {},
   "outputs": [
    {
     "name": "stdout",
     "output_type": "stream",
     "text": [
      "The average error between the ground trought and the predicted coordinates is : 0.187\n"
     ]
    }
   ],
   "source": [
    "avr = np.zeros((inputs_test_2.shape[1],11))\n",
    "for i in range(inputs_test_2.shape[1]):\n",
    "    for j in range(11):\n",
    "        avr[i,j] = np.sqrt(sum((gt_test_coord_2[j,i,:]-output_coord_2[j,i,:])**2))\n",
    "\n",
    "average = np.mean(np.mean(avr,1))\n",
    "print('The average error between the ground trought and the predicted coordinates is :',average.round(3))"
   ]
  },
  {
   "cell_type": "code",
   "execution_count": 110,
   "metadata": {},
   "outputs": [
    {
     "data": {
      "text/plain": [
       "(-0.128327252239851,\n",
       " 2.694872297036871,\n",
       " -0.5329162618474694,\n",
       " 11.191241498796858)"
      ]
     },
     "execution_count": 110,
     "metadata": {},
     "output_type": "execute_result"
    },
    {
     "data": {
      "image/png": "[encoded data removed]",
      "text/plain": [
       "<matplotlib.figure.Figure at 0x114692a20>"
      ]
     },
     "metadata": {},
     "output_type": "display_data"
    }
   ],
   "source": [
    "plt.figure(figsize=(12, 7))\n",
    "plt.rc('font', family='serif')\n",
    "plt.rc('font', size=20)\n",
    "\n",
    "ind = np.random.randint(inputs_test_2.shape[1])\n",
    "\n",
    "plt.plot(in_test_coord_2[:,ind,0],in_test_coord_2[:,ind,1],c='b')\n",
    "plt.plot(gt_test_coord_2[:,ind,0],gt_test_coord_2[:,ind,1],c='k')\n",
    "plt.plot(output_coord_2[:,ind,0],output_coord_2[:,ind,1],c='r')\n",
    "plt.axis('equal')"
   ]
  },
  {
   "cell_type": "markdown",
   "metadata": {},
   "source": [
    "##### Type 3 trajectory"
   ]
  },
  {
   "cell_type": "code",
   "execution_count": 111,
   "metadata": {
    "collapsed": true
   },
   "outputs": [],
   "source": [
    "output_coord_3=np.zeros([11,inputs_test_3.shape[2],2])\n",
    "for j in range(11):\n",
    "    for i in range(inputs_test_3.shape[2]):\n",
    "        if j==0:\n",
    "            output_coord_3[j,i,0:2] = in_test_coord_3[9,i,0:2]\n",
    "        else:\n",
    "            output_coord_3[j,i,0:2] = output_coord_3[j-1,i,0:2]+output_test_3[i,j-1,:]*0.4\n",
    "        "
   ]
  },
  {
   "cell_type": "code",
   "execution_count": 112,
   "metadata": {},
   "outputs": [
    {
     "name": "stdout",
     "output_type": "stream",
     "text": [
      "The final distance between the ground trought and the predicted coordinates is : 6.393\n"
     ]
    }
   ],
   "source": [
    "dist = np.zeros(output_test_3.shape[2])\n",
    "for i in range(output_test_3.shape[2]):\n",
    "    dist[i] = np.sqrt(sum((gt_test_coord_3[10,i,:]-output_coord_3[10,i,:])**2))\n",
    "\n",
    "final_coord_error = np.mean(dist)\n",
    "print('The final distance between the ground trought and the predicted coordinates is :',final_coord_error.round(3))"
   ]
  },
  {
   "cell_type": "code",
   "execution_count": 113,
   "metadata": {},
   "outputs": [
    {
     "name": "stdout",
     "output_type": "stream",
     "text": [
      "The average error between the ground trought and the predicted coordinates is : 4.017\n"
     ]
    }
   ],
   "source": [
    "avr = np.zeros((inputs_test_3.shape[1],11))\n",
    "for i in range(inputs_test_3.shape[1]):\n",
    "    for j in range(11):\n",
    "        avr[i,j] = np.sqrt(sum((gt_test_coord_3[j,i,:]-output_coord_3[j,i,:])**2))\n",
    "\n",
    "average = np.mean(np.mean(avr,1))\n",
    "print('The average error between the ground trought and the predicted coordinates is :',average.round(3))"
   ]
  },
  {
   "cell_type": "code",
   "execution_count": 114,
   "metadata": {},
   "outputs": [
    {
     "data": {
      "text/plain": [
       "(-0.16894228079719165,\n",
       " 3.547787896741024,\n",
       " -0.3712127469355226,\n",
       " 7.795467685645973)"
      ]
     },
     "execution_count": 114,
     "metadata": {},
     "output_type": "execute_result"
    },
    {
     "data": {
      "image/png": "[encoded data removed]",
      "text/plain": [
       "<matplotlib.figure.Figure at 0x114876390>"
      ]
     },
     "metadata": {},
     "output_type": "display_data"
    }
   ],
   "source": [
    "plt.figure(figsize=(12, 7))\n",
    "plt.rc('font', family='serif')\n",
    "plt.rc('font', size=20)\n",
    "\n",
    "ind = np.random.randint(inputs_test_3.shape[0])\n",
    "\n",
    "plt.plot(in_test_coord_3[:,ind,0],in_test_coord_3[:,ind,1],c='b')\n",
    "plt.plot(gt_test_coord_3[:,ind,0],gt_test_coord_3[:,ind,1],c='k')\n",
    "plt.plot(output_coord_3[:,ind,0],output_coord_3[:,ind,1],c='r')\n",
    "plt.axis('equal')"
   ]
  },
  {
   "cell_type": "code",
   "execution_count": 8,
   "metadata": {
    "collapsed": true
   },
   "outputs": [],
   "source": [
    "torch.save(net.state_dict(), 'speed_2CNN.pt')"
   ]
  },
  {
   "cell_type": "code",
   "execution_count": null,
   "metadata": {
    "collapsed": true
   },
   "outputs": [],
   "source": []
  }
 ],
 "metadata": {
  "kernelspec": {
   "display_name": "Python 3",
   "language": "python",
   "name": "python3"
  },
  "language_info": {
   "codemirror_mode": {
    "name": "ipython",
    "version": 3
   },
   "file_extension": ".py",
   "mimetype": "text/x-python",
   "name": "python",
   "nbconvert_exporter": "python",
   "pygments_lexer": "ipython3",
   "version": "3.6.3"
  }
 },
 "nbformat": 4,
 "nbformat_minor": 2
}
