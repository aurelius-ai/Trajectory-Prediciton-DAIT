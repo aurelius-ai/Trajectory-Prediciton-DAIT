{
 "cells": [
  {
   "cell_type": "code",
   "execution_count": 1,
   "metadata": {},
   "outputs": [
    {
     "data": {
      "text/plain": [
       "<torch._C.Generator at 0x10e631770>"
      ]
     },
     "execution_count": 1,
     "metadata": {},
     "output_type": "execute_result"
    }
   ],
   "source": [
    "import torch\n",
    "from torch import nn\n",
    "from torch.autograd import Variable\n",
    "import torchvision.datasets as dsets\n",
    "import torchvision.transforms as transforms\n",
    "import matplotlib.pyplot as plt\n",
    "from CNN2D_velocities import *\n",
    "import pandas as pd\n",
    "import numpy as np\n",
    "import torch.utils.data as utils\n",
    "import time\n",
    "import os\n",
    "import pickle\n",
    "\n",
    "import pdb\n",
    "\n",
    "# For the notebook\n",
    "%matplotlib inline\n",
    "%reload_ext autoreload\n",
    "%autoreload 2\n",
    "\n",
    "torch.manual_seed(1)"
   ]
  },
  {
   "cell_type": "markdown",
   "metadata": {},
   "source": [
    "## TRAIN SET"
   ]
  },
  {
   "cell_type": "code",
   "execution_count": 40,
   "metadata": {
    "scrolled": false
   },
   "outputs": [
    {
     "data": {
      "text/plain": [
       "(torch.Size([5157, 1, 10, 242]), torch.Size([5157, 1, 11, 2]))"
      ]
     },
     "execution_count": 40,
     "metadata": {},
     "output_type": "execute_result"
    }
   ],
   "source": [
    "gt_train_coord = pickle.load( open( \"./import_dataset_3/train/gt_train_coord.pkl\", \"rb\" ) )\n",
    "gt_train  = pickle.load( open( \"./import_dataset_3/train/gt_train.pkl\", \"rb\" ) )\n",
    "in_train_coord  = pickle.load( open( \"./import_dataset_3/train/in_train_coord.pkl\", \"rb\" ) )\n",
    "inputs_train = pickle.load( open( \"./import_dataset_3/train/inputs_train.pkl\", \"rb\" ) )\n",
    "\n",
    "inputs_train = inputs_train[:,:,2:]\n",
    "gt_train = gt_train[:,:,2:]\n",
    "\n",
    "\n",
    "inputs_train = torch.from_numpy(inputs_train).float()\n",
    "gt_train = torch.from_numpy(gt_train).float()\n",
    "\n",
    "gt_train = gt_train.unsqueeze(1) # add 1 dimension to the training set\n",
    "inputs_train = inputs_train.unsqueeze(1) # add 1 dimension to the training set\n",
    "\n",
    "inputs_train.shape,gt_train.shape"
   ]
  },
  {
   "cell_type": "markdown",
   "metadata": {},
   "source": [
    "## VALIDATION SET"
   ]
  },
  {
   "cell_type": "code",
   "execution_count": 41,
   "metadata": {},
   "outputs": [
    {
     "name": "stdout",
     "output_type": "stream",
     "text": [
      "torch.Size([1719, 1, 10, 242])\n"
     ]
    },
    {
     "data": {
      "text/plain": [
       "((11, 1719, 2),\n",
       " torch.Size([1719, 1, 11, 2]),\n",
       " (10, 1719, 2),\n",
       " torch.Size([1719, 1, 10, 242]))"
      ]
     },
     "execution_count": 41,
     "metadata": {},
     "output_type": "execute_result"
    }
   ],
   "source": [
    "gt_validation_coord = pickle.load( open( \"./import_dataset_3/validation/gt_validation_coord.pkl\", \"rb\" ) )\n",
    "gt_validation = pickle.load( open( \"./import_dataset_3/validation/gt_validation.pkl\", \"rb\" ) )\n",
    "in_validation_coord = pickle.load( open( \"./import_dataset_3/validation/in_validation_coord.pkl\", \"rb\" ) )\n",
    "inputs_validation = pickle.load( open( \"./import_dataset_3/validation/inputs_validation.pkl\", \"rb\" ) )\n",
    "\n",
    "inputs_validation = inputs_validation[:,:,2:]\n",
    "gt_validation = gt_validation[:,:,2:]\n",
    "\n",
    "inputs_validation = torch.from_numpy(inputs_validation).float()\n",
    "gt_validation = torch.from_numpy(gt_validation).float()\n",
    "\n",
    "gt_validation = gt_validation.unsqueeze(1) # add 1 dimension to the training set\n",
    "inputs_validation = inputs_validation.unsqueeze(1) # add 1 dimension to the training set\n",
    "print (inputs_validation.shape)\n",
    "\n",
    "gt_validation_coord.shape,gt_validation.shape,in_validation_coord.shape,inputs_validation.shape"
   ]
  },
  {
   "cell_type": "markdown",
   "metadata": {},
   "source": [
    "## TEST SET"
   ]
  },
  {
   "cell_type": "code",
   "execution_count": 78,
   "metadata": {},
   "outputs": [
    {
     "name": "stdout",
     "output_type": "stream",
     "text": [
      "torch.Size([10, 1, 1718, 242])\n"
     ]
    }
   ],
   "source": [
    "gt_test_coord_1 = pickle.load( open( \"./import_dataset_3/test/gt_test_coord_1.pkl\", \"rb\" ) )\n",
    "gt_test_1 = pickle.load( open( \"./import_dataset_3/test/gt_test_1.pkl\", \"rb\" ) )\n",
    "in_test_coord_1 = pickle.load( open( \"./import_dataset_3/test/in_test_coord_1.pkl\", \"rb\" ) )\n",
    "inputs_test_1 = pickle.load( open( \"./import_dataset_3/test/inputs_test_1.pkl\", \"rb\" ) )\n",
    "\n",
    "gt_test_coord_2 = pickle.load( open( \"./import_dataset_3/test/gt_test_coord_2.pkl\", \"rb\" ) )\n",
    "gt_test_2 = pickle.load( open( \"./import_dataset_3/test/gt_test_2.pkl\", \"rb\" ) )\n",
    "in_test_coord_2 = pickle.load( open( \"./import_dataset_3/test/in_test_coord_2.pkl\", \"rb\" ) )\n",
    "inputs_test_2 = pickle.load( open( \"./import_dataset_3/test/inputs_test_2.pkl\", \"rb\" ) )\n",
    "\n",
    "gt_test_coord_3 = pickle.load( open( \"./import_dataset_3/test/gt_test_coord_3.pkl\", \"rb\" ) )\n",
    "gt_test_3 = pickle.load( open( \"./import_dataset_3/test/gt_test_3.pkl\", \"rb\" ) )\n",
    "in_test_coord_3 = pickle.load( open( \"./import_dataset_3/test/in_test_coord_3.pkl\", \"rb\" ) )\n",
    "inputs_test_3 = pickle.load( open( \"./import_dataset_3/test/inputs_test_3.pkl\", \"rb\" ) )\n",
    "\n",
    "inputs_test_1 = inputs_test_1[:,:,2:]\n",
    "gt_test_1 = gt_test_1[:,:,2:]\n",
    "inputs_test_2 = inputs_test_2[:,:,2:]\n",
    "gt_test_2 = gt_test_2[:,:,2:]\n",
    "inputs_test_3 = inputs_test_3[:,:,2:]\n",
    "gt_test_3 = gt_test_3[:,:,2:]\n",
    "\n",
    "inputs_test = np.concatenate((inputs_test_1,inputs_test_2,inputs_test_3),axis=1)\n",
    "in_test_coord = np.concatenate((in_test_coord_1,in_test_coord_2,in_test_coord_3),axis=1)\n",
    "gt_test_coord = np.concatenate((gt_test_coord_1,gt_test_coord_2,gt_test_coord_3),axis=1)\n",
    "\n",
    "inputs_test = torch.from_numpy(inputs_test).float()\n",
    "inputs_test = inputs_test.unsqueeze(1)\n",
    "print(inputs_test.shape)\n",
    "\n",
    "inputs_test_1 = torch.from_numpy(inputs_test_1).float()\n",
    "gt_test_1 = torch.from_numpy(gt_test_1).float()\n",
    "inputs_test_1 = inputs_test_1.unsqueeze(1) \n",
    "\n",
    "inputs_test_2 = torch.from_numpy(inputs_test_2).float()\n",
    "gt_test_2 = torch.from_numpy(gt_test_2).float()\n",
    "inputs_test_2 = inputs_test_2.unsqueeze(1)\n",
    "\n",
    "inputs_test_3 = torch.from_numpy(inputs_test_3).float()\n",
    "gt_test_3 = torch.from_numpy(gt_test_3).float()\n",
    "inputs_test_3 = inputs_test_3.unsqueeze(1)"
   ]
  },
  {
   "cell_type": "markdown",
   "metadata": {},
   "source": [
    "### Model"
   ]
  },
  {
   "cell_type": "code",
   "execution_count": 43,
   "metadata": {
    "collapsed": true
   },
   "outputs": [],
   "source": [
    "net = CNN2D_velocities()\n",
    "criterion = torch.nn.MSELoss()\n",
    "optimizer = torch.optim.Adam(net.parameters(), lr=0.0001, weight_decay=1e-4)\n",
    "\n",
    "traindataset = utils.TensorDataset(inputs_train, gt_train[:,:,1:,:])\n",
    "trainloader = utils.DataLoader(traindataset, batch_size=16, shuffle=True)\n",
    "\n",
    "valdataset = utils.TensorDataset(inputs_validation, gt_validation[:,:,1:,:])\n",
    "valloader = utils.DataLoader(valdataset, batch_size=16, shuffle=True)"
   ]
  },
  {
   "cell_type": "code",
   "execution_count": 44,
   "metadata": {
    "scrolled": true
   },
   "outputs": [
    {
     "name": "stdout",
     "output_type": "stream",
     "text": [
      "Epoch: 1/150.. Validation Loss: 0.1396.. Training Loss: 0.1592.. 0.0151 s/batch \n",
      "Epoch: 2/150.. Validation Loss: 0.1327.. Training Loss: 0.1304.. 0.0153 s/batch \n",
      "Epoch: 3/150.. Validation Loss: 0.1258.. Training Loss: 0.1223.. 0.0166 s/batch \n",
      "Epoch: 4/150.. Validation Loss: 0.1227.. Training Loss: 0.1163.. 0.0164 s/batch \n",
      "Epoch: 5/150.. Validation Loss: 0.1189.. Training Loss: 0.1113.. 0.0155 s/batch \n",
      "Epoch: 6/150.. Validation Loss: 0.1147.. Training Loss: 0.1064.. 0.0154 s/batch \n",
      "Epoch: 7/150.. Validation Loss: 0.1134.. Training Loss: 0.1019.. 0.0163 s/batch \n",
      "Epoch: 8/150.. Validation Loss: 0.1091.. Training Loss: 0.0975.. 0.0174 s/batch \n",
      "Epoch: 9/150.. Validation Loss: 0.1064.. Training Loss: 0.0939.. 0.0163 s/batch \n",
      "Epoch: 10/150.. Validation Loss: 0.1041.. Training Loss: 0.0907.. 0.0160 s/batch \n",
      "Epoch: 11/150.. Validation Loss: 0.1043.. Training Loss: 0.0866.. 0.0154 s/batch \n",
      "Epoch: 12/150.. Validation Loss: 0.1013.. Training Loss: 0.0842.. 0.0169 s/batch \n",
      "Epoch: 13/150.. Validation Loss: 0.1008.. Training Loss: 0.0813.. 0.0169 s/batch \n",
      "Epoch: 14/150.. Validation Loss: 0.0990.. Training Loss: 0.0798.. 0.0168 s/batch \n",
      "Epoch: 15/150.. Validation Loss: 0.0974.. Training Loss: 0.0772.. 0.0179 s/batch \n",
      "Epoch: 16/150.. Validation Loss: 0.0963.. Training Loss: 0.0751.. 0.0183 s/batch \n",
      "Epoch: 17/150.. Validation Loss: 0.0960.. Training Loss: 0.0735.. 0.0155 s/batch \n",
      "Epoch: 18/150.. Validation Loss: 0.0945.. Training Loss: 0.0717.. 0.0147 s/batch \n",
      "Epoch: 19/150.. Validation Loss: 0.0954.. Training Loss: 0.0697.. 0.0142 s/batch \n",
      "Epoch: 20/150.. Validation Loss: 0.0945.. Training Loss: 0.0684.. 0.0175 s/batch \n",
      "Epoch: 21/150.. Validation Loss: 0.0935.. Training Loss: 0.0668.. 0.0167 s/batch \n",
      "Epoch: 22/150.. Validation Loss: 0.0915.. Training Loss: 0.0659.. 0.0153 s/batch \n",
      "Epoch: 23/150.. Validation Loss: 0.0911.. Training Loss: 0.0647.. 0.0156 s/batch \n",
      "Epoch: 24/150.. Validation Loss: 0.0918.. Training Loss: 0.0638.. 0.0163 s/batch \n",
      "Epoch: 25/150.. Validation Loss: 0.0915.. Training Loss: 0.0621.. 0.0163 s/batch \n",
      "Epoch: 26/150.. Validation Loss: 0.0901.. Training Loss: 0.0614.. 0.0154 s/batch \n",
      "Epoch: 27/150.. Validation Loss: 0.0907.. Training Loss: 0.0607.. 0.0153 s/batch \n",
      "Epoch: 28/150.. Validation Loss: 0.0906.. Training Loss: 0.0594.. 0.0153 s/batch \n",
      "Epoch: 29/150.. Validation Loss: 0.0895.. Training Loss: 0.0583.. 0.0160 s/batch \n",
      "Epoch: 30/150.. Validation Loss: 0.0882.. Training Loss: 0.0580.. 0.0164 s/batch \n",
      "Epoch: 31/150.. Validation Loss: 0.0887.. Training Loss: 0.0576.. 0.0163 s/batch \n",
      "Epoch: 32/150.. Validation Loss: 0.0881.. Training Loss: 0.0563.. 0.0157 s/batch \n",
      "Epoch: 33/150.. Validation Loss: 0.0874.. Training Loss: 0.0557.. 0.0177 s/batch \n",
      "Epoch: 34/150.. Validation Loss: 0.0871.. Training Loss: 0.0552.. 0.0221 s/batch \n",
      "Epoch: 35/150.. Validation Loss: 0.0857.. Training Loss: 0.0542.. 0.0208 s/batch \n",
      "Epoch: 36/150.. Validation Loss: 0.0855.. Training Loss: 0.0531.. 0.0200 s/batch \n",
      "Epoch: 37/150.. Validation Loss: 0.0866.. Training Loss: 0.0527.. 0.0210 s/batch \n",
      "Epoch: 38/150.. Validation Loss: 0.0894.. Training Loss: 0.0525.. 0.0204 s/batch \n",
      "Epoch: 39/150.. Validation Loss: 0.0862.. Training Loss: 0.0515.. 0.0253 s/batch \n",
      "Epoch: 40/150.. Validation Loss: 0.0870.. Training Loss: 0.0511.. 0.0237 s/batch \n",
      "Epoch: 41/150.. Validation Loss: 0.0874.. Training Loss: 0.0503.. 0.0258 s/batch \n",
      "Epoch: 42/150.. Validation Loss: 0.0884.. Training Loss: 0.0506.. 0.0235 s/batch \n",
      "Epoch: 43/150.. Validation Loss: 0.0861.. Training Loss: 0.0497.. 0.0222 s/batch \n",
      "Epoch: 44/150.. Validation Loss: 0.0868.. Training Loss: 0.0490.. 0.0248 s/batch \n",
      "Epoch: 45/150.. Validation Loss: 0.0863.. Training Loss: 0.0494.. 0.0248 s/batch \n",
      "Epoch: 46/150.. Validation Loss: 0.0868.. Training Loss: 0.0483.. 0.0226 s/batch \n",
      "Epoch: 47/150.. Validation Loss: 0.0849.. Training Loss: 0.0473.. 0.0236 s/batch \n",
      "Epoch: 48/150.. Validation Loss: 0.0870.. Training Loss: 0.0471.. 0.0239 s/batch \n",
      "Epoch: 49/150.. Validation Loss: 0.0885.. Training Loss: 0.0468.. 0.0254 s/batch \n",
      "Epoch: 50/150.. Validation Loss: 0.0847.. Training Loss: 0.0469.. 0.0289 s/batch \n",
      "Epoch: 51/150.. Validation Loss: 0.0872.. Training Loss: 0.0462.. 0.0258 s/batch \n",
      "Epoch: 52/150.. Validation Loss: 0.0850.. Training Loss: 0.0456.. 0.0255 s/batch \n",
      "Epoch: 53/150.. Validation Loss: 0.0841.. Training Loss: 0.0452.. 0.0243 s/batch \n",
      "Epoch: 54/150.. Validation Loss: 0.0851.. Training Loss: 0.0447.. 0.0226 s/batch \n",
      "Epoch: 55/150.. Validation Loss: 0.0860.. Training Loss: 0.0443.. 0.0259 s/batch \n",
      "Epoch: 56/150.. Validation Loss: 0.0857.. Training Loss: 0.0443.. 0.0242 s/batch \n",
      "Epoch: 57/150.. Validation Loss: 0.0860.. Training Loss: 0.0439.. 0.0252 s/batch \n",
      "Epoch: 58/150.. Validation Loss: 0.0858.. Training Loss: 0.0434.. 0.0221 s/batch \n",
      "Epoch: 59/150.. Validation Loss: 0.0853.. Training Loss: 0.0434.. 0.0225 s/batch \n",
      "Epoch: 60/150.. Validation Loss: 0.0859.. Training Loss: 0.0429.. 0.0243 s/batch \n",
      "Epoch: 61/150.. Validation Loss: 0.0850.. Training Loss: 0.0425.. 0.0242 s/batch \n",
      "Epoch: 62/150.. Validation Loss: 0.0853.. Training Loss: 0.0426.. 0.0246 s/batch \n",
      "Epoch: 63/150.. Validation Loss: 0.0844.. Training Loss: 0.0420.. 0.0231 s/batch \n",
      "Epoch: 64/150.. Validation Loss: 0.0853.. Training Loss: 0.0415.. 0.0241 s/batch \n",
      "Epoch: 65/150.. Validation Loss: 0.0855.. Training Loss: 0.0416.. 0.0252 s/batch \n",
      "Epoch: 66/150.. Validation Loss: 0.0891.. Training Loss: 0.0412.. 0.0238 s/batch \n",
      "Epoch: 67/150.. Validation Loss: 0.0860.. Training Loss: 0.0412.. 0.0221 s/batch \n",
      "Epoch: 68/150.. Validation Loss: 0.0862.. Training Loss: 0.0409.. 0.0252 s/batch \n",
      "Epoch: 69/150.. Validation Loss: 0.0864.. Training Loss: 0.0408.. 0.0245 s/batch \n",
      "Epoch: 70/150.. Validation Loss: 0.0899.. Training Loss: 0.0406.. 0.0245 s/batch \n",
      "Epoch: 71/150.. Validation Loss: 0.0855.. Training Loss: 0.0402.. 0.0229 s/batch \n",
      "Epoch: 72/150.. Validation Loss: 0.0861.. Training Loss: 0.0401.. 0.0271 s/batch \n",
      "Epoch: 73/150.. Validation Loss: 0.0870.. Training Loss: 0.0395.. 0.0267 s/batch \n",
      "Epoch: 74/150.. Validation Loss: 0.0866.. Training Loss: 0.0394.. 0.0257 s/batch \n",
      "Epoch: 75/150.. Validation Loss: 0.0859.. Training Loss: 0.0394.. 0.0234 s/batch \n",
      "Epoch: 76/150.. Validation Loss: 0.0869.. Training Loss: 0.0392.. 0.0252 s/batch \n",
      "Epoch: 77/150.. Validation Loss: 0.0866.. Training Loss: 0.0391.. 0.0246 s/batch \n",
      "Epoch: 78/150.. Validation Loss: 0.0852.. Training Loss: 0.0388.. 0.0229 s/batch \n",
      "Epoch: 79/150.. Validation Loss: 0.0861.. Training Loss: 0.0391.. 0.0232 s/batch \n",
      "Epoch: 80/150.. Validation Loss: 0.0885.. Training Loss: 0.0381.. 0.0237 s/batch \n",
      "Epoch: 81/150.. Validation Loss: 0.0870.. Training Loss: 0.0379.. 0.0248 s/batch \n",
      "Epoch: 82/150.. Validation Loss: 0.0875.. Training Loss: 0.0379.. 0.0229 s/batch \n",
      "Epoch: 83/150.. Validation Loss: 0.0866.. Training Loss: 0.0378.. 0.0222 s/batch \n",
      "Epoch: 84/150.. Validation Loss: 0.0873.. Training Loss: 0.0375.. 0.0226 s/batch \n",
      "Epoch: 85/150.. Validation Loss: 0.0877.. Training Loss: 0.0373.. 0.0249 s/batch \n",
      "Epoch: 86/150.. Validation Loss: 0.0873.. Training Loss: 0.0374.. 0.0247 s/batch \n",
      "Epoch: 87/150.. Validation Loss: 0.0885.. Training Loss: 0.0371.. 0.0225 s/batch \n",
      "Epoch: 88/150.. Validation Loss: 0.0873.. Training Loss: 0.0369.. 0.0223 s/batch \n",
      "Epoch: 89/150.. Validation Loss: 0.0889.. Training Loss: 0.0368.. 0.0243 s/batch \n",
      "Epoch: 90/150.. Validation Loss: 0.0866.. Training Loss: 0.0369.. 0.0250 s/batch \n",
      "Epoch: 91/150.. Validation Loss: 0.0875.. Training Loss: 0.0361.. 0.0239 s/batch \n",
      "Epoch: 92/150.. Validation Loss: 0.0870.. Training Loss: 0.0358.. 0.0222 s/batch \n",
      "Epoch: 93/150.. Validation Loss: 0.0887.. Training Loss: 0.0360.. 0.0240 s/batch \n",
      "Epoch: 94/150.. Validation Loss: 0.0884.. Training Loss: 0.0362.. 0.0257 s/batch \n",
      "Epoch: 95/150.. Validation Loss: 0.0871.. Training Loss: 0.0362.. 0.0233 s/batch \n",
      "Epoch: 96/150.. Validation Loss: 0.0889.. Training Loss: 0.0355.. 0.0224 s/batch \n",
      "Epoch: 97/150.. Validation Loss: 0.0881.. Training Loss: 0.0360.. 0.0233 s/batch \n",
      "Epoch: 98/150.. Validation Loss: 0.0880.. Training Loss: 0.0357.. 0.0251 s/batch \n",
      "Epoch: 99/150.. Validation Loss: 0.0888.. Training Loss: 0.0354.. 0.0239 s/batch \n",
      "Epoch: 100/150.. Validation Loss: 0.0903.. Training Loss: 0.0352.. 0.0227 s/batch \n",
      "Epoch: 101/150.. Validation Loss: 0.0903.. Training Loss: 0.0353.. 0.0223 s/batch \n"
     ]
    },
    {
     "name": "stdout",
     "output_type": "stream",
     "text": [
      "Epoch: 102/150.. Validation Loss: 0.0878.. Training Loss: 0.0351.. 0.0254 s/batch \n",
      "Epoch: 103/150.. Validation Loss: 0.0882.. Training Loss: 0.0350.. 0.0259 s/batch \n",
      "Epoch: 104/150.. Validation Loss: 0.0895.. Training Loss: 0.0345.. 0.0235 s/batch \n",
      "Epoch: 105/150.. Validation Loss: 0.0901.. Training Loss: 0.0349.. 0.0226 s/batch \n",
      "Epoch: 106/150.. Validation Loss: 0.0891.. Training Loss: 0.0344.. 0.0243 s/batch \n",
      "Epoch: 107/150.. Validation Loss: 0.0898.. Training Loss: 0.0346.. 0.0247 s/batch \n",
      "Epoch: 108/150.. Validation Loss: 0.0905.. Training Loss: 0.0342.. 0.0231 s/batch \n",
      "Epoch: 109/150.. Validation Loss: 0.0896.. Training Loss: 0.0340.. 0.0223 s/batch \n",
      "Epoch: 110/150.. Validation Loss: 0.0898.. Training Loss: 0.0345.. 0.0232 s/batch \n",
      "Epoch: 111/150.. Validation Loss: 0.0922.. Training Loss: 0.0342.. 0.0251 s/batch \n",
      "Epoch: 112/150.. Validation Loss: 0.0893.. Training Loss: 0.0340.. 0.0252 s/batch \n",
      "Epoch: 113/150.. Validation Loss: 0.0913.. Training Loss: 0.0338.. 0.0228 s/batch \n",
      "Epoch: 114/150.. Validation Loss: 0.0900.. Training Loss: 0.0337.. 0.0253 s/batch \n",
      "Epoch: 115/150.. Validation Loss: 0.0902.. Training Loss: 0.0337.. 0.0261 s/batch \n",
      "Epoch: 116/150.. Validation Loss: 0.0922.. Training Loss: 0.0334.. 0.0241 s/batch \n",
      "Epoch: 117/150.. Validation Loss: 0.0940.. Training Loss: 0.0333.. 0.0236 s/batch \n",
      "Epoch: 118/150.. Validation Loss: 0.0918.. Training Loss: 0.0337.. 0.0254 s/batch \n",
      "Epoch: 119/150.. Validation Loss: 0.0924.. Training Loss: 0.0332.. 0.0264 s/batch \n",
      "Epoch: 120/150.. Validation Loss: 0.0902.. Training Loss: 0.0330.. 0.0225 s/batch \n",
      "Epoch: 121/150.. Validation Loss: 0.0910.. Training Loss: 0.0330.. 0.0253 s/batch \n",
      "Epoch: 122/150.. Validation Loss: 0.0915.. Training Loss: 0.0327.. 0.0244 s/batch \n",
      "Epoch: 123/150.. Validation Loss: 0.0911.. Training Loss: 0.0332.. 0.0240 s/batch \n",
      "Epoch: 124/150.. Validation Loss: 0.0938.. Training Loss: 0.0327.. 0.0228 s/batch \n",
      "Epoch: 125/150.. Validation Loss: 0.0926.. Training Loss: 0.0330.. 0.0247 s/batch \n",
      "Epoch: 126/150.. Validation Loss: 0.0904.. Training Loss: 0.0327.. 0.0257 s/batch \n",
      "Epoch: 127/150.. Validation Loss: 0.0937.. Training Loss: 0.0326.. 0.0228 s/batch \n",
      "Epoch: 128/150.. Validation Loss: 0.0954.. Training Loss: 0.0325.. 0.0226 s/batch \n",
      "Epoch: 129/150.. Validation Loss: 0.0917.. Training Loss: 0.0327.. 0.0237 s/batch \n",
      "Epoch: 130/150.. Validation Loss: 0.0901.. Training Loss: 0.0322.. 0.0234 s/batch \n",
      "Epoch: 131/150.. Validation Loss: 0.0923.. Training Loss: 0.0324.. 0.0245 s/batch \n",
      "Epoch: 132/150.. Validation Loss: 0.0909.. Training Loss: 0.0324.. 0.0255 s/batch \n",
      "Epoch: 133/150.. Validation Loss: 0.0922.. Training Loss: 0.0321.. 0.0222 s/batch \n",
      "Epoch: 134/150.. Validation Loss: 0.0935.. Training Loss: 0.0321.. 0.0242 s/batch \n",
      "Epoch: 135/150.. Validation Loss: 0.0918.. Training Loss: 0.0319.. 0.0253 s/batch \n",
      "Epoch: 136/150.. Validation Loss: 0.0926.. Training Loss: 0.0317.. 0.0239 s/batch \n",
      "Epoch: 137/150.. Validation Loss: 0.0944.. Training Loss: 0.0317.. 0.0230 s/batch \n",
      "Epoch: 138/150.. Validation Loss: 0.0933.. Training Loss: 0.0317.. 0.0258 s/batch \n",
      "Epoch: 139/150.. Validation Loss: 0.0913.. Training Loss: 0.0318.. 0.0248 s/batch \n",
      "Epoch: 140/150.. Validation Loss: 0.0923.. Training Loss: 0.0314.. 0.0226 s/batch \n",
      "Epoch: 141/150.. Validation Loss: 0.0922.. Training Loss: 0.0316.. 0.0223 s/batch \n",
      "Epoch: 142/150.. Validation Loss: 0.0935.. Training Loss: 0.0313.. 0.0245 s/batch \n",
      "Epoch: 143/150.. Validation Loss: 0.0919.. Training Loss: 0.0313.. 0.0257 s/batch \n",
      "Epoch: 144/150.. Validation Loss: 0.0932.. Training Loss: 0.0311.. 0.0248 s/batch \n",
      "Epoch: 145/150.. Validation Loss: 0.0953.. Training Loss: 0.0317.. 0.0239 s/batch \n",
      "Epoch: 146/150.. Validation Loss: 0.0942.. Training Loss: 0.0317.. 0.0234 s/batch \n",
      "Epoch: 147/150.. Validation Loss: 0.0948.. Training Loss: 0.0312.. 0.0251 s/batch \n",
      "Epoch: 148/150.. Validation Loss: 0.0925.. Training Loss: 0.0309.. 0.0251 s/batch \n",
      "Epoch: 149/150.. Validation Loss: 0.0940.. Training Loss: 0.0310.. 0.0225 s/batch \n",
      "Epoch: 150/150.. Validation Loss: 0.0930.. Training Loss: 0.0310.. 0.0249 s/batch \n"
     ]
    }
   ],
   "source": [
    "epochs = 150\n",
    "steps = 0\n",
    "running_loss = 0\n",
    "print_every = 323\n",
    "loss_train = []\n",
    "loss_val = []\n",
    "\n",
    "for e in range(epochs):\n",
    "    start = time.time()\n",
    "    steps_bis = 0\n",
    "    total_train_loss=0\n",
    "    for train_coord, ground_tru in iter(trainloader):\n",
    "        \n",
    "        steps += 1\n",
    "        steps_bis += 1\n",
    "        \n",
    "        input_train = Variable(train_coord)\n",
    "        in_train = input_train.squeeze(1)\n",
    "        target = Variable(ground_tru)\n",
    "        targets = target.squeeze(1)\n",
    "        optimizer.zero_grad()\n",
    "        out = net.forward(input_train)\n",
    "        out = out.reshape(out.shape[0],10,2)\n",
    "        loss1 = (criterion(out[:,:,0:2], targets[:,:,0:2]))\n",
    "        \n",
    "        loss1.backward(retain_graph=True)\n",
    "        optimizer.step()\n",
    "        \n",
    "        running_loss += (loss1).item()\n",
    "        total_train_loss += (loss1).item()\n",
    "        \n",
    "        if steps % print_every == 0:\n",
    "            stop = time.time()\n",
    "            val_loss=0\n",
    "            \n",
    "            for ii, (images, labels) in enumerate(valloader):\n",
    "                \n",
    "                inp = Variable(images)\n",
    "                input_val = inp.squeeze(1)\n",
    "                lab = Variable(labels)\n",
    "                valgt = lab.squeeze(1)\n",
    "                predicted = net.predict(inp)\n",
    "                predicted = predicted.reshape(predicted.shape[0],10,2)\n",
    "                val_loss+= (criterion(predicted[:,:,0:2],valgt[:,:,0:2]).item())\n",
    "                \n",
    "            print(\"Epoch: {}/{}..\".format(e+1, epochs),\n",
    "                  \"Validation Loss: {:.4f}..\".format(val_loss/ii),\n",
    "                  \"Training Loss: {:.4f}..\".format(running_loss/print_every),\n",
    "                  \"{:.4f} s/batch \".format((stop - start)/print_every),\n",
    "                 )\n",
    "            loss_val.append(val_loss/ii)\n",
    "            running_loss = 0\n",
    "            start = time.time()\n",
    "    loss_train.append(total_train_loss/steps_bis)"
   ]
  },
  {
   "cell_type": "code",
   "execution_count": 45,
   "metadata": {
    "scrolled": false
   },
   "outputs": [
    {
     "data": {
      "text/plain": [
       "<matplotlib.legend.Legend at 0x11420e780>"
      ]
     },
     "execution_count": 45,
     "metadata": {},
     "output_type": "execute_result"
    },
    {
     "data": {
      "image/png": "[encoded data removed]",
      "text/plain": [
       "<matplotlib.figure.Figure at 0x11a339f28>"
      ]
     },
     "metadata": {},
     "output_type": "display_data"
    }
   ],
   "source": [
    "epoch = np.arange(1,epochs+1)\n",
    "plt.figure(figsize=(12, 7))\n",
    "plt.rc('font', family='serif')\n",
    "plt.rc('font', size=20)\n",
    "\n",
    "plt.plot(epoch,loss_train,label='Training loss')\n",
    "plt.plot(epoch,loss_val,c='k',label='Validation loss')\n",
    "plt.xlabel('epoch')\n",
    "plt.ylabel('MSE error')\n",
    "plt.legend()\n",
    "#plt.savefig(r'./figures/loss_coord.pdf', bbox_inches='tight')"
   ]
  },
  {
   "cell_type": "code",
   "execution_count": 79,
   "metadata": {},
   "outputs": [],
   "source": [
    "output_test_1 = net.predict(inputs_test_1)\n",
    "output_test_1 = output_test_1.data.numpy()\n",
    "output_test_1 = np.reshape(output_test_1,(250,10,2))\n",
    "\n",
    "output_test_2 = net.predict(inputs_test_2)\n",
    "output_test_2 = output_test_2.data.numpy()\n",
    "output_test_2 = np.reshape(output_test_2,(1006,10,2))\n",
    "\n",
    "output_test_3 = net.predict(inputs_test_3)\n",
    "output_test_3 = output_test_3.data.numpy()\n",
    "output_test_3 = np.reshape(output_test_3,(460,10,2))\n",
    "\n",
    "output_test = net.predict(inputs_test)\n",
    "output_test = output_test.data.numpy()\n",
    "output_test = np.reshape(output_test,(1718,10,2))\n"
   ]
  },
  {
   "cell_type": "markdown",
   "metadata": {},
   "source": [
    "## Post processing step\n",
    "Go back to coordinate:\n",
    "We have Vx and Vy and we want x and y.\n",
    "$ V = d/t$\n",
    "$ d = V*t$\n",
    "Here t = 0.4s between each point.\n",
    "Start from data at index 9. Then we add d_x and d_y to the last x and y."
   ]
  },
  {
   "cell_type": "markdown",
   "metadata": {},
   "source": [
    "##### Type 1 trajectory"
   ]
  },
  {
   "cell_type": "code",
   "execution_count": 47,
   "metadata": {},
   "outputs": [],
   "source": [
    "output_coord_1=np.zeros([11,inputs_test_1.shape[2],2])\n",
    "for j in range(11):\n",
    "    for i in range(output_test_1.shape[1]):\n",
    "        if j==0:\n",
    "            output_coord_1[j,i,0:2] = in_test_coord_1[9,i,0:2]\n",
    "        else:\n",
    "            output_coord_1[j,i,0:2] = output_coord_1[j-1,i,0:2]+output_test_1[i,j-1,:]*0.4\n",
    "       "
   ]
  },
  {
   "cell_type": "code",
   "execution_count": 48,
   "metadata": {},
   "outputs": [
    {
     "name": "stdout",
     "output_type": "stream",
     "text": [
      "The final distance between the ground trought and the predicted coordinates is : 0.77\n"
     ]
    }
   ],
   "source": [
    "dist = np.zeros(output_coord_1.shape[1])\n",
    "for i in range(gt_test_coord_1.shape[1]):\n",
    "    dist[i] = np.sqrt(sum((gt_test_coord_1[10,i,:]-output_coord_1[10,i,:])**2))\n",
    "\n",
    "final_coord_error = np.mean(dist)\n",
    "print('The final distance between the ground trought and the predicted coordinates is :',final_coord_error.round(3))"
   ]
  },
  {
   "cell_type": "code",
   "execution_count": 49,
   "metadata": {},
   "outputs": [
    {
     "name": "stdout",
     "output_type": "stream",
     "text": [
      "The average error between the ground trought and the predicted coordinates is : 0.567\n"
     ]
    }
   ],
   "source": [
    "avr = np.zeros((gt_test_coord_1.shape[1],11))\n",
    "for i in range(gt_test_coord_1.shape[1]):\n",
    "    for j in range(11):\n",
    "        avr[i,j] = np.sqrt(sum((gt_test_coord_1[j,i,:]-output_coord_1[j,i,:])**2))\n",
    "\n",
    "average = np.mean(np.mean(avr,1))\n",
    "print('The average error between the ground trought and the predicted coordinates is :',average.round(3))"
   ]
  },
  {
   "cell_type": "code",
   "execution_count": 53,
   "metadata": {},
   "outputs": [
    {
     "data": {
      "text/plain": [
       "(-0.6861284337029792,\n",
       " 0.5671507295430638,\n",
       " -0.20155691149830818,\n",
       " 2.6926951414644718)"
      ]
     },
     "execution_count": 53,
     "metadata": {},
     "output_type": "execute_result"
    },
    {
     "data": {
      "image/png": "[encoded data removed]",
      "text/plain": [
       "<matplotlib.figure.Figure at 0x113f0f358>"
      ]
     },
     "metadata": {},
     "output_type": "display_data"
    }
   ],
   "source": [
    "plt.figure(figsize=(12, 7))\n",
    "plt.rc('font', family='serif')\n",
    "plt.rc('font', size=20)\n",
    "\n",
    "ind = np.random.randint(inputs_test_1.shape[0])\n",
    "\n",
    "plt.plot(in_test_coord_1[:,ind,0],in_test_coord_1[:,ind,1],c='b')\n",
    "plt.plot(gt_test_coord_1[:,ind,0],gt_test_coord_1[:,ind,1],c='k')\n",
    "plt.plot(output_coord_1[:,ind,0],output_coord_1[:,ind,1],c='r')\n",
    "plt.axis('equal')"
   ]
  },
  {
   "cell_type": "markdown",
   "metadata": {},
   "source": [
    "##### Type 2 trajectory"
   ]
  },
  {
   "cell_type": "code",
   "execution_count": 54,
   "metadata": {
    "collapsed": true
   },
   "outputs": [],
   "source": [
    "output_coord_2=np.zeros([11,inputs_test_2.shape[2],2])\n",
    "for j in range(11):\n",
    "    for i in range(output_test_2.shape[1]):\n",
    "        if j==0:\n",
    "            output_coord_2[j,i,0:2] = in_test_coord_2[9,i,0:2]\n",
    "        else:\n",
    "            output_coord_2[j,i,0:2] = output_coord_2[j-1,i,0:2]+output_test_2[i,j-1,:]*0.4\n",
    "        "
   ]
  },
  {
   "cell_type": "code",
   "execution_count": 55,
   "metadata": {},
   "outputs": [
    {
     "name": "stdout",
     "output_type": "stream",
     "text": [
      "The final distance between the ground trought and the predicted coordinates is : 6.971\n"
     ]
    }
   ],
   "source": [
    "dist = np.zeros(inputs_test_2.shape[2])\n",
    "for i in range(inputs_test_2.shape[2]):\n",
    "    dist[i] = np.sqrt(sum((gt_test_coord_2[10,i,:]-output_coord_2[10,i,:])**2))\n",
    "\n",
    "final_coord_error = np.mean(dist)\n",
    "print('The final distance between the ground trought and the predicted coordinates is :',final_coord_error.round(3))"
   ]
  },
  {
   "cell_type": "code",
   "execution_count": 56,
   "metadata": {},
   "outputs": [
    {
     "name": "stdout",
     "output_type": "stream",
     "text": [
      "The average error between the ground trought and the predicted coordinates is : 5.129\n"
     ]
    }
   ],
   "source": [
    "avr = np.zeros((gt_test_coord_2.shape[1],11))\n",
    "for i in range(gt_test_coord_2.shape[1]):\n",
    "    for j in range(11):\n",
    "        avr[i,j] = np.sqrt(sum((gt_test_coord_2[j,i,:]-output_coord_2[j,i,:])**2))\n",
    "\n",
    "average = np.mean(np.mean(avr,1))\n",
    "print('The average error between the ground trought and the predicted coordinates is :',average.round(3))"
   ]
  },
  {
   "cell_type": "code",
   "execution_count": 66,
   "metadata": {},
   "outputs": [
    {
     "data": {
      "text/plain": [
       "(-1.0525931799109545, 0.367514298130044, -0.6280428840000001, 13.188900564)"
      ]
     },
     "execution_count": 66,
     "metadata": {},
     "output_type": "execute_result"
    },
    {
     "data": {
      "image/png": "[encoded data removed]",
      "text/plain": [
       "<matplotlib.figure.Figure at 0x11478d780>"
      ]
     },
     "metadata": {},
     "output_type": "display_data"
    }
   ],
   "source": [
    "plt.figure(figsize=(12, 7))\n",
    "plt.rc('font', family='serif')\n",
    "plt.rc('font', size=20)\n",
    "\n",
    "ind = np.random.randint(inputs_test_2.shape[0])\n",
    "\n",
    "plt.plot(in_test_coord_2[:,ind,0],in_test_coord_2[:,ind,1],c='b')\n",
    "plt.plot(gt_test_coord_2[:,ind,0],gt_test_coord_2[:,ind,1],c='k')\n",
    "plt.plot(output_coord_2[:,ind,0],output_coord_2[:,ind,1],c='r')\n",
    "plt.axis('equal')"
   ]
  },
  {
   "cell_type": "markdown",
   "metadata": {},
   "source": [
    "##### Type 3 trajectory"
   ]
  },
  {
   "cell_type": "code",
   "execution_count": 67,
   "metadata": {
    "collapsed": true
   },
   "outputs": [],
   "source": [
    "output_coord_3=np.zeros([11,inputs_test_3.shape[2],2])\n",
    "for j in range(11):\n",
    "    for i in range(inputs_test_3.shape[2]):\n",
    "        if j==0:\n",
    "            output_coord_3[j,i,0:2] = in_test_coord_3[9,i,0:2]\n",
    "        else:\n",
    "            output_coord_3[j,i,0:2] = output_coord_3[j-1,i,0:2]+output_test_3[i,j-1,:]*0.4\n",
    "        "
   ]
  },
  {
   "cell_type": "code",
   "execution_count": 68,
   "metadata": {},
   "outputs": [
    {
     "name": "stdout",
     "output_type": "stream",
     "text": [
      "The final distance between the ground trought and the predicted coordinates is : 3.882\n"
     ]
    }
   ],
   "source": [
    "dist = np.zeros(output_coord_3.shape[1])\n",
    "for i in range(gt_test_coord_3.shape[1]):\n",
    "    dist[i] = np.sqrt(sum((gt_test_coord_3[10,i,:]-output_coord_3[10,i,:])**2))\n",
    "\n",
    "final_coord_error = np.mean(dist)\n",
    "print('The final distance between the ground trought and the predicted coordinates is :',final_coord_error.round(3))"
   ]
  },
  {
   "cell_type": "code",
   "execution_count": 69,
   "metadata": {},
   "outputs": [
    {
     "name": "stdout",
     "output_type": "stream",
     "text": [
      "The average error between the ground trought and the predicted coordinates is : 1.911\n"
     ]
    }
   ],
   "source": [
    "avr = np.zeros((gt_test_coord_3.shape[1],11))\n",
    "for i in range(gt_test_coord_3.shape[1]):\n",
    "    for j in range(11):\n",
    "        avr[i,j] = np.sqrt(sum((gt_test_coord_3[j,i,:]-output_coord_3[j,i,:])**2))\n",
    "\n",
    "average = np.mean(np.mean(avr,1))\n",
    "print('The average error between the ground trought and the predicted coordinates is :',average.round(3))"
   ]
  },
  {
   "cell_type": "code",
   "execution_count": 72,
   "metadata": {},
   "outputs": [
    {
     "data": {
      "text/plain": [
       "(-2.5840630658314994, 0.1556326955157857, -0.548662371, 11.521909791)"
      ]
     },
     "execution_count": 72,
     "metadata": {},
     "output_type": "execute_result"
    },
    {
     "data": {
      "image/png": "[encoded data removed]",
      "text/plain": [
       "<matplotlib.figure.Figure at 0x11a339ac8>"
      ]
     },
     "metadata": {},
     "output_type": "display_data"
    }
   ],
   "source": [
    "plt.figure(figsize=(12, 7))\n",
    "plt.rc('font', family='serif')\n",
    "plt.rc('font', size=20)\n",
    "\n",
    "ind = np.random.randint(inputs_test_3.shape[0])\n",
    "\n",
    "plt.plot(in_test_coord_3[:,ind,0],in_test_coord_3[:,ind,1],c='b')\n",
    "plt.plot(gt_test_coord_3[:,ind,0],gt_test_coord_3[:,ind,1],c='k')\n",
    "plt.plot(output_coord_3[:,ind,0],output_coord_3[:,ind,1],c='r')\n",
    "plt.axis('equal')"
   ]
  },
  {
   "cell_type": "code",
   "execution_count": 74,
   "metadata": {
    "collapsed": true
   },
   "outputs": [],
   "source": [
    "torch.save(net.state_dict(), 'speed_2CNN.pt')"
   ]
  },
  {
   "cell_type": "markdown",
   "metadata": {
    "collapsed": true
   },
   "source": [
    "#### Full Test Set"
   ]
  },
  {
   "cell_type": "code",
   "execution_count": 80,
   "metadata": {},
   "outputs": [
    {
     "name": "stdout",
     "output_type": "stream",
     "text": [
      "The final distance between the ground trought and the predicted coordinates is : 5.587\n",
      "The average error between the ground trought and the predicted coordinates is : 4.17\n"
     ]
    },
    {
     "data": {
      "text/plain": [
       "(-5.29997689537704,\n",
       " 0.25237985216081144,\n",
       " -0.31048498742748054,\n",
       " 6.520184735977091)"
      ]
     },
     "execution_count": 80,
     "metadata": {},
     "output_type": "execute_result"
    },
    {
     "data": {
      "image/png": "[encoded data removed]",
      "text/plain": [
       "<matplotlib.figure.Figure at 0x1147161d0>"
      ]
     },
     "metadata": {},
     "output_type": "display_data"
    }
   ],
   "source": [
    "output_coord=np.zeros([11,inputs_test.shape[2],2])\n",
    "for j in range(11):\n",
    "    for i in range(output_test.shape[1]):\n",
    "        if j==0:\n",
    "            output_coord[j,i,0:2] = in_test_coord[9,i,0:2]\n",
    "        else:\n",
    "            output_coord[j,i,0:2] = output_coord[j-1,i,0:2]+output_test[i,j-1,:]*0.4\n",
    "       \n",
    "\n",
    "dist = np.zeros(output_coord.shape[1])\n",
    "for i in range(gt_test_coord.shape[1]):\n",
    "    dist[i] = np.sqrt(sum((gt_test_coord[10,i,:]-output_coord[10,i,:])**2))\n",
    "\n",
    "final_coord_error = np.mean(dist)\n",
    "print('The final distance between the ground trought and the predicted coordinates is :',final_coord_error.round(3))\n",
    "\n",
    "avr = np.zeros((gt_test_coord.shape[1],11))\n",
    "for i in range(gt_test_coord.shape[1]):\n",
    "    for j in range(11):\n",
    "        avr[i,j] = np.sqrt(sum((gt_test_coord[j,i,:]-output_coord[j,i,:])**2))\n",
    "\n",
    "average = np.mean(np.mean(avr,1))\n",
    "print('The average error between the ground trought and the predicted coordinates is :',average.round(3))\n",
    "\n",
    "plt.figure(figsize=(12, 7))\n",
    "plt.rc('font', family='serif')\n",
    "plt.rc('font', size=20)\n",
    "\n",
    "ind = np.random.randint(inputs_test.shape[0])\n",
    "\n",
    "plt.plot(in_test_coord_1[:,ind,0],in_test_coord_1[:,ind,1],c='b')\n",
    "plt.plot(gt_test_coord_1[:,ind,0],gt_test_coord_1[:,ind,1],c='k')\n",
    "plt.plot(output_coord_1[:,ind,0],output_coord_1[:,ind,1],c='r')\n",
    "plt.axis('equal')"
   ]
  },
  {
   "cell_type": "code",
   "execution_count": null,
   "metadata": {
    "collapsed": true
   },
   "outputs": [],
   "source": []
  }
 ],
 "metadata": {
  "kernelspec": {
   "display_name": "Python 3",
   "language": "python",
   "name": "python3"
  },
  "language_info": {
   "codemirror_mode": {
    "name": "ipython",
    "version": 3
   },
   "file_extension": ".py",
   "mimetype": "text/x-python",
   "name": "python",
   "nbconvert_exporter": "python",
   "pygments_lexer": "ipython3",
   "version": "3.6.3"
  }
 },
 "nbformat": 4,
 "nbformat_minor": 2
}
