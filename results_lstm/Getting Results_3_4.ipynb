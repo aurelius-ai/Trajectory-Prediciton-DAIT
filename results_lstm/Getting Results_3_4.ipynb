{
 "cells": [
  {
   "cell_type": "code",
   "execution_count": 4,
   "metadata": {},
   "outputs": [
    {
     "data": {
      "text/plain": [
       "<torch._C.Generator at 0x108ee4bd0>"
      ]
     },
     "execution_count": 4,
     "metadata": {},
     "output_type": "execute_result"
    }
   ],
   "source": [
    "import torch\n",
    "from torch import nn\n",
    "from torch.autograd import Variable\n",
    "import torchvision.datasets as dsets\n",
    "import torchvision.transforms as transforms\n",
    "import matplotlib.pyplot as plt\n",
    "from LSTM import *\n",
    "import pandas as pd\n",
    "import numpy as np\n",
    "import torch.utils.data as utils\n",
    "import time\n",
    "import os\n",
    "import pickle\n",
    "\n",
    "import pdb\n",
    "\n",
    "# For the notebook\n",
    "%matplotlib inline\n",
    "%reload_ext autoreload\n",
    "%autoreload 2\n",
    "\n",
    "torch.manual_seed(1)"
   ]
  },
  {
   "cell_type": "code",
   "execution_count": 5,
   "metadata": {},
   "outputs": [
    {
     "data": {
      "text/plain": [
       "(torch.Size([10, 251, 244]),\n",
       " torch.Size([10, 1007, 244]),\n",
       " torch.Size([10, 460, 244]),\n",
       " torch.Size([10, 1718, 244]))"
      ]
     },
     "execution_count": 5,
     "metadata": {},
     "output_type": "execute_result"
    }
   ],
   "source": [
    "gt_test_coord_1 = pickle.load( open( \"./import_dataset_3/test/gt_test_coord_1.pkl\", \"rb\" ) )\n",
    "in_test_coord_1 = pickle.load( open( \"./import_dataset_3/test/in_test_coord_1.pkl\", \"rb\" ) )\n",
    "inputs_test_1 = pickle.load( open( \"./import_dataset_3/test/inputs_test_1.pkl\", \"rb\" ) )\n",
    "\n",
    "gt_test_coord_2 = pickle.load( open( \"./import_dataset_3/test/gt_test_coord_2.pkl\", \"rb\" ) )\n",
    "in_test_coord_2 = pickle.load( open( \"./import_dataset_3/test/in_test_coord_2.pkl\", \"rb\" ) )\n",
    "inputs_test_2 = pickle.load( open( \"./import_dataset_3/test/inputs_test_2.pkl\", \"rb\" ) )\n",
    "\n",
    "gt_test_coord_3 = pickle.load( open( \"./import_dataset_3/test/gt_test_coord_3.pkl\", \"rb\" ) )\n",
    "in_test_coord_3 = pickle.load( open( \"./import_dataset_3/test/in_test_coord_3.pkl\", \"rb\" ) )\n",
    "inputs_test_3 = pickle.load( open( \"./import_dataset_3/test/inputs_test_3.pkl\", \"rb\" ) )\n",
    "\n",
    "\n",
    "inputs_test = np.concatenate((inputs_test_1,inputs_test_2,inputs_test_3),axis=1)\n",
    "in_test_coord = np.concatenate((in_test_coord_1,in_test_coord_2,in_test_coord_3),axis=1)\n",
    "gt_test_coord = np.concatenate((gt_test_coord_1,gt_test_coord_2,gt_test_coord_3),axis=1)\n",
    "\n",
    "inputs_test = torch.from_numpy(inputs_test).float()\n",
    "\n",
    "inputs_test_1 = torch.from_numpy(inputs_test_1).float()\n",
    "\n",
    "inputs_test_2 = torch.from_numpy(inputs_test_2).float()\n",
    "\n",
    "inputs_test_3 = torch.from_numpy(inputs_test_3).float()\n",
    "inputs_test_1.shape, inputs_test_2.shape, inputs_test_3.shape,inputs_test.shape\n",
    "\n"
   ]
  },
  {
   "cell_type": "markdown",
   "metadata": {},
   "source": [
    "##### Full LSTM"
   ]
  },
  {
   "cell_type": "code",
<<<<<<< HEAD
   "execution_count": 7,
   "metadata": {},
=======
   "execution_count": 13,
   "metadata": {
    "collapsed": true
   },
>>>>>>> 238f7d46065b6078c12e262fe39dce35d1140fe5
   "outputs": [],
   "source": [
    "full_lstm = LSTM(input_size = inputs_test_1.shape[2], output_size = 4,\n",
    "                 num_layers=2, hidden_size=128)\n",
    "full_lstm.load_state_dict(torch.load('../model_rodolphe/model_results/fullLSTM_LD_4.pt'))\n"
   ]
  },
  {
   "cell_type": "code",
   "execution_count": 8,
   "metadata": {},
   "outputs": [
    {
     "data": {
      "text/plain": [
       "(10, 251, 4)"
      ]
     },
     "execution_count": 8,
     "metadata": {},
     "output_type": "execute_result"
    }
   ],
   "source": [
    "output_test = full_lstm.predict(inputs_test)\n",
    "output_test = output_test.data.numpy()\n",
    "\n",
    "output_test_1 = full_lstm.predict(inputs_test_1)\n",
    "output_test_1 = output_test_1.data.numpy()\n",
    "\n",
    "output_test_2 = full_lstm.predict(inputs_test_2)\n",
    "output_test_2 = output_test_2.data.numpy()\n",
    "\n",
    "output_test_3 = full_lstm.predict(inputs_test_3)\n",
    "output_test_3 = output_test_3.data.numpy()\n",
    "output_test_1.shape"
   ]
  },
  {
   "cell_type": "code",
<<<<<<< HEAD
   "execution_count": 9,
   "metadata": {},
=======
   "execution_count": 15,
   "metadata": {
    "collapsed": true
   },
>>>>>>> 238f7d46065b6078c12e262fe39dce35d1140fe5
   "outputs": [],
   "source": [
    "output_coord_1=np.zeros([11,inputs_test_1.shape[1],2])\n",
    "for j in range(11):\n",
    "    for i in range(inputs_test_1.shape[1]):\n",
    "        if j==0:\n",
    "            output_coord_1[j,i,0:2] = in_test_coord_1[9,i,0:2]\n",
    "        else:\n",
    "            output_coord_1[j,i,0:2] = output_test_1[j-1,i,2:]*0.4 + output_coord_1[j-1,i,0:2]\n"
   ]
  },
  {
   "cell_type": "code",
   "execution_count": 10,
   "metadata": {},
   "outputs": [
    {
     "name": "stdout",
     "output_type": "stream",
     "text": [
      "The final distance between the ground trought and the predicted coordinates is : 1.31\n",
      "The average error between the ground trought and the predicted coordinates is : 0.71\n"
     ]
    }
   ],
   "source": [
    "dist = np.zeros(inputs_test_1.shape[1])\n",
    "for i in range(inputs_test_1.shape[1]):\n",
    "    dist[i] = np.sqrt(sum((gt_test_coord_1[10,i,:]-output_coord_1[10,i,:])**2))\n",
    "    \n",
    "final_coord_error = np.mean(dist)\n",
    "print('The final distance between the ground trought and the predicted coordinates is :',\n",
    "      final_coord_error.round(3))\n",
    "\n",
    "avr = np.zeros((inputs_test_1.shape[1],11))\n",
    "for i in range(inputs_test_1.shape[1]):\n",
    "    for j in range(11):\n",
    "        avr[i,j] = np.sqrt(sum((gt_test_coord_1[j,i,:]-output_coord_1[j,i,:])**2))\n",
    "\n",
    "average = np.mean(np.mean(avr,1))\n",
    "print('The average error between the ground trought and the predicted coordinates is :',\n",
    "      average.round(3))        "
   ]
  },
  {
   "cell_type": "code",
   "execution_count": 11,
   "metadata": {},
   "outputs": [
    {
     "name": "stdout",
     "output_type": "stream",
     "text": [
      "The final distance between the ground truth and the predicted coordinates is : 1.096\n",
      "The average error between the ground truth and the predicted coordinates is : 0.612\n"
     ]
    }
   ],
   "source": [
    "output_coord_2=np.zeros([11,inputs_test_2.shape[1],2])\n",
    "for j in range(11):\n",
    "    for i in range(inputs_test_2.shape[1]):\n",
    "        if j==0:\n",
    "            output_coord_2[j,i,0:2] = in_test_coord_2[9,i,0:2]\n",
    "        else:\n",
    "            output_coord_2[j,i,0:2] = output_coord_2[j-1,i,0:2]+output_test_2[j-1,i,2:]*0.4\n",
    "        \n",
    "\n",
    "dist = np.zeros(inputs_test_2.shape[1])\n",
    "for i in range(inputs_test_2.shape[1]):\n",
    "    dist[i] = np.sqrt(sum((gt_test_coord_2[10,i,:]-output_coord_2[10,i,:])**2))\n",
    "\n",
    "final_coord_error = np.mean(dist)\n",
    "print('The final distance between the ground truth and the predicted coordinates is :',final_coord_error.round(3))\n",
    "\n",
    "avr = np.zeros((inputs_test_2.shape[1],11))\n",
    "for i in range(inputs_test_2.shape[1]):\n",
    "    for j in range(11):\n",
    "        avr[i,j] = np.sqrt(sum((gt_test_coord_2[j,i,:]-output_coord_2[j,i,:])**2))\n",
    "\n",
    "average = np.mean(np.mean(avr,1))\n",
    "print('The average error between the ground truth and the predicted coordinates is :',average.round(3))"
   ]
  },
  {
   "cell_type": "code",
   "execution_count": 12,
   "metadata": {},
   "outputs": [
    {
     "name": "stdout",
     "output_type": "stream",
     "text": [
      "The final distance between the ground truth and the predicted coordinates is : 1.342\n",
      "The average error between the ground trought and the predicted coordinates is : 0.681\n"
     ]
    }
   ],
   "source": [
    "output_coord_3=np.zeros([11,inputs_test_3.shape[1],2])\n",
    "for j in range(11):\n",
    "    for i in range(inputs_test_3.shape[1]):\n",
    "        if j==0:\n",
    "            output_coord_3[j,i,0:2] = in_test_coord_3[9,i,0:2]\n",
    "        else:\n",
    "            output_coord_3[j,i,0:2] = output_coord_3[j-1,i,0:2]+output_test_3[j-1,i,2:]*0.4\n",
    "        \n",
    "\n",
    "dist = np.zeros(inputs_test_3.shape[1])\n",
    "for i in range(inputs_test_3.shape[1]):\n",
    "    dist[i] = np.sqrt(sum((gt_test_coord_3[10,i,:]-output_coord_3[10,i,:])**2))\n",
    "\n",
    "final_coord_error = np.mean(dist)\n",
    "print('The final distance between the ground truth and the predicted coordinates is :',\n",
    "      final_coord_error.round(3))\n",
    "\n",
    "\n",
    "avr = np.zeros((inputs_test_3.shape[1],11))\n",
    "for i in range(inputs_test_3.shape[1]):\n",
    "    for j in range(11):\n",
    "        avr[i,j] = np.sqrt(sum((gt_test_coord_3[j,i,:]-output_coord_3[j,i,:])**2))\n",
    "\n",
    "average = np.mean(np.mean(avr,1))\n",
    "print('The average error between the ground trought and the predicted coordinates is :',\n",
    "      average.round(3))"
   ]
  },
  {
   "cell_type": "code",
   "execution_count": 13,
   "metadata": {},
   "outputs": [
    {
     "name": "stdout",
     "output_type": "stream",
     "text": [
      "The final distance between the ground truth and the predicted coordinates is : 1.193\n",
      "The average error between the ground trought and the predicted coordinates is : 0.645\n"
     ]
    }
   ],
   "source": [
    "output_coord=np.zeros([11,inputs_test.shape[1],2])\n",
    "for j in range(11):\n",
    "    for i in range(inputs_test.shape[1]):\n",
    "        if j==0:\n",
    "            output_coord[j,i,0:2] = in_test_coord[9,i,0:2]\n",
    "        else:\n",
    "            output_coord[j,i,0:2] = output_coord[j-1,i,0:2]+output_test[j-1,i,2:]*0.4\n",
    "        \n",
    "\n",
    "dist = np.zeros(inputs_test.shape[1])\n",
    "for i in range(inputs_test.shape[1]):\n",
    "    dist[i] = np.sqrt(sum((gt_test_coord[10,i,:]-output_coord[10,i,:])**2))\n",
    "\n",
    "final_coord_error = np.mean(dist)\n",
    "print('The final distance between the ground truth and the predicted coordinates is :',\n",
    "      final_coord_error.round(3))\n",
    "\n",
    "\n",
    "avr = np.zeros((inputs_test.shape[1],11))\n",
    "for i in range(inputs_test.shape[1]):\n",
    "    for j in range(11):\n",
    "        avr[i,j] = np.sqrt(sum((gt_test_coord[j,i,:]-output_coord[j,i,:])**2))\n",
    "\n",
    "average = np.mean(np.mean(avr,1))\n",
    "print('The average error between the ground trought and the predicted coordinates is :',\n",
    "      average.round(3))"
   ]
  },
  {
   "cell_type": "code",
   "execution_count": 14,
   "metadata": {},
   "outputs": [
    {
     "data": {
      "text/plain": [
       "array([[[ 0.06      ,  0.02      ],\n",
       "        [ 0.00894427,  0.0491935 ],\n",
       "        [ 0.        ,  0.        ],\n",
       "        ...,\n",
       "        [-0.31752165, -0.14758049],\n",
       "        [-1.05988068,  0.46081769],\n",
       "        [-0.07778175,  0.19091883]],\n",
       "\n",
       "       [[ 0.04929326, -0.14262248],\n",
       "        [ 0.01357594,  0.17325349],\n",
       "        [ 0.00717801,  0.28188786],\n",
       "        ...,\n",
       "        [-0.30527304,  0.10988484],\n",
       "        [-1.04718545,  0.80751255],\n",
       "        [-0.10154039,  0.33732839]],\n",
       "\n",
       "       [[ 0.03858651, -0.30524496],\n",
       "        [ 0.02779774,  0.24205861],\n",
       "        [ 0.01240902,  0.49281061],\n",
       "        ...,\n",
       "        [-0.27689039, -0.63161124],\n",
       "        [-1.01676988,  0.03590115],\n",
       "        [-0.11062607, -0.22536581]],\n",
       "\n",
       "       ...,\n",
       "\n",
       "       [[ 0.0259424 , -0.94992686],\n",
       "        [ 0.07227295,  0.25278718],\n",
       "        [ 0.0648194 ,  1.86044963],\n",
       "        ...,\n",
       "        [-0.38999992, -3.08008911],\n",
       "        [-2.14829481, -1.45718764],\n",
       "        [-0.12031768, -0.96256926]],\n",
       "\n",
       "       [[ 0.04508044, -1.07541206],\n",
       "        [ 0.07638236,  0.19140574],\n",
       "        [ 0.07553783,  2.108264  ],\n",
       "        ...,\n",
       "        [-0.39771954, -3.24943742],\n",
       "        [-2.35097821, -1.73781313],\n",
       "        [-0.08981517, -0.99581064]],\n",
       "\n",
       "       [[ 0.06803768, -1.19333732],\n",
       "        [ 0.08078484,  0.22862143],\n",
       "        [ 0.08564541,  2.4024471 ],\n",
       "        ...,\n",
       "        [-0.5340272 , -3.61054152],\n",
       "        [-2.55454658, -2.04334246],\n",
       "        [-0.0215095 , -1.03024957]]])"
      ]
     },
     "execution_count": 14,
     "metadata": {},
     "output_type": "execute_result"
    }
   ],
   "source": [
    "output_coord_1"
   ]
  },
  {
   "cell_type": "code",
   "execution_count": null,
   "metadata": {
    "collapsed": true
   },
   "outputs": [],
   "source": []
  }
 ],
 "metadata": {
  "kernelspec": {
   "display_name": "Python 3",
   "language": "python",
   "name": "python3"
  },
  "language_info": {
   "codemirror_mode": {
    "name": "ipython",
    "version": 3
   },
   "file_extension": ".py",
   "mimetype": "text/x-python",
   "name": "python",
   "nbconvert_exporter": "python",
   "pygments_lexer": "ipython3",
   "version": "3.6.3"
  }
 },
 "nbformat": 4,
 "nbformat_minor": 2
}
