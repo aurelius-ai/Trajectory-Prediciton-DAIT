{
 "cells": [
  {
   "cell_type": "code",
   "execution_count": 1,
   "metadata": {},
   "outputs": [
    {
     "data": {
      "text/plain": [
       "<torch._C.Generator at 0x10dc5d4d0>"
      ]
     },
     "execution_count": 1,
     "metadata": {},
     "output_type": "execute_result"
    }
   ],
   "source": [
    "import torch\n",
    "from torch import nn\n",
    "from torch.autograd import Variable\n",
    "import torchvision.datasets as dsets\n",
    "import torchvision.transforms as transforms\n",
    "import matplotlib.pyplot as plt\n",
    "from LSTM import *\n",
    "import pandas as pd\n",
    "import numpy as np\n",
    "import torch.utils.data as utils\n",
    "import time\n",
    "import os\n",
    "import pickle\n",
    "\n",
    "import pdb\n",
    "\n",
    "# For the notebook\n",
    "%matplotlib inline\n",
    "%reload_ext autoreload\n",
    "%autoreload 2\n",
    "\n",
    "torch.manual_seed(1)"
   ]
  },
  {
   "cell_type": "code",
   "execution_count": 2,
   "metadata": {},
   "outputs": [
    {
     "data": {
      "text/plain": [
       "(torch.Size([10, 251, 242]),\n",
       " torch.Size([10, 1007, 242]),\n",
       " torch.Size([10, 460, 242]),\n",
       " torch.Size([10, 1718, 242]))"
      ]
     },
     "execution_count": 2,
     "metadata": {},
     "output_type": "execute_result"
    }
   ],
   "source": [
    "gt_test_coord_1 = pickle.load( open( \"../import_dataset_3/test/gt_test_coord_1.pkl\", \"rb\" ) )\n",
    "in_test_coord_1 = pickle.load( open( \"../import_dataset_3/test/in_test_coord_1.pkl\", \"rb\" ) )\n",
    "inputs_test_1 = pickle.load( open( \"../import_dataset_3/test/inputs_test_1.pkl\", \"rb\" ) )\n",
    "\n",
    "gt_test_coord_2 = pickle.load( open( \"../import_dataset_3/test/gt_test_coord_2.pkl\", \"rb\" ) )\n",
    "in_test_coord_2 = pickle.load( open( \"../import_dataset_3/test/in_test_coord_2.pkl\", \"rb\" ) )\n",
    "inputs_test_2 = pickle.load( open( \"../import_dataset_3/test/inputs_test_2.pkl\", \"rb\" ) )\n",
    "\n",
    "gt_test_coord_3 = pickle.load( open( \"../import_dataset_3/test/gt_test_coord_3.pkl\", \"rb\" ) )\n",
    "in_test_coord_3 = pickle.load( open( \"../import_dataset_3/test/in_test_coord_3.pkl\", \"rb\" ) )\n",
    "inputs_test_3 = pickle.load( open( \"../import_dataset_3/test/inputs_test_3.pkl\", \"rb\" ) )\n",
    "\n",
    "inputs_test_1 = inputs_test_1[:,:,2:]\n",
    "inputs_test_2 = inputs_test_2[:,:,2:]\n",
    "inputs_test_3 = inputs_test_3[:,:,2:]\n",
    "\n",
    "inputs_test = np.concatenate((inputs_test_1,inputs_test_2,inputs_test_3),axis=1)\n",
    "in_test_coord = np.concatenate((in_test_coord_1,in_test_coord_2,in_test_coord_3),axis=1)\n",
    "gt_test_coord = np.concatenate((gt_test_coord_1,gt_test_coord_2,gt_test_coord_3),axis=1)\n",
    "\n",
    "inputs_test = torch.from_numpy(inputs_test).float()\n",
    "\n",
    "inputs_test_1 = torch.from_numpy(inputs_test_1).float()\n",
    "\n",
    "inputs_test_2 = torch.from_numpy(inputs_test_2).float()\n",
    "\n",
    "inputs_test_3 = torch.from_numpy(inputs_test_3).float()\n",
    "\n",
    "inputs_test_1.shape, inputs_test_2.shape, inputs_test_3.shape,inputs_test.shape\n",
    "\n"
   ]
  },
  {
   "cell_type": "markdown",
   "metadata": {},
   "source": [
    "##### Full LSTM"
   ]
  },
  {
   "cell_type": "code",
   "execution_count": 4,
   "metadata": {},
   "outputs": [],
   "source": [
    "full_lstm = LSTM(input_size = inputs_test_1.shape[2], output_size = 2,\n",
    "                 num_layers=2, hidden_size=128)\n",
    "full_lstm.load_state_dict(torch.load('../model_rodolphe/model_results/speed_ND_2.pt'))\n"
   ]
  },
  {
   "cell_type": "code",
   "execution_count": 5,
   "metadata": {},
   "outputs": [
    {
     "data": {
      "text/plain": [
       "(10, 251, 2)"
      ]
     },
     "execution_count": 5,
     "metadata": {},
     "output_type": "execute_result"
    }
   ],
   "source": [
    "output_test = full_lstm.predict(inputs_test)\n",
    "output_test = output_test.data.numpy()\n",
    "\n",
    "output_test_1 = full_lstm.predict(inputs_test_1)\n",
    "output_test_1 = output_test_1.data.numpy()\n",
    "\n",
    "output_test_2 = full_lstm.predict(inputs_test_2)\n",
    "output_test_2 = output_test_2.data.numpy()\n",
    "\n",
    "output_test_3 = full_lstm.predict(inputs_test_3)\n",
    "output_test_3 = output_test_3.data.numpy()\n",
    "output_test_1.shape"
   ]
  },
  {
   "cell_type": "code",
   "execution_count": 11,
   "metadata": {},
   "outputs": [],
   "source": [
    "output_coord_1=np.zeros([11,inputs_test_1.shape[1],2])\n",
    "for j in range(11):\n",
    "    for i in range(inputs_test_1.shape[1]):\n",
    "        if j==0:\n",
    "            output_coord_1[j,i,0:2] = in_test_coord_1[9,i,0:2]\n",
    "        else:\n",
    "            output_coord_1[j,i,0:2] = output_test_1[j-1,i,:2]*0.4 + output_coord_1[j-1,i,0:2]\n"
   ]
  },
  {
   "cell_type": "code",
   "execution_count": 12,
   "metadata": {},
   "outputs": [
    {
     "name": "stdout",
     "output_type": "stream",
     "text": [
      "The final distance between the ground trought and the predicted coordinates is : 1.412\n",
      "The average error between the ground trought and the predicted coordinates is : 0.726\n"
     ]
    }
   ],
   "source": [
    "dist = np.zeros(inputs_test_1.shape[1])\n",
    "for i in range(inputs_test_1.shape[1]):\n",
    "    dist[i] = np.sqrt(sum((gt_test_coord_1[10,i,:]-output_coord_1[10,i,:])**2))\n",
    "    \n",
    "final_coord_error = np.mean(dist)\n",
    "print('The final distance between the ground trought and the predicted coordinates is :',\n",
    "      final_coord_error.round(3))\n",
    "\n",
    "avr = np.zeros((inputs_test_1.shape[1],11))\n",
    "for i in range(inputs_test_1.shape[1]):\n",
    "    for j in range(11):\n",
    "        avr[i,j] = np.sqrt(sum((gt_test_coord_1[j,i,:]-output_coord_1[j,i,:])**2))\n",
    "\n",
    "average = np.mean(np.mean(avr,1))\n",
    "print('The average error between the ground trought and the predicted coordinates is :',\n",
    "      average.round(3))        "
   ]
  },
  {
   "cell_type": "code",
   "execution_count": 13,
   "metadata": {},
   "outputs": [
    {
     "name": "stdout",
     "output_type": "stream",
     "text": [
      "The final distance between the ground truth and the predicted coordinates is : 1.045\n",
      "The average error between the ground truth and the predicted coordinates is : 0.573\n"
     ]
    }
   ],
   "source": [
    "output_coord_2=np.zeros([11,inputs_test_2.shape[1],2])\n",
    "for j in range(11):\n",
    "    for i in range(inputs_test_2.shape[1]):\n",
    "        if j==0:\n",
    "            output_coord_2[j,i,0:2] = in_test_coord_2[9,i,0:2]\n",
    "        else:\n",
    "            output_coord_2[j,i,0:2] = output_test_2[j-1,i,:2]*0.4 + output_coord_2[j-1,i,0:2]\n",
    "        \n",
    "\n",
    "dist = np.zeros(inputs_test_2.shape[1])\n",
    "for i in range(inputs_test_2.shape[1]):\n",
    "    dist[i] = np.sqrt(sum((gt_test_coord_2[10,i,:]-output_coord_2[10,i,:])**2))\n",
    "\n",
    "final_coord_error = np.mean(dist)\n",
    "print('The final distance between the ground truth and the predicted coordinates is :',final_coord_error.round(3))\n",
    "\n",
    "avr = np.zeros((inputs_test_2.shape[1],11))\n",
    "for i in range(inputs_test_2.shape[1]):\n",
    "    for j in range(11):\n",
    "        avr[i,j] = np.sqrt(sum((gt_test_coord_2[j,i,:]-output_coord_2[j,i,:])**2))\n",
    "\n",
    "average = np.mean(np.mean(avr,1))\n",
    "print('The average error between the ground truth and the predicted coordinates is :',average.round(3))"
   ]
  },
  {
   "cell_type": "code",
   "execution_count": 14,
   "metadata": {},
   "outputs": [
    {
     "name": "stdout",
     "output_type": "stream",
     "text": [
      "The final distance between the ground truth and the predicted coordinates is : 1.231\n",
      "The average error between the ground trought and the predicted coordinates is : 0.651\n"
     ]
    }
   ],
   "source": [
    "output_coord_3=np.zeros([11,inputs_test_3.shape[1],2])\n",
    "for j in range(11):\n",
    "    for i in range(inputs_test_3.shape[1]):\n",
    "        if j==0:\n",
    "            output_coord_3[j,i,0:2] = in_test_coord_3[9,i,0:2]\n",
    "        else:\n",
    "            output_coord_3[j,i,0:2] = output_test_3[j-1,i,:2]*0.4 + output_coord_3[j-1,i,0:2]\n",
    "            \n",
    "\n",
    "dist = np.zeros(inputs_test_3.shape[1])\n",
    "for i in range(inputs_test_3.shape[1]):\n",
    "    dist[i] = np.sqrt(sum((gt_test_coord_3[10,i,:]-output_coord_3[10,i,:])**2))\n",
    "\n",
    "final_coord_error = np.mean(dist)\n",
    "print('The final distance between the ground truth and the predicted coordinates is :',\n",
    "      final_coord_error.round(3))\n",
    "\n",
    "\n",
    "avr = np.zeros((inputs_test_3.shape[1],11))\n",
    "for i in range(inputs_test_3.shape[1]):\n",
    "    for j in range(11):\n",
    "        avr[i,j] = np.sqrt(sum((gt_test_coord_3[j,i,:]-output_coord_3[j,i,:])**2))\n",
    "\n",
    "average = np.mean(np.mean(avr,1))\n",
    "print('The average error between the ground trought and the predicted coordinates is :',\n",
    "      average.round(3))"
   ]
  },
  {
   "cell_type": "code",
   "execution_count": 15,
   "metadata": {},
   "outputs": [
    {
     "name": "stdout",
     "output_type": "stream",
     "text": [
      "The final distance between the ground truth and the predicted coordinates is : 1.148\n",
      "The average error between the ground trought and the predicted coordinates is : 0.616\n"
     ]
    }
   ],
   "source": [
    "output_coord=np.zeros([11,inputs_test.shape[1],2])\n",
    "for j in range(11):\n",
    "    for i in range(inputs_test.shape[1]):\n",
    "        if j==0:\n",
    "            output_coord[j,i,0:2] = in_test_coord[9,i,0:2]\n",
    "        else:\n",
    "            output_coord[j,i,0:2] = output_test[j-1,i,:2]*0.4 + output_coord[j-1,i,0:2]\n",
    "        \n",
    "\n",
    "dist = np.zeros(inputs_test.shape[1])\n",
    "for i in range(inputs_test.shape[1]):\n",
    "    dist[i] = np.sqrt(sum((gt_test_coord[10,i,:]-output_coord[10,i,:])**2))\n",
    "\n",
    "final_coord_error = np.mean(dist)\n",
    "print('The final distance between the ground truth and the predicted coordinates is :',\n",
    "      final_coord_error.round(3))\n",
    "\n",
    "\n",
    "avr = np.zeros((inputs_test.shape[1],11))\n",
    "for i in range(inputs_test.shape[1]):\n",
    "    for j in range(11):\n",
    "        avr[i,j] = np.sqrt(sum((gt_test_coord[j,i,:]-output_coord[j,i,:])**2))\n",
    "\n",
    "average = np.mean(np.mean(avr,1))\n",
    "print('The average error between the ground trought and the predicted coordinates is :',\n",
    "      average.round(3))"
   ]
  },
  {
   "cell_type": "code",
   "execution_count": null,
   "metadata": {
    "collapsed": true
   },
   "outputs": [],
   "source": []
  }
 ],
 "metadata": {
  "kernelspec": {
   "display_name": "Python 3",
   "language": "python",
   "name": "python3"
  },
  "language_info": {
   "codemirror_mode": {
    "name": "ipython",
    "version": 3
   },
   "file_extension": ".py",
   "mimetype": "text/x-python",
   "name": "python",
   "nbconvert_exporter": "python",
   "pygments_lexer": "ipython3",
   "version": "3.6.4"
  }
 },
 "nbformat": 4,
 "nbformat_minor": 2
}
