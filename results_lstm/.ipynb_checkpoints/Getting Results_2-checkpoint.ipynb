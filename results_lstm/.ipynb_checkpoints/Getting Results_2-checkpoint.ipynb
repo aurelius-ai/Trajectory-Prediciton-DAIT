{
 "cells": [
  {
   "cell_type": "code",
   "execution_count": 1,
   "metadata": {},
   "outputs": [
    {
     "data": {
      "text/plain": [
       "<torch._C.Generator at 0x10a8e7550>"
      ]
     },
     "execution_count": 1,
     "metadata": {},
     "output_type": "execute_result"
    }
   ],
   "source": [
    "import torch\n",
    "from torch import nn\n",
    "from torch.autograd import Variable\n",
    "import torchvision.datasets as dsets\n",
    "import torchvision.transforms as transforms\n",
    "import matplotlib.pyplot as plt\n",
    "from LSTM import *\n",
    "import pandas as pd\n",
    "import numpy as np\n",
    "import torch.utils.data as utils\n",
    "import time\n",
    "import os\n",
    "import pickle\n",
    "\n",
    "import pdb\n",
    "\n",
    "# For the notebook\n",
    "%matplotlib inline\n",
    "%reload_ext autoreload\n",
    "%autoreload 2\n",
    "\n",
    "torch.manual_seed(1)"
   ]
  },
  {
   "cell_type": "code",
   "execution_count": 2,
   "metadata": {},
   "outputs": [
    {
     "data": {
      "text/plain": [
       "(torch.Size([10, 251, 162]),\n",
       " torch.Size([10, 1007, 162]),\n",
       " torch.Size([10, 460, 162]),\n",
       " torch.Size([10, 1718, 162]))"
      ]
     },
     "execution_count": 2,
     "metadata": {},
     "output_type": "execute_result"
    }
   ],
   "source": [
    "gt_test_coord_1 = pickle.load( open( \"../import_dataset_2/test/gt_test_coord_1.pkl\", \"rb\" ) )\n",
    "in_test_coord_1 = pickle.load( open( \"../import_dataset_2/test/in_test_coord_1.pkl\", \"rb\" ) )\n",
    "inputs_test_1 = pickle.load( open( \"../import_dataset_2/test/inputs_test_1.pkl\", \"rb\" ) )\n",
    "\n",
    "gt_test_coord_2 = pickle.load( open( \"../import_dataset_2/test/gt_test_coord_2.pkl\", \"rb\" ) )\n",
    "in_test_coord_2 = pickle.load( open( \"../import_dataset_2/test/in_test_coord_2.pkl\", \"rb\" ) )\n",
    "inputs_test_2 = pickle.load( open( \"../import_dataset_2/test/inputs_test_2.pkl\", \"rb\" ) )\n",
    "\n",
    "gt_test_coord_3 = pickle.load( open( \"../import_dataset_2/test/gt_test_coord_3.pkl\", \"rb\" ) )\n",
    "in_test_coord_3 = pickle.load( open( \"../import_dataset_2/test/in_test_coord_3.pkl\", \"rb\" ) )\n",
    "inputs_test_3 = pickle.load( open( \"../import_dataset_2/test/inputs_test_3.pkl\", \"rb\" ) )\n",
    "\n",
    "inputs_test_1 = inputs_test_1[:,:,2:]\n",
    "inputs_test_2 = inputs_test_2[:,:,2:]\n",
    "inputs_test_3 = inputs_test_3[:,:,2:]\n",
    "\n",
    "inputs_test = np.concatenate((inputs_test_1,inputs_test_2,inputs_test_3),axis=1)\n",
    "in_test_coord = np.concatenate((in_test_coord_1,in_test_coord_2,in_test_coord_3),axis=1)\n",
    "gt_test_coord = np.concatenate((gt_test_coord_1,gt_test_coord_2,gt_test_coord_3),axis=1)\n",
    "\n",
    "inputs_test = torch.from_numpy(inputs_test).float()\n",
    "\n",
    "inputs_test_1 = torch.from_numpy(inputs_test_1).float()\n",
    "\n",
    "inputs_test_2 = torch.from_numpy(inputs_test_2).float()\n",
    "\n",
    "inputs_test_3 = torch.from_numpy(inputs_test_3).float()\n",
    "inputs_test_1.shape, inputs_test_2.shape, inputs_test_3.shape,inputs_test.shape\n",
    "\n"
   ]
  },
  {
   "cell_type": "markdown",
   "metadata": {},
   "source": [
    "##### Full LSTM"
   ]
  },
  {
   "cell_type": "code",
   "execution_count": 3,
   "metadata": {},
   "outputs": [],
   "source": [
    "full_lstm = LSTM(input_size = inputs_test_1.shape[2], output_size = 2,\n",
    "                 num_layers=2, hidden_size=128)\n",
    "full_lstm.load_state_dict(torch.load('../model_rodolphe/model_results/speed_2.pt'))\n"
   ]
  },
  {
   "cell_type": "code",
   "execution_count": 4,
   "metadata": {},
   "outputs": [
    {
     "data": {
      "text/plain": [
       "(10, 251, 2)"
      ]
     },
     "execution_count": 4,
     "metadata": {},
     "output_type": "execute_result"
    }
   ],
   "source": [
    "output_test = full_lstm.predict(inputs_test)\n",
    "output_test = output_test.data.numpy()\n",
    "\n",
    "output_test_1 = full_lstm.predict(inputs_test_1)\n",
    "output_test_1 = output_test_1.data.numpy()\n",
    "\n",
    "output_test_2 = full_lstm.predict(inputs_test_2)\n",
    "output_test_2 = output_test_2.data.numpy()\n",
    "\n",
    "output_test_3 = full_lstm.predict(inputs_test_3)\n",
    "output_test_3 = output_test_3.data.numpy()\n",
    "output_test_1.shape"
   ]
  },
  {
   "cell_type": "code",
   "execution_count": 5,
   "metadata": {},
   "outputs": [],
   "source": [
    "output_coord_1=np.zeros([11,inputs_test_1.shape[1],2])\n",
    "for j in range(11):\n",
    "    for i in range(inputs_test_1.shape[1]):\n",
    "        if j==0:\n",
    "            output_coord_1[j,i,:] = in_test_coord_1[9,i,0:2]\n",
    "        else:\n",
    "            output_coord_1[j,i,:] = output_test_1[j-1,i,:]*0.4 + output_coord_1[j-1,i,0:2]\n"
   ]
  },
  {
   "cell_type": "code",
   "execution_count": 6,
   "metadata": {},
   "outputs": [
    {
     "name": "stdout",
     "output_type": "stream",
     "text": [
      "The final distance between the ground trought and the predicted coordinates is : 1.433\n",
      "The average error between the ground trought and the predicted coordinates is : 0.742\n"
     ]
    }
   ],
   "source": [
    "dist = np.zeros(inputs_test_1.shape[1])\n",
    "for i in range(inputs_test_1.shape[1]):\n",
    "    dist[i] = np.sqrt(sum((gt_test_coord_1[10,i,:]-output_coord_1[10,i,:])**2))\n",
    "    \n",
    "final_coord_error = np.mean(dist)\n",
    "print('The final distance between the ground trought and the predicted coordinates is :',\n",
    "      final_coord_error.round(3))\n",
    "\n",
    "avr = np.zeros((inputs_test_1.shape[1],11))\n",
    "for i in range(inputs_test_1.shape[1]):\n",
    "    for j in range(11):\n",
    "        avr[i,j] = np.sqrt(sum((gt_test_coord_1[j,i,:]-output_coord_1[j,i,:])**2))\n",
    "\n",
    "average = np.mean(np.mean(avr,1))\n",
    "print('The average error between the ground trought and the predicted coordinates is :',\n",
    "      average.round(3))        "
   ]
  },
  {
   "cell_type": "code",
   "execution_count": 7,
   "metadata": {},
   "outputs": [
    {
     "name": "stdout",
     "output_type": "stream",
     "text": [
      "The final distance between the ground truth and the predicted coordinates is : 0.716\n",
      "The average error between the ground truth and the predicted coordinates is : 0.397\n"
     ]
    }
   ],
   "source": [
    "output_coord_2=np.zeros([11,inputs_test_2.shape[1],2])\n",
    "for j in range(11):\n",
    "    for i in range(inputs_test_2.shape[1]):\n",
    "        if j==0:\n",
    "            output_coord_2[j,i,:] = in_test_coord_2[9,i,:]\n",
    "        else:\n",
    "            output_coord_2[j,i,:] = output_coord_2[j-1,i,:]+output_test_2[j-1,i,:]*0.4\n",
    "        \n",
    "\n",
    "dist = np.zeros(inputs_test_2.shape[1])\n",
    "for i in range(inputs_test_2.shape[1]):\n",
    "    dist[i] = np.sqrt(sum((gt_test_coord_2[10,i,:]-output_coord_2[10,i,:])**2))\n",
    "\n",
    "final_coord_error = np.mean(dist)\n",
    "print('The final distance between the ground truth and the predicted coordinates is :',final_coord_error.round(3))\n",
    "\n",
    "avr = np.zeros((inputs_test_2.shape[1],11))\n",
    "for i in range(inputs_test_2.shape[1]):\n",
    "    for j in range(11):\n",
    "        avr[i,j] = np.sqrt(sum((gt_test_coord_2[j,i,:]-output_coord_2[j,i,:])**2))\n",
    "\n",
    "average = np.mean(np.mean(avr,1))\n",
    "print('The average error between the ground truth and the predicted coordinates is :',average.round(3))"
   ]
  },
  {
   "cell_type": "code",
   "execution_count": 8,
   "metadata": {},
   "outputs": [
    {
     "name": "stdout",
     "output_type": "stream",
     "text": [
      "The final distance between the ground truth and the predicted coordinates is : 0.874\n",
      "The average error between the ground trought and the predicted coordinates is : 0.448\n"
     ]
    }
   ],
   "source": [
    "output_coord_3=np.zeros([11,inputs_test_3.shape[1],2])\n",
    "for j in range(11):\n",
    "    for i in range(inputs_test_3.shape[1]):\n",
    "        if j==0:\n",
    "            output_coord_3[j,i,:] = in_test_coord_3[9,i,0:2]\n",
    "        else:\n",
    "            output_coord_3[j,i,:] = output_coord_3[j-1,i,:]+output_test_3[j-1,i,:]*0.4\n",
    "        \n",
    "\n",
    "dist = np.zeros(inputs_test_3.shape[1])\n",
    "for i in range(inputs_test_3.shape[1]):\n",
    "    dist[i] = np.sqrt(sum((gt_test_coord_3[10,i,:]-output_coord_3[10,i,:])**2))\n",
    "\n",
    "final_coord_error = np.mean(dist)\n",
    "print('The final distance between the ground truth and the predicted coordinates is :',\n",
    "      final_coord_error.round(3))\n",
    "\n",
    "\n",
    "avr = np.zeros((inputs_test_3.shape[1],11))\n",
    "for i in range(inputs_test_3.shape[1]):\n",
    "    for j in range(11):\n",
    "        avr[i,j] = np.sqrt(sum((gt_test_coord_3[j,i,:]-output_coord_3[j,i,:])**2))\n",
    "\n",
    "average = np.mean(np.mean(avr,1))\n",
    "print('The average error between the ground trought and the predicted coordinates is :',\n",
    "      average.round(3))"
   ]
  },
  {
   "cell_type": "code",
   "execution_count": 9,
   "metadata": {},
   "outputs": [
    {
     "name": "stdout",
     "output_type": "stream",
     "text": [
      "The final distance between the ground truth and the predicted coordinates is : 0.863\n",
      "The average error between the ground trought and the predicted coordinates is : 0.461\n"
     ]
    }
   ],
   "source": [
    "output_coord=np.zeros([11,inputs_test.shape[1],2])\n",
    "for j in range(11):\n",
    "    for i in range(inputs_test.shape[1]):\n",
    "        if j==0:\n",
    "            output_coord[j,i,:] = in_test_coord[9,i,:]\n",
    "        else:\n",
    "            output_coord[j,i,:] = output_coord[j-1,i,:]+output_test[j-1,i,:]*0.4\n",
    "        \n",
    "\n",
    "dist = np.zeros(inputs_test.shape[1])\n",
    "for i in range(inputs_test.shape[1]):\n",
    "    dist[i] = np.sqrt(sum((gt_test_coord[10,i,:]-output_coord[10,i,:])**2))\n",
    "\n",
    "final_coord_error = np.mean(dist)\n",
    "print('The final distance between the ground truth and the predicted coordinates is :',\n",
    "      final_coord_error.round(3))\n",
    "\n",
    "\n",
    "avr = np.zeros((inputs_test.shape[1],11))\n",
    "for i in range(inputs_test.shape[1]):\n",
    "    for j in range(11):\n",
    "        avr[i,j] = np.sqrt(sum((gt_test_coord[j,i,:]-output_coord[j,i,:])**2))\n",
    "\n",
    "average = np.mean(np.mean(avr,1))\n",
    "print('The average error between the ground trought and the predicted coordinates is :',\n",
    "      average.round(3))"
   ]
  },
  {
   "cell_type": "code",
   "execution_count": 10,
   "metadata": {},
   "outputs": [
    {
     "data": {
      "text/plain": [
       "(-2.1730711923903354, 0.2610975329709683, -0.057600656, 1.2096137759999999)"
      ]
     },
     "execution_count": 10,
     "metadata": {},
     "output_type": "execute_result"
    },
    {
     "data": {
      "image/png": "[encoded data removed]",
      "text/plain": [
       "<matplotlib.figure.Figure at 0x10f9a2128>"
      ]
     },
     "metadata": {},
     "output_type": "display_data"
    }
   ],
   "source": [
    "plt.figure(figsize=(12, 7))\n",
    "plt.rc('font', family='serif')\n",
    "plt.rc('font', size=20)\n",
    "\n",
    "ind = np.random.randint(inputs_test.shape[1])\n",
    "\n",
    "plt.plot(in_test_coord[:,ind,0],in_test_coord[:,ind,1],c='b')\n",
    "plt.plot(gt_test_coord[:,ind,0],gt_test_coord[:,ind,1],c='k')\n",
    "plt.plot(output_coord[:,ind,0],output_coord[:,ind,1],c='r')\n",
    "plt.axis('equal')"
   ]
  },
  {
   "cell_type": "code",
   "execution_count": 16,
   "metadata": {},
   "outputs": [
    {
     "data": {
      "text/plain": [
       "(0.003550761452660149, 0.0)"
      ]
     },
     "execution_count": 16,
     "metadata": {},
     "output_type": "execute_result"
    }
   ],
   "source": [
    "np.min(dist),np.min(avr)"
   ]
  },
  {
   "cell_type": "code",
   "execution_count": 13,
   "metadata": {},
   "outputs": [
    {
     "data": {
      "text/plain": [
       "array([1.82530898, 2.62145481, 3.22801556, ..., 0.55852714, 0.15662541,\n",
       "       3.21522695])"
      ]
     },
     "execution_count": 13,
     "metadata": {},
     "output_type": "execute_result"
    }
   ],
   "source": [
    "dist"
   ]
  },
  {
   "cell_type": "code",
   "execution_count": null,
   "metadata": {},
   "outputs": [],
   "source": []
  }
 ],
 "metadata": {
  "kernelspec": {
   "display_name": "Python 3",
   "language": "python",
   "name": "python3"
  },
  "language_info": {
   "codemirror_mode": {
    "name": "ipython",
    "version": 3
   },
   "file_extension": ".py",
   "mimetype": "text/x-python",
   "name": "python",
   "nbconvert_exporter": "python",
   "pygments_lexer": "ipython3",
   "version": "3.6.4"
  }
 },
 "nbformat": 4,
 "nbformat_minor": 2
}
