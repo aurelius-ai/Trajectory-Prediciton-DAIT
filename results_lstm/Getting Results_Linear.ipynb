{
 "cells": [
  {
   "cell_type": "code",
   "execution_count": 1,
   "metadata": {},
   "outputs": [
    {
     "data": {
      "text/plain": [
       "<torch._C.Generator at 0x10bf096d0>"
      ]
     },
     "execution_count": 1,
     "metadata": {},
     "output_type": "execute_result"
    }
   ],
   "source": [
    "import torch\n",
    "from torch import nn\n",
    "from torch.autograd import Variable\n",
    "import torchvision.datasets as dsets\n",
    "import torchvision.transforms as transforms\n",
    "import matplotlib.pyplot as plt\n",
    "from LSTM import *\n",
    "import pandas as pd\n",
    "import numpy as np\n",
    "import torch.utils.data as utils\n",
    "import time\n",
    "import os\n",
    "import pickle\n",
    "\n",
    "import pdb\n",
    "\n",
    "# For the notebook\n",
    "%matplotlib inline\n",
    "%reload_ext autoreload\n",
    "%autoreload 2\n",
    "\n",
    "torch.manual_seed(1)"
   ]
  },
  {
   "cell_type": "code",
   "execution_count": 3,
   "metadata": {},
   "outputs": [
    {
     "data": {
      "text/plain": [
       "(10, 1718, 2)"
      ]
     },
     "execution_count": 3,
     "metadata": {},
     "output_type": "execute_result"
    }
   ],
   "source": [
    "gt_test_coord_1 = pickle.load( open( \"../import_dataset_2/test/gt_test_coord_1.pkl\", \"rb\" ) )\n",
    "in_test_coord_1 = pickle.load( open( \"../import_dataset_2/test/in_test_coord_1.pkl\", \"rb\" ) )\n",
    "inputs_test_1 = pickle.load( open( \"../import_dataset_2/test/inputs_test_1.pkl\", \"rb\" ) )\n",
    "\n",
    "gt_test_coord_2 = pickle.load( open( \"../import_dataset_2/test/gt_test_coord_2.pkl\", \"rb\" ) )\n",
    "in_test_coord_2 = pickle.load( open( \"../import_dataset_2/test/in_test_coord_2.pkl\", \"rb\" ) )\n",
    "inputs_test_2 = pickle.load( open( \"../import_dataset_2/test/inputs_test_2.pkl\", \"rb\" ) )\n",
    "\n",
    "gt_test_coord_3 = pickle.load( open( \"../import_dataset_2/test/gt_test_coord_3.pkl\", \"rb\" ) )\n",
    "in_test_coord_3 = pickle.load( open( \"../import_dataset_2/test/in_test_coord_3.pkl\", \"rb\" ) )\n",
    "inputs_test_3 = pickle.load( open( \"../import_dataset_2/test/inputs_test_3.pkl\", \"rb\" ) )\n",
    "\n",
    "coord_ind = np.arange(0,2)\n",
    "inputs_test_1 = inputs_test_1[:,:,coord_ind]\n",
    "inputs_test_2 = inputs_test_2[:,:,coord_ind]\n",
    "inputs_test_3 = inputs_test_3[:,:,coord_ind]\n",
    "\n",
    "inputs_test = np.concatenate((inputs_test_1,inputs_test_2,inputs_test_3),axis=1)\n",
    "in_test_coord = np.concatenate((in_test_coord_1,in_test_coord_2,in_test_coord_3),axis=1)\n",
    "gt_test_coord = np.concatenate((gt_test_coord_1,gt_test_coord_2,gt_test_coord_3),axis=1)\n",
    "inputs_test.shape"
   ]
  },
  {
   "cell_type": "markdown",
   "metadata": {},
   "source": [
    "##### Linear"
   ]
  },
  {
   "cell_type": "code",
   "execution_count": 4,
   "metadata": {},
   "outputs": [],
   "source": [
    "def linearpred(inputs):\n",
    "    output_coord = np.zeros((inputs.shape[0]+1,\n",
    "                             inputs.shape[1],inputs.shape[2]))\n",
    "    output_coord[0,:,:]=inputs[9,:,:]\n",
    "    for i in range(inputs.shape[1]):\n",
    "        if (inputs[9,i,0]-inputs[8,i,0])==0:\n",
    "            output_coord[1:,i,0] =inputs[9,i,0]*np.ones(10)\n",
    "            diff = inputs[9,i,1]-inputs[8,i,1]\n",
    "            output_coord[1:,i,0] = range(10)*diff+inputs[9,i,1]\n",
    "        else:\n",
    "            slope = (inputs[9,i,1]-inputs[8,i,1])/(inputs[9,i,0]-inputs[8,i,0])\n",
    "            ordor = inputs[9,i,1] - slope*inputs[9,i,0]\n",
    "            diff = inputs[9,i,0] - inputs[8,i,0]\n",
    "            output_coord[1:,i,0] = range(10)*diff+inputs[9,i,0]\n",
    "            output_coord[1:,i,1] = slope*output_coord[1:,i,0]+ordor\n",
    "    return output_coord"
   ]
  },
  {
   "cell_type": "code",
   "execution_count": 5,
   "metadata": {},
   "outputs": [
    {
     "name": "stdout",
     "output_type": "stream",
     "text": [
      "The final distance between the ground trought and the predicted coordinates is : 0.322\n",
      "The average error between the ground trought and the predicted coordinates is : 0.141\n"
     ]
    }
   ],
   "source": [
    "output_coord_1 = linearpred(inputs_test_1)\n",
    "dist = np.zeros(inputs_test_1.shape[1])\n",
    "for i in range(inputs_test_1.shape[1]):\n",
    "    dist[i] = np.sqrt(sum((gt_test_coord_1[10,i,:]-output_coord_1[10,i,:])**2))\n",
    "    \n",
    "final_coord_error = np.mean(dist)\n",
    "print('The final distance between the ground trought and the predicted coordinates is :',\n",
    "      final_coord_error.round(3))\n",
    "\n",
    "avr = np.zeros((inputs_test_1.shape[1],11))\n",
    "for i in range(inputs_test_1.shape[1]):\n",
    "    for j in range(11):\n",
    "        avr[i,j] = np.sqrt(sum((gt_test_coord_1[j,i,:]-output_coord_1[j,i,:])**2))\n",
    "\n",
    "average = np.mean(np.mean(avr,1))\n",
    "print('The average error between the ground trought and the predicted coordinates is :',\n",
    "      average.round(3))        "
   ]
  },
  {
   "cell_type": "code",
   "execution_count": 6,
   "metadata": {},
   "outputs": [
    {
     "name": "stdout",
     "output_type": "stream",
     "text": [
      "The final distance between the ground truth and the predicted coordinates is : 0.93\n",
      "The average error between the ground truth and the predicted coordinates is : 0.541\n"
     ]
    }
   ],
   "source": [
    "output_coord_2 = linearpred(inputs_test_2)\n",
    "\n",
    "dist = np.zeros(inputs_test_2.shape[1])\n",
    "for i in range(inputs_test_2.shape[1]):\n",
    "    dist[i] = np.sqrt(sum((gt_test_coord_2[10,i,:]-output_coord_2[10,i,:])**2))\n",
    "\n",
    "final_coord_error = np.mean(dist)\n",
    "print('The final distance between the ground truth and the predicted coordinates is :',final_coord_error.round(3))\n",
    "\n",
    "avr = np.zeros((inputs_test_2.shape[1],11))\n",
    "for i in range(inputs_test_2.shape[1]):\n",
    "    for j in range(11):\n",
    "        avr[i,j] = np.sqrt(sum((gt_test_coord_2[j,i,:]-output_coord_2[j,i,:])**2))\n",
    "\n",
    "average = np.mean(np.mean(avr,1))\n",
    "print('The average error between the ground truth and the predicted coordinates is :',average.round(3))"
   ]
  },
  {
   "cell_type": "code",
   "execution_count": 7,
   "metadata": {},
   "outputs": [
    {
     "name": "stdout",
     "output_type": "stream",
     "text": [
      "The final distance between the ground truth and the predicted coordinates is : 1.457\n",
      "The average error between the ground trought and the predicted coordinates is : 0.651\n"
     ]
    }
   ],
   "source": [
    "output_coord_3 = linearpred(inputs_test_3)      \n",
    "\n",
    "dist = np.zeros(inputs_test_3.shape[1])\n",
    "for i in range(inputs_test_3.shape[1]):\n",
    "    dist[i] = np.sqrt(sum((gt_test_coord_3[10,i,:]-output_coord_3[10,i,:])**2))\n",
    "\n",
    "final_coord_error = np.mean(dist)\n",
    "print('The final distance between the ground truth and the predicted coordinates is :',\n",
    "      final_coord_error.round(3))\n",
    "\n",
    "\n",
    "avr = np.zeros((inputs_test_3.shape[1],11))\n",
    "for i in range(inputs_test_3.shape[1]):\n",
    "    for j in range(11):\n",
    "        avr[i,j] = np.sqrt(sum((gt_test_coord_3[j,i,:]-output_coord_3[j,i,:])**2))\n",
    "\n",
    "average = np.mean(np.mean(avr,1))\n",
    "print('The average error between the ground trought and the predicted coordinates is :',\n",
    "      average.round(3))"
   ]
  },
  {
   "cell_type": "code",
   "execution_count": 8,
   "metadata": {},
   "outputs": [
    {
     "name": "stdout",
     "output_type": "stream",
     "text": [
      "The final distance between the ground truth and the predicted coordinates is : 0.982\n",
      "The average error between the ground trought and the predicted coordinates is : 0.512\n"
     ]
    }
   ],
   "source": [
    "output_coord = linearpred(inputs_test)\n",
    "\n",
    "dist = np.zeros(inputs_test.shape[1])\n",
    "for i in range(inputs_test.shape[1]):\n",
    "    dist[i] = np.sqrt(sum((gt_test_coord[10,i,:]-output_coord[10,i,:])**2))\n",
    "\n",
    "final_coord_error = np.mean(dist)\n",
    "print('The final distance between the ground truth and the predicted coordinates is :',\n",
    "      final_coord_error.round(3))\n",
    "\n",
    "\n",
    "avr = np.zeros((inputs_test.shape[1],11))\n",
    "for i in range(inputs_test.shape[1]):\n",
    "    for j in range(11):\n",
    "        avr[i,j] = np.sqrt(sum((gt_test_coord[j,i,:]-output_coord[j,i,:])**2))\n",
    "\n",
    "average = np.mean(np.mean(avr,1))\n",
    "print('The average error between the ground trought and the predicted coordinates is :',\n",
    "      average.round(3))"
   ]
  },
  {
   "cell_type": "code",
   "execution_count": null,
   "metadata": {},
   "outputs": [],
   "source": [
    "output_coord = np.zeros((inputs_test.shape[0]+1,inputs_test.shape[1],inputs_test.shape[2]))"
   ]
  },
  {
   "cell_type": "code",
   "execution_count": null,
   "metadata": {},
   "outputs": [],
   "source": [
    "output_coord.shape,inputs_test.shape"
   ]
  },
  {
   "cell_type": "code",
   "execution_count": null,
   "metadata": {},
   "outputs": [],
   "source": [
    "inputs_test_1.shape[1]"
   ]
  },
  {
   "cell_type": "code",
   "execution_count": null,
   "metadata": {},
   "outputs": [],
   "source": []
  }
 ],
 "metadata": {
  "kernelspec": {
   "display_name": "Python 3",
   "language": "python",
   "name": "python3"
  },
  "language_info": {
   "codemirror_mode": {
    "name": "ipython",
    "version": 3
   },
   "file_extension": ".py",
   "mimetype": "text/x-python",
   "name": "python",
   "nbconvert_exporter": "python",
   "pygments_lexer": "ipython3",
   "version": "3.6.4"
  }
 },
 "nbformat": 4,
 "nbformat_minor": 2
}
