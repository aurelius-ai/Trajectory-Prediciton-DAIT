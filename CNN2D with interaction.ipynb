{
 "cells": [
  {
   "cell_type": "code",
   "execution_count": 2,
   "metadata": {},
   "outputs": [
    {
     "data": {
      "text/plain": [
       "<torch._C.Generator at 0x11254a710>"
      ]
     },
     "execution_count": 2,
     "metadata": {},
     "output_type": "execute_result"
    }
   ],
   "source": [
    "import torch\n",
    "from torch import nn\n",
    "from torch.autograd import Variable\n",
    "import torchvision.datasets as dsets\n",
    "import torchvision.transforms as transforms\n",
    "import matplotlib.pyplot as plt\n",
    "from CNN2D import *\n",
    "import pandas as pd\n",
    "import numpy as np\n",
    "import torch.utils.data as utils\n",
    "import time\n",
    "import os\n",
    "import pickle\n",
    "\n",
    "import pdb\n",
    "\n",
    "# For the notebook\n",
    "%matplotlib inline\n",
    "%reload_ext autoreload\n",
    "%autoreload 2\n",
    "\n",
    "torch.manual_seed(1)"
   ]
  },
  {
   "cell_type": "markdown",
   "metadata": {},
   "source": [
    "## TRAIN SET"
   ]
  },
  {
   "cell_type": "code",
   "execution_count": 3,
   "metadata": {
    "scrolled": false
   },
   "outputs": [
    {
     "data": {
      "text/plain": [
       "(torch.Size([5157, 1, 10, 272]), torch.Size([5157, 1, 11, 4]))"
      ]
     },
     "execution_count": 3,
     "metadata": {},
     "output_type": "execute_result"
    }
   ],
   "source": [
    "gt_train_coord = pickle.load( open( \"./import_dataset/train/gt_train_coord.pkl\", \"rb\" ) )\n",
    "gt_train  = pickle.load( open( \"./import_dataset/train/gt_train.pkl\", \"rb\" ) )\n",
    "in_train_coord  = pickle.load( open( \"./import_dataset/train/in_train_coord.pkl\", \"rb\" ) )\n",
    "inputs_train = pickle.load( open( \"./import_dataset/train/inputs_train.pkl\", \"rb\" ) )\n",
    "\n",
    "inputs_train = torch.from_numpy(inputs_train).float()\n",
    "gt_train = torch.from_numpy(gt_train).float()\n",
    "\n",
    "gt_train = gt_train.unsqueeze(1) # add 1 dimension to the training set\n",
    "inputs_train = inputs_train.unsqueeze(1) # add 1 dimension to the training set\n",
    "\n",
    "inputs_train.shape,gt_train.shape"
   ]
  },
  {
   "cell_type": "markdown",
   "metadata": {},
   "source": [
    "## VALIDATION SET"
   ]
  },
  {
   "cell_type": "code",
   "execution_count": 4,
   "metadata": {},
   "outputs": [
    {
     "data": {
      "text/plain": [
       "((11, 1719, 2),\n",
       " torch.Size([1719, 1, 11, 4]),\n",
       " (10, 1719, 2),\n",
       " torch.Size([1719, 1, 10, 272]))"
      ]
     },
     "execution_count": 4,
     "metadata": {},
     "output_type": "execute_result"
    }
   ],
   "source": [
    "gt_validation_coord = pickle.load( open( \"./import_dataset/validation/gt_validation_coord.pkl\", \"rb\" ) )\n",
    "gt_validation = pickle.load( open( \"./import_dataset/validation/gt_validation.pkl\", \"rb\" ) )\n",
    "in_validation_coord = pickle.load( open( \"./import_dataset/validation/in_validation_coord.pkl\", \"rb\" ) )\n",
    "inputs_validation = pickle.load( open( \"./import_dataset/validation/inputs_validation.pkl\", \"rb\" ) )\n",
    "\n",
    "inputs_validation = torch.from_numpy(inputs_validation).float()\n",
    "gt_validation = torch.from_numpy(gt_validation).float()\n",
    "\n",
    "gt_validation = gt_validation.unsqueeze(1) # add 1 dimension to the training set\n",
    "inputs_validation = inputs_validation.unsqueeze(1) # add 1 dimension to the training set\n",
    "\n",
    "gt_validation_coord.shape,gt_validation.shape,in_validation_coord.shape,inputs_validation.shape"
   ]
  },
  {
   "cell_type": "markdown",
   "metadata": {},
   "source": [
    "## TEST SET"
   ]
  },
  {
   "cell_type": "code",
   "execution_count": 5,
   "metadata": {
    "collapsed": true
   },
   "outputs": [],
   "source": [
    "gt_test_coord_1 = pickle.load( open( \"./import_dataset/test/gt_test_coord_1.pkl\", \"rb\" ) )\n",
    "gt_test_1 = pickle.load( open( \"./import_dataset/test/gt_test_1.pkl\", \"rb\" ) )\n",
    "in_test_coord_1 = pickle.load( open( \"./import_dataset/test/in_test_coord_1.pkl\", \"rb\" ) )\n",
    "inputs_test_1 = pickle.load( open( \"./import_dataset/test/inputs_test_1.pkl\", \"rb\" ) )\n",
    "\n",
    "gt_test_coord_2 = pickle.load( open( \"./import_dataset/test/gt_test_coord_2.pkl\", \"rb\" ) )\n",
    "gt_test_2 = pickle.load( open( \"./import_dataset/test/gt_test_2.pkl\", \"rb\" ) )\n",
    "in_test_coord_2 = pickle.load( open( \"./import_dataset/test/in_test_coord_2.pkl\", \"rb\" ) )\n",
    "inputs_test_2 = pickle.load( open( \"./import_dataset/test/inputs_test_2.pkl\", \"rb\" ) )\n",
    "\n",
    "gt_test_coord_3 = pickle.load( open( \"./import_dataset/test/gt_test_coord_3.pkl\", \"rb\" ) )\n",
    "gt_test_3 = pickle.load( open( \"./import_dataset/test/gt_test_3.pkl\", \"rb\" ) )\n",
    "in_test_coord_3 = pickle.load( open( \"./import_dataset/test/in_test_coord_3.pkl\", \"rb\" ) )\n",
    "inputs_test_3 = pickle.load( open( \"./import_dataset/test/inputs_test_3.pkl\", \"rb\" ) )\n",
    "\n",
    "inputs_test_1 = torch.from_numpy(inputs_test_1).float()\n",
    "gt_test_1 = torch.from_numpy(gt_test_1).float()\n",
    "inputs_test_1 = inputs_test_1.unsqueeze(1) \n",
    "\n",
    "inputs_test_2 = torch.from_numpy(inputs_test_2).float()\n",
    "gt_test_2 = torch.from_numpy(gt_test_2).float()\n",
    "inputs_test_2 = inputs_test_2.unsqueeze(1)\n",
    "\n",
    "inputs_test_3 = torch.from_numpy(inputs_test_3).float()\n",
    "gt_test_3 = torch.from_numpy(gt_test_3).float()\n",
    "inputs_test_3 = inputs_test_3.unsqueeze(1)"
   ]
  },
  {
   "cell_type": "markdown",
   "metadata": {},
   "source": [
    "### Model"
   ]
  },
  {
   "cell_type": "code",
   "execution_count": 119,
   "metadata": {
    "collapsed": true
   },
   "outputs": [],
   "source": [
    "net = CNN2D()\n",
    "criterion = torch.nn.MSELoss()\n",
    "optimizer = torch.optim.Adam(net.parameters(), lr=0.0001, weight_decay=1e-4)\n",
    "\n",
    "traindataset = utils.TensorDataset(inputs_train, gt_train[:,:,1:,:])\n",
    "trainloader = utils.DataLoader(traindataset, batch_size=16, shuffle=True)\n",
    "\n",
    "valdataset = utils.TensorDataset(inputs_validation, gt_validation[:,:,1:,:])\n",
    "valloader = utils.DataLoader(valdataset, batch_size=16, shuffle=True)"
   ]
  },
  {
   "cell_type": "code",
   "execution_count": 120,
   "metadata": {
    "scrolled": true
   },
   "outputs": [
    {
     "name": "stdout",
     "output_type": "stream",
     "text": [
      "torch.Size([16, 10, 4])\n"
     ]
    },
    {
     "name": "stderr",
     "output_type": "stream",
     "text": [
      "/Users/4romain/anaconda3/lib/python3.6/site-packages/ipykernel_launcher.py:66: UserWarning: invalid index of a 0-dim tensor. This will be an error in PyTorch 0.5. Use tensor.item() to convert a 0-dim tensor to a Python number\n"
     ]
    },
    {
     "name": "stdout",
     "output_type": "stream",
     "text": [
      "Epoch: 1/50.. Validation Loss: 0.0406.. Training Loss: 0.0722.. 0.0001 s/batch \n",
      "torch.Size([16, 10, 4])\n",
      "Epoch: 1/50.. Validation Loss: 0.0549.. Training Loss: 0.0684.. 0.0001 s/batch \n",
      "torch.Size([16, 10, 4])\n",
      "Epoch: 1/50.. Validation Loss: 0.0481.. Training Loss: 0.0929.. 0.0001 s/batch \n",
      "torch.Size([16, 10, 4])\n",
      "Epoch: 1/50.. Validation Loss: 0.0473.. Training Loss: 0.0431.. 0.0001 s/batch \n",
      "torch.Size([16, 10, 4])\n",
      "Epoch: 1/50.. Validation Loss: 0.0767.. Training Loss: 0.0547.. 0.0001 s/batch \n",
      "torch.Size([16, 10, 4])\n",
      "Epoch: 1/50.. Validation Loss: 0.0346.. Training Loss: 0.0487.. 0.0001 s/batch \n",
      "torch.Size([16, 10, 4])\n",
      "Epoch: 1/50.. Validation Loss: 0.0221.. Training Loss: 0.0484.. 0.0001 s/batch \n",
      "torch.Size([16, 10, 4])\n",
      "Epoch: 1/50.. Validation Loss: 0.0357.. Training Loss: 0.0447.. 0.0001 s/batch \n",
      "torch.Size([16, 10, 4])\n",
      "Epoch: 1/50.. Validation Loss: 0.0419.. Training Loss: 0.0723.. 0.0001 s/batch \n",
      "torch.Size([16, 10, 4])\n",
      "Epoch: 1/50.. Validation Loss: 0.0464.. Training Loss: 0.0438.. 0.0001 s/batch \n",
      "torch.Size([16, 10, 4])\n",
      "Epoch: 1/50.. Validation Loss: 0.0354.. Training Loss: 0.0463.. 0.0001 s/batch \n",
      "torch.Size([16, 10, 4])\n",
      "Epoch: 1/50.. Validation Loss: 0.0359.. Training Loss: 0.0546.. 0.0001 s/batch \n",
      "torch.Size([16, 10, 4])\n",
      "Epoch: 1/50.. Validation Loss: 0.0624.. Training Loss: 0.0564.. 0.0001 s/batch \n",
      "torch.Size([16, 10, 4])\n",
      "Epoch: 1/50.. Validation Loss: 0.0226.. Training Loss: 0.0896.. 0.0001 s/batch \n",
      "torch.Size([16, 10, 4])\n",
      "Epoch: 1/50.. Validation Loss: 0.0252.. Training Loss: 0.0638.. 0.0001 s/batch \n",
      "torch.Size([16, 10, 4])\n",
      "Epoch: 1/50.. Validation Loss: 0.0244.. Training Loss: 0.0302.. 0.0001 s/batch \n",
      "torch.Size([16, 10, 4])\n",
      "Epoch: 1/50.. Validation Loss: 0.0474.. Training Loss: 0.0385.. 0.0001 s/batch \n",
      "torch.Size([16, 10, 4])\n",
      "Epoch: 1/50.. Validation Loss: 0.0468.. Training Loss: 0.0296.. 0.0001 s/batch \n",
      "torch.Size([16, 10, 4])\n",
      "Epoch: 1/50.. Validation Loss: 0.0426.. Training Loss: 0.0736.. 0.0001 s/batch \n",
      "torch.Size([16, 10, 4])\n",
      "Epoch: 1/50.. Validation Loss: 0.0526.. Training Loss: 0.0771.. 0.0001 s/batch \n",
      "torch.Size([16, 10, 4])\n",
      "Epoch: 1/50.. Validation Loss: 0.0369.. Training Loss: 0.0418.. 0.0001 s/batch \n",
      "torch.Size([16, 10, 4])\n",
      "Epoch: 1/50.. Validation Loss: 0.0302.. Training Loss: 0.0573.. 0.0001 s/batch \n",
      "torch.Size([16, 10, 4])\n",
      "Epoch: 1/50.. Validation Loss: 0.0284.. Training Loss: 0.0407.. 0.0001 s/batch \n",
      "torch.Size([16, 10, 4])\n",
      "Epoch: 1/50.. Validation Loss: 0.0697.. Training Loss: 0.0322.. 0.0001 s/batch \n",
      "torch.Size([16, 10, 4])\n",
      "Epoch: 1/50.. Validation Loss: 0.0633.. Training Loss: 0.0414.. 0.0001 s/batch \n",
      "torch.Size([16, 10, 4])\n",
      "Epoch: 1/50.. Validation Loss: 0.0693.. Training Loss: 0.0343.. 0.0001 s/batch \n",
      "torch.Size([16, 10, 4])\n",
      "Epoch: 1/50.. Validation Loss: 0.0169.. Training Loss: 0.0648.. 0.0001 s/batch \n",
      "torch.Size([16, 10, 4])\n",
      "Epoch: 1/50.. Validation Loss: 0.0427.. Training Loss: 0.0296.. 0.0001 s/batch \n",
      "torch.Size([16, 10, 4])\n",
      "Epoch: 1/50.. Validation Loss: 0.0546.. Training Loss: 0.0396.. 0.0001 s/batch \n",
      "torch.Size([16, 10, 4])\n",
      "Epoch: 1/50.. Validation Loss: 0.0250.. Training Loss: 0.0557.. 0.0001 s/batch \n",
      "torch.Size([16, 10, 4])\n",
      "Epoch: 1/50.. Validation Loss: 0.0548.. Training Loss: 0.0611.. 0.0001 s/batch \n",
      "torch.Size([16, 10, 4])\n",
      "Epoch: 1/50.. Validation Loss: 0.0367.. Training Loss: 0.0476.. 0.0001 s/batch \n",
      "torch.Size([16, 10, 4])\n",
      "Epoch: 1/50.. Validation Loss: 0.0154.. Training Loss: 0.0365.. 0.0001 s/batch \n",
      "torch.Size([16, 10, 4])\n",
      "Epoch: 1/50.. Validation Loss: 0.0235.. Training Loss: 0.0191.. 0.0001 s/batch \n",
      "torch.Size([16, 10, 4])\n",
      "Epoch: 1/50.. Validation Loss: 0.0287.. Training Loss: 0.0360.. 0.0001 s/batch \n",
      "torch.Size([16, 10, 4])\n",
      "Epoch: 1/50.. Validation Loss: 0.0741.. Training Loss: 0.0289.. 0.0001 s/batch \n",
      "torch.Size([16, 10, 4])\n",
      "Epoch: 1/50.. Validation Loss: 0.0154.. Training Loss: 0.0306.. 0.0001 s/batch \n",
      "torch.Size([16, 10, 4])\n",
      "Epoch: 1/50.. Validation Loss: 0.0157.. Training Loss: 0.0354.. 0.0001 s/batch \n",
      "torch.Size([16, 10, 4])\n",
      "Epoch: 1/50.. Validation Loss: 0.0188.. Training Loss: 0.0363.. 0.0001 s/batch \n",
      "torch.Size([16, 10, 4])\n",
      "Epoch: 1/50.. Validation Loss: 0.0298.. Training Loss: 0.0422.. 0.0001 s/batch \n",
      "torch.Size([16, 10, 4])\n",
      "Epoch: 1/50.. Validation Loss: 0.0444.. Training Loss: 0.0263.. 0.0001 s/batch \n",
      "torch.Size([16, 10, 4])\n",
      "Epoch: 1/50.. Validation Loss: 0.0286.. Training Loss: 0.0606.. 0.0001 s/batch \n",
      "torch.Size([16, 10, 4])\n",
      "Epoch: 1/50.. Validation Loss: 0.0432.. Training Loss: 0.0242.. 0.0001 s/batch \n",
      "torch.Size([16, 10, 4])\n",
      "Epoch: 1/50.. Validation Loss: 0.0338.. Training Loss: 0.0515.. 0.0001 s/batch \n",
      "torch.Size([16, 10, 4])\n",
      "Epoch: 1/50.. Validation Loss: 0.0463.. Training Loss: 0.0405.. 0.0001 s/batch \n",
      "torch.Size([16, 10, 4])\n",
      "Epoch: 1/50.. Validation Loss: 0.0211.. Training Loss: 0.0335.. 0.0001 s/batch \n",
      "torch.Size([16, 10, 4])\n",
      "Epoch: 1/50.. Validation Loss: 0.0216.. Training Loss: 0.0231.. 0.0001 s/batch \n",
      "torch.Size([16, 10, 4])\n",
      "Epoch: 1/50.. Validation Loss: 0.0422.. Training Loss: 0.0462.. 0.0001 s/batch \n",
      "torch.Size([16, 10, 4])\n",
      "Epoch: 1/50.. Validation Loss: 0.0546.. Training Loss: 0.0343.. 0.0001 s/batch \n",
      "torch.Size([16, 10, 4])\n",
      "Epoch: 1/50.. Validation Loss: 0.0393.. Training Loss: 0.0233.. 0.0001 s/batch \n",
      "torch.Size([16, 10, 4])\n",
      "Epoch: 1/50.. Validation Loss: 0.0145.. Training Loss: 0.0289.. 0.0001 s/batch \n",
      "torch.Size([16, 10, 4])\n",
      "Epoch: 1/50.. Validation Loss: 0.0254.. Training Loss: 0.0152.. 0.0001 s/batch \n",
      "torch.Size([16, 10, 4])\n",
      "Epoch: 1/50.. Validation Loss: 0.0395.. Training Loss: 0.0310.. 0.0001 s/batch \n",
      "torch.Size([16, 10, 4])\n",
      "Epoch: 1/50.. Validation Loss: 0.0158.. Training Loss: 0.0225.. 0.0001 s/batch \n",
      "torch.Size([16, 10, 4])\n",
      "Epoch: 1/50.. Validation Loss: 0.0391.. Training Loss: 0.0244.. 0.0001 s/batch \n",
      "torch.Size([16, 10, 4])\n",
      "Epoch: 1/50.. Validation Loss: 0.0216.. Training Loss: 0.0378.. 0.0001 s/batch \n",
      "torch.Size([16, 10, 4])\n",
      "Epoch: 1/50.. Validation Loss: 0.0358.. Training Loss: 0.0419.. 0.0001 s/batch \n",
      "torch.Size([16, 10, 4])\n",
      "Epoch: 1/50.. Validation Loss: 0.0263.. Training Loss: 0.0151.. 0.0001 s/batch \n",
      "torch.Size([16, 10, 4])\n",
      "Epoch: 1/50.. Validation Loss: 0.0166.. Training Loss: 0.0153.. 0.0001 s/batch \n",
      "torch.Size([16, 10, 4])\n",
      "Epoch: 1/50.. Validation Loss: 0.0341.. Training Loss: 0.0196.. 0.0001 s/batch \n",
      "torch.Size([16, 10, 4])\n",
      "Epoch: 1/50.. Validation Loss: 0.0166.. Training Loss: 0.0436.. 0.0001 s/batch \n",
      "torch.Size([16, 10, 4])\n",
      "Epoch: 1/50.. Validation Loss: 0.0106.. Training Loss: 0.0251.. 0.0001 s/batch \n",
      "torch.Size([16, 10, 4])\n",
      "Epoch: 1/50.. Validation Loss: 0.0283.. Training Loss: 0.0267.. 0.0001 s/batch \n",
      "torch.Size([16, 10, 4])\n",
      "Epoch: 1/50.. Validation Loss: 0.0177.. Training Loss: 0.0329.. 0.0001 s/batch \n",
      "torch.Size([16, 10, 4])\n",
      "Epoch: 1/50.. Validation Loss: 0.0275.. Training Loss: 0.0288.. 0.0001 s/batch \n",
      "torch.Size([16, 10, 4])\n",
      "Epoch: 1/50.. Validation Loss: 0.0176.. Training Loss: 0.0433.. 0.0001 s/batch \n",
      "torch.Size([16, 10, 4])\n",
      "Epoch: 1/50.. Validation Loss: 0.0157.. Training Loss: 0.0221.. 0.0001 s/batch \n",
      "torch.Size([16, 10, 4])\n",
      "Epoch: 1/50.. Validation Loss: 0.0230.. Training Loss: 0.0326.. 0.0001 s/batch \n",
      "torch.Size([16, 10, 4])\n",
      "Epoch: 1/50.. Validation Loss: 0.0201.. Training Loss: 0.0180.. 0.0001 s/batch \n",
      "torch.Size([16, 10, 4])\n",
      "Epoch: 1/50.. Validation Loss: 0.0137.. Training Loss: 0.0182.. 0.0001 s/batch \n",
      "torch.Size([16, 10, 4])\n",
      "Epoch: 1/50.. Validation Loss: 0.0410.. Training Loss: 0.0413.. 0.0001 s/batch \n",
      "torch.Size([16, 10, 4])\n",
      "Epoch: 1/50.. Validation Loss: 0.0317.. Training Loss: 0.0234.. 0.0001 s/batch \n",
      "torch.Size([16, 10, 4])\n",
      "Epoch: 1/50.. Validation Loss: 0.0159.. Training Loss: 0.0267.. 0.0001 s/batch \n",
      "torch.Size([16, 10, 4])\n",
      "Epoch: 1/50.. Validation Loss: 0.0089.. Training Loss: 0.0224.. 0.0001 s/batch \n",
      "torch.Size([16, 10, 4])\n",
      "Epoch: 1/50.. Validation Loss: 0.0102.. Training Loss: 0.0166.. 0.0001 s/batch \n",
      "torch.Size([16, 10, 4])\n",
      "Epoch: 1/50.. Validation Loss: 0.0155.. Training Loss: 0.0363.. 0.0000 s/batch \n",
      "torch.Size([16, 10, 4])\n",
      "Epoch: 1/50.. Validation Loss: 0.0159.. Training Loss: 0.0279.. 0.0001 s/batch \n",
      "torch.Size([16, 10, 4])\n",
      "Epoch: 1/50.. Validation Loss: 0.0420.. Training Loss: 0.0209.. 0.0001 s/batch \n",
      "torch.Size([16, 10, 4])\n",
      "Epoch: 1/50.. Validation Loss: 0.0115.. Training Loss: 0.0253.. 0.0001 s/batch \n",
      "torch.Size([16, 10, 4])\n"
     ]
    },
    {
     "name": "stdout",
     "output_type": "stream",
     "text": [
      "Epoch: 1/50.. Validation Loss: 0.0068.. Training Loss: 0.0217.. 0.0001 s/batch \n",
      "torch.Size([16, 10, 4])\n",
      "Epoch: 1/50.. Validation Loss: 0.0490.. Training Loss: 0.0321.. 0.0001 s/batch \n",
      "torch.Size([16, 10, 4])\n",
      "Epoch: 1/50.. Validation Loss: 0.0294.. Training Loss: 0.0344.. 0.0001 s/batch \n",
      "torch.Size([16, 10, 4])\n",
      "Epoch: 1/50.. Validation Loss: 0.0222.. Training Loss: 0.0333.. 0.0001 s/batch \n",
      "torch.Size([16, 10, 4])\n",
      "Epoch: 1/50.. Validation Loss: 0.0176.. Training Loss: 0.0192.. 0.0001 s/batch \n",
      "torch.Size([16, 10, 4])\n",
      "Epoch: 1/50.. Validation Loss: 0.0199.. Training Loss: 0.0191.. 0.0001 s/batch \n",
      "torch.Size([16, 10, 4])\n",
      "Epoch: 1/50.. Validation Loss: 0.0357.. Training Loss: 0.0195.. 0.0001 s/batch \n",
      "torch.Size([16, 10, 4])\n",
      "Epoch: 1/50.. Validation Loss: 0.0087.. Training Loss: 0.0124.. 0.0001 s/batch \n",
      "torch.Size([16, 10, 4])\n",
      "Epoch: 1/50.. Validation Loss: 0.0154.. Training Loss: 0.0078.. 0.0001 s/batch \n",
      "torch.Size([16, 10, 4])\n",
      "Epoch: 1/50.. Validation Loss: 0.0061.. Training Loss: 0.0273.. 0.0001 s/batch \n",
      "torch.Size([16, 10, 4])\n",
      "Epoch: 1/50.. Validation Loss: 0.0060.. Training Loss: 0.0153.. 0.0001 s/batch \n",
      "torch.Size([16, 10, 4])\n",
      "Epoch: 1/50.. Validation Loss: 0.0171.. Training Loss: 0.0183.. 0.0001 s/batch \n",
      "torch.Size([16, 10, 4])\n",
      "Epoch: 1/50.. Validation Loss: 0.0163.. Training Loss: 0.0168.. 0.0001 s/batch \n",
      "torch.Size([16, 10, 4])\n",
      "Epoch: 1/50.. Validation Loss: 0.0151.. Training Loss: 0.0152.. 0.0001 s/batch \n",
      "torch.Size([16, 10, 4])\n",
      "Epoch: 1/50.. Validation Loss: 0.0101.. Training Loss: 0.0181.. 0.0001 s/batch \n",
      "torch.Size([16, 10, 4])\n",
      "Epoch: 1/50.. Validation Loss: 0.0198.. Training Loss: 0.0256.. 0.0001 s/batch \n",
      "torch.Size([16, 10, 4])\n",
      "Epoch: 1/50.. Validation Loss: 0.0279.. Training Loss: 0.0264.. 0.0001 s/batch \n",
      "torch.Size([16, 10, 4])\n",
      "Epoch: 1/50.. Validation Loss: 0.0174.. Training Loss: 0.0091.. 0.0001 s/batch \n",
      "torch.Size([16, 10, 4])\n",
      "Epoch: 1/50.. Validation Loss: 0.0330.. Training Loss: 0.0165.. 0.0001 s/batch \n",
      "torch.Size([16, 10, 4])\n",
      "Epoch: 1/50.. Validation Loss: 0.0259.. Training Loss: 0.0153.. 0.0001 s/batch \n",
      "torch.Size([16, 10, 4])\n",
      "Epoch: 1/50.. Validation Loss: 0.0262.. Training Loss: 0.0113.. 0.0001 s/batch \n",
      "torch.Size([16, 10, 4])\n",
      "Epoch: 1/50.. Validation Loss: 0.0158.. Training Loss: 0.0324.. 0.0001 s/batch \n",
      "torch.Size([16, 10, 4])\n",
      "Epoch: 1/50.. Validation Loss: 0.0094.. Training Loss: 0.0231.. 0.0000 s/batch \n",
      "torch.Size([16, 10, 4])\n",
      "Epoch: 1/50.. Validation Loss: 0.0311.. Training Loss: 0.0226.. 0.0001 s/batch \n",
      "torch.Size([16, 10, 4])\n",
      "Epoch: 1/50.. Validation Loss: 0.0073.. Training Loss: 0.0225.. 0.0001 s/batch \n",
      "torch.Size([16, 10, 4])\n",
      "Epoch: 1/50.. Validation Loss: 0.0377.. Training Loss: 0.0227.. 0.0001 s/batch \n",
      "torch.Size([16, 10, 4])\n",
      "Epoch: 1/50.. Validation Loss: 0.0187.. Training Loss: 0.0300.. 0.0001 s/batch \n",
      "torch.Size([16, 10, 4])\n",
      "Epoch: 1/50.. Validation Loss: 0.0445.. Training Loss: 0.0291.. 0.0001 s/batch \n",
      "torch.Size([16, 10, 4])\n",
      "Epoch: 1/50.. Validation Loss: 0.0045.. Training Loss: 0.0218.. 0.0001 s/batch \n",
      "torch.Size([16, 10, 4])\n",
      "Epoch: 1/50.. Validation Loss: 0.0105.. Training Loss: 0.0275.. 0.0001 s/batch \n",
      "torch.Size([16, 10, 4])\n",
      "Epoch: 1/50.. Validation Loss: 0.0052.. Training Loss: 0.0240.. 0.0001 s/batch \n",
      "torch.Size([16, 10, 4])\n",
      "Epoch: 1/50.. Validation Loss: 0.0111.. Training Loss: 0.0359.. 0.0001 s/batch \n",
      "torch.Size([16, 10, 4])\n",
      "Epoch: 1/50.. Validation Loss: 0.0296.. Training Loss: 0.0132.. 0.0001 s/batch \n",
      "torch.Size([16, 10, 4])\n",
      "Epoch: 1/50.. Validation Loss: 0.0085.. Training Loss: 0.0227.. 0.0001 s/batch \n",
      "torch.Size([16, 10, 4])\n",
      "Epoch: 1/50.. Validation Loss: 0.0171.. Training Loss: 0.0196.. 0.0000 s/batch \n",
      "torch.Size([16, 10, 4])\n",
      "Epoch: 1/50.. Validation Loss: 0.0105.. Training Loss: 0.0308.. 0.0001 s/batch \n",
      "torch.Size([16, 10, 4])\n",
      "Epoch: 1/50.. Validation Loss: 0.0077.. Training Loss: 0.0195.. 0.0001 s/batch \n",
      "torch.Size([16, 10, 4])\n",
      "Epoch: 1/50.. Validation Loss: 0.0053.. Training Loss: 0.0281.. 0.0001 s/batch \n",
      "torch.Size([16, 10, 4])\n",
      "Epoch: 1/50.. Validation Loss: 0.0143.. Training Loss: 0.0211.. 0.0001 s/batch \n",
      "torch.Size([16, 10, 4])\n",
      "Epoch: 1/50.. Validation Loss: 0.0145.. Training Loss: 0.0235.. 0.0001 s/batch \n",
      "torch.Size([16, 10, 4])\n",
      "Epoch: 1/50.. Validation Loss: 0.0325.. Training Loss: 0.0248.. 0.0001 s/batch \n",
      "torch.Size([16, 10, 4])\n",
      "Epoch: 1/50.. Validation Loss: 0.0307.. Training Loss: 0.0138.. 0.0001 s/batch \n",
      "torch.Size([16, 10, 4])\n",
      "Epoch: 1/50.. Validation Loss: 0.0207.. Training Loss: 0.0296.. 0.0001 s/batch \n",
      "torch.Size([16, 10, 4])\n",
      "Epoch: 1/50.. Validation Loss: 0.0158.. Training Loss: 0.0390.. 0.0000 s/batch \n",
      "torch.Size([16, 10, 4])\n",
      "Epoch: 1/50.. Validation Loss: 0.0064.. Training Loss: 0.0200.. 0.0001 s/batch \n",
      "torch.Size([16, 10, 4])\n",
      "Epoch: 1/50.. Validation Loss: 0.0109.. Training Loss: 0.0163.. 0.0001 s/batch \n",
      "torch.Size([16, 10, 4])\n",
      "Epoch: 1/50.. Validation Loss: 0.0217.. Training Loss: 0.0149.. 0.0001 s/batch \n",
      "torch.Size([16, 10, 4])\n",
      "Epoch: 1/50.. Validation Loss: 0.0330.. Training Loss: 0.0123.. 0.0001 s/batch \n",
      "torch.Size([16, 10, 4])\n",
      "Epoch: 1/50.. Validation Loss: 0.0180.. Training Loss: 0.0161.. 0.0001 s/batch \n",
      "torch.Size([16, 10, 4])\n",
      "Epoch: 1/50.. Validation Loss: 0.0116.. Training Loss: 0.0128.. 0.0001 s/batch \n",
      "torch.Size([16, 10, 4])\n",
      "Epoch: 1/50.. Validation Loss: 0.0174.. Training Loss: 0.0300.. 0.0001 s/batch \n",
      "torch.Size([16, 10, 4])\n",
      "Epoch: 1/50.. Validation Loss: 0.0204.. Training Loss: 0.0142.. 0.0001 s/batch \n",
      "torch.Size([16, 10, 4])\n",
      "Epoch: 1/50.. Validation Loss: 0.0256.. Training Loss: 0.0201.. 0.0001 s/batch \n",
      "torch.Size([16, 10, 4])\n",
      "Epoch: 1/50.. Validation Loss: 0.0085.. Training Loss: 0.0197.. 0.0001 s/batch \n",
      "torch.Size([16, 10, 4])\n",
      "Epoch: 1/50.. Validation Loss: 0.0195.. Training Loss: 0.0217.. 0.0001 s/batch \n",
      "torch.Size([16, 10, 4])\n",
      "Epoch: 1/50.. Validation Loss: 0.0075.. Training Loss: 0.0153.. 0.0001 s/batch \n",
      "torch.Size([16, 10, 4])\n",
      "Epoch: 1/50.. Validation Loss: 0.0194.. Training Loss: 0.0241.. 0.0001 s/batch \n",
      "torch.Size([16, 10, 4])\n",
      "Epoch: 1/50.. Validation Loss: 0.0361.. Training Loss: 0.0346.. 0.0001 s/batch \n",
      "torch.Size([16, 10, 4])\n",
      "Epoch: 1/50.. Validation Loss: 0.0115.. Training Loss: 0.0203.. 0.0001 s/batch \n",
      "torch.Size([16, 10, 4])\n",
      "Epoch: 1/50.. Validation Loss: 0.0328.. Training Loss: 0.0123.. 0.0001 s/batch \n",
      "torch.Size([16, 10, 4])\n",
      "Epoch: 1/50.. Validation Loss: 0.0328.. Training Loss: 0.0248.. 0.0001 s/batch \n",
      "torch.Size([16, 10, 4])\n",
      "Epoch: 1/50.. Validation Loss: 0.0202.. Training Loss: 0.0154.. 0.0001 s/batch \n",
      "torch.Size([16, 10, 4])\n",
      "Epoch: 1/50.. Validation Loss: 0.0159.. Training Loss: 0.0175.. 0.0001 s/batch \n",
      "torch.Size([16, 10, 4])\n",
      "Epoch: 1/50.. Validation Loss: 0.0130.. Training Loss: 0.0214.. 0.0001 s/batch \n",
      "torch.Size([16, 10, 4])\n",
      "Epoch: 1/50.. Validation Loss: 0.0561.. Training Loss: 0.0313.. 0.0001 s/batch \n",
      "torch.Size([16, 10, 4])\n",
      "Epoch: 1/50.. Validation Loss: 0.0209.. Training Loss: 0.0216.. 0.0001 s/batch \n",
      "torch.Size([16, 10, 4])\n",
      "Epoch: 1/50.. Validation Loss: 0.0165.. Training Loss: 0.0187.. 0.0001 s/batch \n",
      "torch.Size([16, 10, 4])\n",
      "Epoch: 1/50.. Validation Loss: 0.0085.. Training Loss: 0.0191.. 0.0001 s/batch \n",
      "torch.Size([16, 10, 4])\n",
      "Epoch: 1/50.. Validation Loss: 0.0098.. Training Loss: 0.0145.. 0.0001 s/batch \n",
      "torch.Size([16, 10, 4])\n",
      "Epoch: 1/50.. Validation Loss: 0.0324.. Training Loss: 0.0236.. 0.0001 s/batch \n",
      "torch.Size([16, 10, 4])\n",
      "Epoch: 1/50.. Validation Loss: 0.0092.. Training Loss: 0.0235.. 0.0001 s/batch \n",
      "torch.Size([16, 10, 4])\n",
      "Epoch: 1/50.. Validation Loss: 0.0201.. Training Loss: 0.0217.. 0.0001 s/batch \n",
      "torch.Size([16, 10, 4])\n",
      "Epoch: 1/50.. Validation Loss: 0.0034.. Training Loss: 0.0126.. 0.0001 s/batch \n",
      "torch.Size([16, 10, 4])\n",
      "Epoch: 1/50.. Validation Loss: 0.0138.. Training Loss: 0.0301.. 0.0001 s/batch \n",
      "torch.Size([16, 10, 4])\n",
      "Epoch: 1/50.. Validation Loss: 0.0183.. Training Loss: 0.0253.. 0.0001 s/batch \n",
      "torch.Size([16, 10, 4])\n",
      "Epoch: 1/50.. Validation Loss: 0.0111.. Training Loss: 0.0194.. 0.0001 s/batch \n",
      "torch.Size([16, 10, 4])\n",
      "Epoch: 1/50.. Validation Loss: 0.0093.. Training Loss: 0.0133.. 0.0001 s/batch \n",
      "torch.Size([16, 10, 4])\n",
      "Epoch: 1/50.. Validation Loss: 0.0445.. Training Loss: 0.0255.. 0.0001 s/batch \n",
      "torch.Size([16, 10, 4])\n",
      "Epoch: 1/50.. Validation Loss: 0.0102.. Training Loss: 0.0156.. 0.0001 s/batch \n",
      "torch.Size([16, 10, 4])\n"
     ]
    },
    {
     "name": "stdout",
     "output_type": "stream",
     "text": [
      "Epoch: 1/50.. Validation Loss: 0.0123.. Training Loss: 0.0238.. 0.0001 s/batch \n",
      "torch.Size([16, 10, 4])\n",
      "Epoch: 1/50.. Validation Loss: 0.0251.. Training Loss: 0.0129.. 0.0001 s/batch \n",
      "torch.Size([16, 10, 4])\n",
      "Epoch: 1/50.. Validation Loss: 0.0057.. Training Loss: 0.0120.. 0.0001 s/batch \n",
      "torch.Size([16, 10, 4])\n",
      "Epoch: 1/50.. Validation Loss: 0.0118.. Training Loss: 0.0223.. 0.0001 s/batch \n",
      "torch.Size([16, 10, 4])\n",
      "Epoch: 1/50.. Validation Loss: 0.0176.. Training Loss: 0.0107.. 0.0001 s/batch \n",
      "torch.Size([16, 10, 4])\n",
      "Epoch: 1/50.. Validation Loss: 0.0083.. Training Loss: 0.0177.. 0.0001 s/batch \n",
      "torch.Size([16, 10, 4])\n",
      "Epoch: 1/50.. Validation Loss: 0.0130.. Training Loss: 0.0153.. 0.0001 s/batch \n",
      "torch.Size([16, 10, 4])\n",
      "Epoch: 1/50.. Validation Loss: 0.0123.. Training Loss: 0.0099.. 0.0001 s/batch \n",
      "torch.Size([16, 10, 4])\n",
      "Epoch: 1/50.. Validation Loss: 0.0115.. Training Loss: 0.0116.. 0.0001 s/batch \n",
      "torch.Size([16, 10, 4])\n",
      "Epoch: 1/50.. Validation Loss: 0.0333.. Training Loss: 0.0129.. 0.0001 s/batch \n",
      "torch.Size([16, 10, 4])\n",
      "Epoch: 1/50.. Validation Loss: 0.0275.. Training Loss: 0.0255.. 0.0001 s/batch \n",
      "torch.Size([16, 10, 4])\n",
      "Epoch: 1/50.. Validation Loss: 0.0213.. Training Loss: 0.0173.. 0.0001 s/batch \n",
      "torch.Size([16, 10, 4])\n",
      "Epoch: 1/50.. Validation Loss: 0.0112.. Training Loss: 0.0245.. 0.0001 s/batch \n",
      "torch.Size([16, 10, 4])\n",
      "Epoch: 1/50.. Validation Loss: 0.0026.. Training Loss: 0.0127.. 0.0001 s/batch \n",
      "torch.Size([16, 10, 4])\n",
      "Epoch: 1/50.. Validation Loss: 0.0135.. Training Loss: 0.0125.. 0.0001 s/batch \n",
      "torch.Size([16, 10, 4])\n",
      "Epoch: 1/50.. Validation Loss: 0.0136.. Training Loss: 0.0147.. 0.0001 s/batch \n",
      "torch.Size([16, 10, 4])\n",
      "Epoch: 1/50.. Validation Loss: 0.0102.. Training Loss: 0.0141.. 0.0001 s/batch \n",
      "torch.Size([16, 10, 4])\n",
      "Epoch: 1/50.. Validation Loss: 0.0121.. Training Loss: 0.0107.. 0.0001 s/batch \n",
      "torch.Size([16, 10, 4])\n",
      "Epoch: 1/50.. Validation Loss: 0.0196.. Training Loss: 0.0143.. 0.0001 s/batch \n",
      "torch.Size([16, 10, 4])\n",
      "Epoch: 1/50.. Validation Loss: 0.0052.. Training Loss: 0.0138.. 0.0001 s/batch \n",
      "torch.Size([16, 10, 4])\n",
      "Epoch: 1/50.. Validation Loss: 0.0119.. Training Loss: 0.0150.. 0.0001 s/batch \n",
      "torch.Size([16, 10, 4])\n",
      "Epoch: 1/50.. Validation Loss: 0.0165.. Training Loss: 0.0209.. 0.0001 s/batch \n",
      "torch.Size([16, 10, 4])\n",
      "Epoch: 1/50.. Validation Loss: 0.0268.. Training Loss: 0.0148.. 0.0001 s/batch \n",
      "torch.Size([16, 10, 4])\n",
      "Epoch: 1/50.. Validation Loss: 0.0089.. Training Loss: 0.0116.. 0.0001 s/batch \n",
      "torch.Size([16, 10, 4])\n",
      "Epoch: 1/50.. Validation Loss: 0.0120.. Training Loss: 0.0131.. 0.0001 s/batch \n",
      "torch.Size([16, 10, 4])\n",
      "Epoch: 1/50.. Validation Loss: 0.0167.. Training Loss: 0.0141.. 0.0001 s/batch \n",
      "torch.Size([16, 10, 4])\n",
      "Epoch: 1/50.. Validation Loss: 0.0154.. Training Loss: 0.0141.. 0.0001 s/batch \n",
      "torch.Size([16, 10, 4])\n",
      "Epoch: 1/50.. Validation Loss: 0.0124.. Training Loss: 0.0082.. 0.0001 s/batch \n",
      "torch.Size([16, 10, 4])\n",
      "Epoch: 1/50.. Validation Loss: 0.0131.. Training Loss: 0.0174.. 0.0001 s/batch \n",
      "torch.Size([16, 10, 4])\n",
      "Epoch: 1/50.. Validation Loss: 0.0343.. Training Loss: 0.0142.. 0.0001 s/batch \n",
      "torch.Size([16, 10, 4])\n",
      "Epoch: 1/50.. Validation Loss: 0.0258.. Training Loss: 0.0196.. 0.0001 s/batch \n",
      "torch.Size([16, 10, 4])\n",
      "Epoch: 1/50.. Validation Loss: 0.0088.. Training Loss: 0.0136.. 0.0001 s/batch \n",
      "torch.Size([16, 10, 4])\n",
      "Epoch: 1/50.. Validation Loss: 0.0112.. Training Loss: 0.0172.. 0.0001 s/batch \n",
      "torch.Size([16, 10, 4])\n",
      "Epoch: 1/50.. Validation Loss: 0.0088.. Training Loss: 0.0103.. 0.0001 s/batch \n",
      "torch.Size([16, 10, 4])\n",
      "Epoch: 1/50.. Validation Loss: 0.0140.. Training Loss: 0.0222.. 0.0001 s/batch \n",
      "torch.Size([16, 10, 4])\n",
      "Epoch: 1/50.. Validation Loss: 0.0080.. Training Loss: 0.0122.. 0.0001 s/batch \n",
      "torch.Size([16, 10, 4])\n",
      "Epoch: 1/50.. Validation Loss: 0.0109.. Training Loss: 0.0188.. 0.0001 s/batch \n",
      "torch.Size([16, 10, 4])\n",
      "Epoch: 1/50.. Validation Loss: 0.0066.. Training Loss: 0.0191.. 0.0001 s/batch \n",
      "torch.Size([16, 10, 4])\n",
      "Epoch: 1/50.. Validation Loss: 0.0205.. Training Loss: 0.0170.. 0.0001 s/batch \n",
      "torch.Size([16, 10, 4])\n",
      "Epoch: 1/50.. Validation Loss: 0.0074.. Training Loss: 0.0183.. 0.0001 s/batch \n",
      "torch.Size([16, 10, 4])\n",
      "Epoch: 1/50.. Validation Loss: 0.0111.. Training Loss: 0.0175.. 0.0001 s/batch \n",
      "torch.Size([16, 10, 4])\n",
      "Epoch: 1/50.. Validation Loss: 0.0119.. Training Loss: 0.0107.. 0.0001 s/batch \n",
      "torch.Size([16, 10, 4])\n",
      "Epoch: 1/50.. Validation Loss: 0.0145.. Training Loss: 0.0119.. 0.0001 s/batch \n",
      "torch.Size([16, 10, 4])\n",
      "Epoch: 1/50.. Validation Loss: 0.0093.. Training Loss: 0.0175.. 0.0001 s/batch \n",
      "torch.Size([16, 10, 4])\n",
      "Epoch: 1/50.. Validation Loss: 0.0081.. Training Loss: 0.0129.. 0.0001 s/batch \n",
      "torch.Size([16, 10, 4])\n",
      "Epoch: 1/50.. Validation Loss: 0.0141.. Training Loss: 0.0256.. 0.0001 s/batch \n",
      "torch.Size([16, 10, 4])\n",
      "Epoch: 1/50.. Validation Loss: 0.0076.. Training Loss: 0.0192.. 0.0001 s/batch \n",
      "torch.Size([16, 10, 4])\n",
      "Epoch: 1/50.. Validation Loss: 0.0268.. Training Loss: 0.0079.. 0.0001 s/batch \n",
      "torch.Size([16, 10, 4])\n",
      "Epoch: 1/50.. Validation Loss: 0.0143.. Training Loss: 0.0139.. 0.0001 s/batch \n",
      "torch.Size([16, 10, 4])\n",
      "Epoch: 1/50.. Validation Loss: 0.0211.. Training Loss: 0.0114.. 0.0001 s/batch \n",
      "torch.Size([16, 10, 4])\n",
      "Epoch: 1/50.. Validation Loss: 0.0097.. Training Loss: 0.0182.. 0.0001 s/batch \n",
      "torch.Size([16, 10, 4])\n",
      "Epoch: 1/50.. Validation Loss: 0.0209.. Training Loss: 0.0195.. 0.0001 s/batch \n",
      "torch.Size([16, 10, 4])\n",
      "Epoch: 1/50.. Validation Loss: 0.0137.. Training Loss: 0.0158.. 0.0001 s/batch \n",
      "torch.Size([16, 10, 4])\n",
      "Epoch: 1/50.. Validation Loss: 0.0096.. Training Loss: 0.0268.. 0.0001 s/batch \n",
      "torch.Size([16, 10, 4])\n",
      "Epoch: 1/50.. Validation Loss: 0.0143.. Training Loss: 0.0301.. 0.0001 s/batch \n",
      "torch.Size([16, 10, 4])\n",
      "Epoch: 1/50.. Validation Loss: 0.0049.. Training Loss: 0.0175.. 0.0001 s/batch \n",
      "torch.Size([16, 10, 4])\n",
      "Epoch: 1/50.. Validation Loss: 0.0270.. Training Loss: 0.0205.. 0.0001 s/batch \n",
      "torch.Size([16, 10, 4])\n",
      "Epoch: 1/50.. Validation Loss: 0.0387.. Training Loss: 0.0096.. 0.0001 s/batch \n",
      "torch.Size([16, 10, 4])\n",
      "Epoch: 1/50.. Validation Loss: 0.0109.. Training Loss: 0.0135.. 0.0001 s/batch \n",
      "torch.Size([16, 10, 4])\n",
      "Epoch: 1/50.. Validation Loss: 0.0267.. Training Loss: 0.0143.. 0.0001 s/batch \n",
      "torch.Size([16, 10, 4])\n",
      "Epoch: 1/50.. Validation Loss: 0.0234.. Training Loss: 0.0088.. 0.0001 s/batch \n",
      "torch.Size([16, 10, 4])\n",
      "Epoch: 1/50.. Validation Loss: 0.0119.. Training Loss: 0.0192.. 0.0001 s/batch \n",
      "torch.Size([16, 10, 4])\n",
      "Epoch: 1/50.. Validation Loss: 0.0128.. Training Loss: 0.0194.. 0.0001 s/batch \n",
      "torch.Size([16, 10, 4])\n",
      "Epoch: 1/50.. Validation Loss: 0.0057.. Training Loss: 0.0172.. 0.0001 s/batch \n",
      "torch.Size([16, 10, 4])\n",
      "Epoch: 1/50.. Validation Loss: 0.0183.. Training Loss: 0.0093.. 0.0001 s/batch \n",
      "torch.Size([16, 10, 4])\n",
      "Epoch: 1/50.. Validation Loss: 0.0242.. Training Loss: 0.0174.. 0.0001 s/batch \n",
      "torch.Size([16, 10, 4])\n",
      "Epoch: 1/50.. Validation Loss: 0.0051.. Training Loss: 0.0095.. 0.0001 s/batch \n",
      "torch.Size([16, 10, 4])\n",
      "Epoch: 1/50.. Validation Loss: 0.0077.. Training Loss: 0.0077.. 0.0001 s/batch \n",
      "torch.Size([16, 10, 4])\n",
      "Epoch: 1/50.. Validation Loss: 0.0092.. Training Loss: 0.0217.. 0.0001 s/batch \n",
      "torch.Size([16, 10, 4])\n",
      "Epoch: 1/50.. Validation Loss: 0.0161.. Training Loss: 0.0139.. 0.0001 s/batch \n",
      "torch.Size([16, 10, 4])\n",
      "Epoch: 1/50.. Validation Loss: 0.0060.. Training Loss: 0.0161.. 0.0001 s/batch \n",
      "torch.Size([16, 10, 4])\n",
      "Epoch: 1/50.. Validation Loss: 0.0215.. Training Loss: 0.0069.. 0.0001 s/batch \n",
      "torch.Size([16, 10, 4])\n",
      "Epoch: 1/50.. Validation Loss: 0.0054.. Training Loss: 0.0098.. 0.0001 s/batch \n",
      "torch.Size([16, 10, 4])\n",
      "Epoch: 1/50.. Validation Loss: 0.0246.. Training Loss: 0.0168.. 0.0001 s/batch \n",
      "torch.Size([16, 10, 4])\n",
      "Epoch: 1/50.. Validation Loss: 0.0135.. Training Loss: 0.0172.. 0.0001 s/batch \n",
      "torch.Size([16, 10, 4])\n",
      "Epoch: 1/50.. Validation Loss: 0.0209.. Training Loss: 0.0152.. 0.0001 s/batch \n",
      "torch.Size([16, 10, 4])\n",
      "Epoch: 1/50.. Validation Loss: 0.0101.. Training Loss: 0.0093.. 0.0001 s/batch \n",
      "torch.Size([16, 10, 4])\n",
      "Epoch: 1/50.. Validation Loss: 0.0242.. Training Loss: 0.0206.. 0.0001 s/batch \n",
      "torch.Size([16, 10, 4])\n",
      "Epoch: 1/50.. Validation Loss: 0.0141.. Training Loss: 0.0193.. 0.0001 s/batch \n",
      "torch.Size([16, 10, 4])\n"
     ]
    },
    {
     "name": "stdout",
     "output_type": "stream",
     "text": [
      "Epoch: 1/50.. Validation Loss: 0.0162.. Training Loss: 0.0105.. 0.0001 s/batch \n",
      "torch.Size([16, 10, 4])\n",
      "Epoch: 1/50.. Validation Loss: 0.0119.. Training Loss: 0.0104.. 0.0001 s/batch \n",
      "torch.Size([16, 10, 4])\n",
      "Epoch: 1/50.. Validation Loss: 0.0167.. Training Loss: 0.0222.. 0.0001 s/batch \n",
      "torch.Size([16, 10, 4])\n",
      "Epoch: 1/50.. Validation Loss: 0.0094.. Training Loss: 0.0175.. 0.0001 s/batch \n",
      "torch.Size([16, 10, 4])\n",
      "Epoch: 1/50.. Validation Loss: 0.0099.. Training Loss: 0.0128.. 0.0001 s/batch \n",
      "torch.Size([16, 10, 4])\n",
      "Epoch: 1/50.. Validation Loss: 0.0161.. Training Loss: 0.0197.. 0.0001 s/batch \n",
      "torch.Size([16, 10, 4])\n",
      "Epoch: 1/50.. Validation Loss: 0.0120.. Training Loss: 0.0228.. 0.0001 s/batch \n",
      "torch.Size([16, 10, 4])\n",
      "Epoch: 1/50.. Validation Loss: 0.0094.. Training Loss: 0.0107.. 0.0001 s/batch \n",
      "torch.Size([16, 10, 4])\n",
      "Epoch: 1/50.. Validation Loss: 0.0064.. Training Loss: 0.0125.. 0.0001 s/batch \n",
      "torch.Size([16, 10, 4])\n",
      "Epoch: 1/50.. Validation Loss: 0.0059.. Training Loss: 0.0085.. 0.0001 s/batch \n",
      "torch.Size([16, 10, 4])\n",
      "Epoch: 1/50.. Validation Loss: 0.0082.. Training Loss: 0.0143.. 0.0001 s/batch \n",
      "torch.Size([16, 10, 4])\n",
      "Epoch: 1/50.. Validation Loss: 0.0094.. Training Loss: 0.0092.. 0.0001 s/batch \n",
      "torch.Size([16, 10, 4])\n",
      "Epoch: 1/50.. Validation Loss: 0.0146.. Training Loss: 0.0192.. 0.0001 s/batch \n",
      "torch.Size([16, 10, 4])\n",
      "Epoch: 1/50.. Validation Loss: 0.0123.. Training Loss: 0.0214.. 0.0001 s/batch \n",
      "torch.Size([16, 10, 4])\n",
      "Epoch: 1/50.. Validation Loss: 0.0163.. Training Loss: 0.0110.. 0.0001 s/batch \n",
      "torch.Size([16, 10, 4])\n",
      "Epoch: 1/50.. Validation Loss: 0.0080.. Training Loss: 0.0131.. 0.0001 s/batch \n",
      "torch.Size([16, 10, 4])\n",
      "Epoch: 1/50.. Validation Loss: 0.0128.. Training Loss: 0.0153.. 0.0001 s/batch \n",
      "torch.Size([16, 10, 4])\n",
      "Epoch: 1/50.. Validation Loss: 0.0092.. Training Loss: 0.0182.. 0.0001 s/batch \n",
      "torch.Size([16, 10, 4])\n",
      "Epoch: 1/50.. Validation Loss: 0.0039.. Training Loss: 0.0175.. 0.0001 s/batch \n",
      "torch.Size([16, 10, 4])\n",
      "Epoch: 1/50.. Validation Loss: 0.0083.. Training Loss: 0.0159.. 0.0001 s/batch \n",
      "torch.Size([16, 10, 4])\n",
      "Epoch: 1/50.. Validation Loss: 0.0100.. Training Loss: 0.0132.. 0.0001 s/batch \n",
      "torch.Size([16, 10, 4])\n",
      "Epoch: 1/50.. Validation Loss: 0.0095.. Training Loss: 0.0107.. 0.0001 s/batch \n",
      "torch.Size([16, 10, 4])\n",
      "Epoch: 1/50.. Validation Loss: 0.0126.. Training Loss: 0.0201.. 0.0001 s/batch \n",
      "torch.Size([16, 10, 4])\n",
      "Epoch: 1/50.. Validation Loss: 0.0186.. Training Loss: 0.0084.. 0.0001 s/batch \n",
      "torch.Size([16, 10, 4])\n",
      "Epoch: 1/50.. Validation Loss: 0.0063.. Training Loss: 0.0097.. 0.0001 s/batch \n",
      "torch.Size([16, 10, 4])\n",
      "Epoch: 1/50.. Validation Loss: 0.0103.. Training Loss: 0.0195.. 0.0001 s/batch \n",
      "torch.Size([16, 10, 4])\n",
      "Epoch: 1/50.. Validation Loss: 0.0102.. Training Loss: 0.0077.. 0.0001 s/batch \n",
      "torch.Size([16, 10, 4])\n",
      "Epoch: 1/50.. Validation Loss: 0.0115.. Training Loss: 0.0091.. 0.0001 s/batch \n",
      "torch.Size([16, 10, 4])\n",
      "Epoch: 1/50.. Validation Loss: 0.0062.. Training Loss: 0.0095.. 0.0001 s/batch \n",
      "torch.Size([16, 10, 4])\n",
      "Epoch: 1/50.. Validation Loss: 0.0092.. Training Loss: 0.0134.. 0.0001 s/batch \n",
      "torch.Size([16, 10, 4])\n",
      "Epoch: 1/50.. Validation Loss: 0.0080.. Training Loss: 0.0089.. 0.0001 s/batch \n",
      "torch.Size([16, 10, 4])\n",
      "Epoch: 1/50.. Validation Loss: 0.0081.. Training Loss: 0.0207.. 0.0001 s/batch \n",
      "torch.Size([16, 10, 4])\n",
      "Epoch: 1/50.. Validation Loss: 0.0175.. Training Loss: 0.0076.. 0.0001 s/batch \n",
      "torch.Size([16, 10, 4])\n",
      "Epoch: 1/50.. Validation Loss: 0.0118.. Training Loss: 0.0127.. 0.0001 s/batch \n",
      "torch.Size([16, 10, 4])\n",
      "Epoch: 1/50.. Validation Loss: 0.0071.. Training Loss: 0.0179.. 0.0001 s/batch \n",
      "torch.Size([16, 10, 4])\n",
      "Epoch: 1/50.. Validation Loss: 0.0126.. Training Loss: 0.0142.. 0.0001 s/batch \n",
      "torch.Size([16, 10, 4])\n",
      "Epoch: 1/50.. Validation Loss: 0.0309.. Training Loss: 0.0252.. 0.0001 s/batch \n",
      "torch.Size([16, 10, 4])\n",
      "Epoch: 1/50.. Validation Loss: 0.0106.. Training Loss: 0.0199.. 0.0001 s/batch \n",
      "torch.Size([16, 10, 4])\n",
      "Epoch: 1/50.. Validation Loss: 0.0066.. Training Loss: 0.0082.. 0.0001 s/batch \n",
      "torch.Size([16, 10, 4])\n",
      "Epoch: 1/50.. Validation Loss: 0.0084.. Training Loss: 0.0147.. 0.0001 s/batch \n",
      "torch.Size([16, 10, 4])\n",
      "Epoch: 1/50.. Validation Loss: 0.0077.. Training Loss: 0.0130.. 0.0001 s/batch \n",
      "torch.Size([16, 10, 4])\n",
      "Epoch: 1/50.. Validation Loss: 0.0055.. Training Loss: 0.0071.. 0.0001 s/batch \n",
      "torch.Size([16, 10, 4])\n",
      "Epoch: 1/50.. Validation Loss: 0.0098.. Training Loss: 0.0100.. 0.0001 s/batch \n",
      "torch.Size([16, 10, 4])\n",
      "Epoch: 1/50.. Validation Loss: 0.0090.. Training Loss: 0.0130.. 0.0001 s/batch \n",
      "torch.Size([16, 10, 4])\n",
      "Epoch: 1/50.. Validation Loss: 0.0148.. Training Loss: 0.0135.. 0.0001 s/batch \n",
      "torch.Size([16, 10, 4])\n",
      "Epoch: 1/50.. Validation Loss: 0.0068.. Training Loss: 0.0168.. 0.0001 s/batch \n",
      "torch.Size([16, 10, 4])\n",
      "Epoch: 1/50.. Validation Loss: 0.0087.. Training Loss: 0.0171.. 0.0001 s/batch \n",
      "torch.Size([16, 10, 4])\n",
      "Epoch: 1/50.. Validation Loss: 0.0080.. Training Loss: 0.0127.. 0.0001 s/batch \n",
      "torch.Size([16, 10, 4])\n",
      "Epoch: 1/50.. Validation Loss: 0.0093.. Training Loss: 0.0153.. 0.0001 s/batch \n",
      "torch.Size([16, 10, 4])\n",
      "Epoch: 1/50.. Validation Loss: 0.0123.. Training Loss: 0.0183.. 0.0001 s/batch \n",
      "torch.Size([16, 10, 4])\n",
      "Epoch: 1/50.. Validation Loss: 0.0145.. Training Loss: 0.0226.. 0.0001 s/batch \n",
      "torch.Size([16, 10, 4])\n",
      "Epoch: 1/50.. Validation Loss: 0.0124.. Training Loss: 0.0118.. 0.0001 s/batch \n",
      "torch.Size([16, 10, 4])\n",
      "Epoch: 1/50.. Validation Loss: 0.0099.. Training Loss: 0.0149.. 0.0001 s/batch \n",
      "torch.Size([16, 10, 4])\n",
      "Epoch: 1/50.. Validation Loss: 0.0224.. Training Loss: 0.0081.. 0.0001 s/batch \n",
      "torch.Size([16, 10, 4])\n",
      "Epoch: 1/50.. Validation Loss: 0.0084.. Training Loss: 0.0128.. 0.0001 s/batch \n",
      "torch.Size([16, 10, 4])\n",
      "Epoch: 1/50.. Validation Loss: 0.0085.. Training Loss: 0.0117.. 0.0001 s/batch \n",
      "torch.Size([16, 10, 4])\n",
      "Epoch: 1/50.. Validation Loss: 0.0080.. Training Loss: 0.0087.. 0.0001 s/batch \n",
      "torch.Size([16, 10, 4])\n",
      "Epoch: 1/50.. Validation Loss: 0.0142.. Training Loss: 0.0188.. 0.0001 s/batch \n",
      "torch.Size([16, 10, 4])\n",
      "Epoch: 1/50.. Validation Loss: 0.0227.. Training Loss: 0.0119.. 0.0001 s/batch \n",
      "torch.Size([16, 10, 4])\n",
      "Epoch: 1/50.. Validation Loss: 0.0109.. Training Loss: 0.0164.. 0.0001 s/batch \n",
      "torch.Size([16, 10, 4])\n",
      "Epoch: 1/50.. Validation Loss: 0.0226.. Training Loss: 0.0205.. 0.0001 s/batch \n",
      "torch.Size([16, 10, 4])\n",
      "Epoch: 1/50.. Validation Loss: 0.0115.. Training Loss: 0.0146.. 0.0001 s/batch \n",
      "torch.Size([16, 10, 4])\n",
      "Epoch: 1/50.. Validation Loss: 0.0059.. Training Loss: 0.0184.. 0.0001 s/batch \n",
      "torch.Size([16, 10, 4])\n",
      "Epoch: 1/50.. Validation Loss: 0.0331.. Training Loss: 0.0141.. 0.0001 s/batch \n",
      "torch.Size([16, 10, 4])\n",
      "Epoch: 1/50.. Validation Loss: 0.0083.. Training Loss: 0.0150.. 0.0001 s/batch \n",
      "torch.Size([16, 10, 4])\n",
      "Epoch: 1/50.. Validation Loss: 0.0087.. Training Loss: 0.0099.. 0.0001 s/batch \n",
      "torch.Size([16, 10, 4])\n",
      "Epoch: 1/50.. Validation Loss: 0.0056.. Training Loss: 0.0090.. 0.0001 s/batch \n",
      "torch.Size([16, 10, 4])\n",
      "Epoch: 1/50.. Validation Loss: 0.0064.. Training Loss: 0.0124.. 0.0001 s/batch \n",
      "torch.Size([16, 10, 4])\n",
      "Epoch: 1/50.. Validation Loss: 0.0049.. Training Loss: 0.0160.. 0.0001 s/batch \n",
      "torch.Size([16, 10, 4])\n",
      "Epoch: 1/50.. Validation Loss: 0.0053.. Training Loss: 0.0182.. 0.0001 s/batch \n",
      "torch.Size([16, 10, 4])\n",
      "Epoch: 1/50.. Validation Loss: 0.0102.. Training Loss: 0.0154.. 0.0001 s/batch \n",
      "torch.Size([16, 10, 4])\n",
      "Epoch: 1/50.. Validation Loss: 0.0047.. Training Loss: 0.0153.. 0.0001 s/batch \n",
      "torch.Size([16, 10, 4])\n",
      "Epoch: 1/50.. Validation Loss: 0.0077.. Training Loss: 0.0134.. 0.0001 s/batch \n",
      "torch.Size([16, 10, 4])\n",
      "Epoch: 1/50.. Validation Loss: 0.0127.. Training Loss: 0.0094.. 0.0001 s/batch \n",
      "torch.Size([16, 10, 4])\n",
      "Epoch: 1/50.. Validation Loss: 0.0086.. Training Loss: 0.0151.. 0.0001 s/batch \n",
      "torch.Size([16, 10, 4])\n",
      "Epoch: 1/50.. Validation Loss: 0.0164.. Training Loss: 0.0100.. 0.0001 s/batch \n",
      "torch.Size([16, 10, 4])\n",
      "Epoch: 1/50.. Validation Loss: 0.0036.. Training Loss: 0.0103.. 0.0001 s/batch \n",
      "torch.Size([16, 10, 4])\n",
      "Epoch: 1/50.. Validation Loss: 0.0048.. Training Loss: 0.0151.. 0.0001 s/batch \n",
      "torch.Size([16, 10, 4])\n",
      "Epoch: 1/50.. Validation Loss: 0.0136.. Training Loss: 0.0073.. 0.0001 s/batch \n",
      "torch.Size([16, 10, 4])\n"
     ]
    },
    {
     "name": "stdout",
     "output_type": "stream",
     "text": [
      "Epoch: 1/50.. Validation Loss: 0.0135.. Training Loss: 0.0189.. 0.0001 s/batch \n",
      "torch.Size([16, 10, 4])\n",
      "Epoch: 1/50.. Validation Loss: 0.0065.. Training Loss: 0.0108.. 0.0001 s/batch \n",
      "torch.Size([16, 10, 4])\n",
      "Epoch: 1/50.. Validation Loss: 0.0045.. Training Loss: 0.0126.. 0.0001 s/batch \n",
      "torch.Size([16, 10, 4])\n",
      "Epoch: 1/50.. Validation Loss: 0.0121.. Training Loss: 0.0173.. 0.0001 s/batch \n",
      "torch.Size([16, 10, 4])\n",
      "Epoch: 1/50.. Validation Loss: 0.0061.. Training Loss: 0.0106.. 0.0001 s/batch \n",
      "torch.Size([16, 10, 4])\n",
      "Epoch: 1/50.. Validation Loss: 0.0065.. Training Loss: 0.0097.. 0.0001 s/batch \n"
     ]
    },
    {
     "ename": "RuntimeError",
     "evalue": "shape '[16, 10, 4]' is invalid for input of size 200",
     "output_type": "error",
     "traceback": [
      "\u001b[0;31m---------------------------------------------------------------------------\u001b[0m",
      "\u001b[0;31mRuntimeError\u001b[0m                              Traceback (most recent call last)",
      "\u001b[0;32m<ipython-input-120-70fb84969f6c>\u001b[0m in \u001b[0;36m<module>\u001b[0;34m()\u001b[0m\n\u001b[1;32m     32\u001b[0m         \u001b[0;31m#print(targets.shape)\u001b[0m\u001b[0;34m\u001b[0m\u001b[0;34m\u001b[0m\u001b[0m\n\u001b[1;32m     33\u001b[0m         \u001b[0mout\u001b[0m \u001b[0;34m=\u001b[0m \u001b[0mnet\u001b[0m\u001b[0;34m.\u001b[0m\u001b[0mforward\u001b[0m\u001b[0;34m(\u001b[0m\u001b[0minput_train\u001b[0m\u001b[0;34m)\u001b[0m\u001b[0;34m\u001b[0m\u001b[0m\n\u001b[0;32m---> 34\u001b[0;31m         \u001b[0mout\u001b[0m \u001b[0;34m=\u001b[0m \u001b[0mout\u001b[0m\u001b[0;34m.\u001b[0m\u001b[0mreshape\u001b[0m\u001b[0;34m(\u001b[0m\u001b[0;36m16\u001b[0m\u001b[0;34m,\u001b[0m\u001b[0;36m10\u001b[0m\u001b[0;34m,\u001b[0m\u001b[0;36m4\u001b[0m\u001b[0;34m)\u001b[0m\u001b[0;34m\u001b[0m\u001b[0m\n\u001b[0m\u001b[1;32m     35\u001b[0m         \u001b[0mout_bis\u001b[0m \u001b[0;34m=\u001b[0m \u001b[0mout\u001b[0m\u001b[0;34m[\u001b[0m\u001b[0;34m:\u001b[0m\u001b[0;34m,\u001b[0m\u001b[0;34m:\u001b[0m\u001b[0;34m,\u001b[0m\u001b[0;36m0\u001b[0m\u001b[0;34m:\u001b[0m\u001b[0;36m2\u001b[0m\u001b[0;34m]\u001b[0m\u001b[0;34m.\u001b[0m\u001b[0mclone\u001b[0m\u001b[0;34m(\u001b[0m\u001b[0;34m)\u001b[0m\u001b[0;34m\u001b[0m\u001b[0m\n\u001b[1;32m     36\u001b[0m         \u001b[0;31m#print(out_bis.shape)\u001b[0m\u001b[0;34m\u001b[0m\u001b[0;34m\u001b[0m\u001b[0m\n",
      "\u001b[0;31mRuntimeError\u001b[0m: shape '[16, 10, 4]' is invalid for input of size 200"
     ]
    }
   ],
   "source": [
    "epochs = 50\n",
    "steps = 0\n",
    "running_loss = 0\n",
    "print_every = 323\n",
    "loss_train = []\n",
    "loss_val = []\n",
    "\n",
    "for e in range(epochs):\n",
    "    start = time.time()\n",
    "    steps_bis = 0\n",
    "    total_train_loss=0\n",
    "    for train_coord, ground_tru in iter(trainloader):\n",
    "        \n",
    "        #steps += 1\n",
    "        #steps_bis += 1\n",
    "        \n",
    "        #inp = Variable(images)\n",
    "        #targets = Variable(labels)\n",
    "        #optimizer.zero_grad()\n",
    "        #output = net.forward(inp)\n",
    "        #loss = criterion(output, targets.view(-1,40))\n",
    "        #grad = loss.backward()\n",
    "        #optimizer.step()\n",
    "        #running_loss += loss.item()\n",
    "\n",
    "        input_train = Variable(train_coord)\n",
    "        in_train = input_train.squeeze(1)\n",
    "        target = Variable(ground_tru)\n",
    "        targets = target.squeeze(1)\n",
    "        optimizer.zero_grad()\n",
    "        #print(in_train.shape)\n",
    "        #print(targets.shape)\n",
    "        out = net.forward(input_train)\n",
    "        out = out.reshape(16,10,4)\n",
    "        out_bis = out[:,:,0:2].clone()\n",
    "        #print(out_bis.shape)   \n",
    "        for i in range(10):\n",
    "            if i == 0:\n",
    "                out_bis[:, i, 0:2] = in_train[:, -1, 0:2] + out[:, i, 2:]*0.4\n",
    "            else:\n",
    "                out_bis[:, i, 0:2] = out[:, i - 1, 0:2] + out[:, i, 2:]*0.4\n",
    "        #pdb.set_trace()\n",
    "        loss1 = (criterion(out[:,:,0:2], targets[:,:,0:2]))\n",
    "        loss2 = (criterion(out[:,:,2:], targets[:,:,2:]))\n",
    "        loss3 = criterion(out_bis, targets[:,:,0:2])\n",
    "        print(targets.shape)\n",
    "        loss1.backward(retain_graph=True)\n",
    "        loss2.backward(retain_graph=True)\n",
    "        loss3.backward(retain_graph=True)\n",
    "        optimizer.step()\n",
    "        \n",
    "        running_loss += (loss1+loss2+loss3).item()\n",
    "        total_train_loss += (loss1+loss2+loss3).item()\n",
    "        \n",
    "        if steps % print_every == 0:\n",
    "            stop = time.time()\n",
    "            accuracy = 0\n",
    "            sum_accuracy = 0\n",
    "            \n",
    "            for ii, (images, labels) in enumerate(valloader):\n",
    "                \n",
    "                val_loss=0\n",
    "                \n",
    "                inp = Variable(images)\n",
    "                predicted = net.predict(inp)\n",
    "                val_loss+= criterion(predicted,labels.view(-1,40)).data[0]\n",
    "                \n",
    "            print(\"Epoch: {}/{}..\".format(e+1, epochs),\n",
    "                  \"Validation Loss: {:.4f}..\".format(val_loss/ii),\n",
    "                  \"Training Loss: {:.4f}..\".format(running_loss/print_every),\n",
    "                  \"{:.4f} s/batch \".format((stop - start)/print_every),\n",
    "                 )\n",
    "            loss_val.append(val_loss/ii)\n",
    "            running_loss = 0\n",
    "            start = time.time()\n",
    "    loss_train.append(total_train_loss/steps_bis)"
   ]
  },
  {
   "cell_type": "code",
   "execution_count": 116,
   "metadata": {},
   "outputs": [
    {
     "ename": "ValueError",
     "evalue": "x and y must have same first dimension, but have shapes (50,) and (0,)",
     "output_type": "error",
     "traceback": [
      "\u001b[0;31m---------------------------------------------------------------------------\u001b[0m",
      "\u001b[0;31mValueError\u001b[0m                                Traceback (most recent call last)",
      "\u001b[0;32m<ipython-input-116-44baeb1d7fe9>\u001b[0m in \u001b[0;36m<module>\u001b[0;34m()\u001b[0m\n\u001b[1;32m      4\u001b[0m \u001b[0mplt\u001b[0m\u001b[0;34m.\u001b[0m\u001b[0mrc\u001b[0m\u001b[0;34m(\u001b[0m\u001b[0;34m'font'\u001b[0m\u001b[0;34m,\u001b[0m \u001b[0msize\u001b[0m\u001b[0;34m=\u001b[0m\u001b[0;36m20\u001b[0m\u001b[0;34m)\u001b[0m\u001b[0;34m\u001b[0m\u001b[0m\n\u001b[1;32m      5\u001b[0m \u001b[0;34m\u001b[0m\u001b[0m\n\u001b[0;32m----> 6\u001b[0;31m \u001b[0mplt\u001b[0m\u001b[0;34m.\u001b[0m\u001b[0mplot\u001b[0m\u001b[0;34m(\u001b[0m\u001b[0mepoch\u001b[0m\u001b[0;34m,\u001b[0m\u001b[0mloss_train\u001b[0m\u001b[0;34m,\u001b[0m\u001b[0mlabel\u001b[0m\u001b[0;34m=\u001b[0m\u001b[0;34m'Training loss'\u001b[0m\u001b[0;34m)\u001b[0m\u001b[0;34m\u001b[0m\u001b[0m\n\u001b[0m\u001b[1;32m      7\u001b[0m \u001b[0mplt\u001b[0m\u001b[0;34m.\u001b[0m\u001b[0mplot\u001b[0m\u001b[0;34m(\u001b[0m\u001b[0mepoch\u001b[0m\u001b[0;34m,\u001b[0m\u001b[0mloss_val\u001b[0m\u001b[0;34m,\u001b[0m\u001b[0mc\u001b[0m\u001b[0;34m=\u001b[0m\u001b[0;34m'k'\u001b[0m\u001b[0;34m,\u001b[0m\u001b[0mlabel\u001b[0m\u001b[0;34m=\u001b[0m\u001b[0;34m'Validation loss'\u001b[0m\u001b[0;34m)\u001b[0m\u001b[0;34m\u001b[0m\u001b[0m\n\u001b[1;32m      8\u001b[0m \u001b[0mplt\u001b[0m\u001b[0;34m.\u001b[0m\u001b[0mxlabel\u001b[0m\u001b[0;34m(\u001b[0m\u001b[0;34m'epoch'\u001b[0m\u001b[0;34m)\u001b[0m\u001b[0;34m\u001b[0m\u001b[0m\n",
      "\u001b[0;32m~/anaconda3/lib/python3.6/site-packages/matplotlib/pyplot.py\u001b[0m in \u001b[0;36mplot\u001b[0;34m(*args, **kwargs)\u001b[0m\n\u001b[1;32m   3238\u001b[0m                       mplDeprecation)\n\u001b[1;32m   3239\u001b[0m     \u001b[0;32mtry\u001b[0m\u001b[0;34m:\u001b[0m\u001b[0;34m\u001b[0m\u001b[0m\n\u001b[0;32m-> 3240\u001b[0;31m         \u001b[0mret\u001b[0m \u001b[0;34m=\u001b[0m \u001b[0max\u001b[0m\u001b[0;34m.\u001b[0m\u001b[0mplot\u001b[0m\u001b[0;34m(\u001b[0m\u001b[0;34m*\u001b[0m\u001b[0margs\u001b[0m\u001b[0;34m,\u001b[0m \u001b[0;34m**\u001b[0m\u001b[0mkwargs\u001b[0m\u001b[0;34m)\u001b[0m\u001b[0;34m\u001b[0m\u001b[0m\n\u001b[0m\u001b[1;32m   3241\u001b[0m     \u001b[0;32mfinally\u001b[0m\u001b[0;34m:\u001b[0m\u001b[0;34m\u001b[0m\u001b[0m\n\u001b[1;32m   3242\u001b[0m         \u001b[0max\u001b[0m\u001b[0;34m.\u001b[0m\u001b[0m_hold\u001b[0m \u001b[0;34m=\u001b[0m \u001b[0mwashold\u001b[0m\u001b[0;34m\u001b[0m\u001b[0m\n",
      "\u001b[0;32m~/anaconda3/lib/python3.6/site-packages/matplotlib/__init__.py\u001b[0m in \u001b[0;36minner\u001b[0;34m(ax, *args, **kwargs)\u001b[0m\n\u001b[1;32m   1708\u001b[0m                     warnings.warn(msg % (label_namer, func.__name__),\n\u001b[1;32m   1709\u001b[0m                                   RuntimeWarning, stacklevel=2)\n\u001b[0;32m-> 1710\u001b[0;31m             \u001b[0;32mreturn\u001b[0m \u001b[0mfunc\u001b[0m\u001b[0;34m(\u001b[0m\u001b[0max\u001b[0m\u001b[0;34m,\u001b[0m \u001b[0;34m*\u001b[0m\u001b[0margs\u001b[0m\u001b[0;34m,\u001b[0m \u001b[0;34m**\u001b[0m\u001b[0mkwargs\u001b[0m\u001b[0;34m)\u001b[0m\u001b[0;34m\u001b[0m\u001b[0m\n\u001b[0m\u001b[1;32m   1711\u001b[0m         \u001b[0mpre_doc\u001b[0m \u001b[0;34m=\u001b[0m \u001b[0minner\u001b[0m\u001b[0;34m.\u001b[0m\u001b[0m__doc__\u001b[0m\u001b[0;34m\u001b[0m\u001b[0m\n\u001b[1;32m   1712\u001b[0m         \u001b[0;32mif\u001b[0m \u001b[0mpre_doc\u001b[0m \u001b[0;32mis\u001b[0m \u001b[0;32mNone\u001b[0m\u001b[0;34m:\u001b[0m\u001b[0;34m\u001b[0m\u001b[0m\n",
      "\u001b[0;32m~/anaconda3/lib/python3.6/site-packages/matplotlib/axes/_axes.py\u001b[0m in \u001b[0;36mplot\u001b[0;34m(self, *args, **kwargs)\u001b[0m\n\u001b[1;32m   1435\u001b[0m         \u001b[0mkwargs\u001b[0m \u001b[0;34m=\u001b[0m \u001b[0mcbook\u001b[0m\u001b[0;34m.\u001b[0m\u001b[0mnormalize_kwargs\u001b[0m\u001b[0;34m(\u001b[0m\u001b[0mkwargs\u001b[0m\u001b[0;34m,\u001b[0m \u001b[0m_alias_map\u001b[0m\u001b[0;34m)\u001b[0m\u001b[0;34m\u001b[0m\u001b[0m\n\u001b[1;32m   1436\u001b[0m \u001b[0;34m\u001b[0m\u001b[0m\n\u001b[0;32m-> 1437\u001b[0;31m         \u001b[0;32mfor\u001b[0m \u001b[0mline\u001b[0m \u001b[0;32min\u001b[0m \u001b[0mself\u001b[0m\u001b[0;34m.\u001b[0m\u001b[0m_get_lines\u001b[0m\u001b[0;34m(\u001b[0m\u001b[0;34m*\u001b[0m\u001b[0margs\u001b[0m\u001b[0;34m,\u001b[0m \u001b[0;34m**\u001b[0m\u001b[0mkwargs\u001b[0m\u001b[0;34m)\u001b[0m\u001b[0;34m:\u001b[0m\u001b[0;34m\u001b[0m\u001b[0m\n\u001b[0m\u001b[1;32m   1438\u001b[0m             \u001b[0mself\u001b[0m\u001b[0;34m.\u001b[0m\u001b[0madd_line\u001b[0m\u001b[0;34m(\u001b[0m\u001b[0mline\u001b[0m\u001b[0;34m)\u001b[0m\u001b[0;34m\u001b[0m\u001b[0m\n\u001b[1;32m   1439\u001b[0m             \u001b[0mlines\u001b[0m\u001b[0;34m.\u001b[0m\u001b[0mappend\u001b[0m\u001b[0;34m(\u001b[0m\u001b[0mline\u001b[0m\u001b[0;34m)\u001b[0m\u001b[0;34m\u001b[0m\u001b[0m\n",
      "\u001b[0;32m~/anaconda3/lib/python3.6/site-packages/matplotlib/axes/_base.py\u001b[0m in \u001b[0;36m_grab_next_args\u001b[0;34m(self, *args, **kwargs)\u001b[0m\n\u001b[1;32m    402\u001b[0m                 \u001b[0mthis\u001b[0m \u001b[0;34m+=\u001b[0m \u001b[0margs\u001b[0m\u001b[0;34m[\u001b[0m\u001b[0;36m0\u001b[0m\u001b[0;34m]\u001b[0m\u001b[0;34m,\u001b[0m\u001b[0;34m\u001b[0m\u001b[0m\n\u001b[1;32m    403\u001b[0m                 \u001b[0margs\u001b[0m \u001b[0;34m=\u001b[0m \u001b[0margs\u001b[0m\u001b[0;34m[\u001b[0m\u001b[0;36m1\u001b[0m\u001b[0;34m:\u001b[0m\u001b[0;34m]\u001b[0m\u001b[0;34m\u001b[0m\u001b[0m\n\u001b[0;32m--> 404\u001b[0;31m             \u001b[0;32mfor\u001b[0m \u001b[0mseg\u001b[0m \u001b[0;32min\u001b[0m \u001b[0mself\u001b[0m\u001b[0;34m.\u001b[0m\u001b[0m_plot_args\u001b[0m\u001b[0;34m(\u001b[0m\u001b[0mthis\u001b[0m\u001b[0;34m,\u001b[0m \u001b[0mkwargs\u001b[0m\u001b[0;34m)\u001b[0m\u001b[0;34m:\u001b[0m\u001b[0;34m\u001b[0m\u001b[0m\n\u001b[0m\u001b[1;32m    405\u001b[0m                 \u001b[0;32myield\u001b[0m \u001b[0mseg\u001b[0m\u001b[0;34m\u001b[0m\u001b[0m\n\u001b[1;32m    406\u001b[0m \u001b[0;34m\u001b[0m\u001b[0m\n",
      "\u001b[0;32m~/anaconda3/lib/python3.6/site-packages/matplotlib/axes/_base.py\u001b[0m in \u001b[0;36m_plot_args\u001b[0;34m(self, tup, kwargs)\u001b[0m\n\u001b[1;32m    382\u001b[0m             \u001b[0mx\u001b[0m\u001b[0;34m,\u001b[0m \u001b[0my\u001b[0m \u001b[0;34m=\u001b[0m \u001b[0mindex_of\u001b[0m\u001b[0;34m(\u001b[0m\u001b[0mtup\u001b[0m\u001b[0;34m[\u001b[0m\u001b[0;34m-\u001b[0m\u001b[0;36m1\u001b[0m\u001b[0;34m]\u001b[0m\u001b[0;34m)\u001b[0m\u001b[0;34m\u001b[0m\u001b[0m\n\u001b[1;32m    383\u001b[0m \u001b[0;34m\u001b[0m\u001b[0m\n\u001b[0;32m--> 384\u001b[0;31m         \u001b[0mx\u001b[0m\u001b[0;34m,\u001b[0m \u001b[0my\u001b[0m \u001b[0;34m=\u001b[0m \u001b[0mself\u001b[0m\u001b[0;34m.\u001b[0m\u001b[0m_xy_from_xy\u001b[0m\u001b[0;34m(\u001b[0m\u001b[0mx\u001b[0m\u001b[0;34m,\u001b[0m \u001b[0my\u001b[0m\u001b[0;34m)\u001b[0m\u001b[0;34m\u001b[0m\u001b[0m\n\u001b[0m\u001b[1;32m    385\u001b[0m \u001b[0;34m\u001b[0m\u001b[0m\n\u001b[1;32m    386\u001b[0m         \u001b[0;32mif\u001b[0m \u001b[0mself\u001b[0m\u001b[0;34m.\u001b[0m\u001b[0mcommand\u001b[0m \u001b[0;34m==\u001b[0m \u001b[0;34m'plot'\u001b[0m\u001b[0;34m:\u001b[0m\u001b[0;34m\u001b[0m\u001b[0m\n",
      "\u001b[0;32m~/anaconda3/lib/python3.6/site-packages/matplotlib/axes/_base.py\u001b[0m in \u001b[0;36m_xy_from_xy\u001b[0;34m(self, x, y)\u001b[0m\n\u001b[1;32m    241\u001b[0m         \u001b[0;32mif\u001b[0m \u001b[0mx\u001b[0m\u001b[0;34m.\u001b[0m\u001b[0mshape\u001b[0m\u001b[0;34m[\u001b[0m\u001b[0;36m0\u001b[0m\u001b[0;34m]\u001b[0m \u001b[0;34m!=\u001b[0m \u001b[0my\u001b[0m\u001b[0;34m.\u001b[0m\u001b[0mshape\u001b[0m\u001b[0;34m[\u001b[0m\u001b[0;36m0\u001b[0m\u001b[0;34m]\u001b[0m\u001b[0;34m:\u001b[0m\u001b[0;34m\u001b[0m\u001b[0m\n\u001b[1;32m    242\u001b[0m             raise ValueError(\"x and y must have same first dimension, but \"\n\u001b[0;32m--> 243\u001b[0;31m                              \"have shapes {} and {}\".format(x.shape, y.shape))\n\u001b[0m\u001b[1;32m    244\u001b[0m         \u001b[0;32mif\u001b[0m \u001b[0mx\u001b[0m\u001b[0;34m.\u001b[0m\u001b[0mndim\u001b[0m \u001b[0;34m>\u001b[0m \u001b[0;36m2\u001b[0m \u001b[0;32mor\u001b[0m \u001b[0my\u001b[0m\u001b[0;34m.\u001b[0m\u001b[0mndim\u001b[0m \u001b[0;34m>\u001b[0m \u001b[0;36m2\u001b[0m\u001b[0;34m:\u001b[0m\u001b[0;34m\u001b[0m\u001b[0m\n\u001b[1;32m    245\u001b[0m             raise ValueError(\"x and y can be no greater than 2-D, but have \"\n",
      "\u001b[0;31mValueError\u001b[0m: x and y must have same first dimension, but have shapes (50,) and (0,)"
     ]
    },
    {
     "data": {
      "image/png": "[encoded data removed]",
      "text/plain": [
       "<matplotlib.figure.Figure at 0x118bf3978>"
      ]
     },
     "metadata": {},
     "output_type": "display_data"
    }
   ],
   "source": [
    "epoch = np.arange(1,epochs+1)\n",
    "plt.figure(figsize=(12, 7))\n",
    "plt.rc('font', family='serif')\n",
    "plt.rc('font', size=20)\n",
    "\n",
    "plt.plot(epoch,loss_train,label='Training loss')\n",
    "plt.plot(epoch,loss_val,c='k',label='Validation loss')\n",
    "plt.xlabel('epoch')\n",
    "plt.ylabel('MSE error')\n",
    "plt.legend()"
   ]
  },
  {
   "cell_type": "code",
   "execution_count": 96,
   "metadata": {},
   "outputs": [],
   "source": [
    "output_test_1 = net.predict(inputs_test_1)\n",
    "output_test_1 = output_test_1.data.numpy()\n",
    "output_test_1 = np.reshape(output_test_1,(251,10,4))\n",
    "\n",
    "output_test_2 = net.predict(inputs_test_2)\n",
    "output_test_2 = output_test_2.data.numpy()\n",
    "output_test_2 = np.reshape(output_test_2,(1007,10,4))\n",
    "\n",
    "output_test_3 = net.predict(inputs_test_3)\n",
    "output_test_3 = output_test_3.data.numpy()\n",
    "output_test_3 = np.reshape(output_test_3,(460,10,4))"
   ]
  },
  {
   "cell_type": "markdown",
   "metadata": {},
   "source": [
    "## Post processing step\n",
    "Go back to coordinate:\n",
    "We have Vx and Vy and we want x and y.\n",
    "$ V = d/t$\n",
    "$ d = V*t$\n",
    "Here t = 0.4s between each point.\n",
    "Start from data at index 9. Then we add d_x and d_y to the last x and y."
   ]
  },
  {
   "cell_type": "markdown",
   "metadata": {},
   "source": [
    "##### Type 1 trajectory"
   ]
  },
  {
   "cell_type": "code",
   "execution_count": 97,
   "metadata": {},
   "outputs": [
    {
     "name": "stdout",
     "output_type": "stream",
     "text": [
      "(251, 10, 4)\n"
     ]
    }
   ],
   "source": [
    "output_coord_1=np.zeros([11,inputs_test_1.shape[2],2])\n",
    "print(output_test_1.shape)\n",
    "for j in range(11):\n",
    "    for i in range(inputs_test_1.shape[2]):\n",
    "        if j==0:\n",
    "            output_coord_1[j,i,0:2] = in_test_coord_1[9,i,0:2]\n",
    "        else:\n",
    "            output_coord_1[j,i,0:2] = output_coord_1[j-1,i,0:2]+output_test_1[i,j-1,2:]*0.4\n",
    "        "
   ]
  },
  {
   "cell_type": "code",
   "execution_count": 98,
   "metadata": {},
   "outputs": [
    {
     "name": "stdout",
     "output_type": "stream",
     "text": [
      "The final distance between the ground trought and the predicted coordinates is : 2.138\n"
     ]
    }
   ],
   "source": [
    "dist = np.zeros(inputs_test_1.shape[2])\n",
    "for i in range(inputs_test_1.shape[2]):\n",
    "    dist[i] = np.sqrt(sum((gt_test_coord_1[10,i,:]-output_coord_1[10,i,:])**2))\n",
    "\n",
    "final_coord_error = np.mean(dist)\n",
    "print('The final distance between the ground trought and the predicted coordinates is :',final_coord_error.round(3))"
   ]
  },
  {
   "cell_type": "code",
   "execution_count": 99,
   "metadata": {},
   "outputs": [
    {
     "name": "stdout",
     "output_type": "stream",
     "text": [
      "The average error between the ground trought and the predicted coordinates is : 0.945\n"
     ]
    }
   ],
   "source": [
    "avr = np.zeros((inputs_test_1.shape[2],11))\n",
    "for i in range(inputs_test_1.shape[2]):\n",
    "    for j in range(11):\n",
    "        avr[i,j] = np.sqrt(sum((gt_test_coord_1[j,i,:]-output_coord_1[j,i,:])**2))\n",
    "\n",
    "average = np.mean(np.mean(avr,1))\n",
    "print('The average error between the ground trought and the predicted coordinates is :',average.round(3))"
   ]
  },
  {
   "cell_type": "code",
   "execution_count": 100,
   "metadata": {},
   "outputs": [
    {
     "data": {
      "text/plain": [
       "(-0.12191566041857005,\n",
       " 0.36022886878997085,\n",
       " -0.05323098882846534,\n",
       " 0.1701538566108793)"
      ]
     },
     "execution_count": 100,
     "metadata": {},
     "output_type": "execute_result"
    },
    {
     "data": {
      "image/png": "[encoded data removed]",
      "text/plain": [
       "<matplotlib.figure.Figure at 0x118bfb9e8>"
      ]
     },
     "metadata": {},
     "output_type": "display_data"
    }
   ],
   "source": [
    "plt.figure(figsize=(12, 7))\n",
    "plt.rc('font', family='serif')\n",
    "plt.rc('font', size=20)\n",
    "\n",
    "ind = np.random.randint(inputs_test_1.shape[1])\n",
    "\n",
    "plt.plot(in_test_coord_1[:,ind,0],in_test_coord_1[:,ind,1],c='b')\n",
    "plt.plot(gt_test_coord_1[:,ind,0],gt_test_coord_1[:,ind,1],c='k')\n",
    "plt.plot(output_coord_1[:,ind,0],output_coord_1[:,ind,1],c='r')\n",
    "plt.axis('equal')"
   ]
  },
  {
   "cell_type": "code",
   "execution_count": 101,
   "metadata": {},
   "outputs": [],
   "source": [
    "output_coord_2=np.zeros([11,inputs_test_2.shape[2],2])\n",
    "for j in range(11):\n",
    "    for i in range(inputs_test_2.shape[2]):\n",
    "        if j==0:\n",
    "            output_coord_2[j,i,0:2] = in_test_coord_2[9,i,0:2]\n",
    "        else:\n",
    "            output_coord_2[j,i,0:2] = output_coord_2[j-1,i,0:2]+output_test_2[i,j-1,2:]*0.4\n",
    "        "
   ]
  },
  {
   "cell_type": "code",
   "execution_count": 102,
   "metadata": {},
   "outputs": [
    {
     "name": "stdout",
     "output_type": "stream",
     "text": [
      "The final distance between the ground trought and the predicted coordinates is : 4.59\n"
     ]
    }
   ],
   "source": [
    "dist = np.zeros(inputs_test_2.shape[2])\n",
    "for i in range(inputs_test_2.shape[2]):\n",
    "    dist[i] = np.sqrt(sum((gt_test_coord_2[10,i,:]-output_coord_2[10,i,:])**2))\n",
    "\n",
    "final_coord_error = np.mean(dist)\n",
    "print('The final distance between the ground trought and the predicted coordinates is :',final_coord_error.round(3))"
   ]
  },
  {
   "cell_type": "code",
   "execution_count": 103,
   "metadata": {},
   "outputs": [
    {
     "name": "stdout",
     "output_type": "stream",
     "text": [
      "The average error between the ground trought and the predicted coordinates is : 2.697\n"
     ]
    }
   ],
   "source": [
    "avr = np.zeros((inputs_test_2.shape[1],11))\n",
    "for i in range(inputs_test_2.shape[1]):\n",
    "    for j in range(11):\n",
    "        avr[i,j] = np.sqrt(sum((gt_test_coord_2[j,i,:]-output_coord_2[j,i,:])**2))\n",
    "\n",
    "average = np.mean(np.mean(avr,1))\n",
    "print('The average error between the ground trought and the predicted coordinates is :',average.round(3))"
   ]
  },
  {
   "cell_type": "code",
   "execution_count": 104,
   "metadata": {},
   "outputs": [
    {
     "data": {
      "text/plain": [
       "(-0.10698990650000001, 2.2467880365, -0.5169107140000001, 10.855124994)"
      ]
     },
     "execution_count": 104,
     "metadata": {},
     "output_type": "execute_result"
    },
    {
     "data": {
      "image/png": "[encoded data removed]",
      "text/plain": [
       "<matplotlib.figure.Figure at 0x118bf3860>"
      ]
     },
     "metadata": {},
     "output_type": "display_data"
    }
   ],
   "source": [
    "plt.figure(figsize=(12, 7))\n",
    "plt.rc('font', family='serif')\n",
    "plt.rc('font', size=20)\n",
    "\n",
    "ind = np.random.randint(inputs_test_2.shape[1])\n",
    "\n",
    "plt.plot(in_test_coord_2[:,ind,0],in_test_coord_2[:,ind,1],c='b')\n",
    "plt.plot(gt_test_coord_2[:,ind,0],gt_test_coord_2[:,ind,1],c='k')\n",
    "plt.plot(output_coord_2[:,ind,0],output_coord_2[:,ind,1],c='r')\n",
    "plt.axis('equal')"
   ]
  },
  {
   "cell_type": "code",
   "execution_count": 109,
   "metadata": {},
   "outputs": [],
   "source": [
    "output_coord_3=np.zeros([11,inputs_test_3.shape[2],2])\n",
    "for j in range(11):\n",
    "    for i in range(inputs_test_3.shape[2]):\n",
    "        if j==0:\n",
    "            output_coord_3[j,i,0:2] = in_test_coord_3[9,i,0:2]\n",
    "        else:\n",
    "            output_coord_3[j,i,0:2] = output_coord_3[j-1,i,0:2]+output_test_3[i,j-1,2:]*0.4\n",
    "        "
   ]
  },
  {
   "cell_type": "code",
   "execution_count": 112,
   "metadata": {},
   "outputs": [
    {
     "name": "stdout",
     "output_type": "stream",
     "text": [
      "The final distance between the ground trought and the predicted coordinates is : 3.688\n"
     ]
    }
   ],
   "source": [
    "dist = np.zeros(inputs_test_3.shape[2])\n",
    "for i in range(inputs_test_3.shape[2]):\n",
    "    dist[i] = np.sqrt(sum((gt_test_coord_3[10,i,:]-output_coord_3[10,i,:])**2))\n",
    "\n",
    "final_coord_error = np.mean(dist)\n",
    "print('The final distance between the ground trought and the predicted coordinates is :',final_coord_error.round(3))"
   ]
  },
  {
   "cell_type": "code",
   "execution_count": 113,
   "metadata": {},
   "outputs": [
    {
     "name": "stdout",
     "output_type": "stream",
     "text": [
      "The average error between the ground trought and the predicted coordinates is : 1.221\n"
     ]
    }
   ],
   "source": [
    "avr = np.zeros((inputs_test_3.shape[1],11))\n",
    "for i in range(inputs_test_3.shape[1]):\n",
    "    for j in range(11):\n",
    "        avr[i,j] = np.sqrt(sum((gt_test_coord_3[j,i,:]-output_coord_3[j,i,:])**2))\n",
    "\n",
    "average = np.mean(np.mean(avr,1))\n",
    "print('The average error between the ground trought and the predicted coordinates is :',average.round(3))"
   ]
  },
  {
   "cell_type": "code",
   "execution_count": 114,
   "metadata": {},
   "outputs": [
    {
     "name": "stdout",
     "output_type": "stream",
     "text": [
      "(11, 460, 2)\n"
     ]
    },
    {
     "data": {
      "text/plain": [
       "(-0.10680068300000001, 2.242814343, -0.520792668, 10.936646028)"
      ]
     },
     "execution_count": 114,
     "metadata": {},
     "output_type": "execute_result"
    },
    {
     "data": {
      "image/png": "[encoded data removed]",
      "text/plain": [
       "<matplotlib.figure.Figure at 0x11ad30860>"
      ]
     },
     "metadata": {},
     "output_type": "display_data"
    }
   ],
   "source": [
    "plt.figure(figsize=(12, 7))\n",
    "plt.rc('font', family='serif')\n",
    "plt.rc('font', size=20)\n",
    "\n",
    "ind = np.random.randint(inputs_test_3.shape[0])\n",
    "\n",
    "plt.plot(in_test_coord_3[:,ind,0],in_test_coord_3[:,ind,1],c='b')\n",
    "plt.plot(gt_test_coord_3[:,ind,0],gt_test_coord_3[:,ind,1],c='k')\n",
    "plt.plot(output_coord_3[:,ind,0],output_coord_3[:,ind,1],c='r')\n",
    "plt.axis('equal')"
   ]
  },
  {
   "cell_type": "code",
   "execution_count": 13,
   "metadata": {},
   "outputs": [
    {
     "data": {
      "text/plain": [
       "torch.Size([10, 1, 460, 272])"
      ]
     },
     "execution_count": 13,
     "metadata": {},
     "output_type": "execute_result"
    }
   ],
   "source": [
    "inputs_test_3.shape"
   ]
  },
  {
   "cell_type": "code",
   "execution_count": null,
   "metadata": {
    "collapsed": true
   },
   "outputs": [],
   "source": []
  }
 ],
 "metadata": {
  "kernelspec": {
   "display_name": "Python 3",
   "language": "python",
   "name": "python3"
  },
  "language_info": {
   "codemirror_mode": {
    "name": "ipython",
    "version": 3
   },
   "file_extension": ".py",
   "mimetype": "text/x-python",
   "name": "python",
   "nbconvert_exporter": "python",
   "pygments_lexer": "ipython3",
   "version": "3.6.3"
  }
 },
 "nbformat": 4,
 "nbformat_minor": 2
}
