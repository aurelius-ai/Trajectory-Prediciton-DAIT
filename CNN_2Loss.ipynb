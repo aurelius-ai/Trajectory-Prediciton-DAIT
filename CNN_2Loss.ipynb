{
 "cells": [
  {
   "cell_type": "code",
   "execution_count": 7,
   "metadata": {},
   "outputs": [
    {
     "data": {
      "text/plain": [
       "<torch._C.Generator at 0x113270750>"
      ]
     },
     "execution_count": 7,
     "metadata": {},
     "output_type": "execute_result"
    }
   ],
   "source": [
    "import torch\n",
    "from torch import nn\n",
    "from torch.autograd import Variable\n",
    "import torchvision.datasets as dsets\n",
    "import torchvision.transforms as transforms\n",
    "import matplotlib.pyplot as plt\n",
    "from CNN2D import *\n",
    "import pandas as pd\n",
    "import numpy as np\n",
    "import torch.utils.data as utils\n",
    "import time\n",
    "import os\n",
    "import pickle\n",
    "\n",
    "import pdb\n",
    "\n",
    "# For the notebook\n",
    "%matplotlib inline\n",
    "%reload_ext autoreload\n",
    "%autoreload 2\n",
    "\n",
    "torch.manual_seed(1)"
   ]
  },
  {
   "cell_type": "markdown",
   "metadata": {},
   "source": [
    "## TRAIN SET"
   ]
  },
  {
   "cell_type": "code",
   "execution_count": 121,
   "metadata": {
    "scrolled": false
   },
   "outputs": [
    {
     "data": {
      "text/plain": [
       "(torch.Size([5157, 1, 10, 244]), torch.Size([5157, 1, 11, 4]))"
      ]
     },
     "execution_count": 121,
     "metadata": {},
     "output_type": "execute_result"
    }
   ],
   "source": [
    "gt_train_coord = pickle.load( open( \"./import_dataset_3/train/gt_train_coord.pkl\", \"rb\" ) )\n",
    "gt_train  = pickle.load( open( \"./import_dataset_3/train/gt_train.pkl\", \"rb\" ) )\n",
    "in_train_coord  = pickle.load( open( \"./import_dataset_3/train/in_train_coord.pkl\", \"rb\" ) )\n",
    "inputs_train = pickle.load( open( \"./import_dataset_3/train/inputs_train.pkl\", \"rb\" ) )\n",
    "\n",
    "inputs_train = torch.from_numpy(inputs_train).float()\n",
    "gt_train = torch.from_numpy(gt_train).float()\n",
    "\n",
    "gt_train = gt_train.unsqueeze(1) # add 1 dimension to the training set\n",
    "inputs_train = inputs_train.unsqueeze(1) # add 1 dimension to the training set\n",
    "\n",
    "inputs_train.shape,gt_train.shape"
   ]
  },
  {
   "cell_type": "markdown",
   "metadata": {},
   "source": [
    "## VALIDATION SET"
   ]
  },
  {
   "cell_type": "code",
   "execution_count": 122,
   "metadata": {},
   "outputs": [
    {
     "name": "stdout",
     "output_type": "stream",
     "text": [
      "torch.Size([1719, 1, 10, 244])\n"
     ]
    },
    {
     "data": {
      "text/plain": [
       "((11, 1719, 2),\n",
       " torch.Size([1719, 1, 11, 4]),\n",
       " (10, 1719, 2),\n",
       " torch.Size([1719, 1, 10, 244]))"
      ]
     },
     "execution_count": 122,
     "metadata": {},
     "output_type": "execute_result"
    }
   ],
   "source": [
    "gt_validation_coord = pickle.load( open( \"./import_dataset_3/validation/gt_validation_coord.pkl\", \"rb\" ) )\n",
    "gt_validation = pickle.load( open( \"./import_dataset_3/validation/gt_validation.pkl\", \"rb\" ) )\n",
    "in_validation_coord = pickle.load( open( \"./import_dataset_3/validation/in_validation_coord.pkl\", \"rb\" ) )\n",
    "inputs_validation = pickle.load( open( \"./import_dataset_3/validation/inputs_validation.pkl\", \"rb\" ) )\n",
    "\n",
    "inputs_validation = torch.from_numpy(inputs_validation).float()\n",
    "gt_validation = torch.from_numpy(gt_validation).float()\n",
    "\n",
    "gt_validation = gt_validation.unsqueeze(1) # add 1 dimension to the training set\n",
    "inputs_validation = inputs_validation.unsqueeze(1) # add 1 dimension to the training set\n",
    "print (inputs_validation.shape)\n",
    "\n",
    "gt_validation_coord.shape,gt_validation.shape,in_validation_coord.shape,inputs_validation.shape"
   ]
  },
  {
   "cell_type": "markdown",
   "metadata": {},
   "source": [
    "## TEST SET"
   ]
  },
  {
   "cell_type": "code",
   "execution_count": 123,
   "metadata": {},
   "outputs": [
    {
     "name": "stdout",
     "output_type": "stream",
     "text": [
      "torch.Size([10, 1, 251, 244])\n"
     ]
    }
   ],
   "source": [
    "gt_test_coord_1 = pickle.load( open( \"./import_dataset_3/test/gt_test_coord_1.pkl\", \"rb\" ) )\n",
    "gt_test_1 = pickle.load( open( \"./import_dataset_3/test/gt_test_1.pkl\", \"rb\" ) )\n",
    "in_test_coord_1 = pickle.load( open( \"./import_dataset_3/test/in_test_coord_1.pkl\", \"rb\" ) )\n",
    "inputs_test_1 = pickle.load( open( \"./import_dataset_3/test/inputs_test_1.pkl\", \"rb\" ) )\n",
    "\n",
    "gt_test_coord_2 = pickle.load( open( \"./import_dataset_3/test/gt_test_coord_2.pkl\", \"rb\" ) )\n",
    "gt_test_2 = pickle.load( open( \"./import_dataset_3/test/gt_test_2.pkl\", \"rb\" ) )\n",
    "in_test_coord_2 = pickle.load( open( \"./import_dataset_3/test/in_test_coord_2.pkl\", \"rb\" ) )\n",
    "inputs_test_2 = pickle.load( open( \"./import_dataset_3/test/inputs_test_2.pkl\", \"rb\" ) )\n",
    "\n",
    "gt_test_coord_3 = pickle.load( open( \"./import_dataset_3/test/gt_test_coord_3.pkl\", \"rb\" ) )\n",
    "gt_test_3 = pickle.load( open( \"./import_dataset_3/test/gt_test_3.pkl\", \"rb\" ) )\n",
    "in_test_coord_3 = pickle.load( open( \"./import_dataset_3/test/in_test_coord_3.pkl\", \"rb\" ) )\n",
    "inputs_test_3 = pickle.load( open( \"./import_dataset_3/test/inputs_test_3.pkl\", \"rb\" ) )\n",
    "\n",
    "inputs_test_1 = torch.from_numpy(inputs_test_1).float()\n",
    "gt_test_1 = torch.from_numpy(gt_test_1).float()\n",
    "inputs_test_1 = inputs_test_1.unsqueeze(1) \n",
    "\n",
    "inputs_test_2 = torch.from_numpy(inputs_test_2).float()\n",
    "gt_test_2 = torch.from_numpy(gt_test_2).float()\n",
    "inputs_test_2 = inputs_test_2.unsqueeze(1)\n",
    "\n",
    "inputs_test_3 = torch.from_numpy(inputs_test_3).float()\n",
    "gt_test_3 = torch.from_numpy(gt_test_3).float()\n",
    "inputs_test_3 = inputs_test_3.unsqueeze(1)\n",
    "print (inputs_test_1.shape)"
   ]
  },
  {
   "cell_type": "code",
   "execution_count": 124,
   "metadata": {
    "collapsed": true
   },
   "outputs": [],
   "source": [
    "net = CNN2D()\n",
    "criterion = torch.nn.MSELoss()\n",
    "optimizer = torch.optim.Adam(net.parameters(), lr=0.0001, weight_decay=1e-4)\n",
    "\n",
    "traindataset = utils.TensorDataset(inputs_train, gt_train[:,:,1:,:])\n",
    "trainloader = utils.DataLoader(traindataset, batch_size=16, shuffle=True)\n",
    "\n",
    "valdataset = utils.TensorDataset(inputs_validation, gt_validation[:,:,1:,:])\n",
    "valloader = utils.DataLoader(valdataset, batch_size=16, shuffle=True)"
   ]
  },
  {
   "cell_type": "code",
   "execution_count": 125,
   "metadata": {
    "scrolled": true
   },
   "outputs": [
    {
     "name": "stdout",
     "output_type": "stream",
     "text": [
      "Epoch: 1/150.. Validation Loss: 2.8562.. Training Loss: 4.1463.. 0.0420 s/batch \n",
      "Epoch: 2/150.. Validation Loss: 2.1093.. Training Loss: 2.4535.. 0.0404 s/batch \n",
      "Epoch: 3/150.. Validation Loss: 1.5413.. Training Loss: 1.7611.. 0.0380 s/batch \n",
      "Epoch: 4/150.. Validation Loss: 1.2597.. Training Loss: 1.3697.. 0.0390 s/batch \n",
      "Epoch: 5/150.. Validation Loss: 1.1750.. Training Loss: 1.1676.. 0.0413 s/batch \n",
      "Epoch: 6/150.. Validation Loss: 1.0744.. Training Loss: 1.0610.. 0.0396 s/batch \n",
      "Epoch: 7/150.. Validation Loss: 1.0083.. Training Loss: 0.9929.. 0.0423 s/batch \n",
      "Epoch: 8/150.. Validation Loss: 0.9612.. Training Loss: 0.9363.. 0.0511 s/batch \n",
      "Epoch: 9/150.. Validation Loss: 0.9285.. Training Loss: 0.8870.. 0.0410 s/batch \n",
      "Epoch: 10/150.. Validation Loss: 0.8700.. Training Loss: 0.8382.. 0.0399 s/batch \n",
      "Epoch: 11/150.. Validation Loss: 0.8242.. Training Loss: 0.7852.. 0.0423 s/batch \n",
      "Epoch: 12/150.. Validation Loss: 0.7726.. Training Loss: 0.7265.. 0.0410 s/batch \n",
      "Epoch: 13/150.. Validation Loss: 0.7396.. Training Loss: 0.6839.. 0.0380 s/batch \n",
      "Epoch: 14/150.. Validation Loss: 0.7148.. Training Loss: 0.6293.. 0.0412 s/batch \n",
      "Epoch: 15/150.. Validation Loss: 0.6861.. Training Loss: 0.5945.. 0.0421 s/batch \n",
      "Epoch: 16/150.. Validation Loss: 0.6433.. Training Loss: 0.5753.. 0.0395 s/batch \n",
      "Epoch: 17/150.. Validation Loss: 0.6190.. Training Loss: 0.5427.. 0.0412 s/batch \n",
      "Epoch: 18/150.. Validation Loss: 0.5947.. Training Loss: 0.5143.. 0.0392 s/batch \n",
      "Epoch: 19/150.. Validation Loss: 0.5974.. Training Loss: 0.5054.. 0.0397 s/batch \n",
      "Epoch: 20/150.. Validation Loss: 0.5584.. Training Loss: 0.4760.. 0.0422 s/batch \n",
      "Epoch: 21/150.. Validation Loss: 0.5448.. Training Loss: 0.4600.. 0.0403 s/batch \n",
      "Epoch: 22/150.. Validation Loss: 0.5445.. Training Loss: 0.4491.. 0.0481 s/batch \n",
      "Epoch: 23/150.. Validation Loss: 0.5332.. Training Loss: 0.4334.. 0.0425 s/batch \n",
      "Epoch: 24/150.. Validation Loss: 0.5268.. Training Loss: 0.4340.. 0.0404 s/batch \n",
      "Epoch: 25/150.. Validation Loss: 0.5078.. Training Loss: 0.4152.. 0.0406 s/batch \n",
      "Epoch: 26/150.. Validation Loss: 0.5102.. Training Loss: 0.4042.. 0.0396 s/batch \n",
      "Epoch: 27/150.. Validation Loss: 0.5139.. Training Loss: 0.4083.. 0.0412 s/batch \n",
      "Epoch: 28/150.. Validation Loss: 0.5037.. Training Loss: 0.3981.. 0.0381 s/batch \n",
      "Epoch: 29/150.. Validation Loss: 0.4818.. Training Loss: 0.3883.. 0.0391 s/batch \n",
      "Epoch: 30/150.. Validation Loss: 0.4805.. Training Loss: 0.3769.. 0.0422 s/batch \n",
      "Epoch: 31/150.. Validation Loss: 0.4780.. Training Loss: 0.3683.. 0.0379 s/batch \n",
      "Epoch: 32/150.. Validation Loss: 0.4821.. Training Loss: 0.3696.. 0.0408 s/batch \n",
      "Epoch: 33/150.. Validation Loss: 0.4712.. Training Loss: 0.3675.. 0.0409 s/batch \n",
      "Epoch: 34/150.. Validation Loss: 0.4825.. Training Loss: 0.3558.. 0.0384 s/batch \n",
      "Epoch: 35/150.. Validation Loss: 0.4757.. Training Loss: 0.3615.. 0.0431 s/batch \n",
      "Epoch: 36/150.. Validation Loss: 0.4524.. Training Loss: 0.3432.. 0.0389 s/batch \n",
      "Epoch: 37/150.. Validation Loss: 0.4926.. Training Loss: 0.3419.. 0.0387 s/batch \n",
      "Epoch: 38/150.. Validation Loss: 0.4670.. Training Loss: 0.3374.. 0.0423 s/batch \n",
      "Epoch: 39/150.. Validation Loss: 0.4490.. Training Loss: 0.3330.. 0.0384 s/batch \n",
      "Epoch: 40/150.. Validation Loss: 0.4466.. Training Loss: 0.3275.. 0.0420 s/batch \n",
      "Epoch: 41/150.. Validation Loss: 0.4560.. Training Loss: 0.3225.. 0.0424 s/batch \n",
      "Epoch: 42/150.. Validation Loss: 0.4404.. Training Loss: 0.3236.. 0.0391 s/batch \n",
      "Epoch: 43/150.. Validation Loss: 0.4480.. Training Loss: 0.3150.. 0.0430 s/batch \n",
      "Epoch: 44/150.. Validation Loss: 0.4238.. Training Loss: 0.3156.. 0.0395 s/batch \n",
      "Epoch: 45/150.. Validation Loss: 0.4837.. Training Loss: 0.3106.. 0.0390 s/batch \n",
      "Epoch: 46/150.. Validation Loss: 0.4353.. Training Loss: 0.3157.. 0.0423 s/batch \n",
      "Epoch: 47/150.. Validation Loss: 0.4320.. Training Loss: 0.3097.. 0.0392 s/batch \n",
      "Epoch: 48/150.. Validation Loss: 0.4192.. Training Loss: 0.3020.. 0.0427 s/batch \n",
      "Epoch: 49/150.. Validation Loss: 0.4388.. Training Loss: 0.2993.. 0.0400 s/batch \n",
      "Epoch: 50/150.. Validation Loss: 0.4251.. Training Loss: 0.2982.. 0.0420 s/batch \n",
      "Epoch: 51/150.. Validation Loss: 0.4210.. Training Loss: 0.2969.. 0.0413 s/batch \n",
      "Epoch: 52/150.. Validation Loss: 0.4307.. Training Loss: 0.2858.. 0.0410 s/batch \n",
      "Epoch: 53/150.. Validation Loss: 0.4358.. Training Loss: 0.2860.. 0.0423 s/batch \n",
      "Epoch: 54/150.. Validation Loss: 0.4327.. Training Loss: 0.2862.. 0.0401 s/batch \n",
      "Epoch: 55/150.. Validation Loss: 0.4349.. Training Loss: 0.2804.. 0.0423 s/batch \n",
      "Epoch: 56/150.. Validation Loss: 0.4216.. Training Loss: 0.2842.. 0.0390 s/batch \n",
      "Epoch: 57/150.. Validation Loss: 0.4188.. Training Loss: 0.2797.. 0.0401 s/batch \n",
      "Epoch: 58/150.. Validation Loss: 0.4068.. Training Loss: 0.2817.. 0.0416 s/batch \n",
      "Epoch: 59/150.. Validation Loss: 0.4308.. Training Loss: 0.2758.. 0.0422 s/batch \n",
      "Epoch: 60/150.. Validation Loss: 0.4300.. Training Loss: 0.2706.. 0.0407 s/batch \n",
      "Epoch: 61/150.. Validation Loss: 0.4215.. Training Loss: 0.2756.. 0.0424 s/batch \n",
      "Epoch: 62/150.. Validation Loss: 0.4338.. Training Loss: 0.2678.. 0.0402 s/batch \n",
      "Epoch: 63/150.. Validation Loss: 0.4092.. Training Loss: 0.2703.. 0.0429 s/batch \n",
      "Epoch: 64/150.. Validation Loss: 0.4065.. Training Loss: 0.2745.. 0.0395 s/batch \n",
      "Epoch: 65/150.. Validation Loss: 0.4147.. Training Loss: 0.2620.. 0.0430 s/batch \n",
      "Epoch: 66/150.. Validation Loss: 0.4162.. Training Loss: 0.2619.. 0.0446 s/batch \n",
      "Epoch: 67/150.. Validation Loss: 0.4172.. Training Loss: 0.2612.. 0.0403 s/batch \n",
      "Epoch: 68/150.. Validation Loss: 0.4121.. Training Loss: 0.2586.. 0.0426 s/batch \n",
      "Epoch: 69/150.. Validation Loss: 0.4332.. Training Loss: 0.2551.. 0.0409 s/batch \n",
      "Epoch: 70/150.. Validation Loss: 0.4041.. Training Loss: 0.2523.. 0.0409 s/batch \n",
      "Epoch: 71/150.. Validation Loss: 0.4108.. Training Loss: 0.2515.. 0.0350 s/batch \n",
      "Epoch: 72/150.. Validation Loss: 0.4028.. Training Loss: 0.2492.. 0.0341 s/batch \n",
      "Epoch: 73/150.. Validation Loss: 0.4043.. Training Loss: 0.2505.. 0.0346 s/batch \n",
      "Epoch: 74/150.. Validation Loss: 0.4249.. Training Loss: 0.2434.. 0.0349 s/batch \n",
      "Epoch: 75/150.. Validation Loss: 0.4061.. Training Loss: 0.2475.. 0.0349 s/batch \n",
      "Epoch: 76/150.. Validation Loss: 0.4037.. Training Loss: 0.2490.. 0.0337 s/batch \n",
      "Epoch: 77/150.. Validation Loss: 0.4160.. Training Loss: 0.2435.. 0.0355 s/batch \n",
      "Epoch: 78/150.. Validation Loss: 0.4083.. Training Loss: 0.2402.. 0.0335 s/batch \n",
      "Epoch: 79/150.. Validation Loss: 0.3976.. Training Loss: 0.2386.. 0.0355 s/batch \n",
      "Epoch: 80/150.. Validation Loss: 0.3974.. Training Loss: 0.2326.. 0.0336 s/batch \n",
      "Epoch: 81/150.. Validation Loss: 0.4106.. Training Loss: 0.2357.. 0.0358 s/batch \n",
      "Epoch: 82/150.. Validation Loss: 0.4168.. Training Loss: 0.2361.. 0.0328 s/batch \n",
      "Epoch: 83/150.. Validation Loss: 0.4001.. Training Loss: 0.2347.. 0.0365 s/batch \n",
      "Epoch: 84/150.. Validation Loss: 0.4006.. Training Loss: 0.2299.. 0.0328 s/batch \n",
      "Epoch: 85/150.. Validation Loss: 0.4104.. Training Loss: 0.2314.. 0.0366 s/batch \n",
      "Epoch: 86/150.. Validation Loss: 0.3982.. Training Loss: 0.2315.. 0.0334 s/batch \n",
      "Epoch: 87/150.. Validation Loss: 0.4029.. Training Loss: 0.2268.. 0.0356 s/batch \n",
      "Epoch: 88/150.. Validation Loss: 0.3979.. Training Loss: 0.2268.. 0.0333 s/batch \n",
      "Epoch: 89/150.. Validation Loss: 0.4016.. Training Loss: 0.2256.. 0.0363 s/batch \n",
      "Epoch: 90/150.. Validation Loss: 0.4013.. Training Loss: 0.2307.. 0.0336 s/batch \n",
      "Epoch: 91/150.. Validation Loss: 0.3993.. Training Loss: 0.2266.. 0.0329 s/batch \n",
      "Epoch: 92/150.. Validation Loss: 0.4050.. Training Loss: 0.2187.. 0.0264 s/batch \n",
      "Epoch: 93/150.. Validation Loss: 0.3907.. Training Loss: 0.2247.. 0.0291 s/batch \n",
      "Epoch: 94/150.. Validation Loss: 0.4356.. Training Loss: 0.2289.. 0.0324 s/batch \n",
      "Epoch: 95/150.. Validation Loss: 0.4043.. Training Loss: 0.2216.. 0.0246 s/batch \n",
      "Epoch: 96/150.. Validation Loss: 0.4222.. Training Loss: 0.2192.. 0.0249 s/batch \n",
      "Epoch: 97/150.. Validation Loss: 0.3976.. Training Loss: 0.2272.. 0.0282 s/batch \n",
      "Epoch: 98/150.. Validation Loss: 0.4153.. Training Loss: 0.2239.. 0.0258 s/batch \n",
      "Epoch: 99/150.. Validation Loss: 0.4203.. Training Loss: 0.2159.. 0.0261 s/batch \n",
      "Epoch: 100/150.. Validation Loss: 0.4181.. Training Loss: 0.2214.. 0.0276 s/batch \n",
      "Epoch: 101/150.. Validation Loss: 0.4197.. Training Loss: 0.2215.. 0.0265 s/batch \n"
     ]
    },
    {
     "name": "stdout",
     "output_type": "stream",
     "text": [
      "Epoch: 102/150.. Validation Loss: 0.4024.. Training Loss: 0.2117.. 0.0284 s/batch \n",
      "Epoch: 103/150.. Validation Loss: 0.4030.. Training Loss: 0.2111.. 0.0255 s/batch \n",
      "Epoch: 104/150.. Validation Loss: 0.4109.. Training Loss: 0.2147.. 0.0259 s/batch \n",
      "Epoch: 105/150.. Validation Loss: 0.4077.. Training Loss: 0.2112.. 0.0332 s/batch \n",
      "Epoch: 106/150.. Validation Loss: 0.3969.. Training Loss: 0.2103.. 0.0309 s/batch \n",
      "Epoch: 107/150.. Validation Loss: 0.4450.. Training Loss: 0.2111.. 0.0331 s/batch \n",
      "Epoch: 108/150.. Validation Loss: 0.4070.. Training Loss: 0.2091.. 0.0315 s/batch \n",
      "Epoch: 109/150.. Validation Loss: 0.4163.. Training Loss: 0.2080.. 0.0281 s/batch \n",
      "Epoch: 110/150.. Validation Loss: 0.4019.. Training Loss: 0.2043.. 0.0316 s/batch \n",
      "Epoch: 111/150.. Validation Loss: 0.3971.. Training Loss: 0.2037.. 0.0294 s/batch \n",
      "Epoch: 112/150.. Validation Loss: 0.4221.. Training Loss: 0.2105.. 0.0296 s/batch \n",
      "Epoch: 113/150.. Validation Loss: 0.4140.. Training Loss: 0.2044.. 0.0324 s/batch \n",
      "Epoch: 114/150.. Validation Loss: 0.4007.. Training Loss: 0.2038.. 0.0288 s/batch \n",
      "Epoch: 115/150.. Validation Loss: 0.4092.. Training Loss: 0.2025.. 0.0305 s/batch \n",
      "Epoch: 116/150.. Validation Loss: 0.4088.. Training Loss: 0.2062.. 0.0315 s/batch \n",
      "Epoch: 117/150.. Validation Loss: 0.4210.. Training Loss: 0.2031.. 0.0303 s/batch \n",
      "Epoch: 118/150.. Validation Loss: 0.4000.. Training Loss: 0.2002.. 0.0328 s/batch \n",
      "Epoch: 119/150.. Validation Loss: 0.4038.. Training Loss: 0.1982.. 0.0296 s/batch \n",
      "Epoch: 120/150.. Validation Loss: 0.4100.. Training Loss: 0.2024.. 0.0301 s/batch \n",
      "Epoch: 121/150.. Validation Loss: 0.4113.. Training Loss: 0.2001.. 0.0332 s/batch \n",
      "Epoch: 122/150.. Validation Loss: 0.4071.. Training Loss: 0.2038.. 0.0280 s/batch \n",
      "Epoch: 123/150.. Validation Loss: 0.4046.. Training Loss: 0.2004.. 0.0296 s/batch \n",
      "Epoch: 124/150.. Validation Loss: 0.4188.. Training Loss: 0.2022.. 0.0283 s/batch \n",
      "Epoch: 125/150.. Validation Loss: 0.4057.. Training Loss: 0.1971.. 0.0278 s/batch \n",
      "Epoch: 126/150.. Validation Loss: 0.4116.. Training Loss: 0.1954.. 0.0340 s/batch \n",
      "Epoch: 127/150.. Validation Loss: 0.4059.. Training Loss: 0.1997.. 0.0270 s/batch \n",
      "Epoch: 128/150.. Validation Loss: 0.4042.. Training Loss: 0.1947.. 0.0254 s/batch \n",
      "Epoch: 129/150.. Validation Loss: 0.4155.. Training Loss: 0.1916.. 0.0296 s/batch \n",
      "Epoch: 130/150.. Validation Loss: 0.4041.. Training Loss: 0.1937.. 0.0271 s/batch \n",
      "Epoch: 131/150.. Validation Loss: 0.4092.. Training Loss: 0.1989.. 0.0304 s/batch \n",
      "Epoch: 132/150.. Validation Loss: 0.4046.. Training Loss: 0.1890.. 0.0298 s/batch \n",
      "Epoch: 133/150.. Validation Loss: 0.4049.. Training Loss: 0.1897.. 0.0251 s/batch \n",
      "Epoch: 134/150.. Validation Loss: 0.4185.. Training Loss: 0.1917.. 0.0305 s/batch \n",
      "Epoch: 135/150.. Validation Loss: 0.4054.. Training Loss: 0.1885.. 0.0318 s/batch \n",
      "Epoch: 136/150.. Validation Loss: 0.4054.. Training Loss: 0.1928.. 0.0294 s/batch \n",
      "Epoch: 137/150.. Validation Loss: 0.4091.. Training Loss: 0.1921.. 0.0322 s/batch \n",
      "Epoch: 138/150.. Validation Loss: 0.4047.. Training Loss: 0.1892.. 0.0300 s/batch \n",
      "Epoch: 139/150.. Validation Loss: 0.4080.. Training Loss: 0.1834.. 0.0320 s/batch \n",
      "Epoch: 140/150.. Validation Loss: 0.4096.. Training Loss: 0.1915.. 0.0324 s/batch \n",
      "Epoch: 141/150.. Validation Loss: 0.4065.. Training Loss: 0.1873.. 0.0273 s/batch \n",
      "Epoch: 142/150.. Validation Loss: 0.4031.. Training Loss: 0.1849.. 0.0333 s/batch \n",
      "Epoch: 143/150.. Validation Loss: 0.4003.. Training Loss: 0.1835.. 0.0305 s/batch \n",
      "Epoch: 144/150.. Validation Loss: 0.4109.. Training Loss: 0.1835.. 0.0331 s/batch \n",
      "Epoch: 145/150.. Validation Loss: 0.4029.. Training Loss: 0.1857.. 0.0319 s/batch \n",
      "Epoch: 146/150.. Validation Loss: 0.4111.. Training Loss: 0.1884.. 0.0276 s/batch \n",
      "Epoch: 147/150.. Validation Loss: 0.3980.. Training Loss: 0.1845.. 0.0290 s/batch \n",
      "Epoch: 148/150.. Validation Loss: 0.4167.. Training Loss: 0.1820.. 0.0323 s/batch \n",
      "Epoch: 149/150.. Validation Loss: 0.4117.. Training Loss: 0.1857.. 0.0288 s/batch \n",
      "Epoch: 150/150.. Validation Loss: 0.4164.. Training Loss: 0.1845.. 0.0288 s/batch \n"
     ]
    }
   ],
   "source": [
    "epochs = 150\n",
    "steps = 0\n",
    "running_loss = 0\n",
    "print_every = 323\n",
    "loss_train = []\n",
    "loss_val = []\n",
    "\n",
    "for e in range(epochs):\n",
    "    start = time.time()\n",
    "    steps_bis = 0\n",
    "    total_train_loss=0\n",
    "    for train_coord, ground_tru in iter(trainloader):\n",
    "        \n",
    "        steps += 1\n",
    "        steps_bis += 1\n",
    "\n",
    "        input_train = Variable(train_coord)\n",
    "        in_train = input_train.squeeze(1)\n",
    "        target = Variable(ground_tru)\n",
    "        targets = target.squeeze(1)\n",
    "        optimizer.zero_grad()\n",
    "        #print(in_train.shape)\n",
    "        #print(targets.shape)\n",
    "        out = net.forward(input_train)\n",
    "        out = out.reshape(out.shape[0],10,4)\n",
    "        loss1 = (criterion(out[:,:,0:2], targets[:,:,0:2]))\n",
    "        loss2 = (criterion(out[:,:,2:], targets[:,:,2:]))\n",
    "        \n",
    "        loss1.backward(retain_graph=True)\n",
    "        loss2.backward(retain_graph=True)\n",
    "        optimizer.step()\n",
    "        \n",
    "        running_loss += (loss1+loss2).item()\n",
    "        total_train_loss += (loss1+loss2).item()\n",
    "        \n",
    "        if steps % print_every == 0:\n",
    "            stop = time.time()\n",
    "            val_loss=0\n",
    "            \n",
    "            for ii, (images, labels) in enumerate(valloader):\n",
    "                \n",
    "                inp = Variable(images)\n",
    "                input_val = inp.squeeze(1)\n",
    "                lab = Variable(labels)\n",
    "                valgt = lab.squeeze(1)\n",
    "                predicted = net.predict(inp)\n",
    "                predicted = predicted.reshape(predicted.shape[0],10,4)\n",
    "                predicted_bis = predicted[:,:,0:2].clone()\n",
    "                \n",
    "                val_loss+= (criterion(predicted[:,:,0:2],valgt[:,:,0:2]).item()\n",
    "                                + criterion(predicted[:,:,2:],valgt[:,:,2:]).item())\n",
    "                                #+ criterion(predicted_bis, valgt[:,:,0:2]).item())\n",
    "                \n",
    "            print(\"Epoch: {}/{}..\".format(e+1, epochs),\n",
    "                  \"Validation Loss: {:.4f}..\".format(val_loss/ii),\n",
    "                  \"Training Loss: {:.4f}..\".format(running_loss/print_every),\n",
    "                  \"{:.4f} s/batch \".format((stop - start)/print_every),\n",
    "                 )\n",
    "            loss_val.append(val_loss/ii)\n",
    "            running_loss = 0\n",
    "            start = time.time()\n",
    "    loss_train.append(total_train_loss/steps_bis)"
   ]
  },
  {
   "cell_type": "code",
   "execution_count": 126,
   "metadata": {},
   "outputs": [
    {
     "data": {
      "text/plain": [
       "<matplotlib.legend.Legend at 0x11a7ae7f0>"
      ]
     },
     "execution_count": 126,
     "metadata": {},
     "output_type": "execute_result"
    },
    {
     "data": {
      "image/png": "[encoded data removed]",
      "text/plain": [
       "<matplotlib.figure.Figure at 0x119251fd0>"
      ]
     },
     "metadata": {},
     "output_type": "display_data"
    }
   ],
   "source": [
    "epoch = np.arange(1,epochs+1)\n",
    "plt.figure(figsize=(12, 7))\n",
    "plt.rc('font', family='serif')\n",
    "plt.rc('font', size=20)\n",
    "\n",
    "plt.plot(epoch,loss_train,label='Training loss')\n",
    "plt.plot(epoch,loss_val,c='k',label='Validation loss')\n",
    "plt.xlabel('epoch')\n",
    "plt.ylabel('MSE error')\n",
    "plt.legend()"
   ]
  },
  {
   "cell_type": "code",
   "execution_count": 127,
   "metadata": {},
   "outputs": [
    {
     "name": "stdout",
     "output_type": "stream",
     "text": [
      "torch.Size([10, 1, 251, 244])\n"
     ]
    }
   ],
   "source": [
    "print(inputs_test_1.shape)\n",
    "output_test_1 = net.predict(inputs_test_1)\n",
    "output_test_1 = output_test_1.data.numpy()\n",
    "output_test_1 = np.reshape(output_test_1,(250,10,4))\n",
    "\n",
    "output_test_2 = net.predict(inputs_test_2)\n",
    "output_test_2 = output_test_2.data.numpy()\n",
    "output_test_2 = np.reshape(output_test_2,(1006,10,4))\n",
    "\n",
    "output_test_3 = net.predict(inputs_test_3)\n",
    "output_test_3 = output_test_3.data.numpy()\n",
    "output_test_3 = np.reshape(output_test_3,(460,10,4))"
   ]
  },
  {
   "cell_type": "markdown",
   "metadata": {},
   "source": [
    "## Post processing step\n",
    "Go back to coordinate:\n",
    "We have Vx and Vy and we want x and y.\n",
    "$ V = d/t$\n",
    "$ d = V*t$\n",
    "Here t = 0.4s between each point.\n",
    "Start from data at index 9. Then we add d_x and d_y to the last x and y."
   ]
  },
  {
   "cell_type": "markdown",
   "metadata": {},
   "source": [
    "##### Type 1 trajectory"
   ]
  },
  {
   "cell_type": "code",
   "execution_count": 128,
   "metadata": {},
   "outputs": [],
   "source": [
    "output_coord_1=np.zeros([11,inputs_test_1.shape[2],2])\n",
    "for j in range(11):\n",
    "    for i in range(output_test_1.shape[0]):\n",
    "        if j==0:\n",
    "            output_coord_1[j,i,0:2] = in_test_coord_1[9,i,0:2]\n",
    "        else:\n",
    "            output_coord_1[j,i,0:2] = output_coord_1[j-1,i,0:2]+output_test_1[i,j-1,2:]*0.4"
   ]
  },
  {
   "cell_type": "code",
   "execution_count": 129,
   "metadata": {},
   "outputs": [
    {
     "name": "stdout",
     "output_type": "stream",
     "text": [
      "The final distance between the ground trought and the predicted coordinates is : 2.727\n"
     ]
    }
   ],
   "source": [
    "dist = np.zeros(output_coord_1.shape[1])\n",
    "for i in range(gt_test_coord_1.shape[1]):\n",
    "    dist[i] = np.sqrt(sum((gt_test_coord_1[10,i,:]-output_coord_1[10,i,:])**2))\n",
    "\n",
    "final_coord_error = np.mean(dist)\n",
    "print('The final distance between the ground trought and the predicted coordinates is :',final_coord_error.round(3))"
   ]
  },
  {
   "cell_type": "code",
   "execution_count": 130,
   "metadata": {},
   "outputs": [
    {
     "name": "stdout",
     "output_type": "stream",
     "text": [
      "The average error between the ground trought and the predicted coordinates is : 1.269\n"
     ]
    }
   ],
   "source": [
    "avr = np.zeros((gt_test_coord_1.shape[1],11))\n",
    "for i in range(gt_test_coord_1.shape[1]):\n",
    "    for j in range(11):\n",
    "        avr[i,j] = np.sqrt(sum((gt_test_coord_1[j,i,:]-output_coord_1[j,i,:])**2))\n",
    "\n",
    "average = np.mean(np.mean(avr,1))\n",
    "print('The average error between the ground trought and the predicted coordinates is :',average.round(3))"
   ]
  },
  {
   "cell_type": "code",
   "execution_count": 131,
   "metadata": {},
   "outputs": [
    {
     "data": {
      "text/plain": [
       "(-2.135967691272497,\n",
       " 0.22742703291773797,\n",
       " -1.0229327189624309,\n",
       " 0.21633012947440147)"
      ]
     },
     "execution_count": 131,
     "metadata": {},
     "output_type": "execute_result"
    },
    {
     "data": {
      "image/png": "[encoded data removed]",
      "text/plain": [
       "<matplotlib.figure.Figure at 0x11930f860>"
      ]
     },
     "metadata": {},
     "output_type": "display_data"
    }
   ],
   "source": [
    "plt.figure(figsize=(12, 7))\n",
    "plt.rc('font', family='serif')\n",
    "plt.rc('font', size=20)\n",
    "\n",
    "ind = np.random.randint(inputs_test_1.shape[1])\n",
    "\n",
    "plt.plot(in_test_coord_1[:,ind,0],in_test_coord_1[:,ind,1],c='b')\n",
    "plt.plot(gt_test_coord_1[:,ind,0],gt_test_coord_1[:,ind,1],c='k')\n",
    "plt.plot(output_coord_1[:,ind,0],output_coord_1[:,ind,1],c='r')\n",
    "plt.axis('equal')"
   ]
  },
  {
   "cell_type": "code",
   "execution_count": 132,
   "metadata": {
    "collapsed": true
   },
   "outputs": [],
   "source": [
    "output_coord_2=np.zeros([11,inputs_test_2.shape[2],2])\n",
    "for j in range(11):\n",
    "    for i in range(output_test_2.shape[1]):\n",
    "        if j==0:\n",
    "            output_coord_2[j,i,0:2] = in_test_coord_2[9,i,0:2]\n",
    "        else:\n",
    "            output_coord_2[j,i,0:2] = output_coord_2[j-1,i,0:2]+output_test_2[i,j-1,2:]*0.4\n",
    "        "
   ]
  },
  {
   "cell_type": "code",
   "execution_count": 133,
   "metadata": {},
   "outputs": [
    {
     "name": "stdout",
     "output_type": "stream",
     "text": [
      "The final distance between the ground trought and the predicted coordinates is : 6.978\n"
     ]
    }
   ],
   "source": [
    "dist = np.zeros(output_coord_2.shape[1])\n",
    "for i in range(gt_test_coord_2.shape[1]):\n",
    "    dist[i] = np.sqrt(sum((gt_test_coord_2[10,i,:]-output_coord_2[10,i,:])**2))\n",
    "\n",
    "final_coord_error = np.mean(dist)\n",
    "print('The final distance between the ground trought and the predicted coordinates is :',final_coord_error.round(3))"
   ]
  },
  {
   "cell_type": "code",
   "execution_count": 134,
   "metadata": {},
   "outputs": [
    {
     "name": "stdout",
     "output_type": "stream",
     "text": [
      "The average error between the ground trought and the predicted coordinates is : 5.133\n"
     ]
    }
   ],
   "source": [
    "avr = np.zeros((gt_test_coord_2.shape[1],11))\n",
    "for i in range(gt_test_coord_2.shape[1]):\n",
    "    for j in range(11):\n",
    "        avr[i,j] = np.sqrt(sum((gt_test_coord_2[j,i,:]-output_coord_2[j,i,:])**2))\n",
    "\n",
    "average = np.mean(np.mean(avr,1))\n",
    "print('The average error between the ground trought and the predicted coordinates is :',average.round(3))"
   ]
  },
  {
   "cell_type": "code",
   "execution_count": 135,
   "metadata": {},
   "outputs": [
    {
     "data": {
      "text/plain": [
       "(-2.127123588408907, 0.20039536611470987, -0.40726904250000007, 8.5526498925)"
      ]
     },
     "execution_count": 135,
     "metadata": {},
     "output_type": "execute_result"
    },
    {
     "data": {
      "image/png": "[encoded data removed]",
      "text/plain": [
       "<matplotlib.figure.Figure at 0x11d4c4438>"
      ]
     },
     "metadata": {},
     "output_type": "display_data"
    }
   ],
   "source": [
    "plt.figure(figsize=(12, 7))\n",
    "plt.rc('font', family='serif')\n",
    "plt.rc('font', size=20)\n",
    "\n",
    "ind = np.random.randint(inputs_test_2.shape[0])\n",
    "\n",
    "plt.plot(in_test_coord_2[:,ind,0],in_test_coord_2[:,ind,1],c='b')\n",
    "plt.plot(gt_test_coord_2[:,ind,0],gt_test_coord_2[:,ind,1],c='k')\n",
    "plt.plot(output_coord_2[:,ind,0],output_coord_2[:,ind,1],c='r')\n",
    "plt.axis('equal')"
   ]
  },
  {
   "cell_type": "code",
   "execution_count": 136,
   "metadata": {},
   "outputs": [],
   "source": [
    "output_coord_3=np.zeros([11,inputs_test_3.shape[2],2])\n",
    "for j in range(11):\n",
    "    for i in range(inputs_test_3.shape[2]):\n",
    "        if j==0:\n",
    "            output_coord_3[j,i,0:2] = in_test_coord_3[9,i,0:2]\n",
    "        else:\n",
    "            output_coord_3[j,i,0:2] = output_coord_3[j-1,i,0:2]+output_test_3[i,j-1,2:]*0.4       "
   ]
  },
  {
   "cell_type": "code",
   "execution_count": 137,
   "metadata": {},
   "outputs": [
    {
     "name": "stdout",
     "output_type": "stream",
     "text": [
      "The final distance between the ground trought and the predicted coordinates is : 3.546\n"
     ]
    }
   ],
   "source": [
    "dist = np.zeros(output_coord_3.shape[1])\n",
    "for i in range(gt_test_coord_3.shape[1]):\n",
    "    dist[i] = np.sqrt(sum((gt_test_coord_3[10,i,:]-output_coord_3[10,i,:])**2))\n",
    "\n",
    "final_coord_error = np.mean(dist)\n",
    "print('The final distance between the ground trought and the predicted coordinates is :',final_coord_error.round(3))"
   ]
  },
  {
   "cell_type": "code",
   "execution_count": 138,
   "metadata": {},
   "outputs": [
    {
     "name": "stdout",
     "output_type": "stream",
     "text": [
      "The average error between the ground trought and the predicted coordinates is : 1.762\n"
     ]
    }
   ],
   "source": [
    "avr = np.zeros((gt_test_coord_3.shape[1],11))\n",
    "for i in range(gt_test_coord_3.shape[1]):\n",
    "    for j in range(11):\n",
    "        avr[i,j] = np.sqrt(sum((gt_test_coord_3[j,i,:]-output_coord_3[j,i,:])**2))\n",
    "\n",
    "average = np.mean(np.mean(avr,1))\n",
    "print('The average error between the ground trought and the predicted coordinates is :',average.round(3))"
   ]
  },
  {
   "cell_type": "code",
   "execution_count": 139,
   "metadata": {},
   "outputs": [
    {
     "data": {
      "text/plain": [
       "(-1.730253775086864,\n",
       " 0.9160719968241414,\n",
       " -0.31202018150000005,\n",
       " 6.552423811500001)"
      ]
     },
     "execution_count": 139,
     "metadata": {},
     "output_type": "execute_result"
    },
    {
     "data": {
      "image/png": "[encoded data removed]",
      "text/plain": [
       "<matplotlib.figure.Figure at 0x1189e86d8>"
      ]
     },
     "metadata": {},
     "output_type": "display_data"
    }
   ],
   "source": [
    "plt.figure(figsize=(12, 7))\n",
    "plt.rc('font', family='serif')\n",
    "plt.rc('font', size=20)\n",
    "\n",
    "ind = np.random.randint(inputs_test_3.shape[0])\n",
    "\n",
    "plt.plot(in_test_coord_3[:,ind,0],in_test_coord_3[:,ind,1],c='b')\n",
    "plt.plot(gt_test_coord_3[:,ind,0],gt_test_coord_3[:,ind,1],c='k')\n",
    "plt.plot(output_coord_3[:,ind,0],output_coord_3[:,ind,1],c='r')\n",
    "plt.axis('equal')"
   ]
  },
  {
   "cell_type": "code",
   "execution_count": 141,
   "metadata": {
    "collapsed": true
   },
   "outputs": [],
   "source": [
    "torch.save(net.state_dict(), '2Loss_3CNN.pt')"
   ]
  },
  {
   "cell_type": "code",
   "execution_count": null,
   "metadata": {
    "collapsed": true
   },
   "outputs": [],
   "source": []
  }
 ],
 "metadata": {
  "kernelspec": {
   "display_name": "Python 3",
   "language": "python",
   "name": "python3"
  },
  "language_info": {
   "codemirror_mode": {
    "name": "ipython",
    "version": 3
   },
   "file_extension": ".py",
   "mimetype": "text/x-python",
   "name": "python",
   "nbconvert_exporter": "python",
   "pygments_lexer": "ipython3",
   "version": "3.6.3"
  }
 },
 "nbformat": 4,
 "nbformat_minor": 2
}
