{
 "cells": [
  {
   "cell_type": "code",
   "execution_count": 7,
   "metadata": {},
   "outputs": [
    {
     "data": {
      "text/plain": [
       "<torch._C.Generator at 0x113270750>"
      ]
     },
     "execution_count": 7,
     "metadata": {},
     "output_type": "execute_result"
    }
   ],
   "source": [
    "import torch\n",
    "from torch import nn\n",
    "from torch.autograd import Variable\n",
    "import torchvision.datasets as dsets\n",
    "import torchvision.transforms as transforms\n",
    "import matplotlib.pyplot as plt\n",
    "from CNN2D import *\n",
    "import pandas as pd\n",
    "import numpy as np\n",
    "import torch.utils.data as utils\n",
    "import time\n",
    "import os\n",
    "import pickle\n",
    "\n",
    "import pdb\n",
    "\n",
    "# For the notebook\n",
    "%matplotlib inline\n",
    "%reload_ext autoreload\n",
    "%autoreload 2\n",
    "\n",
    "torch.manual_seed(1)"
   ]
  },
  {
   "cell_type": "markdown",
   "metadata": {},
   "source": [
    "## TRAIN SET"
   ]
  },
  {
   "cell_type": "code",
   "execution_count": 8,
   "metadata": {
    "scrolled": false
   },
   "outputs": [
    {
     "data": {
      "text/plain": [
       "(torch.Size([5157, 1, 10, 164]), torch.Size([5157, 1, 11, 4]))"
      ]
     },
     "execution_count": 8,
     "metadata": {},
     "output_type": "execute_result"
    }
   ],
   "source": [
    "gt_train_coord = pickle.load( open( \"./import_dataset_2/train/gt_train_coord.pkl\", \"rb\" ) )\n",
    "gt_train  = pickle.load( open( \"./import_dataset_2/train/gt_train.pkl\", \"rb\" ) )\n",
    "in_train_coord  = pickle.load( open( \"./import_dataset_2/train/in_train_coord.pkl\", \"rb\" ) )\n",
    "inputs_train = pickle.load( open( \"./import_dataset_2/train/inputs_train.pkl\", \"rb\" ) )\n",
    "\n",
    "inputs_train = torch.from_numpy(inputs_train).float()\n",
    "gt_train = torch.from_numpy(gt_train).float()\n",
    "\n",
    "gt_train = gt_train.unsqueeze(1) # add 1 dimension to the training set\n",
    "inputs_train = inputs_train.unsqueeze(1) # add 1 dimension to the training set\n",
    "\n",
    "inputs_train.shape,gt_train.shape"
   ]
  },
  {
   "cell_type": "markdown",
   "metadata": {},
   "source": [
    "## VALIDATION SET"
   ]
  },
  {
   "cell_type": "code",
   "execution_count": 9,
   "metadata": {},
   "outputs": [
    {
     "name": "stdout",
     "output_type": "stream",
     "text": [
      "torch.Size([1719, 1, 10, 164])\n"
     ]
    },
    {
     "data": {
      "text/plain": [
       "((11, 1719, 2),\n",
       " torch.Size([1719, 1, 11, 4]),\n",
       " (10, 1719, 2),\n",
       " torch.Size([1719, 1, 10, 164]))"
      ]
     },
     "execution_count": 9,
     "metadata": {},
     "output_type": "execute_result"
    }
   ],
   "source": [
    "gt_validation_coord = pickle.load( open( \"./import_dataset_2/validation/gt_validation_coord.pkl\", \"rb\" ) )\n",
    "gt_validation = pickle.load( open( \"./import_dataset_2/validation/gt_validation.pkl\", \"rb\" ) )\n",
    "in_validation_coord = pickle.load( open( \"./import_dataset_2/validation/in_validation_coord.pkl\", \"rb\" ) )\n",
    "inputs_validation = pickle.load( open( \"./import_dataset_2/validation/inputs_validation.pkl\", \"rb\" ) )\n",
    "\n",
    "inputs_validation = torch.from_numpy(inputs_validation).float()\n",
    "gt_validation = torch.from_numpy(gt_validation).float()\n",
    "\n",
    "gt_validation = gt_validation.unsqueeze(1) # add 1 dimension to the training set\n",
    "inputs_validation = inputs_validation.unsqueeze(1) # add 1 dimension to the training set\n",
    "print (inputs_validation.shape)\n",
    "\n",
    "gt_validation_coord.shape,gt_validation.shape,in_validation_coord.shape,inputs_validation.shape"
   ]
  },
  {
   "cell_type": "markdown",
   "metadata": {},
   "source": [
    "## TEST SET"
   ]
  },
  {
   "cell_type": "code",
   "execution_count": 10,
   "metadata": {},
   "outputs": [
    {
     "name": "stdout",
     "output_type": "stream",
     "text": [
      "torch.Size([10, 1, 251, 164])\n"
     ]
    }
   ],
   "source": [
    "gt_test_coord_1 = pickle.load( open( \"./import_dataset_2/test/gt_test_coord_1.pkl\", \"rb\" ) )\n",
    "gt_test_1 = pickle.load( open( \"./import_dataset_2/test/gt_test_1.pkl\", \"rb\" ) )\n",
    "in_test_coord_1 = pickle.load( open( \"./import_dataset_2/test/in_test_coord_1.pkl\", \"rb\" ) )\n",
    "inputs_test_1 = pickle.load( open( \"./import_dataset_2/test/inputs_test_1.pkl\", \"rb\" ) )\n",
    "\n",
    "gt_test_coord_2 = pickle.load( open( \"./import_dataset_2/test/gt_test_coord_2.pkl\", \"rb\" ) )\n",
    "gt_test_2 = pickle.load( open( \"./import_dataset_2/test/gt_test_2.pkl\", \"rb\" ) )\n",
    "in_test_coord_2 = pickle.load( open( \"./import_dataset_2/test/in_test_coord_2.pkl\", \"rb\" ) )\n",
    "inputs_test_2 = pickle.load( open( \"./import_dataset_2/test/inputs_test_2.pkl\", \"rb\" ) )\n",
    "\n",
    "gt_test_coord_3 = pickle.load( open( \"./import_dataset_2/test/gt_test_coord_3.pkl\", \"rb\" ) )\n",
    "gt_test_3 = pickle.load( open( \"./import_dataset_2/test/gt_test_3.pkl\", \"rb\" ) )\n",
    "in_test_coord_3 = pickle.load( open( \"./import_dataset_2/test/in_test_coord_3.pkl\", \"rb\" ) )\n",
    "inputs_test_3 = pickle.load( open( \"./import_dataset_2/test/inputs_test_3.pkl\", \"rb\" ) )\n",
    "\n",
    "inputs_test_1 = torch.from_numpy(inputs_test_1).float()\n",
    "gt_test_1 = torch.from_numpy(gt_test_1).float()\n",
    "inputs_test_1 = inputs_test_1.unsqueeze(1) \n",
    "\n",
    "inputs_test_2 = torch.from_numpy(inputs_test_2).float()\n",
    "gt_test_2 = torch.from_numpy(gt_test_2).float()\n",
    "inputs_test_2 = inputs_test_2.unsqueeze(1)\n",
    "\n",
    "inputs_test_3 = torch.from_numpy(inputs_test_3).float()\n",
    "gt_test_3 = torch.from_numpy(gt_test_3).float()\n",
    "inputs_test_3 = inputs_test_3.unsqueeze(1)\n",
    "print (inputs_test_1.shape)"
   ]
  },
  {
   "cell_type": "code",
   "execution_count": 5,
   "metadata": {
    "collapsed": true
   },
   "outputs": [],
   "source": [
    "net = CNN2D()\n",
    "criterion = torch.nn.MSELoss()\n",
    "optimizer = torch.optim.Adam(net.parameters(), lr=0.0001, weight_decay=1e-4)\n",
    "\n",
    "traindataset = utils.TensorDataset(inputs_train, gt_train[:,:,1:,:])\n",
    "trainloader = utils.DataLoader(traindataset, batch_size=16, shuffle=True)\n",
    "\n",
    "valdataset = utils.TensorDataset(inputs_validation, gt_validation[:,:,1:,:])\n",
    "valloader = utils.DataLoader(valdataset, batch_size=16, shuffle=True)"
   ]
  },
  {
   "cell_type": "code",
   "execution_count": 11,
   "metadata": {
    "scrolled": true
   },
   "outputs": [
    {
     "name": "stdout",
     "output_type": "stream",
     "text": [
      "Epoch: 1/150.. Validation Loss: 3.0158.. Training Loss: 4.2771.. 0.0163 s/batch \n",
      "Epoch: 2/150.. Validation Loss: 2.2742.. Training Loss: 2.5881.. 0.0144 s/batch \n",
      "Epoch: 3/150.. Validation Loss: 1.8687.. Training Loss: 2.0547.. 0.0159 s/batch \n",
      "Epoch: 4/150.. Validation Loss: 1.4848.. Training Loss: 1.6226.. 0.0149 s/batch \n",
      "Epoch: 5/150.. Validation Loss: 1.2972.. Training Loss: 1.3407.. 0.0143 s/batch \n",
      "Epoch: 6/150.. Validation Loss: 1.1938.. Training Loss: 1.1966.. 0.0141 s/batch \n",
      "Epoch: 7/150.. Validation Loss: 1.1205.. Training Loss: 1.1122.. 0.0149 s/batch \n",
      "Epoch: 8/150.. Validation Loss: 1.0876.. Training Loss: 1.0479.. 0.0152 s/batch \n",
      "Epoch: 9/150.. Validation Loss: 1.0446.. Training Loss: 0.9985.. 0.0140 s/batch \n",
      "Epoch: 10/150.. Validation Loss: 1.0207.. Training Loss: 0.9673.. 0.0139 s/batch \n",
      "Epoch: 11/150.. Validation Loss: 1.0018.. Training Loss: 0.9261.. 0.0146 s/batch \n",
      "Epoch: 12/150.. Validation Loss: 0.9699.. Training Loss: 0.8974.. 0.0150 s/batch \n",
      "Epoch: 13/150.. Validation Loss: 0.9811.. Training Loss: 0.8733.. 0.0144 s/batch \n",
      "Epoch: 14/150.. Validation Loss: 0.9123.. Training Loss: 0.8382.. 0.0145 s/batch \n",
      "Epoch: 15/150.. Validation Loss: 0.8794.. Training Loss: 0.8140.. 0.0141 s/batch \n",
      "Epoch: 16/150.. Validation Loss: 0.8931.. Training Loss: 0.7847.. 0.0176 s/batch \n",
      "Epoch: 17/150.. Validation Loss: 0.8180.. Training Loss: 0.7560.. 0.0150 s/batch \n",
      "Epoch: 18/150.. Validation Loss: 0.7921.. Training Loss: 0.7196.. 0.0140 s/batch \n",
      "Epoch: 19/150.. Validation Loss: 0.8080.. Training Loss: 0.6900.. 0.0139 s/batch \n",
      "Epoch: 20/150.. Validation Loss: 0.7483.. Training Loss: 0.6582.. 0.0139 s/batch \n",
      "Epoch: 21/150.. Validation Loss: 0.7639.. Training Loss: 0.6344.. 0.0141 s/batch \n",
      "Epoch: 22/150.. Validation Loss: 0.7292.. Training Loss: 0.6072.. 0.0148 s/batch \n",
      "Epoch: 23/150.. Validation Loss: 0.6799.. Training Loss: 0.5981.. 0.0144 s/batch \n",
      "Epoch: 24/150.. Validation Loss: 0.6694.. Training Loss: 0.5628.. 0.0140 s/batch \n",
      "Epoch: 25/150.. Validation Loss: 0.6489.. Training Loss: 0.5463.. 0.0139 s/batch \n",
      "Epoch: 26/150.. Validation Loss: 0.6189.. Training Loss: 0.5297.. 0.0143 s/batch \n",
      "Epoch: 27/150.. Validation Loss: 0.6154.. Training Loss: 0.5216.. 0.0148 s/batch \n",
      "Epoch: 28/150.. Validation Loss: 0.6206.. Training Loss: 0.5087.. 0.0140 s/batch \n",
      "Epoch: 29/150.. Validation Loss: 0.6046.. Training Loss: 0.4953.. 0.0139 s/batch \n",
      "Epoch: 30/150.. Validation Loss: 0.5860.. Training Loss: 0.4875.. 0.0140 s/batch \n",
      "Epoch: 31/150.. Validation Loss: 0.6326.. Training Loss: 0.4733.. 0.0139 s/batch \n",
      "Epoch: 32/150.. Validation Loss: 0.5806.. Training Loss: 0.4758.. 0.0144 s/batch \n",
      "Epoch: 33/150.. Validation Loss: 0.5690.. Training Loss: 0.4572.. 0.0150 s/batch \n",
      "Epoch: 34/150.. Validation Loss: 0.5690.. Training Loss: 0.4478.. 0.0139 s/batch \n",
      "Epoch: 35/150.. Validation Loss: 0.5573.. Training Loss: 0.4452.. 0.0139 s/batch \n",
      "Epoch: 36/150.. Validation Loss: 0.5466.. Training Loss: 0.4376.. 0.0140 s/batch \n",
      "Epoch: 37/150.. Validation Loss: 0.5500.. Training Loss: 0.4382.. 0.0139 s/batch \n",
      "Epoch: 38/150.. Validation Loss: 0.5540.. Training Loss: 0.4284.. 0.0150 s/batch \n",
      "Epoch: 39/150.. Validation Loss: 0.5876.. Training Loss: 0.4195.. 0.0152 s/batch \n",
      "Epoch: 40/150.. Validation Loss: 0.5462.. Training Loss: 0.4144.. 0.0139 s/batch \n",
      "Epoch: 41/150.. Validation Loss: 0.5379.. Training Loss: 0.4116.. 0.0141 s/batch \n",
      "Epoch: 42/150.. Validation Loss: 0.5326.. Training Loss: 0.4125.. 0.0145 s/batch \n",
      "Epoch: 43/150.. Validation Loss: 0.5270.. Training Loss: 0.3977.. 0.0149 s/batch \n",
      "Epoch: 44/150.. Validation Loss: 0.5511.. Training Loss: 0.3916.. 0.0139 s/batch \n",
      "Epoch: 45/150.. Validation Loss: 0.5521.. Training Loss: 0.3890.. 0.0139 s/batch \n",
      "Epoch: 46/150.. Validation Loss: 0.5330.. Training Loss: 0.3878.. 0.0139 s/batch \n",
      "Epoch: 47/150.. Validation Loss: 0.5167.. Training Loss: 0.3778.. 0.0139 s/batch \n",
      "Epoch: 48/150.. Validation Loss: 0.5092.. Training Loss: 0.3823.. 0.0144 s/batch \n",
      "Epoch: 49/150.. Validation Loss: 0.5212.. Training Loss: 0.3778.. 0.0147 s/batch \n",
      "Epoch: 50/150.. Validation Loss: 0.4981.. Training Loss: 0.3729.. 0.0139 s/batch \n",
      "Epoch: 51/150.. Validation Loss: 0.5104.. Training Loss: 0.3678.. 0.0140 s/batch \n",
      "Epoch: 52/150.. Validation Loss: 0.5206.. Training Loss: 0.3633.. 0.0144 s/batch \n",
      "Epoch: 53/150.. Validation Loss: 0.5066.. Training Loss: 0.3616.. 0.0147 s/batch \n",
      "Epoch: 54/150.. Validation Loss: 0.5168.. Training Loss: 0.3604.. 0.0139 s/batch \n",
      "Epoch: 55/150.. Validation Loss: 0.5128.. Training Loss: 0.3521.. 0.0139 s/batch \n",
      "Epoch: 56/150.. Validation Loss: 0.5300.. Training Loss: 0.3527.. 0.0139 s/batch \n",
      "Epoch: 57/150.. Validation Loss: 0.5515.. Training Loss: 0.3490.. 0.0140 s/batch \n",
      "Epoch: 58/150.. Validation Loss: 0.5052.. Training Loss: 0.3469.. 0.0143 s/batch \n",
      "Epoch: 59/150.. Validation Loss: 0.4908.. Training Loss: 0.3459.. 0.0147 s/batch \n",
      "Epoch: 60/150.. Validation Loss: 0.4822.. Training Loss: 0.3485.. 0.0140 s/batch \n",
      "Epoch: 61/150.. Validation Loss: 0.5261.. Training Loss: 0.3366.. 0.0153 s/batch \n",
      "Epoch: 62/150.. Validation Loss: 0.4998.. Training Loss: 0.3378.. 0.0148 s/batch \n",
      "Epoch: 63/150.. Validation Loss: 0.4908.. Training Loss: 0.3319.. 0.0149 s/batch \n",
      "Epoch: 64/150.. Validation Loss: 0.4847.. Training Loss: 0.3281.. 0.0139 s/batch \n",
      "Epoch: 65/150.. Validation Loss: 0.4797.. Training Loss: 0.3269.. 0.0139 s/batch \n",
      "Epoch: 66/150.. Validation Loss: 0.4861.. Training Loss: 0.3325.. 0.0145 s/batch \n",
      "Epoch: 67/150.. Validation Loss: 0.4924.. Training Loss: 0.3214.. 0.0147 s/batch \n",
      "Epoch: 68/150.. Validation Loss: 0.4890.. Training Loss: 0.3234.. 0.0139 s/batch \n",
      "Epoch: 69/150.. Validation Loss: 0.4781.. Training Loss: 0.3180.. 0.0142 s/batch \n",
      "Epoch: 70/150.. Validation Loss: 0.4811.. Training Loss: 0.3142.. 0.0145 s/batch \n",
      "Epoch: 71/150.. Validation Loss: 0.4669.. Training Loss: 0.3152.. 0.0146 s/batch \n",
      "Epoch: 72/150.. Validation Loss: 0.5000.. Training Loss: 0.3213.. 0.0140 s/batch \n",
      "Epoch: 73/150.. Validation Loss: 0.4817.. Training Loss: 0.3178.. 0.0139 s/batch \n",
      "Epoch: 74/150.. Validation Loss: 0.4857.. Training Loss: 0.3086.. 0.0139 s/batch \n",
      "Epoch: 75/150.. Validation Loss: 0.4955.. Training Loss: 0.3025.. 0.0141 s/batch \n",
      "Epoch: 76/150.. Validation Loss: 0.4687.. Training Loss: 0.3024.. 0.0145 s/batch \n",
      "Epoch: 77/150.. Validation Loss: 0.4768.. Training Loss: 0.3020.. 0.0147 s/batch \n",
      "Epoch: 78/150.. Validation Loss: 0.4688.. Training Loss: 0.3044.. 0.0140 s/batch \n",
      "Epoch: 79/150.. Validation Loss: 0.4850.. Training Loss: 0.2969.. 0.0140 s/batch \n",
      "Epoch: 80/150.. Validation Loss: 0.4728.. Training Loss: 0.2988.. 0.0146 s/batch \n",
      "Epoch: 81/150.. Validation Loss: 0.4604.. Training Loss: 0.2952.. 0.0149 s/batch \n",
      "Epoch: 82/150.. Validation Loss: 0.4721.. Training Loss: 0.2924.. 0.0140 s/batch \n",
      "Epoch: 83/150.. Validation Loss: 0.4846.. Training Loss: 0.2923.. 0.0141 s/batch \n",
      "Epoch: 84/150.. Validation Loss: 0.4564.. Training Loss: 0.2920.. 0.0140 s/batch \n",
      "Epoch: 85/150.. Validation Loss: 0.4741.. Training Loss: 0.2867.. 0.0145 s/batch \n",
      "Epoch: 86/150.. Validation Loss: 0.4737.. Training Loss: 0.2897.. 0.0151 s/batch \n",
      "Epoch: 87/150.. Validation Loss: 0.4507.. Training Loss: 0.2819.. 0.0148 s/batch \n",
      "Epoch: 88/150.. Validation Loss: 0.4677.. Training Loss: 0.2875.. 0.0139 s/batch \n",
      "Epoch: 89/150.. Validation Loss: 0.4832.. Training Loss: 0.2814.. 0.0143 s/batch \n",
      "Epoch: 90/150.. Validation Loss: 0.4636.. Training Loss: 0.2779.. 0.0146 s/batch \n",
      "Epoch: 91/150.. Validation Loss: 0.4788.. Training Loss: 0.2794.. 0.0146 s/batch \n",
      "Epoch: 92/150.. Validation Loss: 0.4726.. Training Loss: 0.2773.. 0.0140 s/batch \n",
      "Epoch: 93/150.. Validation Loss: 0.4614.. Training Loss: 0.2826.. 0.0140 s/batch \n",
      "Epoch: 94/150.. Validation Loss: 0.4622.. Training Loss: 0.2738.. 0.0139 s/batch \n",
      "Epoch: 95/150.. Validation Loss: 0.4622.. Training Loss: 0.2740.. 0.0141 s/batch \n",
      "Epoch: 96/150.. Validation Loss: 0.4739.. Training Loss: 0.2707.. 0.0147 s/batch \n",
      "Epoch: 97/150.. Validation Loss: 0.4558.. Training Loss: 0.2672.. 0.0145 s/batch \n",
      "Epoch: 98/150.. Validation Loss: 0.4580.. Training Loss: 0.2742.. 0.0140 s/batch \n",
      "Epoch: 99/150.. Validation Loss: 0.4559.. Training Loss: 0.2692.. 0.0140 s/batch \n",
      "Epoch: 100/150.. Validation Loss: 0.4675.. Training Loss: 0.2686.. 0.0140 s/batch \n",
      "Epoch: 101/150.. Validation Loss: 0.4614.. Training Loss: 0.2687.. 0.0141 s/batch \n"
     ]
    },
    {
     "name": "stdout",
     "output_type": "stream",
     "text": [
      "Epoch: 102/150.. Validation Loss: 0.4627.. Training Loss: 0.2685.. 0.0148 s/batch \n",
      "Epoch: 103/150.. Validation Loss: 0.4864.. Training Loss: 0.2607.. 0.0145 s/batch \n",
      "Epoch: 104/150.. Validation Loss: 0.4592.. Training Loss: 0.2653.. 0.0140 s/batch \n",
      "Epoch: 105/150.. Validation Loss: 0.4551.. Training Loss: 0.2606.. 0.0141 s/batch \n",
      "Epoch: 106/150.. Validation Loss: 0.4624.. Training Loss: 0.2584.. 0.0146 s/batch \n",
      "Epoch: 107/150.. Validation Loss: 0.4744.. Training Loss: 0.2600.. 0.0145 s/batch \n",
      "Epoch: 108/150.. Validation Loss: 0.4558.. Training Loss: 0.2590.. 0.0140 s/batch \n",
      "Epoch: 109/150.. Validation Loss: 0.4645.. Training Loss: 0.2560.. 0.0150 s/batch \n",
      "Epoch: 110/150.. Validation Loss: 0.4563.. Training Loss: 0.2560.. 0.0149 s/batch \n",
      "Epoch: 111/150.. Validation Loss: 0.4511.. Training Loss: 0.2568.. 0.0145 s/batch \n",
      "Epoch: 112/150.. Validation Loss: 0.4583.. Training Loss: 0.2577.. 0.0140 s/batch \n",
      "Epoch: 113/150.. Validation Loss: 0.4599.. Training Loss: 0.2540.. 0.0141 s/batch \n",
      "Epoch: 114/150.. Validation Loss: 0.4907.. Training Loss: 0.2535.. 0.0140 s/batch \n",
      "Epoch: 115/150.. Validation Loss: 0.4546.. Training Loss: 0.2517.. 0.0141 s/batch \n",
      "Epoch: 116/150.. Validation Loss: 0.4627.. Training Loss: 0.2499.. 0.0148 s/batch \n",
      "Epoch: 117/150.. Validation Loss: 0.4595.. Training Loss: 0.2461.. 0.0145 s/batch \n",
      "Epoch: 118/150.. Validation Loss: 0.4586.. Training Loss: 0.2523.. 0.0140 s/batch \n",
      "Epoch: 119/150.. Validation Loss: 0.4484.. Training Loss: 0.2450.. 0.0140 s/batch \n",
      "Epoch: 120/150.. Validation Loss: 0.4647.. Training Loss: 0.2458.. 0.0140 s/batch \n",
      "Epoch: 121/150.. Validation Loss: 0.4827.. Training Loss: 0.2438.. 0.0141 s/batch \n",
      "Epoch: 122/150.. Validation Loss: 0.4544.. Training Loss: 0.2427.. 0.0151 s/batch \n",
      "Epoch: 123/150.. Validation Loss: 0.4534.. Training Loss: 0.2474.. 0.0144 s/batch \n",
      "Epoch: 124/150.. Validation Loss: 0.4493.. Training Loss: 0.2406.. 0.0140 s/batch \n",
      "Epoch: 125/150.. Validation Loss: 0.4529.. Training Loss: 0.2439.. 0.0141 s/batch \n",
      "Epoch: 126/150.. Validation Loss: 0.4614.. Training Loss: 0.2402.. 0.0140 s/batch \n",
      "Epoch: 127/150.. Validation Loss: 0.4672.. Training Loss: 0.2445.. 0.0141 s/batch \n",
      "Epoch: 128/150.. Validation Loss: 0.4834.. Training Loss: 0.2407.. 0.0149 s/batch \n",
      "Epoch: 129/150.. Validation Loss: 0.4543.. Training Loss: 0.2447.. 0.0143 s/batch \n",
      "Epoch: 130/150.. Validation Loss: 0.4542.. Training Loss: 0.2383.. 0.0140 s/batch \n",
      "Epoch: 131/150.. Validation Loss: 0.4634.. Training Loss: 0.2378.. 0.0143 s/batch \n",
      "Epoch: 132/150.. Validation Loss: 0.4536.. Training Loss: 0.2377.. 0.0151 s/batch \n",
      "Epoch: 133/150.. Validation Loss: 0.4735.. Training Loss: 0.2363.. 0.0150 s/batch \n",
      "Epoch: 134/150.. Validation Loss: 0.4534.. Training Loss: 0.2376.. 0.0142 s/batch \n",
      "Epoch: 135/150.. Validation Loss: 0.4589.. Training Loss: 0.2342.. 0.0141 s/batch \n",
      "Epoch: 136/150.. Validation Loss: 0.4597.. Training Loss: 0.2302.. 0.0148 s/batch \n",
      "Epoch: 137/150.. Validation Loss: 0.4602.. Training Loss: 0.2341.. 0.0144 s/batch \n",
      "Epoch: 138/150.. Validation Loss: 0.4541.. Training Loss: 0.2336.. 0.0140 s/batch \n",
      "Epoch: 139/150.. Validation Loss: 0.4583.. Training Loss: 0.2300.. 0.0140 s/batch \n",
      "Epoch: 140/150.. Validation Loss: 0.4592.. Training Loss: 0.2324.. 0.0146 s/batch \n",
      "Epoch: 141/150.. Validation Loss: 0.4534.. Training Loss: 0.2295.. 0.0148 s/batch \n",
      "Epoch: 142/150.. Validation Loss: 0.4543.. Training Loss: 0.2310.. 0.0141 s/batch \n",
      "Epoch: 143/150.. Validation Loss: 0.4633.. Training Loss: 0.2304.. 0.0140 s/batch \n",
      "Epoch: 144/150.. Validation Loss: 0.4643.. Training Loss: 0.2329.. 0.0145 s/batch \n",
      "Epoch: 145/150.. Validation Loss: 0.4588.. Training Loss: 0.2243.. 0.0148 s/batch \n",
      "Epoch: 146/150.. Validation Loss: 0.4564.. Training Loss: 0.2264.. 0.0142 s/batch \n",
      "Epoch: 147/150.. Validation Loss: 0.4510.. Training Loss: 0.2294.. 0.0140 s/batch \n",
      "Epoch: 148/150.. Validation Loss: 0.4500.. Training Loss: 0.2267.. 0.0142 s/batch \n",
      "Epoch: 149/150.. Validation Loss: 0.4537.. Training Loss: 0.2230.. 0.0141 s/batch \n",
      "Epoch: 150/150.. Validation Loss: 0.4653.. Training Loss: 0.2267.. 0.0140 s/batch \n"
     ]
    }
   ],
   "source": [
    "epochs = 150\n",
    "steps = 0\n",
    "running_loss = 0\n",
    "print_every = 323\n",
    "loss_train = []\n",
    "loss_val = []\n",
    "\n",
    "for e in range(epochs):\n",
    "    start = time.time()\n",
    "    steps_bis = 0\n",
    "    total_train_loss=0\n",
    "    for train_coord, ground_tru in iter(trainloader):\n",
    "        \n",
    "        steps += 1\n",
    "        steps_bis += 1\n",
    "\n",
    "        input_train = Variable(train_coord)\n",
    "        in_train = input_train.squeeze(1)\n",
    "        target = Variable(ground_tru)\n",
    "        targets = target.squeeze(1)\n",
    "        optimizer.zero_grad()\n",
    "        #print(in_train.shape)\n",
    "        #print(targets.shape)\n",
    "        out = net.forward(input_train)\n",
    "        out = out.reshape(out.shape[0],10,4)\n",
    "        loss1 = (criterion(out[:,:,0:2], targets[:,:,0:2]))\n",
    "        loss2 = (criterion(out[:,:,2:], targets[:,:,2:]))\n",
    "        \n",
    "        loss1.backward(retain_graph=True)\n",
    "        loss2.backward(retain_graph=True)\n",
    "        optimizer.step()\n",
    "        \n",
    "        running_loss += (loss1+loss2).item()\n",
    "        total_train_loss += (loss1+loss2).item()\n",
    "        \n",
    "        if steps % print_every == 0:\n",
    "            stop = time.time()\n",
    "            val_loss=0\n",
    "            \n",
    "            for ii, (images, labels) in enumerate(valloader):\n",
    "                \n",
    "                inp = Variable(images)\n",
    "                input_val = inp.squeeze(1)\n",
    "                lab = Variable(labels)\n",
    "                valgt = lab.squeeze(1)\n",
    "                predicted = net.predict(inp)\n",
    "                predicted = predicted.reshape(predicted.shape[0],10,4)\n",
    "                predicted_bis = predicted[:,:,0:2].clone()\n",
    "                \n",
    "                val_loss+= (criterion(predicted[:,:,0:2],valgt[:,:,0:2]).item()\n",
    "                                + criterion(predicted[:,:,2:],valgt[:,:,2:]).item())\n",
    "                                #+ criterion(predicted_bis, valgt[:,:,0:2]).item())\n",
    "                \n",
    "            print(\"Epoch: {}/{}..\".format(e+1, epochs),\n",
    "                  \"Validation Loss: {:.4f}..\".format(val_loss/ii),\n",
    "                  \"Training Loss: {:.4f}..\".format(running_loss/print_every),\n",
    "                  \"{:.4f} s/batch \".format((stop - start)/print_every),\n",
    "                 )\n",
    "            loss_val.append(val_loss/ii)\n",
    "            running_loss = 0\n",
    "            start = time.time()\n",
    "    loss_train.append(total_train_loss/steps_bis)"
   ]
  },
  {
   "cell_type": "code",
   "execution_count": 12,
   "metadata": {},
   "outputs": [
    {
     "data": {
      "text/plain": [
       "<matplotlib.legend.Legend at 0x119283e80>"
      ]
     },
     "execution_count": 12,
     "metadata": {},
     "output_type": "execute_result"
    },
    {
     "data": {
      "image/png": "[encoded data removed]",
      "text/plain": [
       "<matplotlib.figure.Figure at 0x11c9c1d30>"
      ]
     },
     "metadata": {},
     "output_type": "display_data"
    }
   ],
   "source": [
    "epoch = np.arange(1,epochs+1)\n",
    "plt.figure(figsize=(12, 7))\n",
    "plt.rc('font', family='serif')\n",
    "plt.rc('font', size=20)\n",
    "\n",
    "plt.plot(epoch,loss_train,label='Training loss')\n",
    "plt.plot(epoch,loss_val,c='k',label='Validation loss')\n",
    "plt.xlabel('epoch')\n",
    "plt.ylabel('MSE error')\n",
    "plt.legend()"
   ]
  },
  {
   "cell_type": "code",
   "execution_count": 54,
   "metadata": {},
   "outputs": [
    {
     "name": "stdout",
     "output_type": "stream",
     "text": [
      "torch.Size([10, 1, 251, 164])\n"
     ]
    }
   ],
   "source": [
    "print(inputs_test_1.shape)\n",
    "output_test_1 = net.predict(inputs_test_1)\n",
    "output_test_1 = output_test_1.data.numpy()\n",
    "output_test_1 = np.reshape(output_test_1,(250,10,4))\n",
    "\n",
    "output_test_2 = net.predict(inputs_test_2)\n",
    "output_test_2 = output_test_2.data.numpy()\n",
    "output_test_2 = np.reshape(output_test_2,(1006,10,4))\n",
    "\n",
    "output_test_3 = net.predict(inputs_test_3)\n",
    "output_test_3 = output_test_3.data.numpy()\n",
    "output_test_3 = np.reshape(output_test_3,(460,10,4))"
   ]
  },
  {
   "cell_type": "markdown",
   "metadata": {},
   "source": [
    "## Post processing step\n",
    "Go back to coordinate:\n",
    "We have Vx and Vy and we want x and y.\n",
    "$ V = d/t$\n",
    "$ d = V*t$\n",
    "Here t = 0.4s between each point.\n",
    "Start from data at index 9. Then we add d_x and d_y to the last x and y."
   ]
  },
  {
   "cell_type": "markdown",
   "metadata": {},
   "source": [
    "##### Type 1 trajectory"
   ]
  },
  {
   "cell_type": "code",
   "execution_count": 119,
   "metadata": {},
   "outputs": [],
   "source": [
    "output_coord_1=np.zeros([11,inputs_test_1.shape[2],2])\n",
    "for j in range(11):\n",
    "    for i in range(output_test_1.shape[0]):\n",
    "        if j==0:\n",
    "            output_coord_1[j,i,0:2] = in_test_coord_1[9,i,0:2]\n",
    "        else:\n",
    "            output_coord_1[j,i,0:2] = output_coord_1[j-1,i,0:2]+output_test_1[i,j-1,2:]*0.4"
   ]
  },
  {
   "cell_type": "code",
   "execution_count": 120,
   "metadata": {},
   "outputs": [
    {
     "name": "stdout",
     "output_type": "stream",
     "text": [
      "The final distance between the ground trought and the predicted coordinates is : 3.091\n"
     ]
    }
   ],
   "source": [
    "dist = np.zeros(output_coord_1.shape[1])\n",
    "for i in range(gt_test_coord_1.shape[1]):\n",
    "    dist[i] = np.sqrt(sum((gt_test_coord_1[10,i,:]-output_coord_1[10,i,:])**2))\n",
    "\n",
    "final_coord_error = np.mean(dist)\n",
    "print('The final distance between the ground trought and the predicted coordinates is :',final_coord_error.round(3))"
   ]
  },
  {
   "cell_type": "code",
   "execution_count": 97,
   "metadata": {},
   "outputs": [
    {
     "name": "stdout",
     "output_type": "stream",
     "text": [
      "The average error between the ground trought and the predicted coordinates is : 1.507\n"
     ]
    }
   ],
   "source": [
    "avr = np.zeros((gt_test_coord_1.shape[1],11))\n",
    "for i in range(gt_test_coord_1.shape[1]):\n",
    "    for j in range(11):\n",
    "        avr[i,j] = np.sqrt(sum((gt_test_coord_1[j,i,:]-output_coord_1[j,i,:])**2))\n",
    "\n",
    "average = np.mean(np.mean(avr,1))\n",
    "print('The average error between the ground trought and the predicted coordinates is :',average.round(3))"
   ]
  },
  {
   "cell_type": "code",
   "execution_count": 65,
   "metadata": {},
   "outputs": [
    {
     "data": {
      "text/plain": [
       "(-0.14116917689517142,\n",
       " 0.7645527147985995,\n",
       " -0.15004833734035494,\n",
       " 3.1510150841474536)"
      ]
     },
     "execution_count": 65,
     "metadata": {},
     "output_type": "execute_result"
    },
    {
     "data": {
      "image/png": "[encoded data removed]",
      "text/plain": [
       "<matplotlib.figure.Figure at 0x11d2ef400>"
      ]
     },
     "metadata": {},
     "output_type": "display_data"
    }
   ],
   "source": [
    "plt.figure(figsize=(12, 7))\n",
    "plt.rc('font', family='serif')\n",
    "plt.rc('font', size=20)\n",
    "\n",
    "ind = np.random.randint(inputs_test_1.shape[1])\n",
    "\n",
    "plt.plot(in_test_coord_1[:,ind,0],in_test_coord_1[:,ind,1],c='b')\n",
    "plt.plot(gt_test_coord_1[:,ind,0],gt_test_coord_1[:,ind,1],c='k')\n",
    "plt.plot(output_coord_1[:,ind,0],output_coord_1[:,ind,1],c='r')\n",
    "plt.axis('equal')"
   ]
  },
  {
   "cell_type": "code",
   "execution_count": 99,
   "metadata": {
    "collapsed": true
   },
   "outputs": [],
   "source": [
    "output_coord_2=np.zeros([11,inputs_test_2.shape[2],2])\n",
    "for j in range(11):\n",
    "    for i in range(output_test_2.shape[1]):\n",
    "        if j==0:\n",
    "            output_coord_2[j,i,0:2] = in_test_coord_2[9,i,0:2]\n",
    "        else:\n",
    "            output_coord_2[j,i,0:2] = output_coord_2[j-1,i,0:2]+output_test_2[i,j-1,2:]*0.4\n",
    "        "
   ]
  },
  {
   "cell_type": "code",
   "execution_count": 100,
   "metadata": {},
   "outputs": [
    {
     "name": "stdout",
     "output_type": "stream",
     "text": [
      "The final distance between the ground trought and the predicted coordinates is : 6.986\n"
     ]
    }
   ],
   "source": [
    "dist = np.zeros(output_coord_2.shape[1])\n",
    "for i in range(gt_test_coord_2.shape[1]):\n",
    "    dist[i] = np.sqrt(sum((gt_test_coord_2[10,i,:]-output_coord_2[10,i,:])**2))\n",
    "\n",
    "final_coord_error = np.mean(dist)\n",
    "print('The final distance between the ground trought and the predicted coordinates is :',final_coord_error.round(3))"
   ]
  },
  {
   "cell_type": "code",
   "execution_count": 101,
   "metadata": {},
   "outputs": [
    {
     "name": "stdout",
     "output_type": "stream",
     "text": [
      "The average error between the ground trought and the predicted coordinates is : 5.134\n"
     ]
    }
   ],
   "source": [
    "avr = np.zeros((gt_test_coord_2.shape[1],11))\n",
    "for i in range(gt_test_coord_2.shape[1]):\n",
    "    for j in range(11):\n",
    "        avr[i,j] = np.sqrt(sum((gt_test_coord_2[j,i,:]-output_coord_2[j,i,:])**2))\n",
    "\n",
    "average = np.mean(np.mean(avr,1))\n",
    "print('The average error between the ground trought and the predicted coordinates is :',average.round(3))"
   ]
  },
  {
   "cell_type": "code",
   "execution_count": 102,
   "metadata": {},
   "outputs": [
    {
     "data": {
      "text/plain": [
       "(-1.2442435614685783, 0.08875424959374183, -0.604325062, 12.690826302000001)"
      ]
     },
     "execution_count": 102,
     "metadata": {},
     "output_type": "execute_result"
    },
    {
     "data": {
      "image/png": "[encoded data removed]",
      "text/plain": [
       "<matplotlib.figure.Figure at 0x1192cba58>"
      ]
     },
     "metadata": {},
     "output_type": "display_data"
    }
   ],
   "source": [
    "plt.figure(figsize=(12, 7))\n",
    "plt.rc('font', family='serif')\n",
    "plt.rc('font', size=20)\n",
    "\n",
    "ind = np.random.randint(inputs_test_2.shape[0])\n",
    "\n",
    "plt.plot(in_test_coord_2[:,ind,0],in_test_coord_2[:,ind,1],c='b')\n",
    "plt.plot(gt_test_coord_2[:,ind,0],gt_test_coord_2[:,ind,1],c='k')\n",
    "plt.plot(output_coord_2[:,ind,0],output_coord_2[:,ind,1],c='r')\n",
    "plt.axis('equal')"
   ]
  },
  {
   "cell_type": "code",
   "execution_count": 117,
   "metadata": {},
   "outputs": [
    {
     "name": "stdout",
     "output_type": "stream",
     "text": [
      "torch.Size([10, 1, 460, 164])\n"
     ]
    }
   ],
   "source": [
    "output_coord_3=np.zeros([11,inputs_test_3.shape[2],2])\n",
    "for j in range(11):\n",
    "    for i in range(inputs_test_3.shape[2]):\n",
    "        if j==0:\n",
    "            output_coord_3[j,i,0:2] = in_test_coord_3[9,i,0:2]\n",
    "        else:\n",
    "            output_coord_3[j,i,0:2] = output_coord_3[j-1,i,0:2]+output_test_3[i,j-1,2:]*0.4       "
   ]
  },
  {
   "cell_type": "code",
   "execution_count": 118,
   "metadata": {},
   "outputs": [
    {
     "name": "stdout",
     "output_type": "stream",
     "text": [
      "The final distance between the ground trought and the predicted coordinates is : 3.246\n"
     ]
    }
   ],
   "source": [
    "dist = np.zeros(output_coord_3.shape[1])\n",
    "for i in range(gt_test_coord_3.shape[1]):\n",
    "    dist[i] = np.sqrt(sum((gt_test_coord_3[10,i,:]-output_coord_3[10,i,:])**2))\n",
    "\n",
    "final_coord_error = np.mean(dist)\n",
    "print('The final distance between the ground trought and the predicted coordinates is :',final_coord_error.round(3))"
   ]
  },
  {
   "cell_type": "code",
   "execution_count": 112,
   "metadata": {},
   "outputs": [
    {
     "name": "stdout",
     "output_type": "stream",
     "text": [
      "The average error between the ground trought and the predicted coordinates is : 1.589\n"
     ]
    }
   ],
   "source": [
    "avr = np.zeros((gt_test_coord_3.shape[1],11))\n",
    "for i in range(gt_test_coord_3.shape[1]):\n",
    "    for j in range(11):\n",
    "        avr[i,j] = np.sqrt(sum((gt_test_coord_3[j,i,:]-output_coord_3[j,i,:])**2))\n",
    "\n",
    "average = np.mean(np.mean(avr,1))\n",
    "print('The average error between the ground trought and the predicted coordinates is :',average.round(3))"
   ]
  },
  {
   "cell_type": "code",
   "execution_count": 116,
   "metadata": {},
   "outputs": [
    {
     "data": {
      "text/plain": [
       "(-1.8305858096989385,\n",
       " 3.023044723677706,\n",
       " -0.31202018150000005,\n",
       " 6.552423811500001)"
      ]
     },
     "execution_count": 116,
     "metadata": {},
     "output_type": "execute_result"
    },
    {
     "data": {
      "image/png": "[encoded data removed]",
      "text/plain": [
       "<matplotlib.figure.Figure at 0x11eacfdd8>"
      ]
     },
     "metadata": {},
     "output_type": "display_data"
    }
   ],
   "source": [
    "plt.figure(figsize=(12, 7))\n",
    "plt.rc('font', family='serif')\n",
    "plt.rc('font', size=20)\n",
    "\n",
    "ind = np.random.randint(inputs_test_3.shape[0])\n",
    "\n",
    "plt.plot(in_test_coord_3[:,ind,0],in_test_coord_3[:,ind,1],c='b')\n",
    "plt.plot(gt_test_coord_3[:,ind,0],gt_test_coord_3[:,ind,1],c='k')\n",
    "plt.plot(output_coord_3[:,ind,0],output_coord_3[:,ind,1],c='r')\n",
    "plt.axis('equal')"
   ]
  },
  {
   "cell_type": "code",
   "execution_count": 27,
   "metadata": {
    "collapsed": true
   },
   "outputs": [],
   "source": [
    "torch.save(net.state_dict(), '2Loss_3CNN.pt')"
   ]
  },
  {
   "cell_type": "code",
   "execution_count": null,
   "metadata": {
    "collapsed": true
   },
   "outputs": [],
   "source": []
  }
 ],
 "metadata": {
  "kernelspec": {
   "display_name": "Python 3",
   "language": "python",
   "name": "python3"
  },
  "language_info": {
   "codemirror_mode": {
    "name": "ipython",
    "version": 3
   },
   "file_extension": ".py",
   "mimetype": "text/x-python",
   "name": "python",
   "nbconvert_exporter": "python",
   "pygments_lexer": "ipython3",
   "version": "3.6.3"
  }
 },
 "nbformat": 4,
 "nbformat_minor": 2
}
