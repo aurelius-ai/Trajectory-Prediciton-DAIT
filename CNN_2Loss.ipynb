{
 "cells": [
  {
   "cell_type": "code",
   "execution_count": 156,
   "metadata": {},
   "outputs": [
    {
     "data": {
      "text/plain": [
       "<torch._C.Generator at 0x112016910>"
      ]
     },
     "execution_count": 156,
     "metadata": {},
     "output_type": "execute_result"
    }
   ],
   "source": [
    "import torch\n",
    "from torch import nn\n",
    "from torch.autograd import Variable\n",
    "import torchvision.datasets as dsets\n",
    "import torchvision.transforms as transforms\n",
    "import matplotlib.pyplot as plt\n",
    "from CNN2D import *\n",
    "import pandas as pd\n",
    "import numpy as np\n",
    "import torch.utils.data as utils\n",
    "import time\n",
    "import os\n",
    "import pickle\n",
    "\n",
    "import pdb\n",
    "\n",
    "# For the notebook\n",
    "%matplotlib inline\n",
    "%reload_ext autoreload\n",
    "%autoreload 2\n",
    "\n",
    "torch.manual_seed(1)"
   ]
  },
  {
   "cell_type": "markdown",
   "metadata": {},
   "source": [
    "## TRAIN SET"
   ]
  },
  {
   "cell_type": "code",
   "execution_count": 157,
   "metadata": {
    "scrolled": false
   },
   "outputs": [
    {
     "data": {
      "text/plain": [
       "(torch.Size([5157, 1, 10, 164]), torch.Size([5157, 1, 11, 4]))"
      ]
     },
     "execution_count": 157,
     "metadata": {},
     "output_type": "execute_result"
    }
   ],
   "source": [
    "gt_train_coord = pickle.load( open( \"./import_dataset_2/train/gt_train_coord.pkl\", \"rb\" ) )\n",
    "gt_train  = pickle.load( open( \"./import_dataset_2/train/gt_train.pkl\", \"rb\" ) )\n",
    "in_train_coord  = pickle.load( open( \"./import_dataset_2/train/in_train_coord.pkl\", \"rb\" ) )\n",
    "inputs_train = pickle.load( open( \"./import_dataset_2/train/inputs_train.pkl\", \"rb\" ) )\n",
    "\n",
    "inputs_train = torch.from_numpy(inputs_train).float()\n",
    "gt_train = torch.from_numpy(gt_train).float()\n",
    "\n",
    "gt_train = gt_train.unsqueeze(1) # add 1 dimension to the training set\n",
    "inputs_train = inputs_train.unsqueeze(1) # add 1 dimension to the training set\n",
    "\n",
    "inputs_train.shape,gt_train.shape"
   ]
  },
  {
   "cell_type": "markdown",
   "metadata": {},
   "source": [
    "## VALIDATION SET"
   ]
  },
  {
   "cell_type": "code",
   "execution_count": 158,
   "metadata": {},
   "outputs": [
    {
     "name": "stdout",
     "output_type": "stream",
     "text": [
      "torch.Size([1719, 1, 10, 164])\n"
     ]
    },
    {
     "data": {
      "text/plain": [
       "((11, 1719, 2),\n",
       " torch.Size([1719, 1, 11, 4]),\n",
       " (10, 1719, 2),\n",
       " torch.Size([1719, 1, 10, 164]))"
      ]
     },
     "execution_count": 158,
     "metadata": {},
     "output_type": "execute_result"
    }
   ],
   "source": [
    "gt_validation_coord = pickle.load( open( \"./import_dataset_2/validation/gt_validation_coord.pkl\", \"rb\" ) )\n",
    "gt_validation = pickle.load( open( \"./import_dataset_2/validation/gt_validation.pkl\", \"rb\" ) )\n",
    "in_validation_coord = pickle.load( open( \"./import_dataset_2/validation/in_validation_coord.pkl\", \"rb\" ) )\n",
    "inputs_validation = pickle.load( open( \"./import_dataset_2/validation/inputs_validation.pkl\", \"rb\" ) )\n",
    "\n",
    "inputs_validation = torch.from_numpy(inputs_validation).float()\n",
    "gt_validation = torch.from_numpy(gt_validation).float()\n",
    "\n",
    "gt_validation = gt_validation.unsqueeze(1) # add 1 dimension to the training set\n",
    "inputs_validation = inputs_validation.unsqueeze(1) # add 1 dimension to the training set\n",
    "print (inputs_validation.shape)\n",
    "\n",
    "gt_validation_coord.shape,gt_validation.shape,in_validation_coord.shape,inputs_validation.shape"
   ]
  },
  {
   "cell_type": "markdown",
   "metadata": {},
   "source": [
    "## TEST SET"
   ]
  },
  {
   "cell_type": "code",
   "execution_count": 159,
   "metadata": {},
   "outputs": [
    {
     "name": "stdout",
     "output_type": "stream",
     "text": [
      "torch.Size([10, 1, 251, 164])\n"
     ]
    }
   ],
   "source": [
    "gt_test_coord_1 = pickle.load( open( \"./import_dataset_2/test/gt_test_coord_1.pkl\", \"rb\" ) )\n",
    "gt_test_1 = pickle.load( open( \"./import_dataset_2/test/gt_test_1.pkl\", \"rb\" ) )\n",
    "in_test_coord_1 = pickle.load( open( \"./import_dataset_2/test/in_test_coord_1.pkl\", \"rb\" ) )\n",
    "inputs_test_1 = pickle.load( open( \"./import_dataset_2/test/inputs_test_1.pkl\", \"rb\" ) )\n",
    "\n",
    "gt_test_coord_2 = pickle.load( open( \"./import_dataset_2/test/gt_test_coord_2.pkl\", \"rb\" ) )\n",
    "gt_test_2 = pickle.load( open( \"./import_dataset_2/test/gt_test_2.pkl\", \"rb\" ) )\n",
    "in_test_coord_2 = pickle.load( open( \"./import_dataset_2/test/in_test_coord_2.pkl\", \"rb\" ) )\n",
    "inputs_test_2 = pickle.load( open( \"./import_dataset_2/test/inputs_test_2.pkl\", \"rb\" ) )\n",
    "\n",
    "gt_test_coord_3 = pickle.load( open( \"./import_dataset_2/test/gt_test_coord_3.pkl\", \"rb\" ) )\n",
    "gt_test_3 = pickle.load( open( \"./import_dataset_2/test/gt_test_3.pkl\", \"rb\" ) )\n",
    "in_test_coord_3 = pickle.load( open( \"./import_dataset_2/test/in_test_coord_3.pkl\", \"rb\" ) )\n",
    "inputs_test_3 = pickle.load( open( \"./import_dataset_2/test/inputs_test_3.pkl\", \"rb\" ) )\n",
    "\n",
    "inputs_test_1 = torch.from_numpy(inputs_test_1).float()\n",
    "gt_test_1 = torch.from_numpy(gt_test_1).float()\n",
    "inputs_test_1 = inputs_test_1.unsqueeze(1) \n",
    "\n",
    "inputs_test_2 = torch.from_numpy(inputs_test_2).float()\n",
    "gt_test_2 = torch.from_numpy(gt_test_2).float()\n",
    "inputs_test_2 = inputs_test_2.unsqueeze(1)\n",
    "\n",
    "inputs_test_3 = torch.from_numpy(inputs_test_3).float()\n",
    "gt_test_3 = torch.from_numpy(gt_test_3).float()\n",
    "inputs_test_3 = inputs_test_3.unsqueeze(1)\n",
    "print (inputs_test_1.shape)"
   ]
  },
  {
   "cell_type": "code",
   "execution_count": 160,
   "metadata": {
    "collapsed": true
   },
   "outputs": [],
   "source": [
    "net = CNN2D()\n",
    "criterion = torch.nn.MSELoss()\n",
    "optimizer = torch.optim.Adam(net.parameters(), lr=0.0001, weight_decay=1e-4)\n",
    "\n",
    "traindataset = utils.TensorDataset(inputs_train, gt_train[:,:,1:,:])\n",
    "trainloader = utils.DataLoader(traindataset, batch_size=16, shuffle=True)\n",
    "\n",
    "valdataset = utils.TensorDataset(inputs_validation, gt_validation[:,:,1:,:])\n",
    "valloader = utils.DataLoader(valdataset, batch_size=16, shuffle=True)"
   ]
  },
  {
   "cell_type": "code",
   "execution_count": 161,
   "metadata": {
    "scrolled": true
   },
   "outputs": [
    {
     "name": "stdout",
     "output_type": "stream",
     "text": [
      "Epoch: 1/150.. Validation Loss: 2.9668.. Training Loss: 5.8065.. 0.0249 s/batch \n",
      "Epoch: 2/150.. Validation Loss: 2.2614.. Training Loss: 4.0278.. 0.0260 s/batch \n",
      "Epoch: 3/150.. Validation Loss: 1.8498.. Training Loss: 3.4996.. 0.0326 s/batch \n",
      "Epoch: 4/150.. Validation Loss: 1.5173.. Training Loss: 3.0940.. 0.0339 s/batch \n",
      "Epoch: 5/150.. Validation Loss: 1.2928.. Training Loss: 2.7977.. 0.0422 s/batch \n",
      "Epoch: 6/150.. Validation Loss: 1.2047.. Training Loss: 2.6337.. 0.0380 s/batch \n",
      "Epoch: 7/150.. Validation Loss: 1.0836.. Training Loss: 2.5414.. 0.0427 s/batch \n",
      "Epoch: 8/150.. Validation Loss: 1.0509.. Training Loss: 2.4680.. 0.0370 s/batch \n",
      "Epoch: 9/150.. Validation Loss: 0.9975.. Training Loss: 2.4317.. 0.0433 s/batch \n",
      "Epoch: 10/150.. Validation Loss: 0.9853.. Training Loss: 2.3974.. 0.0351 s/batch \n",
      "Epoch: 11/150.. Validation Loss: 1.0269.. Training Loss: 2.3642.. 0.0327 s/batch \n",
      "Epoch: 12/150.. Validation Loss: 0.9098.. Training Loss: 2.3160.. 0.0448 s/batch \n",
      "Epoch: 13/150.. Validation Loss: 0.8860.. Training Loss: 2.2940.. 0.0481 s/batch \n",
      "Epoch: 14/150.. Validation Loss: 0.8828.. Training Loss: 2.2516.. 0.0406 s/batch \n",
      "Epoch: 15/150.. Validation Loss: 0.8105.. Training Loss: 2.2226.. 0.0416 s/batch \n",
      "Epoch: 16/150.. Validation Loss: 0.7873.. Training Loss: 2.1917.. 0.0366 s/batch \n",
      "Epoch: 17/150.. Validation Loss: 0.8076.. Training Loss: 2.1468.. 0.0397 s/batch \n",
      "Epoch: 18/150.. Validation Loss: 0.8066.. Training Loss: 2.1278.. 0.0393 s/batch \n",
      "Epoch: 19/150.. Validation Loss: 0.7027.. Training Loss: 2.0894.. 0.0418 s/batch \n",
      "Epoch: 20/150.. Validation Loss: 0.6913.. Training Loss: 2.0743.. 0.0366 s/batch \n",
      "Epoch: 21/150.. Validation Loss: 0.6622.. Training Loss: 2.0447.. 0.0444 s/batch \n",
      "Epoch: 22/150.. Validation Loss: 0.6520.. Training Loss: 2.0283.. 0.0436 s/batch \n",
      "Epoch: 23/150.. Validation Loss: 0.6332.. Training Loss: 2.0158.. 0.0382 s/batch \n",
      "Epoch: 24/150.. Validation Loss: 0.6269.. Training Loss: 2.0061.. 0.0369 s/batch \n",
      "Epoch: 25/150.. Validation Loss: 0.6103.. Training Loss: 1.9827.. 0.0411 s/batch \n",
      "Epoch: 26/150.. Validation Loss: 0.6090.. Training Loss: 1.9663.. 0.0413 s/batch \n",
      "Epoch: 27/150.. Validation Loss: 0.5833.. Training Loss: 1.9548.. 0.0362 s/batch \n",
      "Epoch: 28/150.. Validation Loss: 0.6246.. Training Loss: 1.9520.. 0.0371 s/batch \n",
      "Epoch: 29/150.. Validation Loss: 0.5775.. Training Loss: 1.9462.. 0.0431 s/batch \n",
      "Epoch: 30/150.. Validation Loss: 0.5722.. Training Loss: 1.9326.. 0.0392 s/batch \n",
      "Epoch: 31/150.. Validation Loss: 0.5630.. Training Loss: 1.9206.. 0.0359 s/batch \n",
      "Epoch: 32/150.. Validation Loss: 0.5762.. Training Loss: 1.9137.. 0.0401 s/batch \n",
      "Epoch: 33/150.. Validation Loss: 0.5786.. Training Loss: 1.9097.. 0.0385 s/batch \n",
      "Epoch: 34/150.. Validation Loss: 0.5489.. Training Loss: 1.9068.. 0.0432 s/batch \n",
      "Epoch: 35/150.. Validation Loss: 0.5535.. Training Loss: 1.8960.. 0.0455 s/batch \n",
      "Epoch: 36/150.. Validation Loss: 0.5291.. Training Loss: 1.8929.. 0.0413 s/batch \n",
      "Epoch: 37/150.. Validation Loss: 0.5493.. Training Loss: 1.8894.. 0.0397 s/batch \n",
      "Epoch: 38/150.. Validation Loss: 0.5258.. Training Loss: 1.8777.. 0.0381 s/batch \n",
      "Epoch: 39/150.. Validation Loss: 0.5235.. Training Loss: 1.8737.. 0.0311 s/batch \n",
      "Epoch: 40/150.. Validation Loss: 0.5263.. Training Loss: 1.8630.. 0.0371 s/batch \n",
      "Epoch: 41/150.. Validation Loss: 0.5249.. Training Loss: 1.8694.. 0.0353 s/batch \n",
      "Epoch: 42/150.. Validation Loss: 0.5442.. Training Loss: 1.8573.. 0.0327 s/batch \n",
      "Epoch: 43/150.. Validation Loss: 0.5202.. Training Loss: 1.8514.. 0.0368 s/batch \n",
      "Epoch: 44/150.. Validation Loss: 0.5075.. Training Loss: 1.8500.. 0.0355 s/batch \n",
      "Epoch: 45/150.. Validation Loss: 0.5092.. Training Loss: 1.8387.. 0.0347 s/batch \n",
      "Epoch: 46/150.. Validation Loss: 0.5132.. Training Loss: 1.8430.. 0.0305 s/batch \n",
      "Epoch: 47/150.. Validation Loss: 0.5019.. Training Loss: 1.8377.. 0.0361 s/batch \n",
      "Epoch: 48/150.. Validation Loss: 0.5332.. Training Loss: 1.8315.. 0.0359 s/batch \n",
      "Epoch: 49/150.. Validation Loss: 0.5231.. Training Loss: 1.8326.. 0.0327 s/batch \n",
      "Epoch: 50/150.. Validation Loss: 0.5308.. Training Loss: 1.8253.. 0.0341 s/batch \n",
      "Epoch: 51/150.. Validation Loss: 0.4974.. Training Loss: 1.8268.. 0.0354 s/batch \n",
      "Epoch: 52/150.. Validation Loss: 0.5029.. Training Loss: 1.8168.. 0.0356 s/batch \n",
      "Epoch: 53/150.. Validation Loss: 0.5047.. Training Loss: 1.8136.. 0.0337 s/batch \n",
      "Epoch: 54/150.. Validation Loss: 0.5072.. Training Loss: 1.8159.. 0.0350 s/batch \n",
      "Epoch: 55/150.. Validation Loss: 0.4920.. Training Loss: 1.8091.. 0.0380 s/batch \n",
      "Epoch: 56/150.. Validation Loss: 0.4810.. Training Loss: 1.8081.. 0.0310 s/batch \n",
      "Epoch: 57/150.. Validation Loss: 0.4955.. Training Loss: 1.8017.. 0.0312 s/batch \n",
      "Epoch: 58/150.. Validation Loss: 0.4890.. Training Loss: 1.7961.. 0.0333 s/batch \n",
      "Epoch: 59/150.. Validation Loss: 0.4986.. Training Loss: 1.8052.. 0.0342 s/batch \n",
      "Epoch: 60/150.. Validation Loss: 0.4888.. Training Loss: 1.7950.. 0.0344 s/batch \n",
      "Epoch: 61/150.. Validation Loss: 0.4680.. Training Loss: 1.7953.. 0.0327 s/batch \n",
      "Epoch: 62/150.. Validation Loss: 0.4803.. Training Loss: 1.7907.. 0.0336 s/batch \n",
      "Epoch: 63/150.. Validation Loss: 0.4968.. Training Loss: 1.7964.. 0.0351 s/batch \n",
      "Epoch: 64/150.. Validation Loss: 0.4832.. Training Loss: 1.7795.. 0.0331 s/batch \n",
      "Epoch: 65/150.. Validation Loss: 0.4869.. Training Loss: 1.7816.. 0.0345 s/batch \n",
      "Epoch: 66/150.. Validation Loss: 0.4759.. Training Loss: 1.7791.. 0.0353 s/batch \n",
      "Epoch: 67/150.. Validation Loss: 0.4827.. Training Loss: 1.7725.. 0.0338 s/batch \n",
      "Epoch: 68/150.. Validation Loss: 0.4716.. Training Loss: 1.7783.. 0.0342 s/batch \n",
      "Epoch: 69/150.. Validation Loss: 0.4765.. Training Loss: 1.7745.. 0.0432 s/batch \n",
      "Epoch: 70/150.. Validation Loss: 0.4706.. Training Loss: 1.7777.. 0.0413 s/batch \n",
      "Epoch: 71/150.. Validation Loss: 0.4658.. Training Loss: 1.7699.. 0.0379 s/batch \n",
      "Epoch: 72/150.. Validation Loss: 0.4674.. Training Loss: 1.7711.. 0.0400 s/batch \n",
      "Epoch: 73/150.. Validation Loss: 0.4607.. Training Loss: 1.7691.. 0.0384 s/batch \n",
      "Epoch: 74/150.. Validation Loss: 0.4782.. Training Loss: 1.7622.. 0.0482 s/batch \n",
      "Epoch: 75/150.. Validation Loss: 0.4693.. Training Loss: 1.7676.. 0.0423 s/batch \n",
      "Epoch: 76/150.. Validation Loss: 0.4563.. Training Loss: 1.7617.. 0.0374 s/batch \n",
      "Epoch: 77/150.. Validation Loss: 0.4550.. Training Loss: 1.7590.. 0.0435 s/batch \n",
      "Epoch: 78/150.. Validation Loss: 0.4781.. Training Loss: 1.7565.. 0.0418 s/batch \n",
      "Epoch: 79/150.. Validation Loss: 0.4603.. Training Loss: 1.7621.. 0.0391 s/batch \n",
      "Epoch: 80/150.. Validation Loss: 0.4569.. Training Loss: 1.7562.. 0.0400 s/batch \n",
      "Epoch: 81/150.. Validation Loss: 0.4602.. Training Loss: 1.7562.. 0.0467 s/batch \n",
      "Epoch: 82/150.. Validation Loss: 0.4531.. Training Loss: 1.7479.. 0.0439 s/batch \n",
      "Epoch: 83/150.. Validation Loss: 0.4520.. Training Loss: 1.7481.. 0.0305 s/batch \n",
      "Epoch: 84/150.. Validation Loss: 0.4575.. Training Loss: 1.7479.. 0.0317 s/batch \n",
      "Epoch: 85/150.. Validation Loss: 0.4472.. Training Loss: 1.7399.. 0.0328 s/batch \n",
      "Epoch: 86/150.. Validation Loss: 0.4579.. Training Loss: 1.7453.. 0.0354 s/batch \n",
      "Epoch: 87/150.. Validation Loss: 0.4586.. Training Loss: 1.7431.. 0.0356 s/batch \n",
      "Epoch: 88/150.. Validation Loss: 0.4677.. Training Loss: 1.7448.. 0.0410 s/batch \n",
      "Epoch: 89/150.. Validation Loss: 0.4663.. Training Loss: 1.7425.. 0.0487 s/batch \n",
      "Epoch: 90/150.. Validation Loss: 0.4641.. Training Loss: 1.7435.. 0.0476 s/batch \n",
      "Epoch: 91/150.. Validation Loss: 0.4549.. Training Loss: 1.7346.. 0.0434 s/batch \n",
      "Epoch: 92/150.. Validation Loss: 0.4540.. Training Loss: 1.7361.. 0.0420 s/batch \n",
      "Epoch: 93/150.. Validation Loss: 0.4511.. Training Loss: 1.7357.. 0.0452 s/batch \n",
      "Epoch: 94/150.. Validation Loss: 0.4771.. Training Loss: 1.7370.. 0.0405 s/batch \n",
      "Epoch: 95/150.. Validation Loss: 0.4537.. Training Loss: 1.7283.. 0.0424 s/batch \n",
      "Epoch: 96/150.. Validation Loss: 0.4546.. Training Loss: 1.7344.. 0.0319 s/batch \n",
      "Epoch: 97/150.. Validation Loss: 0.4533.. Training Loss: 1.7268.. 0.0220 s/batch \n",
      "Epoch: 98/150.. Validation Loss: 0.4487.. Training Loss: 1.7295.. 0.0228 s/batch \n",
      "Epoch: 99/150.. Validation Loss: 0.4481.. Training Loss: 1.7266.. 0.0220 s/batch \n",
      "Epoch: 100/150.. Validation Loss: 0.4439.. Training Loss: 1.7266.. 0.0262 s/batch \n",
      "Epoch: 101/150.. Validation Loss: 0.4390.. Training Loss: 1.7235.. 0.0248 s/batch \n"
     ]
    },
    {
     "name": "stdout",
     "output_type": "stream",
     "text": [
      "Epoch: 102/150.. Validation Loss: 0.4415.. Training Loss: 1.7218.. 0.0247 s/batch \n",
      "Epoch: 103/150.. Validation Loss: 0.4440.. Training Loss: 1.7256.. 0.0242 s/batch \n",
      "Epoch: 104/150.. Validation Loss: 0.4416.. Training Loss: 1.7257.. 0.0270 s/batch \n",
      "Epoch: 105/150.. Validation Loss: 0.4448.. Training Loss: 1.7210.. 0.0243 s/batch \n",
      "Epoch: 106/150.. Validation Loss: 0.4523.. Training Loss: 1.7206.. 0.0264 s/batch \n",
      "Epoch: 107/150.. Validation Loss: 0.4455.. Training Loss: 1.7172.. 0.0252 s/batch \n",
      "Epoch: 108/150.. Validation Loss: 0.4466.. Training Loss: 1.7181.. 0.0257 s/batch \n",
      "Epoch: 109/150.. Validation Loss: 0.4427.. Training Loss: 1.7179.. 0.0253 s/batch \n",
      "Epoch: 110/150.. Validation Loss: 0.4406.. Training Loss: 1.7191.. 0.0230 s/batch \n",
      "Epoch: 111/150.. Validation Loss: 0.4439.. Training Loss: 1.7171.. 0.0235 s/batch \n",
      "Epoch: 112/150.. Validation Loss: 0.4358.. Training Loss: 1.7104.. 0.0287 s/batch \n",
      "Epoch: 113/150.. Validation Loss: 0.4461.. Training Loss: 1.7110.. 0.0266 s/batch \n",
      "Epoch: 114/150.. Validation Loss: 0.4444.. Training Loss: 1.7107.. 0.0250 s/batch \n",
      "Epoch: 115/150.. Validation Loss: 0.4347.. Training Loss: 1.7167.. 0.0256 s/batch \n",
      "Epoch: 116/150.. Validation Loss: 0.4414.. Training Loss: 1.7175.. 0.0266 s/batch \n",
      "Epoch: 117/150.. Validation Loss: 0.4353.. Training Loss: 1.7081.. 0.0243 s/batch \n",
      "Epoch: 118/150.. Validation Loss: 0.4518.. Training Loss: 1.7068.. 0.0200 s/batch \n",
      "Epoch: 119/150.. Validation Loss: 0.4775.. Training Loss: 1.7073.. 0.0245 s/batch \n",
      "Epoch: 120/150.. Validation Loss: 0.4461.. Training Loss: 1.7075.. 0.0239 s/batch \n",
      "Epoch: 121/150.. Validation Loss: 0.4567.. Training Loss: 1.7077.. 0.0209 s/batch \n",
      "Epoch: 122/150.. Validation Loss: 0.4506.. Training Loss: 1.7063.. 0.0192 s/batch \n",
      "Epoch: 123/150.. Validation Loss: 0.4446.. Training Loss: 1.7084.. 0.0195 s/batch \n",
      "Epoch: 124/150.. Validation Loss: 0.4744.. Training Loss: 1.7027.. 0.0222 s/batch \n",
      "Epoch: 125/150.. Validation Loss: 0.4389.. Training Loss: 1.7011.. 0.0252 s/batch \n",
      "Epoch: 126/150.. Validation Loss: 0.4585.. Training Loss: 1.7022.. 0.0215 s/batch \n",
      "Epoch: 127/150.. Validation Loss: 0.4540.. Training Loss: 1.6988.. 0.0209 s/batch \n",
      "Epoch: 128/150.. Validation Loss: 0.4381.. Training Loss: 1.7028.. 0.0233 s/batch \n",
      "Epoch: 129/150.. Validation Loss: 0.4352.. Training Loss: 1.6992.. 0.0278 s/batch \n",
      "Epoch: 130/150.. Validation Loss: 0.4505.. Training Loss: 1.7063.. 0.0263 s/batch \n",
      "Epoch: 131/150.. Validation Loss: 0.4413.. Training Loss: 1.6975.. 0.0217 s/batch \n",
      "Epoch: 132/150.. Validation Loss: 0.4417.. Training Loss: 1.6965.. 0.0291 s/batch \n",
      "Epoch: 133/150.. Validation Loss: 0.4479.. Training Loss: 1.6954.. 0.0256 s/batch \n",
      "Epoch: 134/150.. Validation Loss: 0.4423.. Training Loss: 1.6950.. 0.0250 s/batch \n",
      "Epoch: 135/150.. Validation Loss: 0.4426.. Training Loss: 1.7000.. 0.0266 s/batch \n",
      "Epoch: 136/150.. Validation Loss: 0.4375.. Training Loss: 1.6955.. 0.0284 s/batch \n",
      "Epoch: 137/150.. Validation Loss: 0.4466.. Training Loss: 1.6946.. 0.0277 s/batch \n",
      "Epoch: 138/150.. Validation Loss: 0.4583.. Training Loss: 1.6923.. 0.0254 s/batch \n",
      "Epoch: 139/150.. Validation Loss: 0.4495.. Training Loss: 1.6962.. 0.0294 s/batch \n",
      "Epoch: 140/150.. Validation Loss: 0.4393.. Training Loss: 1.6923.. 0.0249 s/batch \n",
      "Epoch: 141/150.. Validation Loss: 0.4407.. Training Loss: 1.6866.. 0.0241 s/batch \n",
      "Epoch: 142/150.. Validation Loss: 0.4414.. Training Loss: 1.6921.. 0.0256 s/batch \n",
      "Epoch: 143/150.. Validation Loss: 0.4403.. Training Loss: 1.6901.. 0.0266 s/batch \n",
      "Epoch: 144/150.. Validation Loss: 0.4410.. Training Loss: 1.6904.. 0.0254 s/batch \n",
      "Epoch: 145/150.. Validation Loss: 0.4427.. Training Loss: 1.6908.. 0.0272 s/batch \n",
      "Epoch: 146/150.. Validation Loss: 0.4325.. Training Loss: 1.6858.. 0.0246 s/batch \n",
      "Epoch: 147/150.. Validation Loss: 0.4557.. Training Loss: 1.6888.. 0.0243 s/batch \n",
      "Epoch: 148/150.. Validation Loss: 0.4441.. Training Loss: 1.6924.. 0.0225 s/batch \n",
      "Epoch: 149/150.. Validation Loss: 0.4470.. Training Loss: 1.6911.. 0.0214 s/batch \n",
      "Epoch: 150/150.. Validation Loss: 0.4403.. Training Loss: 1.6860.. 0.0266 s/batch \n"
     ]
    }
   ],
   "source": [
    "epochs = 150\n",
    "steps = 0\n",
    "running_loss = 0\n",
    "print_every = 323\n",
    "loss_train = []\n",
    "loss_val = []\n",
    "\n",
    "for e in range(epochs):\n",
    "    start = time.time()\n",
    "    steps_bis = 0\n",
    "    total_train_loss=0\n",
    "    for train_coord, ground_tru in iter(trainloader):\n",
    "        \n",
    "        steps += 1\n",
    "        steps_bis += 1\n",
    "\n",
    "        input_train = Variable(train_coord)\n",
    "        in_train = input_train.squeeze(1)\n",
    "        target = Variable(ground_tru)\n",
    "        targets = target.squeeze(1)\n",
    "        optimizer.zero_grad()\n",
    "        #print(in_train.shape)\n",
    "        #print(targets.shape)\n",
    "        out = net.forward(input_train)\n",
    "        out = out.reshape(out.shape[0],10,4)\n",
    "        loss1 = (criterion(out[:,:,0:2], targets[:,:,0:2]))\n",
    "        loss2 = (criterion(out[:,:,2:], targets[:,:,2:]))\n",
    "        \n",
    "        loss1.backward(retain_graph=True)\n",
    "        loss2.backward(retain_graph=True)\n",
    "        optimizer.step()\n",
    "        \n",
    "        running_loss += (loss1+loss2+loss3).item()\n",
    "        total_train_loss += (loss1+loss2+loss3).item()\n",
    "        \n",
    "        if steps % print_every == 0:\n",
    "            stop = time.time()\n",
    "            val_loss=0\n",
    "            \n",
    "            for ii, (images, labels) in enumerate(valloader):\n",
    "                \n",
    "                inp = Variable(images)\n",
    "                input_val = inp.squeeze(1)\n",
    "                lab = Variable(labels)\n",
    "                valgt = lab.squeeze(1)\n",
    "                predicted = net.predict(inp)\n",
    "                predicted = predicted.reshape(predicted.shape[0],10,4)\n",
    "                predicted_bis = predicted[:,:,0:2].clone()\n",
    "                \n",
    "                val_loss+= (criterion(predicted[:,:,0:2],valgt[:,:,0:2]).item()\n",
    "                                + criterion(predicted[:,:,2:],valgt[:,:,2:]).item())\n",
    "                                #+ criterion(predicted_bis, valgt[:,:,0:2]).item())\n",
    "                \n",
    "            print(\"Epoch: {}/{}..\".format(e+1, epochs),\n",
    "                  \"Validation Loss: {:.4f}..\".format(val_loss/ii),\n",
    "                  \"Training Loss: {:.4f}..\".format(running_loss/print_every),\n",
    "                  \"{:.4f} s/batch \".format((stop - start)/print_every),\n",
    "                 )\n",
    "            loss_val.append(val_loss/ii)\n",
    "            running_loss = 0\n",
    "            start = time.time()\n",
    "    loss_train.append(total_train_loss/steps_bis)"
   ]
  },
  {
   "cell_type": "code",
   "execution_count": 162,
   "metadata": {},
   "outputs": [
    {
     "data": {
      "text/plain": [
       "<matplotlib.legend.Legend at 0x10f92c908>"
      ]
     },
     "execution_count": 162,
     "metadata": {},
     "output_type": "execute_result"
    },
    {
     "data": {
      "image/png": "[encoded data removed]",
      "text/plain": [
       "<matplotlib.figure.Figure at 0x117cd5a58>"
      ]
     },
     "metadata": {},
     "output_type": "display_data"
    }
   ],
   "source": [
    "epoch = np.arange(1,epochs+1)\n",
    "plt.figure(figsize=(12, 7))\n",
    "plt.rc('font', family='serif')\n",
    "plt.rc('font', size=20)\n",
    "\n",
    "plt.plot(epoch,loss_train,label='Training loss')\n",
    "plt.plot(epoch,loss_val,c='k',label='Validation loss')\n",
    "plt.xlabel('epoch')\n",
    "plt.ylabel('MSE error')\n",
    "plt.legend()"
   ]
  },
  {
   "cell_type": "code",
   "execution_count": 163,
   "metadata": {},
   "outputs": [
    {
     "name": "stdout",
     "output_type": "stream",
     "text": [
      "torch.Size([10, 1, 251, 164])\n"
     ]
    }
   ],
   "source": [
    "print(inputs_test_1.shape)\n",
    "output_test_1 = net.predict(inputs_test_1)\n",
    "output_test_1 = output_test_1.data.numpy()\n",
    "output_test_1 = np.reshape(output_test_1,(250,10,4))\n",
    "\n",
    "output_test_2 = net.predict(inputs_test_2)\n",
    "output_test_2 = output_test_2.data.numpy()\n",
    "output_test_2 = np.reshape(output_test_2,(1006,10,4))\n",
    "\n",
    "output_test_3 = net.predict(inputs_test_3)\n",
    "output_test_3 = output_test_3.data.numpy()\n",
    "output_test_3 = np.reshape(output_test_3,(460,10,4))"
   ]
  },
  {
   "cell_type": "markdown",
   "metadata": {},
   "source": [
    "## Post processing step\n",
    "Go back to coordinate:\n",
    "We have Vx and Vy and we want x and y.\n",
    "$ V = d/t$\n",
    "$ d = V*t$\n",
    "Here t = 0.4s between each point.\n",
    "Start from data at index 9. Then we add d_x and d_y to the last x and y."
   ]
  },
  {
   "cell_type": "markdown",
   "metadata": {},
   "source": [
    "##### Type 1 trajectory"
   ]
  },
  {
   "cell_type": "code",
   "execution_count": 164,
   "metadata": {},
   "outputs": [
    {
     "name": "stdout",
     "output_type": "stream",
     "text": [
      "(250, 10, 4)\n"
     ]
    }
   ],
   "source": [
    "output_coord_1=np.zeros([11,inputs_test_1.shape[2],2])\n",
    "print(output_test_1.shape)\n",
    "for j in range(11):\n",
    "    for i in range(output_test_1.shape[2]):\n",
    "        if j==0:\n",
    "            output_coord_1[j,i,0:2] = in_test_coord_1[9,i,0:2]\n",
    "        else:\n",
    "            output_coord_1[j,i,0:2] = output_coord_1[j-1,i,0:2]+output_test_1[i,j-1,2:]*0.4\n",
    "        "
   ]
  },
  {
   "cell_type": "code",
   "execution_count": 165,
   "metadata": {},
   "outputs": [
    {
     "name": "stdout",
     "output_type": "stream",
     "text": [
      "The final distance between the ground trought and the predicted coordinates is : 3.925\n"
     ]
    }
   ],
   "source": [
    "dist = np.zeros(output_test_1.shape[2])\n",
    "for i in range(output_test_1.shape[2]):\n",
    "    dist[i] = np.sqrt(sum((gt_test_coord_1[10,i,:]-output_coord_1[10,i,:])**2))\n",
    "\n",
    "final_coord_error = np.mean(dist)\n",
    "print('The final distance between the ground trought and the predicted coordinates is :',final_coord_error.round(3))"
   ]
  },
  {
   "cell_type": "code",
   "execution_count": 166,
   "metadata": {},
   "outputs": [
    {
     "name": "stdout",
     "output_type": "stream",
     "text": [
      "The average error between the ground trought and the predicted coordinates is : 2.296\n"
     ]
    }
   ],
   "source": [
    "avr = np.zeros((output_test_1.shape[2],11))\n",
    "for i in range(output_test_1.shape[2]):\n",
    "    for j in range(11):\n",
    "        avr[i,j] = np.sqrt(sum((gt_test_coord_1[j,i,:]-output_coord_1[j,i,:])**2))\n",
    "\n",
    "average = np.mean(np.mean(avr,1))\n",
    "print('The average error between the ground trought and the predicted coordinates is :',average.round(3))"
   ]
  },
  {
   "cell_type": "code",
   "execution_count": 167,
   "metadata": {},
   "outputs": [
    {
     "data": {
      "text/plain": [
       "(-0.22561820071190597,\n",
       " 0.42864036675542594,\n",
       " -0.17182078605890275,\n",
       " 3.6082365072369575)"
      ]
     },
     "execution_count": 167,
     "metadata": {},
     "output_type": "execute_result"
    },
    {
     "data": {
      "image/png": "[encoded data removed]",
      "text/plain": [
       "<matplotlib.figure.Figure at 0x1176e9da0>"
      ]
     },
     "metadata": {},
     "output_type": "display_data"
    }
   ],
   "source": [
    "plt.figure(figsize=(12, 7))\n",
    "plt.rc('font', family='serif')\n",
    "plt.rc('font', size=20)\n",
    "\n",
    "ind = np.random.randint(inputs_test_1.shape[1])\n",
    "\n",
    "plt.plot(in_test_coord_1[:,ind,0],in_test_coord_1[:,ind,1],c='b')\n",
    "plt.plot(gt_test_coord_1[:,ind,0],gt_test_coord_1[:,ind,1],c='k')\n",
    "plt.plot(output_coord_1[:,ind,0],output_coord_1[:,ind,1],c='r')\n",
    "plt.axis('equal')"
   ]
  },
  {
   "cell_type": "code",
   "execution_count": 168,
   "metadata": {
    "collapsed": true
   },
   "outputs": [],
   "source": [
    "output_coord_2=np.zeros([11,inputs_test_2.shape[2],2])\n",
    "for j in range(11):\n",
    "    for i in range(output_test_2.shape[2]):\n",
    "        if j==0:\n",
    "            output_coord_2[j,i,0:2] = in_test_coord_2[9,i,0:2]\n",
    "        else:\n",
    "            output_coord_2[j,i,0:2] = output_coord_2[j-1,i,0:2]+output_test_2[i,j-1,2:]*0.4\n",
    "        "
   ]
  },
  {
   "cell_type": "code",
   "execution_count": 169,
   "metadata": {},
   "outputs": [
    {
     "name": "stdout",
     "output_type": "stream",
     "text": [
      "The final distance between the ground trought and the predicted coordinates is : 4.65\n"
     ]
    }
   ],
   "source": [
    "dist = np.zeros(output_test_2.shape[2])\n",
    "for i in range(output_test_2.shape[2]):\n",
    "    dist[i] = np.sqrt(sum((gt_test_coord_2[10,i,:]-output_coord_2[10,i,:])**2))\n",
    "\n",
    "final_coord_error = np.mean(dist)\n",
    "print('The final distance between the ground trought and the predicted coordinates is :',final_coord_error.round(3))"
   ]
  },
  {
   "cell_type": "code",
   "execution_count": 170,
   "metadata": {},
   "outputs": [
    {
     "name": "stdout",
     "output_type": "stream",
     "text": [
      "The average error between the ground trought and the predicted coordinates is : 5.678\n"
     ]
    }
   ],
   "source": [
    "avr = np.zeros((output_test_2.shape[1],11))\n",
    "for i in range(output_test_2.shape[1]):\n",
    "    for j in range(11):\n",
    "        avr[i,j] = np.sqrt(sum((gt_test_coord_2[j,i,:]-output_coord_2[j,i,:])**2))\n",
    "\n",
    "average = np.mean(np.mean(avr,1))\n",
    "print('The average error between the ground trought and the predicted coordinates is :',average.round(3))"
   ]
  },
  {
   "cell_type": "code",
   "execution_count": 171,
   "metadata": {},
   "outputs": [
    {
     "data": {
      "text/plain": [
       "(-0.10698990650000001, 2.2467880365, -0.5169107140000001, 10.855124994)"
      ]
     },
     "execution_count": 171,
     "metadata": {},
     "output_type": "execute_result"
    },
    {
     "data": {
      "image/png": "[encoded data removed]",
      "text/plain": [
       "<matplotlib.figure.Figure at 0x117d51128>"
      ]
     },
     "metadata": {},
     "output_type": "display_data"
    }
   ],
   "source": [
    "plt.figure(figsize=(12, 7))\n",
    "plt.rc('font', family='serif')\n",
    "plt.rc('font', size=20)\n",
    "\n",
    "ind = np.random.randint(inputs_test_2.shape[1])\n",
    "\n",
    "plt.plot(in_test_coord_2[:,ind,0],in_test_coord_2[:,ind,1],c='b')\n",
    "plt.plot(gt_test_coord_2[:,ind,0],gt_test_coord_2[:,ind,1],c='k')\n",
    "plt.plot(output_coord_2[:,ind,0],output_coord_2[:,ind,1],c='r')\n",
    "plt.axis('equal')"
   ]
  },
  {
   "cell_type": "code",
   "execution_count": 172,
   "metadata": {
    "collapsed": true
   },
   "outputs": [],
   "source": [
    "output_coord_3=np.zeros([11,inputs_test_3.shape[2],2])\n",
    "for j in range(11):\n",
    "    for i in range(inputs_test_3.shape[2]):\n",
    "        if j==0:\n",
    "            output_coord_3[j,i,0:2] = in_test_coord_3[9,i,0:2]\n",
    "        else:\n",
    "            output_coord_3[j,i,0:2] = output_coord_3[j-1,i,0:2]+output_test_3[i,j-1,2:]*0.4\n",
    "        "
   ]
  },
  {
   "cell_type": "code",
   "execution_count": 173,
   "metadata": {},
   "outputs": [
    {
     "name": "stdout",
     "output_type": "stream",
     "text": [
      "The final distance between the ground trought and the predicted coordinates is : 3.233\n"
     ]
    }
   ],
   "source": [
    "dist = np.zeros(inputs_test_3.shape[2])\n",
    "for i in range(inputs_test_3.shape[2]):\n",
    "    dist[i] = np.sqrt(sum((gt_test_coord_3[10,i,:]-output_coord_3[10,i,:])**2))\n",
    "\n",
    "final_coord_error = np.mean(dist)\n",
    "print('The final distance between the ground trought and the predicted coordinates is :',final_coord_error.round(3))"
   ]
  },
  {
   "cell_type": "code",
   "execution_count": 174,
   "metadata": {},
   "outputs": [
    {
     "name": "stdout",
     "output_type": "stream",
     "text": [
      "The average error between the ground trought and the predicted coordinates is : 0.482\n"
     ]
    }
   ],
   "source": [
    "avr = np.zeros((inputs_test_3.shape[1],11))\n",
    "for i in range(inputs_test_3.shape[1]):\n",
    "    for j in range(11):\n",
    "        avr[i,j] = np.sqrt(sum((gt_test_coord_3[j,i,:]-output_coord_3[j,i,:])**2))\n",
    "\n",
    "average = np.mean(np.mean(avr,1))\n",
    "print('The average error between the ground trought and the predicted coordinates is :',average.round(3))"
   ]
  },
  {
   "cell_type": "code",
   "execution_count": 175,
   "metadata": {},
   "outputs": [
    {
     "data": {
      "text/plain": [
       "(-0.03802198800000001, 0.798461748, -0.551960922578907, 11.591179374157047)"
      ]
     },
     "execution_count": 175,
     "metadata": {},
     "output_type": "execute_result"
    },
    {
     "data": {
      "image/png": "[encoded data removed]",
      "text/plain": [
       "<matplotlib.figure.Figure at 0x119af27f0>"
      ]
     },
     "metadata": {},
     "output_type": "display_data"
    }
   ],
   "source": [
    "plt.figure(figsize=(12, 7))\n",
    "plt.rc('font', family='serif')\n",
    "plt.rc('font', size=20)\n",
    "\n",
    "ind = np.random.randint(inputs_test_3.shape[0])\n",
    "\n",
    "plt.plot(in_test_coord_3[:,ind,0],in_test_coord_3[:,ind,1],c='b')\n",
    "plt.plot(gt_test_coord_3[:,ind,0],gt_test_coord_3[:,ind,1],c='k')\n",
    "plt.plot(output_coord_3[:,ind,0],output_coord_3[:,ind,1],c='r')\n",
    "plt.axis('equal')"
   ]
  },
  {
   "cell_type": "code",
   "execution_count": 155,
   "metadata": {
    "collapsed": true
   },
   "outputs": [],
   "source": [
    "torch.save(net.state_dict(), '2Loss_3CNN.pt')"
   ]
  },
  {
   "cell_type": "code",
   "execution_count": null,
   "metadata": {
    "collapsed": true
   },
   "outputs": [],
   "source": []
  }
 ],
 "metadata": {
  "kernelspec": {
   "display_name": "Python 3",
   "language": "python",
   "name": "python3"
  },
  "language_info": {
   "codemirror_mode": {
    "name": "ipython",
    "version": 3
   },
   "file_extension": ".py",
   "mimetype": "text/x-python",
   "name": "python",
   "nbconvert_exporter": "python",
   "pygments_lexer": "ipython3",
   "version": "3.6.3"
  }
 },
 "nbformat": 4,
 "nbformat_minor": 2
}
