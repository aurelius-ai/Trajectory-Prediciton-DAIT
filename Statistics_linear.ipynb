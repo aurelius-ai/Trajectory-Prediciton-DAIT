{
 "cells": [
  {
   "cell_type": "code",
   "execution_count": 1,
   "metadata": {},
   "outputs": [],
   "source": [
    "import pandas as pd\n",
    "import numpy as np\n",
    "import matplotlib\n",
    "import matplotlib.pyplot as plt\n",
    "from myclass.Representation import *\n",
    "from myclass.Training import *\n",
    "\n",
    "matplotlib.rcParams['text.usetex'] = True\n",
    "matplotlib.rcParams['text.latex.unicode'] = True\n",
    "\n",
    "# For the notebook\n",
    "%matplotlib inline\n",
    "%reload_ext autoreload\n",
    "%autoreload 2"
   ]
  },
  {
   "cell_type": "code",
   "execution_count": 2,
   "metadata": {
    "scrolled": true
   },
   "outputs": [],
   "source": [
    "biwi = Representation('../data/train/biwi/biwi_hotel.txt',dataset='biwi')\n",
    "crowds1 = Representation('../data/train/crowds/arxiepiskopi1.txt',dataset='cr1')\n",
    "crowds2 = Representation('../data/train/crowds/crowds_zara02.txt',dataset='cr2')\n",
    "crowds3 = Representation('../data/train/crowds/crowds_zara03.txt',dataset='cr3')\n",
    "crowds4 = Representation('../data/train/crowds/students001.txt',dataset='cr4')\n",
    "crowds5 = Representation('../data/train/crowds/students003.txt',dataset='cr5')\n",
    "mot = Representation('../data/train/mot/PETS09-S2L1.txt',dataset='mot')"
   ]
  },
  {
   "cell_type": "code",
   "execution_count": 3,
   "metadata": {},
   "outputs": [],
   "source": [
    "biwi.speed()"
   ]
  },
  {
   "cell_type": "code",
   "execution_count": 4,
   "metadata": {},
   "outputs": [],
   "source": [
    "crowds1.speed()"
   ]
  },
  {
   "cell_type": "code",
   "execution_count": 5,
   "metadata": {},
   "outputs": [],
   "source": [
    "crowds2.speed()"
   ]
  },
  {
   "cell_type": "code",
   "execution_count": 6,
   "metadata": {},
   "outputs": [],
   "source": [
    "crowds3.speed()"
   ]
  },
  {
   "cell_type": "code",
   "execution_count": 7,
   "metadata": {},
   "outputs": [],
   "source": [
    "crowds4.speed()"
   ]
  },
  {
   "cell_type": "code",
   "execution_count": 8,
   "metadata": {},
   "outputs": [],
   "source": [
    "crowds5.speed()"
   ]
  },
  {
   "cell_type": "code",
   "execution_count": 9,
   "metadata": {},
   "outputs": [],
   "source": [
    "mot.speed()"
   ]
  },
  {
   "cell_type": "code",
   "execution_count": null,
   "metadata": {},
   "outputs": [],
   "source": [
    "for i in range(biwi.number_traj):\n",
    "    biwi.trajectoryType2(i)\n",
    "    biwi.trajectoryType(i)\n",
    "    "
   ]
  },
  {
   "cell_type": "code",
   "execution_count": null,
   "metadata": {},
   "outputs": [],
   "source": [
    "for i in range(crowds1.number_traj):\n",
    "    crowds1.trajectoryType2(i)\n",
    "    crowds1.trajectoryType(i)\n",
    "    "
   ]
  },
  {
   "cell_type": "code",
   "execution_count": null,
   "metadata": {},
   "outputs": [],
   "source": [
    "for i in range(crowds2.number_traj):\n",
    "    crowds2.trajectoryType2(i)\n",
    "    crowds2.trajectoryType(i)\n",
    "    "
   ]
  },
  {
   "cell_type": "code",
   "execution_count": null,
   "metadata": {},
   "outputs": [],
   "source": [
    "for i in range(crowds3.number_traj):\n",
    "    crowds3.trajectoryType2(i)\n",
    "    crowds3.trajectoryType(i)\n",
    "    "
   ]
  },
  {
   "cell_type": "code",
   "execution_count": null,
   "metadata": {},
   "outputs": [],
   "source": [
    "for i in range(crowds4.number_traj):\n",
    "    crowds4.trajectoryType2(i)\n",
    "    crowds4.trajectoryType(i)\n",
    "    "
   ]
  },
  {
   "cell_type": "code",
   "execution_count": null,
   "metadata": {},
   "outputs": [],
   "source": [
    "for i in range(crowds5.number_traj):\n",
    "    crowds5.trajectoryType2(i)\n",
    "    crowds5.trajectoryType(i)\n",
    "    "
   ]
  },
  {
   "cell_type": "code",
   "execution_count": null,
   "metadata": {},
   "outputs": [],
   "source": [
    "for i in range(mot.number_traj):\n",
    "    mot.trajectoryType2(i)\n",
    "    mot.trajectoryType(i)"
   ]
  },
  {
   "cell_type": "code",
   "execution_count": null,
   "metadata": {},
   "outputs": [],
   "source": [
    "biwi.writeTxt2()\n",
    "crowds1.writeTxt2()\n",
    "crowds2.writeTxt2()\n",
    "crowds3.writeTxt2()\n",
    "crowds4.writeTxt2()\n",
    "crowds5.writeTxt2()\n",
    "mot.writeTxt2()"
   ]
  },
  {
   "cell_type": "code",
   "execution_count": null,
   "metadata": {},
   "outputs": [],
   "source": [
    "biwi.writeTxt()\n",
    "crowds1.writeTxt()\n",
    "crowds2.writeTxt()\n",
    "crowds3.writeTxt()\n",
    "crowds4.writeTxt()\n",
    "crowds5.writeTxt()\n",
    "mot.writeTxt()"
   ]
  }
 ],
 "metadata": {
  "kernelspec": {
   "display_name": "Python 3",
   "language": "python",
   "name": "python3"
  },
  "language_info": {
   "codemirror_mode": {
    "name": "ipython",
    "version": 3
   },
   "file_extension": ".py",
   "mimetype": "text/x-python",
   "name": "python",
   "nbconvert_exporter": "python",
   "pygments_lexer": "ipython3",
   "version": "3.6.4"
  }
 },
 "nbformat": 4,
 "nbformat_minor": 2
}
